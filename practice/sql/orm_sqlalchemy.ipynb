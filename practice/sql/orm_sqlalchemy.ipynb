{
  "nbformat": 4,
  "nbformat_minor": 0,
  "metadata": {
    "colab": {
      "name": "Python-for-beginner-ORM-SQLAlchemy.ipynb",
      "provenance": [],
      "collapsed_sections": [
        "hCr9QkenLrCc"
      ]
    },
    "kernelspec": {
      "name": "python3",
      "display_name": "Python 3"
    },
    "language_info": {
      "name": "python"
    }
  },
  "cells": [
    {
      "cell_type": "code",
      "metadata": {
        "id": "EfLCpb0USpRf"
      },
      "source": [
        "# PythonのORM SQLAlchemy\n",
        "# SQLAlchemy - PythonのORマッパー\n",
        "# ORマッパー - 異なる枠組みであるDBとPythonのオブジェクトを関連づけるライブラリーのことを　\n",
        "# SQLをクラスとしてを扱えるようにしたもので、SQLをオブジェクト指向で書ける\n",
        "\n",
        "# ORマッパーを使用するメリット\n",
        "# DBの種類に依存せず、DBの種類によらず,同じコードで操作できる\n",
        "# DBを変更する場合にも,コードの書き換えがほとんど必要ない\n",
        "\n",
        "# ORマッパーを使用するデメリット\n",
        "# どのようなSQLが叩かれているのかわかりにくい\n",
        "# セキュリティーや実行速度などを考慮したい場合はしっかり確認する必要がある"
      ],
      "execution_count": 15,
      "outputs": []
    },
    {
      "cell_type": "markdown",
      "source": [
        "# 1, SQLAlchemyの準備"
      ],
      "metadata": {
        "id": "hCr9QkenLrCc"
      }
    },
    {
      "cell_type": "code",
      "source": [
        "!pip3 install sqlalchemy"
      ],
      "metadata": {
        "colab": {
          "base_uri": "https://localhost:8080/"
        },
        "id": "wm4_95EqBRJh",
        "outputId": "a268edab-5695-4a7e-abc9-b1a78e601f7a"
      },
      "execution_count": 1,
      "outputs": [
        {
          "output_type": "stream",
          "name": "stdout",
          "text": [
            "Requirement already satisfied: sqlalchemy in /usr/local/lib/python3.7/dist-packages (1.4.27)\n",
            "Requirement already satisfied: greenlet!=0.4.17 in /usr/local/lib/python3.7/dist-packages (from sqlalchemy) (1.1.2)\n",
            "Requirement already satisfied: importlib-metadata in /usr/local/lib/python3.7/dist-packages (from sqlalchemy) (4.8.2)\n",
            "Requirement already satisfied: typing-extensions>=3.6.4 in /usr/local/lib/python3.7/dist-packages (from importlib-metadata->sqlalchemy) (3.10.0.2)\n",
            "Requirement already satisfied: zipp>=0.5 in /usr/local/lib/python3.7/dist-packages (from importlib-metadata->sqlalchemy) (3.6.0)\n"
          ]
        }
      ]
    },
    {
      "cell_type": "code",
      "source": [
        "from sqlalchemy import create_engine\n",
        "from sqlalchemy.orm import scoped_session,sessionmaker\n",
        "from sqlalchemy.ext.declarative import declarative_base\n",
        "\n",
        "import pandas as pd\n",
        "import os #ファイル操作系のライブラリ"
      ],
      "metadata": {
        "id": "J_6YmUfGBROu"
      },
      "execution_count": 2,
      "outputs": []
    },
    {
      "cell_type": "code",
      "source": [
        "# datebase_file - ファイルの格納先/ファイル名.db\n",
        "# datebase_file = \n",
        "\n",
        "# 今どこのフォルダにあるのか確認する方法\n",
        "# cwd - Current Working Directory(現在の作業directory)\n",
        "# os.getcwd() #結果 - /content\n",
        "\n",
        "# この今あるdirectoryとファイル名を結び付ける\n",
        "# join() - 保存先directoryとファイル名を接続する\n",
        "\n",
        "# ファイルの格納先を作成する\n",
        "# os.path.join(os.getcwd(),\"data.db\")\n",
        "#これで/content/の中にdata.dbが作成された\n",
        "\n",
        "#もっと正確に書くと\n",
        "# abspath - 絶対パスを出力する\n",
        "# 絶対パス - 最上位階層からの位置関係を記述する方式\n",
        "# 相対パス - 現在位置から相対的な位置関係を記述する方式\n",
        "\n",
        "database_file = os.path.join(os.path.abspath(os.getcwd()),\"data.db\")\n",
        "print(database_file)"
      ],
      "metadata": {
        "colab": {
          "base_uri": "https://localhost:8080/"
        },
        "id": "KLKxYFQBBRRC",
        "outputId": "159b7324-ee73-41dd-c5be-2c4d386222f5"
      },
      "execution_count": 3,
      "outputs": [
        {
          "output_type": "stream",
          "name": "stdout",
          "text": [
            "/content/data.db\n"
          ]
        }
      ]
    },
    {
      "cell_type": "code",
      "source": [
        "# エンジンをセットする必要がある\n",
        "# echo=True - コードを叩いたときに中身を出力するかどうか意味する\n",
        "# \"sqlite:///\" + database_file, convert_unicode=True, echo=True - ここら辺はあまり気にしなくていい\n",
        "engine = create_engine(\"sqlite:///\" + database_file, convert_unicode=True, echo=True)\n",
        "# engine - どのDBにどうやって接続するのか、設定を行い、その設定内容を保存したもの\n",
        "\n",
        "#sqlite3を使用する(設定する必要がある)"
      ],
      "metadata": {
        "colab": {
          "base_uri": "https://localhost:8080/"
        },
        "id": "xMNBwz8_BRS4",
        "outputId": "59dd9887-ddc8-4baa-fabc-8b605f3c325b"
      },
      "execution_count": 4,
      "outputs": [
        {
          "output_type": "stream",
          "name": "stderr",
          "text": [
            "/usr/local/lib/python3.7/dist-packages/ipykernel_launcher.py:4: SADeprecationWarning: The create_engine.convert_unicode parameter and corresponding dialect-level parameters are deprecated, and will be removed in a future release.  Modern DBAPIs support Python Unicode natively and this parameter is unnecessary.\n",
            "  after removing the cwd from sys.path.\n"
          ]
        }
      ]
    },
    {
      "cell_type": "code",
      "source": [
        "# データベースの中にテーブルを作成する \n",
        "# 必要なライブラリを読み込む\n",
        "from sqlalchemy import Column, Integer, Float"
      ],
      "metadata": {
        "id": "ms4p4Ri3BRYl"
      },
      "execution_count": 5,
      "outputs": []
    },
    {
      "cell_type": "code",
      "source": [
        "# dbセッションを作る必要がある\n",
        "# sqlarchemyはsessionを通じて,query(処理)要求を実行する\n",
        "# session = DBとつながり確立してから,切断するまでの一連の流れ\n",
        "\n",
        "# autocommit = False - commitを自動で行うかどうか\n",
        "# autoflush = False - flushを自動で行うかどうか\n",
        "# bind -　どのデータベースを結び付けるか\n",
        "\n",
        "db_session = scoped_session(\n",
        "    sessionmaker(\n",
        "        autocommit = False,\n",
        "        autoflush = False,\n",
        "        bind = engine\n",
        "    )\n",
        ")"
      ],
      "metadata": {
        "id": "k0JVmuk-BRUr"
      },
      "execution_count": 6,
      "outputs": []
    },
    {
      "cell_type": "code",
      "source": [
        "# データベース中身を生成\n",
        "# データベースの中身を生成するにあたり,データベースを作成する\n",
        "Base = declarative_base() #元となるデータベース基盤\n",
        "\n",
        "# Base.query = db_session.query_property() - きまり（あまり気にしなくていい）\n",
        "Base.query = db_session.query_property()"
      ],
      "metadata": {
        "id": "8A1Gs-YcBRWh"
      },
      "execution_count": 7,
      "outputs": []
    },
    {
      "cell_type": "code",
      "source": [
        "#テーブル定義\n",
        "\n",
        "#baseを継承している,元となるデータベースを引き継いでいる\n",
        "class Wine(Base):\n",
        "    __tablename__ = \"wine_class\" # __tablename__ - table名\n",
        "    id = Column(Integer,primary_key=True) #カラムの情報を定義する,Columnのidは整数型,primary_key、主キー = DBのテーブル内でレコード(行)を一意から識別することができるように指定するもの\n",
        "    wine_class = Column(Integer,unique = False)\n",
        "    alcohol = Column(Float,unique = False)\n",
        "    ash = Column(Float,unique = False)\n",
        "    hue = Column(Float,unique = False)\n",
        "    proline = Column(Integer,unique = False)\n",
        "\n",
        "    # init関数\n",
        "    # def __init__(self,wine_class=None,ash=None,hue=None,proline=None):\n",
        "    # 引数 - wine_class=None,ash=None,hue=None,proline=None) \n",
        "    # self.wine_class = wine_classはproperty(wine_class = Column(integer,unique = False))\n",
        "\n",
        "    def __init__(self,wine_class=None,alcohol=None,ash=None,hue=None,proline=None): #wine_class=None - 初期値とする, idはsqlarchemy側で勝手に設定してくれるため引数に追加しなくていい\n",
        "        self.wine_class = wine_class #クラスの中のinit関数は基本的にself.にする\n",
        "        self.alcohol=alcohol\n",
        "        self.ash=ash\n",
        "        self.hue=hue\n",
        "        self.proline=proline\n",
        "\n",
        "# ここまででテーブル定義"
      ],
      "metadata": {
        "id": "u84vfILsBmRg"
      },
      "execution_count": 8,
      "outputs": []
    },
    {
      "cell_type": "code",
      "source": [
        "# metadata - データベースのさまざまな情報を保持しているオブジェクト(物体)のことを指す\n",
        "Base.metadata.create_all(bind=engine)\n",
        "# これでこれか空のデータベースが作成された\n",
        "\n",
        "# 結果\n",
        "# CREATE TABLE wine_class (\n",
        "# \tid INTEGER NOT NULL, \n",
        "# \twine_class INTEGER, \n",
        "# \talcohol FLOAT, \n",
        "# \tash FLOAT, \n",
        "# \thue FLOAT, \n",
        "# \tproline INTEGER, \n",
        "# \tPRIMARY KEY (id)\n",
        "# )"
      ],
      "metadata": {
        "colab": {
          "base_uri": "https://localhost:8080/"
        },
        "id": "Li46jHZSKtQf",
        "outputId": "53c2ce7d-0c20-4f94-e466-c955e3594efb"
      },
      "execution_count": 9,
      "outputs": [
        {
          "output_type": "stream",
          "name": "stdout",
          "text": [
            "2022-01-10 04:49:40,097 INFO sqlalchemy.engine.Engine BEGIN (implicit)\n",
            "2022-01-10 04:49:40,104 INFO sqlalchemy.engine.Engine PRAGMA main.table_info(\"wine_class\")\n",
            "2022-01-10 04:49:40,105 INFO sqlalchemy.engine.Engine [raw sql] ()\n",
            "2022-01-10 04:49:40,108 INFO sqlalchemy.engine.Engine PRAGMA temp.table_info(\"wine_class\")\n",
            "2022-01-10 04:49:40,110 INFO sqlalchemy.engine.Engine [raw sql] ()\n",
            "2022-01-10 04:49:40,116 INFO sqlalchemy.engine.Engine \n",
            "CREATE TABLE wine_class (\n",
            "\tid INTEGER NOT NULL, \n",
            "\twine_class INTEGER, \n",
            "\talcohol FLOAT, \n",
            "\tash FLOAT, \n",
            "\thue FLOAT, \n",
            "\tproline INTEGER, \n",
            "\tPRIMARY KEY (id)\n",
            ")\n",
            "\n",
            "\n",
            "2022-01-10 04:49:40,117 INFO sqlalchemy.engine.Engine [no key 0.00189s] ()\n",
            "2022-01-10 04:49:40,136 INFO sqlalchemy.engine.Engine COMMIT\n"
          ]
        }
      ]
    },
    {
      "cell_type": "code",
      "source": [
        "# ここからはcsvを入れるためのコードを作成　\n",
        "# csvを読み込む\n",
        "wine_df = pd.read_csv(\"/content/wine_class.csv\")\n",
        "wine_df"
      ],
      "metadata": {
        "colab": {
          "base_uri": "https://localhost:8080/",
          "height": 423
        },
        "id": "vJoZcT1IBqMJ",
        "outputId": "cc4ce603-9cae-490d-b8a8-e58ce8de98bc"
      },
      "execution_count": 10,
      "outputs": [
        {
          "output_type": "execute_result",
          "data": {
            "text/html": [
              "\n",
              "  <div id=\"df-fc202fbb-de6b-4b38-8485-2f7f5f7fc0a8\">\n",
              "    <div class=\"colab-df-container\">\n",
              "      <div>\n",
              "<style scoped>\n",
              "    .dataframe tbody tr th:only-of-type {\n",
              "        vertical-align: middle;\n",
              "    }\n",
              "\n",
              "    .dataframe tbody tr th {\n",
              "        vertical-align: top;\n",
              "    }\n",
              "\n",
              "    .dataframe thead th {\n",
              "        text-align: right;\n",
              "    }\n",
              "</style>\n",
              "<table border=\"1\" class=\"dataframe\">\n",
              "  <thead>\n",
              "    <tr style=\"text-align: right;\">\n",
              "      <th></th>\n",
              "      <th>Class</th>\n",
              "      <th>Alcohol</th>\n",
              "      <th>Ash</th>\n",
              "      <th>Hue</th>\n",
              "      <th>Proline</th>\n",
              "    </tr>\n",
              "  </thead>\n",
              "  <tbody>\n",
              "    <tr>\n",
              "      <th>0</th>\n",
              "      <td>1</td>\n",
              "      <td>14.23</td>\n",
              "      <td>2.43</td>\n",
              "      <td>1.04</td>\n",
              "      <td>1065</td>\n",
              "    </tr>\n",
              "    <tr>\n",
              "      <th>1</th>\n",
              "      <td>1</td>\n",
              "      <td>13.20</td>\n",
              "      <td>2.14</td>\n",
              "      <td>1.05</td>\n",
              "      <td>1050</td>\n",
              "    </tr>\n",
              "    <tr>\n",
              "      <th>2</th>\n",
              "      <td>1</td>\n",
              "      <td>13.16</td>\n",
              "      <td>2.67</td>\n",
              "      <td>1.03</td>\n",
              "      <td>1185</td>\n",
              "    </tr>\n",
              "    <tr>\n",
              "      <th>3</th>\n",
              "      <td>1</td>\n",
              "      <td>14.37</td>\n",
              "      <td>2.50</td>\n",
              "      <td>0.86</td>\n",
              "      <td>1480</td>\n",
              "    </tr>\n",
              "    <tr>\n",
              "      <th>4</th>\n",
              "      <td>1</td>\n",
              "      <td>13.24</td>\n",
              "      <td>2.87</td>\n",
              "      <td>1.04</td>\n",
              "      <td>735</td>\n",
              "    </tr>\n",
              "    <tr>\n",
              "      <th>...</th>\n",
              "      <td>...</td>\n",
              "      <td>...</td>\n",
              "      <td>...</td>\n",
              "      <td>...</td>\n",
              "      <td>...</td>\n",
              "    </tr>\n",
              "    <tr>\n",
              "      <th>173</th>\n",
              "      <td>3</td>\n",
              "      <td>13.71</td>\n",
              "      <td>2.45</td>\n",
              "      <td>0.64</td>\n",
              "      <td>740</td>\n",
              "    </tr>\n",
              "    <tr>\n",
              "      <th>174</th>\n",
              "      <td>3</td>\n",
              "      <td>13.40</td>\n",
              "      <td>2.48</td>\n",
              "      <td>0.70</td>\n",
              "      <td>750</td>\n",
              "    </tr>\n",
              "    <tr>\n",
              "      <th>175</th>\n",
              "      <td>3</td>\n",
              "      <td>13.27</td>\n",
              "      <td>2.26</td>\n",
              "      <td>0.59</td>\n",
              "      <td>835</td>\n",
              "    </tr>\n",
              "    <tr>\n",
              "      <th>176</th>\n",
              "      <td>3</td>\n",
              "      <td>13.17</td>\n",
              "      <td>2.37</td>\n",
              "      <td>0.60</td>\n",
              "      <td>840</td>\n",
              "    </tr>\n",
              "    <tr>\n",
              "      <th>177</th>\n",
              "      <td>3</td>\n",
              "      <td>14.13</td>\n",
              "      <td>2.74</td>\n",
              "      <td>0.61</td>\n",
              "      <td>560</td>\n",
              "    </tr>\n",
              "  </tbody>\n",
              "</table>\n",
              "<p>178 rows × 5 columns</p>\n",
              "</div>\n",
              "      <button class=\"colab-df-convert\" onclick=\"convertToInteractive('df-fc202fbb-de6b-4b38-8485-2f7f5f7fc0a8')\"\n",
              "              title=\"Convert this dataframe to an interactive table.\"\n",
              "              style=\"display:none;\">\n",
              "        \n",
              "  <svg xmlns=\"http://www.w3.org/2000/svg\" height=\"24px\"viewBox=\"0 0 24 24\"\n",
              "       width=\"24px\">\n",
              "    <path d=\"M0 0h24v24H0V0z\" fill=\"none\"/>\n",
              "    <path d=\"M18.56 5.44l.94 2.06.94-2.06 2.06-.94-2.06-.94-.94-2.06-.94 2.06-2.06.94zm-11 1L8.5 8.5l.94-2.06 2.06-.94-2.06-.94L8.5 2.5l-.94 2.06-2.06.94zm10 10l.94 2.06.94-2.06 2.06-.94-2.06-.94-.94-2.06-.94 2.06-2.06.94z\"/><path d=\"M17.41 7.96l-1.37-1.37c-.4-.4-.92-.59-1.43-.59-.52 0-1.04.2-1.43.59L10.3 9.45l-7.72 7.72c-.78.78-.78 2.05 0 2.83L4 21.41c.39.39.9.59 1.41.59.51 0 1.02-.2 1.41-.59l7.78-7.78 2.81-2.81c.8-.78.8-2.07 0-2.86zM5.41 20L4 18.59l7.72-7.72 1.47 1.35L5.41 20z\"/>\n",
              "  </svg>\n",
              "      </button>\n",
              "      \n",
              "  <style>\n",
              "    .colab-df-container {\n",
              "      display:flex;\n",
              "      flex-wrap:wrap;\n",
              "      gap: 12px;\n",
              "    }\n",
              "\n",
              "    .colab-df-convert {\n",
              "      background-color: #E8F0FE;\n",
              "      border: none;\n",
              "      border-radius: 50%;\n",
              "      cursor: pointer;\n",
              "      display: none;\n",
              "      fill: #1967D2;\n",
              "      height: 32px;\n",
              "      padding: 0 0 0 0;\n",
              "      width: 32px;\n",
              "    }\n",
              "\n",
              "    .colab-df-convert:hover {\n",
              "      background-color: #E2EBFA;\n",
              "      box-shadow: 0px 1px 2px rgba(60, 64, 67, 0.3), 0px 1px 3px 1px rgba(60, 64, 67, 0.15);\n",
              "      fill: #174EA6;\n",
              "    }\n",
              "\n",
              "    [theme=dark] .colab-df-convert {\n",
              "      background-color: #3B4455;\n",
              "      fill: #D2E3FC;\n",
              "    }\n",
              "\n",
              "    [theme=dark] .colab-df-convert:hover {\n",
              "      background-color: #434B5C;\n",
              "      box-shadow: 0px 1px 3px 1px rgba(0, 0, 0, 0.15);\n",
              "      filter: drop-shadow(0px 1px 2px rgba(0, 0, 0, 0.3));\n",
              "      fill: #FFFFFF;\n",
              "    }\n",
              "  </style>\n",
              "\n",
              "      <script>\n",
              "        const buttonEl =\n",
              "          document.querySelector('#df-fc202fbb-de6b-4b38-8485-2f7f5f7fc0a8 button.colab-df-convert');\n",
              "        buttonEl.style.display =\n",
              "          google.colab.kernel.accessAllowed ? 'block' : 'none';\n",
              "\n",
              "        async function convertToInteractive(key) {\n",
              "          const element = document.querySelector('#df-fc202fbb-de6b-4b38-8485-2f7f5f7fc0a8');\n",
              "          const dataTable =\n",
              "            await google.colab.kernel.invokeFunction('convertToInteractive',\n",
              "                                                     [key], {});\n",
              "          if (!dataTable) return;\n",
              "\n",
              "          const docLinkHtml = 'Like what you see? Visit the ' +\n",
              "            '<a target=\"_blank\" href=https://colab.research.google.com/notebooks/data_table.ipynb>data table notebook</a>'\n",
              "            + ' to learn more about interactive tables.';\n",
              "          element.innerHTML = '';\n",
              "          dataTable['output_type'] = 'display_data';\n",
              "          await google.colab.output.renderOutput(dataTable, element);\n",
              "          const docLink = document.createElement('div');\n",
              "          docLink.innerHTML = docLinkHtml;\n",
              "          element.appendChild(docLink);\n",
              "        }\n",
              "      </script>\n",
              "    </div>\n",
              "  </div>\n",
              "  "
            ],
            "text/plain": [
              "     Class  Alcohol   Ash   Hue  Proline\n",
              "0        1    14.23  2.43  1.04     1065\n",
              "1        1    13.20  2.14  1.05     1050\n",
              "2        1    13.16  2.67  1.03     1185\n",
              "3        1    14.37  2.50  0.86     1480\n",
              "4        1    13.24  2.87  1.04      735\n",
              "..     ...      ...   ...   ...      ...\n",
              "173      3    13.71  2.45  0.64      740\n",
              "174      3    13.40  2.48  0.70      750\n",
              "175      3    13.27  2.26  0.59      835\n",
              "176      3    13.17  2.37  0.60      840\n",
              "177      3    14.13  2.74  0.61      560\n",
              "\n",
              "[178 rows x 5 columns]"
            ]
          },
          "metadata": {},
          "execution_count": 10
        }
      ]
    },
    {
      "cell_type": "code",
      "source": [
        "# ここからデータベースにデータを追加していく\n",
        "# まとめて追加は不可能のなのでfor文で,1行づつとってきて追加する必要がある\n",
        "# iterrows() - 1行(columns)づつデータを取得する\n",
        "\n",
        "# for index, _df in wine_df.iterrows():\n",
        "#     print(_df)\n",
        "#     break #１つだけ出力する\n",
        "\n",
        "#1つづつデータベースに格納する\n",
        "def read_data():\n",
        "    wine_df = pd.read_csv(\"/content/wine_class.csv\")\n",
        "\n",
        "    for index, _df in wine_df.iterrows():\n",
        "        row = Wine(wine_class = _df[\"Class\"],alcohol=_df[\"Alcohol\"],ash=_df[\"Ash\"],hue=_df[\"Hue\"],proline=_df[\"Proline\"]) #インスタンス化する - これで1行分のデータが入ることになった\n",
        "        db_session.add(row) #インスタンス化された1行分のデータを追加する\n",
        "    # commitをしないと反映されないので絶対セットする, commit = データを反映する\n",
        "    db_session.commit()\n",
        "# これで終わり\n",
        "\n",
        "# 読み込む - wine_df = pd.read_csv(\"/content/wine_class.csv\") \n",
        "# 1行づつ取り row = Wine(wine_class = _df[\"Class\"],alcohol=_df[\"Alcohol\"],ash=_df[\"Ash\"],hue=_df[\"Hue\"],proline=_df[\"Proline\"]) #インスタンス化する - これで1行分のデータが入ることになった\n",
        "# 追加する   db_session.add(row) #インスタンス化された1行分のデータを追加する\n",
        "# 反映 db_session.commit()\n",
        "\n",
        "# wine()で下が呼び出させれる\n",
        "# def __init__(self,wine_class=None,ash=None,hue=None,proline=None): #wine_class=None - 初期値とする, idはsqlarchemy側で勝手に設定してくれるため引数に追加しなくていい\n",
        "#         self.wine_class = wine_class #クラスの中のinit関数は基本的にself.にする\n",
        "#         self.alcohol=alcohol\n",
        "#         self.ash=ash\n",
        "#         self.hue=hue\n",
        "#         self.proline=proline\n",
        "    "
      ],
      "metadata": {
        "id": "cuTt5uDJCCoJ"
      },
      "execution_count": 11,
      "outputs": []
    },
    {
      "cell_type": "code",
      "source": [
        "read_data()\n",
        "# ここまでがデータベースを準備する過程\n",
        "# これでテーブル\bは作成され,csvファイルも格納された"
      ],
      "metadata": {
        "colab": {
          "base_uri": "https://localhost:8080/"
        },
        "id": "ifI-gcz5I-Mr",
        "outputId": "2ac1dc91-403f-427f-875e-04d940024f3a"
      },
      "execution_count": 12,
      "outputs": [
        {
          "output_type": "stream",
          "name": "stdout",
          "text": [
            "2022-01-10 04:49:43,616 INFO sqlalchemy.engine.Engine BEGIN (implicit)\n",
            "2022-01-10 04:49:43,625 INFO sqlalchemy.engine.Engine INSERT INTO wine_class (wine_class, alcohol, ash, hue, proline) VALUES (?, ?, ?, ?, ?)\n",
            "2022-01-10 04:49:43,627 INFO sqlalchemy.engine.Engine [generated in 0.00189s] (1.0, 14.23, 2.43, 1.04, 1065.0)\n",
            "2022-01-10 04:49:43,630 INFO sqlalchemy.engine.Engine INSERT INTO wine_class (wine_class, alcohol, ash, hue, proline) VALUES (?, ?, ?, ?, ?)\n",
            "2022-01-10 04:49:43,632 INFO sqlalchemy.engine.Engine [cached since 0.006903s ago] (1.0, 13.2, 2.14, 1.05, 1050.0)\n",
            "2022-01-10 04:49:43,634 INFO sqlalchemy.engine.Engine INSERT INTO wine_class (wine_class, alcohol, ash, hue, proline) VALUES (?, ?, ?, ?, ?)\n",
            "2022-01-10 04:49:43,636 INFO sqlalchemy.engine.Engine [cached since 0.0112s ago] (1.0, 13.16, 2.67, 1.03, 1185.0)\n",
            "2022-01-10 04:49:43,638 INFO sqlalchemy.engine.Engine INSERT INTO wine_class (wine_class, alcohol, ash, hue, proline) VALUES (?, ?, ?, ?, ?)\n",
            "2022-01-10 04:49:43,640 INFO sqlalchemy.engine.Engine [cached since 0.01549s ago] (1.0, 14.37, 2.5, 0.86, 1480.0)\n",
            "2022-01-10 04:49:43,642 INFO sqlalchemy.engine.Engine INSERT INTO wine_class (wine_class, alcohol, ash, hue, proline) VALUES (?, ?, ?, ?, ?)\n",
            "2022-01-10 04:49:43,643 INFO sqlalchemy.engine.Engine [cached since 0.01797s ago] (1.0, 13.24, 2.87, 1.04, 735.0)\n",
            "2022-01-10 04:49:43,644 INFO sqlalchemy.engine.Engine INSERT INTO wine_class (wine_class, alcohol, ash, hue, proline) VALUES (?, ?, ?, ?, ?)\n",
            "2022-01-10 04:49:43,645 INFO sqlalchemy.engine.Engine [cached since 0.02052s ago] (1.0, 14.2, 2.45, 1.05, 1450.0)\n",
            "2022-01-10 04:49:43,647 INFO sqlalchemy.engine.Engine INSERT INTO wine_class (wine_class, alcohol, ash, hue, proline) VALUES (?, ?, ?, ?, ?)\n",
            "2022-01-10 04:49:43,648 INFO sqlalchemy.engine.Engine [cached since 0.02305s ago] (1.0, 14.39, 2.45, 1.02, 1290.0)\n",
            "2022-01-10 04:49:43,649 INFO sqlalchemy.engine.Engine INSERT INTO wine_class (wine_class, alcohol, ash, hue, proline) VALUES (?, ?, ?, ?, ?)\n",
            "2022-01-10 04:49:43,650 INFO sqlalchemy.engine.Engine [cached since 0.02556s ago] (1.0, 14.06, 2.61, 1.06, 1295.0)\n",
            "2022-01-10 04:49:43,652 INFO sqlalchemy.engine.Engine INSERT INTO wine_class (wine_class, alcohol, ash, hue, proline) VALUES (?, ?, ?, ?, ?)\n",
            "2022-01-10 04:49:43,653 INFO sqlalchemy.engine.Engine [cached since 0.02804s ago] (1.0, 14.83, 2.17, 1.08, 1045.0)\n",
            "2022-01-10 04:49:43,654 INFO sqlalchemy.engine.Engine INSERT INTO wine_class (wine_class, alcohol, ash, hue, proline) VALUES (?, ?, ?, ?, ?)\n",
            "2022-01-10 04:49:43,655 INFO sqlalchemy.engine.Engine [cached since 0.03057s ago] (1.0, 13.86, 2.27, 1.01, 1045.0)\n",
            "2022-01-10 04:49:43,657 INFO sqlalchemy.engine.Engine INSERT INTO wine_class (wine_class, alcohol, ash, hue, proline) VALUES (?, ?, ?, ?, ?)\n",
            "2022-01-10 04:49:43,658 INFO sqlalchemy.engine.Engine [cached since 0.03313s ago] (1.0, 14.1, 2.3, 1.25, 1510.0)\n",
            "2022-01-10 04:49:43,659 INFO sqlalchemy.engine.Engine INSERT INTO wine_class (wine_class, alcohol, ash, hue, proline) VALUES (?, ?, ?, ?, ?)\n",
            "2022-01-10 04:49:43,661 INFO sqlalchemy.engine.Engine [cached since 0.03572s ago] (1.0, 14.12, 2.32, 1.17, 1280.0)\n",
            "2022-01-10 04:49:43,662 INFO sqlalchemy.engine.Engine INSERT INTO wine_class (wine_class, alcohol, ash, hue, proline) VALUES (?, ?, ?, ?, ?)\n",
            "2022-01-10 04:49:43,663 INFO sqlalchemy.engine.Engine [cached since 0.03853s ago] (1.0, 13.75, 2.41, 1.15, 1320.0)\n",
            "2022-01-10 04:49:43,665 INFO sqlalchemy.engine.Engine INSERT INTO wine_class (wine_class, alcohol, ash, hue, proline) VALUES (?, ?, ?, ?, ?)\n",
            "2022-01-10 04:49:43,666 INFO sqlalchemy.engine.Engine [cached since 0.04101s ago] (1.0, 14.75, 2.39, 1.25, 1150.0)\n",
            "2022-01-10 04:49:43,667 INFO sqlalchemy.engine.Engine INSERT INTO wine_class (wine_class, alcohol, ash, hue, proline) VALUES (?, ?, ?, ?, ?)\n",
            "2022-01-10 04:49:43,668 INFO sqlalchemy.engine.Engine [cached since 0.04354s ago] (1.0, 14.38, 2.38, 1.2, 1547.0)\n",
            "2022-01-10 04:49:43,670 INFO sqlalchemy.engine.Engine INSERT INTO wine_class (wine_class, alcohol, ash, hue, proline) VALUES (?, ?, ?, ?, ?)\n",
            "2022-01-10 04:49:43,671 INFO sqlalchemy.engine.Engine [cached since 0.04597s ago] (1.0, 13.63, 2.7, 1.28, 1310.0)\n",
            "2022-01-10 04:49:43,672 INFO sqlalchemy.engine.Engine INSERT INTO wine_class (wine_class, alcohol, ash, hue, proline) VALUES (?, ?, ?, ?, ?)\n",
            "2022-01-10 04:49:43,673 INFO sqlalchemy.engine.Engine [cached since 0.04845s ago] (1.0, 14.3, 2.72, 1.07, 1280.0)\n",
            "2022-01-10 04:49:43,675 INFO sqlalchemy.engine.Engine INSERT INTO wine_class (wine_class, alcohol, ash, hue, proline) VALUES (?, ?, ?, ?, ?)\n",
            "2022-01-10 04:49:43,676 INFO sqlalchemy.engine.Engine [cached since 0.05101s ago] (1.0, 13.83, 2.62, 1.13, 1130.0)\n",
            "2022-01-10 04:49:43,677 INFO sqlalchemy.engine.Engine INSERT INTO wine_class (wine_class, alcohol, ash, hue, proline) VALUES (?, ?, ?, ?, ?)\n",
            "2022-01-10 04:49:43,678 INFO sqlalchemy.engine.Engine [cached since 0.05352s ago] (1.0, 14.19, 2.48, 1.23, 1680.0)\n",
            "2022-01-10 04:49:43,680 INFO sqlalchemy.engine.Engine INSERT INTO wine_class (wine_class, alcohol, ash, hue, proline) VALUES (?, ?, ?, ?, ?)\n",
            "2022-01-10 04:49:43,681 INFO sqlalchemy.engine.Engine [cached since 0.05606s ago] (1.0, 13.64, 2.56, 0.96, 845.0)\n",
            "2022-01-10 04:49:43,682 INFO sqlalchemy.engine.Engine INSERT INTO wine_class (wine_class, alcohol, ash, hue, proline) VALUES (?, ?, ?, ?, ?)\n",
            "2022-01-10 04:49:43,683 INFO sqlalchemy.engine.Engine [cached since 0.05851s ago] (1.0, 14.06, 2.28, 1.09, 780.0)\n",
            "2022-01-10 04:49:43,685 INFO sqlalchemy.engine.Engine INSERT INTO wine_class (wine_class, alcohol, ash, hue, proline) VALUES (?, ?, ?, ?, ?)\n",
            "2022-01-10 04:49:43,686 INFO sqlalchemy.engine.Engine [cached since 0.06101s ago] (1.0, 12.93, 2.65, 1.03, 770.0)\n",
            "2022-01-10 04:49:43,687 INFO sqlalchemy.engine.Engine INSERT INTO wine_class (wine_class, alcohol, ash, hue, proline) VALUES (?, ?, ?, ?, ?)\n",
            "2022-01-10 04:49:43,688 INFO sqlalchemy.engine.Engine [cached since 0.06359s ago] (1.0, 13.71, 2.36, 1.11, 1035.0)\n",
            "2022-01-10 04:49:43,690 INFO sqlalchemy.engine.Engine INSERT INTO wine_class (wine_class, alcohol, ash, hue, proline) VALUES (?, ?, ?, ?, ?)\n",
            "2022-01-10 04:49:43,691 INFO sqlalchemy.engine.Engine [cached since 0.06603s ago] (1.0, 12.85, 2.52, 1.09, 1015.0)\n",
            "2022-01-10 04:49:43,692 INFO sqlalchemy.engine.Engine INSERT INTO wine_class (wine_class, alcohol, ash, hue, proline) VALUES (?, ?, ?, ?, ?)\n",
            "2022-01-10 04:49:43,693 INFO sqlalchemy.engine.Engine [cached since 0.06853s ago] (1.0, 13.5, 2.61, 1.12, 845.0)\n",
            "2022-01-10 04:49:43,695 INFO sqlalchemy.engine.Engine INSERT INTO wine_class (wine_class, alcohol, ash, hue, proline) VALUES (?, ?, ?, ?, ?)\n",
            "2022-01-10 04:49:43,696 INFO sqlalchemy.engine.Engine [cached since 0.07096s ago] (1.0, 13.05, 3.22, 1.13, 830.0)\n",
            "2022-01-10 04:49:43,697 INFO sqlalchemy.engine.Engine INSERT INTO wine_class (wine_class, alcohol, ash, hue, proline) VALUES (?, ?, ?, ?, ?)\n",
            "2022-01-10 04:49:43,698 INFO sqlalchemy.engine.Engine [cached since 0.07356s ago] (1.0, 13.39, 2.62, 0.92, 1195.0)\n",
            "2022-01-10 04:49:43,700 INFO sqlalchemy.engine.Engine INSERT INTO wine_class (wine_class, alcohol, ash, hue, proline) VALUES (?, ?, ?, ?, ?)\n",
            "2022-01-10 04:49:43,701 INFO sqlalchemy.engine.Engine [cached since 0.07607s ago] (1.0, 13.3, 2.14, 1.02, 1285.0)\n",
            "2022-01-10 04:49:43,702 INFO sqlalchemy.engine.Engine INSERT INTO wine_class (wine_class, alcohol, ash, hue, proline) VALUES (?, ?, ?, ?, ?)\n",
            "2022-01-10 04:49:43,703 INFO sqlalchemy.engine.Engine [cached since 0.07859s ago] (1.0, 13.87, 2.8, 1.25, 915.0)\n",
            "2022-01-10 04:49:43,705 INFO sqlalchemy.engine.Engine INSERT INTO wine_class (wine_class, alcohol, ash, hue, proline) VALUES (?, ?, ?, ?, ?)\n",
            "2022-01-10 04:49:43,706 INFO sqlalchemy.engine.Engine [cached since 0.08102s ago] (1.0, 14.02, 2.21, 1.04, 1035.0)\n",
            "2022-01-10 04:49:43,707 INFO sqlalchemy.engine.Engine INSERT INTO wine_class (wine_class, alcohol, ash, hue, proline) VALUES (?, ?, ?, ?, ?)\n",
            "2022-01-10 04:49:43,708 INFO sqlalchemy.engine.Engine [cached since 0.08347s ago] (1.0, 13.73, 2.7, 1.19, 1285.0)\n",
            "2022-01-10 04:49:43,710 INFO sqlalchemy.engine.Engine INSERT INTO wine_class (wine_class, alcohol, ash, hue, proline) VALUES (?, ?, ?, ?, ?)\n",
            "2022-01-10 04:49:43,711 INFO sqlalchemy.engine.Engine [cached since 0.08591s ago] (1.0, 13.58, 2.36, 1.09, 1515.0)\n",
            "2022-01-10 04:49:43,712 INFO sqlalchemy.engine.Engine INSERT INTO wine_class (wine_class, alcohol, ash, hue, proline) VALUES (?, ?, ?, ?, ?)\n",
            "2022-01-10 04:49:43,713 INFO sqlalchemy.engine.Engine [cached since 0.08845s ago] (1.0, 13.68, 2.36, 1.23, 990.0)\n",
            "2022-01-10 04:49:43,715 INFO sqlalchemy.engine.Engine INSERT INTO wine_class (wine_class, alcohol, ash, hue, proline) VALUES (?, ?, ?, ?, ?)\n",
            "2022-01-10 04:49:43,716 INFO sqlalchemy.engine.Engine [cached since 0.09088s ago] (1.0, 13.76, 2.7, 1.25, 1235.0)\n",
            "2022-01-10 04:49:43,717 INFO sqlalchemy.engine.Engine INSERT INTO wine_class (wine_class, alcohol, ash, hue, proline) VALUES (?, ?, ?, ?, ?)\n",
            "2022-01-10 04:49:43,718 INFO sqlalchemy.engine.Engine [cached since 0.09342s ago] (1.0, 13.51, 2.65, 1.1, 1095.0)\n",
            "2022-01-10 04:49:43,720 INFO sqlalchemy.engine.Engine INSERT INTO wine_class (wine_class, alcohol, ash, hue, proline) VALUES (?, ?, ?, ?, ?)\n",
            "2022-01-10 04:49:43,721 INFO sqlalchemy.engine.Engine [cached since 0.09587s ago] (1.0, 13.48, 2.41, 1.04, 920.0)\n",
            "2022-01-10 04:49:43,722 INFO sqlalchemy.engine.Engine INSERT INTO wine_class (wine_class, alcohol, ash, hue, proline) VALUES (?, ?, ?, ?, ?)\n",
            "2022-01-10 04:49:43,723 INFO sqlalchemy.engine.Engine [cached since 0.0983s ago] (1.0, 13.28, 2.84, 1.09, 880.0)\n",
            "2022-01-10 04:49:43,724 INFO sqlalchemy.engine.Engine INSERT INTO wine_class (wine_class, alcohol, ash, hue, proline) VALUES (?, ?, ?, ?, ?)\n",
            "2022-01-10 04:49:43,726 INFO sqlalchemy.engine.Engine [cached since 0.1008s ago] (1.0, 13.05, 2.55, 1.12, 1105.0)\n",
            "2022-01-10 04:49:43,727 INFO sqlalchemy.engine.Engine INSERT INTO wine_class (wine_class, alcohol, ash, hue, proline) VALUES (?, ?, ?, ?, ?)\n",
            "2022-01-10 04:49:43,728 INFO sqlalchemy.engine.Engine [cached since 0.1032s ago] (1.0, 13.07, 2.1, 1.18, 1020.0)\n",
            "2022-01-10 04:49:43,729 INFO sqlalchemy.engine.Engine INSERT INTO wine_class (wine_class, alcohol, ash, hue, proline) VALUES (?, ?, ?, ?, ?)\n",
            "2022-01-10 04:49:43,730 INFO sqlalchemy.engine.Engine [cached since 0.1056s ago] (1.0, 14.22, 2.51, 0.89, 760.0)\n",
            "2022-01-10 04:49:43,732 INFO sqlalchemy.engine.Engine INSERT INTO wine_class (wine_class, alcohol, ash, hue, proline) VALUES (?, ?, ?, ?, ?)\n",
            "2022-01-10 04:49:43,733 INFO sqlalchemy.engine.Engine [cached since 0.1081s ago] (1.0, 13.56, 2.31, 0.95, 795.0)\n",
            "2022-01-10 04:49:43,734 INFO sqlalchemy.engine.Engine INSERT INTO wine_class (wine_class, alcohol, ash, hue, proline) VALUES (?, ?, ?, ?, ?)\n",
            "2022-01-10 04:49:43,735 INFO sqlalchemy.engine.Engine [cached since 0.1106s ago] (1.0, 13.41, 2.12, 0.91, 1035.0)\n",
            "2022-01-10 04:49:43,737 INFO sqlalchemy.engine.Engine INSERT INTO wine_class (wine_class, alcohol, ash, hue, proline) VALUES (?, ?, ?, ?, ?)\n",
            "2022-01-10 04:49:43,738 INFO sqlalchemy.engine.Engine [cached since 0.113s ago] (1.0, 13.88, 2.59, 0.88, 1095.0)\n",
            "2022-01-10 04:49:43,739 INFO sqlalchemy.engine.Engine INSERT INTO wine_class (wine_class, alcohol, ash, hue, proline) VALUES (?, ?, ?, ?, ?)\n",
            "2022-01-10 04:49:43,740 INFO sqlalchemy.engine.Engine [cached since 0.1156s ago] (1.0, 13.24, 2.29, 0.82, 680.0)\n",
            "2022-01-10 04:49:43,742 INFO sqlalchemy.engine.Engine INSERT INTO wine_class (wine_class, alcohol, ash, hue, proline) VALUES (?, ?, ?, ?, ?)\n",
            "2022-01-10 04:49:43,743 INFO sqlalchemy.engine.Engine [cached since 0.1183s ago] (1.0, 13.05, 2.1, 0.88, 885.0)\n",
            "2022-01-10 04:49:43,744 INFO sqlalchemy.engine.Engine INSERT INTO wine_class (wine_class, alcohol, ash, hue, proline) VALUES (?, ?, ?, ?, ?)\n",
            "2022-01-10 04:49:43,745 INFO sqlalchemy.engine.Engine [cached since 0.1206s ago] (1.0, 14.21, 2.44, 0.87, 1080.0)\n",
            "2022-01-10 04:49:43,747 INFO sqlalchemy.engine.Engine INSERT INTO wine_class (wine_class, alcohol, ash, hue, proline) VALUES (?, ?, ?, ?, ?)\n",
            "2022-01-10 04:49:43,748 INFO sqlalchemy.engine.Engine [cached since 0.1231s ago] (1.0, 14.38, 2.28, 1.04, 1065.0)\n",
            "2022-01-10 04:49:43,749 INFO sqlalchemy.engine.Engine INSERT INTO wine_class (wine_class, alcohol, ash, hue, proline) VALUES (?, ?, ?, ?, ?)\n",
            "2022-01-10 04:49:43,750 INFO sqlalchemy.engine.Engine [cached since 0.1255s ago] (1.0, 13.9, 2.12, 0.91, 985.0)\n",
            "2022-01-10 04:49:43,752 INFO sqlalchemy.engine.Engine INSERT INTO wine_class (wine_class, alcohol, ash, hue, proline) VALUES (?, ?, ?, ?, ?)\n",
            "2022-01-10 04:49:43,753 INFO sqlalchemy.engine.Engine [cached since 0.1279s ago] (1.0, 14.1, 2.4, 1.07, 1060.0)\n",
            "2022-01-10 04:49:43,754 INFO sqlalchemy.engine.Engine INSERT INTO wine_class (wine_class, alcohol, ash, hue, proline) VALUES (?, ?, ?, ?, ?)\n",
            "2022-01-10 04:49:43,755 INFO sqlalchemy.engine.Engine [cached since 0.1304s ago] (1.0, 13.94, 2.27, 1.12, 1260.0)\n",
            "2022-01-10 04:49:43,757 INFO sqlalchemy.engine.Engine INSERT INTO wine_class (wine_class, alcohol, ash, hue, proline) VALUES (?, ?, ?, ?, ?)\n",
            "2022-01-10 04:49:43,758 INFO sqlalchemy.engine.Engine [cached since 0.1329s ago] (1.0, 13.05, 2.04, 1.12, 1150.0)\n",
            "2022-01-10 04:49:43,759 INFO sqlalchemy.engine.Engine INSERT INTO wine_class (wine_class, alcohol, ash, hue, proline) VALUES (?, ?, ?, ?, ?)\n",
            "2022-01-10 04:49:43,760 INFO sqlalchemy.engine.Engine [cached since 0.1354s ago] (1.0, 13.83, 2.6, 1.24, 1265.0)\n",
            "2022-01-10 04:49:43,761 INFO sqlalchemy.engine.Engine INSERT INTO wine_class (wine_class, alcohol, ash, hue, proline) VALUES (?, ?, ?, ?, ?)\n",
            "2022-01-10 04:49:43,763 INFO sqlalchemy.engine.Engine [cached since 0.1378s ago] (1.0, 13.82, 2.42, 1.01, 1190.0)\n",
            "2022-01-10 04:49:43,764 INFO sqlalchemy.engine.Engine INSERT INTO wine_class (wine_class, alcohol, ash, hue, proline) VALUES (?, ?, ?, ?, ?)\n",
            "2022-01-10 04:49:43,765 INFO sqlalchemy.engine.Engine [cached since 0.1403s ago] (1.0, 13.77, 2.68, 1.13, 1375.0)\n",
            "2022-01-10 04:49:43,767 INFO sqlalchemy.engine.Engine INSERT INTO wine_class (wine_class, alcohol, ash, hue, proline) VALUES (?, ?, ?, ?, ?)\n",
            "2022-01-10 04:49:43,768 INFO sqlalchemy.engine.Engine [cached since 0.1429s ago] (1.0, 13.74, 2.25, 0.92, 1060.0)\n",
            "2022-01-10 04:49:43,769 INFO sqlalchemy.engine.Engine INSERT INTO wine_class (wine_class, alcohol, ash, hue, proline) VALUES (?, ?, ?, ?, ?)\n",
            "2022-01-10 04:49:43,770 INFO sqlalchemy.engine.Engine [cached since 0.1455s ago] (1.0, 13.56, 2.46, 0.98, 1120.0)\n",
            "2022-01-10 04:49:43,772 INFO sqlalchemy.engine.Engine INSERT INTO wine_class (wine_class, alcohol, ash, hue, proline) VALUES (?, ?, ?, ?, ?)\n",
            "2022-01-10 04:49:43,773 INFO sqlalchemy.engine.Engine [cached since 0.1485s ago] (1.0, 14.22, 2.3, 0.94, 970.0)\n",
            "2022-01-10 04:49:43,775 INFO sqlalchemy.engine.Engine INSERT INTO wine_class (wine_class, alcohol, ash, hue, proline) VALUES (?, ?, ?, ?, ?)\n",
            "2022-01-10 04:49:43,777 INFO sqlalchemy.engine.Engine [cached since 0.1519s ago] (1.0, 13.29, 2.68, 1.07, 1270.0)\n",
            "2022-01-10 04:49:43,779 INFO sqlalchemy.engine.Engine INSERT INTO wine_class (wine_class, alcohol, ash, hue, proline) VALUES (?, ?, ?, ?, ?)\n",
            "2022-01-10 04:49:43,780 INFO sqlalchemy.engine.Engine [cached since 0.155s ago] (1.0, 13.72, 2.5, 0.89, 1285.0)\n",
            "2022-01-10 04:49:43,782 INFO sqlalchemy.engine.Engine INSERT INTO wine_class (wine_class, alcohol, ash, hue, proline) VALUES (?, ?, ?, ?, ?)\n",
            "2022-01-10 04:49:43,783 INFO sqlalchemy.engine.Engine [cached since 0.158s ago] (2.0, 12.37, 1.36, 1.05, 520.0)\n",
            "2022-01-10 04:49:43,785 INFO sqlalchemy.engine.Engine INSERT INTO wine_class (wine_class, alcohol, ash, hue, proline) VALUES (?, ?, ?, ?, ?)\n",
            "2022-01-10 04:49:43,787 INFO sqlalchemy.engine.Engine [cached since 0.1619s ago] (2.0, 12.33, 2.28, 1.25, 680.0)\n",
            "2022-01-10 04:49:43,789 INFO sqlalchemy.engine.Engine INSERT INTO wine_class (wine_class, alcohol, ash, hue, proline) VALUES (?, ?, ?, ?, ?)\n",
            "2022-01-10 04:49:43,790 INFO sqlalchemy.engine.Engine [cached since 0.1653s ago] (2.0, 12.64, 2.02, 0.98, 450.0)\n",
            "2022-01-10 04:49:43,800 INFO sqlalchemy.engine.Engine INSERT INTO wine_class (wine_class, alcohol, ash, hue, proline) VALUES (?, ?, ?, ?, ?)\n",
            "2022-01-10 04:49:43,803 INFO sqlalchemy.engine.Engine [cached since 0.1784s ago] (2.0, 13.67, 1.92, 1.23, 630.0)\n",
            "2022-01-10 04:49:43,807 INFO sqlalchemy.engine.Engine INSERT INTO wine_class (wine_class, alcohol, ash, hue, proline) VALUES (?, ?, ?, ?, ?)\n",
            "2022-01-10 04:49:43,809 INFO sqlalchemy.engine.Engine [cached since 0.1842s ago] (2.0, 12.37, 2.16, 1.22, 420.0)\n",
            "2022-01-10 04:49:43,812 INFO sqlalchemy.engine.Engine INSERT INTO wine_class (wine_class, alcohol, ash, hue, proline) VALUES (?, ?, ?, ?, ?)\n",
            "2022-01-10 04:49:43,814 INFO sqlalchemy.engine.Engine [cached since 0.1893s ago] (2.0, 12.17, 2.53, 1.45, 355.0)\n",
            "2022-01-10 04:49:43,819 INFO sqlalchemy.engine.Engine INSERT INTO wine_class (wine_class, alcohol, ash, hue, proline) VALUES (?, ?, ?, ?, ?)\n",
            "2022-01-10 04:49:43,820 INFO sqlalchemy.engine.Engine [cached since 0.1956s ago] (2.0, 12.37, 2.56, 1.19, 678.0)\n",
            "2022-01-10 04:49:43,824 INFO sqlalchemy.engine.Engine INSERT INTO wine_class (wine_class, alcohol, ash, hue, proline) VALUES (?, ?, ?, ?, ?)\n",
            "2022-01-10 04:49:43,828 INFO sqlalchemy.engine.Engine [cached since 0.203s ago] (2.0, 13.11, 1.7, 1.12, 502.0)\n",
            "2022-01-10 04:49:43,830 INFO sqlalchemy.engine.Engine INSERT INTO wine_class (wine_class, alcohol, ash, hue, proline) VALUES (?, ?, ?, ?, ?)\n",
            "2022-01-10 04:49:43,832 INFO sqlalchemy.engine.Engine [cached since 0.2074s ago] (2.0, 12.37, 1.92, 1.12, 510.0)\n",
            "2022-01-10 04:49:43,835 INFO sqlalchemy.engine.Engine INSERT INTO wine_class (wine_class, alcohol, ash, hue, proline) VALUES (?, ?, ?, ?, ?)\n",
            "2022-01-10 04:49:43,838 INFO sqlalchemy.engine.Engine [cached since 0.2132s ago] (2.0, 13.34, 2.36, 1.02, 750.0)\n",
            "2022-01-10 04:49:43,842 INFO sqlalchemy.engine.Engine INSERT INTO wine_class (wine_class, alcohol, ash, hue, proline) VALUES (?, ?, ?, ?, ?)\n",
            "2022-01-10 04:49:43,844 INFO sqlalchemy.engine.Engine [cached since 0.2193s ago] (2.0, 12.21, 1.75, 1.28, 718.0)\n",
            "2022-01-10 04:49:43,847 INFO sqlalchemy.engine.Engine INSERT INTO wine_class (wine_class, alcohol, ash, hue, proline) VALUES (?, ?, ?, ?, ?)\n",
            "2022-01-10 04:49:43,849 INFO sqlalchemy.engine.Engine [cached since 0.2244s ago] (2.0, 12.29, 2.21, 0.9059999999999999, 870.0)\n",
            "2022-01-10 04:49:43,856 INFO sqlalchemy.engine.Engine INSERT INTO wine_class (wine_class, alcohol, ash, hue, proline) VALUES (?, ?, ?, ?, ?)\n",
            "2022-01-10 04:49:43,860 INFO sqlalchemy.engine.Engine [cached since 0.2353s ago] (2.0, 13.86, 2.67, 1.36, 410.0)\n",
            "2022-01-10 04:49:43,865 INFO sqlalchemy.engine.Engine INSERT INTO wine_class (wine_class, alcohol, ash, hue, proline) VALUES (?, ?, ?, ?, ?)\n",
            "2022-01-10 04:49:43,867 INFO sqlalchemy.engine.Engine [cached since 0.242s ago] (2.0, 13.49, 2.24, 0.98, 472.0)\n",
            "2022-01-10 04:49:43,869 INFO sqlalchemy.engine.Engine INSERT INTO wine_class (wine_class, alcohol, ash, hue, proline) VALUES (?, ?, ?, ?, ?)\n",
            "2022-01-10 04:49:43,870 INFO sqlalchemy.engine.Engine [cached since 0.2456s ago] (2.0, 12.99, 2.6, 1.31, 985.0)\n",
            "2022-01-10 04:49:43,875 INFO sqlalchemy.engine.Engine INSERT INTO wine_class (wine_class, alcohol, ash, hue, proline) VALUES (?, ?, ?, ?, ?)\n",
            "2022-01-10 04:49:43,876 INFO sqlalchemy.engine.Engine [cached since 0.2514s ago] (2.0, 11.96, 2.3, 0.99, 886.0)\n",
            "2022-01-10 04:49:43,879 INFO sqlalchemy.engine.Engine INSERT INTO wine_class (wine_class, alcohol, ash, hue, proline) VALUES (?, ?, ?, ?, ?)\n",
            "2022-01-10 04:49:43,880 INFO sqlalchemy.engine.Engine [cached since 0.2554s ago] (2.0, 11.66, 1.92, 1.23, 428.0)\n",
            "2022-01-10 04:49:43,882 INFO sqlalchemy.engine.Engine INSERT INTO wine_class (wine_class, alcohol, ash, hue, proline) VALUES (?, ?, ?, ?, ?)\n",
            "2022-01-10 04:49:43,884 INFO sqlalchemy.engine.Engine [cached since 0.259s ago] (2.0, 13.03, 1.71, 1.19, 392.0)\n",
            "2022-01-10 04:49:43,886 INFO sqlalchemy.engine.Engine INSERT INTO wine_class (wine_class, alcohol, ash, hue, proline) VALUES (?, ?, ?, ?, ?)\n",
            "2022-01-10 04:49:43,888 INFO sqlalchemy.engine.Engine [cached since 0.2633s ago] (2.0, 11.84, 2.23, 0.96, 500.0)\n",
            "2022-01-10 04:49:43,890 INFO sqlalchemy.engine.Engine INSERT INTO wine_class (wine_class, alcohol, ash, hue, proline) VALUES (?, ?, ?, ?, ?)\n",
            "2022-01-10 04:49:43,894 INFO sqlalchemy.engine.Engine [cached since 0.2688s ago] (2.0, 12.33, 1.95, 1.06, 750.0)\n",
            "2022-01-10 04:49:43,896 INFO sqlalchemy.engine.Engine INSERT INTO wine_class (wine_class, alcohol, ash, hue, proline) VALUES (?, ?, ?, ?, ?)\n",
            "2022-01-10 04:49:43,898 INFO sqlalchemy.engine.Engine [cached since 0.273s ago] (2.0, 12.7, 2.4, 1.19, 463.0)\n",
            "2022-01-10 04:49:43,900 INFO sqlalchemy.engine.Engine INSERT INTO wine_class (wine_class, alcohol, ash, hue, proline) VALUES (?, ?, ?, ?, ?)\n",
            "2022-01-10 04:49:43,902 INFO sqlalchemy.engine.Engine [cached since 0.2773s ago] (2.0, 12.0, 2.0, 1.38, 278.0)\n",
            "2022-01-10 04:49:43,905 INFO sqlalchemy.engine.Engine INSERT INTO wine_class (wine_class, alcohol, ash, hue, proline) VALUES (?, ?, ?, ?, ?)\n",
            "2022-01-10 04:49:43,907 INFO sqlalchemy.engine.Engine [cached since 0.2821s ago] (2.0, 12.72, 2.2, 1.16, 714.0)\n",
            "2022-01-10 04:49:43,911 INFO sqlalchemy.engine.Engine INSERT INTO wine_class (wine_class, alcohol, ash, hue, proline) VALUES (?, ?, ?, ?, ?)\n",
            "2022-01-10 04:49:43,913 INFO sqlalchemy.engine.Engine [cached since 0.2885s ago] (2.0, 12.08, 2.51, 1.31, 630.0)\n",
            "2022-01-10 04:49:43,916 INFO sqlalchemy.engine.Engine INSERT INTO wine_class (wine_class, alcohol, ash, hue, proline) VALUES (?, ?, ?, ?, ?)\n",
            "2022-01-10 04:49:43,917 INFO sqlalchemy.engine.Engine [cached since 0.2926s ago] (2.0, 13.05, 2.32, 0.84, 515.0)\n",
            "2022-01-10 04:49:43,919 INFO sqlalchemy.engine.Engine INSERT INTO wine_class (wine_class, alcohol, ash, hue, proline) VALUES (?, ?, ?, ?, ?)\n",
            "2022-01-10 04:49:43,921 INFO sqlalchemy.engine.Engine [cached since 0.2959s ago] (2.0, 11.84, 2.58, 0.79, 520.0)\n",
            "2022-01-10 04:49:43,923 INFO sqlalchemy.engine.Engine INSERT INTO wine_class (wine_class, alcohol, ash, hue, proline) VALUES (?, ?, ?, ?, ?)\n",
            "2022-01-10 04:49:43,924 INFO sqlalchemy.engine.Engine [cached since 0.2994s ago] (2.0, 12.67, 2.24, 1.23, 450.0)\n",
            "2022-01-10 04:49:43,926 INFO sqlalchemy.engine.Engine INSERT INTO wine_class (wine_class, alcohol, ash, hue, proline) VALUES (?, ?, ?, ?, ?)\n",
            "2022-01-10 04:49:43,928 INFO sqlalchemy.engine.Engine [cached since 0.3029s ago] (2.0, 12.16, 2.31, 1.33, 495.0)\n",
            "2022-01-10 04:49:43,930 INFO sqlalchemy.engine.Engine INSERT INTO wine_class (wine_class, alcohol, ash, hue, proline) VALUES (?, ?, ?, ?, ?)\n",
            "2022-01-10 04:49:43,931 INFO sqlalchemy.engine.Engine [cached since 0.3065s ago] (2.0, 11.65, 2.62, 1.36, 562.0)\n",
            "2022-01-10 04:49:43,934 INFO sqlalchemy.engine.Engine INSERT INTO wine_class (wine_class, alcohol, ash, hue, proline) VALUES (?, ?, ?, ?, ?)\n",
            "2022-01-10 04:49:43,935 INFO sqlalchemy.engine.Engine [cached since 0.3104s ago] (2.0, 11.64, 2.46, 1.0, 680.0)\n",
            "2022-01-10 04:49:43,938 INFO sqlalchemy.engine.Engine INSERT INTO wine_class (wine_class, alcohol, ash, hue, proline) VALUES (?, ?, ?, ?, ?)\n",
            "2022-01-10 04:49:43,939 INFO sqlalchemy.engine.Engine [cached since 0.3146s ago] (2.0, 12.08, 2.3, 1.07, 625.0)\n",
            "2022-01-10 04:49:43,942 INFO sqlalchemy.engine.Engine INSERT INTO wine_class (wine_class, alcohol, ash, hue, proline) VALUES (?, ?, ?, ?, ?)\n",
            "2022-01-10 04:49:43,944 INFO sqlalchemy.engine.Engine [cached since 0.3188s ago] (2.0, 12.08, 2.32, 1.08, 480.0)\n",
            "2022-01-10 04:49:43,946 INFO sqlalchemy.engine.Engine INSERT INTO wine_class (wine_class, alcohol, ash, hue, proline) VALUES (?, ?, ?, ?, ?)\n",
            "2022-01-10 04:49:43,947 INFO sqlalchemy.engine.Engine [cached since 0.3225s ago] (2.0, 12.0, 2.42, 1.05, 450.0)\n",
            "2022-01-10 04:49:43,952 INFO sqlalchemy.engine.Engine INSERT INTO wine_class (wine_class, alcohol, ash, hue, proline) VALUES (?, ?, ?, ?, ?)\n",
            "2022-01-10 04:49:43,954 INFO sqlalchemy.engine.Engine [cached since 0.3296s ago] (2.0, 12.69, 2.26, 0.96, 495.0)\n",
            "2022-01-10 04:49:43,958 INFO sqlalchemy.engine.Engine INSERT INTO wine_class (wine_class, alcohol, ash, hue, proline) VALUES (?, ?, ?, ?, ?)\n",
            "2022-01-10 04:49:43,959 INFO sqlalchemy.engine.Engine [cached since 0.3343s ago] (2.0, 12.29, 2.22, 1.15, 290.0)\n",
            "2022-01-10 04:49:43,963 INFO sqlalchemy.engine.Engine INSERT INTO wine_class (wine_class, alcohol, ash, hue, proline) VALUES (?, ?, ?, ?, ?)\n",
            "2022-01-10 04:49:43,964 INFO sqlalchemy.engine.Engine [cached since 0.3394s ago] (2.0, 11.62, 2.28, 1.16, 345.0)\n",
            "2022-01-10 04:49:43,967 INFO sqlalchemy.engine.Engine INSERT INTO wine_class (wine_class, alcohol, ash, hue, proline) VALUES (?, ?, ?, ?, ?)\n",
            "2022-01-10 04:49:43,969 INFO sqlalchemy.engine.Engine [cached since 0.3438s ago] (2.0, 12.47, 2.2, 1.16, 937.0)\n",
            "2022-01-10 04:49:43,971 INFO sqlalchemy.engine.Engine INSERT INTO wine_class (wine_class, alcohol, ash, hue, proline) VALUES (?, ?, ?, ?, ?)\n",
            "2022-01-10 04:49:43,973 INFO sqlalchemy.engine.Engine [cached since 0.3478s ago] (2.0, 11.81, 2.74, 0.95, 625.0)\n",
            "2022-01-10 04:49:43,975 INFO sqlalchemy.engine.Engine INSERT INTO wine_class (wine_class, alcohol, ash, hue, proline) VALUES (?, ?, ?, ?, ?)\n",
            "2022-01-10 04:49:43,976 INFO sqlalchemy.engine.Engine [cached since 0.3515s ago] (2.0, 12.29, 1.98, 1.23, 428.0)\n",
            "2022-01-10 04:49:43,979 INFO sqlalchemy.engine.Engine INSERT INTO wine_class (wine_class, alcohol, ash, hue, proline) VALUES (?, ?, ?, ?, ?)\n",
            "2022-01-10 04:49:43,980 INFO sqlalchemy.engine.Engine [cached since 0.3552s ago] (2.0, 12.37, 2.1, 1.04, 660.0)\n",
            "2022-01-10 04:49:43,982 INFO sqlalchemy.engine.Engine INSERT INTO wine_class (wine_class, alcohol, ash, hue, proline) VALUES (?, ?, ?, ?, ?)\n",
            "2022-01-10 04:49:43,984 INFO sqlalchemy.engine.Engine [cached since 0.359s ago] (2.0, 12.29, 2.21, 1.42, 406.0)\n",
            "2022-01-10 04:49:43,986 INFO sqlalchemy.engine.Engine INSERT INTO wine_class (wine_class, alcohol, ash, hue, proline) VALUES (?, ?, ?, ?, ?)\n",
            "2022-01-10 04:49:43,988 INFO sqlalchemy.engine.Engine [cached since 0.3627s ago] (2.0, 12.08, 1.7, 1.27, 710.0)\n",
            "2022-01-10 04:49:43,990 INFO sqlalchemy.engine.Engine INSERT INTO wine_class (wine_class, alcohol, ash, hue, proline) VALUES (?, ?, ?, ?, ?)\n",
            "2022-01-10 04:49:43,991 INFO sqlalchemy.engine.Engine [cached since 0.3664s ago] (2.0, 12.6, 1.9, 1.04, 562.0)\n",
            "2022-01-10 04:49:43,993 INFO sqlalchemy.engine.Engine INSERT INTO wine_class (wine_class, alcohol, ash, hue, proline) VALUES (?, ?, ?, ?, ?)\n",
            "2022-01-10 04:49:43,995 INFO sqlalchemy.engine.Engine [cached since 0.3698s ago] (2.0, 12.34, 2.46, 0.8, 438.0)\n",
            "2022-01-10 04:49:43,996 INFO sqlalchemy.engine.Engine INSERT INTO wine_class (wine_class, alcohol, ash, hue, proline) VALUES (?, ?, ?, ?, ?)\n",
            "2022-01-10 04:49:43,998 INFO sqlalchemy.engine.Engine [cached since 0.373s ago] (2.0, 11.82, 1.88, 0.94, 415.0)\n",
            "2022-01-10 04:49:44,000 INFO sqlalchemy.engine.Engine INSERT INTO wine_class (wine_class, alcohol, ash, hue, proline) VALUES (?, ?, ?, ?, ?)\n",
            "2022-01-10 04:49:44,002 INFO sqlalchemy.engine.Engine [cached since 0.3766s ago] (2.0, 12.51, 1.98, 1.04, 672.0)\n",
            "2022-01-10 04:49:44,003 INFO sqlalchemy.engine.Engine INSERT INTO wine_class (wine_class, alcohol, ash, hue, proline) VALUES (?, ?, ?, ?, ?)\n",
            "2022-01-10 04:49:44,005 INFO sqlalchemy.engine.Engine [cached since 0.3799s ago] (2.0, 12.42, 2.27, 0.86, 315.0)\n",
            "2022-01-10 04:49:44,007 INFO sqlalchemy.engine.Engine INSERT INTO wine_class (wine_class, alcohol, ash, hue, proline) VALUES (?, ?, ?, ?, ?)\n",
            "2022-01-10 04:49:44,008 INFO sqlalchemy.engine.Engine [cached since 0.3833s ago] (2.0, 12.25, 2.12, 1.0, 510.0)\n",
            "2022-01-10 04:49:44,010 INFO sqlalchemy.engine.Engine INSERT INTO wine_class (wine_class, alcohol, ash, hue, proline) VALUES (?, ?, ?, ?, ?)\n",
            "2022-01-10 04:49:44,011 INFO sqlalchemy.engine.Engine [cached since 0.3866s ago] (2.0, 12.72, 2.28, 0.88, 488.0)\n",
            "2022-01-10 04:49:44,014 INFO sqlalchemy.engine.Engine INSERT INTO wine_class (wine_class, alcohol, ash, hue, proline) VALUES (?, ?, ?, ?, ?)\n",
            "2022-01-10 04:49:44,015 INFO sqlalchemy.engine.Engine [cached since 0.3902s ago] (2.0, 12.22, 1.94, 0.86, 312.0)\n",
            "2022-01-10 04:49:44,018 INFO sqlalchemy.engine.Engine INSERT INTO wine_class (wine_class, alcohol, ash, hue, proline) VALUES (?, ?, ?, ?, ?)\n",
            "2022-01-10 04:49:44,020 INFO sqlalchemy.engine.Engine [cached since 0.3949s ago] (2.0, 11.61, 2.7, 0.96, 680.0)\n",
            "2022-01-10 04:49:44,022 INFO sqlalchemy.engine.Engine INSERT INTO wine_class (wine_class, alcohol, ash, hue, proline) VALUES (?, ?, ?, ?, ?)\n",
            "2022-01-10 04:49:44,024 INFO sqlalchemy.engine.Engine [cached since 0.3989s ago] (2.0, 11.46, 1.82, 0.75, 562.0)\n",
            "2022-01-10 04:49:44,027 INFO sqlalchemy.engine.Engine INSERT INTO wine_class (wine_class, alcohol, ash, hue, proline) VALUES (?, ?, ?, ?, ?)\n",
            "2022-01-10 04:49:44,029 INFO sqlalchemy.engine.Engine [cached since 0.4037s ago] (2.0, 12.52, 2.17, 0.9, 325.0)\n",
            "2022-01-10 04:49:44,032 INFO sqlalchemy.engine.Engine INSERT INTO wine_class (wine_class, alcohol, ash, hue, proline) VALUES (?, ?, ?, ?, ?)\n",
            "2022-01-10 04:49:44,034 INFO sqlalchemy.engine.Engine [cached since 0.4086s ago] (2.0, 11.76, 2.92, 1.23, 607.0)\n",
            "2022-01-10 04:49:44,036 INFO sqlalchemy.engine.Engine INSERT INTO wine_class (wine_class, alcohol, ash, hue, proline) VALUES (?, ?, ?, ?, ?)\n",
            "2022-01-10 04:49:44,038 INFO sqlalchemy.engine.Engine [cached since 0.4132s ago] (2.0, 11.41, 2.5, 1.1, 434.0)\n",
            "2022-01-10 04:49:44,040 INFO sqlalchemy.engine.Engine INSERT INTO wine_class (wine_class, alcohol, ash, hue, proline) VALUES (?, ?, ?, ?, ?)\n",
            "2022-01-10 04:49:44,042 INFO sqlalchemy.engine.Engine [cached since 0.4171s ago] (2.0, 12.08, 2.5, 0.93, 385.0)\n",
            "2022-01-10 04:49:44,044 INFO sqlalchemy.engine.Engine INSERT INTO wine_class (wine_class, alcohol, ash, hue, proline) VALUES (?, ?, ?, ?, ?)\n",
            "2022-01-10 04:49:44,046 INFO sqlalchemy.engine.Engine [cached since 0.4209s ago] (2.0, 11.03, 2.2, 1.71, 407.0)\n",
            "2022-01-10 04:49:44,048 INFO sqlalchemy.engine.Engine INSERT INTO wine_class (wine_class, alcohol, ash, hue, proline) VALUES (?, ?, ?, ?, ?)\n",
            "2022-01-10 04:49:44,049 INFO sqlalchemy.engine.Engine [cached since 0.4245s ago] (2.0, 11.82, 1.99, 0.95, 495.0)\n",
            "2022-01-10 04:49:44,051 INFO sqlalchemy.engine.Engine INSERT INTO wine_class (wine_class, alcohol, ash, hue, proline) VALUES (?, ?, ?, ?, ?)\n",
            "2022-01-10 04:49:44,053 INFO sqlalchemy.engine.Engine [cached since 0.4279s ago] (2.0, 12.42, 2.19, 1.06, 345.0)\n",
            "2022-01-10 04:49:44,055 INFO sqlalchemy.engine.Engine INSERT INTO wine_class (wine_class, alcohol, ash, hue, proline) VALUES (?, ?, ?, ?, ?)\n",
            "2022-01-10 04:49:44,056 INFO sqlalchemy.engine.Engine [cached since 0.4312s ago] (2.0, 12.77, 1.98, 0.7, 372.0)\n",
            "2022-01-10 04:49:44,058 INFO sqlalchemy.engine.Engine INSERT INTO wine_class (wine_class, alcohol, ash, hue, proline) VALUES (?, ?, ?, ?, ?)\n",
            "2022-01-10 04:49:44,059 INFO sqlalchemy.engine.Engine [cached since 0.4344s ago] (2.0, 12.0, 2.0, 0.93, 564.0)\n",
            "2022-01-10 04:49:44,061 INFO sqlalchemy.engine.Engine INSERT INTO wine_class (wine_class, alcohol, ash, hue, proline) VALUES (?, ?, ?, ?, ?)\n",
            "2022-01-10 04:49:44,062 INFO sqlalchemy.engine.Engine [cached since 0.4376s ago] (2.0, 11.45, 2.42, 0.8, 625.0)\n",
            "2022-01-10 04:49:44,064 INFO sqlalchemy.engine.Engine INSERT INTO wine_class (wine_class, alcohol, ash, hue, proline) VALUES (?, ?, ?, ?, ?)\n",
            "2022-01-10 04:49:44,066 INFO sqlalchemy.engine.Engine [cached since 0.4407s ago] (2.0, 11.56, 3.23, 0.93, 465.0)\n",
            "2022-01-10 04:49:44,067 INFO sqlalchemy.engine.Engine INSERT INTO wine_class (wine_class, alcohol, ash, hue, proline) VALUES (?, ?, ?, ?, ?)\n",
            "2022-01-10 04:49:44,069 INFO sqlalchemy.engine.Engine [cached since 0.444s ago] (2.0, 12.42, 2.73, 0.92, 365.0)\n",
            "2022-01-10 04:49:44,071 INFO sqlalchemy.engine.Engine INSERT INTO wine_class (wine_class, alcohol, ash, hue, proline) VALUES (?, ?, ?, ?, ?)\n",
            "2022-01-10 04:49:44,072 INFO sqlalchemy.engine.Engine [cached since 0.4472s ago] (2.0, 13.05, 2.13, 0.73, 380.0)\n",
            "2022-01-10 04:49:44,074 INFO sqlalchemy.engine.Engine INSERT INTO wine_class (wine_class, alcohol, ash, hue, proline) VALUES (?, ?, ?, ?, ?)\n",
            "2022-01-10 04:49:44,075 INFO sqlalchemy.engine.Engine [cached since 0.4503s ago] (2.0, 11.87, 2.39, 0.75, 380.0)\n",
            "2022-01-10 04:49:44,077 INFO sqlalchemy.engine.Engine INSERT INTO wine_class (wine_class, alcohol, ash, hue, proline) VALUES (?, ?, ?, ?, ?)\n",
            "2022-01-10 04:49:44,079 INFO sqlalchemy.engine.Engine [cached since 0.4537s ago] (2.0, 12.07, 2.17, 0.86, 378.0)\n",
            "2022-01-10 04:49:44,081 INFO sqlalchemy.engine.Engine INSERT INTO wine_class (wine_class, alcohol, ash, hue, proline) VALUES (?, ?, ?, ?, ?)\n",
            "2022-01-10 04:49:44,082 INFO sqlalchemy.engine.Engine [cached since 0.4572s ago] (2.0, 12.43, 2.29, 0.69, 352.0)\n",
            "2022-01-10 04:49:44,084 INFO sqlalchemy.engine.Engine INSERT INTO wine_class (wine_class, alcohol, ash, hue, proline) VALUES (?, ?, ?, ?, ?)\n",
            "2022-01-10 04:49:44,086 INFO sqlalchemy.engine.Engine [cached since 0.4609s ago] (2.0, 11.79, 2.78, 0.97, 466.0)\n",
            "2022-01-10 04:49:44,088 INFO sqlalchemy.engine.Engine INSERT INTO wine_class (wine_class, alcohol, ash, hue, proline) VALUES (?, ?, ?, ?, ?)\n",
            "2022-01-10 04:49:44,096 INFO sqlalchemy.engine.Engine [cached since 0.4712s ago] (2.0, 12.37, 2.3, 0.89, 342.0)\n",
            "2022-01-10 04:49:44,099 INFO sqlalchemy.engine.Engine INSERT INTO wine_class (wine_class, alcohol, ash, hue, proline) VALUES (?, ?, ?, ?, ?)\n",
            "2022-01-10 04:49:44,101 INFO sqlalchemy.engine.Engine [cached since 0.4764s ago] (2.0, 12.04, 2.38, 0.79, 580.0)\n",
            "2022-01-10 04:49:44,104 INFO sqlalchemy.engine.Engine INSERT INTO wine_class (wine_class, alcohol, ash, hue, proline) VALUES (?, ?, ?, ?, ?)\n",
            "2022-01-10 04:49:44,107 INFO sqlalchemy.engine.Engine [cached since 0.4817s ago] (3.0, 12.86, 2.32, 0.76, 630.0)\n",
            "2022-01-10 04:49:44,109 INFO sqlalchemy.engine.Engine INSERT INTO wine_class (wine_class, alcohol, ash, hue, proline) VALUES (?, ?, ?, ?, ?)\n",
            "2022-01-10 04:49:44,112 INFO sqlalchemy.engine.Engine [cached since 0.4868s ago] (3.0, 12.88, 2.4, 0.74, 530.0)\n",
            "2022-01-10 04:49:44,114 INFO sqlalchemy.engine.Engine INSERT INTO wine_class (wine_class, alcohol, ash, hue, proline) VALUES (?, ?, ?, ?, ?)\n",
            "2022-01-10 04:49:44,116 INFO sqlalchemy.engine.Engine [cached since 0.491s ago] (3.0, 12.81, 2.4, 0.66, 560.0)\n",
            "2022-01-10 04:49:44,121 INFO sqlalchemy.engine.Engine INSERT INTO wine_class (wine_class, alcohol, ash, hue, proline) VALUES (?, ?, ?, ?, ?)\n",
            "2022-01-10 04:49:44,134 INFO sqlalchemy.engine.Engine [cached since 0.5089s ago] (3.0, 12.7, 2.36, 0.78, 600.0)\n",
            "2022-01-10 04:49:44,139 INFO sqlalchemy.engine.Engine INSERT INTO wine_class (wine_class, alcohol, ash, hue, proline) VALUES (?, ?, ?, ?, ?)\n",
            "2022-01-10 04:49:44,157 INFO sqlalchemy.engine.Engine [cached since 0.532s ago] (3.0, 12.51, 2.25, 0.75, 650.0)\n",
            "2022-01-10 04:49:44,164 INFO sqlalchemy.engine.Engine INSERT INTO wine_class (wine_class, alcohol, ash, hue, proline) VALUES (?, ?, ?, ?, ?)\n",
            "2022-01-10 04:49:44,166 INFO sqlalchemy.engine.Engine [cached since 0.5413s ago] (3.0, 12.6, 2.2, 0.73, 695.0)\n",
            "2022-01-10 04:49:44,169 INFO sqlalchemy.engine.Engine INSERT INTO wine_class (wine_class, alcohol, ash, hue, proline) VALUES (?, ?, ?, ?, ?)\n",
            "2022-01-10 04:49:44,172 INFO sqlalchemy.engine.Engine [cached since 0.5469s ago] (3.0, 12.25, 2.54, 0.75, 720.0)\n",
            "2022-01-10 04:49:44,175 INFO sqlalchemy.engine.Engine INSERT INTO wine_class (wine_class, alcohol, ash, hue, proline) VALUES (?, ?, ?, ?, ?)\n",
            "2022-01-10 04:49:44,178 INFO sqlalchemy.engine.Engine [cached since 0.5528s ago] (3.0, 12.53, 2.64, 0.82, 515.0)\n",
            "2022-01-10 04:49:44,180 INFO sqlalchemy.engine.Engine INSERT INTO wine_class (wine_class, alcohol, ash, hue, proline) VALUES (?, ?, ?, ?, ?)\n",
            "2022-01-10 04:49:44,182 INFO sqlalchemy.engine.Engine [cached since 0.5576s ago] (3.0, 13.49, 2.19, 0.81, 580.0)\n",
            "2022-01-10 04:49:44,184 INFO sqlalchemy.engine.Engine INSERT INTO wine_class (wine_class, alcohol, ash, hue, proline) VALUES (?, ?, ?, ?, ?)\n",
            "2022-01-10 04:49:44,186 INFO sqlalchemy.engine.Engine [cached since 0.5612s ago] (3.0, 12.84, 2.61, 0.89, 590.0)\n",
            "2022-01-10 04:49:44,190 INFO sqlalchemy.engine.Engine INSERT INTO wine_class (wine_class, alcohol, ash, hue, proline) VALUES (?, ?, ?, ?, ?)\n",
            "2022-01-10 04:49:44,191 INFO sqlalchemy.engine.Engine [cached since 0.5666s ago] (3.0, 12.93, 2.7, 0.77, 600.0)\n",
            "2022-01-10 04:49:44,194 INFO sqlalchemy.engine.Engine INSERT INTO wine_class (wine_class, alcohol, ash, hue, proline) VALUES (?, ?, ?, ?, ?)\n",
            "2022-01-10 04:49:44,195 INFO sqlalchemy.engine.Engine [cached since 0.5703s ago] (3.0, 13.36, 2.35, 0.7, 780.0)\n",
            "2022-01-10 04:49:44,197 INFO sqlalchemy.engine.Engine INSERT INTO wine_class (wine_class, alcohol, ash, hue, proline) VALUES (?, ?, ?, ?, ?)\n",
            "2022-01-10 04:49:44,199 INFO sqlalchemy.engine.Engine [cached since 0.5739s ago] (3.0, 13.52, 2.72, 0.89, 520.0)\n",
            "2022-01-10 04:49:44,201 INFO sqlalchemy.engine.Engine INSERT INTO wine_class (wine_class, alcohol, ash, hue, proline) VALUES (?, ?, ?, ?, ?)\n",
            "2022-01-10 04:49:44,202 INFO sqlalchemy.engine.Engine [cached since 0.5774s ago] (3.0, 13.62, 2.35, 0.91, 550.0)\n",
            "2022-01-10 04:49:44,204 INFO sqlalchemy.engine.Engine INSERT INTO wine_class (wine_class, alcohol, ash, hue, proline) VALUES (?, ?, ?, ?, ?)\n",
            "2022-01-10 04:49:44,206 INFO sqlalchemy.engine.Engine [cached since 0.5807s ago] (3.0, 12.25, 2.2, 0.65, 855.0)\n",
            "2022-01-10 04:49:44,208 INFO sqlalchemy.engine.Engine INSERT INTO wine_class (wine_class, alcohol, ash, hue, proline) VALUES (?, ?, ?, ?, ?)\n",
            "2022-01-10 04:49:44,209 INFO sqlalchemy.engine.Engine [cached since 0.584s ago] (3.0, 13.16, 2.15, 0.6, 830.0)\n",
            "2022-01-10 04:49:44,211 INFO sqlalchemy.engine.Engine INSERT INTO wine_class (wine_class, alcohol, ash, hue, proline) VALUES (?, ?, ?, ?, ?)\n",
            "2022-01-10 04:49:44,212 INFO sqlalchemy.engine.Engine [cached since 0.5874s ago] (3.0, 13.88, 2.23, 0.58, 415.0)\n",
            "2022-01-10 04:49:44,214 INFO sqlalchemy.engine.Engine INSERT INTO wine_class (wine_class, alcohol, ash, hue, proline) VALUES (?, ?, ?, ?, ?)\n",
            "2022-01-10 04:49:44,216 INFO sqlalchemy.engine.Engine [cached since 0.5907s ago] (3.0, 12.87, 2.48, 0.54, 625.0)\n",
            "2022-01-10 04:49:44,217 INFO sqlalchemy.engine.Engine INSERT INTO wine_class (wine_class, alcohol, ash, hue, proline) VALUES (?, ?, ?, ?, ?)\n",
            "2022-01-10 04:49:44,219 INFO sqlalchemy.engine.Engine [cached since 0.5942s ago] (3.0, 13.32, 2.38, 0.55, 650.0)\n",
            "2022-01-10 04:49:44,221 INFO sqlalchemy.engine.Engine INSERT INTO wine_class (wine_class, alcohol, ash, hue, proline) VALUES (?, ?, ?, ?, ?)\n",
            "2022-01-10 04:49:44,223 INFO sqlalchemy.engine.Engine [cached since 0.5981s ago] (3.0, 13.08, 2.36, 0.57, 550.0)\n",
            "2022-01-10 04:49:44,225 INFO sqlalchemy.engine.Engine INSERT INTO wine_class (wine_class, alcohol, ash, hue, proline) VALUES (?, ?, ?, ?, ?)\n",
            "2022-01-10 04:49:44,227 INFO sqlalchemy.engine.Engine [cached since 0.6017s ago] (3.0, 13.5, 2.62, 0.59, 500.0)\n",
            "2022-01-10 04:49:44,228 INFO sqlalchemy.engine.Engine INSERT INTO wine_class (wine_class, alcohol, ash, hue, proline) VALUES (?, ?, ?, ?, ?)\n",
            "2022-01-10 04:49:44,230 INFO sqlalchemy.engine.Engine [cached since 0.605s ago] (3.0, 12.79, 2.48, 0.48, 480.0)\n",
            "2022-01-10 04:49:44,232 INFO sqlalchemy.engine.Engine INSERT INTO wine_class (wine_class, alcohol, ash, hue, proline) VALUES (?, ?, ?, ?, ?)\n",
            "2022-01-10 04:49:44,234 INFO sqlalchemy.engine.Engine [cached since 0.6092s ago] (3.0, 13.11, 2.75, 0.61, 425.0)\n",
            "2022-01-10 04:49:44,236 INFO sqlalchemy.engine.Engine INSERT INTO wine_class (wine_class, alcohol, ash, hue, proline) VALUES (?, ?, ?, ?, ?)\n",
            "2022-01-10 04:49:44,238 INFO sqlalchemy.engine.Engine [cached since 0.6127s ago] (3.0, 13.23, 2.28, 0.56, 675.0)\n",
            "2022-01-10 04:49:44,239 INFO sqlalchemy.engine.Engine INSERT INTO wine_class (wine_class, alcohol, ash, hue, proline) VALUES (?, ?, ?, ?, ?)\n",
            "2022-01-10 04:49:44,241 INFO sqlalchemy.engine.Engine [cached since 0.6161s ago] (3.0, 12.58, 2.1, 0.58, 640.0)\n",
            "2022-01-10 04:49:44,243 INFO sqlalchemy.engine.Engine INSERT INTO wine_class (wine_class, alcohol, ash, hue, proline) VALUES (?, ?, ?, ?, ?)\n",
            "2022-01-10 04:49:44,244 INFO sqlalchemy.engine.Engine [cached since 0.6194s ago] (3.0, 13.17, 2.32, 0.6, 725.0)\n",
            "2022-01-10 04:49:44,246 INFO sqlalchemy.engine.Engine INSERT INTO wine_class (wine_class, alcohol, ash, hue, proline) VALUES (?, ?, ?, ?, ?)\n",
            "2022-01-10 04:49:44,247 INFO sqlalchemy.engine.Engine [cached since 0.6225s ago] (3.0, 13.84, 2.38, 0.57, 480.0)\n",
            "2022-01-10 04:49:44,249 INFO sqlalchemy.engine.Engine INSERT INTO wine_class (wine_class, alcohol, ash, hue, proline) VALUES (?, ?, ?, ?, ?)\n",
            "2022-01-10 04:49:44,251 INFO sqlalchemy.engine.Engine [cached since 0.6257s ago] (3.0, 12.45, 2.64, 0.67, 880.0)\n",
            "2022-01-10 04:49:44,252 INFO sqlalchemy.engine.Engine INSERT INTO wine_class (wine_class, alcohol, ash, hue, proline) VALUES (?, ?, ?, ?, ?)\n",
            "2022-01-10 04:49:44,254 INFO sqlalchemy.engine.Engine [cached since 0.6289s ago] (3.0, 14.34, 2.7, 0.57, 660.0)\n",
            "2022-01-10 04:49:44,256 INFO sqlalchemy.engine.Engine INSERT INTO wine_class (wine_class, alcohol, ash, hue, proline) VALUES (?, ?, ?, ?, ?)\n",
            "2022-01-10 04:49:44,257 INFO sqlalchemy.engine.Engine [cached since 0.632s ago] (3.0, 13.48, 2.64, 0.57, 620.0)\n",
            "2022-01-10 04:49:44,259 INFO sqlalchemy.engine.Engine INSERT INTO wine_class (wine_class, alcohol, ash, hue, proline) VALUES (?, ?, ?, ?, ?)\n",
            "2022-01-10 04:49:44,260 INFO sqlalchemy.engine.Engine [cached since 0.6355s ago] (3.0, 12.36, 2.38, 0.56, 520.0)\n",
            "2022-01-10 04:49:44,262 INFO sqlalchemy.engine.Engine INSERT INTO wine_class (wine_class, alcohol, ash, hue, proline) VALUES (?, ?, ?, ?, ?)\n",
            "2022-01-10 04:49:44,263 INFO sqlalchemy.engine.Engine [cached since 0.6386s ago] (3.0, 13.69, 2.54, 0.96, 680.0)\n",
            "2022-01-10 04:49:44,265 INFO sqlalchemy.engine.Engine INSERT INTO wine_class (wine_class, alcohol, ash, hue, proline) VALUES (?, ?, ?, ?, ?)\n",
            "2022-01-10 04:49:44,267 INFO sqlalchemy.engine.Engine [cached since 0.6418s ago] (3.0, 12.85, 2.58, 0.87, 570.0)\n",
            "2022-01-10 04:49:44,268 INFO sqlalchemy.engine.Engine INSERT INTO wine_class (wine_class, alcohol, ash, hue, proline) VALUES (?, ?, ?, ?, ?)\n",
            "2022-01-10 04:49:44,270 INFO sqlalchemy.engine.Engine [cached since 0.645s ago] (3.0, 12.96, 2.35, 0.68, 675.0)\n",
            "2022-01-10 04:49:44,272 INFO sqlalchemy.engine.Engine INSERT INTO wine_class (wine_class, alcohol, ash, hue, proline) VALUES (?, ?, ?, ?, ?)\n",
            "2022-01-10 04:49:44,273 INFO sqlalchemy.engine.Engine [cached since 0.6483s ago] (3.0, 13.78, 2.3, 0.7, 615.0)\n",
            "2022-01-10 04:49:44,275 INFO sqlalchemy.engine.Engine INSERT INTO wine_class (wine_class, alcohol, ash, hue, proline) VALUES (?, ?, ?, ?, ?)\n",
            "2022-01-10 04:49:44,276 INFO sqlalchemy.engine.Engine [cached since 0.6515s ago] (3.0, 13.73, 2.26, 0.78, 520.0)\n",
            "2022-01-10 04:49:44,278 INFO sqlalchemy.engine.Engine INSERT INTO wine_class (wine_class, alcohol, ash, hue, proline) VALUES (?, ?, ?, ?, ?)\n",
            "2022-01-10 04:49:44,280 INFO sqlalchemy.engine.Engine [cached since 0.6556s ago] (3.0, 13.45, 2.6, 0.85, 695.0)\n",
            "2022-01-10 04:49:44,283 INFO sqlalchemy.engine.Engine INSERT INTO wine_class (wine_class, alcohol, ash, hue, proline) VALUES (?, ?, ?, ?, ?)\n",
            "2022-01-10 04:49:44,284 INFO sqlalchemy.engine.Engine [cached since 0.6596s ago] (3.0, 12.82, 2.3, 0.72, 685.0)\n",
            "2022-01-10 04:49:44,287 INFO sqlalchemy.engine.Engine INSERT INTO wine_class (wine_class, alcohol, ash, hue, proline) VALUES (?, ?, ?, ?, ?)\n",
            "2022-01-10 04:49:44,289 INFO sqlalchemy.engine.Engine [cached since 0.6644s ago] (3.0, 13.58, 2.69, 0.74, 750.0)\n",
            "2022-01-10 04:49:44,293 INFO sqlalchemy.engine.Engine INSERT INTO wine_class (wine_class, alcohol, ash, hue, proline) VALUES (?, ?, ?, ?, ?)\n",
            "2022-01-10 04:49:44,294 INFO sqlalchemy.engine.Engine [cached since 0.6696s ago] (3.0, 13.4, 2.86, 0.67, 630.0)\n",
            "2022-01-10 04:49:44,297 INFO sqlalchemy.engine.Engine INSERT INTO wine_class (wine_class, alcohol, ash, hue, proline) VALUES (?, ?, ?, ?, ?)\n",
            "2022-01-10 04:49:44,298 INFO sqlalchemy.engine.Engine [cached since 0.6732s ago] (3.0, 12.2, 2.32, 0.66, 510.0)\n",
            "2022-01-10 04:49:44,300 INFO sqlalchemy.engine.Engine INSERT INTO wine_class (wine_class, alcohol, ash, hue, proline) VALUES (?, ?, ?, ?, ?)\n",
            "2022-01-10 04:49:44,301 INFO sqlalchemy.engine.Engine [cached since 0.6765s ago] (3.0, 12.77, 2.28, 0.57, 470.0)\n",
            "2022-01-10 04:49:44,303 INFO sqlalchemy.engine.Engine INSERT INTO wine_class (wine_class, alcohol, ash, hue, proline) VALUES (?, ?, ?, ?, ?)\n",
            "2022-01-10 04:49:44,306 INFO sqlalchemy.engine.Engine [cached since 0.6806s ago] (3.0, 14.16, 2.48, 0.62, 660.0)\n",
            "2022-01-10 04:49:44,307 INFO sqlalchemy.engine.Engine INSERT INTO wine_class (wine_class, alcohol, ash, hue, proline) VALUES (?, ?, ?, ?, ?)\n",
            "2022-01-10 04:49:44,309 INFO sqlalchemy.engine.Engine [cached since 0.684s ago] (3.0, 13.71, 2.45, 0.64, 740.0)\n",
            "2022-01-10 04:49:44,311 INFO sqlalchemy.engine.Engine INSERT INTO wine_class (wine_class, alcohol, ash, hue, proline) VALUES (?, ?, ?, ?, ?)\n",
            "2022-01-10 04:49:44,312 INFO sqlalchemy.engine.Engine [cached since 0.6871s ago] (3.0, 13.4, 2.48, 0.7, 750.0)\n",
            "2022-01-10 04:49:44,314 INFO sqlalchemy.engine.Engine INSERT INTO wine_class (wine_class, alcohol, ash, hue, proline) VALUES (?, ?, ?, ?, ?)\n",
            "2022-01-10 04:49:44,316 INFO sqlalchemy.engine.Engine [cached since 0.6915s ago] (3.0, 13.27, 2.26, 0.59, 835.0)\n",
            "2022-01-10 04:49:44,318 INFO sqlalchemy.engine.Engine INSERT INTO wine_class (wine_class, alcohol, ash, hue, proline) VALUES (?, ?, ?, ?, ?)\n",
            "2022-01-10 04:49:44,320 INFO sqlalchemy.engine.Engine [cached since 0.6955s ago] (3.0, 13.17, 2.37, 0.6, 840.0)\n",
            "2022-01-10 04:49:44,322 INFO sqlalchemy.engine.Engine INSERT INTO wine_class (wine_class, alcohol, ash, hue, proline) VALUES (?, ?, ?, ?, ?)\n",
            "2022-01-10 04:49:44,324 INFO sqlalchemy.engine.Engine [cached since 0.699s ago] (3.0, 14.13, 2.74, 0.61, 560.0)\n",
            "2022-01-10 04:49:44,332 INFO sqlalchemy.engine.Engine COMMIT\n"
          ]
        }
      ]
    },
    {
      "cell_type": "markdown",
      "source": [
        "# 2, CRUD操作 (Create, Read, UPdate, Delete)"
      ],
      "metadata": {
        "id": "3A6VHwQ4Lz4k"
      }
    },
    {
      "cell_type": "code",
      "source": [
        "# READ\n",
        "# データベース操作は基本的にdb_sessionを使う\n",
        "# all() - 指定したすべてのデータを(columns)を取得\n",
        "db = db_session.query(Wine).all()"
      ],
      "metadata": {
        "colab": {
          "base_uri": "https://localhost:8080/"
        },
        "id": "Ql_2Nw-jBsXa",
        "outputId": "541572d5-1ff7-4e08-b5d6-780221b4beb2"
      },
      "execution_count": 13,
      "outputs": [
        {
          "output_type": "stream",
          "name": "stdout",
          "text": [
            "2022-01-10 04:49:48,344 INFO sqlalchemy.engine.Engine BEGIN (implicit)\n",
            "2022-01-10 04:49:48,352 INFO sqlalchemy.engine.Engine SELECT wine_class.id AS wine_class_id, wine_class.wine_class AS wine_class_wine_class, wine_class.alcohol AS wine_class_alcohol, wine_class.ash AS wine_class_ash, wine_class.hue AS wine_class_hue, wine_class.proline AS wine_class_proline \n",
            "FROM wine_class\n",
            "2022-01-10 04:49:48,359 INFO sqlalchemy.engine.Engine [generated in 0.00651s] ()\n"
          ]
        }
      ]
    },
    {
      "cell_type": "code",
      "source": [
        "# db - インスタンスが格納されている\n",
        "for row in db:\n",
        "    print(row.alcohol)"
      ],
      "metadata": {
        "id": "M2oxSEJXT_7j"
      },
      "execution_count": null,
      "outputs": []
    },
    {
      "cell_type": "code",
      "source": [
        "# カラムを部分的(特定の)に抽出\n",
        "# query()の引数に抽出したいカラムを記載\n",
        "db = db_session.query(Wine.hue,Wine.proline).all()\n",
        "\n",
        "for row in db:\n",
        "    print(row.hue)\n",
        "\n",
        "# これはエラーが起きる\n",
        "# for row in db:\n",
        "#     print(row.alcohol)"
      ],
      "metadata": {
        "id": "37r9pjsIUIo1"
      },
      "execution_count": null,
      "outputs": []
    },
    {
      "cell_type": "code",
      "source": [
        "# 条件抽出\n",
        "# filter()に条件式を記述\n",
        "db = db_session.query(Wine).filter(Wine.hue > 1.0).all()"
      ],
      "metadata": {
        "colab": {
          "base_uri": "https://localhost:8080/"
        },
        "id": "aY5Bhi_dVNcU",
        "outputId": "8823621a-b8f9-47e7-de06-431efc890e08"
      },
      "execution_count": 22,
      "outputs": [
        {
          "output_type": "stream",
          "name": "stdout",
          "text": [
            "2022-01-10 04:55:42,924 INFO sqlalchemy.engine.Engine SELECT wine_class.id AS wine_class_id, wine_class.wine_class AS wine_class_wine_class, wine_class.alcohol AS wine_class_alcohol, wine_class.ash AS wine_class_ash, wine_class.hue AS wine_class_hue, wine_class.proline AS wine_class_proline \n",
            "FROM wine_class \n",
            "WHERE wine_class.hue > ?\n",
            "2022-01-10 04:55:42,927 INFO sqlalchemy.engine.Engine [generated in 0.00320s] (1.0,)\n"
          ]
        }
      ]
    },
    {
      "cell_type": "code",
      "source": [
        "for row in db:\n",
        "    print(row.hue)"
      ],
      "metadata": {
        "id": "DLVIIagxV5ND"
      },
      "execution_count": null,
      "outputs": []
    },
    {
      "cell_type": "code",
      "source": [
        "# 取得レコード数の制限\n",
        "# limit()　- 制限をかける\n",
        "db = db_session.query(Wine).limit(20).all()"
      ],
      "metadata": {
        "colab": {
          "base_uri": "https://localhost:8080/"
        },
        "id": "NWb-bScMV_9b",
        "outputId": "dab1e67d-1e7e-4a59-8961-af1fce19a282"
      },
      "execution_count": 27,
      "outputs": [
        {
          "output_type": "stream",
          "name": "stdout",
          "text": [
            "2022-01-10 04:58:43,821 INFO sqlalchemy.engine.Engine SELECT wine_class.id AS wine_class_id, wine_class.wine_class AS wine_class_wine_class, wine_class.alcohol AS wine_class_alcohol, wine_class.ash AS wine_class_ash, wine_class.hue AS wine_class_hue, wine_class.proline AS wine_class_proline \n",
            "FROM wine_class\n",
            " LIMIT ? OFFSET ?\n",
            "2022-01-10 04:58:43,825 INFO sqlalchemy.engine.Engine [cached since 10.58s ago] (20, 0)\n"
          ]
        }
      ]
    },
    {
      "cell_type": "code",
      "source": [
        "for row in db:\n",
        "    print(row.alcohol)"
      ],
      "metadata": {
        "colab": {
          "base_uri": "https://localhost:8080/"
        },
        "id": "qpoI3UkcWd6Y",
        "outputId": "b43ee0d6-7b62-4018-d99f-4ee3dbddac33"
      },
      "execution_count": 28,
      "outputs": [
        {
          "output_type": "stream",
          "name": "stdout",
          "text": [
            "14.23\n",
            "13.2\n",
            "13.16\n",
            "14.37\n",
            "13.24\n",
            "14.2\n",
            "14.39\n",
            "14.06\n",
            "14.83\n",
            "13.86\n",
            "14.1\n",
            "14.12\n",
            "13.75\n",
            "14.75\n",
            "14.38\n",
            "13.63\n",
            "14.3\n",
            "13.83\n",
            "14.19\n",
            "13.64\n"
          ]
        }
      ]
    },
    {
      "cell_type": "code",
      "source": [
        "# レコードの並べ方\n",
        "# asc - ascending(昇順)\n",
        "# desc - descending(降順)\n",
        "\n",
        "from sqlalchemy import desc"
      ],
      "metadata": {
        "id": "Usu2V4__WqP3"
      },
      "execution_count": 29,
      "outputs": []
    },
    {
      "cell_type": "code",
      "source": [
        "# order_by()の中に何を基準に降順にするか記述する\n",
        "db = db_session.query(Wine).order_by(desc(Wine.hue)).limit(20).all()"
      ],
      "metadata": {
        "colab": {
          "base_uri": "https://localhost:8080/"
        },
        "id": "WVK0TLowXQIN",
        "outputId": "1728e11d-92bf-4ca9-cb0e-18f22913d11e"
      },
      "execution_count": 38,
      "outputs": [
        {
          "output_type": "stream",
          "name": "stdout",
          "text": [
            "2022-01-10 05:04:44,641 INFO sqlalchemy.engine.Engine SELECT wine_class.id AS wine_class_id, wine_class.wine_class AS wine_class_wine_class, wine_class.alcohol AS wine_class_alcohol, wine_class.ash AS wine_class_ash, wine_class.hue AS wine_class_hue, wine_class.proline AS wine_class_proline \n",
            "FROM wine_class ORDER BY wine_class.hue DESC\n",
            " LIMIT ? OFFSET ?\n",
            "2022-01-10 05:04:44,648 INFO sqlalchemy.engine.Engine [generated in 0.00716s] (20, 0)\n"
          ]
        }
      ]
    },
    {
      "cell_type": "code",
      "source": [
        "for row in db:\n",
        "    print(row.hue)"
      ],
      "metadata": {
        "id": "TtaUV4x0XdA0"
      },
      "execution_count": null,
      "outputs": []
    },
    {
      "cell_type": "code",
      "source": [
        "# CREATE\n",
        "wine = Wine(wine_class=1,alcohol=1,ash=1,hue=1,proline=1) #インスタンス化(1行分のデータを作る)"
      ],
      "metadata": {
        "id": "btiwT66_YBn8"
      },
      "execution_count": 41,
      "outputs": []
    },
    {
      "cell_type": "code",
      "source": [
        "# add(): - 追加\n",
        "# commit(): - 反映\n",
        "\n",
        "db_session.add(wine)\n",
        "db_session.commit()\n",
        "# これで追加された"
      ],
      "metadata": {
        "colab": {
          "base_uri": "https://localhost:8080/"
        },
        "id": "ItsGlgbRYdSc",
        "outputId": "0fefaaa4-f6e9-49d9-8d07-e105230fa335"
      },
      "execution_count": 43,
      "outputs": [
        {
          "output_type": "stream",
          "name": "stdout",
          "text": [
            "2022-01-10 05:08:01,515 INFO sqlalchemy.engine.Engine INSERT INTO wine_class (wine_class, alcohol, ash, hue, proline) VALUES (?, ?, ?, ?, ?)\n",
            "2022-01-10 05:08:01,517 INFO sqlalchemy.engine.Engine [cached since 1098s ago] (1, 1.0, 1.0, 1.0, 1)\n",
            "2022-01-10 05:08:01,522 INFO sqlalchemy.engine.Engine COMMIT\n"
          ]
        }
      ]
    },
    {
      "cell_type": "code",
      "source": [
        "db = db_session.query(Wine).filter(Wine.proline==1).all()\n",
        "# これで取り出せた"
      ],
      "metadata": {
        "colab": {
          "base_uri": "https://localhost:8080/"
        },
        "id": "b4RvKz7mYgth",
        "outputId": "4ff7a7ec-6895-4ec0-d3d0-329aba6257a2"
      },
      "execution_count": 44,
      "outputs": [
        {
          "output_type": "stream",
          "name": "stdout",
          "text": [
            "2022-01-10 05:09:22,571 INFO sqlalchemy.engine.Engine BEGIN (implicit)\n",
            "2022-01-10 05:09:22,574 INFO sqlalchemy.engine.Engine SELECT wine_class.id AS wine_class_id, wine_class.wine_class AS wine_class_wine_class, wine_class.alcohol AS wine_class_alcohol, wine_class.ash AS wine_class_ash, wine_class.hue AS wine_class_hue, wine_class.proline AS wine_class_proline \n",
            "FROM wine_class \n",
            "WHERE wine_class.proline = ?\n",
            "2022-01-10 05:09:22,577 INFO sqlalchemy.engine.Engine [generated in 0.00264s] (1,)\n"
          ]
        }
      ]
    },
    {
      "cell_type": "code",
      "source": [
        "for row in db:\n",
        "    print(row.id,row.wine_class,row.alcohol,row.ash,row.hue,row.proline)"
      ],
      "metadata": {
        "colab": {
          "base_uri": "https://localhost:8080/"
        },
        "id": "fIXoxnJQZBUA",
        "outputId": "1fb432a9-fc03-4140-f69f-c0138534cdb5"
      },
      "execution_count": 45,
      "outputs": [
        {
          "output_type": "stream",
          "name": "stdout",
          "text": [
            "179 1 1.0 1.0 1.0 1\n"
          ]
        }
      ]
    },
    {
      "cell_type": "code",
      "source": [
        "# UPDATA \n",
        "db = db_session.query(Wine).filter(Wine.proline==1).first()\n",
        "# prolineが１のものをfirst(一個)とってきた"
      ],
      "metadata": {
        "colab": {
          "base_uri": "https://localhost:8080/"
        },
        "id": "zxqjnkgGZYnK",
        "outputId": "4fe559b4-9c17-46e5-90ad-83ecab2dd738"
      },
      "execution_count": 47,
      "outputs": [
        {
          "output_type": "stream",
          "name": "stdout",
          "text": [
            "2022-01-10 05:12:23,061 INFO sqlalchemy.engine.Engine SELECT wine_class.id AS wine_class_id, wine_class.wine_class AS wine_class_wine_class, wine_class.alcohol AS wine_class_alcohol, wine_class.ash AS wine_class_ash, wine_class.hue AS wine_class_hue, wine_class.proline AS wine_class_proline \n",
            "FROM wine_class \n",
            "WHERE wine_class.proline = ?\n",
            " LIMIT ? OFFSET ?\n",
            "2022-01-10 05:12:23,064 INFO sqlalchemy.engine.Engine [cached since 5.313s ago] (1, 1, 0)\n"
          ]
        }
      ]
    },
    {
      "cell_type": "code",
      "source": [
        "# Classの値を10に書き換え\n",
        "db.wine_class = 10\n",
        "db_session.commit()\n",
        "# これで変更が加わった"
      ],
      "metadata": {
        "colab": {
          "base_uri": "https://localhost:8080/"
        },
        "id": "JUeBpODrZsE6",
        "outputId": "7317067f-deeb-4f0b-b3ea-32c130a001de"
      },
      "execution_count": 51,
      "outputs": [
        {
          "output_type": "stream",
          "name": "stdout",
          "text": [
            "2022-01-10 05:14:10,298 INFO sqlalchemy.engine.Engine UPDATE wine_class SET wine_class=? WHERE wine_class.id = ?\n",
            "2022-01-10 05:14:10,301 INFO sqlalchemy.engine.Engine [generated in 0.00393s] (10, 179)\n",
            "2022-01-10 05:14:10,304 INFO sqlalchemy.engine.Engine COMMIT\n"
          ]
        }
      ]
    },
    {
      "cell_type": "code",
      "source": [
        "# とってきて\n",
        "db = db_session.query(Wine).filter(Wine.proline==1).all()"
      ],
      "metadata": {
        "colab": {
          "base_uri": "https://localhost:8080/"
        },
        "id": "VSzMUPyrZ6VW",
        "outputId": "d64dbc29-9907-4321-a361-46b4f828e0c1"
      },
      "execution_count": 52,
      "outputs": [
        {
          "output_type": "stream",
          "name": "stdout",
          "text": [
            "2022-01-10 05:14:56,701 INFO sqlalchemy.engine.Engine BEGIN (implicit)\n",
            "2022-01-10 05:14:56,707 INFO sqlalchemy.engine.Engine SELECT wine_class.id AS wine_class_id, wine_class.wine_class AS wine_class_wine_class, wine_class.alcohol AS wine_class_alcohol, wine_class.ash AS wine_class_ash, wine_class.hue AS wine_class_hue, wine_class.proline AS wine_class_proline \n",
            "FROM wine_class \n",
            "WHERE wine_class.proline = ?\n",
            "2022-01-10 05:14:56,709 INFO sqlalchemy.engine.Engine [cached since 334.1s ago] (1,)\n"
          ]
        }
      ]
    },
    {
      "cell_type": "code",
      "source": [
        "# 中身を見ると\n",
        "for row in db:\n",
        "    print(row.id,row.wine_class,row.alcohol,row.ash,row.hue,row.proline)\n",
        "\n",
        "# updateしたい場合は,インスタンス(データ)をとってきてとってきて,その値を変えてcommit()する"
      ],
      "metadata": {
        "colab": {
          "base_uri": "https://localhost:8080/"
        },
        "id": "VI2BnV4naS42",
        "outputId": "223b3dae-be25-4ce4-f84a-e43fb1546e68"
      },
      "execution_count": 53,
      "outputs": [
        {
          "output_type": "stream",
          "name": "stdout",
          "text": [
            "179 10 1.0 1.0 1.0 1\n"
          ]
        }
      ]
    },
    {
      "cell_type": "code",
      "source": [
        "# DELETE\n",
        "# db_session.query(Wine) - Wineのテーブルから\n",
        "# delete() - 削除\n",
        "# db_session.query(Wine).filter(Wine.proline==1).delete() - filterに当てはまるものをdeleteする\n",
        "db_session.query(Wine).filter(Wine.proline==1).delete()"
      ],
      "metadata": {
        "colab": {
          "base_uri": "https://localhost:8080/"
        },
        "id": "ntSjIDTLahJS",
        "outputId": "6f1d6f8a-bed0-46fb-fe23-501113f83fb9"
      },
      "execution_count": 54,
      "outputs": [
        {
          "output_type": "stream",
          "name": "stdout",
          "text": [
            "2022-01-10 05:18:56,722 INFO sqlalchemy.engine.Engine DELETE FROM wine_class WHERE wine_class.proline = ?\n",
            "2022-01-10 05:18:56,728 INFO sqlalchemy.engine.Engine [generated in 0.00615s] (1,)\n"
          ]
        },
        {
          "output_type": "execute_result",
          "data": {
            "text/plain": [
              "1"
            ]
          },
          "metadata": {},
          "execution_count": 54
        }
      ]
    },
    {
      "cell_type": "code",
      "source": [
        "db = db_session.query(Wine).filter(Wine.proline==1).all()"
      ],
      "metadata": {
        "colab": {
          "base_uri": "https://localhost:8080/"
        },
        "id": "2hGgi-nMbNdk",
        "outputId": "10468bec-9ef9-4f29-ad41-01b085261b6a"
      },
      "execution_count": 55,
      "outputs": [
        {
          "output_type": "stream",
          "name": "stdout",
          "text": [
            "2022-01-10 05:19:47,992 INFO sqlalchemy.engine.Engine SELECT wine_class.id AS wine_class_id, wine_class.wine_class AS wine_class_wine_class, wine_class.alcohol AS wine_class_alcohol, wine_class.ash AS wine_class_ash, wine_class.hue AS wine_class_hue, wine_class.proline AS wine_class_proline \n",
            "FROM wine_class \n",
            "WHERE wine_class.proline = ?\n",
            "2022-01-10 05:19:48,004 INFO sqlalchemy.engine.Engine [cached since 625.4s ago] (1,)\n"
          ]
        }
      ]
    },
    {
      "cell_type": "code",
      "source": [
        "# 表示されない理由は削除されたから\n",
        "for row in db:\n",
        "    print(row)"
      ],
      "metadata": {
        "id": "oFFPj0MWbZ_F"
      },
      "execution_count": 56,
      "outputs": []
    }
  ]
}