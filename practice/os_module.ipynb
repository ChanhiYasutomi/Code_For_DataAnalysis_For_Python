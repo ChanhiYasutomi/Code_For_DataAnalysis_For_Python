{
  "nbformat": 4,
  "nbformat_minor": 0,
  "metadata": {
    "colab": {
      "name": "OS Module.ipynb",
      "provenance": [],
      "collapsed_sections": []
    },
    "kernelspec": {
      "name": "python3",
      "display_name": "Python 3"
    },
    "language_info": {
      "name": "python"
    }
  },
  "cells": [
    {
      "cell_type": "markdown",
      "source": [
        "#OS Module"
      ],
      "metadata": {
        "id": "ZoZC82gGMIQs"
      }
    },
    {
      "cell_type": "code",
      "metadata": {
        "id": "4mHjpDW0-zzq"
      },
      "source": [
        "# os module - ファイルやdirectory操作を行う\n",
        "# ファイルの作成,削除,名前の変更,directoryの中のファイル一覧取得,大量のファイルの移動、移動先のdirefctory作成等々\n",
        "\n",
        "# directory = folder - テキストファイルを入れることのできる箱\n",
        "# Windowsを使ってる人はfolderと呼ぶ\n",
        "# Linux,Mac Osを使っている人はdirectoryと呼ぶ\n",
        "# Root directory = 一番上の階層\n",
        "\n",
        "import os"
      ],
      "execution_count": 1,
      "outputs": []
    },
    {
      "cell_type": "code",
      "source": [
        "# os.environ - home directory(ログインした直後のdiretory)を確認する\n",
        "print(os.environ[\"HOME\"])"
      ],
      "metadata": {
        "colab": {
          "base_uri": "https://localhost:8080/"
        },
        "id": "DgAuhR_jTCby",
        "outputId": "3e70a563-d1e6-4633-e889-edd977ba7316"
      },
      "execution_count": 2,
      "outputs": [
        {
          "output_type": "stream",
          "name": "stdout",
          "text": [
            "/root\n"
          ]
        }
      ]
    },
    {
      "cell_type": "code",
      "source": [
        "# os.getcwd - 現在作業中のパス(current directory)を取得\n",
        "# cwd - get current directory\n",
        "current_dir = os.getcwd()\n",
        "print(current_dir)\n",
        "\n",
        "# directoryのパスを作成することができる\n",
        "current_dir = os.getcwd()\n",
        "sample_dir = os.path.join(current_dir,\"sample\") \n",
        "print(sample_dir)\n",
        "\n",
        "# os.maekdirs - 新たなdirectoryを作成\n",
        "# os.chdir - directoryを移動　\n",
        "os.makedirs(sample_dir,exist_ok=True)\n",
        "os.chdir(sample_dir) # os.chdir(移動先のdirectoryパス()相対でも絶対パスでもいい))\n",
        "print(os.getcwd())\n",
        "\n",
        "#os.chdir(\"../\") - 相対パスで上の階層に移動 \n",
        "# (\"../\",directory名) - directory名 - 現在より一つ下の階層という意味になる\n",
        "# ../ = 上の階層\n",
        "\n",
        "#os.chdir(\"./\") - 相対パスで下の階層に移動 \n",
        "# ./ = 下の階層\n",
        "\n",
        "# home directoryに移動する\n",
        "os.chdir(os.environ[\"HOME\"])\n",
        "print(os.getcwd())"
      ],
      "metadata": {
        "colab": {
          "base_uri": "https://localhost:8080/"
        },
        "id": "3V2sqQwxTCZ9",
        "outputId": "2eb32286-df8c-4434-9c0c-36f99cc76ac2"
      },
      "execution_count": 3,
      "outputs": [
        {
          "output_type": "stream",
          "name": "stdout",
          "text": [
            "/content\n",
            "/content/sample\n",
            "/content/sample\n",
            "/root\n"
          ]
        }
      ]
    },
    {
      "cell_type": "code",
      "source": [
        "# os.listdir(読み込みたいdirectoryのパス) - directoryにあるファイル名とdirectory名を取得\n",
        "# 返り値はファイル名のリスト\n",
        "os.listdir(\"/content/sample_data\")"
      ],
      "metadata": {
        "colab": {
          "base_uri": "https://localhost:8080/"
        },
        "id": "KeiBQ0VbWtrc",
        "outputId": "8e7a2aa1-7243-43b6-d418-56f0bfafb367"
      },
      "execution_count": 4,
      "outputs": [
        {
          "output_type": "execute_result",
          "data": {
            "text/plain": [
              "['README.md',\n",
              " 'anscombe.json',\n",
              " 'california_housing_test.csv',\n",
              " 'mnist_train_small.csv',\n",
              " 'mnist_test.csv',\n",
              " 'california_housing_train.csv']"
            ]
          },
          "metadata": {},
          "execution_count": 4
        }
      ]
    },
    {
      "cell_type": "code",
      "source": [
        "# 変数に代入ver\n",
        "file_list = os.listdir(\"/content/sample_data\")\n",
        "print(file_list)"
      ],
      "metadata": {
        "colab": {
          "base_uri": "https://localhost:8080/"
        },
        "id": "cg1Ul2XcTCYK",
        "outputId": "e2e853ca-6c62-406b-cbd7-5084cc0ea899"
      },
      "execution_count": 5,
      "outputs": [
        {
          "output_type": "stream",
          "name": "stdout",
          "text": [
            "['README.md', 'anscombe.json', 'california_housing_test.csv', 'mnist_train_small.csv', 'mnist_test.csv', 'california_housing_train.csv']\n"
          ]
        }
      ]
    },
    {
      "cell_type": "code",
      "source": [
        "# .sort() - ファイル名順に並び替えたリストを作成\n",
        "file_list.sort()\n",
        "print(file_list)"
      ],
      "metadata": {
        "colab": {
          "base_uri": "https://localhost:8080/"
        },
        "id": "RP2ZDeTTTCWm",
        "outputId": "f66b37b7-31cd-4c2f-887f-641261132c60"
      },
      "execution_count": 6,
      "outputs": [
        {
          "output_type": "stream",
          "name": "stdout",
          "text": [
            "['README.md', 'anscombe.json', 'california_housing_test.csv', 'california_housing_train.csv', 'mnist_test.csv', 'mnist_train_small.csv']\n"
          ]
        }
      ]
    },
    {
      "cell_type": "code",
      "source": [
        "# os.path.isdir - 取得したファイル名とdirectoryの中からdirectory名のみ取得したい\n",
        "\n",
        "file_list = []\n",
        "\n",
        "for i in os.listdir(\"/content/sample_data\"):\n",
        "    if os.path.isdir(os.path.join(\"/content/sample_data\",i)):\n",
        "        file_list.append(i)\n",
        "\n",
        "print(file_list)"
      ],
      "metadata": {
        "colab": {
          "base_uri": "https://localhost:8080/"
        },
        "id": "QbMRg_JQaCho",
        "outputId": "6b0292ee-82ff-4f34-a509-f4053cf0c23a"
      },
      "execution_count": 7,
      "outputs": [
        {
          "output_type": "stream",
          "name": "stdout",
          "text": [
            "[]\n"
          ]
        }
      ]
    },
    {
      "cell_type": "code",
      "source": [
        "# os.path.isfile - 取得したファイル名とdirectoryの中からファイル名のみ取得したい\n",
        "file_list = []\n",
        "\n",
        "for i in os.listdir(\"/content/sample_data\"):\n",
        "    if os.path.isfile(os.path.join(\"/content/sample_data\",i)):\n",
        "        file_list.append(i)\n",
        "\n",
        "print(file_list)"
      ],
      "metadata": {
        "colab": {
          "base_uri": "https://localhost:8080/"
        },
        "id": "URGz5odWTCUi",
        "outputId": "793742e7-93ea-4397-af09-bf38bdf124e1"
      },
      "execution_count": 8,
      "outputs": [
        {
          "output_type": "stream",
          "name": "stdout",
          "text": [
            "['README.md', 'anscombe.json', 'california_housing_test.csv', 'mnist_train_small.csv', 'mnist_test.csv', 'california_housing_train.csv']\n"
          ]
        }
      ]
    },
    {
      "cell_type": "code",
      "source": [
        "# glob関数 - listdirと似た関数\n",
        "# glod.glod - 特定のファイルを指定する方法\n",
        "# 指定した拡張子のファイル名を取得可能(今回はcsvファイルのみを取得した)\n",
        "import glob\n",
        "glob.glob(\"/content/sample_data/*csv\")\n",
        "\n",
        "# listdir - 拡張子をしてできない,ファイル名ののむ取得した場合に用いる\n",
        "# glod - directoryパスもくっついたファイル名を取得する"
      ],
      "metadata": {
        "colab": {
          "base_uri": "https://localhost:8080/"
        },
        "id": "xox6l3hATCSx",
        "outputId": "fa43130b-0d09-475f-ed4c-92a5b12e415e"
      },
      "execution_count": 9,
      "outputs": [
        {
          "output_type": "execute_result",
          "data": {
            "text/plain": [
              "['/content/sample_data/california_housing_test.csv',\n",
              " '/content/sample_data/mnist_train_small.csv',\n",
              " '/content/sample_data/mnist_test.csv',\n",
              " '/content/sample_data/california_housing_train.csv']"
            ]
          },
          "metadata": {},
          "execution_count": 9
        }
      ]
    },
    {
      "cell_type": "code",
      "source": [
        "#指定しなければdirectoryにあるすべてのファイルとdirectoryを取得する\n",
        "glob.glob(\"/content/sample_data/*\")"
      ],
      "metadata": {
        "colab": {
          "base_uri": "https://localhost:8080/"
        },
        "id": "9rfwfXGmcYjD",
        "outputId": "2b161a32-e09d-44bd-d4a7-429a924edd96"
      },
      "execution_count": 10,
      "outputs": [
        {
          "output_type": "execute_result",
          "data": {
            "text/plain": [
              "['/content/sample_data/README.md',\n",
              " '/content/sample_data/anscombe.json',\n",
              " '/content/sample_data/california_housing_test.csv',\n",
              " '/content/sample_data/mnist_train_small.csv',\n",
              " '/content/sample_data/mnist_test.csv',\n",
              " '/content/sample_data/california_housing_train.csv']"
            ]
          },
          "metadata": {},
          "execution_count": 10
        }
      ]
    },
    {
      "cell_type": "code",
      "source": [
        "# os.walk(表示したいdirectory) - ファイルの中の一覧を取得\n",
        "# 1,directoryの中 2,sub-directoryの中 3,さらにその下にあるdirectoryの順に取得する\n",
        "\n",
        "# for dir,subdir,files in os.walk(sample_data):\n",
        "# dir - 現在のdirectory\n",
        "# subdir - sub-directory\n",
        "# files - ファイル名\n",
        "\n",
        "d=(\"/content/sample_data\")\n",
        "for dir, subdir, files in os.walk(d):\n",
        "    print(\"----------\")\n",
        "    print(dir)\n",
        "    print(subdir)\n",
        "    print(files)\n",
        "\n",
        "# [] - 中にが空"
      ],
      "metadata": {
        "colab": {
          "base_uri": "https://localhost:8080/"
        },
        "id": "4_m5lpsGcYj1",
        "outputId": "1028792a-cd49-4cc1-ad34-c7fe47ced880"
      },
      "execution_count": 11,
      "outputs": [
        {
          "output_type": "stream",
          "name": "stdout",
          "text": [
            "----------\n",
            "/content/sample_data\n",
            "[]\n",
            "['README.md', 'anscombe.json', 'california_housing_test.csv', 'mnist_train_small.csv', 'mnist_test.csv', 'california_housing_train.csv']\n"
          ]
        }
      ]
    },
    {
      "cell_type": "markdown",
      "source": [
        "#フォルダやファイルの作成,移動,削除"
      ],
      "metadata": {
        "id": "aUEwrGV5fivQ"
      }
    },
    {
      "cell_type": "code",
      "source": [
        ""
      ],
      "metadata": {
        "id": "CIn6okyXficy"
      },
      "execution_count": 11,
      "outputs": []
    },
    {
      "cell_type": "code",
      "source": [
        "# os.mkdir(作成したいdirectoryのパス) - directoryの作成\n",
        "# os.mkdirの特徴\n",
        "# 1,既に存在するdirectory名で作成しようとするとエラーが出る\n",
        "# 2,存在しないdirectoryの中にdirectoryは作れない\n",
        "\n",
        "os.mkdir(\"create_directory\")"
      ],
      "metadata": {
        "colab": {
          "base_uri": "https://localhost:8080/",
          "height": 265
        },
        "id": "oCJT7JUfcYot",
        "outputId": "32483ea7-b2a8-4d36-88f9-fc7192868338"
      },
      "execution_count": 36,
      "outputs": [
        {
          "output_type": "error",
          "ename": "FileExistsError",
          "evalue": "ignored",
          "traceback": [
            "\u001b[0;31m---------------------------------------------------------------------------\u001b[0m",
            "\u001b[0;31mFileExistsError\u001b[0m                           Traceback (most recent call last)",
            "\u001b[0;32m<ipython-input-36-03b0bce4ba76>\u001b[0m in \u001b[0;36m<module>\u001b[0;34m()\u001b[0m\n\u001b[1;32m      4\u001b[0m \u001b[0;31m# 2,存在しないdirectoryの中にdirectoryは作れない\u001b[0m\u001b[0;34m\u001b[0m\u001b[0;34m\u001b[0m\u001b[0;34m\u001b[0m\u001b[0m\n\u001b[1;32m      5\u001b[0m \u001b[0;34m\u001b[0m\u001b[0m\n\u001b[0;32m----> 6\u001b[0;31m \u001b[0mos\u001b[0m\u001b[0;34m.\u001b[0m\u001b[0mmkdir\u001b[0m\u001b[0;34m(\u001b[0m\u001b[0;34m\"create_directory\"\u001b[0m\u001b[0;34m)\u001b[0m\u001b[0;34m\u001b[0m\u001b[0;34m\u001b[0m\u001b[0m\n\u001b[0m\u001b[1;32m      7\u001b[0m \u001b[0mos\u001b[0m\u001b[0;34m.\u001b[0m\u001b[0mmkdir\u001b[0m\u001b[0;34m(\u001b[0m\u001b[0;34m\"./deep\"\u001b[0m\u001b[0;34m)\u001b[0m\u001b[0;34m\u001b[0m\u001b[0;34m\u001b[0m\u001b[0m\n",
            "\u001b[0;31mFileExistsError\u001b[0m: [Errno 17] File exists: 'create_directory'"
          ]
        }
      ]
    },
    {
      "cell_type": "code",
      "source": [
        ""
      ],
      "metadata": {
        "id": "WeYt20dneaVs"
      },
      "execution_count": null,
      "outputs": []
    },
    {
      "cell_type": "code",
      "source": [
        "# os.makedirs(作成したいdirectoryのパス) - directoryの作成,上書き\n",
        "os.makedirs(\"create_directory2\")"
      ],
      "metadata": {
        "id": "2bAf4B34cYtp"
      },
      "execution_count": null,
      "outputs": []
    },
    {
      "cell_type": "code",
      "source": [
        "# 存在しないdirectoryの中にdirectoryを作る\n",
        "os.makedirs(\"./deep/create_directory2\")"
      ],
      "metadata": {
        "id": "ocHWJbfNcYvP"
      },
      "execution_count": 15,
      "outputs": []
    },
    {
      "cell_type": "code",
      "source": [
        "#既に同じ名前のdirectoryが存在する場合,directoryを作成するのかしないのかを指定できる\n",
        "# exist_ok=True - 既に同じ名前のdirectoryが存在していてもdirectoryを作成可能\n",
        "# exist_ok=False - エラーが返ってくる(デフォルトの引数ではこっち)\n",
        "\n",
        "os.makedirs(\"create_directory2\",exist_ok=True)"
      ],
      "metadata": {
        "id": "bH_gI_kcTCRG"
      },
      "execution_count": 16,
      "outputs": []
    },
    {
      "cell_type": "code",
      "source": [
        "import shutil"
      ],
      "metadata": {
        "id": "lTaxgoSjiPJN"
      },
      "execution_count": 18,
      "outputs": []
    },
    {
      "cell_type": "code",
      "source": [
        "# shutil.move ファイルやdirectory移動(高水準(沢山のことができる)のファイル移動)\n",
        "\n",
        "shutil.move(\"元のファイルパス\",\"移動先のdirectoryパス\") #移動可能\n",
        "shutil.move(\"元のファイルパス\",\"変更後のファイルパス\") #移動+名前を変更\n",
        "shutil.move(\"元のdirectoryパス\",\"移動先のファイルパス\") #ファイルの入ったdirectoryを新しいdirectoryに移動させる"
      ],
      "metadata": {
        "id": "_-6SB3KFgp4g"
      },
      "execution_count": null,
      "outputs": []
    },
    {
      "cell_type": "code",
      "source": [
        "# shutil.copytree - directoryのコピー\n",
        "shutil.copytree(\"コピー元のdirectoryパス\",\"コピー先のdirectoryパス\") #既に存在すればエラーが起きる\n",
        "\n",
        "# shutil.copyfile - ファイルをコピー\n",
        "shutil.copyfile(\"コピー元のファイルパス\",\"コピー先のファイルパス\")"
      ],
      "metadata": {
        "id": "Juqi7-zegqwS"
      },
      "execution_count": null,
      "outputs": []
    },
    {
      "cell_type": "code",
      "source": [
        "# shutil.copy - ファイルをコピー\n",
        "shutil.copy(\"コピー元のファイルパス\",\"コピー先のdirectoryパス\")\n",
        "shutil.copy(\"コピー元のファイルパス\",\"コピー先のファイルパス\") #別名でファイルをコピー\n",
        "\n",
        "# shutil.copy2 - ファイルのメタデータを含めてコピー\n",
        "shutil.copy2(\"コピー元のファイルパス\",\"コピー先のファイルパス\") #copy/copy2 mothodは同じ名前のファイル名があると上書きするため注意が必要"
      ],
      "metadata": {
        "id": "SnpaLSrGgqzI"
      },
      "execution_count": null,
      "outputs": []
    },
    {
      "cell_type": "code",
      "source": [
        "# os.rename - ファイル名の変更\n",
        "os.rename(\"変更前のファイル名\",\"変更後のファイル名\")\n",
        "os.rename(\"\",\"\") #ファイルパスで指定することをできる"
      ],
      "metadata": {
        "colab": {
          "base_uri": "https://localhost:8080/",
          "height": 246
        },
        "id": "91NPg1O7gq1N",
        "outputId": "85bcade8-8c9b-477f-b210-20aa1da275c3"
      },
      "execution_count": 19,
      "outputs": [
        {
          "output_type": "error",
          "ename": "FileNotFoundError",
          "evalue": "ignored",
          "traceback": [
            "\u001b[0;31m---------------------------------------------------------------------------\u001b[0m",
            "\u001b[0;31mFileNotFoundError\u001b[0m                         Traceback (most recent call last)",
            "\u001b[0;32m<ipython-input-19-655bd41b934b>\u001b[0m in \u001b[0;36m<module>\u001b[0;34m()\u001b[0m\n\u001b[1;32m      1\u001b[0m \u001b[0;31m# os.rename - ファイル名の変更\u001b[0m\u001b[0;34m\u001b[0m\u001b[0;34m\u001b[0m\u001b[0;34m\u001b[0m\u001b[0m\n\u001b[0;32m----> 2\u001b[0;31m \u001b[0mos\u001b[0m\u001b[0;34m.\u001b[0m\u001b[0mrename\u001b[0m\u001b[0;34m(\u001b[0m\u001b[0;34m\"変更前のファイル名\"\u001b[0m\u001b[0;34m,\u001b[0m\u001b[0;34m\"変更後のファイル名\"\u001b[0m\u001b[0;34m)\u001b[0m\u001b[0;34m\u001b[0m\u001b[0;34m\u001b[0m\u001b[0m\n\u001b[0m",
            "\u001b[0;31mFileNotFoundError\u001b[0m: [Errno 2] No such file or directory: '変更前のファイル名' -> '変更後のファイル名'"
          ]
        }
      ]
    },
    {
      "cell_type": "code",
      "source": [
        "# os.remove - ファイルの削除(フォルダーは削除できない)\n",
        "# rmdir or removedirs - 空のdirectory(フォルダ)の削除 \n",
        "# rmtree - 空ではないdirectory(フォルダ)の削除 \n",
        "\n",
        "os.remove(\"削除したいファイル名\")\n",
        "\n",
        "#csvファイルのみ削除\n",
        "file_names = glod.glod(\"./xxx/*csv\")\n",
        "print(file_names)\n",
        "\n",
        "for file_name in file_names:\n",
        "    os.remove(file_name)"
      ],
      "metadata": {
        "id": "_82KOaMXgq2x"
      },
      "execution_count": null,
      "outputs": []
    },
    {
      "cell_type": "code",
      "source": [
        "# os.removedirs - 空のdirectoryをまとめて削除\n",
        "test = \"directoryのパス\"\n",
        "os.makedirs(test)\n",
        "\n",
        "#directoryの存在確認\n",
        "os.path.isdir(\"存在確認したいdirectory\")"
      ],
      "metadata": {
        "id": "DazezOhCgq4m"
      },
      "execution_count": null,
      "outputs": []
    },
    {
      "cell_type": "code",
      "source": [
        "# os.rmdir - 空のdirectoryを一つ削除\n",
        "os.rmdir(\"directoryパスの指定\")"
      ],
      "metadata": {
        "id": "Z8eydJOPgq6L"
      },
      "execution_count": null,
      "outputs": []
    },
    {
      "cell_type": "code",
      "source": [
        "# shutil.rmtree - directoryをまとめて削除\n",
        "shutil.rmtree(\"directory名 or directoryパス\")"
      ],
      "metadata": {
        "id": "pryh5ljfgq7-"
      },
      "execution_count": null,
      "outputs": []
    },
    {
      "cell_type": "markdown",
      "source": [
        "#パスの操作"
      ],
      "metadata": {
        "id": "R5vPxbfPnGmL"
      }
    },
    {
      "cell_type": "code",
      "source": [
        "# os.path.split - directoryパスとファイル名を分ける\n",
        "# dir_name - directoryパス\n",
        "# file_pass - ファイル名\n",
        "dir_name,file_name = os.path.split(ファイルパス)"
      ],
      "metadata": {
        "id": "6aNh52zzgq9x"
      },
      "execution_count": null,
      "outputs": []
    },
    {
      "cell_type": "code",
      "source": [
        "# os.path.splitext - ファイル名と拡張子に分ける\n",
        "# file - ファイル名\n",
        "# ext - 拡張子\n",
        "file,ext = os.path.splitext(\"ファイル名\")"
      ],
      "metadata": {
        "id": "wzdIewLbgq_l"
      },
      "execution_count": null,
      "outputs": []
    },
    {
      "cell_type": "code",
      "source": [
        "# os.path.dirname/basename - パスからdirectoryパス,ファイル名だけを取得\n",
        "os.path.dirname(パスの変数)\n",
        "os.path.basename(パスの変数)\n",
        "os.path.split(パスの変数) #ファイル名とパスを分割して取得可能"
      ],
      "metadata": {
        "id": "mFWrCCaAgrBQ"
      },
      "execution_count": null,
      "outputs": []
    },
    {
      "cell_type": "code",
      "source": [
        "# os.isdir - directoryの有無を確認\n",
        "os.isdir(\"存在を確認したいdirectory\")"
      ],
      "metadata": {
        "id": "d6NCOvtHoCRq"
      },
      "execution_count": null,
      "outputs": []
    },
    {
      "cell_type": "code",
      "source": [
        "# os.isfile - ファイルの有無を確認\n",
        "os.isdir(\"存在を確認したいファイル\")"
      ],
      "metadata": {
        "id": "ejXhP_OdoCTU"
      },
      "execution_count": null,
      "outputs": []
    },
    {
      "cell_type": "code",
      "source": [
        "# os.path.exists - directoryやファイルが存在するか確認\n",
        "os.path.exists(\"確認したいファイルまたはdirectoryパス\")"
      ],
      "metadata": {
        "id": "tC1YS4LvoCU4"
      },
      "execution_count": null,
      "outputs": []
    }
  ]
}