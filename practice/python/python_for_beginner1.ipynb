{
  "nbformat": 4,
  "nbformat_minor": 0,
  "metadata": {
    "colab": {
      "name": "Python for beginner1.ipynb",
      "provenance": []
    },
    "kernelspec": {
      "name": "python3",
      "display_name": "Python 3"
    },
    "language_info": {
      "name": "python"
    }
  },
  "cells": [
    {
      "cell_type": "code",
      "source": [
        "#3つの基本構造(基本構造（制御構造、制御フロー）) \n",
        "#1,順次進行 - 上から順に処理される\n",
        "#2,条件分岐 - 特定の条件でプログラムを処理する\n",
        "#3,繰り返し(反復処理、ループ処理) - 決まった回数や条件を満たすまで、同じ処理を繰り返す"
      ],
      "metadata": {
        "id": "8Vuzhtil08xi"
      },
      "execution_count": null,
      "outputs": []
    },
    {
      "cell_type": "code",
      "execution_count": 1,
      "metadata": {
        "id": "iV1xhK0qjh5h",
        "colab": {
          "base_uri": "https://localhost:8080/"
        },
        "outputId": "c418a5cd-42cc-4fe3-8fa1-c58c92191310"
      },
      "outputs": [
        {
          "output_type": "stream",
          "name": "stdout",
          "text": [
            "Hello, World\n"
          ]
        }
      ],
      "source": [
        "print(\"Hello, World\")"
      ]
    },
    {
      "cell_type": "code",
      "source": [
        "print(\"Good Morning\")\n",
        "print(\"Good Afternoon\")\n",
        "print(\"Good Evening\")"
      ],
      "metadata": {
        "colab": {
          "base_uri": "https://localhost:8080/"
        },
        "id": "w2Vd7Ai-086n",
        "outputId": "3eca14ff-b3d8-4b40-8719-6d940a9ee31c"
      },
      "execution_count": 3,
      "outputs": [
        {
          "output_type": "stream",
          "name": "stdout",
          "text": [
            "Good Morning\n",
            "Good Afternoon\n",
            "Good Evening\n"
          ]
        }
      ]
    },
    {
      "cell_type": "code",
      "source": [
        "#変数を作る＝変数を宣言する\n",
        "#変数にデータを入れること＝代入\n",
        "#データを取り出すこと＝参照\n",
        "#初めて変数にデータを入れること＝変数の初期化"
      ],
      "metadata": {
        "id": "I3Q956UT089K"
      },
      "execution_count": 4,
      "outputs": []
    },
    {
      "cell_type": "code",
      "source": [
        "num=1\n",
        "print(num)"
      ],
      "metadata": {
        "colab": {
          "base_uri": "https://localhost:8080/"
        },
        "id": "8Kbqhe5R08-_",
        "outputId": "de43e585-9f45-4044-c746-06dad6d8c017"
      },
      "execution_count": 6,
      "outputs": [
        {
          "output_type": "stream",
          "name": "stdout",
          "text": [
            "1\n"
          ]
        }
      ]
    },
    {
      "cell_type": "code",
      "source": [
        "num=1\n",
        "num01=2\n",
        "num_01=3\n",
        "\n",
        "print(num)\n",
        "print(num01)\n",
        "print(num_01)"
      ],
      "metadata": {
        "colab": {
          "base_uri": "https://localhost:8080/"
        },
        "id": "a5uzy6JO09BD",
        "outputId": "67c20bbd-ce4e-42f9-8097-74058b2b388a"
      },
      "execution_count": 7,
      "outputs": [
        {
          "output_type": "stream",
          "name": "stdout",
          "text": [
            "1\n",
            "2\n",
            "3\n"
          ]
        }
      ]
    },
    {
      "cell_type": "code",
      "source": [
        "num=1\n",
        "num01=2\n",
        "num_01=3\n",
        "# num$01=4\n",
        "# num-01=5\n",
        "# 01num=6\n",
        "\n",
        "print(num)\n",
        "print(num01)\n",
        "print(num_01)\n",
        "# print(num$01)\n",
        "# print(num-01)\n",
        "# print(01num)\n",
        "\n",
        "# = 変数宣言できない"
      ],
      "metadata": {
        "colab": {
          "base_uri": "https://localhost:8080/",
          "height": 136
        },
        "id": "rqCBjglt09CZ",
        "outputId": "d0951b7d-180f-4f44-b28e-f080fd0a2cb7"
      },
      "execution_count": 9,
      "outputs": [
        {
          "output_type": "error",
          "ename": "SyntaxError",
          "evalue": "ignored",
          "traceback": [
            "\u001b[0;36m  File \u001b[0;32m\"<ipython-input-9-c59d1ffbb420>\"\u001b[0;36m, line \u001b[0;32m4\u001b[0m\n\u001b[0;31m    num$01=4\u001b[0m\n\u001b[0m       ^\u001b[0m\n\u001b[0;31mSyntaxError\u001b[0m\u001b[0;31m:\u001b[0m invalid syntax\n"
          ]
        }
      ]
    },
    {
      "cell_type": "code",
      "source": [
        "# 大文字小文字は区別される\n",
        "NUM=1\n",
        "NUm=2\n",
        "\n",
        "print(NUM)\n",
        "print(NUm)"
      ],
      "metadata": {
        "colab": {
          "base_uri": "https://localhost:8080/"
        },
        "id": "lSPc0WoD09Et",
        "outputId": "2141936a-932d-472a-d214-e3131330ac36"
      },
      "execution_count": 12,
      "outputs": [
        {
          "output_type": "stream",
          "name": "stdout",
          "text": [
            "1\n",
            "2\n"
          ]
        }
      ]
    },
    {
      "cell_type": "code",
      "source": [
        "# 予約後 - return, class, for, while 等役割が決まっている単語"
      ],
      "metadata": {
        "id": "Iku41H3o09HU"
      },
      "execution_count": null,
      "outputs": []
    },
    {
      "cell_type": "code",
      "source": [
        "# 予約後は変数では置けない\n",
        "return = 10\n",
        "print(return)"
      ],
      "metadata": {
        "colab": {
          "base_uri": "https://localhost:8080/",
          "height": 136
        },
        "id": "uKVeEvzB09Jp",
        "outputId": "17fff601-b291-446e-df4b-ac971d1188ab"
      },
      "execution_count": 13,
      "outputs": [
        {
          "output_type": "error",
          "ename": "SyntaxError",
          "evalue": "ignored",
          "traceback": [
            "\u001b[0;36m  File \u001b[0;32m\"<ipython-input-13-c3ca74f05818>\"\u001b[0;36m, line \u001b[0;32m1\u001b[0m\n\u001b[0;31m    return = 10\u001b[0m\n\u001b[0m           ^\u001b[0m\n\u001b[0;31mSyntaxError\u001b[0m\u001b[0;31m:\u001b[0m invalid syntax\n"
          ]
        }
      ]
    },
    {
      "cell_type": "code",
      "source": [
        "# データ型\n",
        "# 1,数値型 - 1,int(integer(整数)) 2,float(小数点)\n",
        "# 2,文字列型 - 1,str(string)\n",
        "# 3,ブール型 - True or Flase\n",
        "\n",
        "# 動的型付け言語 - 変数にデータを入れる時データ型を指定しなくていい言語(Ruby,Python,JavaScript,PHP)\n",
        "# 静的型付け言語 - 変数にデータを入れる時データ型を指定しなければいけない言語(C,Java,Kotlin,Go)"
      ],
      "metadata": {
        "id": "qSNfdlsr09N0"
      },
      "execution_count": 14,
      "outputs": []
    },
    {
      "cell_type": "code",
      "source": [
        "# 1,数値型 - 1,int(integer(整数)) 2,float(小数点)\n",
        "# 2,文字列型 - 1,str(string)\n",
        "\n",
        "num01=123\n",
        "num02=1.23\n",
        "string_a=\"Hello, World\"\n",
        "\n",
        "print(num01)\n",
        "print(num02)\n",
        "print(string_a)\n",
        "\n",
        "print(type(num01))\n",
        "print(type(num02))\n",
        "print(type(string_a))\n",
        "\n",
        "# typeでデータ型を確認"
      ],
      "metadata": {
        "colab": {
          "base_uri": "https://localhost:8080/"
        },
        "id": "EMOomzwj09P7",
        "outputId": "9e1fc608-b8c2-4f94-c428-854e722ed993"
      },
      "execution_count": 18,
      "outputs": [
        {
          "output_type": "stream",
          "name": "stdout",
          "text": [
            "123\n",
            "1.23\n",
            "Hello, World\n",
            "<class 'int'>\n",
            "<class 'float'>\n",
            "<class 'str'>\n"
          ]
        }
      ]
    },
    {
      "cell_type": "code",
      "source": [
        "# 3,ブール型 - True or Flase\n",
        "a=10\n",
        "b=1\n",
        "\n",
        "bool01=(a>b)\n",
        "print(bool01)\n",
        "print(type(bool01))"
      ],
      "metadata": {
        "colab": {
          "base_uri": "https://localhost:8080/"
        },
        "id": "C-tFiSlg09RM",
        "outputId": "75d9d8e9-6f1f-451a-f03c-8811a2bd8f65"
      },
      "execution_count": 19,
      "outputs": [
        {
          "output_type": "stream",
          "name": "stdout",
          "text": [
            "True\n",
            "<class 'bool'>\n"
          ]
        }
      ]
    },
    {
      "cell_type": "code",
      "source": [
        "# 3,ブール型 - True or Flase\n",
        "a=10\n",
        "b=1\n",
        "\n",
        "bool01=(a<b)\n",
        "print(bool01)\n",
        "print(type(bool01))"
      ],
      "metadata": {
        "colab": {
          "base_uri": "https://localhost:8080/"
        },
        "id": "AvdVK05Y2Kl-",
        "outputId": "94b90cb1-0a53-40ba-e5b2-8505c4058e54"
      },
      "execution_count": 20,
      "outputs": [
        {
          "output_type": "stream",
          "name": "stdout",
          "text": [
            "False\n",
            "<class 'bool'>\n"
          ]
        }
      ]
    },
    {
      "cell_type": "code",
      "source": [
        "# リスト＝複数のデータを格納することのできるデータ型\n",
        "# 要素＝リストの一つ一つの箱のこと \n",
        "# インデックス=要素（住所）= 順番-1\n",
        "# リストの作り方 - 変数＝[データ１,データ3,データ3,......]"
      ],
      "metadata": {
        "id": "yywutr2Q2Knz"
      },
      "execution_count": 23,
      "outputs": []
    },
    {
      "cell_type": "code",
      "source": [
        "a=[\"sato\",\"suzuki\",\"takahashi\"]\n",
        "print(a)\n",
        "\n",
        "# 要素にアクセスをかける\n",
        "print(a[0])\n",
        "print(a[1])\n",
        "print(a[2])"
      ],
      "metadata": {
        "colab": {
          "base_uri": "https://localhost:8080/"
        },
        "id": "0kroYM772Kp5",
        "outputId": "29568620-a2ee-444d-c627-2b6e5b998b3f"
      },
      "execution_count": 25,
      "outputs": [
        {
          "output_type": "stream",
          "name": "stdout",
          "text": [
            "['sato', 'suzuki', 'takahashi']\n",
            "sato\n",
            "suzuki\n",
            "takahashi\n"
          ]
        }
      ]
    },
    {
      "cell_type": "code",
      "source": [
        "a=[\"sato\",\"suzuki\",\"takahashi\"]\n",
        "\n",
        "# リストに代入する\n",
        "a[1]=\"tanaka\"\n",
        "\n",
        "# 要素にアクセスをかける\n",
        "print(a[0])\n",
        "print(a[1])\n",
        "print(a[2])"
      ],
      "metadata": {
        "colab": {
          "base_uri": "https://localhost:8080/"
        },
        "id": "1UdAXAZ72Krb",
        "outputId": "ba4ab19c-f15d-4d99-c971-80c5b7110415"
      },
      "execution_count": 26,
      "outputs": [
        {
          "output_type": "stream",
          "name": "stdout",
          "text": [
            "sato\n",
            "tanaka\n",
            "takahashi\n"
          ]
        }
      ]
    },
    {
      "cell_type": "code",
      "source": [
        "# リストの中にリストを入れる\n",
        "a=[[\"sato\",\"suzuki\"],[\"takahashi\",\"tanaka\"]]\n",
        "\n",
        "print(a[0][0])\n",
        "print(a[0][1])\n",
        "print(a[1][0])\n",
        "print(a[1][1])"
      ],
      "metadata": {
        "colab": {
          "base_uri": "https://localhost:8080/"
        },
        "id": "OHvikgvi2KtQ",
        "outputId": "152117a9-3e80-4b32-ab8c-cd45c52470b7"
      },
      "execution_count": 27,
      "outputs": [
        {
          "output_type": "stream",
          "name": "stdout",
          "text": [
            "sato\n",
            "suzuki\n",
            "takahashi\n",
            "tanaka\n"
          ]
        }
      ]
    },
    {
      "cell_type": "code",
      "source": [
        "# 演算子\n",
        "\n",
        "x=10\n",
        "y=2\n",
        "\n",
        "print(x+y)\n",
        "print(x-y)\n",
        "print(x*y)\n",
        "print(x/y)\n",
        "print(x%y)"
      ],
      "metadata": {
        "colab": {
          "base_uri": "https://localhost:8080/"
        },
        "id": "kRz1vMIW48MT",
        "outputId": "a9b85f0c-0fe8-48b8-9c62-6f4db519ba7b"
      },
      "execution_count": 28,
      "outputs": [
        {
          "output_type": "stream",
          "name": "stdout",
          "text": [
            "12\n",
            "8\n",
            "20\n",
            "5.0\n",
            "0\n"
          ]
        }
      ]
    },
    {
      "cell_type": "code",
      "source": [
        "# 関係演算子 - 二つの値の関係が正しいのか、正しくないのか判断させる演算子"
      ],
      "metadata": {
        "id": "vJnJLMC748Nk"
      },
      "execution_count": null,
      "outputs": []
    },
    {
      "cell_type": "code",
      "source": [
        "x=10\n",
        "y=2\n",
        "z=10\n",
        "\n",
        "print(x>y)\n",
        "print(x<y)\n",
        "print(x<=y)\n",
        "print(x>=y)\n",
        "print(x==y)\n",
        "print(x!=y)"
      ],
      "metadata": {
        "colab": {
          "base_uri": "https://localhost:8080/"
        },
        "id": "Q2jneXBn48Pr",
        "outputId": "91179e99-4970-4b21-e8be-75d46ead99ff"
      },
      "execution_count": 32,
      "outputs": [
        {
          "output_type": "stream",
          "name": "stdout",
          "text": [
            "True\n",
            "False\n",
            "False\n",
            "True\n",
            "False\n",
            "True\n"
          ]
        }
      ]
    },
    {
      "cell_type": "code",
      "source": [
        "# 論理演算子(and = 両方で合えばTrue, or=片方合えばTrue)\n",
        "x=8\n",
        "y=3\n",
        "\n",
        "print(x>=5 and x<=10)\n",
        "print(y>=5 and y<=10)\n",
        "print(x==3 or y==3)\n",
        "print(x==1 or y==1)"
      ],
      "metadata": {
        "colab": {
          "base_uri": "https://localhost:8080/"
        },
        "id": "-8v7wAE848RO",
        "outputId": "23685e5b-2fdc-4155-8a13-7d803398ac89"
      },
      "execution_count": 36,
      "outputs": [
        {
          "output_type": "stream",
          "name": "stdout",
          "text": [
            "True\n",
            "False\n",
            "True\n",
            "False\n"
          ]
        }
      ]
    },
    {
      "cell_type": "code",
      "source": [
        "x=8\n",
        "y=12\n",
        "z=20\n",
        "\n",
        "# x=x+10 → x +=10\n",
        "x +=10 \n",
        "# z=z+y → z +=y\n",
        "z +=y\n",
        "\n",
        "print(x)\n",
        "print(z)"
      ],
      "metadata": {
        "colab": {
          "base_uri": "https://localhost:8080/"
        },
        "id": "GwfUGRJf48TD",
        "outputId": "931d2caa-22ee-477e-aae3-d1c841beab5b"
      },
      "execution_count": 38,
      "outputs": [
        {
          "output_type": "stream",
          "name": "stdout",
          "text": [
            "18\n",
            "32\n"
          ]
        }
      ]
    },
    {
      "cell_type": "code",
      "source": [
        "# if 条件A:\n",
        "#  条件Aを満たした時の処理\n",
        "# elif　条件B:\n",
        "#  条件Bを満たした時の処理\n",
        "# else:\n",
        "#  条件を満たさない時の処理"
      ],
      "metadata": {
        "id": "jDzxHfzk48U4"
      },
      "execution_count": null,
      "outputs": []
    },
    {
      "cell_type": "code",
      "source": [
        "age=0\n",
        "\n",
        "if age>=20:\n",
        "    print(\"adult\")\n",
        "elif age==0:\n",
        "    print(\"bady\")\n",
        "else:\n",
        "    print(\"child\")"
      ],
      "metadata": {
        "colab": {
          "base_uri": "https://localhost:8080/"
        },
        "id": "VXRFLswq48YQ",
        "outputId": "97bd55e9-d1a9-4e25-8733-f7bd34c6a1f5"
      },
      "execution_count": 45,
      "outputs": [
        {
          "output_type": "stream",
          "name": "stdout",
          "text": [
            "bady\n"
          ]
        }
      ]
    },
    {
      "cell_type": "code",
      "source": [
        "#3,繰り返し(反復処理、ループ処理) - 決まった回数や条件を満たすまで、同じ処理を繰り返す\n",
        "# for文 - 条件を満たしていれば、同じ処理をぐるぐる繰り返す\n",
        "\n",
        "# for 変数 in range(繰り返す回数):\n",
        "#   繰り返し中に実行する処理\n",
        "\n",
        "# 変数＝カウンタ変数（回数を宣言して処理回数を決定する）,i(index, iterator)が使われることが多い"
      ],
      "metadata": {
        "id": "lSjcrDX948aF"
      },
      "execution_count": null,
      "outputs": []
    },
    {
      "cell_type": "code",
      "source": [
        "for i in range(5):\n",
        "    print(i)\n",
        "\n",
        "# rangeで作ったリストの数値を、繰り返しのたびに変数iに先頭の0から格納していく　"
      ],
      "metadata": {
        "colab": {
          "base_uri": "https://localhost:8080/"
        },
        "id": "3smEKoeJ48b4",
        "outputId": "b6ef5d93-32ab-458c-a86f-852b2fb2e1a9"
      },
      "execution_count": 46,
      "outputs": [
        {
          "output_type": "stream",
          "name": "stdout",
          "text": [
            "0\n",
            "1\n",
            "2\n",
            "3\n",
            "4\n"
          ]
        }
      ]
    },
    {
      "cell_type": "code",
      "source": [
        "# break文 - ある条件に当てはまった時、繰り返し処理を終了させることができる。\n",
        "for i in range(5):\n",
        "    if i==3:\n",
        "        break\n",
        "    print(i)"
      ],
      "metadata": {
        "colab": {
          "base_uri": "https://localhost:8080/"
        },
        "id": "lemsilM548dt",
        "outputId": "cdbc2b62-9747-42e8-a9bc-ea1d3f520ae0"
      },
      "execution_count": 47,
      "outputs": [
        {
          "output_type": "stream",
          "name": "stdout",
          "text": [
            "0\n",
            "1\n",
            "2\n"
          ]
        }
      ]
    },
    {
      "cell_type": "code",
      "source": [
        "# continue文 - 繰り返し処理で、ある条件に当てはまった時、その処理を終了させることができる。(Skip)\n",
        "for i in range(5):\n",
        "    if i==3:\n",
        "        continue\n",
        "    print(i)"
      ],
      "metadata": {
        "colab": {
          "base_uri": "https://localhost:8080/"
        },
        "id": "TXZLpcL148fi",
        "outputId": "cf6e8db7-ed52-47c5-e9df-57cc7f4d8e54"
      },
      "execution_count": 48,
      "outputs": [
        {
          "output_type": "stream",
          "name": "stdout",
          "text": [
            "0\n",
            "1\n",
            "2\n",
            "4\n"
          ]
        }
      ]
    },
    {
      "cell_type": "code",
      "source": [
        "# for文のネスト - for分の中にfor分が入っている　\n",
        "for i in range(3):\n",
        "    for j in range(3):\n",
        "        print(i,j,sep=\"-\")\n",
        "\n",
        "# iが０周目のときに、jが０から２まで回り、iが１周目のときに、jが０から２まで回り、iが２周目のときに、jが０から２まで回り、"
      ],
      "metadata": {
        "colab": {
          "base_uri": "https://localhost:8080/"
        },
        "id": "GogLIone48i9",
        "outputId": "111f68f6-297f-486e-96f6-f1516d64cd79"
      },
      "execution_count": 49,
      "outputs": [
        {
          "output_type": "stream",
          "name": "stdout",
          "text": [
            "0-0\n",
            "0-1\n",
            "0-2\n",
            "1-0\n",
            "1-1\n",
            "1-2\n",
            "2-0\n",
            "2-1\n",
            "2-2\n"
          ]
        }
      ]
    },
    {
      "cell_type": "code",
      "source": [
        "# for文のinの後にリストを書くことで、リストの中身が変数に一つずつ格納される\n",
        "arr=[2,4,6,8,10]\n",
        "for i in arr:\n",
        "    print(i)"
      ],
      "metadata": {
        "colab": {
          "base_uri": "https://localhost:8080/"
        },
        "id": "Spv5OKSOL5r8",
        "outputId": "69e6b55c-b15b-469c-a271-f349564ee67d"
      },
      "execution_count": 50,
      "outputs": [
        {
          "output_type": "stream",
          "name": "stdout",
          "text": [
            "2\n",
            "4\n",
            "6\n",
            "8\n",
            "10\n"
          ]
        }
      ]
    },
    {
      "cell_type": "code",
      "source": [
        "# for文のinの後にリストを書くことで、リストの中身が変数に一つずつ格納される。+足すことも可能\n",
        "arr=[2,4,6,8,10]\n",
        "sum=0\n",
        "for i in arr:\n",
        "    sum +=i\n",
        "    print(sum)"
      ],
      "metadata": {
        "colab": {
          "base_uri": "https://localhost:8080/"
        },
        "id": "j7eKzz-Q48kx",
        "outputId": "50d3c2c4-2888-49ed-a8cf-fabddf11d02d"
      },
      "execution_count": 51,
      "outputs": [
        {
          "output_type": "stream",
          "name": "stdout",
          "text": [
            "2\n",
            "6\n",
            "12\n",
            "20\n",
            "30\n"
          ]
        }
      ]
    },
    {
      "cell_type": "code",
      "source": [
        "# 関数=料理ロボット\n",
        "# 関数が便利なポイント\n",
        "# １、同じものを２回書く必要がない\n",
        "# ２、１行で使い回しができる\n",
        "# ３、他の人も使うことができる\n",
        "\n",
        "# ２種類の関数\n",
        "# １、自分で作る関数\n",
        "# ２、Pythonが用意している関数（組み込み関数）\n",
        "\n",
        "# 関数を作る = 関数を定義する\n",
        "# 引数＝()の中に記述するもの、関数は引数を受け取ることができる,引数は省力可能、何個でも渡すことが可能\n",
        "\n",
        "# def 関数名(引数):\n",
        "#     実行する処理(return文)"
      ],
      "metadata": {
        "id": "Peckmv-4HaaF"
      },
      "execution_count": null,
      "outputs": []
    },
    {
      "cell_type": "code",
      "source": [
        "# say_hello　→ Hello Worldで定義する\n",
        "def say_hello():\n",
        "    print(\"Hello World\")\n",
        "\n",
        "say_hello()\n",
        "say_hello()\n",
        "say_hello()"
      ],
      "metadata": {
        "colab": {
          "base_uri": "https://localhost:8080/"
        },
        "id": "3EyIQUu2N-FL",
        "outputId": "751fe1ab-f1b1-4c11-ea67-e0ee60e0cdeb"
      },
      "execution_count": 56,
      "outputs": [
        {
          "output_type": "stream",
          "name": "stdout",
          "text": [
            "Hello World\n",
            "Hello World\n",
            "Hello World\n"
          ]
        }
      ]
    },
    {
      "cell_type": "code",
      "source": [
        "def say_hello(greeting):\n",
        "    print(greeting)\n",
        "# これで関数の定義は終わり\n",
        "\n",
        "say_hello(\"hello world\")"
      ],
      "metadata": {
        "colab": {
          "base_uri": "https://localhost:8080/"
        },
        "id": "6JExG73tHabX",
        "outputId": "350346bb-16fe-4b5e-9d8e-7416b1e75db2"
      },
      "execution_count": 63,
      "outputs": [
        {
          "output_type": "stream",
          "name": "stdout",
          "text": [
            "hello world\n"
          ]
        }
      ]
    },
    {
      "cell_type": "code",
      "source": [
        "def say_hello(greeting):\n",
        "    print(greeting)\n",
        "\n",
        "hello=say_hello\n",
        "hello(\"Good Morning\")"
      ],
      "metadata": {
        "colab": {
          "base_uri": "https://localhost:8080/"
        },
        "id": "X5YAWm4jHada",
        "outputId": "c6589770-c6dd-4f23-8174-c6f4a849a371"
      },
      "execution_count": 64,
      "outputs": [
        {
          "output_type": "stream",
          "name": "stdout",
          "text": [
            "Good Morning\n"
          ]
        }
      ]
    },
    {
      "cell_type": "code",
      "source": [
        "# 引数を二つ代入した\n",
        "def add(num01,num02):\n",
        "    print(num01+num02)\n",
        "\n",
        "add(6,2)"
      ],
      "metadata": {
        "colab": {
          "base_uri": "https://localhost:8080/"
        },
        "id": "-fjCrwEFHafB",
        "outputId": "38251ddb-2c74-45fa-dec6-1fa4d8336c5b"
      },
      "execution_count": 65,
      "outputs": [
        {
          "output_type": "stream",
          "name": "stdout",
          "text": [
            "8\n"
          ]
        }
      ]
    },
    {
      "cell_type": "code",
      "source": [
        "# 関数の結果はreturn文で返すことができる。printで表示でして確認する\n",
        "def add(num01,num02):\n",
        "    return(num01+num02)\n",
        " \n",
        "print(add(6,2))"
      ],
      "metadata": {
        "colab": {
          "base_uri": "https://localhost:8080/"
        },
        "id": "_9_A4IEgHag1",
        "outputId": "b5d13146-5acd-4e61-8363-df21b3fcf7f0"
      },
      "execution_count": 67,
      "outputs": [
        {
          "output_type": "stream",
          "name": "stdout",
          "text": [
            "8\n"
          ]
        }
      ]
    },
    {
      "cell_type": "code",
      "source": [
        "# 結果を変数に格納してprint関数で表示される\n",
        "def add(num01,num02):\n",
        "    return(num01+num02)\n",
        "\n",
        "add_result=add(6,2)\n",
        "print(add_result)"
      ],
      "metadata": {
        "colab": {
          "base_uri": "https://localhost:8080/"
        },
        "id": "lylS23pBHay3",
        "outputId": "1145101c-35eb-4902-d577-88ed1a7d1bd2"
      },
      "execution_count": 68,
      "outputs": [
        {
          "output_type": "stream",
          "name": "stdout",
          "text": [
            "8\n"
          ]
        }
      ]
    },
    {
      "cell_type": "code",
      "source": [
        "#　３つの引数の受け取る関数を作り、９、４、２の平均を出す\n",
        "def div(a,b,c):\n",
        "    return(a+b+c)/3\n",
        "\n",
        "div_result=div(9,4,2)\n",
        "print(div_result)"
      ],
      "metadata": {
        "colab": {
          "base_uri": "https://localhost:8080/"
        },
        "id": "AmLOO5t1SRwd",
        "outputId": "095507ae-c445-4d14-c343-47ef03d9ed1f"
      },
      "execution_count": 73,
      "outputs": [
        {
          "output_type": "stream",
          "name": "stdout",
          "text": [
            "5.0\n"
          ]
        }
      ]
    },
    {
      "cell_type": "code",
      "source": [
        "# クラス = データ(Attribute)と処理(method)をまとめたもの\n",
        "# データ(Attribute)=クラス内で定義された変数 \n",
        "# 処理(method)＝クラス内で定義された関数\n",
        "\n",
        "# データ(Attribute)と変数の違いはクラスの中(Attribute)か外(変数)にあるかのちがい　"
      ],
      "metadata": {
        "id": "DLIHBvwDSRzk"
      },
      "execution_count": 74,
      "outputs": []
    },
    {
      "cell_type": "code",
      "source": [
        "# Studentの大文字は慣習\n",
        "# メソッドを定義する場合、必ず１つ引数を記述しなければならない(selfと書くのが慣習。 メソッドの引数にはどんな場合にでもself)\n",
        "# def メソッド名(self): \n",
        "#    print((80+70)/2)\n",
        "\n",
        "# メソッドに渡したい引数が一つの場合メソッドの引数にselfと渡したい引数名の合計２つが必要)\n",
        "# def メソッド名(self,引数1): \n",
        "#    print((80+70)/2)\n",
        "\n",
        "# クラスを使えるようにすることを”インスタンス化（実体化）”、”オブジェクト化”、”オブジェクト生成”という。つまり、クラスという型から、インスタンスという実際に使える”モノ”をつくることを言う。\n",
        "class Student:\n",
        "    def avg(self,math,english):\n",
        "        print((math+english)/2)\n",
        "\n",
        "a001=Student()\n",
        "a001.avg(30,70)\n",
        "# 実行方法 - a001.avg(80,70)\n",
        "\n",
        "# attribute\n",
        "a001.name=\"sato\"\n",
        "print(a001.name)\n"
      ],
      "metadata": {
        "colab": {
          "base_uri": "https://localhost:8080/"
        },
        "id": "yYdAsO88SR1q",
        "outputId": "63d46dea-bbbe-4f0d-c69f-2ebfcc3e0f58"
      },
      "execution_count": 80,
      "outputs": [
        {
          "output_type": "stream",
          "name": "stdout",
          "text": [
            "50.0\n",
            "sato\n"
          ]
        }
      ]
    },
    {
      "cell_type": "code",
      "source": [
        "# 初期化メソッド def __init__ (self):\n",
        "# attributeはインスタンスごとに存在する。つまりインスタンスごとにattributeを定義しなければいけない。\n",
        "# 新しいインスタンスを作りごとに、attributeを定義する必要がある。\n",
        "# インスタンス10個＝attributeを10個作る記述をしなければいけない。\n",
        "# この不便さを解消するのがコンストラクタ(初期化メソッド)=インスタンス化する時に、自動的に実行するメソッド\n",
        "# 初期化メソッドはインスタンス化すれば必ず実行されるメソッド　\n",
        "\n",
        "class Student:\n",
        "\n",
        "    def __init__ (self,name):\n",
        "        self.name=name\n",
        "        \n",
        "a001=Student(\"sato\")\n",
        "print(a001.name)\n",
        "\n",
        "a002=Student(\"tanaka\")\n",
        "print(a002.name)\n",
        "\n",
        "# クラスは一度定義しておけば、後からいくらでもインスタンスを作ることができる。\n",
        "# クラス = 車を作る”設計図” or たい焼きを作る”金型”\n",
        "# クラス ＝　パソコンで使うコピペ。コピペでインスタンスをどんどん作ることが可能。\n",
        "# クラスがない場合、生徒一人ひとりのためにStudentクラスを書かなけれけばいけないため面倒。\n",
        "# クラスがあるから効率的にプログラミングが可能　 "
      ],
      "metadata": {
        "colab": {
          "base_uri": "https://localhost:8080/"
        },
        "id": "0NAbXLGQSR3O",
        "outputId": "fb2ce2f3-b981-49c2-b911-883f0dd354fe"
      },
      "execution_count": 91,
      "outputs": [
        {
          "output_type": "stream",
          "name": "stdout",
          "text": [
            "sato\n",
            "tanaka\n"
          ]
        }
      ]
    },
    {
      "cell_type": "code",
      "source": [
        "class Student:\n",
        "\n",
        "    def __init__ (self):\n",
        "        self.name=\"\"\n",
        "    def avg(self,math,english):\n",
        "        print((math+english)/2)\n",
        "        \n",
        "a001=Student()\n",
        "a001.name = \"sato\"\n",
        "print(a001.name)\n",
        "\n",
        "# 問題\n",
        "# a001はなんと言うか？ - インスタンス\n",
        "# Student()は何を呼び出している？ - クラス\n",
        "# def __init__ (self):の部分はなんという？ - コンストラクタ\n",
        "# self.name=\"\"は何を定義しているのか - attribute\n",
        "# def avg(self,math,english):はなんというのか - メソッド"
      ],
      "metadata": {
        "colab": {
          "base_uri": "https://localhost:8080/"
        },
        "id": "5ZpRKKUzSR5C",
        "outputId": "a5deb7f1-3f70-498d-b3d9-cf2831cef29d"
      },
      "execution_count": 92,
      "outputs": [
        {
          "output_type": "stream",
          "name": "stdout",
          "text": [
            "sato\n"
          ]
        }
      ]
    },
    {
      "cell_type": "code",
      "source": [
        "# attributeとメソッドの定義\n",
        "class Student:\n",
        "    \n",
        "    def __init__(self,name):\n",
        "        self.name=name\n",
        "    \n",
        "    def calculate_avg(self,data):\n",
        "        sum=0\n",
        "\n",
        "        for num in data:\n",
        "            sum += num\n",
        "\n",
        "        avg=sum/len(data)\n",
        "        return avg\n",
        "\n",
        "    def judge(self,avg):\n",
        "\n",
        "        if (avg >= 60):\n",
        "            result=\"passed\"\n",
        "        else:\n",
        "            result=\"failed\"\n",
        "        return result\n",
        "\n",
        "# ここまでがattributeとメソッドの定義\n",
        "# リストの要素数を求めるにはlenをつかう。そしてreturnで結果を返す\n",
        "\n",
        "# インスタンス化\n",
        "a001= Student(\"sato\")\n",
        "data=[70,65,50,90,30]\n",
        "avg=a001.calculate_avg(data)\n",
        "result = a001.judge(avg) \n",
        "\n",
        "print(avg)\n",
        "print(a001.name+\"\"+result)"
      ],
      "metadata": {
        "colab": {
          "base_uri": "https://localhost:8080/"
        },
        "id": "7lYGViaOSR6r",
        "outputId": "44b81bac-b7bd-4b30-a754-a3f0dd0a01c9"
      },
      "execution_count": 94,
      "outputs": [
        {
          "output_type": "stream",
          "name": "stdout",
          "text": [
            "61.0\n",
            "satopassed\n"
          ]
        }
      ]
    }
  ]
}