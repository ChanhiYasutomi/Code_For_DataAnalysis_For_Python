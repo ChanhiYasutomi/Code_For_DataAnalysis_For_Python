{
  "nbformat": 4,
  "nbformat_minor": 0,
  "metadata": {
    "colab": {
      "name": "python_everyday.ipynb",
      "provenance": [],
      "collapsed_sections": []
    },
    "kernelspec": {
      "name": "python3",
      "display_name": "Python 3"
    },
    "language_info": {
      "name": "python"
    }
  },
  "cells": [
    {
      "cell_type": "code",
      "source": [
        "import pandas as pd\n",
        "import numpy as np\n",
        "import matplotlib.pyplot as plt\n",
        "import seaborn as sns"
      ],
      "metadata": {
        "id": "20ZEKaiUM8wF"
      },
      "execution_count": 2,
      "outputs": []
    },
    {
      "cell_type": "code",
      "source": [
        "# pandas.read_csv(\"ファイルパス\") - csvファイルを読み込む\n",
        "\n",
        "# header = 1 - csvファイルを読み込み始める行数を指定できる(1行目をスキップして読み込むことができる)\n",
        "# index_col=\"\" - インデックスに指定するカラムを指定できる\n",
        "# pandas.read_csv(\"\",encoding=\"UTF-8\",header = 1,index_col=\"\")"
      ],
      "metadata": {
        "id": "H31F-MnuM83c"
      },
      "execution_count": null,
      "outputs": []
    },
    {
      "cell_type": "code",
      "source": [
        "# pandas.DataFrame.to_csv - csvファイルへの書き出し\n",
        "\n",
        "# DataFrameを作成する\n",
        "df = pd.DataFrame([[1,2,3],[4,5,6],[7,8,9]],\n",
        "columns = [\"col01\",\"col02\",\"col03\"],\n",
        "index = [\"idx01\",\"idx02\",\"idx03\",])\n",
        "print(df)\n",
        "\n",
        "# df.to_csv(\"書き出すファイルパス\") - csvファイルの作成\n",
        "df.to_csv(\"output.csv\")\n",
        "\n",
        "# header = True(書き出す) or False - 書き出すかどうか\n",
        "# index = True or False(書き出さない)　- 書き出すかどうか\n",
        "df.to_csv(\"output1.csv\",header = False, index = False)"
      ],
      "metadata": {
        "colab": {
          "base_uri": "https://localhost:8080/"
        },
        "id": "IaAuAADlM87R",
        "outputId": "f38fcf60-d34c-4f14-ba99-ad624607bf62"
      },
      "execution_count": null,
      "outputs": [
        {
          "output_type": "stream",
          "name": "stdout",
          "text": [
            "       col01  col02  col03\n",
            "idx01      1      2      3\n",
            "idx02      4      5      6\n",
            "idx03      7      8      9\n"
          ]
        }
      ]
    },
    {
      "cell_type": "code",
      "source": [
        "# pandas.read_excel(\"ファイルパス\") - excelファイルを読み込む\n",
        "# sheet_name = 読み込むシートを変更できる(デフォルトは0)\n",
        "# 例 1, sheet_name = 1\n",
        "# 例 2, sheet_name = \"文字でも可能\"\n",
        "# skiprows = 読み込みを省略したい行数を指定できる\n",
        "\n",
        "# pandas.read_excel(\"ファイルパス\",sheet_name = 1,skiprows = 1)"
      ],
      "metadata": {
        "id": "JpKPBYfoM89G"
      },
      "execution_count": null,
      "outputs": []
    },
    {
      "cell_type": "code",
      "source": [
        "# pandas.DataFrame.to_excel - excelファイルへの書き出し\n",
        "\n",
        "# DataFrameを作成する\n",
        "df = pd.DataFrame([[1,2,3],[4,5,6],[7,8,9]],\n",
        "columns = [\"col01\",\"col02\",\"col03\"],\n",
        "index = [\"idx01\",\"idx02\",\"idx03\",])\n",
        "print(df)\n",
        "\n",
        "# df.to_csv(\"書き出すファイルパス\") - csvファイルの作成\n",
        "df.to_excel(\"excel.xlsx\")\n",
        "\n",
        "# 書き出す名前のシート名を指定できる\n",
        "df.to_excel(\"excel_1.xlsx\",sheet_name=\"sheet01\")"
      ],
      "metadata": {
        "colab": {
          "base_uri": "https://localhost:8080/"
        },
        "id": "auPR5dCeM9DX",
        "outputId": "5402b133-ef0f-4c52-ab28-ce3078f59e19"
      },
      "execution_count": null,
      "outputs": [
        {
          "output_type": "stream",
          "name": "stdout",
          "text": [
            "       col01  col02  col03\n",
            "idx01      1      2      3\n",
            "idx02      4      5      6\n",
            "idx03      7      8      9\n"
          ]
        }
      ]
    },
    {
      "cell_type": "code",
      "source": [
        "# pandas.DataFrame.info - データフレームの要約情報(行数、列名、各列の列名、各列のNull値の有無、各列のデータ型、メモリ使用量)を取得\n",
        "df = pd.read_csv(\"/content/sample_data/california_housing_test.csv\")\n",
        "print(df.info()) #特別な引数はない\n",
        "\n",
        "# pandas.DataFrame.describe - 記述統計量(データの傾向 - 欠損値を除くデータの個数、平均値、標準偏差、最小値、四分位数、最大値)を知る\n",
        "print(df.describe()) #統計量を調べる"
      ],
      "metadata": {
        "colab": {
          "base_uri": "https://localhost:8080/"
        },
        "id": "zBVtcAtNM9FM",
        "outputId": "87761475-e06b-42ad-980b-5374138c1b6d"
      },
      "execution_count": null,
      "outputs": [
        {
          "output_type": "stream",
          "name": "stdout",
          "text": [
            "<class 'pandas.core.frame.DataFrame'>\n",
            "RangeIndex: 3000 entries, 0 to 2999\n",
            "Data columns (total 9 columns):\n",
            " #   Column              Non-Null Count  Dtype  \n",
            "---  ------              --------------  -----  \n",
            " 0   longitude           3000 non-null   float64\n",
            " 1   latitude            3000 non-null   float64\n",
            " 2   housing_median_age  3000 non-null   float64\n",
            " 3   total_rooms         3000 non-null   float64\n",
            " 4   total_bedrooms      3000 non-null   float64\n",
            " 5   population          3000 non-null   float64\n",
            " 6   households          3000 non-null   float64\n",
            " 7   median_income       3000 non-null   float64\n",
            " 8   median_house_value  3000 non-null   float64\n",
            "dtypes: float64(9)\n",
            "memory usage: 211.1 KB\n",
            "None\n",
            "         longitude    latitude  ...  median_income  median_house_value\n",
            "count  3000.000000  3000.00000  ...    3000.000000          3000.00000\n",
            "mean   -119.589200    35.63539  ...       3.807272        205846.27500\n",
            "std       1.994936     2.12967  ...       1.854512        113119.68747\n",
            "min    -124.180000    32.56000  ...       0.499900         22500.00000\n",
            "25%    -121.810000    33.93000  ...       2.544000        121200.00000\n",
            "50%    -118.485000    34.27000  ...       3.487150        177650.00000\n",
            "75%    -118.020000    37.69000  ...       4.656475        263975.00000\n",
            "max    -114.490000    41.92000  ...      15.000100        500001.00000\n",
            "\n",
            "[8 rows x 9 columns]\n"
          ]
        }
      ]
    },
    {
      "cell_type": "code",
      "source": [
        "# pandas.DataFrame.shape - データフレームの行数列数を取得\n",
        "print(df.head())\n",
        "print(df.shape)\n",
        "\n",
        "# 行数のみを取得する\n",
        "print(df.shape[0])\n",
        "print(len(df)) #len関数\n",
        "\n",
        "# 列数のみを取得する\n",
        "print(df.shape[1])\n",
        "print(len(df.columns)) #len関数"
      ],
      "metadata": {
        "colab": {
          "base_uri": "https://localhost:8080/"
        },
        "id": "kKq_7perc6tM",
        "outputId": "aa88088b-bf9c-4918-8bb9-aff9365d0a7c"
      },
      "execution_count": null,
      "outputs": [
        {
          "output_type": "stream",
          "name": "stdout",
          "text": [
            "   longitude  latitude  ...  median_income  median_house_value\n",
            "0    -122.05     37.37  ...         6.6085            344700.0\n",
            "1    -118.30     34.26  ...         3.5990            176500.0\n",
            "2    -117.81     33.78  ...         5.7934            270500.0\n",
            "3    -118.36     33.82  ...         6.1359            330000.0\n",
            "4    -119.67     36.33  ...         2.9375             81700.0\n",
            "\n",
            "[5 rows x 9 columns]\n",
            "(3000, 9)\n",
            "3000\n",
            "3000\n",
            "9\n",
            "9\n"
          ]
        }
      ]
    },
    {
      "cell_type": "code",
      "source": [
        "# pandas.DataFrame.uni que - 重複のないデータを取得\n",
        "df = pd.read_csv(\"/content/sample_data/california_housing_test.csv\")\n",
        "# df[\"カラム指定\"].unique\n",
        "print(df[\"longitude\"].unique)"
      ],
      "metadata": {
        "colab": {
          "base_uri": "https://localhost:8080/"
        },
        "id": "PJo6urcIc6u4",
        "outputId": "ca23d75a-2e00-46b5-e70f-0adf5285a3a6"
      },
      "execution_count": null,
      "outputs": [
        {
          "output_type": "stream",
          "name": "stdout",
          "text": [
            "<bound method Series.unique of 0      -122.05\n",
            "1      -118.30\n",
            "2      -117.81\n",
            "3      -118.36\n",
            "4      -119.67\n",
            "         ...  \n",
            "2995   -119.86\n",
            "2996   -118.14\n",
            "2997   -119.70\n",
            "2998   -117.12\n",
            "2999   -119.63\n",
            "Name: longitude, Length: 3000, dtype: float64>\n"
          ]
        }
      ]
    },
    {
      "cell_type": "code",
      "source": [
        "# sorted(並べ替えたいリスト,reverse = True(降順) or False(デフォルト - 昇順)) - リストを並び替える\n",
        "new_list = [3,4,1,2,5,7,8,9,6]\n",
        "print(new_list)\n",
        "print(sorted(new_list))\n",
        "\n",
        "# sorted - 元々のリストが変わらない\n",
        "# sort - 元々のリストが変わる\n",
        "new_list.sort()\n",
        "print(new_list)\n",
        "\n",
        "sorted(new_list,reverse = True)"
      ],
      "metadata": {
        "colab": {
          "base_uri": "https://localhost:8080/"
        },
        "id": "-KFYZb1_kOx1",
        "outputId": "2b47f882-9c54-4765-9052-eef3bba7dc6f"
      },
      "execution_count": null,
      "outputs": [
        {
          "output_type": "stream",
          "name": "stdout",
          "text": [
            "[3, 4, 1, 2, 5, 7, 8, 9, 6]\n",
            "[1, 2, 3, 4, 5, 6, 7, 8, 9]\n",
            "[1, 2, 3, 4, 5, 6, 7, 8, 9]\n"
          ]
        },
        {
          "output_type": "execute_result",
          "data": {
            "text/plain": [
              "[9, 8, 7, 6, 5, 4, 3, 2, 1]"
            ]
          },
          "metadata": {},
          "execution_count": 19
        }
      ]
    },
    {
      "cell_type": "code",
      "source": [
        "# list.sort() - リストの並び替え\n",
        "data = [3,4,1,2,5,7,8,9,6]\n",
        "data.sort()\n",
        "print(data)\n",
        "\n",
        "data.sort(reverse = True)\n",
        "print(data)\n",
        "\n",
        "data = [\"い\",\"う\",\"あ\"]\n",
        "sorted(data)"
      ],
      "metadata": {
        "colab": {
          "base_uri": "https://localhost:8080/"
        },
        "id": "l5U-Q7E0kOzU",
        "outputId": "63f1bb5f-cd24-4806-e1ac-c22244eab4e5"
      },
      "execution_count": null,
      "outputs": [
        {
          "output_type": "stream",
          "name": "stdout",
          "text": [
            "[1, 2, 3, 4, 5, 6, 7, 8, 9]\n",
            "[9, 8, 7, 6, 5, 4, 3, 2, 1]\n"
          ]
        },
        {
          "output_type": "execute_result",
          "data": {
            "text/plain": [
              "['あ', 'い', 'う']"
            ]
          },
          "metadata": {},
          "execution_count": 22
        }
      ]
    },
    {
      "cell_type": "code",
      "source": [
        "# pandas.DataFrame.sort_values - データフレームでカラムを並び替え\n",
        "# np.nan = 欠損値\n",
        "\n",
        "df = pd.DataFrame(\n",
        "    [[3,np.nan,6],[4,\"abc\",np.nan],[1,8,np.nan],[2,11,12],[np.nan,14,18]],\n",
        "    columns = [\"col01\",\"col02\",\"col03\"],\n",
        "    index = [\"idx01\",\"idx02\",\"idx03\",\"idx04\",\"idx05\"],\n",
        ")\n",
        "\n",
        "print(df)\n",
        "\n",
        "print(df.sort_values(by=\"col01\")) #col01を指定して並び替え\n",
        "print(df.sort_values(by=\"col01\",ascending = False)) #col01を指定して並び替え, ascending = True(デフォルト - 昇順) or False(降順)\n",
        "print(df.sort_values(by=\"col01\",na_position = \"first\")) #欠損値を一番上に並び替えることができる"
      ],
      "metadata": {
        "colab": {
          "base_uri": "https://localhost:8080/"
        },
        "id": "cQ9mdGWhkO1L",
        "outputId": "a0646751-1cb0-41ea-d144-8c3f754433b6"
      },
      "execution_count": null,
      "outputs": [
        {
          "output_type": "stream",
          "name": "stdout",
          "text": [
            "       col01 col02  col03\n",
            "idx01    3.0   NaN    6.0\n",
            "idx02    4.0   abc    NaN\n",
            "idx03    1.0     8    NaN\n",
            "idx04    2.0    11   12.0\n",
            "idx05    NaN    14   18.0\n",
            "       col01 col02  col03\n",
            "idx03    1.0     8    NaN\n",
            "idx04    2.0    11   12.0\n",
            "idx01    3.0   NaN    6.0\n",
            "idx02    4.0   abc    NaN\n",
            "idx05    NaN    14   18.0\n",
            "       col01 col02  col03\n",
            "idx02    4.0   abc    NaN\n",
            "idx01    3.0   NaN    6.0\n",
            "idx04    2.0    11   12.0\n",
            "idx03    1.0     8    NaN\n",
            "idx05    NaN    14   18.0\n",
            "       col01 col02  col03\n",
            "idx05    NaN    14   18.0\n",
            "idx03    1.0     8    NaN\n",
            "idx04    2.0    11   12.0\n",
            "idx01    3.0   NaN    6.0\n",
            "idx02    4.0   abc    NaN\n"
          ]
        }
      ]
    },
    {
      "cell_type": "code",
      "source": [
        "# pandas.DataFrame.sort_index - データフレームをインデックスやカラムで並び替え\n",
        "df = pd.DataFrame(\n",
        "    [[3,5,6],[4,7,8],[3,8,10],[4,11,12],[3,14,18]],\n",
        "    columns = [\"col01\",\"col02\",\"col03\"],\n",
        "    index = [\"idx01\",\"idx02\",\"idx03\",\"idx04\",\"idx05\"],\n",
        ")\n",
        "df = df.astype(\"int\")\n",
        "print(df)\n",
        "\n",
        "print(df.sort_index()) #インデックス名軸にして並び替えることができる\n",
        "print(df.sort_index(axis = 1, ascending = False)) #カラム名を軸に並ぶかえ(axis = 1(columns) or 0(index))"
      ],
      "metadata": {
        "colab": {
          "base_uri": "https://localhost:8080/"
        },
        "id": "1MerK0JXkO3G",
        "outputId": "d25e87e4-4e9d-40ba-826a-6c2f046f052b"
      },
      "execution_count": null,
      "outputs": [
        {
          "output_type": "stream",
          "name": "stdout",
          "text": [
            "       col01  col02  col03\n",
            "idx01      3      5      6\n",
            "idx02      4      7      8\n",
            "idx03      3      8     10\n",
            "idx04      4     11     12\n",
            "idx05      3     14     18\n",
            "       col01  col02  col03\n",
            "idx01      3      5      6\n",
            "idx02      4      7      8\n",
            "idx03      3      8     10\n",
            "idx04      4     11     12\n",
            "idx05      3     14     18\n",
            "       col03  col02  col01\n",
            "idx01      6      5      3\n",
            "idx02      8      7      4\n",
            "idx03     10      8      3\n",
            "idx04     12     11      4\n",
            "idx05     18     14      3\n"
          ]
        }
      ]
    },
    {
      "cell_type": "code",
      "source": [
        "# pandas.DataFrame.index - データフレームのインデックスを取得\n",
        "df = pd.DataFrame([[90,78],[65,87],[72,88],[92,77],[85,83]])\n",
        "print(df)\n",
        "print(df.index) #インデックスが取得できる - RangeIndex(start=0, stop=5, step=1),範囲 = 0~5,1づつ増えていく\n",
        "\n",
        "df.index = [\"sato\",\"suzuki\",\"takahashi\",\"tanaka\",\"ito\"]\n",
        "print(df)\n",
        "print(df.index) #名前に変更されている\n",
        "\n",
        "s1 = pd.Series([90,78,65,87,72])\n",
        "print(s1)\n",
        "print(s1.index)"
      ],
      "metadata": {
        "colab": {
          "base_uri": "https://localhost:8080/"
        },
        "id": "DPjj4qyckO41",
        "outputId": "48967094-81dd-4656-adde-9fc83b8b8f56"
      },
      "execution_count": null,
      "outputs": [
        {
          "output_type": "stream",
          "name": "stdout",
          "text": [
            "    0   1\n",
            "0  90  78\n",
            "1  65  87\n",
            "2  72  88\n",
            "3  92  77\n",
            "4  85  83\n",
            "RangeIndex(start=0, stop=5, step=1)\n",
            "            0   1\n",
            "sato       90  78\n",
            "suzuki     65  87\n",
            "takahashi  72  88\n",
            "tanaka     92  77\n",
            "ito        85  83\n",
            "Index(['sato', 'suzuki', 'takahashi', 'tanaka', 'ito'], dtype='object')\n",
            "0    90\n",
            "1    78\n",
            "2    65\n",
            "3    87\n",
            "4    72\n",
            "dtype: int64\n",
            "RangeIndex(start=0, stop=5, step=1)\n"
          ]
        }
      ]
    },
    {
      "cell_type": "code",
      "source": [
        "# pandas.DataFrame.set_index - 既存のカラムをインデックスに指定\n",
        "df = pd.DataFrame(\n",
        "    [[\"A\",\"a\",110],[\"C\",\"c\",130],[\"D\",\"d\",140],[\"B\",\"b\",120]],\n",
        "    columns = [\"col01\",\"col02\",\"col03\"]\n",
        ")\n",
        "print(df)\n",
        "print(df.set_index(\"col01\")) #col01を指定して並び替え,インデックスに変更される\n",
        "print(df.set_index(\"col01\").sort_index()) #カラム名で変更したい場合(インデックスがアルファベット順になる)"
      ],
      "metadata": {
        "colab": {
          "base_uri": "https://localhost:8080/"
        },
        "id": "M_w-CiOjkO64",
        "outputId": "0c7efe31-59eb-4548-c6e2-3432194ade9e"
      },
      "execution_count": null,
      "outputs": [
        {
          "output_type": "stream",
          "name": "stdout",
          "text": [
            "  col01 col02  col03\n",
            "0     A     a    110\n",
            "1     C     c    130\n",
            "2     D     d    140\n",
            "3     B     b    120\n",
            "      col02  col03\n",
            "col01             \n",
            "A         a    110\n",
            "C         c    130\n",
            "D         d    140\n",
            "B         b    120\n",
            "      col02  col03\n",
            "col01             \n",
            "A         a    110\n",
            "B         b    120\n",
            "C         c    130\n",
            "D         d    140\n"
          ]
        }
      ]
    },
    {
      "cell_type": "code",
      "source": [
        "# pandas.DataFrame.T - データフレームの行列を入れ替え(転置)\n",
        "df = pd.DataFrame(\n",
        "    np.arange(12).reshape(3,4),\n",
        "    columns = [\"col01\",\"col02\",\"col03\",\"col04\"],\n",
        "    index = [\"idx01\",\"idx02\",\"idx03\"]\n",
        ")\n",
        "print(df)\n",
        "print(df.T) #行と列が入れ替わる\n",
        "# df.transpose() = df.T -同じ結果になる\n",
        "print(df.transpose())\n",
        "\n",
        "# 元のデータに転置したデータフレームに置き換えたい場合は変数に代入する\n",
        "# 例 - df = df.T"
      ],
      "metadata": {
        "colab": {
          "base_uri": "https://localhost:8080/"
        },
        "id": "tXlV5g7UkO8f",
        "outputId": "9d588042-bd04-4d7a-c848-01c19907cd34"
      },
      "execution_count": null,
      "outputs": [
        {
          "output_type": "stream",
          "name": "stdout",
          "text": [
            "       col01  col02  col03  col04\n",
            "idx01      0      1      2      3\n",
            "idx02      4      5      6      7\n",
            "idx03      8      9     10     11\n",
            "       idx01  idx02  idx03\n",
            "col01      0      4      8\n",
            "col02      1      5      9\n",
            "col03      2      6     10\n",
            "col04      3      7     11\n",
            "       idx01  idx02  idx03\n",
            "col01      0      4      8\n",
            "col02      1      5      9\n",
            "col03      2      6     10\n",
            "col04      3      7     11\n"
          ]
        }
      ]
    },
    {
      "cell_type": "code",
      "source": [
        "# type(判定したい数字や変数) - 変数のデータ型を取得\n",
        "print(type(1))\n",
        "print(type(0.1))\n",
        "\n",
        "df = pd.DataFrame({1,2,3}) #データフレーム\n",
        "print(df)\n",
        "\n",
        "num = np.array([[1],[2],[3]]) #np.array\n",
        "print(num)\n",
        "\n",
        "import datetime\n",
        "dt = datetime.date.today()\n",
        "print(type(df))\n",
        "\n",
        "str = \"2022-07-11\"\n",
        "print(type(str))"
      ],
      "metadata": {
        "colab": {
          "base_uri": "https://localhost:8080/"
        },
        "id": "vea6-zy1kO-S",
        "outputId": "4be93cd9-975e-4ac8-d3a6-f08200917570"
      },
      "execution_count": null,
      "outputs": [
        {
          "output_type": "stream",
          "name": "stdout",
          "text": [
            "<class 'int'>\n",
            "<class 'float'>\n",
            "   0\n",
            "0  1\n",
            "1  2\n",
            "2  3\n",
            "[[1]\n",
            " [2]\n",
            " [3]]\n",
            "<class 'pandas.core.frame.DataFrame'>\n",
            "<class 'str'>\n"
          ]
        }
      ]
    },
    {
      "cell_type": "code",
      "source": [
        "# pandas.DataFrame.drop(削除したい行,削除したい列) - データフレームの行や列を削除\n",
        "df = pd.DataFrame(\n",
        "    np.arange(20).reshape(4,5),\n",
        "    columns = [\"col01\",\"col02\",\"col03\",\"col04\",\"col05\"],\n",
        "    index = [\"idx01\",\"idx02\",\"idx03\",\"idx04\"]\n",
        ")\n",
        "\n",
        "print(df)\n",
        "print(df.drop(\"idx03\")) # 1行削除\n",
        "print(df.drop([\"idx01\",\"idx02\"])) # 複数行の削除(リストで渡す)\n",
        "print(df.drop(\"col03\",axis = 1)) # 列の削除\n",
        "\n",
        "# 元データフレームを変更したい場合 - inplace = True\n",
        "# 例 - df.drop(\"idx03\",inplace = True)"
      ],
      "metadata": {
        "colab": {
          "base_uri": "https://localhost:8080/"
        },
        "id": "GGM7ufmIkPAE",
        "outputId": "eea0f9bd-7b96-4bba-cf29-e65f0bca4637"
      },
      "execution_count": null,
      "outputs": [
        {
          "output_type": "stream",
          "name": "stdout",
          "text": [
            "       col01  col02  col03  col04  col05\n",
            "idx01      0      1      2      3      4\n",
            "idx02      5      6      7      8      9\n",
            "idx03     10     11     12     13     14\n",
            "idx04     15     16     17     18     19\n",
            "       col01  col02  col03  col04  col05\n",
            "idx01      0      1      2      3      4\n",
            "idx02      5      6      7      8      9\n",
            "idx04     15     16     17     18     19\n",
            "       col01  col02  col03  col04  col05\n",
            "idx03     10     11     12     13     14\n",
            "idx04     15     16     17     18     19\n",
            "       col01  col02  col04  col05\n",
            "idx01      0      1      3      4\n",
            "idx02      5      6      8      9\n",
            "idx03     10     11     13     14\n",
            "idx04     15     16     18     19\n"
          ]
        }
      ]
    },
    {
      "cell_type": "code",
      "source": [
        "# pandas.DataFrame.drop_duplicates - データフレームの重複する行を削除\n",
        "df = pd.DataFrame(\n",
        "    [[\"A\",\"a\",110],[\"C\",\"c\",130],[\"C\",\"c\",130],[\"D\",\"d\",140],[\"A\",\"a\",110]],\n",
        "    columns = [\"col01\",\"col02\",\"col03\"],\n",
        "    index = [\"idx01\",\"idx02\",\"idx03\",\"idx04\",\"idx05\"])\n",
        "print(df)\n",
        "\n",
        "print(df.drop_duplicates()) #引数に指定がない場合,要素の値が全て重複する行を削除する\n",
        "print(df.drop_duplicates(subset = [\"col02\"])) #カラムを指定して値の重複を削除, subset = [\"カラムを指定\"]\n",
        "\n",
        "# 元データフレームを変更したい場合 - inplace = True\n",
        "# 例 - df.drop_duplicates(inplace = True)"
      ],
      "metadata": {
        "colab": {
          "base_uri": "https://localhost:8080/"
        },
        "id": "Sk2fCgL7kPB5",
        "outputId": "c68e09fe-73d6-447c-80ce-069ea141a694"
      },
      "execution_count": null,
      "outputs": [
        {
          "output_type": "stream",
          "name": "stdout",
          "text": [
            "      col01 col02  col03\n",
            "idx01     A     a    110\n",
            "idx02     C     c    130\n",
            "idx03     C     c    130\n",
            "idx04     D     d    140\n",
            "idx05     A     a    110\n",
            "      col01 col02  col03\n",
            "idx01     A     a    110\n",
            "idx02     C     c    130\n",
            "idx04     D     d    140\n",
            "      col01 col02  col03\n",
            "idx01     A     a    110\n",
            "idx02     C     c    130\n",
            "idx04     D     d    140\n"
          ]
        }
      ]
    },
    {
      "cell_type": "code",
      "source": [
        "# pandas.DataFrame.dropna - データフレームの欠損値を削除\n",
        "df = pd.DataFrame(\n",
        "    [[1,np.nan,3],[np.nan,\"abc\",6],[np.nan,np.nan,np.nan],[10,11,12]],\n",
        "    columns = [\"col01\",\"col02\",\"col03\"],\n",
        "    index = [\"idx01\",\"idx02\",\"idx03\",\"idx04\"]\n",
        ")\n",
        "print(df)\n",
        "\n",
        "print(df.dropna()) # 引数を指定せずに実行したら１つでも欠損知がある行が削除される\n",
        "print(df.dropna(how=\"all\")) # how=　\"all\" - 全ての値が欠損知の行を削除した場合\n",
        "df.dropna(subset = [\"col01\"]) # subset = [\"カラムを指定する\"] - 特定のカラムが欠損知の行を削除したい場合\n",
        "\n",
        "# 元データフレームを変更したい場合 - inplace = True\n",
        "# 例 - df.dropna(inplace = True)"
      ],
      "metadata": {
        "colab": {
          "base_uri": "https://localhost:8080/",
          "height": 315
        },
        "id": "aU8Nc8y1c6wd",
        "outputId": "de54c3e6-9337-4e44-c753-38c88bfec7c7"
      },
      "execution_count": null,
      "outputs": [
        {
          "output_type": "stream",
          "name": "stdout",
          "text": [
            "       col01 col02  col03\n",
            "idx01    1.0   NaN    3.0\n",
            "idx02    NaN   abc    6.0\n",
            "idx03    NaN   NaN    NaN\n",
            "idx04   10.0    11   12.0\n",
            "       col01 col02  col03\n",
            "idx04   10.0    11   12.0\n",
            "       col01 col02  col03\n",
            "idx01    1.0   NaN    3.0\n",
            "idx02    NaN   abc    6.0\n",
            "idx04   10.0    11   12.0\n"
          ]
        },
        {
          "output_type": "execute_result",
          "data": {
            "text/html": [
              "\n",
              "  <div id=\"df-60cba9bc-623e-4b19-8cb5-3f1ffebd22b1\">\n",
              "    <div class=\"colab-df-container\">\n",
              "      <div>\n",
              "<style scoped>\n",
              "    .dataframe tbody tr th:only-of-type {\n",
              "        vertical-align: middle;\n",
              "    }\n",
              "\n",
              "    .dataframe tbody tr th {\n",
              "        vertical-align: top;\n",
              "    }\n",
              "\n",
              "    .dataframe thead th {\n",
              "        text-align: right;\n",
              "    }\n",
              "</style>\n",
              "<table border=\"1\" class=\"dataframe\">\n",
              "  <thead>\n",
              "    <tr style=\"text-align: right;\">\n",
              "      <th></th>\n",
              "      <th>col01</th>\n",
              "      <th>col02</th>\n",
              "      <th>col03</th>\n",
              "    </tr>\n",
              "  </thead>\n",
              "  <tbody>\n",
              "    <tr>\n",
              "      <th>idx01</th>\n",
              "      <td>1.0</td>\n",
              "      <td>NaN</td>\n",
              "      <td>3.0</td>\n",
              "    </tr>\n",
              "    <tr>\n",
              "      <th>idx04</th>\n",
              "      <td>10.0</td>\n",
              "      <td>11</td>\n",
              "      <td>12.0</td>\n",
              "    </tr>\n",
              "  </tbody>\n",
              "</table>\n",
              "</div>\n",
              "      <button class=\"colab-df-convert\" onclick=\"convertToInteractive('df-60cba9bc-623e-4b19-8cb5-3f1ffebd22b1')\"\n",
              "              title=\"Convert this dataframe to an interactive table.\"\n",
              "              style=\"display:none;\">\n",
              "        \n",
              "  <svg xmlns=\"http://www.w3.org/2000/svg\" height=\"24px\"viewBox=\"0 0 24 24\"\n",
              "       width=\"24px\">\n",
              "    <path d=\"M0 0h24v24H0V0z\" fill=\"none\"/>\n",
              "    <path d=\"M18.56 5.44l.94 2.06.94-2.06 2.06-.94-2.06-.94-.94-2.06-.94 2.06-2.06.94zm-11 1L8.5 8.5l.94-2.06 2.06-.94-2.06-.94L8.5 2.5l-.94 2.06-2.06.94zm10 10l.94 2.06.94-2.06 2.06-.94-2.06-.94-.94-2.06-.94 2.06-2.06.94z\"/><path d=\"M17.41 7.96l-1.37-1.37c-.4-.4-.92-.59-1.43-.59-.52 0-1.04.2-1.43.59L10.3 9.45l-7.72 7.72c-.78.78-.78 2.05 0 2.83L4 21.41c.39.39.9.59 1.41.59.51 0 1.02-.2 1.41-.59l7.78-7.78 2.81-2.81c.8-.78.8-2.07 0-2.86zM5.41 20L4 18.59l7.72-7.72 1.47 1.35L5.41 20z\"/>\n",
              "  </svg>\n",
              "      </button>\n",
              "      \n",
              "  <style>\n",
              "    .colab-df-container {\n",
              "      display:flex;\n",
              "      flex-wrap:wrap;\n",
              "      gap: 12px;\n",
              "    }\n",
              "\n",
              "    .colab-df-convert {\n",
              "      background-color: #E8F0FE;\n",
              "      border: none;\n",
              "      border-radius: 50%;\n",
              "      cursor: pointer;\n",
              "      display: none;\n",
              "      fill: #1967D2;\n",
              "      height: 32px;\n",
              "      padding: 0 0 0 0;\n",
              "      width: 32px;\n",
              "    }\n",
              "\n",
              "    .colab-df-convert:hover {\n",
              "      background-color: #E2EBFA;\n",
              "      box-shadow: 0px 1px 2px rgba(60, 64, 67, 0.3), 0px 1px 3px 1px rgba(60, 64, 67, 0.15);\n",
              "      fill: #174EA6;\n",
              "    }\n",
              "\n",
              "    [theme=dark] .colab-df-convert {\n",
              "      background-color: #3B4455;\n",
              "      fill: #D2E3FC;\n",
              "    }\n",
              "\n",
              "    [theme=dark] .colab-df-convert:hover {\n",
              "      background-color: #434B5C;\n",
              "      box-shadow: 0px 1px 3px 1px rgba(0, 0, 0, 0.15);\n",
              "      filter: drop-shadow(0px 1px 2px rgba(0, 0, 0, 0.3));\n",
              "      fill: #FFFFFF;\n",
              "    }\n",
              "  </style>\n",
              "\n",
              "      <script>\n",
              "        const buttonEl =\n",
              "          document.querySelector('#df-60cba9bc-623e-4b19-8cb5-3f1ffebd22b1 button.colab-df-convert');\n",
              "        buttonEl.style.display =\n",
              "          google.colab.kernel.accessAllowed ? 'block' : 'none';\n",
              "\n",
              "        async function convertToInteractive(key) {\n",
              "          const element = document.querySelector('#df-60cba9bc-623e-4b19-8cb5-3f1ffebd22b1');\n",
              "          const dataTable =\n",
              "            await google.colab.kernel.invokeFunction('convertToInteractive',\n",
              "                                                     [key], {});\n",
              "          if (!dataTable) return;\n",
              "\n",
              "          const docLinkHtml = 'Like what you see? Visit the ' +\n",
              "            '<a target=\"_blank\" href=https://colab.research.google.com/notebooks/data_table.ipynb>data table notebook</a>'\n",
              "            + ' to learn more about interactive tables.';\n",
              "          element.innerHTML = '';\n",
              "          dataTable['output_type'] = 'display_data';\n",
              "          await google.colab.output.renderOutput(dataTable, element);\n",
              "          const docLink = document.createElement('div');\n",
              "          docLink.innerHTML = docLinkHtml;\n",
              "          element.appendChild(docLink);\n",
              "        }\n",
              "      </script>\n",
              "    </div>\n",
              "  </div>\n",
              "  "
            ],
            "text/plain": [
              "       col01 col02  col03\n",
              "idx01    1.0   NaN    3.0\n",
              "idx04   10.0    11   12.0"
            ]
          },
          "metadata": {},
          "execution_count": 86
        }
      ]
    },
    {
      "cell_type": "code",
      "source": [
        "# pandas.DataFrame.dtypes - データフレームのカラムごとのデータ型を削除\n",
        "df = pd.read_csv(\"/content/sample_data/california_housing_test.csv\")\n",
        "print(df.head())\n",
        "print(df.dtypes)\n",
        "# df[\"カラム名指定\"].dtype - dtype属性でデータ型を確認できる\n",
        "\n",
        "# object = 文字列型"
      ],
      "metadata": {
        "colab": {
          "base_uri": "https://localhost:8080/"
        },
        "id": "Mx4byukKc6yh",
        "outputId": "1b73aa04-fc81-409f-ff70-4dcb43251a54"
      },
      "execution_count": null,
      "outputs": [
        {
          "output_type": "stream",
          "name": "stdout",
          "text": [
            "   longitude  latitude  ...  median_income  median_house_value\n",
            "0    -122.05     37.37  ...         6.6085            344700.0\n",
            "1    -118.30     34.26  ...         3.5990            176500.0\n",
            "2    -117.81     33.78  ...         5.7934            270500.0\n",
            "3    -118.36     33.82  ...         6.1359            330000.0\n",
            "4    -119.67     36.33  ...         2.9375             81700.0\n",
            "\n",
            "[5 rows x 9 columns]\n",
            "longitude             float64\n",
            "latitude              float64\n",
            "housing_median_age    float64\n",
            "total_rooms           float64\n",
            "total_bedrooms        float64\n",
            "population            float64\n",
            "households            float64\n",
            "median_income         float64\n",
            "median_house_value    float64\n",
            "dtype: object\n"
          ]
        }
      ]
    },
    {
      "cell_type": "code",
      "source": [
        "# pandas.DataFrame.to_datetime - データフレームのカラムを日時型に変換\n",
        "df = pd.read_csv(\"/content/sample_data/california_housing_test.csv\")\n",
        "print(df.head())\n",
        "\n",
        "pd.to_datetime(df[\"日時型に変換したいカラム\"])\n",
        "pd.to_datetime(df[\"日時型に変換したいカラム\"],format=\"%Y年%m月%d日\") #年月日で表記されている場合"
      ],
      "metadata": {
        "id": "_YY7zph1c60W"
      },
      "execution_count": null,
      "outputs": []
    },
    {
      "cell_type": "code",
      "source": [
        "# pandas.Series.tolist - シリーズをリストに変換\n",
        "s = pd.Series([1,2,3,4,5,6,7,8,9])\n",
        "print(s)\n",
        "\n",
        "s_to_list = s.tolist()\n",
        "print(s_to_list) #リストに変換できた\n",
        "\n",
        "#二次元のシリーズでも変換可能\n",
        "s1 = pd.Series([[1,2,3],[4,5,6],[7,8,9]])\n",
        "s1_to_list = s.tolist()\n",
        "print(s1_to_list)\n",
        "\n",
        "# numpyのarrayからリストに変換することも可能\n",
        "arr = np.array([1,2,3,4,5,6,7,8,9])\n",
        "print(arr)\n",
        "\n",
        "arr_to_list = arr.tolist()\n",
        "print(arr_to_list)\n",
        "\n",
        "print(type(arr_to_list))"
      ],
      "metadata": {
        "colab": {
          "base_uri": "https://localhost:8080/"
        },
        "id": "D8d9AAiDn-SO",
        "outputId": "5914aa32-ee12-4612-bf92-d2277695a8d4"
      },
      "execution_count": null,
      "outputs": [
        {
          "output_type": "stream",
          "name": "stdout",
          "text": [
            "0    1\n",
            "1    2\n",
            "2    3\n",
            "3    4\n",
            "4    5\n",
            "5    6\n",
            "6    7\n",
            "7    8\n",
            "8    9\n",
            "dtype: int64\n",
            "[1, 2, 3, 4, 5, 6, 7, 8, 9]\n",
            "[1, 2, 3, 4, 5, 6, 7, 8, 9]\n",
            "[1 2 3 4 5 6 7 8 9]\n",
            "[1, 2, 3, 4, 5, 6, 7, 8, 9]\n",
            "<class 'list'>\n"
          ]
        }
      ]
    },
    {
      "cell_type": "code",
      "source": [
        "# pandas.Series.resample - 日時データの集約\n",
        "# 時系列データに変換になるようにindexを日時型に変更する\n",
        "df = pd.read_csv(\"/content/sample_data/california_housing_test.csv\",parsr_dates=[\"カラム名\"],index_col=[\"カラム名\"])\n",
        "print(df.head())\n",
        "\n",
        "df.index() # 日時型だと確認できるはず\n",
        "df.resample(\"M\").sum() # 月毎に集計して合計を算出する,df.resample(\"集計したい頻度(集約したい頻度,日時:D,週次:W,月次:M,四半期:Q)\").sum()\n",
        "df.resample(\"2M\").sum() #2ヶ月ごとの平均\n"
      ],
      "metadata": {
        "id": "fQ-W2Qxun-T0"
      },
      "execution_count": null,
      "outputs": []
    },
    {
      "cell_type": "code",
      "source": [
        "# pandas.DataFrame.head - データフレームの一部分を表示\n",
        "df = pd.read_csv(\"/content/sample_data/california_housing_test.csv\")\n",
        "print(df.head())\n",
        "\n",
        "print(df.head())\n",
        "print(df.head(3))\n",
        "print(df.tail())\n",
        "print(df.tail(6))\n",
        "print(df.sample(6)) #df.sample(6) - sample method, 指定した行数分,ランダムで表示可能"
      ],
      "metadata": {
        "colab": {
          "base_uri": "https://localhost:8080/"
        },
        "id": "OkIFnHYRn-VZ",
        "outputId": "5499ae21-1b0a-4d62-dd9c-fcb434ca4dee"
      },
      "execution_count": null,
      "outputs": [
        {
          "output_type": "stream",
          "name": "stdout",
          "text": [
            "   longitude  latitude  ...  median_income  median_house_value\n",
            "0    -122.05     37.37  ...         6.6085            344700.0\n",
            "1    -118.30     34.26  ...         3.5990            176500.0\n",
            "2    -117.81     33.78  ...         5.7934            270500.0\n",
            "3    -118.36     33.82  ...         6.1359            330000.0\n",
            "4    -119.67     36.33  ...         2.9375             81700.0\n",
            "\n",
            "[5 rows x 9 columns]\n",
            "   longitude  latitude  ...  median_income  median_house_value\n",
            "0    -122.05     37.37  ...         6.6085            344700.0\n",
            "1    -118.30     34.26  ...         3.5990            176500.0\n",
            "2    -117.81     33.78  ...         5.7934            270500.0\n",
            "3    -118.36     33.82  ...         6.1359            330000.0\n",
            "4    -119.67     36.33  ...         2.9375             81700.0\n",
            "\n",
            "[5 rows x 9 columns]\n",
            "   longitude  latitude  ...  median_income  median_house_value\n",
            "0    -122.05     37.37  ...         6.6085            344700.0\n",
            "1    -118.30     34.26  ...         3.5990            176500.0\n",
            "2    -117.81     33.78  ...         5.7934            270500.0\n",
            "\n",
            "[3 rows x 9 columns]\n",
            "      longitude  latitude  ...  median_income  median_house_value\n",
            "2995    -119.86     34.42  ...         1.1790            225000.0\n",
            "2996    -118.14     34.06  ...         3.3906            237200.0\n",
            "2997    -119.70     36.30  ...         2.2895             62000.0\n",
            "2998    -117.12     34.10  ...         3.2708            162500.0\n",
            "2999    -119.63     34.42  ...         8.5608            500001.0\n",
            "\n",
            "[5 rows x 9 columns]\n",
            "      longitude  latitude  ...  median_income  median_house_value\n",
            "2994    -117.93     33.86  ...         5.5867            182500.0\n",
            "2995    -119.86     34.42  ...         1.1790            225000.0\n",
            "2996    -118.14     34.06  ...         3.3906            237200.0\n",
            "2997    -119.70     36.30  ...         2.2895             62000.0\n",
            "2998    -117.12     34.10  ...         3.2708            162500.0\n",
            "2999    -119.63     34.42  ...         8.5608            500001.0\n",
            "\n",
            "[6 rows x 9 columns]\n",
            "      longitude  latitude  ...  median_income  median_house_value\n",
            "521     -122.20     40.26  ...         3.1908            137900.0\n",
            "2095    -122.42     37.79  ...         3.4423            117500.0\n",
            "33      -118.08     34.55  ...         4.5237            141800.0\n",
            "1788    -121.95     37.35  ...         4.2656            236100.0\n",
            "2867    -117.23     32.73  ...         7.5557            441400.0\n",
            "1926    -118.38     34.22  ...         2.2679            150000.0\n",
            "\n",
            "[6 rows x 9 columns]\n"
          ]
        }
      ]
    },
    {
      "cell_type": "code",
      "source": [
        "# pandas.DataFrame.fillna - データフレームの欠損値を置換\n",
        "df = pd.DataFrame({\n",
        "    \"col1\": [1,np.nan,7,10],\n",
        "    \"col2\": [np.nan,3,8,11],\n",
        "    \"col3\": [3,6,np.nan,12]},\n",
        "    index = [\"idx01\",\"idx02\",\"idx03\",\"idx04\"]\n",
        ")\n",
        "print(df)\n",
        "\n",
        "print(df.fillna(0)) #df.fillna(欠損値を置き換えたい値) - 今回は欠損知を0置き換える\n",
        "print(df.fillna(df.mean())) #平均値で置き換える\n",
        "\n",
        "# 元データフレームを変更したい場合 - inplace = True\n",
        "# 例 - df.fillna(df.mean(),inplace = True)"
      ],
      "metadata": {
        "colab": {
          "base_uri": "https://localhost:8080/"
        },
        "id": "PzZB6AfDn-XN",
        "outputId": "7dcd8754-6732-4edd-bf42-61d60a75770f"
      },
      "execution_count": null,
      "outputs": [
        {
          "output_type": "stream",
          "name": "stdout",
          "text": [
            "       col1  col2  col3\n",
            "idx01   1.0   NaN   3.0\n",
            "idx02   NaN   3.0   6.0\n",
            "idx03   7.0   8.0   NaN\n",
            "idx04  10.0  11.0  12.0\n",
            "       col1  col2  col3\n",
            "idx01   1.0   0.0   3.0\n",
            "idx02   0.0   3.0   6.0\n",
            "idx03   7.0   8.0   0.0\n",
            "idx04  10.0  11.0  12.0\n",
            "       col1       col2  col3\n",
            "idx01   1.0   7.333333   3.0\n",
            "idx02   6.0   3.000000   6.0\n",
            "idx03   7.0   8.000000   7.0\n",
            "idx04  10.0  11.000000  12.0\n"
          ]
        }
      ]
    },
    {
      "cell_type": "code",
      "source": [
        "# pandas.DataFrame.mask(\"条件\",\"条件に合う場合に代入する値\") - データフレームの条件に応じて値を変更\n",
        "df = pd.DataFrame({\n",
        "    \"col1\": [\"a\",\"a\",\"b\",\"b\",\"a\"],\n",
        "    \"col2\": [2,13,5,8,20],\n",
        "    \"col3\": [6,np.nan,np.nan,12,9]},\n",
        ")\n",
        "print(df)\n",
        "\n",
        "print(df[\"col2\"].mask(df[\"col2\"] > 5,\"Z\")) #df[\"col2\"].mask(df[\"条件\"] > 5,\"条件に合う場合に代入する値\")\n",
        "print(df[\"col3\"].mask(df[\"col3\"].isnull(), df[\"col2\"])) #null値を補完することもできる\n",
        "\n",
        "# 元データフレームを変更したい場合 - inplace = True\n",
        "# 例 - df[\"col3\"].mask(df[\"col3\"].isnull(), df[\"col2\"],inplace = True)\n",
        "print(df[\"col2\"].where(df[\"col2\"] > 5,\"Z\")) # where - 条件に合わない値のみ操作可能"
      ],
      "metadata": {
        "colab": {
          "base_uri": "https://localhost:8080/"
        },
        "id": "YQYhfJ-iqqdB",
        "outputId": "3f96e96b-2386-4e2b-c244-835ad2cbb55b"
      },
      "execution_count": null,
      "outputs": [
        {
          "output_type": "stream",
          "name": "stdout",
          "text": [
            "  col1  col2  col3\n",
            "0    a     2   6.0\n",
            "1    a    13   NaN\n",
            "2    b     5   NaN\n",
            "3    b     8  12.0\n",
            "4    a    20   9.0\n",
            "0    2\n",
            "1    Z\n",
            "2    5\n",
            "3    Z\n",
            "4    Z\n",
            "Name: col2, dtype: object\n",
            "0     6.0\n",
            "1    13.0\n",
            "2     5.0\n",
            "3    12.0\n",
            "4     9.0\n",
            "Name: col3, dtype: float64\n",
            "0     Z\n",
            "1    13\n",
            "2     Z\n",
            "3     8\n",
            "4    20\n",
            "Name: col2, dtype: object\n"
          ]
        }
      ]
    },
    {
      "cell_type": "code",
      "source": [
        "# pandas.DataFrame.value_counts - ユニークな値とその個数を取得\n",
        "df = pd.DataFrame({\n",
        "    \"col1\": [1,2,3,3,2,3,2],\n",
        "    \"col2\": [\"c\",\"a\",\"a\",\"a\",\"b\",\"a\",\"b\"],\n",
        "    \"col3\": [5,5,5,5,5,5,5]},\n",
        ")\n",
        "print(df)\n",
        "\n",
        "print(df.value_counts()) #行ごとにユニークになる要素とその個数が表示される(デフォルトでは個数が多い順に表示される)\n",
        "print(df[\"col2\"].value_counts()) #シリーズでも使用できる\n",
        "print(df[\"col1\"].unique()) # データの重複がない値を取得できる"
      ],
      "metadata": {
        "colab": {
          "base_uri": "https://localhost:8080/"
        },
        "id": "YK9PEdGCqqe3",
        "outputId": "3cf27d93-d8dd-4015-ad7c-e699ee33bf0b"
      },
      "execution_count": null,
      "outputs": [
        {
          "output_type": "stream",
          "name": "stdout",
          "text": [
            "   col1 col2  col3\n",
            "0     1    c     5\n",
            "1     2    a     5\n",
            "2     3    a     5\n",
            "3     3    a     5\n",
            "4     2    b     5\n",
            "5     3    a     5\n",
            "6     2    b     5\n",
            "col1  col2  col3\n",
            "3     a     5       3\n",
            "2     b     5       2\n",
            "      a     5       1\n",
            "1     c     5       1\n",
            "dtype: int64\n",
            "a    4\n",
            "b    2\n",
            "c    1\n",
            "Name: col2, dtype: int64\n",
            "[1 2 3]\n"
          ]
        }
      ]
    },
    {
      "cell_type": "code",
      "source": [
        "# pandas.DataFrame.count - 欠損値を除く要素の個数を取得\n",
        "df = pd.DataFrame({\n",
        "    \"Name\": [\"sato\",\"suzuki\",\"tanaka\",\"takahashi\",\"ito\"],\n",
        "    \"Age\": [22,24,np.nan,35,28],\n",
        "    \"Smoke\": [False,True,True,True,False]}\n",
        ")\n",
        "print(df)\n",
        "print(df.count) #要素を計算する(カラムごとに欠損値を取り除いた数を取得することができた)\n",
        "print(df.count(axis = 1)) #カラムの方向を指定するとindexごとの数を取得できる\n",
        "print(df.count(numeric_only = True)) #数字のカラムのみを取り除くことができる"
      ],
      "metadata": {
        "id": "AL7zH6MqqqgI",
        "colab": {
          "base_uri": "https://localhost:8080/"
        },
        "outputId": "7aecb5f8-1c03-4341-802c-c41c6b9d7127"
      },
      "execution_count": null,
      "outputs": [
        {
          "output_type": "stream",
          "name": "stdout",
          "text": [
            "        Name   Age  Smoke\n",
            "0       sato  22.0  False\n",
            "1     suzuki  24.0   True\n",
            "2     tanaka   NaN   True\n",
            "3  takahashi  35.0   True\n",
            "4        ito  28.0  False\n",
            "<bound method DataFrame.count of         Name   Age  Smoke\n",
            "0       sato  22.0  False\n",
            "1     suzuki  24.0   True\n",
            "2     tanaka   NaN   True\n",
            "3  takahashi  35.0   True\n",
            "4        ito  28.0  False>\n",
            "0    3\n",
            "1    3\n",
            "2    2\n",
            "3    3\n",
            "4    3\n",
            "dtype: int64\n",
            "Age      4\n",
            "Smoke    5\n",
            "dtype: int64\n"
          ]
        }
      ]
    },
    {
      "cell_type": "code",
      "source": [
        "# pandas.DataFrame.isnull - データフレームの欠損値を確認\n",
        "# np.nan = 欠損値\n",
        "\n",
        "df = pd.DataFrame({\n",
        "    \"Name\": [\"sato\",np.nan,\"tanaka\",\"takahashi\",\"ito\"],\n",
        "    \"Age\": [np.nan,24,np.nan,35,28],\n",
        "    \"Smoke\": [False,True,True,np.nan,False]}\n",
        ")\n",
        "\n",
        "print(df)\n",
        "print(df.isnull()) #欠損値の場合はTrueが返ってくる\n",
        "print(df.isnull().sum()) #欠損値の数をカラムごとに集計することができる\n",
        "print(df[\"Age\"].mask(df[\"Age\"].isnull(),df[\"Age\"].mean())) # mask methodと組み合わせて欠損値を平均で埋めることができる\n",
        "      \n",
        "# fillnaでも可能\n",
        "# df[\"Age\"].mask(df[\"Age\"].isnull(),df[\"Age\"].mean() = df[\"Age\"].fillna(df[\"Age\"].mean()"
      ],
      "metadata": {
        "id": "C8Qk9BEjqqiO",
        "colab": {
          "base_uri": "https://localhost:8080/"
        },
        "outputId": "edaeea5e-f925-4d80-a28c-992fd29c37cf"
      },
      "execution_count": null,
      "outputs": [
        {
          "output_type": "stream",
          "name": "stdout",
          "text": [
            "        Name   Age  Smoke\n",
            "0       sato   NaN  False\n",
            "1        NaN  24.0   True\n",
            "2     tanaka   NaN   True\n",
            "3  takahashi  35.0    NaN\n",
            "4        ito  28.0  False\n",
            "    Name    Age  Smoke\n",
            "0  False   True  False\n",
            "1   True  False  False\n",
            "2  False   True  False\n",
            "3  False  False   True\n",
            "4  False  False  False\n",
            "Name     1\n",
            "Age      2\n",
            "Smoke    1\n",
            "dtype: int64\n",
            "0    29.0\n",
            "1    24.0\n",
            "2    29.0\n",
            "3    35.0\n",
            "4    28.0\n",
            "Name: Age, dtype: float64\n"
          ]
        }
      ]
    },
    {
      "cell_type": "code",
      "source": [
        "# pandas.DataFrame.nunique - 重複しないユニークな値を数える\n",
        "df = pd.DataFrame({\n",
        "    \"A\": [1,2,3,4,4],\n",
        "    \"B\": [6,6,6,6,6]}\n",
        ")\n",
        "print(df)\n",
        "print(df.nunique()) #カラムごとに重複を削除したユニークな値の個数が表示された\n",
        "\n",
        "# seriesでも同様\n",
        "s = pd.Series([\"a\",\"a\",\"b\",\"b\",\"c\",\"c\",\"d\",\"d\",\"e\",\"e\"])\n",
        "print(s)\n",
        "print(s.nunique()) #ユニークな値の個数\n",
        "\n",
        "print(df.value_counts())# データフレームの行ごとにユニークな値とその個数を数えることできる"
      ],
      "metadata": {
        "id": "1J1lnJ1hqqj8",
        "colab": {
          "base_uri": "https://localhost:8080/"
        },
        "outputId": "145a5c1b-b6b5-44cc-d037-568851ac8f10"
      },
      "execution_count": null,
      "outputs": [
        {
          "output_type": "stream",
          "name": "stdout",
          "text": [
            "   A  B\n",
            "0  1  6\n",
            "1  2  6\n",
            "2  3  6\n",
            "3  4  6\n",
            "4  4  6\n",
            "A    4\n",
            "B    1\n",
            "dtype: int64\n",
            "0    a\n",
            "1    a\n",
            "2    b\n",
            "3    b\n",
            "4    c\n",
            "5    c\n",
            "6    d\n",
            "7    d\n",
            "8    e\n",
            "9    e\n",
            "dtype: object\n",
            "5\n",
            "A  B\n",
            "4  6    2\n",
            "3  6    1\n",
            "2  6    1\n",
            "1  6    1\n",
            "dtype: int64\n"
          ]
        }
      ]
    },
    {
      "cell_type": "code",
      "source": [
        "# pandas.DataFrame.replace - 要素の値を置換\n",
        "df = pd.DataFrame({\n",
        "    \"Name\": [\"sato\",np.nan,\"tanaka\",\"takahashi\",\"ito\"],\n",
        "    \"Age\": [np.nan,24,np.nan,35,28],\n",
        "    \"Smoke\": [False,True,True,np.nan,False]}\n",
        ")\n",
        "print(df) \n",
        "\n",
        "# df.replace(\"置換前の値\",\"置換後の値\")\n",
        "print(df.replace(\"sato\",\"kato\")) # satoとkatoに置換する\n",
        "\n",
        "# seriesでも使い方同じ\n",
        "s = pd.Series([1,2,3,3,4,2])\n",
        "print(s)\n",
        "print(s.replace(3,10))"
      ],
      "metadata": {
        "id": "FnElw8wQqqnL",
        "colab": {
          "base_uri": "https://localhost:8080/"
        },
        "outputId": "e2f862b1-4897-48ed-c2cd-16910d19cffb"
      },
      "execution_count": null,
      "outputs": [
        {
          "output_type": "stream",
          "name": "stdout",
          "text": [
            "        Name   Age  Smoke\n",
            "0       sato   NaN  False\n",
            "1        NaN  24.0   True\n",
            "2     tanaka   NaN   True\n",
            "3  takahashi  35.0    NaN\n",
            "4        ito  28.0  False\n",
            "        Name   Age  Smoke\n",
            "0       kato   NaN  False\n",
            "1        NaN  24.0   True\n",
            "2     tanaka   NaN   True\n",
            "3  takahashi  35.0    NaN\n",
            "4        ito  28.0  False\n",
            "0    1\n",
            "1    2\n",
            "2    3\n",
            "3    3\n",
            "4    4\n",
            "5    2\n",
            "dtype: int64\n",
            "0     1\n",
            "1     2\n",
            "2    10\n",
            "3    10\n",
            "4     4\n",
            "5     2\n",
            "dtype: int64\n"
          ]
        }
      ]
    },
    {
      "cell_type": "code",
      "source": [
        "# pandas.Timestamp - 時刻オブジェクトを生成\n",
        "t1 = pd.Timestamp(2022,7,11)\n",
        "print(t1)\n",
        "\n",
        "# Timestampに似たmethod\n",
        "t2 = pd.to_datetime(\"2022-07-11\")\n",
        "print(t2)"
      ],
      "metadata": {
        "id": "KxQv3WY-qqo8",
        "colab": {
          "base_uri": "https://localhost:8080/"
        },
        "outputId": "3c15cbc3-3b06-498e-a243-e1e6e8e0b7a6"
      },
      "execution_count": null,
      "outputs": [
        {
          "output_type": "stream",
          "name": "stdout",
          "text": [
            "2022-07-11 00:00:00\n",
            "2022-07-11 00:00:00\n"
          ]
        }
      ]
    },
    {
      "cell_type": "code",
      "source": [
        "# datetime.date.today - 現在の日付を取得する方法\n",
        "# datetime module - 日付や時刻を扱うmodule\n",
        "import datetime"
      ],
      "metadata": {
        "id": "Ngy8yYPFn-ZA"
      },
      "execution_count": null,
      "outputs": []
    },
    {
      "cell_type": "code",
      "source": [
        "today = datetime.date.today()\n",
        "print(today)\n",
        "\n",
        "print(today.year) #年を抽出\n",
        "print(today.month) #月を抽出\n",
        "print(today.day) #日を抽出"
      ],
      "metadata": {
        "colab": {
          "base_uri": "https://localhost:8080/"
        },
        "id": "_1aleq4Q-drn",
        "outputId": "37984d00-65c6-4b77-e1f5-8a60a84fb140"
      },
      "execution_count": null,
      "outputs": [
        {
          "output_type": "stream",
          "name": "stdout",
          "text": [
            "2022-01-13\n",
            "2022\n",
            "1\n",
            "13\n"
          ]
        }
      ]
    },
    {
      "cell_type": "code",
      "source": [
        "# datetime.object.strftime - 日時を指定した書式の文字列に変換\n",
        "now = datetime.datetime.now()\n",
        "print(now)\n",
        "\n",
        "print(now.strftime(\"%Y.%m.%d, %H:%M:%S\"))\n",
        "print(now.strftime(\"%A,%B,%d,%Y\"))\n",
        "print(now.strftime(\"%年Y.%m月.%d日\"))"
      ],
      "metadata": {
        "colab": {
          "base_uri": "https://localhost:8080/"
        },
        "id": "907EzsLF-dtV",
        "outputId": "3511d8cb-1df7-4dfb-9a71-d06096f758d7"
      },
      "execution_count": null,
      "outputs": [
        {
          "output_type": "stream",
          "name": "stdout",
          "text": [
            "2022-01-13 05:53:59.222605\n",
            "2022.01.13, 05:53:59\n",
            "Thursday,January,13,2022\n",
            "%年Y.01月.13日\n"
          ]
        }
      ]
    },
    {
      "cell_type": "code",
      "source": [
        "# pandas.DataFrame.isin - 特定の値に一致するデータを抽出\n",
        "df = pd.read_csv(\"/content/sample_data/california_housing_test.csv\")\n",
        "df.rename(columns={\"西暦(年)\":\"year\"})\n",
        "print(df.head())\n",
        "\n",
        "df[\"カラム名\"].isin([\"検索したい値\"]) # True or Falseで返ってくる\n",
        "df[df[\"カラム名\"].isin([\"検索したい値\"])] # \"検索したい値\"を抽出できる\n",
        "df[\"カラム名\"].isin([\"検索したい値\",\"検索したい値\"]) #リストの追加で抽出を条件を増やせる\n",
        "df[\"カラム名\"].isin([\"検索したい値\"]) & df[\"カラム名\"].isin([\"検索したい値\"]) # 複数の条件で抽出したい場合(&(and)またはor)"
      ],
      "metadata": {
        "colab": {
          "base_uri": "https://localhost:8080/"
        },
        "id": "tl-tkm3--dvM",
        "outputId": "09e7ebfc-d9f7-42cf-e408-38d7349dddc8"
      },
      "execution_count": null,
      "outputs": [
        {
          "output_type": "stream",
          "name": "stdout",
          "text": [
            "   longitude  latitude  ...  median_income  median_house_value\n",
            "0    -122.05     37.37  ...         6.6085            344700.0\n",
            "1    -118.30     34.26  ...         3.5990            176500.0\n",
            "2    -117.81     33.78  ...         5.7934            270500.0\n",
            "3    -118.36     33.82  ...         6.1359            330000.0\n",
            "4    -119.67     36.33  ...         2.9375             81700.0\n",
            "\n",
            "[5 rows x 9 columns]\n"
          ]
        }
      ]
    },
    {
      "cell_type": "code",
      "source": [
        "# pandas.Series.str.contains - 特定の文字を含むデータの確認\n",
        "df[\"カラム名\"].str.contains([\"検索したい文字列\"]) # True or Falseで返ってくる\n",
        "df[df[\"カラム名\"].str.contains([\"検索したい文字列\"])] #\"カラム名\"から\"検索したい文字列列\"を抽出\n",
        "\n",
        "# 似たmethod - df[df[\"カラム名\"].str.contains([\"検索したい文字列\"])] \n",
        "\n",
        "# str.startswith - 特定の文字列で始まる\n",
        "df[df[\"カラム名\"].str.startswith([\"検索したい文字列\"])]\n",
        "\n",
        "# str.endswith - 特定の文字列で終わる\n",
        "df[df[\"カラム名\"].str.startswith([\"検索したい文字列\"])]"
      ],
      "metadata": {
        "id": "t8piysw_-dxB"
      },
      "execution_count": null,
      "outputs": []
    },
    {
      "cell_type": "code",
      "source": [
        "# date.weekday - 曜日を取得\n",
        "today = datetime.date.today()\n",
        "print(today)\n",
        "\n",
        "print(today.weekday()) #0 = 月曜日, 3 = 木曜日, 6 = 日曜日\n",
        "date = datetime.date(2022,7,7)\n",
        "print(date.weekday())\n",
        "\n",
        "# date.weekdayと似た関数\n",
        "print(date.isoweekday()) #1 = 月曜日, 4 = 木曜日, 7 = 日曜日"
      ],
      "metadata": {
        "id": "r-Gi9Lw2n-ao",
        "colab": {
          "base_uri": "https://localhost:8080/"
        },
        "outputId": "11fb7570-e0f4-477f-faf4-52cd68dd6ca9"
      },
      "execution_count": 178,
      "outputs": [
        {
          "output_type": "stream",
          "name": "stdout",
          "text": [
            "2022-01-13\n",
            "3\n",
            "3\n",
            "4\n"
          ]
        }
      ]
    },
    {
      "cell_type": "code",
      "source": [
        "# date.replace - 日付と時刻の値を変更\n",
        "now = datetime.datetime.now()\n",
        "print(now)\n",
        "\n",
        "print(now.replace(year=2020,month=3,day=1))\n",
        "print(now.replace(hour=16,minute=22,second=30))"
      ],
      "metadata": {
        "id": "mnAeUaxsn-cj",
        "colab": {
          "base_uri": "https://localhost:8080/"
        },
        "outputId": "ebcb6e4b-7963-40a6-c222-e0dd2cada5a5"
      },
      "execution_count": 180,
      "outputs": [
        {
          "output_type": "stream",
          "name": "stdout",
          "text": [
            "2022-01-13 06:51:48.464086\n",
            "2020-03-01 06:51:48.464086\n",
            "2022-01-13 16:22:30.464086\n"
          ]
        }
      ]
    },
    {
      "cell_type": "code",
      "source": [
        "# pandas.DataFrame - データフレームの作成\n",
        "# DataFrame - index, coulums, dataから構成される,二次元データ\n",
        "\n",
        "a = pd.DataFrame(data=[[157,48],[162,52],[174,63]]) # 任意の引数はindex名,カラム名,指定しない場合はデフォルトで0から順番に数字が表示される\n",
        "print(a)\n",
        "\n",
        "b = pd.DataFrame(data=[[157,48],[162,52],[174,63]],\n",
        "                 index = [\"A\",\"B\",\"C\"], # index =　は省略可能\n",
        "                 columns = [\"height\",\"weight\"]) # columns = は省略可能\n",
        "print(b)\n",
        "\n",
        "#辞書型の場合\n",
        "c = pd.DataFrame({\"height\":[157,162,174],\n",
        "                 \"weight\" :[48,52,63]},\n",
        "                 index = [\"A\",\"B\",\"C\"])\n",
        "print(c)\n",
        "\n",
        "# 二次元配列,辞書の他にもndarray,csvファイルなどの指定ができる"
      ],
      "metadata": {
        "id": "EMdSpR8Vn-d-",
        "colab": {
          "base_uri": "https://localhost:8080/"
        },
        "outputId": "6a42ce0f-f72f-41be-db0c-b8371f098324"
      },
      "execution_count": 186,
      "outputs": [
        {
          "output_type": "stream",
          "name": "stdout",
          "text": [
            "     0   1\n",
            "0  157  48\n",
            "1  162  52\n",
            "2  174  63\n",
            "   height  weight\n",
            "A     157      48\n",
            "B     162      52\n",
            "C     174      63\n",
            "   height  weight\n",
            "A     157      48\n",
            "B     162      52\n",
            "C     174      63\n"
          ]
        }
      ]
    },
    {
      "cell_type": "code",
      "source": [
        "# pandas.Series - シリーズを作成\n",
        "# Series = index,dateから構成される,一次元データ\n",
        "\n",
        "print(pd.Series([\"a\",\"b\",\"c\",\"d\",\"e\",\"f\"])) #indexを指定しない場合はデフォルトで0から順番に数字が表示される\n",
        "# dtype = date type(データの型) - 整数:int64 ,少数:float64 ,文字列:object\n",
        "\n",
        "# 辞書を使ってSeriesの作成 \n",
        "# pd.Series({\"インデックス名\":データ}), name = \"test\" - シリーズの名前\n",
        "pd.Series({\"a\":10,\"b\":20,\"c\":30,\"d\":40,\"e\":50},name = \"test\")"
      ],
      "metadata": {
        "id": "yamJvlnqn-fw",
        "colab": {
          "base_uri": "https://localhost:8080/"
        },
        "outputId": "a7945bf1-7816-4bfe-a0f6-20971010e655"
      },
      "execution_count": 188,
      "outputs": [
        {
          "output_type": "stream",
          "name": "stdout",
          "text": [
            "0    a\n",
            "1    b\n",
            "2    c\n",
            "3    d\n",
            "4    e\n",
            "5    f\n",
            "dtype: object\n"
          ]
        },
        {
          "output_type": "execute_result",
          "data": {
            "text/plain": [
              "a    10\n",
              "b    20\n",
              "c    30\n",
              "d    40\n",
              "e    50\n",
              "Name: test, dtype: int64"
            ]
          },
          "metadata": {},
          "execution_count": 188
        }
      ]
    },
    {
      "cell_type": "code",
      "source": [
        "# pandas.DataFrame.columns - データフレームのカラムの操作\n",
        "df = pd.DataFrame([[1,2,3],[4,5,6],[7,8,9]])\n",
        "print(df)\n",
        "\n",
        "# データフレームにカラム名を設定する\n",
        "df.columns = [\"a\",\"b\",\"c\"]\n",
        "print(df)\n",
        "\n",
        "# カラム名を変更する\n",
        "df.columns = [\"x\",\"y\",\"z\"]\n",
        "print(df)\n",
        "\n",
        "# index名を設定する\n",
        "df.index =[\"idx01\",\"idx02\",\"idx03\"]\n",
        "print(df)\n",
        "\n",
        "# データフレームのデータ型を取得する\n",
        "# array = 配列\n",
        "print(df.values)"
      ],
      "metadata": {
        "id": "4K7lS_t_8Eqy",
        "colab": {
          "base_uri": "https://localhost:8080/"
        },
        "outputId": "b7430314-57c9-4fac-c3bd-95cc13953759"
      },
      "execution_count": 193,
      "outputs": [
        {
          "output_type": "stream",
          "name": "stdout",
          "text": [
            "   0  1  2\n",
            "0  1  2  3\n",
            "1  4  5  6\n",
            "2  7  8  9\n",
            "   a  b  c\n",
            "0  1  2  3\n",
            "1  4  5  6\n",
            "2  7  8  9\n",
            "   x  y  z\n",
            "0  1  2  3\n",
            "1  4  5  6\n",
            "2  7  8  9\n",
            "       x  y  z\n",
            "idx01  1  2  3\n",
            "idx02  4  5  6\n",
            "idx03  7  8  9\n",
            "[[1 2 3]\n",
            " [4 5 6]\n",
            " [7 8 9]]\n"
          ]
        }
      ]
    },
    {
      "cell_type": "code",
      "source": [
        "# pandas.set_option - データフレームの表示を設定\n",
        "df = pd.read_csv(\"/content/sample_data/california_housing_test.csv\",encoding=\"shift-jis\")\n",
        "print(df.head())\n",
        "\n",
        "# pd.set_option(\"display.max_rows\",表示したい数)\n",
        "print(pd.set_option(\"display.max_rows\",6)) #先頭と末尾の合計6行を表示できた\n",
        "\n",
        "#列数設定\n",
        "print(pd.set_option(\"display.max_columns\",1))\n",
        "\n",
        "#全てのデータを表示\n",
        "print(pd.set_option(\"display.max_columns\",None))\n",
        "print(pd.set_option(\"display.max_rows\",None))\n",
        "\n",
        "# 設定を元に戻す方法\n",
        "# print(pd.reset_option(\"もとに戻したい値\"))\n",
        "print(pd.reset_option(\"display.max_columns\"))\n",
        "print(pd.reset_option(\"display.max_rows\"))"
      ],
      "metadata": {
        "id": "v2qIILPR8Esk",
        "colab": {
          "base_uri": "https://localhost:8080/"
        },
        "outputId": "4eca6274-5a72-45c4-ea19-667021a9b2eb"
      },
      "execution_count": 207,
      "outputs": [
        {
          "output_type": "stream",
          "name": "stdout",
          "text": [
            "   longitude  latitude  housing_median_age  total_rooms  total_bedrooms  \\\n",
            "0    -122.05     37.37                27.0       3885.0           661.0   \n",
            "1    -118.30     34.26                43.0       1510.0           310.0   \n",
            "2    -117.81     33.78                27.0       3589.0           507.0   \n",
            "3    -118.36     33.82                28.0         67.0            15.0   \n",
            "4    -119.67     36.33                19.0       1241.0           244.0   \n",
            "\n",
            "   population  households  median_income  median_house_value  \n",
            "0      1537.0       606.0         6.6085            344700.0  \n",
            "1       809.0       277.0         3.5990            176500.0  \n",
            "2      1484.0       495.0         5.7934            270500.0  \n",
            "3        49.0        11.0         6.1359            330000.0  \n",
            "4       850.0       237.0         2.9375             81700.0  \n",
            "None\n",
            "None\n"
          ]
        }
      ]
    },
    {
      "cell_type": "code",
      "source": [
        "# pandas.concat - 横縦方向に複数のデータフレームを結合\n",
        "df1 = pd.DataFrame({\n",
        "    \"name\":[\"A\",\"B\",\"C\"],\n",
        "    \"class\":[\"df1\",\"df2\",\"df3\"],\n",
        "    \"math\":[80,90,100]\n",
        "})\n",
        "\n",
        "df2 = pd.DataFrame({\n",
        "    \"name\":[\"D\",\"E\",\"F\"],\n",
        "    \"class\":[\"df1\",\"df2\",\"df3\"],\n",
        "    \"math\":[80,90,100]\n",
        "})\n",
        "\n",
        "print(df1)\n",
        "print(df2)\n",
        "\n",
        "# pd.concat([データフレーム,データフレーム]) ,2つのデータフレームを指定する\n",
        "print(pd.concat([df1,df2])) #二つのデータフレームを縦方向に結合\n",
        "print(pd.concat([df1,df2],axis=1)) #2つのデータフレームを横方向に結合,axis=1またはaxis=columns\n",
        "\n",
        "df3 = pd.DataFrame({\n",
        "    \"name\":[\"G\",\"H\",\"I\"],\n",
        "    \"class\":[\"df1\",\"df2\",\"df3\"],\n",
        "    \"math\":[80,90,100]\n",
        "})\n",
        "print(df3)\n",
        "\n",
        "print(pd.concat([df1,df2,df3])) #3つのデータフレームを縦方向に結合\n",
        "\n",
        "#インデックス番号を振り直す\n",
        "print(pd.concat([df1,df2,df3],ignore_index=True))"
      ],
      "metadata": {
        "id": "mZXOjt2e8E5p",
        "colab": {
          "base_uri": "https://localhost:8080/"
        },
        "outputId": "c15a6f4a-7f77-426b-acf2-77c3a586bbf6"
      },
      "execution_count": 217,
      "outputs": [
        {
          "output_type": "stream",
          "name": "stdout",
          "text": [
            "  name class  math\n",
            "0    A   df1    80\n",
            "1    B   df2    90\n",
            "2    C   df3   100\n",
            "  name class  math\n",
            "0    D   df1    80\n",
            "1    E   df2    90\n",
            "2    F   df3   100\n",
            "  name class  math\n",
            "0    A   df1    80\n",
            "1    B   df2    90\n",
            "2    C   df3   100\n",
            "0    D   df1    80\n",
            "1    E   df2    90\n",
            "2    F   df3   100\n",
            "  name class  math name class  math\n",
            "0    A   df1    80    D   df1    80\n",
            "1    B   df2    90    E   df2    90\n",
            "2    C   df3   100    F   df3   100\n",
            "  name class  math\n",
            "0    G   df1    80\n",
            "1    H   df2    90\n",
            "2    I   df3   100\n",
            "  name class  math\n",
            "0    A   df1    80\n",
            "1    B   df2    90\n",
            "2    C   df3   100\n",
            "0    D   df1    80\n",
            "1    E   df2    90\n",
            "2    F   df3   100\n",
            "0    G   df1    80\n",
            "1    H   df2    90\n",
            "2    I   df3   100\n",
            "  name class  math\n",
            "0    A   df1    80\n",
            "1    B   df2    90\n",
            "2    C   df3   100\n",
            "3    D   df1    80\n",
            "4    E   df2    90\n",
            "5    F   df3   100\n",
            "6    G   df1    80\n",
            "7    H   df2    90\n",
            "8    I   df3   100\n"
          ]
        }
      ]
    },
    {
      "cell_type": "code",
      "source": [
        "# pandas.join - 横方向に複数のデータフレームを結合\n",
        "\n",
        "#左のデータフレーム\n",
        "df1 = pd.DataFrame({ \n",
        "    \"A\":[\"a\",\"b\",\"c\"],\n",
        "    \"B\":[0,1,2],\n",
        "    \"C\":[False,True,True]},\n",
        "    index = [\"idx1\",\"idx2\",\"idx3\"]\n",
        ")\n",
        "\n",
        "print(df1)\n",
        "\n",
        "#右のデータフレーム\n",
        "df2 = pd.DataFrame({\n",
        "    \"D\":[\"Male\",\"Female\",\"Male\"],\n",
        "    \"E\":[\"Tokyo\",\"Osaka\",\"Fukuoka\"],\n",
        "    \"F\":[60,70,80]},\n",
        "    index = [\"idx1\",\"idx2\",\"idx4\"]\n",
        ")\n",
        "\n",
        "print(df2)\n",
        "\n",
        "test = df1.join(df2)\n",
        "print(test) #2つのデータフレームを横方向に結合できる,片方にしかデータがない場合はNanが表示される\n",
        "\n",
        "#全てのデータを結合\n",
        "test1 = df1.join(df2,how=\"outer\")\n",
        "print(test1)\n",
        "\n",
        "df3 = pd.DataFrame({\n",
        "    \"G\":[11,22,33],\n",
        "    \"H\":[44,55,66],\n",
        "    \"I\":[77,88,99]},\n",
        "    index = [\"idx1\",\"idx2\",\"idx3\"]\n",
        ")\n",
        "\n",
        "print(df3)\n",
        "\n",
        "# 3つのデータを結合\n",
        "test2 = df1.join([df2,df3]) #リスト or タプルで指定\n",
        "print(test2) #3つのデータを結合できた"
      ],
      "metadata": {
        "id": "chMrtEOR8FC8",
        "colab": {
          "base_uri": "https://localhost:8080/"
        },
        "outputId": "eac20a1a-c2d4-4c69-cad3-a091a1224eb2"
      },
      "execution_count": 228,
      "outputs": [
        {
          "output_type": "stream",
          "name": "stdout",
          "text": [
            "      A  B      C\n",
            "idx1  a  0  False\n",
            "idx2  b  1   True\n",
            "idx3  c  2   True\n",
            "           D        E   F\n",
            "idx1    Male    Tokyo  60\n",
            "idx2  Female    Osaka  70\n",
            "idx4    Male  Fukuoka  80\n",
            "      A  B      C       D      E     F\n",
            "idx1  a  0  False    Male  Tokyo  60.0\n",
            "idx2  b  1   True  Female  Osaka  70.0\n",
            "idx3  c  2   True     NaN    NaN   NaN\n",
            "        A    B      C       D        E     F\n",
            "idx1    a  0.0  False    Male    Tokyo  60.0\n",
            "idx2    b  1.0   True  Female    Osaka  70.0\n",
            "idx3    c  2.0   True     NaN      NaN   NaN\n",
            "idx4  NaN  NaN    NaN    Male  Fukuoka  80.0\n",
            "       G   H   I\n",
            "idx1  11  44  77\n",
            "idx2  22  55  88\n",
            "idx3  33  66  99\n",
            "      A    B      C       D      E     F     G     H     I\n",
            "idx1  a  0.0  False    Male  Tokyo  60.0  11.0  44.0  77.0\n",
            "idx2  b  1.0   True  Female  Osaka  70.0  22.0  55.0  88.0\n",
            "idx3  c  2.0   True     NaN    NaN   NaN  33.0  66.0  99.0\n"
          ]
        }
      ]
    },
    {
      "cell_type": "code",
      "source": [
        "# pandas.merge - カラムをキーに2つのデータフレームを結合\n",
        "\n",
        "#左のデータフレーム\n",
        "df1 = pd.DataFrame({ \n",
        "    \"name\":[\"A\",\"B\",\"C\",\"D\",\"E\"],\n",
        "    \"class\":[\"a1\",\"a1\",\"a1\",\"a1\",\"a1\"],\n",
        "    \"score_math\":[60,70,80,90,100]}\n",
        ")\n",
        "\n",
        "print(df1)\n",
        "\n",
        "#右のデータフレーム\n",
        "df2 = pd.DataFrame({ \n",
        "    \"name\":[\"A\",\"B\",\"C\",\"D\"],\n",
        "    \"class\":[\"a1\",\"a1\",\"a1\",\"a1\"],\n",
        "    \"score_math\":[100,90,80,70]}\n",
        ")\n",
        "\n",
        "print(df2)\n",
        "\n",
        "# on=\"キーとなるカラム名\"\n",
        "print(pd.merge(df1,df2,on=\"name\")) #キーに指定したカラムで結合することができる,二つのデータで共通するものを抽出する\n",
        "\n",
        "#E3を結合する\n",
        "print(pd.merge(df1,df2,on=\"name\",how=\"outer\")) #片方にしかないデータはNaNと表示される\n",
        "\n",
        "# how=\"inner\" - 共通する部分のデータだけ抽出する\n",
        "# how=\"left\" - 左を中心にして共通する部分のデータだけ抽出する\n",
        "# how=\"right\" - 右を中心にして共通する部分のデータだけ抽出する\n",
        "# how=\"outer\" - 全てのデータを抽出する\n",
        "\n",
        "print(pd.merge(df1,df2,on=\"name\",how=\"outer\"))"
      ],
      "metadata": {
        "id": "ZpSut4g58FE1",
        "colab": {
          "base_uri": "https://localhost:8080/"
        },
        "outputId": "04e38076-b32d-45fb-b8f8-233be2113d10"
      },
      "execution_count": 234,
      "outputs": [
        {
          "output_type": "stream",
          "name": "stdout",
          "text": [
            "  name class  score_math\n",
            "0    A    a1          60\n",
            "1    B    a1          70\n",
            "2    C    a1          80\n",
            "3    D    a1          90\n",
            "4    E    a1         100\n",
            "  name class  score_math\n",
            "0    A    a1         100\n",
            "1    B    a1          90\n",
            "2    C    a1          80\n",
            "3    D    a1          70\n",
            "  name class_x  score_math_x class_y  score_math_y\n",
            "0    A      a1            60      a1           100\n",
            "1    B      a1            70      a1            90\n",
            "2    C      a1            80      a1            80\n",
            "3    D      a1            90      a1            70\n",
            "  name class_x  score_math_x class_y  score_math_y\n",
            "0    A      a1            60      a1         100.0\n",
            "1    B      a1            70      a1          90.0\n",
            "2    C      a1            80      a1          80.0\n",
            "3    D      a1            90      a1          70.0\n",
            "4    E      a1           100     NaN           NaN\n"
          ]
        }
      ]
    },
    {
      "cell_type": "code",
      "source": [
        "# pandas.Series.apply - Seriesの各要素に関数を適用\n",
        "s1 = pd.Series([7000,5000,23000,2500,12000])\n",
        "print(s1)\n",
        "\n",
        "s1.apply(lambda x: \"1万円以上\" if x >= 10000 else \"1万円未満\") #lambda関数にif文を使う\n",
        "\n",
        "#消費税込みの料金を計算する関数を作成\n",
        "def add_tax(x):\n",
        "    return x*1.10\n",
        "\n",
        "print(s1.apply(add_tax))\n",
        "\n",
        "#似た関数map method \n",
        "print(s1.map(add_tax))\n",
        "\n",
        "# apply methodは複雑な引数を設定できる\n",
        "def add_tax2(x,tax):\n",
        "    return x+x*tax\n",
        "\n",
        "print(s1.apply(add_tax2,args=(1.5,)))"
      ],
      "metadata": {
        "id": "xI8FJPy48FGl",
        "colab": {
          "base_uri": "https://localhost:8080/"
        },
        "outputId": "727b6a7f-8b57-4b18-ec85-c27c17d9133b"
      },
      "execution_count": 251,
      "outputs": [
        {
          "output_type": "stream",
          "name": "stdout",
          "text": [
            "0     7000\n",
            "1     5000\n",
            "2    23000\n",
            "3     2500\n",
            "4    12000\n",
            "dtype: int64\n",
            "0     7700.0\n",
            "1     5500.0\n",
            "2    25300.0\n",
            "3     2750.0\n",
            "4    13200.0\n",
            "dtype: float64\n",
            "0     7700.0\n",
            "1     5500.0\n",
            "2    25300.0\n",
            "3     2750.0\n",
            "4    13200.0\n",
            "dtype: float64\n",
            "0    17500.0\n",
            "1    12500.0\n",
            "2    57500.0\n",
            "3     6250.0\n",
            "4    30000.0\n",
            "dtype: float64\n"
          ]
        }
      ]
    },
    {
      "cell_type": "code",
      "source": [
        "# pandas.DataFrame.assign - データフレームに列を追加,列の値を上書き\n",
        "df = pd.DataFrame({\n",
        "    \"A店\":[\"apple\",\"banana\",\"apple\",\"apple\",\"banana\"],\n",
        "    \"B店\":[\"banana\",\"apple\",\"strawberry\",\"apple\",\"banana\"],\n",
        "    \"C店\":[\"apple\",\"apple\",\"banana\",\"apple\",\"banana\"]},\n",
        "    index = [\"Mon\",\"Tue\",\"Wed\",\"Thu\",\"Fri\"]\n",
        ")\n",
        "print(df)\n",
        "\n",
        "df.assign(A店=\"peach\") #引数に一つの値を指定すると列内の全ての値にで適応される\n",
        "print(df)\n",
        "\n",
        "#新しい列を追加\n",
        "df1 = df.assign(D店=\"lemon\")\n",
        "print(df1)\n",
        "\n",
        "#同時に複数の列を追加して列名に格納する\n",
        "df2 = df.assign(D店=[\"banana\",\"apple\",\"peach\",\"banana\",\"peach\"],\n",
        "                point = [200,300,270,320,350])\n",
        "print(df2)\n",
        "\n",
        "# 似たmethodをinsert\n",
        "df.insert(2,\"point\",100)\n",
        "print(df)\n",
        "\n",
        "# insert - 列を追加する場所を指定して追加できる\n",
        "# assign - 常に右側に追加される"
      ],
      "metadata": {
        "id": "f4vT1U238FIL",
        "colab": {
          "base_uri": "https://localhost:8080/"
        },
        "outputId": "915873d6-670b-47c2-b567-422ae8f26a1a"
      },
      "execution_count": 261,
      "outputs": [
        {
          "output_type": "stream",
          "name": "stdout",
          "text": [
            "         A点          B点      C点\n",
            "Mon   apple      banana   apple\n",
            "Tue  banana       apple   apple\n",
            "Wed   apple  strawberry  banana\n",
            "Thu   apple       apple   apple\n",
            "Fri  banana      banana  banana\n",
            "         A点          B点      C点\n",
            "Mon   apple      banana   apple\n",
            "Tue  banana       apple   apple\n",
            "Wed   apple  strawberry  banana\n",
            "Thu   apple       apple   apple\n",
            "Fri  banana      banana  banana\n",
            "         A点          B点      C点     D店\n",
            "Mon   apple      banana   apple  lemon\n",
            "Tue  banana       apple   apple  lemon\n",
            "Wed   apple  strawberry  banana  lemon\n",
            "Thu   apple       apple   apple  lemon\n",
            "Fri  banana      banana  banana  lemon\n",
            "         A点          B点      C点      D点  point\n",
            "Mon   apple      banana   apple  banana    200\n",
            "Tue  banana       apple   apple   apple    300\n",
            "Wed   apple  strawberry  banana   peach    270\n",
            "Thu   apple       apple   apple  banana    320\n",
            "Fri  banana      banana  banana   peach    350\n",
            "         A点          B点  point      C点\n",
            "Mon   apple      banana    100   apple\n",
            "Tue  banana       apple    100   apple\n",
            "Wed   apple  strawberry    100  banana\n",
            "Thu   apple       apple    100   apple\n",
            "Fri  banana      banana    100  banana\n"
          ]
        }
      ]
    },
    {
      "cell_type": "code",
      "source": [
        "# pandas.DataFrame.insert - データフレームに列を追加\n",
        "df = pd.DataFrame({\n",
        "    \"A店\":[\"apple\",\"banana\",\"apple\",\"apple\",\"banana\"],\n",
        "    \"B店\":[\"banana\",\"apple\",\"strawberry\",\"apple\",\"banana\"],\n",
        "    \"C店\":[\"apple\",\"apple\",\"banana\",\"apple\",\"banana\"]},\n",
        "    index = [\"Mon\",\"Tue\",\"Wed\",\"Thu\",\"Fri\"]\n",
        ")\n",
        "print(df)\n",
        "\n",
        "# df.insert(追加したい番号,\"列名\",\"値\")\n",
        "df.insert(0,\"D店\",\"peach\") #左下にD店が追加された\n",
        "print(df)\n",
        "\n",
        "df.insert(2,\"point\",100) #三番目に追加する\n",
        "print(df)\n",
        "\n",
        "df.insert(5,\"E点\",[\"apple\",\"peach\",\"strawberry\",\"apple\",\"apple\"])\n",
        "print(df)"
      ],
      "metadata": {
        "id": "6kMlTd_Y8FKR",
        "colab": {
          "base_uri": "https://localhost:8080/"
        },
        "outputId": "72e139b2-1479-4ed3-f3d7-e9c92b197150"
      },
      "execution_count": 266,
      "outputs": [
        {
          "output_type": "stream",
          "name": "stdout",
          "text": [
            "         A点          B点      C点\n",
            "Mon   apple      banana   apple\n",
            "Tue  banana       apple   apple\n",
            "Wed   apple  strawberry  banana\n",
            "Thu   apple       apple   apple\n",
            "Fri  banana      banana  banana\n",
            "        D店      A点          B点      C点\n",
            "Mon  peach   apple      banana   apple\n",
            "Tue  peach  banana       apple   apple\n",
            "Wed  peach   apple  strawberry  banana\n",
            "Thu  peach   apple       apple   apple\n",
            "Fri  peach  banana      banana  banana\n",
            "        D店      A点  point          B点      C点\n",
            "Mon  peach   apple    100      banana   apple\n",
            "Tue  peach  banana    100       apple   apple\n",
            "Wed  peach   apple    100  strawberry  banana\n",
            "Thu  peach   apple    100       apple   apple\n",
            "Fri  peach  banana    100      banana  banana\n",
            "        D店      A点  point          B点      C点          E点\n",
            "Mon  peach   apple    100      banana   apple       apple\n",
            "Tue  peach  banana    100       apple   apple       peach\n",
            "Wed  peach   apple    100  strawberry  banana  strawberry\n",
            "Thu  peach   apple    100       apple   apple       apple\n",
            "Fri  peach  banana    100      banana  banana       apple\n"
          ]
        }
      ]
    },
    {
      "cell_type": "code",
      "source": [
        "# pandas.DataFrame.loc - 任意の列名と行名から値を取得\n",
        "df = pd.DataFrame({\n",
        "    \"col1\":[\"A\",\"B\",\"C\",\"D\",\"E\"],\n",
        "    \"col2\":[\"a\",\"c\",\"d\",\"b\",\"e\"],\n",
        "    \"col3\":[110,130,140,120,150]},\n",
        "    index = [\"idx1\",\"idx2\",\"idx3\",\"idx4\",\"idx5\"]\n",
        ")\n",
        "print(df)\n",
        "\n",
        "# 値を取得する方法\n",
        "# 1,1行のみ指定\n",
        "print(df.loc[[\"idx1\"]])\n",
        "\n",
        "# 2,スライスで範囲を指定する\n",
        "# df.loc[行:列]\n",
        "print(df.loc[:,\"col1\":\"col2\"])\n",
        "print(df.loc[\"idx1\":\"idx3\",\"col1\":\"col2\"])\n",
        "\n",
        "# iloc methodの場合\n",
        "print(df.iloc[1:4,1:3])"
      ],
      "metadata": {
        "id": "LR6Euz5U8FLl",
        "colab": {
          "base_uri": "https://localhost:8080/"
        },
        "outputId": "d75882c5-a007-4140-9f08-a13970b31ef1"
      },
      "execution_count": 275,
      "outputs": [
        {
          "output_type": "stream",
          "name": "stdout",
          "text": [
            "     col1 col2  col3\n",
            "idx1    A    a   110\n",
            "idx2    B    c   130\n",
            "idx3    C    d   140\n",
            "idx4    D    b   120\n",
            "idx5    E    e   150\n",
            "     col1 col2  col3\n",
            "idx1    A    a   110\n",
            "     col1 col2\n",
            "idx1    A    a\n",
            "idx2    B    c\n",
            "idx3    C    d\n",
            "idx4    D    b\n",
            "idx5    E    e\n",
            "     col1 col2\n",
            "idx1    A    a\n",
            "idx2    B    c\n",
            "idx3    C    d\n",
            "     col2  col3\n",
            "idx2    c   130\n",
            "idx3    d   140\n",
            "idx4    b   120\n"
          ]
        }
      ]
    },
    {
      "cell_type": "code",
      "source": [
        "# pasdas.index.get_loc() - データフレームの行番号と列番号と所得\n",
        "df = pd.DataFrame({\n",
        "    \"col1\":[1,2,3],\n",
        "    \"col2\":[4,5,6],\n",
        "    \"col3\":[7,8,9]},\n",
        "    index = [\"idx1\",\"idx2\",\"idx3\"]\n",
        ")\n",
        "print(df)\n",
        "\n",
        "# 行番号の取得\n",
        "print(df.index.get_loc(\"idx3\"))\n",
        "\n",
        "# 列番号の取得\n",
        "print(df.columns.get_loc(\"col2\"))\n",
        "\n",
        "#indexが重複している場合\n",
        "df.index = [\"a\",\"a\",\"b\"]\n",
        "print(df)\n",
        "\n",
        "print(df.index.get_loc(\"a\"))\n",
        "\n",
        "# indexに重複があって並んでいない場合はbool型で返ってくる(True or Fslse)\n",
        "df.index = [\"x\",\"y\",\"z\"]\n",
        "print(df.index.get_loc(\"x\"))"
      ],
      "metadata": {
        "colab": {
          "base_uri": "https://localhost:8080/"
        },
        "id": "5Dawa7Z3jRtt",
        "outputId": "d1e95265-ce3d-4cd8-f7bd-02a9b9834da7"
      },
      "execution_count": 288,
      "outputs": [
        {
          "output_type": "stream",
          "name": "stdout",
          "text": [
            "      col1  col2  col3\n",
            "idx1     1     4     7\n",
            "idx2     2     5     8\n",
            "idx3     3     6     9\n",
            "2\n",
            "1\n",
            "   col1  col2  col3\n",
            "a     1     4     7\n",
            "a     2     5     8\n",
            "b     3     6     9\n",
            "slice(0, 2, None)\n",
            "0\n"
          ]
        }
      ]
    },
    {
      "cell_type": "code",
      "source": [
        "# スライス操作 - インデックスを指定してデータを抽出\n",
        "str = \"LearningPython\"\n",
        "print(str[8]) #八番目にある文字列を抽出\n",
        "print(str[5:8]) #str[開始:終了] - 範囲指定\n",
        "print(str[:8])\n",
        "print(str[8:])\n",
        "\n",
        "l = [\"Jan\",\"Feb\",\"Mar\",\"Apr\",\"May\",\"Jun\",\"Jul\",\"Aug\"]\n",
        "print(l[2:5])\n",
        "\n",
        "df1 = pd.DataFrame({ \n",
        "    \"name\":[\"A\",\"B\",\"C\",\"D\",\"E\"],\n",
        "    \"class\":[\"a1\",\"a1\",\"a1\",\"a1\",\"a1\"],\n",
        "    \"score_math\":[60,70,80,90,100]}\n",
        ")\n",
        "print(df1[1:4])\n",
        "\n",
        "ser = pd.Series([\"A\",\"B\",\"C\",\"D\",\"E\",\"F\"])\n",
        "print(ser[3:]) "
      ],
      "metadata": {
        "colab": {
          "base_uri": "https://localhost:8080/"
        },
        "id": "OZD4h-B7jRvY",
        "outputId": "0824fd75-b579-438c-a0e9-eec58e930ee8"
      },
      "execution_count": 298,
      "outputs": [
        {
          "output_type": "stream",
          "name": "stdout",
          "text": [
            "P\n",
            "ing\n",
            "Learning\n",
            "Python\n",
            "['Mar', 'Apr', 'May']\n",
            "  name class  score_math\n",
            "1    B    a1          70\n",
            "2    C    a1          80\n",
            "3    D    a1          90\n",
            "3    D\n",
            "4    E\n",
            "5    F\n",
            "dtype: object\n"
          ]
        }
      ]
    },
    {
      "cell_type": "code",
      "source": [
        "# pandas.DataFrame.filter - 指定して条件の列名や行名を抽出\n",
        "df = pd.DataFrame({ \n",
        "    \"Python-Flask\":[100,200,300,350,220],\n",
        "    \"Python-Django\":[150,250,350,270,410],\n",
        "    \"SQL\":[400,450,500,370,420]},\n",
        "    index = [\"Mon\",\"Tue\",\"Wed\",\"Thu\",\"Fri\"]\n",
        ")\n",
        "\n",
        "print(df)\n",
        "\n",
        "# 指定の列名で抽出, itemに列名をリストで指定して実行する\n",
        "print(df.filter(items = [\"Python-Flask\",\"Python-Django\"]))\n",
        "\n",
        "# 指定の行名で抽出\n",
        "print(df.filter(items = [\"Wed\",\"Mon\"],axis=0))\n",
        "\n",
        "# 列名の一部分が一致する場合を条件抽出をする\n",
        "print(df.filter(like = \"Python\")) #指定の文字列を含む列のデータを抽出できた\n",
        "\n",
        "# 行名の一部分が一致する場合を条件抽出をする\n",
        "print(df.filter(like = \"e\",axis=0))"
      ],
      "metadata": {
        "colab": {
          "base_uri": "https://localhost:8080/"
        },
        "id": "Jo7FVIcdjRxP",
        "outputId": "3823f030-f542-4399-e0c8-0dba901639c3"
      },
      "execution_count": 303,
      "outputs": [
        {
          "output_type": "stream",
          "name": "stdout",
          "text": [
            "     Python-Flask  Python-Django  SQL\n",
            "Mon           100            150  400\n",
            "Tue           200            250  450\n",
            "Wed           300            350  500\n",
            "Thu           350            270  370\n",
            "Fri           220            410  420\n",
            "     Python-Flask  Python-Django\n",
            "Mon           100            150\n",
            "Tue           200            250\n",
            "Wed           300            350\n",
            "Thu           350            270\n",
            "Fri           220            410\n",
            "     Python-Flask  Python-Django  SQL\n",
            "Wed           300            350  500\n",
            "Mon           100            150  400\n",
            "     Python-Flask  Python-Django\n",
            "Mon           100            150\n",
            "Tue           200            250\n",
            "Wed           300            350\n",
            "Thu           350            270\n",
            "Fri           220            410\n",
            "     Python-Flask  Python-Django  SQL\n",
            "Tue           200            250  450\n",
            "Wed           300            350  500\n"
          ]
        }
      ]
    },
    {
      "cell_type": "code",
      "source": [
        "# pandas.DataFrame.query - 条件を指定してデータを抽出\n",
        "df = pd.DataFrame({\n",
        "    \"upper\":[\"A\",\"C\",\"A\",\"B\",\"E\",\"C\",\"A\"],\n",
        "    \"lower\":[\"a\",\"c\",\"a\",\"b\",\"e\",\"c\",\"a\"],\n",
        "    \"int\":[110,130,140,120,150,160,170]}\n",
        ")\n",
        "print(df)\n",
        "\n",
        "#比較演算子を使用して条件を指定する\n",
        "# 文字列は\"\"\n",
        "print(df.query('upper == \"A\"'))\n",
        "print(df.query('int == 150'))\n",
        "\n",
        "#複数指定 \n",
        "print(df.query('lower == \"a\"' and \"int > 130\"))\n",
        "\n",
        "# query methodに似たメソッド - isin = 要素が指定した値かどうかTrueかFalseで出力する\n",
        "print(df['upper'].isin(['A']))"
      ],
      "metadata": {
        "colab": {
          "base_uri": "https://localhost:8080/"
        },
        "id": "pnBymupwjRyx",
        "outputId": "92864f5e-75b2-4af6-efb6-5393cd3be528"
      },
      "execution_count": 325,
      "outputs": [
        {
          "output_type": "stream",
          "name": "stdout",
          "text": [
            "  upper lower  int\n",
            "0     A     a  110\n",
            "1     C     c  130\n",
            "2     A     a  140\n",
            "3     B     b  120\n",
            "4     E     e  150\n",
            "5     C     c  160\n",
            "6     A     a  170\n",
            "  upper lower  int\n",
            "0     A     a  110\n",
            "2     A     a  140\n",
            "6     A     a  170\n",
            "  upper lower  int\n",
            "4     E     e  150\n",
            "  upper lower  int\n",
            "2     A     a  140\n",
            "4     E     e  150\n",
            "5     C     c  160\n",
            "6     A     a  170\n",
            "0     True\n",
            "1    False\n",
            "2     True\n",
            "3    False\n",
            "4    False\n",
            "5    False\n",
            "6     True\n",
            "Name: upper, dtype: bool\n"
          ]
        }
      ]
    },
    {
      "cell_type": "code",
      "source": [
        "# pandas.DataFrame.mode - 行列の最頻値を取得\n",
        "df = pd.DataFrame({\n",
        "    \"A店\":[\"apple\",\"banana\",\"apple\",\"apple\",\"banana\"],\n",
        "    \"B店\":[\"banana\",\"apple\",\"strawberry\",\"apple\",\"banana\"],\n",
        "    \"C店\":[\"apple\",\"apple\",\"banana\",\"apple\",\"banana\"]},\n",
        "    index = [\"Mon\",\"Tue\",\"Wed\",\"Thu\",\"Fri\"]\n",
        ")\n",
        "print(df)\n",
        "\n",
        "#デフォルトでは列ごとの最頻値を取得できる\n",
        "print(df.mode())\n",
        "\n",
        "# 最頻値の個数を取得\n",
        "print(df.mode().count())\n",
        "\n",
        "# 行ごとの最頻値を取得\n",
        "print(df.mode(axis=1)) #曜日ごとに最頻値\n",
        "\n",
        "# 行ごとの最頻値の個数を所得\n",
        "print(df.mode(axis=1).count(axis=1))"
      ],
      "metadata": {
        "colab": {
          "base_uri": "https://localhost:8080/"
        },
        "id": "Ajv-HtdkjR0o",
        "outputId": "286923ac-6ae8-406f-e384-1c21232f45c9"
      },
      "execution_count": 331,
      "outputs": [
        {
          "output_type": "stream",
          "name": "stdout",
          "text": [
            "         A点          B点      C点\n",
            "Mon   apple      banana   apple\n",
            "Tue  banana       apple   apple\n",
            "Wed   apple  strawberry  banana\n",
            "Thu   apple       apple   apple\n",
            "Fri  banana      banana  banana\n",
            "      A点      B点     C点\n",
            "0  apple   apple  apple\n",
            "1    NaN  banana    NaN\n",
            "A点    1\n",
            "B点    2\n",
            "C点    1\n",
            "dtype: int64\n",
            "          0       1           2\n",
            "Mon   apple     NaN         NaN\n",
            "Tue   apple     NaN         NaN\n",
            "Wed   apple  banana  strawberry\n",
            "Thu   apple     NaN         NaN\n",
            "Fri  banana     NaN         NaN\n",
            "Mon    1\n",
            "Tue    1\n",
            "Wed    3\n",
            "Thu    1\n",
            "Fri    1\n",
            "dtype: int64\n"
          ]
        }
      ]
    },
    {
      "cell_type": "code",
      "source": [
        "# pandas.DataFrame.duplicated - 重複する行を抽出(行の要素全てが重複する)\n",
        "df = pd.DataFrame({\n",
        "    \"col1\":[\"A\",\"D\",\"C\",\"D\",\"A\",\"C\",\"D\",\"A\"],\n",
        "    \"col2\":[\"a\",\"aa\",\"c\",\"d\",\"a\",\"c\",\"d\",\"a\"],\n",
        "    \"col3\":[110,110,130,140,110,130,140,110]}\n",
        ")\n",
        "print(df)\n",
        "\n",
        "print(df.duplicated()) #重複のある行はTrue,それ以外の行はFalse\n",
        "\n",
        "#重複した行のみデータフレームで表示する\n",
        "print(df[df.duplicated()])\n",
        "\n",
        "# keep=\"last\" - 重複したデータの最後の行がFalse,他がTrueになる\n",
        "print(df.duplicated(keep=\"last\"))\n",
        "\n",
        "#指定した列だけの重複を確認する\n",
        "print(df.duplicated(subset=\"col2\"))\n",
        "\n",
        "#指定した行だけの重複を確認する\n",
        "print(df.duplicated(subset=\"col2\").sum())"
      ],
      "metadata": {
        "colab": {
          "base_uri": "https://localhost:8080/"
        },
        "id": "eHlQFEq3jR2c",
        "outputId": "af78382f-f6b7-4821-e5a5-4a14bfacd6dd"
      },
      "execution_count": 341,
      "outputs": [
        {
          "output_type": "stream",
          "name": "stdout",
          "text": [
            "  col1 col2  col3\n",
            "0    A    a   110\n",
            "1    D   aa   110\n",
            "2    C    c   130\n",
            "3    D    d   140\n",
            "4    A    a   110\n",
            "5    C    c   130\n",
            "6    D    d   140\n",
            "7    A    a   110\n",
            "0    False\n",
            "1    False\n",
            "2    False\n",
            "3    False\n",
            "4     True\n",
            "5     True\n",
            "6     True\n",
            "7     True\n",
            "dtype: bool\n",
            "  col1 col2  col3\n",
            "4    A    a   110\n",
            "5    C    c   130\n",
            "6    D    d   140\n",
            "7    A    a   110\n",
            "0     True\n",
            "1    False\n",
            "2     True\n",
            "3     True\n",
            "4     True\n",
            "5    False\n",
            "6    False\n",
            "7    False\n",
            "dtype: bool\n",
            "0    False\n",
            "1    False\n",
            "2    False\n",
            "3    False\n",
            "4     True\n",
            "5     True\n",
            "6     True\n",
            "7     True\n",
            "dtype: bool\n",
            "4\n"
          ]
        }
      ]
    },
    {
      "cell_type": "code",
      "source": [
        "# pandas.DataFrame.pivot_table - pivot tableを作成\n",
        "# pivot table - 二つのカテゴリデータを集計したクロス集計表\n",
        "\n",
        "df = pd.DataFrame({\n",
        "    \"col1\":[\"A\",\"C\",\"A\",\"C\",\"A\"],\n",
        "    \"col2\":[\"a\",\"a\",\"c\",\"c\",\"a\"],\n",
        "    \"col3\":[600,800,100,120,180]}\n",
        ")\n",
        "print(df)\n",
        "\n",
        "#index=横 columns=縦 values=集計したいデータ\n",
        "print(df.pivot_table(index=\"col1\",\n",
        "               columns = \"col2\",\n",
        "               values = \"col3\"))\n",
        "\n",
        "#aggfunc - 計算方法\n",
        "print(df.pivot_table(index=\"col1\",\n",
        "               columns = \"col2\",\n",
        "               values = \"col3\",\n",
        "               aggfunc = \"sum\"))\n",
        "\n",
        "# 列ごと行ごとの集計を出したい場合\n",
        "# margins - 列行ごとの計算\n",
        "# margins_nameで名前の変更できる\n",
        "print(df.pivot_table(index=\"col1\",\n",
        "               columns = \"col2\",\n",
        "               values = \"col3\",\n",
        "               aggfunc = \"sum\",\n",
        "               margins = True))"
      ],
      "metadata": {
        "colab": {
          "base_uri": "https://localhost:8080/"
        },
        "id": "40WP-Jg-jR4P",
        "outputId": "441196e9-b156-4ed4-93ca-8da649555682"
      },
      "execution_count": 348,
      "outputs": [
        {
          "output_type": "stream",
          "name": "stdout",
          "text": [
            "  col1 col2  col3\n",
            "0    A    a   600\n",
            "1    C    a   800\n",
            "2    A    c   100\n",
            "3    C    c   120\n",
            "4    A    a   180\n",
            "col2    a    c\n",
            "col1          \n",
            "A     390  100\n",
            "C     800  120\n",
            "col2    a    c\n",
            "col1          \n",
            "A     780  100\n",
            "C     800  120\n",
            "col2     a    c   All\n",
            "col1                 \n",
            "A      780  100   880\n",
            "C      800  120   920\n",
            "All   1580  220  1800\n"
          ]
        }
      ]
    },
    {
      "cell_type": "code",
      "source": [
        "# pandas.DataFrame.groupby - 指定のカラムごとにデータ集計,単独ではなく集計処理で用いる\n",
        "df = pd.read_csv(\"/content/sample_data/california_housing_test.csv\")\n",
        "print(df.head())\n",
        "\n",
        "#要素の個数を所得\n",
        "print(df.groupby(\"カラム名\").size())\n",
        "\n",
        "#合計を算出\n",
        "print(df.groupby(\"カラム名\").sum())\n",
        "\n",
        "#小数点以下を切り捨て(小数点以下を0にする)してカラムを複数指定\n",
        "pd.options.display.float_format = \"{:.0f}\".format\n",
        "\n",
        "#カラムを複数指定もできる\n",
        "print(df.groupby([\"カラム名\",\"カラム名\"]).mean())\n",
        "\n",
        "#カラムをindexに指定したくない場合はas_index = False\n",
        "df[[\"カラム名\",\"カラム名\"].groupby([\"カラム名\"],\n",
        "                           as_index = False).max()]"
      ],
      "metadata": {
        "id": "bBm-uAkHc61r",
        "colab": {
          "base_uri": "https://localhost:8080/",
          "height": 713
        },
        "outputId": "a64d61f4-f220-4e37-af79-70ea95e8c2ae"
      },
      "execution_count": 355,
      "outputs": [
        {
          "output_type": "stream",
          "name": "stdout",
          "text": [
            "   longitude  latitude  housing_median_age  total_rooms  total_bedrooms  \\\n",
            "0    -122.05     37.37                27.0       3885.0           661.0   \n",
            "1    -118.30     34.26                43.0       1510.0           310.0   \n",
            "2    -117.81     33.78                27.0       3589.0           507.0   \n",
            "3    -118.36     33.82                28.0         67.0            15.0   \n",
            "4    -119.67     36.33                19.0       1241.0           244.0   \n",
            "\n",
            "   population  households  median_income  median_house_value  \n",
            "0      1537.0       606.0         6.6085            344700.0  \n",
            "1       809.0       277.0         3.5990            176500.0  \n",
            "2      1484.0       495.0         5.7934            270500.0  \n",
            "3        49.0        11.0         6.1359            330000.0  \n",
            "4       850.0       237.0         2.9375             81700.0  \n"
          ]
        },
        {
          "output_type": "error",
          "ename": "KeyError",
          "evalue": "ignored",
          "traceback": [
            "\u001b[0;31m---------------------------------------------------------------------------\u001b[0m",
            "\u001b[0;31mKeyError\u001b[0m                                  Traceback (most recent call last)",
            "\u001b[0;32m<ipython-input-355-ae8dd323e04d>\u001b[0m in \u001b[0;36m<module>\u001b[0;34m()\u001b[0m\n\u001b[1;32m      4\u001b[0m \u001b[0;34m\u001b[0m\u001b[0m\n\u001b[1;32m      5\u001b[0m \u001b[0;31m#要素の個数を所得\u001b[0m\u001b[0;34m\u001b[0m\u001b[0;34m\u001b[0m\u001b[0;34m\u001b[0m\u001b[0m\n\u001b[0;32m----> 6\u001b[0;31m \u001b[0mprint\u001b[0m\u001b[0;34m(\u001b[0m\u001b[0mdf\u001b[0m\u001b[0;34m.\u001b[0m\u001b[0mgroupby\u001b[0m\u001b[0;34m(\u001b[0m\u001b[0;34m\"カラム名\"\u001b[0m\u001b[0;34m)\u001b[0m\u001b[0;34m.\u001b[0m\u001b[0msize\u001b[0m\u001b[0;34m(\u001b[0m\u001b[0;34m)\u001b[0m\u001b[0;34m)\u001b[0m\u001b[0;34m\u001b[0m\u001b[0;34m\u001b[0m\u001b[0m\n\u001b[0m\u001b[1;32m      7\u001b[0m \u001b[0;34m\u001b[0m\u001b[0m\n\u001b[1;32m      8\u001b[0m \u001b[0;31m#合計を算出\u001b[0m\u001b[0;34m\u001b[0m\u001b[0;34m\u001b[0m\u001b[0;34m\u001b[0m\u001b[0m\n",
            "\u001b[0;32m/usr/local/lib/python3.7/dist-packages/pandas/core/frame.py\u001b[0m in \u001b[0;36mgroupby\u001b[0;34m(self, by, axis, level, as_index, sort, group_keys, squeeze, observed, dropna)\u001b[0m\n\u001b[1;32m   6523\u001b[0m             \u001b[0msqueeze\u001b[0m\u001b[0;34m=\u001b[0m\u001b[0msqueeze\u001b[0m\u001b[0;34m,\u001b[0m\u001b[0;34m\u001b[0m\u001b[0;34m\u001b[0m\u001b[0m\n\u001b[1;32m   6524\u001b[0m             \u001b[0mobserved\u001b[0m\u001b[0;34m=\u001b[0m\u001b[0mobserved\u001b[0m\u001b[0;34m,\u001b[0m\u001b[0;34m\u001b[0m\u001b[0;34m\u001b[0m\u001b[0m\n\u001b[0;32m-> 6525\u001b[0;31m             \u001b[0mdropna\u001b[0m\u001b[0;34m=\u001b[0m\u001b[0mdropna\u001b[0m\u001b[0;34m,\u001b[0m\u001b[0;34m\u001b[0m\u001b[0;34m\u001b[0m\u001b[0m\n\u001b[0m\u001b[1;32m   6526\u001b[0m         )\n\u001b[1;32m   6527\u001b[0m \u001b[0;34m\u001b[0m\u001b[0m\n",
            "\u001b[0;32m/usr/local/lib/python3.7/dist-packages/pandas/core/groupby/groupby.py\u001b[0m in \u001b[0;36m__init__\u001b[0;34m(self, obj, keys, axis, level, grouper, exclusions, selection, as_index, sort, group_keys, squeeze, observed, mutated, dropna)\u001b[0m\n\u001b[1;32m    531\u001b[0m                 \u001b[0mobserved\u001b[0m\u001b[0;34m=\u001b[0m\u001b[0mobserved\u001b[0m\u001b[0;34m,\u001b[0m\u001b[0;34m\u001b[0m\u001b[0;34m\u001b[0m\u001b[0m\n\u001b[1;32m    532\u001b[0m                 \u001b[0mmutated\u001b[0m\u001b[0;34m=\u001b[0m\u001b[0mself\u001b[0m\u001b[0;34m.\u001b[0m\u001b[0mmutated\u001b[0m\u001b[0;34m,\u001b[0m\u001b[0;34m\u001b[0m\u001b[0;34m\u001b[0m\u001b[0m\n\u001b[0;32m--> 533\u001b[0;31m                 \u001b[0mdropna\u001b[0m\u001b[0;34m=\u001b[0m\u001b[0mself\u001b[0m\u001b[0;34m.\u001b[0m\u001b[0mdropna\u001b[0m\u001b[0;34m,\u001b[0m\u001b[0;34m\u001b[0m\u001b[0;34m\u001b[0m\u001b[0m\n\u001b[0m\u001b[1;32m    534\u001b[0m             )\n\u001b[1;32m    535\u001b[0m \u001b[0;34m\u001b[0m\u001b[0m\n",
            "\u001b[0;32m/usr/local/lib/python3.7/dist-packages/pandas/core/groupby/grouper.py\u001b[0m in \u001b[0;36mget_grouper\u001b[0;34m(obj, key, axis, level, sort, observed, mutated, validate, dropna)\u001b[0m\n\u001b[1;32m    784\u001b[0m                 \u001b[0min_axis\u001b[0m\u001b[0;34m,\u001b[0m \u001b[0mname\u001b[0m\u001b[0;34m,\u001b[0m \u001b[0mlevel\u001b[0m\u001b[0;34m,\u001b[0m \u001b[0mgpr\u001b[0m \u001b[0;34m=\u001b[0m \u001b[0;32mFalse\u001b[0m\u001b[0;34m,\u001b[0m \u001b[0;32mNone\u001b[0m\u001b[0;34m,\u001b[0m \u001b[0mgpr\u001b[0m\u001b[0;34m,\u001b[0m \u001b[0;32mNone\u001b[0m\u001b[0;34m\u001b[0m\u001b[0;34m\u001b[0m\u001b[0m\n\u001b[1;32m    785\u001b[0m             \u001b[0;32melse\u001b[0m\u001b[0;34m:\u001b[0m\u001b[0;34m\u001b[0m\u001b[0;34m\u001b[0m\u001b[0m\n\u001b[0;32m--> 786\u001b[0;31m                 \u001b[0;32mraise\u001b[0m \u001b[0mKeyError\u001b[0m\u001b[0;34m(\u001b[0m\u001b[0mgpr\u001b[0m\u001b[0;34m)\u001b[0m\u001b[0;34m\u001b[0m\u001b[0;34m\u001b[0m\u001b[0m\n\u001b[0m\u001b[1;32m    787\u001b[0m         \u001b[0;32melif\u001b[0m \u001b[0misinstance\u001b[0m\u001b[0;34m(\u001b[0m\u001b[0mgpr\u001b[0m\u001b[0;34m,\u001b[0m \u001b[0mGrouper\u001b[0m\u001b[0;34m)\u001b[0m \u001b[0;32mand\u001b[0m \u001b[0mgpr\u001b[0m\u001b[0;34m.\u001b[0m\u001b[0mkey\u001b[0m \u001b[0;32mis\u001b[0m \u001b[0;32mnot\u001b[0m \u001b[0;32mNone\u001b[0m\u001b[0;34m:\u001b[0m\u001b[0;34m\u001b[0m\u001b[0;34m\u001b[0m\u001b[0m\n\u001b[1;32m    788\u001b[0m             \u001b[0;31m# Add key to exclusions\u001b[0m\u001b[0;34m\u001b[0m\u001b[0;34m\u001b[0m\u001b[0;34m\u001b[0m\u001b[0m\n",
            "\u001b[0;31mKeyError\u001b[0m: 'カラム名'"
          ]
        }
      ]
    },
    {
      "cell_type": "code",
      "source": [
        "# pandas.DataFrame.mean - データフレームの平均の値を取得\n",
        "df = pd.DataFrame({\n",
        "    \"apple\":[150,120,210,190,220],\n",
        "    \"banana\":[210,230,180,300,310],\n",
        "    \"peach\":[190,250,320,150,230],\n",
        "    \"orange\":[110,200,140,230,290],\n",
        "    \"cherry\":[330,290,230,310,240],\n",
        "})\n",
        "\n",
        "print(df)\n",
        "print(df.mean()) #列ごとに平均の値\n",
        "print(df.mean(axis=1))#行ごとに平均の値\n",
        "\n",
        "#欠損値を含むデータフレームで試してみる\n",
        "df1 = pd.DataFrame({\n",
        "    \"apple\":[150,None,210,190,220],\n",
        "    \"banana\":[210,230,None,300,310],\n",
        "    \"peach\":[190,250,320,150,230],\n",
        "    \"orange\":[110,None,140,230,290],\n",
        "    \"cherry\":[330,290,230,310,None],\n",
        "})\n",
        "\n",
        "print(df1)\n",
        "print(df.mean()) #欠損値を除いた列ごとの平均の値を取得\n",
        "df.mean(skipna=False) #欠損値が含まれている時にNaNを返す(skipna=False)\n",
        "df.mean(skipna=False,axis=1) # 行ごとで取得する場合"
      ],
      "metadata": {
        "id": "1ZP5HqaJM9Gv",
        "colab": {
          "base_uri": "https://localhost:8080/"
        },
        "outputId": "312dcf59-8cf0-455c-fa9f-5e1db24bad0c"
      },
      "execution_count": 363,
      "outputs": [
        {
          "output_type": "stream",
          "name": "stdout",
          "text": [
            "   apple  banana  peach  orange  cherry\n",
            "0    150     210    190     110     330\n",
            "1    120     230    250     200     290\n",
            "2    210     180    320     140     230\n",
            "3    190     300    150     230     310\n",
            "4    220     310    230     290     240\n",
            "apple     178.0\n",
            "banana    246.0\n",
            "peach     228.0\n",
            "orange    194.0\n",
            "cherry    280.0\n",
            "dtype: float64\n",
            "0    198.0\n",
            "1    218.0\n",
            "2    216.0\n",
            "3    236.0\n",
            "4    258.0\n",
            "dtype: float64\n",
            "   apple  banana  peach  orange  cherry\n",
            "0  150.0   210.0    190   110.0   330.0\n",
            "1    NaN   230.0    250     NaN   290.0\n",
            "2  210.0     NaN    320   140.0   230.0\n",
            "3  190.0   300.0    150   230.0   310.0\n",
            "4  220.0   310.0    230   290.0     NaN\n",
            "apple     178.0\n",
            "banana    246.0\n",
            "peach     228.0\n",
            "orange    194.0\n",
            "cherry    280.0\n",
            "dtype: float64\n"
          ]
        },
        {
          "output_type": "execute_result",
          "data": {
            "text/plain": [
              "0    198.0\n",
              "1    218.0\n",
              "2    216.0\n",
              "3    236.0\n",
              "4    258.0\n",
              "dtype: float64"
            ]
          },
          "metadata": {},
          "execution_count": 363
        }
      ]
    },
    {
      "cell_type": "code",
      "source": [
        "# datetime.datetime.now() - 現在の日付と時刻を取得\n",
        "now = datetime.datetime.now()\n",
        "print(now)\n",
        "print(type(now))\n",
        "\n",
        "# タイムゾーンの設定\n",
        "tz = datetime.timezone(datetime.timedelta(hours=9))\n",
        "datetime.datetime.now(tz)"
      ],
      "metadata": {
        "colab": {
          "base_uri": "https://localhost:8080/"
        },
        "id": "Qo11qJpn0jea",
        "outputId": "628ff5bb-1930-4c67-b955-713a07b68197"
      },
      "execution_count": 369,
      "outputs": [
        {
          "output_type": "stream",
          "name": "stdout",
          "text": [
            "2022-01-13 10:30:36.948827\n",
            "<class 'datetime.datetime'>\n"
          ]
        },
        {
          "output_type": "execute_result",
          "data": {
            "text/plain": [
              "datetime.datetime(2022, 1, 13, 19, 30, 36, 951775, tzinfo=datetime.timezone(datetime.timedelta(seconds=32400)))"
            ]
          },
          "metadata": {},
          "execution_count": 369
        }
      ]
    },
    {
      "cell_type": "code",
      "source": [
        "# pandas.DataFrame.applymap - データフレームの要素に関数を適用\n",
        "df = pd.DataFrame([[11000,6000,8000],\n",
        "              [5000,12000,6000],\n",
        "              [4000,5000,9000]],\n",
        "              columns = [\"1日\",\"2日\",\"3日\"],\n",
        "              index = [\"A\",\"B\",\"C\"])\n",
        "print(df)\n",
        "\n",
        "# 値を２倍にする関数\n",
        "def double(x):\n",
        "    return x*2\n",
        "\n",
        "\n",
        "print(df.applymap(double)) #各値が2倍になる\n",
        "print(df.applymap(lambda x : x*2)) # lambda関数の適応, 各値が2倍になる\n",
        "\n",
        "# lambda関数にif文を使う\n",
        "print(df.applymap(lambda x : \"一万円以上\" if x >= 10000 else \"一万円未満\"))\n",
        "\n",
        "# 似たmethod - apply method(引数で複雑な関数として作れるo)\n",
        "def f_tax(x,tax):\n",
        "    return x + x*tax\n",
        "\n",
        "print(df.apply(f_tax,args=(0.1,)))"
      ],
      "metadata": {
        "colab": {
          "base_uri": "https://localhost:8080/"
        },
        "id": "oHXEozmD-uIp",
        "outputId": "b2219db7-7c0d-4f80-f64b-3e0d7b4a75ac"
      },
      "execution_count": 379,
      "outputs": [
        {
          "output_type": "stream",
          "name": "stdout",
          "text": [
            "      1日     2日    3日\n",
            "A  11000   6000  8000\n",
            "B   5000  12000  6000\n",
            "C   4000   5000  9000\n",
            "      1日     2日     3日\n",
            "A  22000  12000  16000\n",
            "B  10000  24000  12000\n",
            "C   8000  10000  18000\n",
            "      1日     2日     3日\n",
            "A  22000  12000  16000\n",
            "B  10000  24000  12000\n",
            "C   8000  10000  18000\n",
            "      1日     2日     3日\n",
            "A  一万円以上  一万円未満  一万円未満\n",
            "B  一万円未満  一万円以上  一万円未満\n",
            "C  一万円未満  一万円未満  一万円未満\n",
            "        1日       2日      3日\n",
            "A  12100.0   6600.0  8800.0\n",
            "B   5500.0  13200.0  6600.0\n",
            "C   4400.0   5500.0  9900.0\n"
          ]
        }
      ]
    },
    {
      "cell_type": "code",
      "source": [
        "#pandas.date_range - 連続した日付のデータを作成\n",
        "# start - 開始日を指定\n",
        "# end - 終了日を指定\n",
        "\n",
        "print(pd.date_range(start=\"11/11/2022\",end=\"11/30/2022\")) #DatetimeIndexに指定できる,freq=\"D\"-作成した日付が毎日\n",
        "print(pd.date_range(start=\"11/11/2022\",periods=5)) #periods=作成する日付の数\n",
        "print(pd.date_range(start=\"11/11/2022\",periods=5,freq=\"3D\") #freq=\"3D\" - 三日間隔"
      ],
      "metadata": {
        "colab": {
          "base_uri": "https://localhost:8080/"
        },
        "id": "pUAKkAZb0jgB",
        "outputId": "3d54adad-a687-4943-a75b-34dcf76d4d4f"
      },
      "execution_count": 380,
      "outputs": [
        {
          "output_type": "stream",
          "name": "stdout",
          "text": [
            "DatetimeIndex(['2022-11-11', '2022-11-12', '2022-11-13', '2022-11-14',\n",
            "               '2022-11-15', '2022-11-16', '2022-11-17', '2022-11-18',\n",
            "               '2022-11-19', '2022-11-20', '2022-11-21', '2022-11-22',\n",
            "               '2022-11-23', '2022-11-24', '2022-11-25', '2022-11-26',\n",
            "               '2022-11-27', '2022-11-28', '2022-11-29', '2022-11-30'],\n",
            "              dtype='datetime64[ns]', freq='D')\n",
            "DatetimeIndex(['2022-11-11', '2022-11-12', '2022-11-13', '2022-11-14',\n",
            "               '2022-11-15'],\n",
            "              dtype='datetime64[ns]', freq='D')\n",
            "DatetimeIndex(['2022-11-11', '2022-11-14', '2022-11-17', '2022-11-20',\n",
            "               '2022-11-23'],\n",
            "              dtype='datetime64[ns]', freq='3D')\n"
          ]
        }
      ]
    },
    {
      "cell_type": "code",
      "source": [
        "#pandas.DataFrmae.agg - カラムごとに値を集計\n",
        "df = pd.DataFrame({\n",
        "    \"apple\":[70,82,69,98,91],\n",
        "    \"banana\":[92,80,82,95,78],\n",
        "    \"peach\":[62,75,80,79,68]\n",
        "    })\n",
        "print(df)\n",
        "\n",
        "print(df.agg([\"mean\"])) #カラムごとの平均値\n",
        "print(df.agg([\"mean\",\"max\",\"min\"])) #複数の処理も可能\n",
        "\n",
        "# カラムを指定して、それぞれ別の処理\n",
        "print(df.agg({\"apple\":[\"sum\",\"max\"],\"banana\":[\"mean\",\"min\"]}))"
      ],
      "metadata": {
        "colab": {
          "base_uri": "https://localhost:8080/"
        },
        "id": "m4tBCC_h0jhl",
        "outputId": "21001da7-a1d9-4c68-9bd1-e47002471ec8"
      },
      "execution_count": 388,
      "outputs": [
        {
          "output_type": "stream",
          "name": "stdout",
          "text": [
            "   apple  banana  peach\n",
            "0     70      92     62\n",
            "1     82      80     75\n",
            "2     69      82     80\n",
            "3     98      95     79\n",
            "4     91      78     68\n",
            "      apple  banana  peach\n",
            "mean   82.0    85.4   72.8\n",
            "      apple  banana  peach\n",
            "mean   82.0    85.4   72.8\n",
            "max    98.0    95.0   80.0\n",
            "min    69.0    78.0   62.0\n",
            "      apple  banana\n",
            "max    98.0     NaN\n",
            "mean    NaN    85.4\n",
            "min     NaN    78.0\n",
            "sum   410.0     NaN\n"
          ]
        }
      ]
    },
    {
      "cell_type": "code",
      "source": [
        "#pandas.DataFrame.melt - 横持ちのデータを縦持ちに変換\n",
        "# 横持ちデータ - データが増える時に横に増えるデータ構造\n",
        "# 縦持ちデータ - データが増える時に縦に増えるデータ構造\n",
        "\n",
        "# value_vars - そのカラムの要素だけで表示することができる\n",
        "pd.melt(整形したいデータフレーム,id_vars = \"軸にしたいカラム\",value_vars=\"カラム\")\n",
        "\n",
        "# variableの名前を変更する\n",
        "pd.melt(整形したいデータフレーム,id_vars = \"軸にしたいカラム\",value_vars=\"カラム\",ver_name = \"変更したい名前\")\n",
        "\n",
        "# valueの名前を変更する\n",
        "pd.melt(整形したいデータフレーム,id_vars = \"軸にしたいカラム\",value_vars=\"カラム\",ver_name = \"変更したい名前\",value_name = \"変更したい名前\")"
      ],
      "metadata": {
        "id": "_f0d-jBY0jjq"
      },
      "execution_count": null,
      "outputs": []
    },
    {
      "cell_type": "code",
      "source": [
        "#pandas.reindex - 行と列を指定した順に並び替え\n",
        "df = pd.DataFrame({\n",
        "    \"apple\":[100,200,300],\n",
        "    \"banana\":[150,250,350],\n",
        "    \"orange\":[400,450,500]},\n",
        "    index=[\"A\",\"B\",\"C\"])\n",
        "print(df)\n",
        "\n",
        "# 行の順番を並び替える\n",
        "print(df.reindex(index=[\"C\",\"A\",\"B\"]))\n",
        "\n",
        "# 列の順番を並び替える\n",
        "print(df.reindex(columns=[\"banana\",\"orange\",\"apple\"]))\n",
        "\n",
        "# 行列を同時に並び替えることができる\n",
        "print(df.reindex(index=[\"B\",\"A\",\"C\"],\n",
        "                 columns=[\"orange\",\"banana\",\"apple\"]))\n",
        "\n",
        "# 指定の行列を指定して抽出と作成もすることもできる,追加された値はNaN(欠損値)\n",
        "print(df.reindex(index=[\"B\",\"A\",\"D\"],\n",
        "                 columns=[\"orange\",\"banana\",\"grape\"]))\n",
        "\n",
        "# 任意の値をで追加する場合　- fill_value =数字\n",
        "print(df.reindex(index=[\"B\",\"A\",\"D\"],\n",
        "                 columns=[\"orange\",\"banana\",\"grape\"],\n",
        "                 fill_value=1000))"
      ],
      "metadata": {
        "colab": {
          "base_uri": "https://localhost:8080/"
        },
        "id": "SDv-k4eiMPn1",
        "outputId": "8e00edfa-4e15-424a-a413-e3ab1ed16e3c"
      },
      "execution_count": 12,
      "outputs": [
        {
          "output_type": "stream",
          "name": "stdout",
          "text": [
            "   apple  banana  orange\n",
            "A    100     150     400\n",
            "B    200     250     450\n",
            "C    300     350     500\n",
            "   apple  banana  orange\n",
            "C    300     350     500\n",
            "A    100     150     400\n",
            "B    200     250     450\n",
            "   banana  orange  apple\n",
            "A     150     400    100\n",
            "B     250     450    200\n",
            "C     350     500    300\n",
            "   orange  banana  apple\n",
            "B     450     250    200\n",
            "A     400     150    100\n",
            "C     500     350    300\n",
            "   orange  banana  grape\n",
            "B   450.0   250.0    NaN\n",
            "A   400.0   150.0    NaN\n",
            "D     NaN     NaN    NaN\n",
            "   orange  banana  grape\n",
            "B     450     250   1000\n",
            "A     400     150   1000\n",
            "D    1000    1000   1000\n"
          ]
        }
      ]
    },
    {
      "cell_type": "code",
      "source": [
        "#pandas.DataFrame.size - データフレームやシリーズの要素数を取得\n",
        "df = pd.DataFrame({\n",
        "    \"A店\":[\"apple\",\"banana\",\"apple\",\"apple\",\"banana\"],\n",
        "    \"B店\":[\"banana\",\"apple\",\"strawberry\",\"apple\",\"banana\"],\n",
        "    \"C店\":[\"apple\",\"apple\",\"banana\",\"apple\",\"banana\"]},\n",
        "    index = [\"Mon\",\"Tue\",\"Wed\",\"Thu\",\"Fri\"]\n",
        ")\n",
        "print(df)\n",
        "\n",
        "# データフレームの全要素数\n",
        "print(df.size)\n",
        "\n",
        "# Seriesでしてみる\n",
        "s = df[\"A店\"]\n",
        "print(s)\n",
        "\n",
        "print(s.size)\n",
        "\n",
        "# shape - データフレームの行列を表示\n",
        "print(df.shape)\n",
        "print(s.shape)\n",
        "\n",
        "# len - オブジェクトの長さや要素の個数を取得できる\n",
        "print(len(df))\n",
        "print(len(s))"
      ],
      "metadata": {
        "colab": {
          "base_uri": "https://localhost:8080/"
        },
        "id": "CuVceNoE0jlh",
        "outputId": "77951e8f-6a82-4cea-855a-dd64397413b6"
      },
      "execution_count": 18,
      "outputs": [
        {
          "output_type": "stream",
          "name": "stdout",
          "text": [
            "         A店          B店      C店\n",
            "Mon   apple      banana   apple\n",
            "Tue  banana       apple   apple\n",
            "Wed   apple  strawberry  banana\n",
            "Thu   apple       apple   apple\n",
            "Fri  banana      banana  banana\n",
            "15\n",
            "Mon     apple\n",
            "Tue    banana\n",
            "Wed     apple\n",
            "Thu     apple\n",
            "Fri    banana\n",
            "Name: A店, dtype: object\n",
            "5\n",
            "(5, 3)\n",
            "(5,)\n",
            "5\n",
            "5\n"
          ]
        }
      ]
    },
    {
      "cell_type": "code",
      "source": [
        "# pandas.DataFrame.rank -　データフレームの要素をランク付け\n",
        "df = pd.DataFrame({\n",
        "    \"名前\":[\"apple\",\"banana\",\"peach\",\"cherry\",\"blueberry\"],\n",
        "    \"A店\":[120,150,210,110,230],\n",
        "    \"B店\":[220,210,180,170,260],\n",
        "    \"C店\":[820,120,150,200,200]})\n",
        "print(df)\n",
        "\n",
        "# 列ごとにランク付けできる,デフォルトでは数値は昇順,文字列はアルファベットにランク付けされる(同じ値では平均の順位が表示される)\n",
        "print(df.rank())\n",
        "print(df.rank(ascending=False)) #降順\n",
        "print(df.rank(axis=1)) # 行ごとにランク付け\n",
        "print(df.rank(numeric_only=None)) # 文字列の要素を削除\n",
        "\n",
        "ser = pd.Series([\"apple\",\"banana\",\"peach\",\"cherry\",\"grape\"])\n",
        "print(ser)\n",
        "print(ser.rank()) # シリーズでも同様に使用できる"
      ],
      "metadata": {
        "colab": {
          "base_uri": "https://localhost:8080/"
        },
        "id": "NQQBm3750jnT",
        "outputId": "93ba4290-79cb-4426-d3bb-cc59d7c7d4bf"
      },
      "execution_count": 29,
      "outputs": [
        {
          "output_type": "stream",
          "name": "stdout",
          "text": [
            "          名前   A店   B店   C店\n",
            "0      apple  120  220  820\n",
            "1     banana  150  210  120\n",
            "2      peach  210  180  150\n",
            "3     cherry  110  170  200\n",
            "4  blueberry  230  260  200\n",
            "    名前   A店   B店   C店\n",
            "0  1.0  2.0  4.0  5.0\n",
            "1  2.0  3.0  3.0  1.0\n",
            "2  5.0  4.0  2.0  2.0\n",
            "3  4.0  1.0  1.0  3.5\n",
            "4  3.0  5.0  5.0  3.5\n",
            "    名前   A店   B店   C店\n",
            "0  5.0  4.0  2.0  1.0\n",
            "1  4.0  3.0  3.0  5.0\n",
            "2  1.0  2.0  4.0  4.0\n",
            "3  2.0  5.0  5.0  2.5\n",
            "4  3.0  1.0  1.0  2.5\n",
            "    A店   B店   C店\n",
            "0  1.0  2.0  3.0\n",
            "1  2.0  3.0  1.0\n",
            "2  3.0  2.0  1.0\n",
            "3  1.0  2.0  3.0\n",
            "4  2.0  3.0  1.0\n",
            "    名前   A店   B店   C店\n",
            "0  1.0  2.0  4.0  5.0\n",
            "1  2.0  3.0  3.0  1.0\n",
            "2  5.0  4.0  2.0  2.0\n",
            "3  4.0  1.0  1.0  3.5\n",
            "4  3.0  5.0  5.0  3.5\n",
            "0     apple\n",
            "1    banana\n",
            "2     peach\n",
            "3    cherry\n",
            "4     grape\n",
            "dtype: object\n",
            "0    1.0\n",
            "1    2.0\n",
            "2    5.0\n",
            "3    3.0\n",
            "4    4.0\n",
            "dtype: float64\n"
          ]
        }
      ]
    },
    {
      "cell_type": "code",
      "source": [
        "# pandas.get_dummies - 文字列データを0,1のダミー変数に変換\n",
        "# ダミー変数 - 0,1の数値で構成されるデータ(機械学習の前処理でよく使われる)\n",
        "\n",
        "df = pd.DataFrame(\n",
        "    [[1,2,\"A\"],[2,1,\"A\"],[1,3,\"B\"],[2,2,\"A\"]],\n",
        "    columns = [\"grade\",\"class\",\"area\"],\n",
        "    index = [\"idx01\",\"idx02\",\"idx03\",\"idx04\"])\n",
        "print(df)\n",
        "\n",
        "#カラムごとのデータを表示,dummie変数で変換されるのは1,object型と2,pandasのcategory型\n",
        "\n",
        "print(df.dtypes)\n",
        "\n",
        "# 変換　\n",
        "print(pd.get_dummies(df))\n",
        "\n",
        "# classというカラムのデータ型からcategory型に変換する\n",
        "df = df.astype({\"class\":\"category\"})\n",
        "\n",
        "# pandasのcategory型 \n",
        "print(df[\"class\"])\n",
        "\n",
        "#ダミー変数に変換 - クラスとエリアが変換される\n",
        "print(pd.get_dummies(df))\n",
        "\n",
        "#数値型のカラムでも引数columns=[\"\"]に指定してダミー変数の指定できる\n",
        "print(pd.get_dummies(df,columns=[\"grade\"]))"
      ],
      "metadata": {
        "colab": {
          "base_uri": "https://localhost:8080/"
        },
        "id": "pO7Bx2VC0jpH",
        "outputId": "54936ab0-2ba3-4e40-ebff-b29e829b4a1c"
      },
      "execution_count": 41,
      "outputs": [
        {
          "output_type": "stream",
          "name": "stdout",
          "text": [
            "       grade  class area\n",
            "idx01      1      2    A\n",
            "idx02      2      1    A\n",
            "idx03      1      3    B\n",
            "idx04      2      2    A\n",
            "grade     int64\n",
            "class     int64\n",
            "area     object\n",
            "dtype: object\n",
            "       grade  class  area_A  area_B\n",
            "idx01      1      2       1       0\n",
            "idx02      2      1       1       0\n",
            "idx03      1      3       0       1\n",
            "idx04      2      2       1       0\n",
            "idx01    2\n",
            "idx02    1\n",
            "idx03    3\n",
            "idx04    2\n",
            "Name: class, dtype: category\n",
            "Categories (3, int64): [1, 2, 3]\n",
            "       grade  class_1  class_2  class_3  area_A  area_B\n",
            "idx01      1        0        1        0       1       0\n",
            "idx02      2        1        0        0       1       0\n",
            "idx03      1        0        0        1       0       1\n",
            "idx04      2        0        1        0       1       0\n",
            "      class area  grade_1  grade_2\n",
            "idx01     2    A        1        0\n",
            "idx02     1    A        0        1\n",
            "idx03     3    B        1        0\n",
            "idx04     2    A        0        1\n"
          ]
        }
      ]
    },
    {
      "cell_type": "code",
      "source": [
        "# pandas.DataFrame.xs - マルチインデックスのDataFrameからデータを取得する\n",
        "# 店名(階層=0),商品名(1),包装(-1)はマルチインデックス\n",
        "# マルチインデックス - 複数の列をインデックスとして適用させることができるデータフレームの仕組み\n",
        "\n",
        "data = np.random.randint(150,400,(8,3))\n",
        "idx = [[\"A店\",\"A店\",\"A店\",\"B店\",\"B店\",\"C店\",\"C店\",\"C店\"],\n",
        "       [\"りんご\",\"バナナ\",\"もも\",\"りんご\",\"もも\",\"りんご\",\"バナナ\",\"もも\"],\n",
        "       [\"パック\",\"箱\",\"箱\",\"箱\",\"パック\",\"パック\",\"箱\",\"パック\"]]\n",
        "\n",
        "col = [\"10/1\",\"10/2\",\"10/3\"]\n",
        "df = pd.DataFrame(data=data,index=idx,columns=col)\n",
        "df.index.names =[\"店名\",\"商品名\",\"包装\"]\n",
        "\n",
        "print(df)\n",
        "\n",
        "# 店名(階層=0),商品名(1),包装(-1)の階層を引数で指定して取得することができる\n",
        "# B店情報を取得\n",
        "# print(df.xs(\"取得したい値\",level=階層指定,\"階層名を指定することもできる\"))\n",
        "print(df.xs(\"B店\",level=0)) #B店に関する情報を得られる\n",
        "print(df.xs(\"りんご\",level=1)) #各店舗におけるりんごに関する情報を得られる\n",
        "print(df.xs(\"A店\",level=\"店名\"))\n",
        "print(df.xs([\"A店\",\"パック\"],level=[0,\"包装\"])) #値と階層を複数指定することもできる\n",
        "print(df.xs(\"10/3\",axis=1)) #カラムのみ指定"
      ],
      "metadata": {
        "colab": {
          "base_uri": "https://localhost:8080/"
        },
        "id": "q55ZvGEsidaK",
        "outputId": "eaaf062c-0cdd-4e5e-9b05-937b6aa21ba8"
      },
      "execution_count": 50,
      "outputs": [
        {
          "output_type": "stream",
          "name": "stdout",
          "text": [
            "            10/1  10/2  10/3\n",
            "店名 商品名 包装                   \n",
            "A店 りんご パック   282   312   300\n",
            "   バナナ 箱     311   301   376\n",
            "   もも  箱     366   218   195\n",
            "B店 りんご 箱     191   384   274\n",
            "   もも  パック   274   301   319\n",
            "C店 りんご パック   388   250   185\n",
            "   バナナ 箱     251   195   219\n",
            "   もも  パック   206   222   303\n",
            "         10/1  10/2  10/3\n",
            "商品名 包装                   \n",
            "りんご 箱     191   384   274\n",
            "もも  パック   274   301   319\n",
            "        10/1  10/2  10/3\n",
            "店名 包装                   \n",
            "A店 パック   282   312   300\n",
            "B店 箱     191   384   274\n",
            "C店 パック   388   250   185\n",
            "         10/1  10/2  10/3\n",
            "商品名 包装                   \n",
            "りんご パック   282   312   300\n",
            "バナナ 箱     311   301   376\n",
            "もも  箱     366   218   195\n",
            "     10/1  10/2  10/3\n",
            "商品名                  \n",
            "りんご   282   312   300\n",
            "店名  商品名  包装 \n",
            "A店  りんご  パック    300\n",
            "    バナナ  箱      376\n",
            "    もも   箱      195\n",
            "B店  りんご  箱      274\n",
            "    もも   パック    319\n",
            "C店  りんご  パック    185\n",
            "    バナナ  箱      219\n",
            "    もも   パック    303\n",
            "Name: 10/3, dtype: int64\n"
          ]
        }
      ]
    },
    {
      "cell_type": "code",
      "source": [
        "# pandas.Series.map - シリーズの各要素に関数を適用\n",
        "ser = pd.Series([\"スカートSkirt\",\"ニットKnit\",\"ジャケットJacket\",\"シャツShirt\",\"ロングパンツSlacks\"])\n",
        "print(ser)\n",
        "\n",
        "#lambda関数で各値の最初の一文字を抽出する\n",
        "# print(ser.map(lambda 引数を指定:実行したい関数))\n",
        "print(ser.map(lambda x:x[0]))\n",
        "\n",
        "# 各値の大文字と小文字のアルファベットを抽出\n",
        "import re #正規表現を扱うmodule\n",
        "print(ser.map(lambda x: re.findall(\"[A-z]+\",x)))\n",
        "\n",
        "# format関数で文章を作成する\n",
        "# format関数では括弧の部分に各値の文字列に差し込むことができる\n",
        "print(ser.map(\"{}を買います\".format))\n",
        "\n",
        "#seriesの各要素に関数を適応できるmethod - apply\n",
        "# apply methodは数値の操作,map methodは文字列操作に適している\n",
        "print(ser.apply(lambda x:\"1万円以上\" \n",
        "                if x >= 10000 else \"1万円未満\"))"
      ],
      "metadata": {
        "colab": {
          "base_uri": "https://localhost:8080/",
          "height": 861
        },
        "id": "VwNZH9Q3idY4",
        "outputId": "7ba99e5b-fda6-41fb-f1b2-359d50dd7e49"
      },
      "execution_count": 64,
      "outputs": [
        {
          "output_type": "stream",
          "name": "stdout",
          "text": [
            "0       スカートSkirt\n",
            "1         ニットKnit\n",
            "2     ジャケットJacket\n",
            "3        シャツShirt\n",
            "4    ロングパンツSlacks\n",
            "dtype: object\n",
            "0    ス\n",
            "1    ニ\n",
            "2    ジ\n",
            "3    シ\n",
            "4    ロ\n",
            "dtype: object\n",
            "0     [Skirt]\n",
            "1      [Knit]\n",
            "2    [Jacket]\n",
            "3     [Shirt]\n",
            "4    [Slacks]\n",
            "dtype: object\n",
            "0       スカートSkirtを買います\n",
            "1         ニットKnitを買います\n",
            "2     ジャケットJacketを買います\n",
            "3        シャツShirtを買います\n",
            "4    ロングパンツSlacksを買います\n",
            "dtype: object\n"
          ]
        },
        {
          "output_type": "error",
          "ename": "TypeError",
          "evalue": "ignored",
          "traceback": [
            "\u001b[0;31m---------------------------------------------------------------------------\u001b[0m",
            "\u001b[0;31mTypeError\u001b[0m                                 Traceback (most recent call last)",
            "\u001b[0;32m<ipython-input-64-a80d0f29ee9e>\u001b[0m in \u001b[0;36m<module>\u001b[0;34m()\u001b[0m\n\u001b[1;32m     17\u001b[0m \u001b[0;31m#seriesの各要素に関数を適応できるmethod - apply\u001b[0m\u001b[0;34m\u001b[0m\u001b[0;34m\u001b[0m\u001b[0;34m\u001b[0m\u001b[0m\n\u001b[1;32m     18\u001b[0m \u001b[0;31m# apply methodは数値の操作,\u001b[0m\u001b[0;34m\u001b[0m\u001b[0;34m\u001b[0m\u001b[0;34m\u001b[0m\u001b[0m\n\u001b[0;32m---> 19\u001b[0;31m print(ser.apply(lambda x:\"1万円以上\" \n\u001b[0m\u001b[1;32m     20\u001b[0m                 if x >= 10000 else \"1万円未満\"))\n",
            "\u001b[0;32m/usr/local/lib/python3.7/dist-packages/pandas/core/series.py\u001b[0m in \u001b[0;36mapply\u001b[0;34m(self, func, convert_dtype, args, **kwds)\u001b[0m\n\u001b[1;32m   4211\u001b[0m             \u001b[0;32melse\u001b[0m\u001b[0;34m:\u001b[0m\u001b[0;34m\u001b[0m\u001b[0;34m\u001b[0m\u001b[0m\n\u001b[1;32m   4212\u001b[0m                 \u001b[0mvalues\u001b[0m \u001b[0;34m=\u001b[0m \u001b[0mself\u001b[0m\u001b[0;34m.\u001b[0m\u001b[0mastype\u001b[0m\u001b[0;34m(\u001b[0m\u001b[0mobject\u001b[0m\u001b[0;34m)\u001b[0m\u001b[0;34m.\u001b[0m\u001b[0m_values\u001b[0m\u001b[0;34m\u001b[0m\u001b[0;34m\u001b[0m\u001b[0m\n\u001b[0;32m-> 4213\u001b[0;31m                 \u001b[0mmapped\u001b[0m \u001b[0;34m=\u001b[0m \u001b[0mlib\u001b[0m\u001b[0;34m.\u001b[0m\u001b[0mmap_infer\u001b[0m\u001b[0;34m(\u001b[0m\u001b[0mvalues\u001b[0m\u001b[0;34m,\u001b[0m \u001b[0mf\u001b[0m\u001b[0;34m,\u001b[0m \u001b[0mconvert\u001b[0m\u001b[0;34m=\u001b[0m\u001b[0mconvert_dtype\u001b[0m\u001b[0;34m)\u001b[0m\u001b[0;34m\u001b[0m\u001b[0;34m\u001b[0m\u001b[0m\n\u001b[0m\u001b[1;32m   4214\u001b[0m \u001b[0;34m\u001b[0m\u001b[0m\n\u001b[1;32m   4215\u001b[0m         \u001b[0;32mif\u001b[0m \u001b[0mlen\u001b[0m\u001b[0;34m(\u001b[0m\u001b[0mmapped\u001b[0m\u001b[0;34m)\u001b[0m \u001b[0;32mand\u001b[0m \u001b[0misinstance\u001b[0m\u001b[0;34m(\u001b[0m\u001b[0mmapped\u001b[0m\u001b[0;34m[\u001b[0m\u001b[0;36m0\u001b[0m\u001b[0;34m]\u001b[0m\u001b[0;34m,\u001b[0m \u001b[0mSeries\u001b[0m\u001b[0;34m)\u001b[0m\u001b[0;34m:\u001b[0m\u001b[0;34m\u001b[0m\u001b[0;34m\u001b[0m\u001b[0m\n",
            "\u001b[0;32mpandas/_libs/lib.pyx\u001b[0m in \u001b[0;36mpandas._libs.lib.map_infer\u001b[0;34m()\u001b[0m\n",
            "\u001b[0;32m<ipython-input-64-a80d0f29ee9e>\u001b[0m in \u001b[0;36m<lambda>\u001b[0;34m(x)\u001b[0m\n\u001b[1;32m     18\u001b[0m \u001b[0;31m# apply methodは数値の操作,\u001b[0m\u001b[0;34m\u001b[0m\u001b[0;34m\u001b[0m\u001b[0;34m\u001b[0m\u001b[0m\n\u001b[1;32m     19\u001b[0m print(ser.apply(lambda x:\"1万円以上\" \n\u001b[0;32m---> 20\u001b[0;31m                 if x >= 10000 else \"1万円未満\"))\n\u001b[0m",
            "\u001b[0;31mTypeError\u001b[0m: '>=' not supported between instances of 'str' and 'int'"
          ]
        }
      ]
    },
    {
      "cell_type": "code",
      "source": [
        "# pandas.cut - 境界線を指定してビン分割(同じ感覚で分割される)\n",
        "# ビン分割 - 各要素を最小と最大の境界値で区切り,カテゴリ分けする操作\n",
        "\n",
        "ser = pd.Series([11,46,65,34,25,12,35,79])\n",
        "print(ser)\n",
        "# print(pd.cut(seriesの変数名,ビン分割する数))\n",
        "print(pd.cut(ser,4)) #4つのカテゴリーに分割\n",
        "\n",
        "#境界値を指定してビン分割\n",
        "# print(pd.cut(ser,,リスト指定したらその値が境界値になる))\n",
        "print(pd.cut(ser,[10,15,55,95]))\n",
        "\n",
        "#ラベルに指定することができる\n",
        "print(pd.cut(ser,4,labels=[\"tiny\",\"small\",\"medium\",\"big\"]))\n",
        "\n",
        "# qcut method - 分割可能,それぞれのビンの個数が同じようになるように分割する\n",
        "print(pd.qcut(ser,4).value_counts())"
      ],
      "metadata": {
        "colab": {
          "base_uri": "https://localhost:8080/"
        },
        "id": "dvgbyHOnidXC",
        "outputId": "c9b41c4c-babf-44b5-e988-dd1323f59257"
      },
      "execution_count": 74,
      "outputs": [
        {
          "output_type": "stream",
          "name": "stdout",
          "text": [
            "0    11\n",
            "1    46\n",
            "2    65\n",
            "3    34\n",
            "4    25\n",
            "5    12\n",
            "6    35\n",
            "7    79\n",
            "dtype: int64\n",
            "0    (10.932, 28.0]\n",
            "1      (45.0, 62.0]\n",
            "2      (62.0, 79.0]\n",
            "3      (28.0, 45.0]\n",
            "4    (10.932, 28.0]\n",
            "5    (10.932, 28.0]\n",
            "6      (28.0, 45.0]\n",
            "7      (62.0, 79.0]\n",
            "dtype: category\n",
            "Categories (4, interval[float64]): [(10.932, 28.0] < (28.0, 45.0] < (45.0, 62.0] < (62.0, 79.0]]\n",
            "0    (10, 15]\n",
            "1    (15, 55]\n",
            "2    (55, 95]\n",
            "3    (15, 55]\n",
            "4    (15, 55]\n",
            "5    (10, 15]\n",
            "6    (15, 55]\n",
            "7    (55, 95]\n",
            "dtype: category\n",
            "Categories (3, interval[int64]): [(10, 15] < (15, 55] < (55, 95]]\n",
            "0      tiny\n",
            "1    medium\n",
            "2       big\n",
            "3     small\n",
            "4      tiny\n",
            "5      tiny\n",
            "6     small\n",
            "7       big\n",
            "dtype: category\n",
            "Categories (4, object): ['tiny' < 'small' < 'medium' < 'big']\n",
            "(50.75, 79.0]      2\n",
            "(34.5, 50.75]      2\n",
            "(21.75, 34.5]      2\n",
            "(10.999, 21.75]    2\n",
            "dtype: int64\n"
          ]
        }
      ]
    },
    {
      "cell_type": "code",
      "source": [
        "#pandas.crosstab(行,列) - 各値の出現回数をクロス集計\n",
        "# クロス集計 - 複数のカテゴリーを掛け合わせて合計値や平均値を算出する集計方法\n",
        "df = pd.read_csv(\"/content/sample_data/california_housing_test.csv\")\n",
        "print(df.head())\n",
        "\n",
        "pd.crosstab(df[\"カラム名\"],df[\"カラム名\"]) #出現回数を出力できる\n",
        "pd.crosstab(df[\"カラム名\"],\n",
        "         df[\"カラム名\"],margins=True) #出現回数の合計を行列ごと集計することもできる\n",
        "pd.crosstab(df[\"カラム名\"],df[\"カラム名\"],\n",
        "         df[\"カラム名\"],aggfunc=\"sum\") # 出現回数以外の集計もできる"
      ],
      "metadata": {
        "colab": {
          "base_uri": "https://localhost:8080/",
          "height": 615
        },
        "id": "ngdA-D7TidVO",
        "outputId": "b4d8c317-53f9-44bd-a8d4-632930994073"
      },
      "execution_count": 76,
      "outputs": [
        {
          "output_type": "stream",
          "name": "stdout",
          "text": [
            "   longitude  latitude  ...  median_income  median_house_value\n",
            "0    -122.05     37.37  ...         6.6085            344700.0\n",
            "1    -118.30     34.26  ...         3.5990            176500.0\n",
            "2    -117.81     33.78  ...         5.7934            270500.0\n",
            "3    -118.36     33.82  ...         6.1359            330000.0\n",
            "4    -119.67     36.33  ...         2.9375             81700.0\n",
            "\n",
            "[5 rows x 9 columns]\n"
          ]
        },
        {
          "output_type": "error",
          "ename": "AttributeError",
          "evalue": "ignored",
          "traceback": [
            "\u001b[0;31m---------------------------------------------------------------------------\u001b[0m",
            "\u001b[0;31mAttributeError\u001b[0m                            Traceback (most recent call last)",
            "\u001b[0;32m<ipython-input-76-887a3829cb25>\u001b[0m in \u001b[0;36m<module>\u001b[0;34m()\u001b[0m\n\u001b[1;32m      4\u001b[0m \u001b[0mprint\u001b[0m\u001b[0;34m(\u001b[0m\u001b[0mdf\u001b[0m\u001b[0;34m.\u001b[0m\u001b[0mhead\u001b[0m\u001b[0;34m(\u001b[0m\u001b[0;34m)\u001b[0m\u001b[0;34m)\u001b[0m\u001b[0;34m\u001b[0m\u001b[0;34m\u001b[0m\u001b[0m\n\u001b[1;32m      5\u001b[0m \u001b[0;34m\u001b[0m\u001b[0m\n\u001b[0;32m----> 6\u001b[0;31m \u001b[0mpd\u001b[0m\u001b[0;34m.\u001b[0m\u001b[0mcross\u001b[0m\u001b[0;34m(\u001b[0m\u001b[0mdf\u001b[0m\u001b[0;34m[\u001b[0m\u001b[0;34m\"カラム名\"\u001b[0m\u001b[0;34m]\u001b[0m\u001b[0;34m,\u001b[0m\u001b[0mdf\u001b[0m\u001b[0;34m[\u001b[0m\u001b[0;34m\"カラム名\"\u001b[0m\u001b[0;34m]\u001b[0m\u001b[0;34m)\u001b[0m \u001b[0;31m#出現回数を出力できる\u001b[0m\u001b[0;34m\u001b[0m\u001b[0;34m\u001b[0m\u001b[0m\n\u001b[0m\u001b[1;32m      7\u001b[0m pd.cross(df[\"カラム名\"],\n\u001b[1;32m      8\u001b[0m          df[\"カラム名\"],margins=True) #出現回数の合計を行列ごと集計することもできる\n",
            "\u001b[0;32m/usr/local/lib/python3.7/dist-packages/pandas/__init__.py\u001b[0m in \u001b[0;36m__getattr__\u001b[0;34m(name)\u001b[0m\n\u001b[1;32m    256\u001b[0m             \u001b[0;32mreturn\u001b[0m \u001b[0m_SparseArray\u001b[0m\u001b[0;34m\u001b[0m\u001b[0;34m\u001b[0m\u001b[0m\n\u001b[1;32m    257\u001b[0m \u001b[0;34m\u001b[0m\u001b[0m\n\u001b[0;32m--> 258\u001b[0;31m         \u001b[0;32mraise\u001b[0m \u001b[0mAttributeError\u001b[0m\u001b[0;34m(\u001b[0m\u001b[0;34mf\"module 'pandas' has no attribute '{name}'\"\u001b[0m\u001b[0;34m)\u001b[0m\u001b[0;34m\u001b[0m\u001b[0;34m\u001b[0m\u001b[0m\n\u001b[0m\u001b[1;32m    259\u001b[0m \u001b[0;34m\u001b[0m\u001b[0m\n\u001b[1;32m    260\u001b[0m \u001b[0;34m\u001b[0m\u001b[0m\n",
            "\u001b[0;31mAttributeError\u001b[0m: module 'pandas' has no attribute 'cross'"
          ]
        }
      ]
    },
    {
      "cell_type": "code",
      "source": [
        "# input - 入力した文字を取得する,入力されたものは文字列型で出力される\n",
        "#input(\"入力してください\") - 入力ホームで出力される\n",
        "num = input(\"好きな数字を入力してください\")\n",
        "print(num)\n",
        "\n",
        "print(type(num))"
      ],
      "metadata": {
        "colab": {
          "base_uri": "https://localhost:8080/"
        },
        "id": "nj0_YNnExWOW",
        "outputId": "972f72a2-531c-48f0-cc4a-585bccad3233"
      },
      "execution_count": 80,
      "outputs": [
        {
          "output_type": "stream",
          "name": "stdout",
          "text": [
            "好きな数字を入力してください21\n",
            "21\n",
            "<class 'str'>\n"
          ]
        }
      ]
    },
    {
      "cell_type": "code",
      "source": [
        "# pandas.DataFrame.corr - データフレームの相関係数を計算,数値型とブール型が計算対象,欠損知は計算対象外\n",
        "# 相関係数 - ２つのデータ間の-1~1で示したもの\n",
        "\n",
        "df=pd.DataFrame({\n",
        "    \"math\":[7,6,10,7],\n",
        "    \"english\":[8,9,7,10]})\n",
        "print(df)\n",
        "print(df.corr)"
      ],
      "metadata": {
        "colab": {
          "base_uri": "https://localhost:8080/"
        },
        "id": "nY0X7UDWidTp",
        "outputId": "4e8a99de-0de4-4ee2-fdf2-8e81f7aa6f7e"
      },
      "execution_count": 83,
      "outputs": [
        {
          "output_type": "stream",
          "name": "stdout",
          "text": [
            "   math  english\n",
            "0     7        8\n",
            "1     6        9\n",
            "2    10        7\n",
            "3     7       10\n",
            "<bound method DataFrame.corr of    math  english\n",
            "0     7        8\n",
            "1     6        9\n",
            "2    10        7\n",
            "3     7       10>\n"
          ]
        }
      ]
    },
    {
      "cell_type": "code",
      "source": [
        "# pandas.DataFrame.idxmax/idxmin - データフレームの最大/最小値の行名/列名を取得\n",
        "df=pd.DataFrame({\n",
        "    \"No.1\":[10,15,12,48,32],\n",
        "    \"No.2\":[29,1,43,18,25],\n",
        "    \"No.3\":[38,28,16,22,49]},\n",
        "    index=[\"A\",\"B\",\"C\",\"D\",\"E\"]\n",
        "    )\n",
        "print(df)\n",
        "\n",
        "#行名取得\n",
        "print(df.idxmax())\n",
        "\n",
        "#最大値の行名\n",
        "print(df.idxmax(axis=1))\n",
        "\n",
        "print(df.idxmin())\n",
        "\n",
        "# seriesでも適用できる\n",
        "print(df[\"No.2\"].idxmin())"
      ],
      "metadata": {
        "colab": {
          "base_uri": "https://localhost:8080/"
        },
        "id": "J25YQ4CKidSE",
        "outputId": "af077b81-8e6e-412e-fe5a-b4011f5abe49"
      },
      "execution_count": 91,
      "outputs": [
        {
          "output_type": "stream",
          "name": "stdout",
          "text": [
            "   No.1  No.2  No.3\n",
            "A    10    29    38\n",
            "B    15     1    28\n",
            "C    12    43    16\n",
            "D    48    18    22\n",
            "E    32    25    49\n",
            "No.1    D\n",
            "No.2    C\n",
            "No.3    E\n",
            "dtype: object\n",
            "A    No.3\n",
            "B    No.3\n",
            "C    No.2\n",
            "D    No.1\n",
            "E    No.3\n",
            "dtype: object\n",
            "No.1    A\n",
            "No.2    B\n",
            "No.3    C\n",
            "dtype: object\n",
            "B\n"
          ]
        }
      ]
    },
    {
      "cell_type": "code",
      "source": [
        "# dict.values - 辞書の値を取得\n",
        "d ={\n",
        "    \"apple\":\"fruits\",\n",
        "    \"potato\":\"vegetable\",\n",
        "    \"chicken\":\"meat\"\n",
        "}\n",
        "\n",
        "print(d)\n",
        "print(d.values()) #辞書の値のみ取得\n",
        "\n",
        "# 値を１つづつ取得\n",
        "for v in d.values():\n",
        "    print(v)\n",
        "\n",
        "# keyを取得\n",
        "print(d.keys())\n",
        "\n",
        "#値を取得できる\n",
        "print(d.values())\n",
        "\n",
        "# get method - keyを指定して取得できる\n",
        "print(d.get(\"apple\"))\n",
        "\n",
        "# キーと値を取得\n",
        "print(d.items())"
      ],
      "metadata": {
        "colab": {
          "base_uri": "https://localhost:8080/"
        },
        "id": "GJC0UI0RidQl",
        "outputId": "4a388fe2-a810-4709-a83a-0b500e6b1ec4"
      },
      "execution_count": 103,
      "outputs": [
        {
          "output_type": "stream",
          "name": "stdout",
          "text": [
            "{'apple': 'fruits', 'potato': 'vegetable', 'chicken': 'meat'}\n",
            "dict_values(['fruits', 'vegetable', 'meat'])\n",
            "fruits\n",
            "vegetable\n",
            "meat\n",
            "dict_keys(['apple', 'potato', 'chicken'])\n",
            "dict_values(['fruits', 'vegetable', 'meat'])\n",
            "fruits\n",
            "dict_items([('apple', 'fruits'), ('potato', 'vegetable'), ('chicken', 'meat')])\n"
          ]
        }
      ]
    },
    {
      "cell_type": "code",
      "source": [
        "# dict.items - 辞書のキーと値を取得\n",
        "d ={\n",
        "    \"apple\":\"fruits\",\n",
        "    \"potato\":\"vegetable\",\n",
        "    \"chicken\":\"meat\"\n",
        "}\n",
        "\n",
        "print(d)\n",
        "print(d.items())\n",
        "\n",
        "#順番に取得\n",
        "for i in d.items():\n",
        "    print(i)\n",
        "\n",
        "# for文に分けてキーと値に分けて指定すると,それぞれ個別に取得することができる\n",
        "for k,v in d.items():\n",
        "    print(\"name:\",k)\n",
        "    print(\"category:\",v)\n",
        "    print(\"-----------------\")"
      ],
      "metadata": {
        "colab": {
          "base_uri": "https://localhost:8080/"
        },
        "id": "4ngVOUY-USlK",
        "outputId": "5a9a6a69-fc5f-4ef7-8f70-a9681b510fb8"
      },
      "execution_count": 102,
      "outputs": [
        {
          "output_type": "stream",
          "name": "stdout",
          "text": [
            "{'apple': 'fruits', 'potato': 'vegetable', 'chicken': 'meat'}\n",
            "dict_items([('apple', 'fruits'), ('potato', 'vegetable'), ('chicken', 'meat')])\n",
            "('apple', 'fruits')\n",
            "('potato', 'vegetable')\n",
            "('chicken', 'meat')\n",
            "name: apple\n",
            "category: fruits\n",
            "-----------------\n",
            "name: potato\n",
            "category: vegetable\n",
            "-----------------\n",
            "name: chicken\n",
            "category: meat\n",
            "-----------------\n"
          ]
        }
      ]
    },
    {
      "cell_type": "code",
      "source": [
        "# round - 数字を四捨五入\n",
        "import math\n",
        "f=math.pi\n",
        "print(f)\n",
        "\n",
        "print(round(f)) #デフォルトで小数点第一位で四捨五入される\n",
        "# print(round(f,指定した数字以下で四捨五入))\n",
        "print(round(f,2))\n",
        "print(round(f,-1)) #-は10の位で四捨五入される\n",
        "print(round(2.5)) #四捨五入であれば3であるが、round関数では2になる"
      ],
      "metadata": {
        "colab": {
          "base_uri": "https://localhost:8080/"
        },
        "id": "IR08c-a0USm_",
        "outputId": "d3a0bca5-5532-49d1-b033-35af1c334bd8"
      },
      "execution_count": 108,
      "outputs": [
        {
          "output_type": "stream",
          "name": "stdout",
          "text": [
            "3.141592653589793\n",
            "3\n",
            "3.14\n",
            "0.0\n",
            "2\n"
          ]
        }
      ]
    },
    {
      "cell_type": "code",
      "source": [
        "# dict.keys - 辞書のキーを取得\n",
        "d={\"1\":\"pandas\",\n",
        "   \"2\":\"matplotlib\",\n",
        "   \"3\":\"AI\"}\n",
        "\n",
        "print(d.keys())\n",
        "print(list(d.keys())) # キーをリストとして取得する"
      ],
      "metadata": {
        "colab": {
          "base_uri": "https://localhost:8080/"
        },
        "id": "HF_JCKgvUSov",
        "outputId": "703daaa4-e9b0-4108-a865-2b24656f9a5d"
      },
      "execution_count": 110,
      "outputs": [
        {
          "output_type": "stream",
          "name": "stdout",
          "text": [
            "dict_keys(['1', '2', '3'])\n",
            "['1', '2', '3']\n"
          ]
        }
      ]
    },
    {
      "cell_type": "code",
      "source": [
        "# pandas.DataFrame.plot - 線グラフの作成\n",
        "data = np.random.randint(10,101,(6,3))\n",
        "idx = [\"January\",\"February\",\"March\",\"April\",\"May\",\"June\"]\n",
        "col = [\"Ito\",\"Takahashi\",\"Yamada\"]\n",
        "df = pd.DataFrame(data=data,index=idx,columns=col)\n",
        "\n",
        "print(df)\n",
        "\n",
        "#title=\"Achivement Rate\" : タイトルを付与\n",
        "print(df.plot(title=\"Achivement Rate\")) #デフォルトでは線グラフが作成される\n",
        "\n",
        "#線の色と形を変更する\n",
        "# \"r(カラー:線の色を指定)o(マーカー:マーカーの形)-(ライン:セルのスタイル)\"\n",
        "print(df.plot(style=[\"ro-\",\"gs:\",\"b.--\"]))"
      ],
      "metadata": {
        "colab": {
          "base_uri": "https://localhost:8080/",
          "height": 695
        },
        "id": "7eDlUaWzUSqZ",
        "outputId": "31bda8b3-1bc5-4e28-9dca-8e8c71f87fcb"
      },
      "execution_count": 115,
      "outputs": [
        {
          "output_type": "stream",
          "name": "stdout",
          "text": [
            "          Ito  Takahashi  Yamada\n",
            "January    47         69      29\n",
            "February   75         59      29\n",
            "March      94         62      66\n",
            "April      83         81      93\n",
            "May        25         53      15\n",
            "June       30         81      94\n",
            "AxesSubplot(0.125,0.125;0.775x0.755)\n",
            "AxesSubplot(0.125,0.125;0.775x0.755)\n"
          ]
        },
        {
          "output_type": "display_data",
          "data": {
            "image/png": "[encoded data removed]",
            "text/plain": [
              "<Figure size 432x288 with 1 Axes>"
            ]
          },
          "metadata": {
            "needs_background": "light"
          }
        },
        {
          "output_type": "display_data",
          "data": {
            "image/png": "[encoded data removed]",
            "text/plain": [
              "<Figure size 432x288 with 1 Axes>"
            ]
          },
          "metadata": {
            "needs_background": "light"
          }
        }
      ]
    },
    {
      "cell_type": "code",
      "source": [
        "# matplotlib.pyplot.scatter - 散布図を作成\n",
        "x = np.random.rand(50)\n",
        "y = np.random.rand(50)\n",
        "plt.scatter(x,y)\n",
        "plt.show()\n",
        "\n",
        "#散布図のマーカのスタイルを変える\n",
        "# marker=\"マーカーの形\"\n",
        "# c=\"#マーカーの色\"\n",
        "# edgecolors=\"マーカーの枠の色\"\n",
        "# linewidths=2 - マーカーの枠の太さ\n",
        "# s=200 - マーカーの大きさ\n",
        "\n",
        "# xとy軸にラベルをつける\n",
        "plt.scatter(x,y,marker=\"*\",c=\"#ffe4b3\",\n",
        "edgecolors=\"#ffa550\",linewidths=2,\n",
        "s=200)\n",
        "plt.xlabel(\"x-axis\")\n",
        "plt.ylabel(\"y-axis\")\n",
        "plt.show()"
      ],
      "metadata": {
        "colab": {
          "base_uri": "https://localhost:8080/",
          "height": 526
        },
        "id": "Flc-dKsfUSsL",
        "outputId": "2977474f-8e24-4b92-e783-107aacc55c10"
      },
      "execution_count": 119,
      "outputs": [
        {
          "output_type": "display_data",
          "data": {
            "image/png": "[encoded data removed]",
            "text/plain": [
              "<Figure size 432x288 with 1 Axes>"
            ]
          },
          "metadata": {
            "needs_background": "light"
          }
        },
        {
          "output_type": "display_data",
          "data": {
            "image/png": "[encoded data removed]",
            "text/plain": [
              "<Figure size 432x288 with 1 Axes>"
            ]
          },
          "metadata": {
            "needs_background": "light"
          }
        }
      ]
    },
    {
      "cell_type": "code",
      "source": [
        "# range - 連続する整数を作成\n",
        "print(range(5)) #0から始まり,引数で選択した未満の連続する整数を作ることができる\n",
        "\n",
        "#listにして表示する\n",
        "print(list(range(5)))\n",
        "\n",
        "print(range(1,5)) #開始の数を指定\n",
        "\n",
        "print(list(range(1,10,2)))"
      ],
      "metadata": {
        "colab": {
          "base_uri": "https://localhost:8080/"
        },
        "id": "Ft-OYkldUStu",
        "outputId": "b2e44f44-fee1-4d91-fa22-32a9ba9d12d9"
      },
      "execution_count": 124,
      "outputs": [
        {
          "output_type": "stream",
          "name": "stdout",
          "text": [
            "range(0, 5)\n",
            "[0, 1, 2, 3, 4]\n",
            "range(1, 5)\n",
            "[1, 3, 5, 7, 9]\n"
          ]
        }
      ]
    },
    {
      "cell_type": "code",
      "source": [
        "# pandas.DataFrame.stack/unstack - データを横持ち→縦持ち,縦持ち→横持ちに整形\n",
        "df = pd.read_csv(\"/content/sample_data/california_housing_test.csv\")\n",
        "\n",
        "　a = df.stack() #データを横持ち→縦持ちに整形\n",
        "print(a.head(10))\n",
        "\n",
        "a = df.unstack() #データを縦持ち→横持ちに整形\n",
        "print(a.head(10))"
      ],
      "metadata": {
        "colab": {
          "base_uri": "https://localhost:8080/"
        },
        "id": "xnupdZ50USvh",
        "outputId": "02dece97-cc99-4b63-e764-7d230f5495a4"
      },
      "execution_count": 126,
      "outputs": [
        {
          "output_type": "stream",
          "name": "stdout",
          "text": [
            "0  longitude               -122.0500\n",
            "   latitude                  37.3700\n",
            "   housing_median_age        27.0000\n",
            "   total_rooms             3885.0000\n",
            "   total_bedrooms           661.0000\n",
            "   population              1537.0000\n",
            "   households               606.0000\n",
            "   median_income              6.6085\n",
            "   median_house_value    344700.0000\n",
            "1  longitude               -118.3000\n",
            "dtype: float64\n",
            "longitude  0   -122.05\n",
            "           1   -118.30\n",
            "           2   -117.81\n",
            "           3   -118.36\n",
            "           4   -119.67\n",
            "           5   -119.56\n",
            "           6   -121.43\n",
            "           7   -120.65\n",
            "           8   -122.84\n",
            "           9   -118.02\n",
            "dtype: float64\n"
          ]
        }
      ]
    },
    {
      "cell_type": "code",
      "source": [
        "# max - 最大値を取得\n",
        "print(max([10,42,59,31,22]))\n",
        "print(max(\"pYthon\")) #1,降順(zが最大) 2,大文字 < 小文字\n",
        "print(max(\"pyTHON\",\"PYthon\"))\n",
        "d = {\"apple\":150,\n",
        "     \"banana\":230,\n",
        "     \"peach\":360}\n",
        "print(max(d))\n",
        "print(max(d.values()))"
      ],
      "metadata": {
        "colab": {
          "base_uri": "https://localhost:8080/"
        },
        "id": "I1oq61VDUSyx",
        "outputId": "b7da3e37-9142-40cc-db6b-72aaa2431d79"
      },
      "execution_count": 131,
      "outputs": [
        {
          "output_type": "stream",
          "name": "stdout",
          "text": [
            "59\n",
            "t\n",
            "pyTHON\n",
            "peach\n",
            "360\n"
          ]
        }
      ]
    },
    {
      "cell_type": "code",
      "source": [
        "# min - 最小値を取得\n",
        "print(min([10,42,59,31,22]))\n",
        "print(min(\"PYthoN\")) #1,降順(zが最大) 2,大文字 < 小文字\n",
        "print(min(\"pyTHON\",\"PYthon\"))\n",
        "d = {\"apple\":150,\n",
        "     \"banana\":230,\n",
        "     \"peach\":360}\n",
        "print(min(d))\n",
        "print(min(d.values()))"
      ],
      "metadata": {
        "colab": {
          "base_uri": "https://localhost:8080/"
        },
        "id": "a10GqJo7idOc",
        "outputId": "caf39b99-27a7-4feb-e7a6-20d4a8d53cfb"
      },
      "execution_count": 133,
      "outputs": [
        {
          "output_type": "stream",
          "name": "stdout",
          "text": [
            "10\n",
            "N\n",
            "PYthon\n",
            "apple\n",
            "150\n"
          ]
        }
      ]
    },
    {
      "cell_type": "code",
      "source": [
        "# pandas.qcut - 同じ個数でビン分割\n",
        "ser = pd.Series([11,46,65,34,25,12,35,79])\n",
        "print(ser)\n",
        "\n",
        "# pd.qcut(seriesの変数名,q=ビン分割する数)\n",
        "print(pd.qcut(ser,q=4))\n",
        "\n",
        "#同じで個数でビン分割されているか確認できる\n",
        "print(pd.qcut(ser,q=4).value_counts())\n",
        "\n",
        "# 境界値を配列で取得できる\n",
        "print(pd.qcut(ser,q=4,retbins=True))\n",
        "\n",
        "# ビン分割に対してラベルの付与もできる,ラベルで表示できる\n",
        "print(pd.qcut(ser,q=4,labels=[\"tiny\",\"small\",\"medium\",\"big\"]))"
      ],
      "metadata": {
        "colab": {
          "base_uri": "https://localhost:8080/"
        },
        "id": "Tph912LyidNI",
        "outputId": "404339fa-c956-444e-89fe-ff5363a5cce9"
      },
      "execution_count": 142,
      "outputs": [
        {
          "output_type": "stream",
          "name": "stdout",
          "text": [
            "0    11\n",
            "1    46\n",
            "2    65\n",
            "3    34\n",
            "4    25\n",
            "5    12\n",
            "6    35\n",
            "7    79\n",
            "dtype: int64\n",
            "0    (10.999, 21.75]\n",
            "1      (34.5, 50.75]\n",
            "2      (50.75, 79.0]\n",
            "3      (21.75, 34.5]\n",
            "4      (21.75, 34.5]\n",
            "5    (10.999, 21.75]\n",
            "6      (34.5, 50.75]\n",
            "7      (50.75, 79.0]\n",
            "dtype: category\n",
            "Categories (4, interval[float64]): [(10.999, 21.75] < (21.75, 34.5] < (34.5, 50.75] < (50.75, 79.0]]\n",
            "(50.75, 79.0]      2\n",
            "(34.5, 50.75]      2\n",
            "(21.75, 34.5]      2\n",
            "(10.999, 21.75]    2\n",
            "dtype: int64\n",
            "(0    (10.999, 21.75]\n",
            "1      (34.5, 50.75]\n",
            "2      (50.75, 79.0]\n",
            "3      (21.75, 34.5]\n",
            "4      (21.75, 34.5]\n",
            "5    (10.999, 21.75]\n",
            "6      (34.5, 50.75]\n",
            "7      (50.75, 79.0]\n",
            "dtype: category\n",
            "Categories (4, interval[float64]): [(10.999, 21.75] < (21.75, 34.5] < (34.5, 50.75] < (50.75, 79.0]], array([11.  , 21.75, 34.5 , 50.75, 79.  ]))\n",
            "0      tiny\n",
            "1    medium\n",
            "2       big\n",
            "3     small\n",
            "4     small\n",
            "5      tiny\n",
            "6    medium\n",
            "7       big\n",
            "dtype: category\n",
            "Categories (4, object): ['tiny' < 'small' < 'medium' < 'big']\n"
          ]
        }
      ]
    },
    {
      "cell_type": "code",
      "source": [
        "# float - データを少数に変換\n",
        "a =123\n",
        "print(type(a))\n",
        "\n",
        "a1=float(a) ##整数を少数に変換\n",
        "print(a1)\n",
        "print(type(a1))\n",
        "\n",
        "b=\"3.14\"\n",
        "b1 = float(b)\n",
        "print(b1)\n",
        "print(type(b1))\n",
        "print(int(b1)) #少数から整数に変換する"
      ],
      "metadata": {
        "colab": {
          "base_uri": "https://localhost:8080/"
        },
        "id": "xqWF2sE1idLQ",
        "outputId": "ab4b2f95-a41a-4f24-b25b-ea12693bbe23"
      },
      "execution_count": 146,
      "outputs": [
        {
          "output_type": "stream",
          "name": "stdout",
          "text": [
            "<class 'int'>\n",
            "123.0\n",
            "<class 'float'>\n",
            "3.14\n",
            "<class 'float'>\n",
            "3\n"
          ]
        }
      ]
    },
    {
      "cell_type": "code",
      "source": [
        "# int - データを整数に変換\n",
        "a =\"123\"\n",
        "print(type(a))\n",
        "\n",
        "a1=int(a) #文字列を整数に変換\n",
        "print(a1)\n",
        "print(type(a1))\n",
        "\n",
        "b=3.14\n",
        "print(type(b))\n",
        "\n",
        "b1 = int(b)\n",
        "print(b1)\n",
        "print(type(b1))\n",
        "\n",
        "print(float(b1)) #整数から種数に変換する"
      ],
      "metadata": {
        "colab": {
          "base_uri": "https://localhost:8080/"
        },
        "id": "I6UnbpmCidEf",
        "outputId": "f16a079d-4823-4c59-f419-8e11384f43d0"
      },
      "execution_count": 150,
      "outputs": [
        {
          "output_type": "stream",
          "name": "stdout",
          "text": [
            "<class 'str'>\n",
            "123\n",
            "<class 'int'>\n",
            "<class 'float'>\n",
            "3\n",
            "<class 'int'>\n",
            "3.0\n"
          ]
        }
      ]
    },
    {
      "cell_type": "code",
      "source": [
        "# abs - 絶対値(0からの距離)を取得\n",
        "print(abs(10))\n",
        "print(abs(-10))\n",
        "print(abs(-10.5))"
      ],
      "metadata": {
        "colab": {
          "base_uri": "https://localhost:8080/"
        },
        "id": "zPM9z7-S0jq-",
        "outputId": "043b3118-a8ef-43d4-cea4-1062bb227e37"
      },
      "execution_count": 151,
      "outputs": [
        {
          "output_type": "stream",
          "name": "stdout",
          "text": [
            "10\n",
            "10\n",
            "10.5\n"
          ]
        }
      ]
    },
    {
      "cell_type": "code",
      "source": [
        "# pprint.pprint - リストや辞書の各要素を見やすく表示\n",
        "import pprint\n",
        "l = [{\"name\":\"A\",\"age\":28,\"state\":\"NY\"},\n",
        "     {\"name\":\"B\",\"age\":32,\"state\":\"NJ\"},\n",
        "     {\"name\":\"C\",\"age\":25,\"state\":\"MA\"}]\n",
        "print(l)\n",
        "pprint.pprint(l) #リスト内の各要素が改行され見やすくなる\n",
        "\n",
        "#表示の幅を指定する\n",
        "pprint.pprint(l,width=10) #指定した文字数で収まるように表示することができる\n",
        "\n",
        "#文字列の先頭にindentを入れることができる\n",
        "pprint.pprint(l,indent=3,width=10) #indent=3,文字数を指定"
      ],
      "metadata": {
        "colab": {
          "base_uri": "https://localhost:8080/"
        },
        "id": "VofterOqmJ1V",
        "outputId": "1eaea02c-192e-4ba4-ac25-be60d758971f"
      },
      "execution_count": 157,
      "outputs": [
        {
          "output_type": "stream",
          "name": "stdout",
          "text": [
            "[{'name': 'A', 'age': 28, 'state': 'NY'}, {'name': 'B', 'age': 32, 'state': 'NJ'}, {'name': 'C', 'age': 25, 'state': 'MA'}]\n",
            "[{'age': 28, 'name': 'A', 'state': 'NY'},\n",
            " {'age': 32, 'name': 'B', 'state': 'NJ'},\n",
            " {'age': 25, 'name': 'C', 'state': 'MA'}]\n",
            "[{'age': 28,\n",
            "  'name': 'A',\n",
            "  'state': 'NY'},\n",
            " {'age': 32,\n",
            "  'name': 'B',\n",
            "  'state': 'NJ'},\n",
            " {'age': 25,\n",
            "  'name': 'C',\n",
            "  'state': 'MA'}]\n",
            "[  {  'age': 28,\n",
            "      'name': 'A',\n",
            "      'state': 'NY'},\n",
            "   {  'age': 32,\n",
            "      'name': 'B',\n",
            "      'state': 'NJ'},\n",
            "   {  'age': 25,\n",
            "      'name': 'C',\n",
            "      'state': 'MA'}]\n"
          ]
        }
      ]
    },
    {
      "cell_type": "code",
      "source": [
        "# setdefault - 辞書にキーと値を追加\n",
        "d = {\"apple\":120,\"banana\":150,\"peach\":230}\n",
        "\n",
        "print(d.setdefault(\"cherry\",210))\n",
        "print(d)\n",
        "\n",
        "print(d.setdefault(\"blueberry\"))\n",
        "print(d)\n",
        "\n",
        "print(d.setdefault(\"peach\",500)) #キーが既に存在している場合,変更は行われない\n",
        "print(d)\n",
        "\n",
        "#値を上書きする場合\n",
        "d[\"peach\"] = 500\n",
        "print(d)"
      ],
      "metadata": {
        "colab": {
          "base_uri": "https://localhost:8080/"
        },
        "id": "iKtmcaAemJ2x",
        "outputId": "581e4ca3-314f-48a5-9209-e62f1d4520eb"
      },
      "execution_count": 162,
      "outputs": [
        {
          "output_type": "stream",
          "name": "stdout",
          "text": [
            "210\n",
            "{'apple': 120, 'banana': 150, 'peach': 230, 'cherry': 210}\n",
            "None\n",
            "{'apple': 120, 'banana': 150, 'peach': 230, 'cherry': 210, 'blueberry': None}\n",
            "230\n",
            "{'apple': 120, 'banana': 150, 'peach': 230, 'cherry': 210, 'blueberry': None}\n",
            "{'apple': 120, 'banana': 150, 'peach': 500, 'cherry': 210, 'blueberry': None}\n"
          ]
        }
      ]
    },
    {
      "cell_type": "code",
      "source": [
        "# dict - 辞書を作成\n",
        "print(dict(apple=150,banana=230,peach=320))\n",
        "\n",
        "#タプルを辞書に変換\n",
        "print(dict(([\"apple\",150],[\"banana\",230],[\"peach\",320])))\n",
        "\n",
        "#同じ方法でタプルを指定して変換することができる\n",
        "print(dict(((\"apple\",150),(\"banana\",230),(\"peach\",320))))\n",
        "\n",
        "#リストで二文字の文字列を指定\n",
        "print(dict([\"a1\",\"b2\",\"c3\"]))\n",
        "\n",
        "#2つのリストをから辞書を作成する\n",
        "key = [\"apple\",\"banana\",\"peach\"]\n",
        "value = [150,230,320]\n",
        "print(dict(zip(key,value)))\n",
        "\n",
        "# {}で辞書の作成も可能\n",
        "d = {\"apple\":150,\"banana\":230,\"peach\":320}\n",
        "print(d)"
      ],
      "metadata": {
        "colab": {
          "base_uri": "https://localhost:8080/"
        },
        "id": "zwVL0uLFmJ4x",
        "outputId": "7c97ffc0-f354-49c8-ac70-792a3b0d9e67"
      },
      "execution_count": 172,
      "outputs": [
        {
          "output_type": "stream",
          "name": "stdout",
          "text": [
            "{'apple': 150, 'banana': 230, 'peach': 320}\n",
            "{'apple': 150, 'banana': 230, 'peach': 320}\n",
            "{'apple': 150, 'banana': 230, 'peach': 320}\n",
            "{'a': '1', 'b': '2', 'c': '3'}\n",
            "{'apple': 150, 'banana': 230, 'peach': 320}\n",
            "{'apple': 150, 'banana': 230, 'peach': 320}\n"
          ]
        }
      ]
    },
    {
      "cell_type": "code",
      "source": [
        "# list,tuple - データをリストやタプルに変換 \n",
        "\n",
        "#タプルからリストに変換\n",
        "a = (12,25,32,48,55)\n",
        "print(type(a))\n",
        "\n",
        "a1 = list(a)\n",
        "print(a)\n",
        "print(type(a1))\n",
        "\n",
        "#リストからタプルに変換\n",
        "b = [12,25,32,48,55]\n",
        "print(type(b))\n",
        "\n",
        "b1 = tuple(b)\n",
        "print(b1)\n",
        "print(type(b1))"
      ],
      "metadata": {
        "colab": {
          "base_uri": "https://localhost:8080/"
        },
        "id": "bua42CsLmJ6Z",
        "outputId": "7f91fd9c-b5f9-435d-a050-f75b333b38cb"
      },
      "execution_count": 176,
      "outputs": [
        {
          "output_type": "stream",
          "name": "stdout",
          "text": [
            "<class 'tuple'>\n",
            "(12, 25, 32, 48, 55)\n",
            "<class 'list'>\n",
            "<class 'list'>\n",
            "(12, 25, 32, 48, 55)\n",
            "<class 'tuple'>\n"
          ]
        }
      ]
    },
    {
      "cell_type": "code",
      "source": [
        "# matplotlib.pyplot.plot - 折線を作成\n",
        "x1 = [1,2,3,4,5]\n",
        "y1 = [2,3,1,4,1]\n",
        "\n",
        "#plt.plot(x軸,y軸)\n",
        "plt.plot(x1,y1)\n",
        "print(plt.show())\n",
        "\n",
        "#線の色やスタイルを変更する\n",
        "# color=\"色\"\n",
        "# linestyle=\"線の種類\"\n",
        "# plt.title(\"グラフ名\")\n",
        "# plt.grid() - グリッド線\n",
        "\n",
        "plt.plot(x1,y1,color=\"red\",linestyle=\"--\")\n",
        "plt.title(\"Gpraph\")\n",
        "plt.grid()\n",
        "print(plt.show())"
      ],
      "metadata": {
        "colab": {
          "base_uri": "https://localhost:8080/",
          "height": 565
        },
        "id": "rKcD3eY_mJ78",
        "outputId": "72bf54cc-b7e8-4a88-dd32-9cba0a4e969e"
      },
      "execution_count": 183,
      "outputs": [
        {
          "output_type": "display_data",
          "data": {
            "image/png": "[encoded data removed]",
            "text/plain": [
              "<Figure size 432x288 with 1 Axes>"
            ]
          },
          "metadata": {
            "needs_background": "light"
          }
        },
        {
          "output_type": "stream",
          "name": "stdout",
          "text": [
            "None\n"
          ]
        },
        {
          "output_type": "display_data",
          "data": {
            "image/png": "[encoded data removed]",
            "text/plain": [
              "<Figure size 432x288 with 1 Axes>"
            ]
          },
          "metadata": {
            "needs_background": "light"
          }
        },
        {
          "output_type": "stream",
          "name": "stdout",
          "text": [
            "None\n"
          ]
        }
      ]
    },
    {
      "cell_type": "code",
      "source": [
        "# matplotlib.pyplot.bar - 棒グラフを作成\n",
        "x = [1,2,3,4,5,6]\n",
        "y = [20,30,50,40,10,60]\n",
        "\n",
        "# width=グラフの太さ\n",
        "plt.bar(x,y,color=\"green\",width=0.9)\n",
        "print(plt.show())\n",
        "\n",
        "# x軸の各値とx軸とy軸全体の全体のラベル,グラフのタイトルをつける\n",
        "# 縦方向の場合,太さの設定はwidth=0.9\n",
        "label = [\"S\",\"A\",\"B\",\"C\",\"D\",\"F\"]\n",
        "plt.bar(x,y,color=\"green\",width=0.9,tick_label=label)\n",
        "plt.title(\"Grade Distribution\")\n",
        "plt.xlabel(\"Grade\")\n",
        "plt.ylabel(\"Number of People\")\n",
        "print(plt.show())\n",
        "\n",
        "# 横方向のグラフが作成できる - plt.barh\n",
        "# 横方向の場合,太さの設定はheight=\n",
        "label = [\"S\",\"A\",\"B\",\"C\",\"D\",\"F\"]\n",
        "plt.barh(x,y,color=\"green\",height=0.9,tick_label=label)\n",
        "plt.title(\"Grade Distribution\")\n",
        "plt.xlabel(\"Grade\")\n",
        "plt.ylabel(\"Number of People\")\n",
        "print(plt.show())"
      ],
      "metadata": {
        "colab": {
          "base_uri": "https://localhost:8080/",
          "height": 876
        },
        "id": "1PRyTlh0sRqF",
        "outputId": "e47a8112-8c65-42aa-fa84-4b7d08f48f21"
      },
      "execution_count": 190,
      "outputs": [
        {
          "output_type": "display_data",
          "data": {
            "image/png": "[encoded data removed]",
            "text/plain": [
              "<Figure size 432x288 with 1 Axes>"
            ]
          },
          "metadata": {
            "needs_background": "light"
          }
        },
        {
          "output_type": "stream",
          "name": "stdout",
          "text": [
            "None\n"
          ]
        },
        {
          "output_type": "display_data",
          "data": {
            "image/png": "[encoded data removed]",
            "text/plain": [
              "<Figure size 432x288 with 1 Axes>"
            ]
          },
          "metadata": {
            "needs_background": "light"
          }
        },
        {
          "output_type": "stream",
          "name": "stdout",
          "text": [
            "None\n"
          ]
        },
        {
          "output_type": "display_data",
          "data": {
            "image/png": "[encoded data removed]",
            "text/plain": [
              "<Figure size 432x288 with 1 Axes>"
            ]
          },
          "metadata": {
            "needs_background": "light"
          }
        },
        {
          "output_type": "stream",
          "name": "stdout",
          "text": [
            "None\n"
          ]
        }
      ]
    },
    {
      "cell_type": "code",
      "source": [
        "# matplotlib.pyplot.hist - ヒストグラムを作成\n",
        "# ヒストグラム x軸 - データの区分, y軸 - データの度数\n",
        "\n",
        "# x = np.random.normal(平均,標準偏差,各要素数)\n",
        "x = np.random.normal(60,5,500)\n",
        "plt.hist(x)\n",
        "print(plt.show())\n",
        "\n",
        "# rwidth=太さ\n",
        "plt.hist(x,color=\"green\",rwidth=0.9,bins=15)\n",
        "print(plt.show())\n",
        "\n",
        "#グラフを横向けにする\n",
        "plt.hist(x,color=\"green\",rwidth=0.9,bins=15,orientation=\"horizontal\")\n",
        "print(plt.show())"
      ],
      "metadata": {
        "colab": {
          "base_uri": "https://localhost:8080/",
          "height": 817
        },
        "id": "Z6tJQMV2sRrn",
        "outputId": "6d148ec6-0489-4a42-cfb9-d923c641ba38"
      },
      "execution_count": 196,
      "outputs": [
        {
          "output_type": "display_data",
          "data": {
            "image/png": "[encoded data removed]",
            "text/plain": [
              "<Figure size 432x288 with 1 Axes>"
            ]
          },
          "metadata": {
            "needs_background": "light"
          }
        },
        {
          "output_type": "stream",
          "name": "stdout",
          "text": [
            "None\n"
          ]
        },
        {
          "output_type": "display_data",
          "data": {
            "image/png": "[encoded data removed]",
            "text/plain": [
              "<Figure size 432x288 with 1 Axes>"
            ]
          },
          "metadata": {
            "needs_background": "light"
          }
        },
        {
          "output_type": "stream",
          "name": "stdout",
          "text": [
            "None\n"
          ]
        },
        {
          "output_type": "display_data",
          "data": {
            "image/png": "[encoded data removed]",
            "text/plain": [
              "<Figure size 432x288 with 1 Axes>"
            ]
          },
          "metadata": {
            "needs_background": "light"
          }
        },
        {
          "output_type": "stream",
          "name": "stdout",
          "text": [
            "None\n"
          ]
        }
      ]
    },
    {
      "cell_type": "code",
      "source": [
        "# matplotlib.pyplot.boxplot - 箱髭図を作成\n",
        "x1 = np.random.normal(50,10,100)\n",
        "plt.boxplot(x1)\n",
        "print(plt.show())\n",
        "\n",
        "#複数の箱髭図を作成\n",
        "x2 = np.random.normal(60,10,100)\n",
        "plt.boxplot([x1,x2])\n",
        "plt.title(\"boxplot\")\n",
        "print(plt.show())\n",
        "\n",
        "#ラベル名を追加して(labels=[\"data1\",\"data2\"]),横向きに表示する(vert=False)\n",
        "plt.boxplot([x1,x2],labels=[\"data1\",\"data2\"],vert=False)\n",
        "plt.title(\"boxplot\")\n",
        "print(plt.show())"
      ],
      "metadata": {
        "colab": {
          "base_uri": "https://localhost:8080/",
          "height": 848
        },
        "id": "69ZFEmdEsRtc",
        "outputId": "15716542-6f41-4ca3-80bd-8b6063ab975a"
      },
      "execution_count": 200,
      "outputs": [
        {
          "output_type": "display_data",
          "data": {
            "image/png": "[encoded data removed]",
            "text/plain": [
              "<Figure size 432x288 with 1 Axes>"
            ]
          },
          "metadata": {
            "needs_background": "light"
          }
        },
        {
          "output_type": "stream",
          "name": "stdout",
          "text": [
            "None\n"
          ]
        },
        {
          "output_type": "display_data",
          "data": {
            "image/png": "[encoded data removed]",
            "text/plain": [
              "<Figure size 432x288 with 1 Axes>"
            ]
          },
          "metadata": {
            "needs_background": "light"
          }
        },
        {
          "output_type": "stream",
          "name": "stdout",
          "text": [
            "None\n"
          ]
        },
        {
          "output_type": "display_data",
          "data": {
            "image/png": "[encoded data removed]",
            "text/plain": [
              "<Figure size 432x288 with 1 Axes>"
            ]
          },
          "metadata": {
            "needs_background": "light"
          }
        },
        {
          "output_type": "stream",
          "name": "stdout",
          "text": [
            "None\n"
          ]
        }
      ]
    },
    {
      "cell_type": "code",
      "source": [
        "# matplotlib.pyplot.pie - 円グラフを作成\n",
        "x = [10,20,30,40]\n",
        "plt.pie(x)\n",
        "print(plt.show())\n",
        "\n",
        "#ラベルとタイトルを追加\n",
        "plt.pie(x,labels=[\"A\",\"B\",\"C\",\"D\"])\n",
        "plt.title(\"pie\")\n",
        "print(plt.show())\n",
        "\n",
        "#それぞれに%を表示(autopct=\"%.f%%\")\n",
        "plt.pie(x,labels=[\"A\",\"B\",\"C\",\"D\"],autopct=\"%.f%%\")\n",
        "plt.title(\"pie\")\n",
        "print(plt.show())\n",
        "\n",
        "#グラフの色を変更して,影を追加する\n",
        "plt.pie(x,labels=[\"A\",\"B\",\"C\",\"D\"],autopct=\"%.f%%\",\n",
        "        colors=[\"#0288D1\",\"#B3E5FC\",\"#03A9F4\",\"#BDBDBD\"],shadow=True)\n",
        "plt.title(\"pie\")\n",
        "print(plt.show())"
      ],
      "metadata": {
        "colab": {
          "base_uri": "https://localhost:8080/",
          "height": 1000
        },
        "id": "d4ooC4KhsRvG",
        "outputId": "de2e94dd-7d21-4afc-e787-326fdb12369c"
      },
      "execution_count": 206,
      "outputs": [
        {
          "output_type": "display_data",
          "data": {
            "image/png": "[encoded data removed]",
            "text/plain": [
              "<Figure size 432x288 with 1 Axes>"
            ]
          },
          "metadata": {}
        },
        {
          "output_type": "stream",
          "name": "stdout",
          "text": [
            "None\n"
          ]
        },
        {
          "output_type": "display_data",
          "data": {
            "image/png": "[encoded data removed]",
            "text/plain": [
              "<Figure size 432x288 with 1 Axes>"
            ]
          },
          "metadata": {}
        },
        {
          "output_type": "stream",
          "name": "stdout",
          "text": [
            "None\n"
          ]
        },
        {
          "output_type": "display_data",
          "data": {
            "image/png": "[encoded data removed]",
            "text/plain": [
              "<Figure size 432x288 with 1 Axes>"
            ]
          },
          "metadata": {}
        },
        {
          "output_type": "stream",
          "name": "stdout",
          "text": [
            "None\n"
          ]
        },
        {
          "output_type": "display_data",
          "data": {
            "image/png": "[encoded data removed]",
            "text/plain": [
              "<Figure size 432x288 with 1 Axes>"
            ]
          },
          "metadata": {}
        },
        {
          "output_type": "stream",
          "name": "stdout",
          "text": [
            "None\n"
          ]
        }
      ]
    },
    {
      "cell_type": "code",
      "source": [
        "# matplotlib.pyplot.contour - 等高線のグラフを作成\n",
        "# 等高線 - 地図や天気図などで用いられている,標高や気圧の高さを表す線\n",
        "ax = np.linspace(0,100,10)\n",
        "x,y = np.meshgrid(ax,ax) #x軸,y軸の二次元のデータ作成\n",
        "z = x + y #等高線の高さ\n",
        "\n",
        "# plt.contour(x軸,y軸,z(等高線の高さ))\n",
        "plt.contour(x,y,z)\n",
        "plt.title(\"x+y\")\n",
        "plt.xlabel(\"x\")\n",
        "plt.ylabel(\"y\")\n",
        "print(plt.show())\n",
        "\n",
        "#conterfで表示\n",
        "# plt.colorbar() - 等高線の色に対するカラーバーを表示できる\n",
        "plt.contourf(x,y,z)\n",
        "plt.colorbar()\n",
        "plt.title(\"x+y\")\n",
        "plt.xlabel(\"x\")\n",
        "plt.ylabel(\"y\")\n",
        "print(plt.show())"
      ],
      "metadata": {
        "colab": {
          "base_uri": "https://localhost:8080/",
          "height": 610
        },
        "id": "SmNE-C-ZxxXV",
        "outputId": "902e5ec9-d2a3-4d10-8484-051d44c1e358"
      },
      "execution_count": 210,
      "outputs": [
        {
          "output_type": "display_data",
          "data": {
            "image/png": "[encoded data removed]",
            "text/plain": [
              "<Figure size 432x288 with 1 Axes>"
            ]
          },
          "metadata": {
            "needs_background": "light"
          }
        },
        {
          "output_type": "stream",
          "name": "stdout",
          "text": [
            "None\n"
          ]
        },
        {
          "output_type": "display_data",
          "data": {
            "image/png": "[encoded data removed]",
            "text/plain": [
              "<Figure size 432x288 with 2 Axes>"
            ]
          },
          "metadata": {
            "needs_background": "light"
          }
        },
        {
          "output_type": "stream",
          "name": "stdout",
          "text": [
            "None\n"
          ]
        }
      ]
    },
    {
      "cell_type": "code",
      "source": [
        "# pandas.DataFrame.plot.bar - データフレームから棒グラフを作成\n",
        "data = np.random.randint(10,100,(6,3))\n",
        "idx = [\"January\",\"February\",\"March\",\"April\",\"May\",\"June\"]\n",
        "col = [\"Ito\",\"Takahashi\",\"Yamada\"]\n",
        "df = pd.DataFrame(data=data,index=idx,columns=col)\n",
        "\n",
        "print(df)\n",
        "print(df.plot.bar())\n",
        "\n",
        "#積み上げグラフ\n",
        "print(df.plot.bar(stacked=True))\n",
        "\n",
        "#カラムごとに棒グラフを分けて表示させる\n",
        "print(df.plot.bar(subplots=True))\n",
        "\n",
        "#色の変更をする\n",
        "print(df.plot.bar(color={\"Ito\":\"#22577A\",\n",
        "                         \"Takahashi\":\"#38A3A5\",\n",
        "                         \"Yamada\":\"#80ED99\"}))"
      ],
      "metadata": {
        "colab": {
          "base_uri": "https://localhost:8080/",
          "height": 1000
        },
        "id": "ZbxZ1RvLxxYz",
        "outputId": "3db1f304-53df-4a1b-f7a2-3a69455df655"
      },
      "execution_count": 217,
      "outputs": [
        {
          "output_type": "stream",
          "name": "stdout",
          "text": [
            "          Ito  Takahashi  Yamada\n",
            "January    30         41      46\n",
            "February   65         44      43\n",
            "March      77         78      62\n",
            "April      92         23      50\n",
            "May        56         48      91\n",
            "June       94         80      54\n",
            "AxesSubplot(0.125,0.125;0.775x0.755)\n",
            "AxesSubplot(0.125,0.125;0.775x0.755)\n",
            "[<matplotlib.axes._subplots.AxesSubplot object at 0x7ff666c6e0d0>\n",
            " <matplotlib.axes._subplots.AxesSubplot object at 0x7ff66703ac90>\n",
            " <matplotlib.axes._subplots.AxesSubplot object at 0x7ff666c6eb90>]\n",
            "AxesSubplot(0.125,0.125;0.775x0.755)\n"
          ]
        },
        {
          "output_type": "display_data",
          "data": {
            "image/png": "[encoded data removed]",
            "text/plain": [
              "<Figure size 432x288 with 1 Axes>"
            ]
          },
          "metadata": {
            "needs_background": "light"
          }
        },
        {
          "output_type": "display_data",
          "data": {
            "image/png": "[encoded data removed]",
            "text/plain": [
              "<Figure size 432x288 with 1 Axes>"
            ]
          },
          "metadata": {
            "needs_background": "light"
          }
        },
        {
          "output_type": "display_data",
          "data": {
            "image/png": "[encoded data removed]",
            "text/plain": [
              "<Figure size 432x288 with 3 Axes>"
            ]
          },
          "metadata": {
            "needs_background": "light"
          }
        },
        {
          "output_type": "display_data",
          "data": {
            "image/png": "[encoded data removed]",
            "text/plain": [
              "<Figure size 432x288 with 1 Axes>"
            ]
          },
          "metadata": {
            "needs_background": "light"
          }
        }
      ]
    },
    {
      "cell_type": "code",
      "source": [
        "# pandas.DataFrame.plot.barh - データフレームから横棒グラフを作成\n",
        "data = np.random.randint(10,100,(6,3))\n",
        "idx = [\"January\",\"February\",\"March\",\"April\",\"May\",\"June\"]\n",
        "col = [\"Ito\",\"Takahashi\",\"Yamada\"]\n",
        "df = pd.DataFrame(data=data,index=idx,columns=col)\n",
        "\n",
        "print(df.plot.barh())\n",
        "\n",
        "#積み上げ横棒グラフ\n",
        "print(df.plot.barh(stacked=True))\n",
        "\n",
        "#カラムごとに横棒グラフを分けて表示させる\n",
        "print(df.plot.barh(subplots=True))\n",
        "\n",
        "#色の変更をする\n",
        "print(df.plot.barh(color={\"Ito\":\"tomato\",\n",
        "                         \"Takahashi\":\"purple\",\n",
        "                         \"Yamada\":\"dimgray\"}))"
      ],
      "metadata": {
        "colab": {
          "base_uri": "https://localhost:8080/",
          "height": 1000
        },
        "id": "92SyuUBhxxaf",
        "outputId": "18a7c5c5-dcdc-4737-bf3e-b4f4035dc04a"
      },
      "execution_count": 224,
      "outputs": [
        {
          "output_type": "stream",
          "name": "stdout",
          "text": [
            "AxesSubplot(0.125,0.125;0.775x0.755)\n",
            "AxesSubplot(0.125,0.125;0.775x0.755)\n",
            "[<matplotlib.axes._subplots.AxesSubplot object at 0x7ff6673124d0>\n",
            " <matplotlib.axes._subplots.AxesSubplot object at 0x7ff667050c90>\n",
            " <matplotlib.axes._subplots.AxesSubplot object at 0x7ff667405490>]\n",
            "AxesSubplot(0.125,0.125;0.775x0.755)\n"
          ]
        },
        {
          "output_type": "display_data",
          "data": {
            "image/png": "[encoded data removed]",
            "text/plain": [
              "<Figure size 432x288 with 1 Axes>"
            ]
          },
          "metadata": {
            "needs_background": "light"
          }
        },
        {
          "output_type": "display_data",
          "data": {
            "image/png": "[encoded data removed]",
            "text/plain": [
              "<Figure size 432x288 with 1 Axes>"
            ]
          },
          "metadata": {
            "needs_background": "light"
          }
        },
        {
          "output_type": "display_data",
          "data": {
            "image/png": "[encoded data removed]",
            "text/plain": [
              "<Figure size 432x288 with 3 Axes>"
            ]
          },
          "metadata": {
            "needs_background": "light"
          }
        },
        {
          "output_type": "display_data",
          "data": {
            "image/png": "[encoded data removed]",
            "text/plain": [
              "<Figure size 432x288 with 1 Axes>"
            ]
          },
          "metadata": {
            "needs_background": "light"
          }
        }
      ]
    },
    {
      "cell_type": "code",
      "source": [
        "# pandas.DataFrame.plot.scatter - データフレームから散布図を作成\n",
        "data = [[1000,27,5],[950,28,5],[900,27,4],\n",
        "        [800,20,3],[1100,32,6],[750,18,2],\n",
        "        [850,23,4]]\n",
        "col = [\"Sales\",\"Temperature\",\"Status\"]\n",
        "df = pd.DataFrame(data=data,columns=col)\n",
        "print(df)\n",
        "\n",
        "# print(df.plot.scatter(x=\"軸にしたいカラム\",y=\"軸にしたいカラム\"))\n",
        "print(df.plot.scatter(x=\"Sales\",y=\"Temperature\"))\n",
        "\n",
        "#マーカーのスタイルを変更する\n",
        "# s=サイズ,c=\"色\",marker=\"形\"\n",
        "print(df.plot.scatter(x=\"Sales\",y=\"Temperature\",\n",
        "                      s=45,c=\"lime\",marker=\"v\"))\n",
        "\n",
        "# カラーマップを作成\n",
        "c=\"カラーマップに設定するカラム\",cmap=\"カラーマップの種類\"\n",
        "print(df.plot.scatter(x=\"Sales\",y=\"Temperature\",\n",
        "                      c=\"Status\",cmap=\"spring\"))"
      ],
      "metadata": {
        "colab": {
          "base_uri": "https://localhost:8080/",
          "height": 984
        },
        "id": "9dz3w6wQxxcV",
        "outputId": "ca821408-70d3-47ba-8e87-f2d7f76d017d"
      },
      "execution_count": 229,
      "outputs": [
        {
          "output_type": "stream",
          "name": "stdout",
          "text": [
            "   Sales  Temperature  Status\n",
            "0   1000           27       5\n",
            "1    950           28       5\n",
            "2    900           27       4\n",
            "3    800           20       3\n",
            "4   1100           32       6\n",
            "5    750           18       2\n",
            "6    850           23       4\n",
            "AxesSubplot(0.125,0.125;0.775x0.755)\n",
            "AxesSubplot(0.125,0.125;0.775x0.755)\n",
            "AxesSubplot(0.125,0.125;0.62x0.755)\n"
          ]
        },
        {
          "output_type": "display_data",
          "data": {
            "image/png": "[encoded data removed]",
            "text/plain": [
              "<Figure size 432x288 with 1 Axes>"
            ]
          },
          "metadata": {
            "needs_background": "light"
          }
        },
        {
          "output_type": "display_data",
          "data": {
            "image/png": "[encoded data removed]",
            "text/plain": [
              "<Figure size 432x288 with 1 Axes>"
            ]
          },
          "metadata": {
            "needs_background": "light"
          }
        },
        {
          "output_type": "display_data",
          "data": {
            "image/png": "[encoded data removed]",
            "text/plain": [
              "<Figure size 432x288 with 2 Axes>"
            ]
          },
          "metadata": {
            "needs_background": "light"
          }
        }
      ]
    },
    {
      "cell_type": "code",
      "source": [
        "# pandas.Series.plot.hist - シリーズからヒストグラムを作成\n",
        "data = np.random.randint(10,100,(12))\n",
        "ser = pd.Series(data=data)\n",
        "print(ser)\n",
        "\n",
        "print(ser.plot.hist())\n",
        "\n",
        "# print(ser.plot.hist(bins=カテゴリー数))\n",
        "print(ser.plot.hist(bins=20))\n",
        "\n",
        "#ヒストグラムを横向きに作成\n",
        "print(ser.plot.hist(bins=20,orientation=\"horizontal\"))"
      ],
      "metadata": {
        "colab": {
          "base_uri": "https://localhost:8080/",
          "height": 574
        },
        "id": "BX6gNrUN32lU",
        "outputId": "47dfbf8a-fa1d-4af6-ceaa-a9c49d840073"
      },
      "execution_count": 237,
      "outputs": [
        {
          "output_type": "stream",
          "name": "stdout",
          "text": [
            "0     79\n",
            "1     25\n",
            "2     87\n",
            "3     70\n",
            "4     33\n",
            "5     73\n",
            "6     71\n",
            "7     39\n",
            "8     12\n",
            "9     65\n",
            "10    18\n",
            "11    57\n",
            "dtype: int64\n",
            "AxesSubplot(0.125,0.125;0.775x0.755)\n",
            "AxesSubplot(0.125,0.125;0.775x0.755)\n",
            "AxesSubplot(0.125,0.125;0.775x0.755)\n"
          ]
        },
        {
          "output_type": "display_data",
          "data": {
            "image/png": "[encoded data removed]",
            "text/plain": [
              "<Figure size 432x288 with 1 Axes>"
            ]
          },
          "metadata": {
            "needs_background": "light"
          }
        }
      ]
    },
    {
      "cell_type": "code",
      "source": [
        "# pandas.DataFrame.plot.box - データフレームから箱ひげ図を作成\n",
        "data = np.random.randint(10,100,(9,3))\n",
        "col = [\"A\",\"B\",\"C\"]\n",
        "df = pd.DataFrame(data=data,columns=col)\n",
        "print(df)\n",
        "\n",
        "print(df.plot.box())\n",
        "\n",
        "# print(df.plot.box(showmeans=True)) - 三角マークで平均を表示\n",
        "print(df.plot.box(showmeans=True))\n",
        "\n",
        "#箱ひげ図を横向きで表示\n",
        "print(df.plot.box(vert=False))"
      ],
      "metadata": {
        "colab": {
          "base_uri": "https://localhost:8080/",
          "height": 1000
        },
        "id": "6G-KwTNa32mU",
        "outputId": "6a5c4699-5699-455f-846e-656ece424637"
      },
      "execution_count": 240,
      "outputs": [
        {
          "output_type": "stream",
          "name": "stdout",
          "text": [
            "    A   B   C\n",
            "0  12  19  98\n",
            "1  86  85  89\n",
            "2  13  65  89\n",
            "3  84  36  13\n",
            "4  55  63  43\n",
            "5  65  98  21\n",
            "6  33  84  19\n",
            "7  86  89  36\n",
            "8  96  87  62\n",
            "AxesSubplot(0.125,0.125;0.775x0.755)\n",
            "AxesSubplot(0.125,0.125;0.775x0.755)\n",
            "AxesSubplot(0.125,0.125;0.775x0.755)\n"
          ]
        },
        {
          "output_type": "display_data",
          "data": {
            "image/png": "[encoded data removed]",
            "text/plain": [
              "<Figure size 432x288 with 1 Axes>"
            ]
          },
          "metadata": {
            "needs_background": "light"
          }
        },
        {
          "output_type": "display_data",
          "data": {
            "image/png": "[encoded data removed]",
            "text/plain": [
              "<Figure size 432x288 with 1 Axes>"
            ]
          },
          "metadata": {
            "needs_background": "light"
          }
        },
        {
          "output_type": "display_data",
          "data": {
            "image/png": "[encoded data removed]",
            "text/plain": [
              "<Figure size 432x288 with 1 Axes>"
            ]
          },
          "metadata": {
            "needs_background": "light"
          }
        }
      ]
    },
    {
      "cell_type": "code",
      "source": [
        "#pandas.DataFrame.plot.hexbin - データフレームから六角形プロットを作成\n",
        "# 六角形プロット - ２つのデータのヒストグラムを掛け合わせせて表示\n",
        "a = np.random.randint(300,1000,size=300)\n",
        "b = np.random.randint(20,35,size=300)\n",
        "col = [\"Sales\",\"Temperature\"]\n",
        "df = pd.DataFrame({\"Sales\":a,\"Temperature\":b})\n",
        "print(df.head())\n",
        "\n",
        "# saleと売上数の二つのデータを六角形プロットにして作成\n",
        "# x=\"Sales\" - x軸,\n",
        "# y=\"Temperature\" - y軸\n",
        "# gridsize=15 - 分割数 \n",
        "# colormap(グラデーションの種類)=色のグラデーションを変更する\n",
        "\n",
        "print(df.plot.hexbin(x=\"Sales\",y=\"Temperature\",\n",
        "                     gridsize=15,sharex=False,\n",
        "                     title=\"Report\",colormap=\"plasma\"))"
      ],
      "metadata": {
        "colab": {
          "base_uri": "https://localhost:8080/",
          "height": 424
        },
        "id": "j-I9wJCJ32oX",
        "outputId": "0db74438-66db-40bb-bddc-c81ccfa0c2e5"
      },
      "execution_count": 245,
      "outputs": [
        {
          "output_type": "stream",
          "name": "stdout",
          "text": [
            "   Sales  Temperature\n",
            "0    768           28\n",
            "1    428           23\n",
            "2    387           26\n",
            "3    342           32\n",
            "4    776           28\n",
            "AxesSubplot(0.125,0.125;0.62x0.755)\n"
          ]
        },
        {
          "output_type": "display_data",
          "data": {
            "image/png": "[encoded data removed]",
            "text/plain": [
              "<Figure size 432x288 with 2 Axes>"
            ]
          },
          "metadata": {
            "needs_background": "light"
          }
        }
      ]
    },
    {
      "cell_type": "code",
      "source": [
        "# pandas.DataFrame.plot.pie - データフレームから円グラフを作成\n",
        "data = np.random.randint(10,100,(5,2))\n",
        "idx = [\"Python\",\"C++\",\"SQL\",\"Java\",\"JavaScript\"]\n",
        "col = [\"2021\",\"2020\"]\n",
        "df = pd.DataFrame(data=data,index=idx,columns=col)\n",
        "print(df)\n",
        "\n",
        "# 2021のデータで円グラフを作成する(列秀出)\n",
        "print(df[\"2021\"].plot.pie())\n",
        "\n",
        "# 1つの列を抽出して円グラフを作成\n",
        "# (y=\"カラム指定\"))\n",
        "print(df.plot.pie(y=\"2021\"))\n",
        "\n",
        "#全てのカラムで円グラフを作成\n",
        "# subplots=True - 複数プロット\n",
        "# figsize=(7,7) - グラフのサイズ\n",
        "print(df.plot.pie(subplots=True,\n",
        "                  figsize=(7,7)))\n",
        "#グラフ全体の色を変更\n",
        "# cmap=\"plasma\" - 色の種類\n",
        "print(df.plot.pie(y=\"2021\",\n",
        "                  cmap=\"plasma\"))\n",
        "\n",
        "#それぞれの%を表示\n",
        "# autopct=\"%.f%%\" - 整数部分の%を指定\n",
        "print(df.plot.pie(y=\"2021\",\n",
        "                  autopct=\"%.f%%\"))"
      ],
      "metadata": {
        "colab": {
          "base_uri": "https://localhost:8080/",
          "height": 1000
        },
        "id": "MP-Gwunt32p7",
        "outputId": "77da8721-3e94-4958-c876-67b116f86338"
      },
      "execution_count": 7,
      "outputs": [
        {
          "output_type": "stream",
          "name": "stdout",
          "text": [
            "            2021  2020\n",
            "Python        34    89\n",
            "C++           90    39\n",
            "SQL           60    30\n",
            "Java          87    44\n",
            "JavaScript    29    97\n",
            "AxesSubplot(0.260833,0.125;0.503333x0.755)\n",
            "AxesSubplot(0.260833,0.125;0.503333x0.755)\n",
            "[<matplotlib.axes._subplots.AxesSubplot object at 0x7f629bfb5f50>\n",
            " <matplotlib.axes._subplots.AxesSubplot object at 0x7f629bef8510>]\n",
            "AxesSubplot(0.260833,0.125;0.503333x0.755)\n",
            "AxesSubplot(0.260833,0.125;0.503333x0.755)\n"
          ]
        },
        {
          "output_type": "display_data",
          "data": {
            "image/png": "[encoded data removed]",
            "text/plain": [
              "<Figure size 432x288 with 1 Axes>"
            ]
          },
          "metadata": {}
        },
        {
          "output_type": "display_data",
          "data": {
            "image/png": "[encoded data removed]",
            "text/plain": [
              "<Figure size 432x288 with 1 Axes>"
            ]
          },
          "metadata": {}
        },
        {
          "output_type": "display_data",
          "data": {
            "image/png": "[encoded data removed]",
            "text/plain": [
              "<Figure size 504x504 with 2 Axes>"
            ]
          },
          "metadata": {}
        },
        {
          "output_type": "display_data",
          "data": {
            "image/png": "[encoded data removed]",
            "text/plain": [
              "<Figure size 432x288 with 1 Axes>"
            ]
          },
          "metadata": {}
        },
        {
          "output_type": "display_data",
          "data": {
            "image/png": "[encoded data removed]",
            "text/plain": [
              "<Figure size 432x288 with 1 Axes>"
            ]
          },
          "metadata": {}
        }
      ]
    },
    {
      "cell_type": "code",
      "source": [
        "# len - データの要素数を取得\n",
        "l = [10,15,20,25,30]\n",
        "print(len(l))\n",
        "\n",
        "d = {\"apple\":150,\"banana\":230,\"peach\":280}\n",
        "print(len(d))\n",
        "\n",
        "str = \"cool language python\" #スペースを含み計算される\n",
        "print(len(str))\n",
        "\n",
        "df = pd.DataFrame({\"col1\":[\"A\",\"C\",\"A\",\"C\",\"A\"],\n",
        "                   \"col2\":[\"a\",\"a\",\"c\",\"c\",\"a\"],\n",
        "                   \"col3\":[600,800,100,120,180]})\n",
        "print(df)\n",
        "print(len(df))\n",
        "\n",
        "#seriesでも適応できる\n",
        "ser = pd.Series([\"a\",\"a\",\"c\",\"c\",\"a\"])\n",
        "print(len(ser))"
      ],
      "metadata": {
        "colab": {
          "base_uri": "https://localhost:8080/"
        },
        "id": "r9y-EXD832r8",
        "outputId": "2a915023-2862-4649-b009-b579dc38302c"
      },
      "execution_count": 11,
      "outputs": [
        {
          "output_type": "stream",
          "name": "stdout",
          "text": [
            "5\n",
            "3\n",
            "20\n",
            "  col1 col2  col3\n",
            "0    A    a   600\n",
            "1    C    a   800\n",
            "2    A    c   100\n",
            "3    C    c   120\n",
            "4    A    a   180\n",
            "5\n",
            "5\n"
          ]
        }
      ]
    },
    {
      "cell_type": "code",
      "source": [
        "#append - リストの末尾に要素を追加\n",
        "l = [10,15,20,25,30]\n",
        "# l.append(70) - 追加したい要素\n",
        "l.append(70)\n",
        "print(l)\n",
        "\n",
        "l1 = [\"apple\",\"banana\",\"peach\"]\n",
        "l1.append(\"orange\")\n",
        "print(l1)\n",
        "\n",
        "l2=[1,2,3]\n",
        "# l2.insert(追加する位置,追加する要素)\n",
        "l2.insert(2,2.5)\n",
        "print(l2)\n",
        "\n",
        "# l2.extend([4,5,6]) - 末尾にリストまたはタプルの全要素を追加できる\n",
        "l2.extend([4,5,6])\n",
        "print(l2)"
      ],
      "metadata": {
        "colab": {
          "base_uri": "https://localhost:8080/"
        },
        "id": "gtor0F5BsRw4",
        "outputId": "6d9c47ff-266a-4f59-e3e6-98aa37afabc4"
      },
      "execution_count": 15,
      "outputs": [
        {
          "output_type": "stream",
          "name": "stdout",
          "text": [
            "[10, 15, 20, 25, 30, 70]\n",
            "['apple', 'banana', 'peach', 'orange']\n",
            "[1, 2, 2.5, 3]\n",
            "[1, 2, 2.5, 3, 4, 5, 6]\n"
          ]
        }
      ]
    },
    {
      "cell_type": "code",
      "source": [
        "# pandas.DataFrame.set_index - データフレームの列をインデックスに指定\n",
        "df = pd.read_csv(\"/content/sample_data/california_housing_test.csv\")\n",
        "print(df.head())\n",
        "\n",
        "print(df.set_index([\"インデックスにしたい列のカラムを指定\").head())\n",
        "\n",
        "# indexに指定した列を残す - drop=False\n",
        "print(df.set_index([\"インデックスにしたい列のカラムを指定\"],drop=False).head())\n",
        "\n",
        "#\u001f元のインデックスを残す - append=True\n",
        "print(df.set_index([\"インデックスにしたい列のカラムを指定\"],append=True).head())\n",
        "\n",
        "#インデックスにする列を複数指定(マルチインデックス)\n",
        "print(df.set_index([\"インデックスにしたい列のカラムを指定\",\"インデックスにしたい列のカラムを指定\"].head())\n",
        "\n",
        "#新しいインデック番号を付番できる\n",
        "print(df.reset_index().head()) \n"
      ],
      "metadata": {
        "colab": {
          "base_uri": "https://localhost:8080/",
          "height": 270
        },
        "id": "pB72KMy-sRy5",
        "outputId": "d5e5c8c5-1e45-437f-9212-913b2979d6e5"
      },
      "execution_count": 16,
      "outputs": [
        {
          "output_type": "execute_result",
          "data": {
            "text/html": [
              "\n",
              "  <div id=\"df-98ff007b-47c1-461b-8549-d75b3f3a2cb9\">\n",
              "    <div class=\"colab-df-container\">\n",
              "      <div>\n",
              "<style scoped>\n",
              "    .dataframe tbody tr th:only-of-type {\n",
              "        vertical-align: middle;\n",
              "    }\n",
              "\n",
              "    .dataframe tbody tr th {\n",
              "        vertical-align: top;\n",
              "    }\n",
              "\n",
              "    .dataframe thead th {\n",
              "        text-align: right;\n",
              "    }\n",
              "</style>\n",
              "<table border=\"1\" class=\"dataframe\">\n",
              "  <thead>\n",
              "    <tr style=\"text-align: right;\">\n",
              "      <th></th>\n",
              "      <th>longitude</th>\n",
              "      <th>latitude</th>\n",
              "      <th>housing_median_age</th>\n",
              "      <th>total_rooms</th>\n",
              "      <th>total_bedrooms</th>\n",
              "      <th>population</th>\n",
              "      <th>households</th>\n",
              "      <th>median_income</th>\n",
              "      <th>median_house_value</th>\n",
              "    </tr>\n",
              "  </thead>\n",
              "  <tbody>\n",
              "    <tr>\n",
              "      <th>0</th>\n",
              "      <td>-122.05</td>\n",
              "      <td>37.37</td>\n",
              "      <td>27.0</td>\n",
              "      <td>3885.0</td>\n",
              "      <td>661.0</td>\n",
              "      <td>1537.0</td>\n",
              "      <td>606.0</td>\n",
              "      <td>6.6085</td>\n",
              "      <td>344700.0</td>\n",
              "    </tr>\n",
              "    <tr>\n",
              "      <th>1</th>\n",
              "      <td>-118.30</td>\n",
              "      <td>34.26</td>\n",
              "      <td>43.0</td>\n",
              "      <td>1510.0</td>\n",
              "      <td>310.0</td>\n",
              "      <td>809.0</td>\n",
              "      <td>277.0</td>\n",
              "      <td>3.5990</td>\n",
              "      <td>176500.0</td>\n",
              "    </tr>\n",
              "    <tr>\n",
              "      <th>2</th>\n",
              "      <td>-117.81</td>\n",
              "      <td>33.78</td>\n",
              "      <td>27.0</td>\n",
              "      <td>3589.0</td>\n",
              "      <td>507.0</td>\n",
              "      <td>1484.0</td>\n",
              "      <td>495.0</td>\n",
              "      <td>5.7934</td>\n",
              "      <td>270500.0</td>\n",
              "    </tr>\n",
              "    <tr>\n",
              "      <th>3</th>\n",
              "      <td>-118.36</td>\n",
              "      <td>33.82</td>\n",
              "      <td>28.0</td>\n",
              "      <td>67.0</td>\n",
              "      <td>15.0</td>\n",
              "      <td>49.0</td>\n",
              "      <td>11.0</td>\n",
              "      <td>6.1359</td>\n",
              "      <td>330000.0</td>\n",
              "    </tr>\n",
              "    <tr>\n",
              "      <th>4</th>\n",
              "      <td>-119.67</td>\n",
              "      <td>36.33</td>\n",
              "      <td>19.0</td>\n",
              "      <td>1241.0</td>\n",
              "      <td>244.0</td>\n",
              "      <td>850.0</td>\n",
              "      <td>237.0</td>\n",
              "      <td>2.9375</td>\n",
              "      <td>81700.0</td>\n",
              "    </tr>\n",
              "  </tbody>\n",
              "</table>\n",
              "</div>\n",
              "      <button class=\"colab-df-convert\" onclick=\"convertToInteractive('df-98ff007b-47c1-461b-8549-d75b3f3a2cb9')\"\n",
              "              title=\"Convert this dataframe to an interactive table.\"\n",
              "              style=\"display:none;\">\n",
              "        \n",
              "  <svg xmlns=\"http://www.w3.org/2000/svg\" height=\"24px\"viewBox=\"0 0 24 24\"\n",
              "       width=\"24px\">\n",
              "    <path d=\"M0 0h24v24H0V0z\" fill=\"none\"/>\n",
              "    <path d=\"M18.56 5.44l.94 2.06.94-2.06 2.06-.94-2.06-.94-.94-2.06-.94 2.06-2.06.94zm-11 1L8.5 8.5l.94-2.06 2.06-.94-2.06-.94L8.5 2.5l-.94 2.06-2.06.94zm10 10l.94 2.06.94-2.06 2.06-.94-2.06-.94-.94-2.06-.94 2.06-2.06.94z\"/><path d=\"M17.41 7.96l-1.37-1.37c-.4-.4-.92-.59-1.43-.59-.52 0-1.04.2-1.43.59L10.3 9.45l-7.72 7.72c-.78.78-.78 2.05 0 2.83L4 21.41c.39.39.9.59 1.41.59.51 0 1.02-.2 1.41-.59l7.78-7.78 2.81-2.81c.8-.78.8-2.07 0-2.86zM5.41 20L4 18.59l7.72-7.72 1.47 1.35L5.41 20z\"/>\n",
              "  </svg>\n",
              "      </button>\n",
              "      \n",
              "  <style>\n",
              "    .colab-df-container {\n",
              "      display:flex;\n",
              "      flex-wrap:wrap;\n",
              "      gap: 12px;\n",
              "    }\n",
              "\n",
              "    .colab-df-convert {\n",
              "      background-color: #E8F0FE;\n",
              "      border: none;\n",
              "      border-radius: 50%;\n",
              "      cursor: pointer;\n",
              "      display: none;\n",
              "      fill: #1967D2;\n",
              "      height: 32px;\n",
              "      padding: 0 0 0 0;\n",
              "      width: 32px;\n",
              "    }\n",
              "\n",
              "    .colab-df-convert:hover {\n",
              "      background-color: #E2EBFA;\n",
              "      box-shadow: 0px 1px 2px rgba(60, 64, 67, 0.3), 0px 1px 3px 1px rgba(60, 64, 67, 0.15);\n",
              "      fill: #174EA6;\n",
              "    }\n",
              "\n",
              "    [theme=dark] .colab-df-convert {\n",
              "      background-color: #3B4455;\n",
              "      fill: #D2E3FC;\n",
              "    }\n",
              "\n",
              "    [theme=dark] .colab-df-convert:hover {\n",
              "      background-color: #434B5C;\n",
              "      box-shadow: 0px 1px 3px 1px rgba(0, 0, 0, 0.15);\n",
              "      filter: drop-shadow(0px 1px 2px rgba(0, 0, 0, 0.3));\n",
              "      fill: #FFFFFF;\n",
              "    }\n",
              "  </style>\n",
              "\n",
              "      <script>\n",
              "        const buttonEl =\n",
              "          document.querySelector('#df-98ff007b-47c1-461b-8549-d75b3f3a2cb9 button.colab-df-convert');\n",
              "        buttonEl.style.display =\n",
              "          google.colab.kernel.accessAllowed ? 'block' : 'none';\n",
              "\n",
              "        async function convertToInteractive(key) {\n",
              "          const element = document.querySelector('#df-98ff007b-47c1-461b-8549-d75b3f3a2cb9');\n",
              "          const dataTable =\n",
              "            await google.colab.kernel.invokeFunction('convertToInteractive',\n",
              "                                                     [key], {});\n",
              "          if (!dataTable) return;\n",
              "\n",
              "          const docLinkHtml = 'Like what you see? Visit the ' +\n",
              "            '<a target=\"_blank\" href=https://colab.research.google.com/notebooks/data_table.ipynb>data table notebook</a>'\n",
              "            + ' to learn more about interactive tables.';\n",
              "          element.innerHTML = '';\n",
              "          dataTable['output_type'] = 'display_data';\n",
              "          await google.colab.output.renderOutput(dataTable, element);\n",
              "          const docLink = document.createElement('div');\n",
              "          docLink.innerHTML = docLinkHtml;\n",
              "          element.appendChild(docLink);\n",
              "        }\n",
              "      </script>\n",
              "    </div>\n",
              "  </div>\n",
              "  "
            ],
            "text/plain": [
              "   longitude  latitude  ...  median_income  median_house_value\n",
              "0    -122.05     37.37  ...         6.6085            344700.0\n",
              "1    -118.30     34.26  ...         3.5990            176500.0\n",
              "2    -117.81     33.78  ...         5.7934            270500.0\n",
              "3    -118.36     33.82  ...         6.1359            330000.0\n",
              "4    -119.67     36.33  ...         2.9375             81700.0\n",
              "\n",
              "[5 rows x 9 columns]"
            ]
          },
          "metadata": {},
          "execution_count": 16
        }
      ]
    },
    {
      "cell_type": "code",
      "source": [
        "# pandas.DataFrame.reset_index - データフレームのに新しいインデックスを付番\n",
        "df = pd.DataFrame([[180,\"80\",\"20\"],\n",
        "                  [170,\"70\",\"19\"],\n",
        "                  [160,\"60\",\"18\"],\n",
        "                  [150,\"50\",\"16\"]],\n",
        "                  columns = [\"height\",\"weight\",\"BMI\"],\n",
        "                  index = [\"Sato\",\"Tanaka\",\"Ito\",\"Yamada\"])\n",
        "print(df) \n",
        "print(df.reset_index()) #新しいインデックス番号が付番される\n",
        "print(df.reset_index(drop=True)) #元のインデックスを削除して新しいインデックスを付番する\n",
        " \n",
        "#指定したカラムをインデックスとして変更できる\n",
        "print(df.set_index([\"カラム名\"]))"
      ],
      "metadata": {
        "colab": {
          "base_uri": "https://localhost:8080/"
        },
        "id": "ZGBeGHy3mJ-A",
        "outputId": "05029822-8e91-498f-a158-666fae080120"
      },
      "execution_count": 19,
      "outputs": [
        {
          "output_type": "stream",
          "name": "stdout",
          "text": [
            "        height weight BMI\n",
            "Sato       180     80  20\n",
            "Tanaka     170     70  19\n",
            "Ito        160     60  18\n",
            "Yamada     150     50  16\n",
            "    index  height weight BMI\n",
            "0    Sato     180     80  20\n",
            "1  Tanaka     170     70  19\n",
            "2     Ito     160     60  18\n",
            "3  Yamada     150     50  16\n",
            "   height weight BMI\n",
            "0     180     80  20\n",
            "1     170     70  19\n",
            "2     160     60  18\n",
            "3     150     50  16\n"
          ]
        }
      ]
    },
    {
      "cell_type": "code",
      "source": [
        "# translate - 複数の文字を置き換え\n",
        "s = \"cool-language-python\"\n",
        "\n",
        "# s1 = s.translate(str.maketrans(\"置き換える文字\",\"置き換え後の文字\"))\n",
        "s1 = s.translate(str.maketrans(\"oa\",\"OA\"))\n",
        "print(s1)\n",
        "\n",
        "# 文字列から指定の文字を削除できる\n",
        "# s2 = s.translate(str.maketrans(\"置き換える文字\",\"置き換え後の文字\",\"削除したい文字\"))\n",
        "s2 = s.translate(str.maketrans(\"OA\",\"oa\",\"-\"))\n",
        "print(s2)\n",
        "\n",
        "#二文字以上の文字列を置き換えることができる\n",
        "s3 = s.replace('python','SQL')\n",
        "print(s3)\n",
        "\n",
        "# 変換後の文字列に空の文字列を指定するとその文字列を削除できる\n",
        "# s4 = s3.raplace(\"-\",空の文字列)\n",
        "s4 = s3.replace(\"-\",\"\")\n",
        "print(s4)"
      ],
      "metadata": {
        "colab": {
          "base_uri": "https://localhost:8080/"
        },
        "id": "Bjy00bARslUD",
        "outputId": "b3443958-6439-446e-b355-d884896490d4"
      },
      "execution_count": 30,
      "outputs": [
        {
          "output_type": "stream",
          "name": "stdout",
          "text": [
            "cOOl-lAnguAge-pythOn\n",
            "coollanguagepython\n",
            "cool-language-SQL\n",
            "coollanguageSQL\n"
          ]
        }
      ]
    },
    {
      "cell_type": "code",
      "source": [
        "# set - 集合を作成\n",
        "# 集合 - 各要素がそれぞれ一意のものでかつ純不同であるデータ型\n",
        "\n",
        "#リストから集合を作成する\n",
        "l = [50,30,20,10,40,50,30]\n",
        "print(set(l)) #リストで重複している文字は一意のものになる\n",
        "print(set(\"apple-peach\")) #リストで重複している文字は一意のものになる\n",
        "\n",
        "d = {\"apple\":180,\"banana\":250,\"peach\":210,\"apple\":250}\n",
        "print(set(d)) # キーで集合を作成\n",
        "\n",
        "s = set() #空集合の作成\n",
        "print(type(s))\n",
        "\n",
        "s = {} # 辞書を作成\n",
        "print(type(s))"
      ],
      "metadata": {
        "colab": {
          "base_uri": "https://localhost:8080/"
        },
        "id": "TVGTTQTvslY1",
        "outputId": "df3067ea-a66c-4212-c445-5645b03938c8"
      },
      "execution_count": 33,
      "outputs": [
        {
          "output_type": "stream",
          "name": "stdout",
          "text": [
            "{40, 10, 50, 20, 30}\n",
            "{'h', 'p', 'e', '-', 'l', 'a', 'c'}\n",
            "{'banana', 'apple', 'peach'}\n",
            "<class 'set'>\n",
            "<class 'dict'>\n"
          ]
        }
      ]
    },
    {
      "cell_type": "code",
      "source": [
        "# open - ファイルの作成,読み書き\n",
        "# textファイルを作成\n",
        "\n",
        "# file = open(\"ファイル名またはファイルパス\",mode=\"書き込み\")\n",
        "# mode = w(書き込み),r(読み込み),a(追加)など\n",
        "#既に存在しているファイルがありwを実行する場合は上書きされる\n",
        "\n",
        "file = open(\".test.txt\",mode=\"w\")\n",
        "file.write(\"hello world\") #書き込み\n",
        "file.close() #ファイルを閉じる"
      ],
      "metadata": {
        "id": "XZBgYVG1slaW"
      },
      "execution_count": 34,
      "outputs": []
    },
    {
      "cell_type": "code",
      "source": [
        "#既に存在しているファイルを指定した際に,エラーを排出したい場合mode=\"x\"にする\n",
        "file = open(\".test.txt\",mode=\"x\")\n",
        "file.write(\"hello world\")\n",
        "file.close()"
      ],
      "metadata": {
        "colab": {
          "base_uri": "https://localhost:8080/",
          "height": 265
        },
        "id": "U-SDLMy2slb5",
        "outputId": "79c76823-1e99-4628-83e1-4cf191633939"
      },
      "execution_count": 35,
      "outputs": [
        {
          "output_type": "error",
          "ename": "FileExistsError",
          "evalue": "ignored",
          "traceback": [
            "\u001b[0;31m---------------------------------------------------------------------------\u001b[0m",
            "\u001b[0;31mFileExistsError\u001b[0m                           Traceback (most recent call last)",
            "\u001b[0;32m<ipython-input-35-3aca1fe7e31b>\u001b[0m in \u001b[0;36m<module>\u001b[0;34m()\u001b[0m\n\u001b[1;32m      1\u001b[0m \u001b[0;31m#既に存在しているファイルを指定した際に,エラーを排出したい場合mode=\"x\"にする\u001b[0m\u001b[0;34m\u001b[0m\u001b[0;34m\u001b[0m\u001b[0;34m\u001b[0m\u001b[0m\n\u001b[0;32m----> 2\u001b[0;31m \u001b[0mfile\u001b[0m \u001b[0;34m=\u001b[0m \u001b[0mopen\u001b[0m\u001b[0;34m(\u001b[0m\u001b[0;34m\".test.txt\"\u001b[0m\u001b[0;34m,\u001b[0m\u001b[0mmode\u001b[0m\u001b[0;34m=\u001b[0m\u001b[0;34m\"x\"\u001b[0m\u001b[0;34m)\u001b[0m\u001b[0;34m\u001b[0m\u001b[0;34m\u001b[0m\u001b[0m\n\u001b[0m\u001b[1;32m      3\u001b[0m \u001b[0mfile\u001b[0m\u001b[0;34m.\u001b[0m\u001b[0mwrite\u001b[0m\u001b[0;34m(\u001b[0m\u001b[0;34m\"hello world\"\u001b[0m\u001b[0;34m)\u001b[0m\u001b[0;34m\u001b[0m\u001b[0;34m\u001b[0m\u001b[0m\n\u001b[1;32m      4\u001b[0m \u001b[0mfile\u001b[0m\u001b[0;34m.\u001b[0m\u001b[0mclose\u001b[0m\u001b[0;34m(\u001b[0m\u001b[0;34m)\u001b[0m\u001b[0;34m\u001b[0m\u001b[0;34m\u001b[0m\u001b[0m\n",
            "\u001b[0;31mFileExistsError\u001b[0m: [Errno 17] File exists: '.test.txt'"
          ]
        }
      ]
    },
    {
      "cell_type": "code",
      "source": [
        "# open関数を使用したファイルの作成の記述はwith構文で書き換えが可能\n",
        "# with構文では自動的にファイルを閉じるのでclose文は必要ない\n",
        "with open(\".test.txt\",mode=\"w\") as f:\n",
        "    f.write(\"hello world\")"
      ],
      "metadata": {
        "id": "UjTz4yHOsleF"
      },
      "execution_count": 37,
      "outputs": []
    },
    {
      "cell_type": "code",
      "source": [
        "# read - ファイルの内容を読み出す\n",
        "\n",
        "#ファイルの中身を呼び出す\n",
        "#file_read=f.read(文字数を指定できる)\n",
        "with open(\".test.txt\") as f:\n",
        "    file_read=f.read()\n",
        "file_read\n",
        "\n",
        "# 最初の1行を呼び出せる - readline\n",
        "with open(\".test.txt\") as f:\n",
        "    file_readline=f.readline()\n",
        "file_readline\n",
        "\n",
        "#全ての内容を1行づつリスト型で呼び出す\n",
        "with open(\".test.txt\") as f:\n",
        "    file_readlines=f.readlines()\n",
        "file_readlines"
      ],
      "metadata": {
        "colab": {
          "base_uri": "https://localhost:8080/"
        },
        "id": "fFMtMkL-slfS",
        "outputId": "36a7badf-9757-4690-a3fa-44863c2ba9f7"
      },
      "execution_count": 42,
      "outputs": [
        {
          "output_type": "execute_result",
          "data": {
            "text/plain": [
              "[]"
            ]
          },
          "metadata": {},
          "execution_count": 42
        }
      ]
    },
    {
      "cell_type": "code",
      "source": [
        "# sum - 合計を算出\n",
        "l = [1,2,3,4,5]\n",
        "print(sum(l))\n",
        "\n",
        "t=(1,2,3,4,5)\n",
        "print(sum(t))\n",
        "\n",
        "d = {1:100,2:200,3:300}\n",
        "print(sum(d)) #キーの合計が算出\n",
        "print(sum(d.values())) #値の合計が算出\n",
        "\n",
        "# df.sum() - 列ごとの合計\n",
        "# df.sum(axis=1) - 行ごとの合計\n",
        "\n",
        "ser = pd.Series([1,2,3])\n",
        "print(ser)\n",
        "print(ser.sum())"
      ],
      "metadata": {
        "colab": {
          "base_uri": "https://localhost:8080/"
        },
        "id": "_D5s2bwsslg6",
        "outputId": "ab76769b-c732-4531-981c-52eec332a27b"
      },
      "execution_count": 51,
      "outputs": [
        {
          "output_type": "stream",
          "name": "stdout",
          "text": [
            "15\n",
            "15\n",
            "6\n",
            "600\n",
            "0    1\n",
            "1    2\n",
            "2    3\n",
            "dtype: int64\n",
            "6\n"
          ]
        }
      ]
    },
    {
      "cell_type": "code",
      "source": [
        "# clear - リストの全要素を削除\n",
        "l = [\"apple\",\"banana\",\"peach\"]\n",
        "l.clear() #全要素を削除\n",
        "print(l)\n",
        "\n",
        "# 辞書でも実行できる\n",
        "d = {\"apple\":150,\"banana\":220,\"peach\":190}\n",
        "d.clear()\n",
        "print(d)\n",
        "\n",
        "# リストの要素を指定して削除\n",
        "l1 = [10,20,30,40,50]\n",
        "l1.remove(20) #l1.remove(要素を指定)\n",
        "print(l1)\n",
        "\n",
        "l2 = [10,20,30,40,50]\n",
        "l2.pop(2) #l2.pop(削除したい要素のインデックス)\n",
        "print(l2) #返り値のは指定した要素の値\n",
        "\n",
        "l3 = [10,20,30,40,50]\n",
        "del l3[3] #del l3[削除したい要素のインデックス]\n",
        "print(l3)\n"
      ],
      "metadata": {
        "colab": {
          "base_uri": "https://localhost:8080/"
        },
        "id": "oOX7L4QBmJ_5",
        "outputId": "70750d96-4f68-4b11-ae7d-be454a504535"
      },
      "execution_count": 55,
      "outputs": [
        {
          "output_type": "stream",
          "name": "stdout",
          "text": [
            "[]\n",
            "{}\n",
            "[10, 30, 40, 50]\n",
            "[10, 20, 40, 50]\n",
            "[10, 20, 30, 50]\n"
          ]
        }
      ]
    },
    {
      "cell_type": "code",
      "source": [
        "# insert - リストの指定した場所に要素を追加\n",
        "l = [10,20,30,40]\n",
        "# l.insert(追加する場所,追加する要素)\n",
        "l.insert(0,50) #indexは0から始めるため0を指定することで最初に挿入される\n",
        "print(l)\n",
        "\n",
        "l1 = [\"apple\",\"banana\",\"peach\"]\n",
        "# l1.insert(追加する場所,\"追加する要素\")\n",
        "l1.insert(2,\"orange\")\n",
        "print(l)\n",
        "\n",
        "l1.insert(-1,\"cherry\") #末尾から二番目に追加される\n",
        "print(l)\n",
        "\n",
        "l1.append(\"grape\") #末尾に要素を追加\n",
        "print(l)\n",
        "\n",
        "l1.extend((1,2,3)) #末尾に全要素を追加\n",
        "print(l1)"
      ],
      "metadata": {
        "colab": {
          "base_uri": "https://localhost:8080/"
        },
        "id": "epNPyfjDmKCk",
        "outputId": "f8dee4f0-3df1-49e5-b619-743dcf73e376"
      },
      "execution_count": 80,
      "outputs": [
        {
          "output_type": "stream",
          "name": "stdout",
          "text": [
            "[50, 10, 20, 30, 40]\n",
            "[50, 10, 20, 30, 40]\n",
            "[50, 10, 20, 30, 40]\n",
            "[50, 10, 20, 30, 40]\n",
            "['apple', 'banana', 'orange', 'cherry', 'peach', 'grape', 1, 2, 3]\n"
          ]
        }
      ]
    },
    {
      "cell_type": "code",
      "source": [
        "# pandas.DataFrame.shift - データフレームのデータをずらす\n",
        "df=pd.DataFrame({\n",
        "    \"No.1\":[10,15,12,48,32],\n",
        "    \"No.2\":[29,1,43,18,25],\n",
        "    \"No.3\":[38,28,16,22,49]},\n",
        "    index=[\"A\",\"B\",\"C\",\"D\",\"E\"]\n",
        "    )\n",
        "print(df)\n",
        "\n",
        "#1行分にずれる,ずれた部分のデータは欠損知になる\n",
        "print(df.shift()) \n",
        "\n",
        "# print(df.shift(ずらしたい行数)) \n",
        "print(df.shift(2))\n",
        "\n",
        "#列方向にずらす\n",
        "print(df.shift(axis=1))\n",
        "\n",
        "#列データ\n",
        "df = pd.DataFrame({\"x\":range(1,6)},\n",
        "                  index = pd.date_range\n",
        "                  (\"2020-07-01\",\"2020-07-05\"))\n",
        "print(df)\n",
        "# print(df.shift(freq=\"freqに期間を指定するとその期間文ずらすことができる\"))\n",
        "print(df.shift(freq=\"5D\")) #5日分ずらす"
      ],
      "metadata": {
        "colab": {
          "base_uri": "https://localhost:8080/"
        },
        "id": "Z0TWjEzEmKFA",
        "outputId": "049f009a-8051-4bcc-f199-a1b47640a24a"
      },
      "execution_count": 100,
      "outputs": [
        {
          "output_type": "stream",
          "name": "stdout",
          "text": [
            "   No.1  No.2  No.3\n",
            "A    10    29    38\n",
            "B    15     1    28\n",
            "C    12    43    16\n",
            "D    48    18    22\n",
            "E    32    25    49\n",
            "   No.1  No.2  No.3\n",
            "A   NaN   NaN   NaN\n",
            "B  10.0  29.0  38.0\n",
            "C  15.0   1.0  28.0\n",
            "D  12.0  43.0  16.0\n",
            "E  48.0  18.0  22.0\n",
            "   No.1  No.2  No.3\n",
            "A   NaN   NaN   NaN\n",
            "B   NaN   NaN   NaN\n",
            "C  10.0  29.0  38.0\n",
            "D  15.0   1.0  28.0\n",
            "E  12.0  43.0  16.0\n",
            "   No.1  No.2  No.3\n",
            "A   NaN  10.0  29.0\n",
            "B   NaN  15.0   1.0\n",
            "C   NaN  12.0  43.0\n",
            "D   NaN  48.0  18.0\n",
            "E   NaN  32.0  25.0\n",
            "            x\n",
            "2020-07-01  1\n",
            "2020-07-02  2\n",
            "2020-07-03  3\n",
            "2020-07-04  4\n",
            "2020-07-05  5\n",
            "            x\n",
            "2020-07-06  1\n",
            "2020-07-07  2\n",
            "2020-07-08  3\n",
            "2020-07-09  4\n",
            "2020-07-10  5\n"
          ]
        }
      ]
    },
    {
      "cell_type": "code",
      "source": [
        "# diff - データフレームの行列ごとの差を取得\n",
        "df=pd.DataFrame({\n",
        "    \"A\":[100,150,200],\n",
        "    \"B\":[200,250,300],\n",
        "    \"C\":[130,210,180],\n",
        "    \"D\":[300,410,290]}\n",
        "    )\n",
        "print(df)\n",
        "print(df.diff()) #1行前の値との差を取得できた,1行は前の行が存在しないため欠損値になっている\n",
        "print(df.diff(2)) #差を比較する行\n",
        "\n",
        "#列方向\n",
        "print(df.diff(axis=1))"
      ],
      "metadata": {
        "colab": {
          "base_uri": "https://localhost:8080/"
        },
        "id": "NYR_w58a6ro5",
        "outputId": "204a5528-0664-43d8-904d-3eac008f1607"
      },
      "execution_count": 106,
      "outputs": [
        {
          "output_type": "stream",
          "name": "stdout",
          "text": [
            "     A    B    C    D\n",
            "0  100  200  130  300\n",
            "1  150  250  210  410\n",
            "2  200  300  180  290\n",
            "      A     B     C      D\n",
            "0   NaN   NaN   NaN    NaN\n",
            "1  50.0  50.0  80.0  110.0\n",
            "2  50.0  50.0 -30.0 -120.0\n",
            "       A      B     C     D\n",
            "0    NaN    NaN   NaN   NaN\n",
            "1    NaN    NaN   NaN   NaN\n",
            "2  100.0  100.0  50.0 -10.0\n",
            "    A      B      C      D\n",
            "0 NaN  100.0  -70.0  170.0\n",
            "1 NaN  100.0  -40.0  200.0\n",
            "2 NaN  100.0 -120.0  110.0\n"
          ]
        }
      ]
    },
    {
      "cell_type": "code",
      "source": [
        "# id - オブジェクトのIDを取得\n",
        "# Pythonのオブジェクト,下記全てにはプログラムが識別するための固有の番号(ID)が割り振られている\n",
        "# 1,文字列\n",
        "# 2,リスト\n",
        "# 3,辞書\n",
        "# 4,タプル\n",
        "# 5,整数\n",
        "# などの全ての値\n",
        "\n",
        "print(id(5))\n",
        "# 5のID - 94006019902080\n",
        "\n",
        "int = 2+3\n",
        "print(id(int))\n",
        "# 2+3のID - 94006019902080\n",
        "\n",
        "int = 25\n",
        "print(id(int))\n",
        "# 25のID - 94006019902720\n",
        "# 変数名が同じでも,代入される値が異なるため別のオブジェクトとみなされる\n",
        "\n",
        "l=[12,29,34]\n",
        "print(id(l)) # ID = 140061493836688\n",
        "\n",
        "t=(12,29,34)\n",
        "print(id(t)) # ID = 140061494295120"
      ],
      "metadata": {
        "colab": {
          "base_uri": "https://localhost:8080/"
        },
        "id": "dF7SBQ2aCSp4",
        "outputId": "cd24cc96-1291-4d70-bd71-0a0740d76d28"
      },
      "execution_count": 113,
      "outputs": [
        {
          "output_type": "stream",
          "name": "stdout",
          "text": [
            "94006019902080\n",
            "94006019902080\n",
            "94006019902720\n",
            "140061493836688\n",
            "140061494295120\n"
          ]
        }
      ]
    },
    {
      "cell_type": "code",
      "source": [
        "# enumerate - データのインデックス,値を取得,for文のおいて適用が可能\n",
        "l = [\"apple\",\"orange\",\"peach\"]\n",
        "\n",
        "# for i,j in enumerate(リストの変数)): \n",
        "for i,j in enumerate(l): \n",
        "    print(i,j)\n",
        "\n",
        "#辞書をオブジェクトに指定するとキーが値として取得される\n",
        "d = {\"apple\":100,\"orange\":200,\"peach\":300}\n",
        "for i,j in enumerate(d):\n",
        "    print(i,j)\n",
        "\n",
        "str = \"Python\"\n",
        "for i,j in enumerate(str):\n",
        "    print(i,j)\n",
        "\n",
        "# for i,j in enumerate(str,start=indexの開始を指定):\n",
        "for i,j in enumerate(str,start=10):\n",
        "    print(i,j)"
      ],
      "metadata": {
        "colab": {
          "base_uri": "https://localhost:8080/"
        },
        "id": "PYnUcpl4CSrG",
        "outputId": "61843dcd-d698-4693-baf7-81b6ce5ca94c"
      },
      "execution_count": 117,
      "outputs": [
        {
          "output_type": "stream",
          "name": "stdout",
          "text": [
            "0 apple\n",
            "1 orange\n",
            "2 peach\n",
            "0 apple\n",
            "1 orange\n",
            "2 peach\n",
            "0 P\n",
            "1 y\n",
            "2 t\n",
            "3 h\n",
            "4 o\n",
            "5 n\n",
            "10 P\n",
            "11 y\n",
            "12 t\n",
            "13 h\n",
            "14 o\n",
            "15 n\n"
          ]
        }
      ]
    },
    {
      "cell_type": "code",
      "source": [
        "# zip - 複数のリストの要素をまとめて取得\n",
        "products = [\"apple\",\"orange\",\"grape\"]\n",
        "prices = [100,200,300]\n",
        "\n",
        "for i in zip(products,prices):\n",
        "    print(i) #同じインデックスの要素がペアとなってタプルで取得される"
      ],
      "metadata": {
        "colab": {
          "base_uri": "https://localhost:8080/"
        },
        "id": "sUNatktnCStF",
        "outputId": "a7f444e8-c798-4496-f924-164aa2a188e4"
      },
      "execution_count": 118,
      "outputs": [
        {
          "output_type": "stream",
          "name": "stdout",
          "text": [
            "('apple', 100)\n",
            "('orange', 200)\n",
            "('grape', 300)\n"
          ]
        }
      ]
    },
    {
      "cell_type": "code",
      "source": [
        "products = [\"apple\",\"orange\",\"grape\",\"banana\"]\n",
        "prices = [100,200,300]\n",
        "numbers = [1,2,3]\n",
        "\n",
        "for i in zip(products,prices,numbers):\n",
        "    print(i) #bananaは取得されていない\n",
        "\n",
        "# それぞれの要素をリストで取得する\n",
        "print(list(zip(products,prices,numbers)))"
      ],
      "metadata": {
        "colab": {
          "base_uri": "https://localhost:8080/"
        },
        "id": "vfLq1EJSCSuw",
        "outputId": "e8a35d81-190d-45ed-d503-00d9ca2d0098"
      },
      "execution_count": 121,
      "outputs": [
        {
          "output_type": "stream",
          "name": "stdout",
          "text": [
            "('apple', 100, 1)\n",
            "('orange', 200, 2)\n",
            "('grape', 300, 3)\n",
            "[('apple', 100, 1), ('orange', 200, 2), ('grape', 300, 3)]\n"
          ]
        }
      ]
    },
    {
      "cell_type": "code",
      "source": [
        "# numpy.arange - 配列を作成\n",
        "print(np.arange(5)) #0以上5未満の配列を作成できる\n",
        "print(np.arange(1,10,2)) #1以上10未満,間隔が2(第一引数以上,第二引数未満かつ第三引数の間隔で配列が生成される)\n",
        "print(np.arange(-1,-10,-2)) #負の値でも可能\n",
        "print(np.arange(0.5,3,0.5))"
      ],
      "metadata": {
        "colab": {
          "base_uri": "https://localhost:8080/"
        },
        "id": "Hu7RdxGhCSwR",
        "outputId": "7b3d79d9-b27b-40ed-987a-7fd4415ac5fc"
      },
      "execution_count": 124,
      "outputs": [
        {
          "output_type": "stream",
          "name": "stdout",
          "text": [
            "[0 1 2 3 4]\n",
            "[1 3 5 7 9]\n",
            "[-1 -3 -5 -7 -9]\n",
            "[0.5 1.  1.5 2.  2.5]\n"
          ]
        }
      ]
    },
    {
      "cell_type": "code",
      "source": [
        "# maximum,fmax - ２つの配列の要素を比較し最大値を取得\n",
        "a1=np.array([2,5,9])\n",
        "a2=np.array([3,1,7])\n",
        "print(np.maximum(a1,a2)) #今回か配列だが、リストでも使用可能\n",
        "\n",
        "a3=np.array([5,np.nan,3]) #欠損値を入る場合\n",
        "print(np.maximum(a1,a3)) #maximum関数は欠損値を優先して取得\n",
        "print(np.fmax(a1,a3)) #欠損値を比較の対象にしない場合\n",
        "\n",
        "# ２つの配列の要素を比較し最小値を取得\n",
        "print(np.minimum(a1,a2))\n",
        "print(np.fmin(a1,a3))"
      ],
      "metadata": {
        "colab": {
          "base_uri": "https://localhost:8080/"
        },
        "id": "ho1XkGvx6rqd",
        "outputId": "8edfa372-49c0-4c21-e8d3-1c9808edeca4"
      },
      "execution_count": 128,
      "outputs": [
        {
          "output_type": "stream",
          "name": "stdout",
          "text": [
            "[3 5 9]\n",
            "[ 5. nan  9.]\n",
            "[5. 5. 9.]\n",
            "[2 1 7]\n",
            "[2. 5. 3.]\n"
          ]
        }
      ]
    },
    {
      "cell_type": "code",
      "source": [
        "# add,subrtract,mutilply,divide - 二つの配列を計算\n",
        "a1=np.array([2,5,9])\n",
        "a2=np.array([3,1,7]) \n",
        "\n",
        "print(np.add(a1,a2)) #足し算\n",
        "print(np.subtract(a1,a2)) #引き算\n",
        "print(np.multiply(a1,a2)) #掛け算\n",
        "print(np.divide(a1,a2)) #割り算"
      ],
      "metadata": {
        "colab": {
          "base_uri": "https://localhost:8080/"
        },
        "id": "rpWxRhpL6rsR",
        "outputId": "bc59a797-6be6-4d79-c732-bda8522caec2"
      },
      "execution_count": 130,
      "outputs": [
        {
          "output_type": "stream",
          "name": "stdout",
          "text": [
            "[ 5  6 16]\n",
            "[-1  4  2]\n",
            "[ 6  5 63]\n",
            "[0.66666667 5.         1.28571429]\n"
          ]
        }
      ]
    },
    {
      "cell_type": "code",
      "source": [
        "# zero,ones - 全ての要素が0,1の配列を作成,デフォルトのデータ型はfloat64\n",
        "\n",
        "# print(np.zeros(要素数))\n",
        "print(np.zeros(7))\n",
        "print(np.zeros(7).dtype)\n",
        "# print(np.ones((行,列))\n",
        "print(np.ones((2,4)))\n",
        "\n",
        "# print(np.full(要素数,数値))\n",
        "print(np.full(5,10.5)) #任意の数値で配列を作成\n",
        "\n",
        "# print(np.zeros(7,dtype=int).dtype) #データ型を変更可能"
      ],
      "metadata": {
        "colab": {
          "base_uri": "https://localhost:8080/"
        },
        "id": "6f18ZPFuKsyX",
        "outputId": "de004334-706f-430e-a899-71d3471f52c1"
      },
      "execution_count": 175,
      "outputs": [
        {
          "output_type": "stream",
          "name": "stdout",
          "text": [
            "[0. 0. 0. 0. 0. 0. 0.]\n",
            "float64\n",
            "[[1. 1. 1. 1.]\n",
            " [1. 1. 1. 1.]]\n",
            "[10.5 10.5 10.5 10.5 10.5]\n"
          ]
        }
      ]
    },
    {
      "cell_type": "code",
      "source": [
        "# numpy.concatenate - 配列を結合\n",
        "a1 = np.array([[5,5,5],[5,5,5]])\n",
        "a2 = np.array([[10,10,10],[10,10,10]])\n",
        "a3 = np.array([[20,20,20],[20,20,20]])\n",
        "\n",
        "# np.concatenate([結合したい配列,結合したい配列])\n",
        "print(np.concatenate([a1,a2]))\n",
        "\n",
        "# 列方向に結合\n",
        "print(np.concatenate([a1,a2],axis=1))\n",
        "\n",
        "#3つ以上でも可能\n",
        "print(np.concatenate([a1,a2,a3]))"
      ],
      "metadata": {
        "colab": {
          "base_uri": "https://localhost:8080/"
        },
        "id": "OPf-NKe9MYWc",
        "outputId": "19e3227c-1b7a-44b2-fdcf-68024f50f6e2"
      },
      "execution_count": 183,
      "outputs": [
        {
          "output_type": "stream",
          "name": "stdout",
          "text": [
            "[[ 5  5  5]\n",
            " [ 5  5  5]\n",
            " [10 10 10]\n",
            " [10 10 10]]\n",
            "[[ 5  5  5 10 10 10]\n",
            " [ 5  5  5 10 10 10]]\n",
            "[[ 5  5  5]\n",
            " [ 5  5  5]\n",
            " [10 10 10]\n",
            " [10 10 10]\n",
            " [20 20 20]\n",
            " [20 20 20]]\n"
          ]
        }
      ]
    },
    {
      "cell_type": "code",
      "source": [
        "# numpy.ndarray.max/min - 配列の最大値,最小値を取得\n",
        "a = np.array([[1,2,3],\n",
        "              [4,5,6],\n",
        "              [7,8,9]])\n",
        "\n",
        "print(a.max())\n",
        "print(a.min())\n",
        "print(a.max(axis=1)) #列ごとの最大値\n",
        "print(a.min(axis=1)) #列ごとの最小値\n",
        "\n",
        "print(a.max(axis=0)) #行ごとの最大値\n",
        "print(a.min(axis=0)) #行ごとの最大値\n",
        "\n",
        "# np.amax/min(オブジェクトである配列を指定する) \n",
        "print(np.amax(a))\n",
        "print(np.amin(a))"
      ],
      "metadata": {
        "colab": {
          "base_uri": "https://localhost:8080/"
        },
        "id": "OP4_WnyAJJpX",
        "outputId": "d9e1d362-47c3-47b2-f101-a27d62152a47"
      },
      "execution_count": 189,
      "outputs": [
        {
          "output_type": "stream",
          "name": "stdout",
          "text": [
            "9\n",
            "1\n",
            "[3 6 9]\n",
            "[1 4 7]\n",
            "[7 8 9]\n",
            "[1 2 3]\n",
            "9\n",
            "1\n"
          ]
        }
      ]
    },
    {
      "cell_type": "code",
      "source": [
        "# numpy.argmax,argmin - 配列の最大値,最長値のインデックスを取得\n",
        "a1 = np.array([10,23,53,33,42,19])\n",
        "a2 = np.array([10,23,53,33,53,19])\n",
        "a3 = np.array([10,10,53,33,53,19])\n",
        "a4 = np.array([[10,32,22,19,19],\n",
        "              [22,49,18,53,27]])\n",
        "\n",
        "print(np.argmax(a1))\n",
        "print(np.argmin(a1))\n",
        "\n",
        "print(np.argmax(a2)) #最大値が複数ある場合は1つ目の該当インデックスが返される\n",
        "print(np.argmin(a2))\n",
        "\n",
        "print(np.argmax(a3))\n",
        "print(np.argmin(a3))\n",
        "\n",
        "print(np.argmax(a4)) #デフォルトでは配列が一次元にした場合の最大値が取得される\n",
        "print(np.argmax(a4,1)) #それぞれの配列ごとの最大値のインデックスを取得\n",
        "print(np.argmin(a4))\n",
        "print(np.argmin(a4,1))\n",
        "\n"
      ],
      "metadata": {
        "colab": {
          "base_uri": "https://localhost:8080/"
        },
        "id": "KZ5XogKXJJqn",
        "outputId": "cc468116-2e43-4a0f-e7bf-1162eb6c19ce"
      },
      "execution_count": 196,
      "outputs": [
        {
          "output_type": "stream",
          "name": "stdout",
          "text": [
            "2\n",
            "0\n",
            "2\n",
            "0\n",
            "2\n",
            "0\n",
            "8\n",
            "[1 3]\n",
            "0\n",
            "[0 2]\n"
          ]
        }
      ]
    },
    {
      "cell_type": "code",
      "source": [
        "# numpy.nanmax,nanmix - 欠損値を含む配列の最大値,最小値を取得\n",
        "a=np.array([[1,2,3],\n",
        "           [4,5,6],\n",
        "           [7,8,np.nan]])\n",
        "\n",
        "print(np.max(a)) #どちらも欠損知nanが返される\n",
        "print(np.min(a)) #どちらも欠損知nanが返される\n",
        "\n",
        "print(np.nanmax(a))\n",
        "print(np.nanmin(a))\n",
        "\n",
        "print(np.nanmax(a,axis=1)) #列ごとの最大値を取得\n",
        "print(np.nanmin(a,axis=1)) #列ごとの最小値を取得\n",
        "\n",
        "print(np.nanmax(a,axis=0)) #行ごとの最大値を取得\n",
        "print(np.nanmin(a,axis=0)) #行ごとの最小値を取得"
      ],
      "metadata": {
        "colab": {
          "base_uri": "https://localhost:8080/"
        },
        "id": "pA6AS7zHJJsp",
        "outputId": "827d9433-3315-4ac5-e507-ff7270773299"
      },
      "execution_count": 201,
      "outputs": [
        {
          "output_type": "stream",
          "name": "stdout",
          "text": [
            "nan\n",
            "nan\n",
            "8.0\n",
            "1.0\n",
            "[3. 6. 8.]\n",
            "[1. 4. 7.]\n",
            "[7. 8. 6.]\n",
            "[1. 2. 3.]\n"
          ]
        }
      ]
    },
    {
      "cell_type": "code",
      "source": [
        "# numpy.mean,nanmean - 配列の平均を算出\n",
        "\n",
        "a1=np.array([[1,5,12,0,5,1]])\n",
        "# print(np.mean(平均を算出したい配列))\n",
        "print(np.mean(a1))\n",
        "\n",
        "a2=np.reshape(a1,(2,3))\n",
        "print(a2)\n",
        "\n",
        "print(np.mean(a2,axis=1)) #行ごとの平均\n",
        "print(np.mean(a2,axis=0)) #列ごとの平均"
      ],
      "metadata": {
        "colab": {
          "base_uri": "https://localhost:8080/"
        },
        "id": "wUQrM907YHzT",
        "outputId": "b23bea48-b58b-42ad-b25b-be7e3a6c70fb"
      },
      "execution_count": 204,
      "outputs": [
        {
          "output_type": "stream",
          "name": "stdout",
          "text": [
            "4.0\n",
            "[[ 1  5 12]\n",
            " [ 0  5  1]]\n",
            "[6. 2.]\n",
            "[0.5 5.  6.5]\n"
          ]
        }
      ]
    },
    {
      "cell_type": "code",
      "source": [
        "# numpy.average - 配列の単純平均,加重平均を算出\n",
        "# 単純平均 - 各地の合計/値の個数\n",
        "# 加重平均 - 配列それぞれに重要度である重みを加味した平均\n",
        "\n",
        "a=np.array([[1,5,12,0,5,1]])\n",
        "# print(np.mean(平均を算出したい配列))\n",
        "print(np.average(a))\n",
        "\n",
        "w = np.array([0.4,0.2,0.1,0.5,0.2,0.4]) #配列aに加味したい重み\n",
        "print(np.average(a,weights=w))"
      ],
      "metadata": {
        "colab": {
          "base_uri": "https://localhost:8080/",
          "height": 467
        },
        "id": "COxw1kHlJJuc",
        "outputId": "cfaa37d3-51dc-494d-8218-9a135bc2734e"
      },
      "execution_count": 220,
      "outputs": [
        {
          "output_type": "stream",
          "name": "stdout",
          "text": [
            "4.0\n"
          ]
        },
        {
          "output_type": "error",
          "ename": "TypeError",
          "evalue": "ignored",
          "traceback": [
            "\u001b[0;31m---------------------------------------------------------------------------\u001b[0m",
            "\u001b[0;31mTypeError\u001b[0m                                 Traceback (most recent call last)",
            "\u001b[0;32m<ipython-input-220-7288aa8d21ac>\u001b[0m in \u001b[0;36m<module>\u001b[0;34m()\u001b[0m\n\u001b[1;32m      8\u001b[0m \u001b[0;34m\u001b[0m\u001b[0m\n\u001b[1;32m      9\u001b[0m \u001b[0mw\u001b[0m \u001b[0;34m=\u001b[0m \u001b[0mnp\u001b[0m\u001b[0;34m.\u001b[0m\u001b[0marray\u001b[0m\u001b[0;34m(\u001b[0m\u001b[0;34m[\u001b[0m\u001b[0;36m0.4\u001b[0m\u001b[0;34m,\u001b[0m\u001b[0;36m0.2\u001b[0m\u001b[0;34m,\u001b[0m\u001b[0;36m0.1\u001b[0m\u001b[0;34m,\u001b[0m\u001b[0;36m0.5\u001b[0m\u001b[0;34m,\u001b[0m\u001b[0;36m0.2\u001b[0m\u001b[0;34m,\u001b[0m\u001b[0;36m0.4\u001b[0m\u001b[0;34m]\u001b[0m\u001b[0;34m)\u001b[0m \u001b[0;31m#配列aに加味したい重み\u001b[0m\u001b[0;34m\u001b[0m\u001b[0;34m\u001b[0m\u001b[0m\n\u001b[0;32m---> 10\u001b[0;31m \u001b[0mprint\u001b[0m\u001b[0;34m(\u001b[0m\u001b[0mnp\u001b[0m\u001b[0;34m.\u001b[0m\u001b[0maverage\u001b[0m\u001b[0;34m(\u001b[0m\u001b[0ma\u001b[0m\u001b[0;34m,\u001b[0m\u001b[0mweights\u001b[0m\u001b[0;34m=\u001b[0m\u001b[0mw\u001b[0m\u001b[0;34m)\u001b[0m\u001b[0;34m)\u001b[0m\u001b[0;34m\u001b[0m\u001b[0;34m\u001b[0m\u001b[0m\n\u001b[0m",
            "\u001b[0;32m<__array_function__ internals>\u001b[0m in \u001b[0;36maverage\u001b[0;34m(*args, **kwargs)\u001b[0m\n",
            "\u001b[0;32m/usr/local/lib/python3.7/dist-packages/numpy/lib/function_base.py\u001b[0m in \u001b[0;36maverage\u001b[0;34m(a, axis, weights, returned)\u001b[0m\n\u001b[1;32m    392\u001b[0m             \u001b[0;32mif\u001b[0m \u001b[0maxis\u001b[0m \u001b[0;32mis\u001b[0m \u001b[0;32mNone\u001b[0m\u001b[0;34m:\u001b[0m\u001b[0;34m\u001b[0m\u001b[0;34m\u001b[0m\u001b[0m\n\u001b[1;32m    393\u001b[0m                 raise TypeError(\n\u001b[0;32m--> 394\u001b[0;31m                     \u001b[0;34m\"Axis must be specified when shapes of a and weights \"\u001b[0m\u001b[0;34m\u001b[0m\u001b[0;34m\u001b[0m\u001b[0m\n\u001b[0m\u001b[1;32m    395\u001b[0m                     \"differ.\")\n\u001b[1;32m    396\u001b[0m             \u001b[0;32mif\u001b[0m \u001b[0mwgt\u001b[0m\u001b[0;34m.\u001b[0m\u001b[0mndim\u001b[0m \u001b[0;34m!=\u001b[0m \u001b[0;36m1\u001b[0m\u001b[0;34m:\u001b[0m\u001b[0;34m\u001b[0m\u001b[0;34m\u001b[0m\u001b[0m\n",
            "\u001b[0;31mTypeError\u001b[0m: Axis must be specified when shapes of a and weights differ."
          ]
        }
      ]
    },
    {
      "cell_type": "code",
      "source": [
        "# numpy.abs - 配列から絶対値を取得\n",
        "a = np.array([-2,5,-8,-1,-3])\n",
        "print(np.abs(a))\n",
        "\n",
        "a1 = np.array([-2.7,1.9,-3.4])\n",
        "print(np.abs(a1))\n",
        "\n",
        "print(np.abs(-3))\n",
        "print(np.abs([-1,0,1]))"
      ],
      "metadata": {
        "colab": {
          "base_uri": "https://localhost:8080/"
        },
        "id": "NwvcQ9nSJJwE",
        "outputId": "6eb52073-ad05-41c1-e6f8-96d6d7d4bc12"
      },
      "execution_count": 222,
      "outputs": [
        {
          "output_type": "stream",
          "name": "stdout",
          "text": [
            "[2 5 8 1 3]\n",
            "[2.7 1.9 3.4]\n",
            "3\n",
            "[1 0 1]\n"
          ]
        }
      ]
    },
    {
      "cell_type": "code",
      "source": [
        "# numpy.reshape - 配列の次元数,行数,列数を変更\n",
        "a = np.array([1,5,12,0,5,1]) #一次元データ\n",
        "\n",
        "# print(np.reshape(変更したい配列,(変更後の行数,変更後の列数)))\n",
        "print(np.reshape(a,(2,3))) #二次元配列に変更\n",
        "\n",
        "# print(np.reshape(a,(次元数,行数,列数)))\n",
        "print(np.reshape(a,(3,1,2))) #三次元配列に変更\n",
        "\n",
        "print(np.reshape(a,(1,-1)))"
      ],
      "metadata": {
        "colab": {
          "base_uri": "https://localhost:8080/"
        },
        "id": "3CHSeuMV6ruH",
        "outputId": "2fdfde18-40e1-48be-c22f-876d11d6d7cb"
      },
      "execution_count": 224,
      "outputs": [
        {
          "output_type": "stream",
          "name": "stdout",
          "text": [
            "[[ 1  5 12]\n",
            " [ 0  5  1]]\n",
            "[[[ 1  5]]\n",
            "\n",
            " [[12  0]]\n",
            "\n",
            " [[ 5  1]]]\n",
            "[[ 1  5 12  0  5  1]]\n"
          ]
        }
      ]
    },
    {
      "cell_type": "code",
      "source": [
        "# numpy.put - 配列のインデックスを指定して値を置換\n",
        "a = np.array([1,5,12,0,5,1])\n",
        "\n",
        "# print(np.put(配列,置換する配列のインデックス,置換する値))\n",
        "print(np.put(a,1,500))\n",
        "print(a)\n",
        "\n",
        "# 複数の値を同時に変更する\n",
        "print(np.put(a,[0,1,2],[10,20,30]))\n",
        "print(a)"
      ],
      "metadata": {
        "colab": {
          "base_uri": "https://localhost:8080/"
        },
        "id": "9ukWEVw56V3H",
        "outputId": "139cd24e-0701-454a-a96d-79714a42a0f8"
      },
      "execution_count": 226,
      "outputs": [
        {
          "output_type": "stream",
          "name": "stdout",
          "text": [
            "None\n",
            "[  1 500  12   0   5   1]\n",
            "None\n",
            "[10 20 30  0  5  1]\n"
          ]
        }
      ]
    },
    {
      "cell_type": "code",
      "source": [
        "# 配列のインデックス数を超えるインデックスを指定した場合はエラーになる\n",
        "a = np.array([1,5,12,0,5,1])\n",
        "#print(np.put(a,6,200))　- エラーになる\n",
        "\n",
        "# 2つ対処方法がある\n",
        "# 1, mode=\"wrap\" - wrapを指定すると指定したインデックスにたどり着くまでループを繰り返す\n",
        "np.put(a,6,200,mode=\"wrap\")\n",
        "print(a)\n",
        "\n",
        "# 2,mode=\"clip\" - 配列の末尾の値が変更される\n",
        "np.put(a,6,200,mode=\"clip\")\n",
        "print(a)"
      ],
      "metadata": {
        "colab": {
          "base_uri": "https://localhost:8080/"
        },
        "id": "56XiQIgA6V4D",
        "outputId": "6ba981f5-d32a-4a84-c1ce-1b90618e07c0"
      },
      "execution_count": 228,
      "outputs": [
        {
          "output_type": "stream",
          "name": "stdout",
          "text": [
            "[200   5  12   0   5   1]\n",
            "[200   5  12   0   5 200]\n"
          ]
        }
      ]
    },
    {
      "cell_type": "code",
      "source": [
        "# np.all - 配列の値が条件に一致するかを判定\n",
        "a = np.array([[1,7,1,3,1],\n",
        "             [0,1,0,3,1],\n",
        "             [3,8,0,6,1]])\n",
        "print(np.all(a)) #0がある場合はFalse,0がない場合はTrue\n",
        "print(np.all(a,axis=0)) #列方向に判定\n",
        "print(np.all(a,axis=1)) #行方向に判定\n",
        "print(np.all(a<5)) #条件指定も可能\n",
        "print(np.all(a<5,axis=0))\n",
        "print(np.all(a<5,axis=1))\n",
        "\n",
        "#いずれかの値が条件に一致する場合がTrueが帰ってくる　\n",
        "print(np.any(a<5))"
      ],
      "metadata": {
        "colab": {
          "base_uri": "https://localhost:8080/"
        },
        "id": "ftAboQYp6V7t",
        "outputId": "a052d7ce-f9f7-4fb9-cb33-bbd0c263a216"
      },
      "execution_count": 232,
      "outputs": [
        {
          "output_type": "stream",
          "name": "stdout",
          "text": [
            "False\n",
            "[False  True False  True  True]\n",
            "[ True False False]\n",
            "False\n",
            "[ True False  True False  True]\n",
            "[False  True False]\n",
            "True\n"
          ]
        }
      ]
    },
    {
      "cell_type": "code",
      "source": [
        "# np.putmask - 条件を指定し配列の値を置き換える\n",
        "a1 = np.array([1,5,2,6,8,3,4])\n",
        "# np.putmask(配列,条件,変更後の値)\n",
        "np.putmask(a1,a1 >= 5,100)\n",
        "print(a1)\n",
        "\n",
        "a2 = np.array([[1,7,5],\n",
        "              [4,3,8],\n",
        "              [12,2,1]])\n",
        "\n",
        "np.putmask(a2,a2 >= 5,100)\n",
        "print(a2)\n",
        "\n",
        "#変更後の値を複数指定もできる\n",
        "np.putmask(a2,a2 >= 5,[100,10])\n",
        "print(a2)"
      ],
      "metadata": {
        "colab": {
          "base_uri": "https://localhost:8080/"
        },
        "id": "FgLUakNigilh",
        "outputId": "baa5c7d2-d275-47a7-eb87-61c7b569209b"
      },
      "execution_count": 238,
      "outputs": [
        {
          "output_type": "stream",
          "name": "stdout",
          "text": [
            "[  1 100   2 100 100   3   4]\n",
            "[[  1 100 100]\n",
            " [  4   3 100]\n",
            " [100   2   1]]\n",
            "[[  1  10 100]\n",
            " [  4   3  10]\n",
            " [100   2   1]]\n"
          ]
        }
      ]
    },
    {
      "cell_type": "code",
      "source": [
        "#np.transpose - 配列の軸を入れ替わる\n",
        "a1 = np.array([[1,2,3],\n",
        "              [4,5,6],\n",
        "              [7,8,9]])\n",
        "\n",
        "# print(np.transpose(変更したい配列))\n",
        "print(np.transpose(a1)) #列と行を入れ替えることができる\n",
        "\n",
        "a2 = np.array([[[1,2,3,4],\n",
        "              [5,6,7,8],\n",
        "              [9,10,11,12]]])\n",
        "\n",
        "# print(np.transpose(a2,(次元,行,列)))\n",
        "print(np.transpose(a2,(0,1,2)))\n",
        "print(a2.shape)\n",
        "print(np.transpose(a2,(0,1,2)).shape)\n",
        "\n",
        "print(np.transpose(a2,(2,1,0)))\n",
        "print(np.transpose(a2,(2,1,0)).shape)\n",
        "\n",
        "print(np.transpose(a2,(0,2,1)))\n",
        "print(np.transpose(a2,(0,2,1)).shape)"
      ],
      "metadata": {
        "colab": {
          "base_uri": "https://localhost:8080/"
        },
        "id": "Ee__Wi476V9f",
        "outputId": "97a9ea8c-7c2f-4f8d-f7e4-ff30f88fed22"
      },
      "execution_count": 247,
      "outputs": [
        {
          "output_type": "stream",
          "name": "stdout",
          "text": [
            "[[1 4 7]\n",
            " [2 5 8]\n",
            " [3 6 9]]\n",
            "[[[ 1  2  3  4]\n",
            "  [ 5  6  7  8]\n",
            "  [ 9 10 11 12]]]\n",
            "(1, 3, 4)\n",
            "(1, 3, 4)\n",
            "[[[ 1]\n",
            "  [ 5]\n",
            "  [ 9]]\n",
            "\n",
            " [[ 2]\n",
            "  [ 6]\n",
            "  [10]]\n",
            "\n",
            " [[ 3]\n",
            "  [ 7]\n",
            "  [11]]\n",
            "\n",
            " [[ 4]\n",
            "  [ 8]\n",
            "  [12]]]\n",
            "(4, 3, 1)\n",
            "[[[ 1  5  9]\n",
            "  [ 2  6 10]\n",
            "  [ 3  7 11]\n",
            "  [ 4  8 12]]]\n",
            "(1, 4, 3)\n"
          ]
        }
      ]
    },
    {
      "cell_type": "code",
      "source": [
        "# np.append - 配列の末尾の要素を追加\n",
        "a1 = np.array([1,2,3,4,5])\n",
        "\n",
        "# print(配列,追加する値)\n",
        "print(a1,100)\n",
        "print(a1,[50,55,60])\n",
        "\n",
        "a2 = np.array([[1,2,3],\n",
        "              [4,5,6],\n",
        "              [7,8,9]])\n",
        "\n",
        "print(a2,100) #一次元配列として末尾に追加される\n",
        "b = np.array([[10,20,30]])\n",
        "\n",
        "# print(np.append(配列,追加する配列,行方向))\n",
        "print(np.append(a2,b,axis=0))\n",
        "\n",
        "#行方向に値を追加\n",
        "c = np.array([[10],\n",
        "              [20],\n",
        "              [30]])\n",
        "\n",
        "# print(np.append(配列,追加する配列,列方向))\n",
        "print(np.append(a2,c,axis=1))"
      ],
      "metadata": {
        "colab": {
          "base_uri": "https://localhost:8080/"
        },
        "id": "CyyRnDof6V_U",
        "outputId": "57ea5408-a3fe-4a16-89a1-82665c8b65ea"
      },
      "execution_count": 253,
      "outputs": [
        {
          "output_type": "stream",
          "name": "stdout",
          "text": [
            "[1 2 3 4 5] 100\n",
            "[1 2 3 4 5] [50, 55, 60]\n",
            "[[1 2 3]\n",
            " [4 5 6]\n",
            " [7 8 9]] 100\n",
            "[[ 1  2  3]\n",
            " [ 4  5  6]\n",
            " [ 7  8  9]\n",
            " [10 20 30]]\n",
            "[[ 1  2  3 10]\n",
            " [ 4  5  6 20]\n",
            " [ 7  8  9 30]]\n"
          ]
        }
      ]
    },
    {
      "cell_type": "code",
      "source": [
        "# numpy.hstack - 配列を横方向に結合\n",
        "a1 = np.array([2,8,5])\n",
        "a2 = np.array([30,60,10])\n",
        "\n",
        "# print(np.hstack((結合したい配列,結合したい配列)))\n",
        "print(np.hstack((a1,a2)))\n",
        "\n",
        "a3 = np.array([[3,6,2,5],\n",
        "              [4,1,7,5],\n",
        "              [3,5,8,5]])\n",
        "\n",
        "a4 = np.array([[40,20,70],\n",
        "              [90,10,60],\n",
        "              [80,30,50]])\n",
        "\n",
        "print(np.hstack((a3,a4)))\n",
        "\n",
        "# np.vstack - 縦方向に配列を結合できる\n",
        "print(np.vstack((a1,a2)))"
      ],
      "metadata": {
        "colab": {
          "base_uri": "https://localhost:8080/"
        },
        "id": "ELeOHWykiOL0",
        "outputId": "271cb2e5-ea73-4f18-b7c0-a10e7399ca78"
      },
      "execution_count": 266,
      "outputs": [
        {
          "output_type": "stream",
          "name": "stdout",
          "text": [
            "[ 2  8  5 30 60 10]\n",
            "[[ 3  6  2  5 40 20 70]\n",
            " [ 4  1  7  5 90 10 60]\n",
            " [ 3  5  8  5 80 30 50]]\n",
            "[[ 2  8  5]\n",
            " [30 60 10]]\n"
          ]
        }
      ]
    },
    {
      "cell_type": "code",
      "source": [
        "# numpy.vstack - 配列を縦方向に結合\n",
        "a1 = np.array([1,2,3,4,5])\n",
        "a2 = np.array([10,20,30,40,50])\n",
        "print(np.vstack((a1,a2)))\n",
        "\n",
        "a3 = np.array([[60,61,62,63,64],\n",
        "              [70,71,72,73,74],\n",
        "              [80,81,82,83,84]])\n",
        "\n",
        "print(np.vstack((a1,a3)))\n",
        "print(np.vstack((a1,a2,a3)))"
      ],
      "metadata": {
        "colab": {
          "base_uri": "https://localhost:8080/"
        },
        "id": "soQ9DBAmiOPO",
        "outputId": "d72efa6d-c447-47f1-842e-4fa0fdcff0e2"
      },
      "execution_count": 270,
      "outputs": [
        {
          "output_type": "stream",
          "name": "stdout",
          "text": [
            "[[ 1  2  3  4  5]\n",
            " [10 20 30 40 50]]\n",
            "[[ 1  2  3  4  5]\n",
            " [60 61 62 63 64]\n",
            " [70 71 72 73 74]\n",
            " [80 81 82 83 84]]\n",
            "[[ 1  2  3  4  5]\n",
            " [10 20 30 40 50]\n",
            " [60 61 62 63 64]\n",
            " [70 71 72 73 74]\n",
            " [80 81 82 83 84]]\n"
          ]
        }
      ]
    },
    {
      "cell_type": "code",
      "source": [
        "# numpy.identity.eye - 単位行列を作成\n",
        "\n",
        "# print(np.identity(行列の数))\n",
        "print(np.identity(5))\n",
        "# print(np.identity(3,5)) - エラー起きる\n",
        "\n",
        "# print(np.eye(行数,列数,対角線の開始位置))\n",
        "print(np.eye(3,M=5,k=2))\n",
        "\n",
        "print(np.eye(5))"
      ],
      "metadata": {
        "colab": {
          "base_uri": "https://localhost:8080/"
        },
        "id": "aCQoPMf_iOTv",
        "outputId": "67dac563-a0ec-43cd-adb0-8e74f1f652de"
      },
      "execution_count": 275,
      "outputs": [
        {
          "output_type": "stream",
          "name": "stdout",
          "text": [
            "[[1. 0. 0. 0. 0.]\n",
            " [0. 1. 0. 0. 0.]\n",
            " [0. 0. 1. 0. 0.]\n",
            " [0. 0. 0. 1. 0.]\n",
            " [0. 0. 0. 0. 1.]]\n",
            "[[0. 0. 1. 0. 0.]\n",
            " [0. 0. 0. 1. 0.]\n",
            " [0. 0. 0. 0. 1.]]\n",
            "[[1. 0. 0. 0. 0.]\n",
            " [0. 1. 0. 0. 0.]\n",
            " [0. 0. 1. 0. 0.]\n",
            " [0. 0. 0. 1. 0.]\n",
            " [0. 0. 0. 0. 1.]]\n"
          ]
        }
      ]
    },
    {
      "cell_type": "code",
      "source": [
        "# numpy.linspace - 等間隔の配列を作成\n",
        "print(np.linspace(1,20)) #第一引数以上,第二引数以下の等間隔の配列を作成,デフォルトの要素数は50\n",
        "# print(np.linspace(1,20,要素数))\n",
        "print(np.linspace(1,20,10)) #配列の要素数を指定\n",
        "print(np.linspace(1,20,5,retstep=True)) #各要素の差分を取得\n",
        "print(np.linspace(1,20,5,endpoint=False)) #最後の要素を含まずに配列を作成する　"
      ],
      "metadata": {
        "colab": {
          "base_uri": "https://localhost:8080/"
        },
        "id": "xb4XsLt36WBL",
        "outputId": "44e92b67-1721-436e-8cc8-739035eff170"
      },
      "execution_count": 281,
      "outputs": [
        {
          "output_type": "stream",
          "name": "stdout",
          "text": [
            "[ 1.          1.3877551   1.7755102   2.16326531  2.55102041  2.93877551\n",
            "  3.32653061  3.71428571  4.10204082  4.48979592  4.87755102  5.26530612\n",
            "  5.65306122  6.04081633  6.42857143  6.81632653  7.20408163  7.59183673\n",
            "  7.97959184  8.36734694  8.75510204  9.14285714  9.53061224  9.91836735\n",
            " 10.30612245 10.69387755 11.08163265 11.46938776 11.85714286 12.24489796\n",
            " 12.63265306 13.02040816 13.40816327 13.79591837 14.18367347 14.57142857\n",
            " 14.95918367 15.34693878 15.73469388 16.12244898 16.51020408 16.89795918\n",
            " 17.28571429 17.67346939 18.06122449 18.44897959 18.83673469 19.2244898\n",
            " 19.6122449  20.        ]\n",
            "[ 1.          3.11111111  5.22222222  7.33333333  9.44444444 11.55555556\n",
            " 13.66666667 15.77777778 17.88888889 20.        ]\n",
            "(array([ 1.  ,  5.75, 10.5 , 15.25, 20.  ]), 4.75)\n",
            "[ 1.   4.8  8.6 12.4 16.2]\n"
          ]
        }
      ]
    }
  ]
}