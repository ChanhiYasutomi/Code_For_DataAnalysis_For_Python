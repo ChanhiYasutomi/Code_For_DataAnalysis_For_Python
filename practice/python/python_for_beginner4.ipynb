{
  "cells": [
    {
      "cell_type": "code",
      "execution_count": null,
      "metadata": {
        "id": "WNgC1E7r6qNk"
      },
      "outputs": [],
      "source": [
        "# Python - オブジェクト指向（コードの再利用が楽、新しく追加するところは継承して差分だけ書けばいい）\n",
        "# オブジェクト - たい焼きの生地と具材（あんこ、クリーム）\n",
        "# １、データと処理（メソッド）で構成される\n",
        "# ２、上記を合わせてattribute(属性)と呼ぶ\n",
        "\n",
        "# クラス（たい焼きを焼く鉄板） -　オブジェクトのもとになるコード \n",
        "# インスタンス(たい焼きそのもの) - クラスをもとに生成されるオブジェクト"
      ]
    },
    {
      "cell_type": "code",
      "execution_count": null,
      "metadata": {
        "colab": {
          "base_uri": "https://localhost:8080/"
        },
        "id": "cFCAAv6WLhtN",
        "outputId": "0b23cab1-29d7-41d4-c05d-740e01832dcb"
      },
      "outputs": [
        {
          "name": "stdout",
          "output_type": "stream",
          "text": [
            "HelloHelloHello\n",
            "平成30年\n",
            "西暦2022年\n",
            "平成30年西暦2022年\n",
            "\n",
            "hey\n",
            "hello\n",
            "what\n",
            "\n"
          ]
        }
      ],
      "source": [
        "print(\"Hello\"*3)\n",
        "\n",
        "print(\"平成\"+str(30)+\"年\")\n",
        "print(\"西暦\"+str(30+1992)+\"年\")\n",
        "\n",
        "# print(\"平成\"+str(30)+\"年\", end=\"\"), end=\"\"することで２行を１行で書けるようになる(改行しない)\n",
        "print(\"平成\"+str(30)+\"年\", end=\"\")\n",
        "print(\"西暦\"+str(30+1992)+\"年\")\n",
        "\n",
        "# \"\"\"３つで複数にわたって書くことができる（複数行にわたって文字列を書く）\n",
        "print(\"\"\"\n",
        "hey\n",
        "hello\n",
        "what\n",
        "\"\"\")"
      ]
    },
    {
      "cell_type": "code",
      "execution_count": null,
      "metadata": {
        "colab": {
          "base_uri": "https://localhost:8080/"
        },
        "id": "9yXUkCxfMCwz",
        "outputId": "d901cabe-23b5-45a9-8411-3d2be33435e3"
      },
      "outputs": [
        {
          "name": "stdout",
          "output_type": "stream",
          "text": [
            "please input this year2021\n"
          ]
        },
        {
          "data": {
            "text/plain": [
              "2022"
            ]
          },
          "execution_count": 19,
          "metadata": {},
          "output_type": "execute_result"
        }
      ],
      "source": [
        "# 変数 - 計算や処理を行うための数字や文字を入れておく箱(オブジェクトが保存されているメモリ番地の名前)\n",
        "# 変数 - プログラム中で内容が変化する\n",
        "# 定数 - プログラム中で内容が変化しない\n",
        "\n",
        "user_name = \"chani\"\n",
        "age = 42\n",
        "next_age=age+1\n",
        "year = input(\"please input this year\")\n",
        "year = int(year) + 1"
      ]
    },
    {
      "cell_type": "code",
      "execution_count": null,
      "metadata": {
        "colab": {
          "base_uri": "https://localhost:8080/"
        },
        "id": "Ehf9TcV-PLCf",
        "outputId": "6da74562-f019-4579-a538-64b7a130c20b"
      },
      "outputs": [
        {
          "name": "stdout",
          "output_type": "stream",
          "text": [
            "<class 'int'>\n",
            "<class 'float'>\n",
            "<class 'str'>\n",
            "Hello \"chani\n",
            "Hello \n",
            "chani\n",
            "3.123\n",
            "4\n",
            "3.445\n",
            "chani\n",
            "['Kosaka', 'yasutomi', 'Nao']\n",
            "3\n",
            "('Speing', 'Summer', 'Fall', 'Winter')\n",
            "('Sunday', 'Monday')\n",
            "Speing\n"
          ]
        },
        {
          "data": {
            "text/plain": [
              "139686615231776"
            ]
          },
          "execution_count": 52,
          "metadata": {},
          "output_type": "execute_result"
        }
      ],
      "source": [
        "# データの型とリスト、タプル(インデックスは０から始まる)\n",
        "# リスト - データをまとめて扱う時に最適,内容を変更できる(mutable)\n",
        "# タプル - 内容を変更できない(immutable)\n",
        "\n",
        "x=5\n",
        "y=3.4\n",
        "z=\"hello\"\n",
        "\n",
        "print(type(x))\n",
        "print(type(y))\n",
        "print(type(z))\n",
        "\n",
        "# \\を入れることで\"\"が文字列に組み込めるようになる\n",
        "a=\"Hello \\\"chani\"\n",
        "print(a)\n",
        "\n",
        "# \\nは改行\n",
        "b=a=\"Hello \\nchani\"\n",
        "print(b)\n",
        "\n",
        "# float関数を使うと文字列だったモノを数値に変換してくれる\n",
        "print(float(\"3.123\"))\n",
        "\n",
        "# int関数を使うと文字列だったモノを数値に変換してくれる\n",
        "print(int(\"4\"))\n",
        "\n",
        "# str関数を使うと数値だったモノを文字列に変換してくれる\n",
        "print(str(3.445))\n",
        "\n",
        "\n",
        "\n",
        "# リスト\n",
        "name=[\"chani\",\"yasutomi\",\"Nao\"]\n",
        "print(name[0])\n",
        "\n",
        "# name[0]=\"Kosaka\"名前（値）の変更\n",
        "name[0]=\"Kosaka\"\n",
        "print(name)\n",
        "\n",
        "# len() - 要素の数を調べる関数\n",
        "print(len(name))\n",
        "\n",
        "\n",
        "\n",
        "# タプル\n",
        "# 両方可能タプル作成可能\n",
        "# season=\"Speing\",\"Summer\",\"Fall\",\"Winter\"\n",
        "# weekday=(\"Sunday\",\"Monday\")\n",
        "\n",
        "season=\"Speing\",\"Summer\",\"Fall\",\"Winter\"\n",
        "weekday=(\"Sunday\",\"Monday\")\n",
        "\n",
        "print(season)\n",
        "print(weekday)\n",
        "\n",
        "print(season[0])\n",
        "\n",
        "# id関数 - 各オブジェクトを示すユニークな番号\n",
        "id(weekday)"
      ]
    },
    {
      "cell_type": "code",
      "execution_count": null,
      "metadata": {
        "id": "8kJKDYqYQTSQ"
      },
      "outputs": [],
      "source": [
        "# ライブラリ - 効率的にプログラムできる\n",
        "# ,を入れれば複数のライブラリをimport可能\n",
        "# インスタンス　モジュール名.クラス名(引数)\n",
        "# メソッドの実行　インスタンス名.メソッド名(引数)\n",
        "\n",
        "import calendar,math"
      ]
    },
    {
      "cell_type": "code",
      "execution_count": null,
      "metadata": {
        "colab": {
          "base_uri": "https://localhost:8080/"
        },
        "id": "aH7wdfvRUPr6",
        "outputId": "bbbe5211-2c27-4556-bfad-a2475f877edf"
      },
      "outputs": [
        {
          "name": "stdout",
          "output_type": "stream",
          "text": [
            "    January 2022\n",
            "Mo Tu We Th Fr Sa Su\n",
            "                1  2\n",
            " 3  4  5  6  7  8  9\n",
            "10 11 12 13 14 15 16\n",
            "17 18 19 20 21 22 23\n",
            "24 25 26 27 28 29 30\n",
            "31\n",
            "None\n"
          ]
        }
      ],
      "source": [
        "# インスタンス生成　　モジュール名.クラス名(引数)\n",
        "cal=calendar.TextCalendar()\n",
        "# メソッドの実行　インスタンス名.メソッド名(引数)\n",
        "print(cal.prmonth(2022,1))"
      ]
    },
    {
      "cell_type": "code",
      "execution_count": null,
      "metadata": {
        "colab": {
          "base_uri": "https://localhost:8080/"
        },
        "id": "TZlR-cyhUi2B",
        "outputId": "51b31d4a-29ab-4bbf-92c3-d0e0268700c8"
      },
      "outputs": [
        {
          "name": "stdout",
          "output_type": "stream",
          "text": [
            "    January 2022\n",
            "Su Mo Tu We Th Fr Sa\n",
            "                   1\n",
            " 2  3  4  5  6  7  8\n",
            " 9 10 11 12 13 14 15\n",
            "16 17 18 19 20 21 22\n",
            "23 24 25 26 27 28 29\n",
            "30 31\n",
            "None\n"
          ]
        }
      ],
      "source": [
        "# 日曜日始まりのカレンダーができる\n",
        "cal=calendar.TextCalendar(6)\n",
        "print(cal.prmonth(2022,1))"
      ]
    },
    {
      "cell_type": "code",
      "execution_count": null,
      "metadata": {
        "colab": {
          "base_uri": "https://localhost:8080/"
        },
        "id": "-LsTZ7V8UgM8",
        "outputId": "e8bc418d-9099-4030-d009-137cd3e906ea"
      },
      "outputs": [
        {
          "name": "stdout",
          "output_type": "stream",
          "text": [
            "     March 2018\n",
            "Mo Tu We Th Fr Sa Su\n",
            "          1  2  3  4\n",
            " 5  6  7  8  9 10 11\n",
            "12 13 14 15 16 17 18\n",
            "19 20 21 22 23 24 25\n",
            "26 27 28 29 30 31\n",
            "\n"
          ]
        }
      ],
      "source": [
        "from calendar import TextCalendar\n",
        "cal=TextCalendar()\n",
        "cals=cal.formatmonth(2018,3)\n",
        "print(cals)"
      ]
    },
    {
      "cell_type": "code",
      "execution_count": null,
      "metadata": {
        "colab": {
          "base_uri": "https://localhost:8080/"
        },
        "id": "ZShHr5ijVgwZ",
        "outputId": "f13e91e9-27b9-41bb-c149-64823b6dae85"
      },
      "outputs": [
        {
          "name": "stdout",
          "output_type": "stream",
          "text": [
            "9.0\n",
            "3.141592653589793\n",
            "15\n",
            "0\n"
          ]
        }
      ],
      "source": [
        "num=math.sqrt(81)\n",
        "print(num)\n",
        "print(math.pi)\n",
        "\n",
        "# 乱数(\n",
        "import random\n",
        "# 15~20までの乱数\n",
        "print(random.randint(15,20))\n",
        "\n",
        "# 0~5までの乱数\n",
        "print(random.randrange(5))"
      ]
    },
    {
      "cell_type": "code",
      "execution_count": null,
      "metadata": {
        "colab": {
          "base_uri": "https://localhost:8080/"
        },
        "id": "irdOopgjVsj7",
        "outputId": "f275de87-957b-443b-cad2-13a0c8629a1a"
      },
      "outputs": [
        {
          "name": "stdout",
          "output_type": "stream",
          "text": [
            "False\n",
            "False\n",
            "True\n",
            "please input score40\n",
            "D\n"
          ]
        }
      ],
      "source": [
        "# 条件演算子 - true, false\n",
        "# 最初の値で判断\n",
        "print((1,2)>(2,1))\n",
        "print([3,5]>[4,6])\n",
        "print([4,5]>[3,6])\n",
        "\n",
        "tokuten=int(input(\"please input score\"))\n",
        "if tokuten >= 80:\n",
        "    print(\"A\")\n",
        "elif tokuten >=70:\n",
        "    print(\"B\")\n",
        "elif tokuten >=60:\n",
        "    print(\"C\")\n",
        "else:\n",
        "    print(\"D\")"
      ]
    },
    {
      "cell_type": "code",
      "execution_count": null,
      "metadata": {
        "colab": {
          "base_uri": "https://localhost:8080/"
        },
        "id": "X-yBpo-VbNAi",
        "outputId": "1cba32ac-0267-422d-95dc-68c726ae405c"
      },
      "outputs": [
        {
          "name": "stdout",
          "output_type": "stream",
          "text": [
            "数を入力してください3\n",
            "奇数\n"
          ]
        }
      ],
      "source": [
        "# 条件演算式 - trueの場合の処理が最初にきて、その後に条件判断がきて、そのあとにelseの処理が来る\n",
        "kazu=int(input(\"数を入力してください\"))\n",
        "print(\"偶数\" if kazu %2 == 0 else\"奇数\")"
      ]
    },
    {
      "cell_type": "code",
      "execution_count": null,
      "metadata": {
        "colab": {
          "base_uri": "https://localhost:8080/"
        },
        "id": "3H6Sx8VXcf7W",
        "outputId": "8433524c-ea54-487f-b057-ca025ba7a2c4"
      },
      "outputs": [
        {
          "name": "stdout",
          "output_type": "stream",
          "text": [
            "man\n",
            "woman\n",
            "0\n",
            "1\n"
          ]
        }
      ],
      "source": [
        "# ループ(繰り返し) コンピューターは単純作業のSpecializt\n",
        "# ループの種類 \n",
        "# 1,for文（前判定型ループ）　- 場合によっては一度も処理されない\n",
        "# 2,while文（前判定型ループ） - 継続する条件を記述して、その条件が成り立っている場合はずっとループする\n",
        "\n",
        "genders = [\"man\",\"woman\"]\n",
        "for gender in genders:\n",
        "    print(gender)\n",
        "\n",
        "for cnt in range(2):\n",
        "    print(cnt)"
      ]
    },
    {
      "cell_type": "code",
      "execution_count": null,
      "metadata": {
        "colab": {
          "base_uri": "https://localhost:8080/"
        },
        "id": "kVja3nYceY3c",
        "outputId": "73d12bdc-3b6e-4331-8478-ac7c68759fb4"
      },
      "outputs": [
        {
          "name": "stdout",
          "output_type": "stream",
          "text": [
            "1\n",
            "2\n",
            "3\n",
            "4\n"
          ]
        },
        {
          "data": {
            "text/plain": [
              "[0, 2, 4, 6, 8, 10, 12, 14, 16, 18]"
            ]
          },
          "execution_count": 92,
          "metadata": {},
          "output_type": "execute_result"
        }
      ],
      "source": [
        "# 1個目の引数(1) - 開始する数字\n",
        "# 2個目の引数(5) - 終了する数字\n",
        "# 3個目の引数(1) - 増やする数字（増減）\n",
        "\n",
        "for cnt in range(1,5,1):\n",
        "    print(cnt)\n",
        "\n",
        "#　リストに変換することができる\n",
        "list(range(0,20,2))"
      ]
    },
    {
      "cell_type": "code",
      "execution_count": null,
      "metadata": {
        "colab": {
          "base_uri": "https://localhost:8080/"
        },
        "id": "D6KCU95CfD2E",
        "outputId": "2c9de476-d704-451a-80e4-0e8d4f47a363"
      },
      "outputs": [
        {
          "name": "stdout",
          "output_type": "stream",
          "text": [
            "0\n",
            "2\n",
            "6\n",
            "12\n",
            "20\n",
            "30\n",
            "30\n"
          ]
        }
      ],
      "source": [
        "kazu = 10\n",
        "cnt = 0\n",
        "sum = 0\n",
        "# 偶数だけを足していく数\n",
        "while cnt <= kazu:\n",
        "    sum = sum + cnt\n",
        "    cnt = cnt +2\n",
        "print(sum)\n",
        "\n",
        "# 繰り返す回数をしっかり考えないと期待した結果にならないので注意が必要（論理エラーの原因になりやすい）"
      ]
    },
    {
      "cell_type": "code",
      "execution_count": null,
      "metadata": {
        "colab": {
          "base_uri": "https://localhost:8080/"
        },
        "id": "A3ac1w6UfHs6",
        "outputId": "90d147a8-36e7-4f96-e699-5406250c26c1"
      },
      "outputs": [
        {
          "name": "stdout",
          "output_type": "stream",
          "text": [
            "tottori\n",
            "shimane\n",
            "Break Loop\n"
          ]
        }
      ],
      "source": [
        "# ループから抜ける\n",
        "# braek文 - ループ処理を中断してループから抜ける(ループそのものから抜ける)\n",
        "# continue文 - ループの中でcontinueが呼ばれたら、ループ内で以後の処理は行わず、ループの先頭に処理が戻る\n",
        "# else文 - ループのブロックの後にelseを書くことでループから抜け出した時の処理を書くことができる\n",
        "\n",
        "# braek文\n",
        "kens=[\"tottori\",\"shimane\",\"END\",\"hirosshima\",\"okayama\",\"yamaguchi\"]\n",
        "\n",
        "for ken in kens:\n",
        "    if ken==\"END\":\n",
        "        print(\"Break Loop\")\n",
        "        break\n",
        "    print(ken)\n",
        "else:\n",
        "    print(\"End Loop\")"
      ]
    },
    {
      "cell_type": "code",
      "execution_count": null,
      "metadata": {
        "colab": {
          "base_uri": "https://localhost:8080/"
        },
        "id": "QotRmDVOgo3h",
        "outputId": "bb9de62a-c247-4761-e378-90fdc37e79b2"
      },
      "outputs": [
        {
          "name": "stdout",
          "output_type": "stream",
          "text": [
            "tottori\n",
            "shimane\n",
            "END\n",
            "hirosshima\n",
            "okayama\n",
            "yamaguchi\n",
            "End Loop\n"
          ]
        }
      ],
      "source": [
        "# braek文\n",
        "kens=[\"tottori\",\"shimane\",\"END\",\"hirosshima\",\"okayama\",\"yamaguchi\"]\n",
        "\n",
        "for ken in kens:\n",
        "    print(ken)\n",
        "else:\n",
        "    print(\"End Loop\")"
      ]
    },
    {
      "cell_type": "code",
      "execution_count": null,
      "metadata": {
        "colab": {
          "base_uri": "https://localhost:8080/"
        },
        "id": "8hvGu1lpkTaV",
        "outputId": "0d971424-fa85-4d47-8206-3707cd08f2be"
      },
      "outputs": [
        {
          "name": "stdout",
          "output_type": "stream",
          "text": [
            "tottori\n",
            "shimane\n",
            "Continue Loop\n",
            "hirosshima\n",
            "okayama\n",
            "yamaguchi\n",
            "End Loop\n"
          ]
        }
      ],
      "source": [
        "# continue文 - 以後の処理は実行しない\n",
        "kens=[\"tottori\",\"shimane\",\"hirosshima\",\"okayama\",\"yamaguchi\"]\n",
        "\n",
        "for ken in kens:\n",
        "    if ken==\"END\":\n",
        "        print(\"Continue Loop\")\n",
        "        continue\n",
        "    print(ken)\n",
        "else:\n",
        "    print(\"End Loop\")"
      ]
    },
    {
      "cell_type": "code",
      "execution_count": null,
      "metadata": {
        "colab": {
          "base_uri": "https://localhost:8080/"
        },
        "id": "tQIpSHHmkqAW",
        "outputId": "33c5b883-578e-4649-b721-8abed939a723"
      },
      "outputs": [
        {
          "name": "stdout",
          "output_type": "stream",
          "text": [
            "0:tottori\n",
            "1:shimane\n",
            "2:hirosshima\n",
            "3:okayama\n",
            "4:yamaguchi\n"
          ]
        }
      ],
      "source": [
        "# enumerate関数 - リストなどをインデックスと要素のペアにして戻してくれる\n",
        "kens=[\"tottori\",\"shimane\",\"hirosshima\",\"okayama\",\"yamaguchi\"]\n",
        "for index, ken in enumerate(kens):\n",
        "    print(str(index)+\":\"+ken)"
      ]
    },
    {
      "cell_type": "code",
      "execution_count": null,
      "metadata": {
        "colab": {
          "base_uri": "https://localhost:8080/"
        },
        "id": "VRq-KzullsJv",
        "outputId": "19bceafc-38ef-4cce-e003-38a4ea17efdb"
      },
      "outputs": [
        {
          "name": "stdout",
          "output_type": "stream",
          "text": [
            "Ken:tottoriCity:tottori\n",
            "Ken:shimaneCity:Mastue\n",
            "Ken:hirosshimaCity:hirosshima\n",
            "Ken:okayamaCity:okayama\n",
            "Ken:yamaguchiCity:yamaguchi\n"
          ]
        }
      ],
      "source": [
        "# zip関数 - 複数のリストをひとまとめに処理ができる\n",
        "kens=[\"tottori\",\"shimane\",\"hirosshima\",\"okayama\",\"yamaguchi\"]\n",
        "cities=[\"tottori\",\"Mastue\",\"hirosshima\",\"okayama\",\"yamaguchi\"]\n",
        "\n",
        "for (ken,city) in zip(kens,cities):\n",
        "    print(\"Ken:\"+ken+\"City:\"+city)"
      ]
    },
    {
      "cell_type": "code",
      "execution_count": null,
      "metadata": {
        "colab": {
          "base_uri": "https://localhost:8080/"
        },
        "id": "Sw_molg7mJjw",
        "outputId": "30fba1f6-a6d9-4003-85b6-fe7ab00e1836"
      },
      "outputs": [
        {
          "name": "stdout",
          "output_type": "stream",
          "text": [
            "年齢を入力してください1\n",
            "未成年です\n"
          ]
        }
      ],
      "source": [
        "# 例外(exception) - プログラムの実行時に発生する、コンパイルの時点では想定できなかった実行時エラー。この時に例外処理対処を行う。\n",
        "# tryの部分には例外が発生しそうな処理を記述する\n",
        "# exceptの部分には例外発生時の処理を記述する\n",
        "# elsemには例外が発生しなかった場合の処理を記述する\n",
        "\n",
        "try:\n",
        "    age=int(input(\"年齢を入力してください\"))\n",
        "except:\n",
        "    print(\"数値ではなく、文字が入力されました\")\n",
        "else:\n",
        "    if age >= 18:\n",
        "        print(\"成年です\")\n",
        "    else:\n",
        "        print(\"未成年です\")"
      ]
    },
    {
      "cell_type": "code",
      "execution_count": null,
      "metadata": {
        "colab": {
          "base_uri": "https://localhost:8080/"
        },
        "id": "57HDLgKdnKM7",
        "outputId": "0965d159-0b20-4643-cbdf-de3d2eebd903"
      },
      "outputs": [
        {
          "name": "stdout",
          "output_type": "stream",
          "text": [
            "<class 'int'>\n",
            "<class 'float'>\n",
            "<class 'str'>\n"
          ]
        }
      ],
      "source": [
        "# 文字列操作\n",
        "# 型を知る - type関数\n",
        "# type関数でオブジェクトの型がわかる\n",
        "# len関数で文字列の長さを取得できる\n",
        "\n",
        "\n",
        "x=5\n",
        "y=3.1\n",
        "z=\"hello\"\n",
        "\n",
        "print(type(x))\n",
        "print(type(y))\n",
        "print(type(z))"
      ]
    },
    {
      "cell_type": "code",
      "execution_count": null,
      "metadata": {
        "colab": {
          "base_uri": "https://localhost:8080/"
        },
        "id": "oy3SAdSao5e_",
        "outputId": "990fba1d-ffe4-477b-bfcd-45fbf9795907"
      },
      "outputs": [
        {
          "name": "stdout",
          "output_type": "stream",
          "text": [
            "hello\n",
            "5\n",
            "H\n",
            "e\n",
            "l\n",
            "l\n",
            "o\n"
          ]
        }
      ],
      "source": [
        "# メソッドの呼び方 - インスタンス名.メソッド()　\n",
        "# xxx.lower() - 小文字になる\n",
        "# len() - 要素数確認\n",
        "\n",
        "x=\"Hello\"\n",
        "print(x.lower())\n",
        "print(len(x))\n",
        "\n",
        "for c in x:\n",
        "    print(c)"
      ]
    },
    {
      "cell_type": "code",
      "execution_count": null,
      "metadata": {
        "colab": {
          "base_uri": "https://localhost:8080/"
        },
        "id": "eEN14fHOpDIv",
        "outputId": "2acc3d1a-5633-424c-aec0-eb17e52dc231"
      },
      "outputs": [
        {
          "name": "stdout",
          "output_type": "stream",
          "text": [
            "H\n",
            "Hel\n",
            "llo\n"
          ]
        }
      ],
      "source": [
        "# スライス - スライスで指定した範囲の文字列を取り出すことができる\n",
        "print(x[0:1])\n",
        "print(x[:3])\n",
        "print(x[2:])"
      ]
    },
    {
      "cell_type": "code",
      "execution_count": 276,
      "metadata": {
        "colab": {
          "base_uri": "https://localhost:8080/"
        },
        "id": "-IqguOOepojy",
        "outputId": "38f7966e-be4f-4748-e403-9f998d10cce2"
      },
      "outputs": [
        {
          "output_type": "stream",
          "name": "stdout",
          "text": [
            "False\n",
            "True\n",
            "Ken:tottori City:大阪区北区\n",
            "Ken:shimane City:大阪区赤羽\n",
            "Ken:hirosshima City:東京都渋谷区\n",
            "Ken:okayama City:東京都港区\n"
          ]
        }
      ],
      "source": [
        "# 文字があるのか検索 - true(ある) or false（ない　）\n",
        "x=\"ABCDEFG\"\n",
        "print(\"Z\" in x)\n",
        "print(\"G\" in x)\n",
        "\n",
        "# findk関数\n",
        "for (ken,city) in zip(kens,cities):\n",
        "    print(\"Ken:\" + ken + \" City:\"+city)"
      ]
    },
    {
      "cell_type": "code",
      "execution_count": null,
      "metadata": {
        "id": "_dS6xkbMp7AC"
      },
      "outputs": [],
      "source": [
        "# 例外(Exception)\n",
        "# プログラムの実行時に発生する、コンパイルの時点では想定できなかったエラー\n",
        "# 実行時エラー発生時、例外処理で対処を行う\n",
        "\n",
        "age = int(input(\"年齢を入力してください\"))"
      ]
    },
    {
      "cell_type": "code",
      "source": [
        "try:\n",
        "    age = int(input(\"年齢を入力してください\"))\n",
        "except:\n",
        "    print(\"数値の入力ではなく文字が入力されました\")"
      ],
      "metadata": {
        "colab": {
          "base_uri": "https://localhost:8080/"
        },
        "id": "MaAFrEmQIHDV",
        "outputId": "a9ff3f85-1499-43e5-d15e-6745f47e9ed2"
      },
      "execution_count": 277,
      "outputs": [
        {
          "output_type": "stream",
          "name": "stdout",
          "text": [
            "年齢を入力してくださいだ\n",
            "数値の入力ではなく文字が入力されました\n"
          ]
        }
      ]
    },
    {
      "cell_type": "code",
      "source": [
        "try:\n",
        "    age = int(input(\"年齢を入力してください\"))\n",
        "except:\n",
        "    print(\"数値の入力ではなく文字が入力されました\")\n",
        "else:\n",
        "    if age >= 18:\n",
        "        print(\"成年です\")\n",
        "    else:\n",
        "        print(\"未成年です\")"
      ],
      "metadata": {
        "colab": {
          "base_uri": "https://localhost:8080/"
        },
        "id": "2TMhyLfrIHa9",
        "outputId": "9d88dcf5-4475-4fe5-d19b-dbb730b63b28"
      },
      "execution_count": 278,
      "outputs": [
        {
          "output_type": "stream",
          "name": "stdout",
          "text": [
            "年齢を入力してください12\n",
            "未成年です\n"
          ]
        }
      ]
    },
    {
      "cell_type": "code",
      "source": [
        "# 文字列操作\n",
        "# 型を知る、メソッドを呼ぶ\n",
        "# type関数でオブジェクトの型を確認できる\n",
        "# pythonでのメソッドの呼び方　インスタンス名.メソッド() \n",
        "\n",
        "x = 5\n",
        "y = 3.1\n",
        "z = \"Hello\"\n",
        "print(type(x))\n",
        "print(type(y))\n",
        "print(type(z))"
      ],
      "metadata": {
        "colab": {
          "base_uri": "https://localhost:8080/"
        },
        "id": "jlTF3HxQIKHs",
        "outputId": "3f1198f4-fb5f-4c50-8ed2-ae6250022169"
      },
      "execution_count": 279,
      "outputs": [
        {
          "output_type": "stream",
          "name": "stdout",
          "text": [
            "<class 'int'>\n",
            "<class 'float'>\n",
            "<class 'str'>\n"
          ]
        }
      ]
    },
    {
      "cell_type": "code",
      "source": [
        "# メソッドを呼び出す・文字の取り出し・文字数の取得\n",
        "# len関数で文字列の長さを取得できる\n",
        "# スライスで指定した範囲の文字列を取り出すことができる\n",
        "\n",
        "x = \"Hello\"\n",
        "print(x.lower())\n",
        "\n",
        "print(len(x))\n",
        "\n",
        "for c in x:\n",
        "    print(c)\n",
        "\n",
        "print(x[0:1])\n",
        "print(x[:3])\n",
        "print(x[2:])"
      ],
      "metadata": {
        "colab": {
          "base_uri": "https://localhost:8080/"
        },
        "id": "Nz-A6PnYJTr6",
        "outputId": "0b68cbb0-71e8-4d77-b3b3-9dd49e1d9c7f"
      },
      "execution_count": 280,
      "outputs": [
        {
          "output_type": "stream",
          "name": "stdout",
          "text": [
            "hello\n",
            "5\n",
            "H\n",
            "e\n",
            "l\n",
            "l\n",
            "o\n",
            "H\n",
            "Hel\n",
            "llo\n"
          ]
        }
      ]
    },
    {
      "cell_type": "code",
      "source": [
        "x = \"ABCDEFG\"\n",
        "print(\"Z\" in x)\n",
        "print(\"G\" in x)\n",
        "\n",
        "print(x.find(\"Z\"))\n",
        "print(x.find(\"G\"))"
      ],
      "metadata": {
        "colab": {
          "base_uri": "https://localhost:8080/"
        },
        "id": "H1G8nv2VJb8k",
        "outputId": "7389d30f-45c7-4dde-b7d0-48c619b16da2"
      },
      "execution_count": 281,
      "outputs": [
        {
          "output_type": "stream",
          "name": "stdout",
          "text": [
            "False\n",
            "True\n",
            "-1\n",
            "6\n"
          ]
        }
      ]
    },
    {
      "cell_type": "code",
      "source": [
        "x = 18\n",
        "y = \"成人\"\n",
        "print(\"{}歳は{}です。\".format(x,y))\n",
        "print(\"{1}は{0}です。\".format(x,y))\n",
        "print(\"{0:,}\".format(1000000))"
      ],
      "metadata": {
        "colab": {
          "base_uri": "https://localhost:8080/"
        },
        "id": "d95Xx7C7J5Om",
        "outputId": "5d3b0cca-b671-4284-aac7-b7499d410c02"
      },
      "execution_count": 282,
      "outputs": [
        {
          "output_type": "stream",
          "name": "stdout",
          "text": [
            "18歳は成人です。\n",
            "成人は18です。\n",
            "1,000,000\n"
          ]
        }
      ]
    },
    {
      "cell_type": "code",
      "source": [
        "# リストの操作\n",
        "# リストは変更できるがタプルは変更できない\n",
        "# リストは追加・変更・削除ができる\n",
        "# リストの最大、最小、合計を求めることができる\n",
        "# リストの要素を並べ替えることができる\n",
        "# コマンドラインから引数を受け取ることができる\n",
        "\n",
        "list = [\"月\",\"火\"] + [\"水\",\"木\"]\n",
        "print(list)\n",
        "\n",
        "list = [\"山\"] * 4\n",
        "print(list)\n",
        "list = [\"月\",\"火\"] + [\"水\",\"木\"]\n",
        "\n",
        "print(list[2:4])\n",
        "print(list[::2])"
      ],
      "metadata": {
        "colab": {
          "base_uri": "https://localhost:8080/"
        },
        "id": "CYZaSuqvJ94l",
        "outputId": "086c74ca-b80b-44bf-bd91-4ed9d5436baa"
      },
      "execution_count": 283,
      "outputs": [
        {
          "output_type": "stream",
          "name": "stdout",
          "text": [
            "['月', '火', '水', '木']\n",
            "['山', '山', '山', '山']\n",
            "['水', '木']\n",
            "['月', '水']\n"
          ]
        }
      ]
    },
    {
      "cell_type": "code",
      "source": [
        "weekday = \"月,火,水,木,金,土,日\"\n",
        "weekday_list = weekday.split(\",\")\n",
        "print(weekday_list)"
      ],
      "metadata": {
        "colab": {
          "base_uri": "https://localhost:8080/"
        },
        "id": "MxbR4aMeKn9t",
        "outputId": "59c5e23d-9dda-4fdb-e6db-aacfe2d0cd8a"
      },
      "execution_count": 284,
      "outputs": [
        {
          "output_type": "stream",
          "name": "stdout",
          "text": [
            "['月', '火', '水', '木', '金', '土', '日']\n"
          ]
        }
      ]
    },
    {
      "cell_type": "code",
      "source": [
        "list = [\"月\",\"火\",\"水\",\"木\",\"金\",\"土\",\"日\"]\n",
        "print(\"日\" in list)\n",
        "print(\"日\" not in list)\n",
        "print(list.index(\"月\"))\n",
        "print(list.index(\"土\"))"
      ],
      "metadata": {
        "colab": {
          "base_uri": "https://localhost:8080/"
        },
        "id": "FSk3Wrm2KrKS",
        "outputId": "921f1488-d394-4614-8d29-0924aee7c576"
      },
      "execution_count": 285,
      "outputs": [
        {
          "output_type": "stream",
          "name": "stdout",
          "text": [
            "True\n",
            "False\n",
            "0\n",
            "5\n"
          ]
        }
      ]
    },
    {
      "cell_type": "code",
      "source": [
        "list = [\"月\",\"火\",\"水\",\"森\",\"金\",\"土\",\"日\"]\n",
        "list[3]=\"木\"\n",
        "print(list)\n",
        "\n",
        "list = [\"月\",\"火\",\"水\",\"森\",\"金\",\"土\"]\n",
        "list.append(\"日\")\n",
        "print(list)"
      ],
      "metadata": {
        "colab": {
          "base_uri": "https://localhost:8080/"
        },
        "id": "9jgrgqzIKscB",
        "outputId": "fdc0cd38-7cf7-4a1c-8d51-ad1d1adf45f5"
      },
      "execution_count": 286,
      "outputs": [
        {
          "output_type": "stream",
          "name": "stdout",
          "text": [
            "['月', '火', '水', '木', '金', '土', '日']\n",
            "['月', '火', '水', '森', '金', '土', '日']\n"
          ]
        }
      ]
    },
    {
      "cell_type": "code",
      "source": [
        "lst =[\"A\",[\"B\",\"C\",\"D\"],\"E\"]\n",
        "print(lst[0])\n",
        "print(lst[1][2])\n",
        "print(lst[2])"
      ],
      "metadata": {
        "colab": {
          "base_uri": "https://localhost:8080/"
        },
        "id": "q1D3XbeGKu8_",
        "outputId": "a1584b9e-f2e2-41cc-b548-c90e13e8d861"
      },
      "execution_count": 287,
      "outputs": [
        {
          "output_type": "stream",
          "name": "stdout",
          "text": [
            "A\n",
            "D\n",
            "E\n"
          ]
        }
      ]
    },
    {
      "cell_type": "code",
      "source": [
        "list = [\"月\",\"火\",\"水\",\"森\",\"金\",\"土\",\"日\"]\n",
        "list.remove(\"火\")\n",
        "print(list)\n",
        "\n",
        "del list[2]\n",
        "print(list)\n",
        "\n",
        "del list[1:3]\n",
        "print(list)"
      ],
      "metadata": {
        "colab": {
          "base_uri": "https://localhost:8080/"
        },
        "id": "lhmo-L-1KyvM",
        "outputId": "bd48c4b7-430a-4319-e4a0-dc1cbfb2145d"
      },
      "execution_count": 288,
      "outputs": [
        {
          "output_type": "stream",
          "name": "stdout",
          "text": [
            "['月', '水', '森', '金', '土', '日']\n",
            "['月', '水', '金', '土', '日']\n",
            "['月', '土', '日']\n"
          ]
        }
      ]
    },
    {
      "cell_type": "code",
      "source": [
        "list = [\"月\",\"火\",\"水\",\"木\",\"金\",\"土\",\"日\"]\n",
        "list.reverse()\n",
        "print(list)"
      ],
      "metadata": {
        "colab": {
          "base_uri": "https://localhost:8080/"
        },
        "id": "LN5XB7cVK0km",
        "outputId": "3c824818-7d9d-4173-a328-7c568883d9de"
      },
      "execution_count": 289,
      "outputs": [
        {
          "output_type": "stream",
          "name": "stdout",
          "text": [
            "['日', '土', '金', '木', '水', '火', '月']\n"
          ]
        }
      ]
    },
    {
      "cell_type": "code",
      "source": [
        "list = [10,20,30,40,50,60,70,80,90,100]\n",
        "print(max(list))\n",
        "print(min(list))\n",
        "\n",
        "list.sort(reverse=True)\n",
        "print(list)\n",
        "\n",
        "list.sort()\n",
        "print(list)\n",
        "\n",
        "list.sort(reverse=True)\n",
        "list2 = sorted(list)\n",
        "print(list)\n",
        "print(list2)\n",
        "\n",
        "list2 = sorted(list,reverse=True)\n",
        "print(list)"
      ],
      "metadata": {
        "colab": {
          "base_uri": "https://localhost:8080/"
        },
        "id": "SX3uD_q5K385",
        "outputId": "e310df53-5313-4c9c-c836-a62528ab8f0d"
      },
      "execution_count": 291,
      "outputs": [
        {
          "output_type": "stream",
          "name": "stdout",
          "text": [
            "100\n",
            "10\n",
            "[100, 90, 80, 70, 60, 50, 40, 30, 20, 10]\n",
            "[10, 20, 30, 40, 50, 60, 70, 80, 90, 100]\n",
            "[100, 90, 80, 70, 60, 50, 40, 30, 20, 10]\n",
            "[10, 20, 30, 40, 50, 60, 70, 80, 90, 100]\n",
            "[100, 90, 80, 70, 60, 50, 40, 30, 20, 10]\n"
          ]
        }
      ]
    },
    {
      "cell_type": "code",
      "source": [
        "#コマンドプロンプトからパラメータを受け取る\n",
        "import sys\n",
        "for i in range(0,len(sys.argv)):\n",
        "    print(sys.argv[i])"
      ],
      "metadata": {
        "colab": {
          "base_uri": "https://localhost:8080/"
        },
        "id": "Vmmfkr9bK5a0",
        "outputId": "d8379596-1c11-410c-fc37-b6543678351c"
      },
      "execution_count": 292,
      "outputs": [
        {
          "output_type": "stream",
          "name": "stdout",
          "text": [
            "/usr/local/lib/python3.7/dist-packages/ipykernel_launcher.py\n",
            "-f\n",
            "/root/.local/share/jupyter/runtime/kernel-bbe727e1-c1d5-43d8-b839-b43a155042b3.json\n"
          ]
        }
      ]
    },
    {
      "cell_type": "code",
      "source": [
        "# 辞書と集合\n",
        "# 辞書はKey-Valueでデータを保存する\n",
        "# Keyは重複のない文字列, 集合はリストやタプルと違い要素の重複が許されない \n",
        "# 辞書はdictクラス、集合はsetクラスのオブジェクト\n",
        "# リスト、タプルー>シーケンス型 \n",
        "# 辞書 ー>マッピング型"
      ],
      "metadata": {
        "id": "0N7cpbeAK-2k"
      },
      "execution_count": null,
      "outputs": []
    },
    {
      "cell_type": "code",
      "source": [
        "months = {\"Jan\":\"1月\",\"Feb\":\"2月\",\"Mar\":\"3月\"}\n",
        "print(len(months))\n",
        "print(months[\"Feb\"])\n",
        "\n",
        "months[\"Apr\"] = \"4月\"\n",
        "print(months)\n",
        "\n",
        "del(months[\"Feb\"])\n",
        "print(months)\n",
        "print(\"Feb\" in months)\n",
        "print(\"Apr\" in months)\n",
        "print(months.keys())\n",
        "print(months.values())\n",
        "print(months.items())\n",
        "for en,jp in months.items():\n",
        "    print(\"英語:{} 日本語:{}\".format(en,jp))"
      ],
      "metadata": {
        "colab": {
          "base_uri": "https://localhost:8080/"
        },
        "id": "Bitxs4xOLQSM",
        "outputId": "9e65c8c3-225c-40ab-e480-8f4386bdae05"
      },
      "execution_count": 293,
      "outputs": [
        {
          "output_type": "stream",
          "name": "stdout",
          "text": [
            "3\n",
            "2月\n",
            "{'Jan': '1月', 'Feb': '2月', 'Mar': '3月', 'Apr': '4月'}\n",
            "{'Jan': '1月', 'Mar': '3月', 'Apr': '4月'}\n",
            "False\n",
            "True\n",
            "dict_keys(['Jan', 'Mar', 'Apr'])\n",
            "dict_values(['1月', '3月', '4月'])\n",
            "dict_items([('Jan', '1月'), ('Mar', '3月'), ('Apr', '4月')])\n",
            "英語:Jan 日本語:1月\n",
            "英語:Mar 日本語:3月\n",
            "英語:Apr 日本語:4月\n"
          ]
        }
      ]
    },
    {
      "cell_type": "code",
      "source": [
        "months = {\"1月\",\"2月\",\"3月\",\"4月\",\"1月\"}\n",
        "print(months)\n",
        "for x in months:\n",
        "    print(x)\n",
        "\n",
        "list = [1,2,3,2,1,2,3,4,3,12,5,3,3]\n",
        "sets = set(list)\n",
        "print(sets)\n",
        "\n",
        "sets.add(100)\n",
        "print(sets)\n",
        "\n",
        "sets.remove(1)\n",
        "print(sets)\n",
        "\n",
        "sets.clear()\n",
        "print(sets)"
      ],
      "metadata": {
        "colab": {
          "base_uri": "https://localhost:8080/"
        },
        "id": "aTgSDi5nLRIJ",
        "outputId": "92ee6b65-1c18-4594-9b31-b50449d1c7af"
      },
      "execution_count": 294,
      "outputs": [
        {
          "output_type": "stream",
          "name": "stdout",
          "text": [
            "{'2月', '3月', '1月', '4月'}\n",
            "2月\n",
            "3月\n",
            "1月\n",
            "4月\n",
            "{1, 2, 3, 4, 5, 12}\n",
            "{1, 2, 3, 4, 5, 100, 12}\n",
            "{2, 3, 4, 5, 100, 12}\n",
            "set()\n"
          ]
        }
      ]
    },
    {
      "cell_type": "code",
      "source": [
        "kazu = {1,2,3,4,5,6,7,8,9,10}\n",
        "kisuu = {1,3,5,7,9,11,13,15}\n",
        "\n",
        "print(kazu | kisuu)\n",
        "print(kazu & kisuu)\n",
        "print(kazu - kisuu)\n",
        "print(kazu ^ kisuu)"
      ],
      "metadata": {
        "colab": {
          "base_uri": "https://localhost:8080/"
        },
        "id": "hf7pFj6dLRJf",
        "outputId": "629e224d-27ff-41f7-fed3-ea6b1fc40c68"
      },
      "execution_count": 295,
      "outputs": [
        {
          "output_type": "stream",
          "name": "stdout",
          "text": [
            "{1, 2, 3, 4, 5, 6, 7, 8, 9, 10, 11, 13, 15}\n",
            "{1, 3, 5, 7, 9}\n",
            "{2, 4, 6, 8, 10}\n",
            "{2, 4, 6, 8, 10, 11, 13, 15}\n"
          ]
        }
      ]
    },
    {
      "cell_type": "code",
      "source": [
        "# 内包表記\n",
        "# 式 for 変数 in イテレート可能オブジェクト \n",
        "# 式 for 変数 in オブジェクト if 条件式 \n",
        "# リストや辞書、集合を生成できる \n",
        "# 高速に動作する, タプルに内包表記はない\n",
        "\n",
        "#2の0乗から2の16乗までをリストに格納\n",
        "bin = []\n",
        "for n in range(0,17,1):\n",
        "    bin.append(2**n)\n",
        "print(bin)\n",
        "\n",
        "#内包表記で記述\n",
        "bin = [2**n for n in range(0,17,1)]\n",
        "print(bin)"
      ],
      "metadata": {
        "colab": {
          "base_uri": "https://localhost:8080/"
        },
        "id": "TaXax_FcLRLh",
        "outputId": "b8bae1fb-64a8-415a-cd91-5ecd8aeb8936"
      },
      "execution_count": 296,
      "outputs": [
        {
          "output_type": "stream",
          "name": "stdout",
          "text": [
            "[1, 2, 4, 8, 16, 32, 64, 128, 256, 512, 1024, 2048, 4096, 8192, 16384, 32768, 65536]\n",
            "[1, 2, 4, 8, 16, 32, 64, 128, 256, 512, 1024, 2048, 4096, 8192, 16384, 32768, 65536]\n"
          ]
        }
      ]
    },
    {
      "cell_type": "code",
      "source": [
        "#リストをもとに新しいリストを作成\n",
        "price = [100,250,300]\n",
        "tax = 1.08\n",
        "total = [int(p*tax) for p in price]\n",
        "print(total)"
      ],
      "metadata": {
        "colab": {
          "base_uri": "https://localhost:8080/"
        },
        "id": "BsQ2n681LRNG",
        "outputId": "cf5bbd99-642c-4339-b8ee-14f04ece1679"
      },
      "execution_count": 299,
      "outputs": [
        {
          "output_type": "stream",
          "name": "stdout",
          "text": [
            "[108, 270, 324]\n"
          ]
        }
      ]
    },
    {
      "cell_type": "code",
      "source": [
        "#文字列を利用したリストの作成\n",
        "rank = [r +\"ランク\" for r in \"ABCDEF\"]\n",
        "print(rank)"
      ],
      "metadata": {
        "colab": {
          "base_uri": "https://localhost:8080/"
        },
        "id": "pa8yVel8LRO7",
        "outputId": "f81aa528-a2e2-474d-c01c-cbe6c07c1aca"
      },
      "execution_count": 298,
      "outputs": [
        {
          "output_type": "stream",
          "name": "stdout",
          "text": [
            "['Aランク', 'Bランク', 'Cランク', 'Dランク', 'Eランク', 'Fランク']\n"
          ]
        }
      ]
    },
    {
      "cell_type": "code",
      "source": [
        "#条件を満たす要素だけでリストを作成\n",
        "guusuu = [n for n in range(0,10,1) if n % 2 == 0]\n",
        "print(guusuu)"
      ],
      "metadata": {
        "colab": {
          "base_uri": "https://localhost:8080/"
        },
        "id": "Hc-rpGmfLRQu",
        "outputId": "e803436b-6f07-4703-91b8-d55b1a1c72ad"
      },
      "execution_count": 300,
      "outputs": [
        {
          "output_type": "stream",
          "name": "stdout",
          "text": [
            "[0, 2, 4, 6, 8]\n"
          ]
        }
      ]
    },
    {
      "cell_type": "code",
      "source": [
        "#指定した県の市の名前を表示\n",
        "citys=[\"鳥取県米子市\",\"鳥取県境港市\",\"広島県福山市\"]\n",
        "tottori_citys = [city[3:] for city in citys if city.startswith(\"鳥取県\")]\n",
        "print(tottori_citys)"
      ],
      "metadata": {
        "colab": {
          "base_uri": "https://localhost:8080/"
        },
        "id": "-Tm9zWB2LRSS",
        "outputId": "55bdd273-7d2c-450a-cfb7-05b073e5813d"
      },
      "execution_count": 301,
      "outputs": [
        {
          "output_type": "stream",
          "name": "stdout",
          "text": [
            "['米子市', '境港市']\n"
          ]
        }
      ]
    },
    {
      "cell_type": "code",
      "source": [
        "#合格者の抽出\n",
        "test = [(\"A\",\"合格\"),(\"B\",\"合格\"),(\"C\",\"不合格\"),(\"D\",\"合格\"),]\n",
        "passed = [x[0] for x in test if x[1] == \"合格\"]\n",
        "print(passed)"
      ],
      "metadata": {
        "colab": {
          "base_uri": "https://localhost:8080/"
        },
        "id": "MgPEEm2VLRUI",
        "outputId": "132c6924-8724-44a1-928e-0957042f127d"
      },
      "execution_count": 302,
      "outputs": [
        {
          "output_type": "stream",
          "name": "stdout",
          "text": [
            "['A', 'B', 'D']\n"
          ]
        }
      ]
    },
    {
      "cell_type": "code",
      "source": [
        "#辞書の内包表記の利用\n",
        "teams = [\"A\",\"B\"]\n",
        "team_dic = {t:0 for t in teams}\n",
        "print(team_dic)\n",
        "\n",
        "points = [40,59]\n",
        "team_dic = {t:p for t,p in zip(teams,points)}\n",
        "print(team_dic)\n",
        "\n",
        "team_dic = {str(p):t for (t,p) in team_dic.items()}\n",
        "print(team_dic)"
      ],
      "metadata": {
        "colab": {
          "base_uri": "https://localhost:8080/"
        },
        "id": "RYB_fVodLRV9",
        "outputId": "b0143f0f-4f13-4582-85cd-752f252598b5"
      },
      "execution_count": 303,
      "outputs": [
        {
          "output_type": "stream",
          "name": "stdout",
          "text": [
            "{'A': 0, 'B': 0}\n",
            "{'A': 40, 'B': 59}\n",
            "{'40': 'A', '59': 'B'}\n"
          ]
        }
      ]
    },
    {
      "cell_type": "code",
      "source": [
        "#集合の内包表記\n",
        "point = [10,10,20,100,40,50,60]\n",
        "fails = {x for x in point if x <= 60}\n",
        "print(fails)"
      ],
      "metadata": {
        "colab": {
          "base_uri": "https://localhost:8080/"
        },
        "id": "AiTFCB4kLRXv",
        "outputId": "2572e485-02d5-4858-ba7c-8f750f0de92b"
      },
      "execution_count": 304,
      "outputs": [
        {
          "output_type": "stream",
          "name": "stdout",
          "text": [
            "{40, 10, 50, 20, 60}\n"
          ]
        }
      ]
    },
    {
      "cell_type": "code",
      "source": [
        "# 関数の作成と呼び出し\n",
        "# 関数はdef文\n",
        "\n",
        "# def 関数(引数1,引数2...): \n",
        "#     処理(インデントが必要) \n",
        "#     return 戻り値\n",
        "\n",
        "# ミュータブル(参照渡し) - 値が変化するオブジェクト, リスト型、辞書型、集合型 •\n",
        "# イミュータブル(値渡し) - 値が変化しないオブジェクト, 文字列型、数値型、タプル型\n",
        "\n",
        "# 関数には値を渡すための引数(ひきすう)がある\n",
        "# 関数が戻す値を戻り値(もどりち)という\n",
        "# 引数は値渡しと参照渡しがある\n",
        "# returnで戻す関数にすればあまり気にしなくてOK\n",
        "\n",
        "#税込み金額の価格を返す関数\n",
        "def getPrice(price,tax):\n",
        "    return int(price*tax)\n",
        "\n",
        "print(getPrice(100,1.08))\n",
        "print(getPrice(price=100,tax=1.08))\n",
        "#print(getPrice(price=100,1.08)) #エラーになる\n",
        "\n",
        "print(getPrice(100,tax=1.08))\n",
        "print(getPrice(tax=1.08,price=100))"
      ],
      "metadata": {
        "colab": {
          "base_uri": "https://localhost:8080/"
        },
        "id": "Q1S0UjwBLRZj",
        "outputId": "72b38d08-81a0-49e9-be9d-ec292fddf76c"
      },
      "execution_count": 305,
      "outputs": [
        {
          "output_type": "stream",
          "name": "stdout",
          "text": [
            "108\n",
            "108\n",
            "108\n",
            "108\n"
          ]
        }
      ]
    },
    {
      "cell_type": "code",
      "source": [
        "#引数にデフォルト値を設定する\n",
        "def getPrice2(price,tax=1.08):\n",
        "    return int(price*tax)\n",
        "print(getPrice2(1000))"
      ],
      "metadata": {
        "colab": {
          "base_uri": "https://localhost:8080/"
        },
        "id": "zrjaNpfcLRbM",
        "outputId": "877de263-01e6-446e-bb27-979d7db9dab8"
      },
      "execution_count": 306,
      "outputs": [
        {
          "output_type": "stream",
          "name": "stdout",
          "text": [
            "1080\n"
          ]
        }
      ]
    },
    {
      "cell_type": "code",
      "source": [
        "#リストの値を変更する\n",
        "list = [\"A\",\"B\"]\n",
        "def addC(list_item):\n",
        "    list_item.append(\"C\")\n",
        "\n",
        "addC(list)\n",
        "print(list)"
      ],
      "metadata": {
        "colab": {
          "base_uri": "https://localhost:8080/"
        },
        "id": "A-5XpmPFMJnt",
        "outputId": "17e51ad6-cff8-49c2-f104-c35e21a4c240"
      },
      "execution_count": 307,
      "outputs": [
        {
          "output_type": "stream",
          "name": "stdout",
          "text": [
            "['A', 'B', 'C']\n"
          ]
        }
      ]
    },
    {
      "cell_type": "code",
      "source": [
        "#グローバル変数の利用\n",
        "x = 0\n",
        "def setCount(y):\n",
        "    x = y  \n",
        "def setCount2(y):\n",
        "    global x\n",
        "    x = y    \n",
        "setCount(10)\n",
        "print(x)\n",
        "setCount2(12)\n",
        "print(x)"
      ],
      "metadata": {
        "colab": {
          "base_uri": "https://localhost:8080/"
        },
        "id": "ETagW5GSMJqt",
        "outputId": "8e2cffb4-b87f-4224-e48d-af5c8d7204bc"
      },
      "execution_count": 308,
      "outputs": [
        {
          "output_type": "stream",
          "name": "stdout",
          "text": [
            "0\n",
            "12\n"
          ]
        }
      ]
    },
    {
      "cell_type": "code",
      "source": [
        "# 可変長引数と無名関数\n",
        "# 可変長引数 - 関数を利用する時、引数として与える値が複数の時に使われる\n",
        "# 例:keisan(3,4,5,3,2,3,4,3,2,mode=“+”)\n",
        "\n",
        "# 無名関数 - lambda式といい、簡単な関数を作る時に利用する\n",
        "# 利用方法は、関数型の変数に代入して利用する \n",
        "# 例 関数名 = lambda 引数:処理 \n",
        "# 無名関数にreturnはない\n",
        "\n",
        "# 2個目以降の引数にはキーワードが必要。\n",
        "# **を使うと引数そのものを辞書で渡せる\n",
        "# ラムダ式は無理に使う必要はない\n",
        "\n",
        "#可変長引数を用いた関数\n",
        "def keisan(*kazu,mode):\n",
        "    total = 0\n",
        "    if mode == \"+\":\n",
        "        for i in kazu:\n",
        "            total += i\n",
        "    if mode == \"-\":\n",
        "        for i in kazu:\n",
        "            total -= i\n",
        "    return total\n",
        "print(keisan(1,2,3,4,5,mode=\"+\"))\n",
        "print(keisan(1,2,3,4,5,mode=\"-\"))"
      ],
      "metadata": {
        "colab": {
          "base_uri": "https://localhost:8080/"
        },
        "id": "YZ9dDCq-MJtA",
        "outputId": "4965f1ea-6dec-46ee-8663-260291c7f5db"
      },
      "execution_count": 309,
      "outputs": [
        {
          "output_type": "stream",
          "name": "stdout",
          "text": [
            "15\n",
            "-15\n"
          ]
        }
      ]
    },
    {
      "cell_type": "code",
      "source": [
        "#引数を辞書で受け取る\n",
        "def insert_data(**data):\n",
        "    print(data)\n",
        "insert_data(name=\"Izawa\",blood=\"A\",age=\"43\")"
      ],
      "metadata": {
        "colab": {
          "base_uri": "https://localhost:8080/"
        },
        "id": "yO0nuCGaMJuV",
        "outputId": "cc45bd2b-5d63-4fa5-eec0-8d3a7e263d9c"
      },
      "execution_count": 310,
      "outputs": [
        {
          "output_type": "stream",
          "name": "stdout",
          "text": [
            "{'name': 'Izawa', 'blood': 'A', 'age': '43'}\n"
          ]
        }
      ]
    },
    {
      "cell_type": "code",
      "source": [
        "#Lambda式の利用\n",
        "bigger = lambda kazu1,kazu2: kazu1 if kazu1 > kazu2 else kazu2\n",
        "print(bigger(10,4))\n",
        "print(bigger(100,400))    \n",
        "\n",
        "getPrice = lambda price,tax=1.08 :int(price*tax)\n",
        "print(getPrice(1000))\n",
        "print(getPrice(1000,1.1))"
      ],
      "metadata": {
        "colab": {
          "base_uri": "https://localhost:8080/"
        },
        "id": "eXkBCUOVMJwK",
        "outputId": "6130fe5e-905e-47fa-bd9c-a3d55a51455a"
      },
      "execution_count": 311,
      "outputs": [
        {
          "output_type": "stream",
          "name": "stdout",
          "text": [
            "10\n",
            "400\n",
            "1080\n",
            "1100\n"
          ]
        }
      ]
    },
    {
      "cell_type": "code",
      "source": [
        "# 関数の活用\n",
        "# map関数 - リストと関数を与えて処理をする関数 \n",
        "# filter関数 - リストの中身を条件を指定して取得する関数, 内包表記でも同じことができます。\n",
        "\n",
        "# ジェネレータ関数 - イテレート可能なオブジェクトを定義することができる\n",
        "# ジェネレータ関数はreturn文ではなく、yield文を使う\n",
        "# next文で次のデータを取り出す\n",
        "\n",
        "# ジェネレータ式\n",
        "# 内包表記と似た記述方法\n",
        "# 内包表記 [~], ジェネレータ式 (~)\n",
        "\n",
        "\n",
        "# 単に関数にかけることができる。\n",
        "# 辞書をソートする時、KeyでもValueでも並べ替えできる。\n",
        "# ジェネレータ式の利点はメモリ効率の良さ膨大なデータを扱うときは内包表記より効率がよい\n",
        "\n",
        "#map関数の利用\n",
        "def getTaxPrice(price,tax=1.08):\n",
        "    return int(price * tax)\n",
        "\n",
        "prices = [100,250,300,1400]\n",
        "for price in map(getTaxPrice,prices):\n",
        "    print(price)\n",
        "#リストに保存\n",
        "onTaxPrices = list(map(getTaxPrice,prices))\n",
        "print(onTaxPrices)"
      ],
      "metadata": {
        "colab": {
          "base_uri": "https://localhost:8080/",
          "height": 338
        },
        "id": "EoMx-9KYMJx-",
        "outputId": "9fb119f3-31b8-443f-f1cb-b486dfc54b97"
      },
      "execution_count": 313,
      "outputs": [
        {
          "output_type": "stream",
          "name": "stdout",
          "text": [
            "108\n",
            "270\n",
            "324\n",
            "1512\n"
          ]
        },
        {
          "output_type": "error",
          "ename": "NameError",
          "evalue": "ignored",
          "traceback": [
            "\u001b[0;31m---------------------------------------------------------------------------\u001b[0m",
            "\u001b[0;31mNameError\u001b[0m                                 Traceback (most recent call last)",
            "\u001b[0;32m<ipython-input-313-0d22e318f025>\u001b[0m in \u001b[0;36m<module>\u001b[0;34m()\u001b[0m\n\u001b[1;32m     24\u001b[0m     \u001b[0mprint\u001b[0m\u001b[0;34m(\u001b[0m\u001b[0mprice\u001b[0m\u001b[0;34m)\u001b[0m\u001b[0;34m\u001b[0m\u001b[0;34m\u001b[0m\u001b[0m\n\u001b[1;32m     25\u001b[0m \u001b[0;31m#リストに保存\u001b[0m\u001b[0;34m\u001b[0m\u001b[0;34m\u001b[0m\u001b[0;34m\u001b[0m\u001b[0m\n\u001b[0;32m---> 26\u001b[0;31m \u001b[0monTaxPrices\u001b[0m \u001b[0;34m=\u001b[0m \u001b[0mList\u001b[0m\u001b[0;34m(\u001b[0m\u001b[0mmap\u001b[0m\u001b[0;34m(\u001b[0m\u001b[0mgetTaxPrice\u001b[0m\u001b[0;34m,\u001b[0m\u001b[0mprices\u001b[0m\u001b[0;34m)\u001b[0m\u001b[0;34m)\u001b[0m\u001b[0;34m\u001b[0m\u001b[0;34m\u001b[0m\u001b[0m\n\u001b[0m\u001b[1;32m     27\u001b[0m \u001b[0mprint\u001b[0m\u001b[0;34m(\u001b[0m\u001b[0monTaxPrices\u001b[0m\u001b[0;34m)\u001b[0m\u001b[0;34m\u001b[0m\u001b[0;34m\u001b[0m\u001b[0m\n",
            "\u001b[0;31mNameError\u001b[0m: name 'List' is not defined"
          ]
        }
      ]
    },
    {
      "cell_type": "code",
      "source": [
        "#無名関数とmap関数\n",
        "\n",
        "# lanbda式を使った場合\n",
        "prices = [100,250,300,1400]\n",
        "onTaxPrices = list(map(lambda price,tax=1.08:int(price*tax),prices))\n",
        "print(onTaxPrices)"
      ],
      "metadata": {
        "colab": {
          "base_uri": "https://localhost:8080/",
          "height": 302
        },
        "id": "BgPDiIGzMJzk",
        "outputId": "7f1c54b8-896b-40d5-c04c-50f118094864"
      },
      "execution_count": 319,
      "outputs": [
        {
          "output_type": "error",
          "ename": "TypeError",
          "evalue": "ignored",
          "traceback": [
            "\u001b[0;31m---------------------------------------------------------------------------\u001b[0m",
            "\u001b[0;31mTypeError\u001b[0m                                 Traceback (most recent call last)",
            "\u001b[0;32m<ipython-input-319-025555598108>\u001b[0m in \u001b[0;36m<module>\u001b[0;34m()\u001b[0m\n\u001b[1;32m      1\u001b[0m \u001b[0;31m#無名関数とmap関数\u001b[0m\u001b[0;34m\u001b[0m\u001b[0;34m\u001b[0m\u001b[0;34m\u001b[0m\u001b[0m\n\u001b[1;32m      2\u001b[0m \u001b[0mprices\u001b[0m \u001b[0;34m=\u001b[0m \u001b[0;34m[\u001b[0m\u001b[0;36m100\u001b[0m\u001b[0;34m,\u001b[0m\u001b[0;36m250\u001b[0m\u001b[0;34m,\u001b[0m\u001b[0;36m300\u001b[0m\u001b[0;34m,\u001b[0m\u001b[0;36m1400\u001b[0m\u001b[0;34m]\u001b[0m\u001b[0;34m\u001b[0m\u001b[0;34m\u001b[0m\u001b[0m\n\u001b[0;32m----> 3\u001b[0;31m \u001b[0monTaxPrices\u001b[0m \u001b[0;34m=\u001b[0m \u001b[0mlist\u001b[0m\u001b[0;34m(\u001b[0m\u001b[0mmap\u001b[0m\u001b[0;34m(\u001b[0m\u001b[0;32mlambda\u001b[0m \u001b[0mprice\u001b[0m\u001b[0;34m,\u001b[0m\u001b[0mtax\u001b[0m\u001b[0;34m=\u001b[0m\u001b[0;36m1.08\u001b[0m\u001b[0;34m:\u001b[0m\u001b[0mint\u001b[0m\u001b[0;34m(\u001b[0m\u001b[0mprice\u001b[0m\u001b[0;34m*\u001b[0m\u001b[0mtax\u001b[0m\u001b[0;34m)\u001b[0m\u001b[0;34m,\u001b[0m\u001b[0mprices\u001b[0m\u001b[0;34m)\u001b[0m\u001b[0;34m)\u001b[0m\u001b[0;34m\u001b[0m\u001b[0;34m\u001b[0m\u001b[0m\n\u001b[0m\u001b[1;32m      4\u001b[0m \u001b[0mprint\u001b[0m\u001b[0;34m(\u001b[0m\u001b[0monTaxPrices\u001b[0m\u001b[0;34m)\u001b[0m\u001b[0;34m\u001b[0m\u001b[0;34m\u001b[0m\u001b[0m\n\u001b[1;32m      5\u001b[0m \u001b[0;34m\u001b[0m\u001b[0m\n",
            "\u001b[0;31mTypeError\u001b[0m: 'list' object is not callable"
          ]
        }
      ]
    },
    {
      "cell_type": "code",
      "source": [
        "#　map関数の代わりに内包表記を利用\n",
        "# lanbda式を使わない場合\n",
        "prices = [100,250,300,1400]\n",
        "onTaxPrices = [int(price*1.1) for price in prices]\n",
        "print(onTaxPrices)"
      ],
      "metadata": {
        "colab": {
          "base_uri": "https://localhost:8080/"
        },
        "id": "6tVzlAqwMJ1m",
        "outputId": "a37e4980-b2e8-4637-ef95-9023b6e9f256"
      },
      "execution_count": 322,
      "outputs": [
        {
          "output_type": "stream",
          "name": "stdout",
          "text": [
            "[110, 275, 330, 1540]\n"
          ]
        }
      ]
    },
    {
      "cell_type": "code",
      "source": [
        "#filter関数の利用\n",
        "def over1000(price):\n",
        "    return price >= 1000\n",
        "\n",
        "prices = [100,250,300,1400]\n",
        "for price in filter(over1000,prices):\n",
        "    print(price)\n",
        "\n",
        "#無名関数とfilter関数\n",
        "prices = [100,250,300,1400]\n",
        "for price in filter(lambda price:price >= 1000,prices):\n",
        "    print(price)\n",
        "\n",
        "#filter関数の代わりに内包表記を利用\n",
        "prices = [100,250,300,1400]\n",
        "over1000Prices=[price for price in prices if price >= 1000]\n",
        "print(over1000Prices)"
      ],
      "metadata": {
        "colab": {
          "base_uri": "https://localhost:8080/"
        },
        "id": "TRmqkkrUMJ3d",
        "outputId": "7c739829-1076-4010-ce54-bed806034595"
      },
      "execution_count": 330,
      "outputs": [
        {
          "output_type": "stream",
          "name": "stdout",
          "text": [
            "1400\n",
            "1400\n",
            "[1400]\n"
          ]
        }
      ]
    },
    {
      "cell_type": "code",
      "source": [
        "#辞書のソート ソートするkeyを指定\n",
        "teams = {\"Zaku\":\"Ateam\",\"Bash\":\"Ateam\",\"Ken\":\"Bteam\",\"Take\":\"Ateam\"}\n",
        "print(\"名前の昇順\")\n",
        "for player in sorted(teams.items(),key=lambda k:k[0]):\n",
        "    print(player[0],player[1])\n",
        "print(\"チームの昇順\")\n",
        "for player in sorted(teams.items(),key=lambda k:k[1]):\n",
        "    print(player[0],player[1])"
      ],
      "metadata": {
        "colab": {
          "base_uri": "https://localhost:8080/"
        },
        "id": "g1NPT4MXMJ86",
        "outputId": "25e609ab-b49e-441e-9134-1fb2575d6414"
      },
      "execution_count": 332,
      "outputs": [
        {
          "output_type": "stream",
          "name": "stdout",
          "text": [
            "名前の昇順\n",
            "Bash Ateam\n",
            "Ken Bteam\n",
            "Take Ateam\n",
            "Zaku Ateam\n",
            "チームの昇順\n",
            "Zaku Ateam\n",
            "Bash Ateam\n",
            "Take Ateam\n",
            "Ken Bteam\n"
          ]
        }
      ]
    },
    {
      "cell_type": "code",
      "source": [
        "#ジェネレータ関数の利用 \n",
        "def weekdays():\n",
        "    wdays = (\"Sum\",\"Mon\",\"The\",\"Wed\",\"Thu\",\"Fri\",\"Sat\")\n",
        "    for w in wdays:\n",
        "        yield w\n",
        "w = weekdays()\n",
        "\n",
        "print(next(w))\n",
        "print(next(w))\n",
        "print(\"一休み\")\n",
        "\n",
        "w = weekdays()\n",
        "for x in w:\n",
        "    print(x)"
      ],
      "metadata": {
        "colab": {
          "base_uri": "https://localhost:8080/"
        },
        "id": "LMZ3qzI0MJ-S",
        "outputId": "4c642abe-2da8-4ea3-97ba-f34fd418b4a0"
      },
      "execution_count": 333,
      "outputs": [
        {
          "output_type": "stream",
          "name": "stdout",
          "text": [
            "Sum\n",
            "Mon\n",
            "一休み\n",
            "Sum\n",
            "Mon\n",
            "The\n",
            "Wed\n",
            "Thu\n",
            "Fri\n",
            "Sat\n"
          ]
        }
      ]
    },
    {
      "cell_type": "code",
      "source": [
        "#ジェネレータ式の利用（内包表記より高速に動作する）\n",
        "wdays = (\"Sum\",\"Mon\",\"The\",\"Wed\",\"Thu\",\"Fri\",\"Sat\")\n",
        "w = (w for w in wdays)\n",
        "for x in w:\n",
        "    print(x)"
      ],
      "metadata": {
        "colab": {
          "base_uri": "https://localhost:8080/"
        },
        "id": "TzdxREDWOWxZ",
        "outputId": "69f29cd7-561e-41cc-df3b-08bd97990d57"
      },
      "execution_count": 334,
      "outputs": [
        {
          "output_type": "stream",
          "name": "stdout",
          "text": [
            "Sum\n",
            "Mon\n",
            "The\n",
            "Wed\n",
            "Thu\n",
            "Fri\n",
            "Sat\n"
          ]
        }
      ]
    },
    {
      "cell_type": "code",
      "source": [
        "# ファイルの読み込み\n",
        "# 情報を保存したり、保存した情報を呼び出したりする事ができる。(永続的データ)\n",
        "# ファイルはオープンして利用可能にし、クローズしてファイルを開放する。\n",
        "\n",
        "# readメソッド - 読み込み方\n",
        "# ファイル内の情報をすべて読み込むか、文字数を指定して読み込むことができる\n",
        "# readLinesメソッド - ファイル内の情報をすべて読みこんでリストで返却することができる\n",
        "# readLineメソッド - ファイルを1行ずつ読み込む, ファイルの終了は ”” に到達したところで終了\n",
        "\n",
        "# with文\n",
        "# with文を利用してファイルをオープンして、withブロック内にファイル処理を書くだけ\n",
        "# closeを書かなくてもwithブロックから抜けるタイミングで自動的にcloseされる"
      ],
      "metadata": {
        "id": "QzgFalNTOWy6"
      },
      "execution_count": null,
      "outputs": []
    },
    {
      "cell_type": "code",
      "source": [
        "#readLinesメソッドの利用 \"r\"とencoding=\"utf-8\"は省略が可能\n",
        "file=open(\"/content/Study19Data.csv\",\"r\",encoding=\"utf-8\")\n",
        "\n",
        "# 引数があるver -　file.read(文字数指定 - なければ(全指定) \n",
        "data=file.read(2)\n",
        "print(data)\n",
        "print(\"次の読み込み\")\n",
        "\n",
        "# 引数がないver\n",
        "data=file.read()\n",
        "print(data)\n",
        "\n",
        "# must\n",
        "file.close()"
      ],
      "metadata": {
        "colab": {
          "base_uri": "https://localhost:8080/"
        },
        "id": "qqVgFeM9OW0t",
        "outputId": "1db87d91-30df-41e8-fb74-35aff2abdb7f"
      },
      "execution_count": 3,
      "outputs": [
        {
          "output_type": "stream",
          "name": "stdout",
          "text": [
            "ID\n",
            "次の読み込み\n",
            ",Name,Japanese,Math,Sience,Social Studys,Englisth\n",
            "1,Aran,50,67,53,98,97\n",
            "2,Dave,60,75,65,75,64\n",
            "3,Jhon,43,98,37,48,86\n",
            "4,Kim,65,69,65,68,68\n",
            "5,Scott,76,78,75,98,89\n"
          ]
        }
      ]
    },
    {
      "cell_type": "code",
      "source": [
        "#readLinesメソッドの利用\n",
        "file=open(\"/content/Study19Data.csv\")\n",
        "data=file.readlines()\n",
        "for d in data:\n",
        "    print(d,end=\"\")\n",
        "file.close"
      ],
      "metadata": {
        "colab": {
          "base_uri": "https://localhost:8080/"
        },
        "id": "-z26GC4UOW2l",
        "outputId": "07345a37-9740-4da1-9d68-4a8d4184657f"
      },
      "execution_count": 4,
      "outputs": [
        {
          "output_type": "stream",
          "name": "stdout",
          "text": [
            "ID,Name,Japanese,Math,Sience,Social Studys,Englisth\n",
            "1,Aran,50,67,53,98,97\n",
            "2,Dave,60,75,65,75,64\n",
            "3,Jhon,43,98,37,48,86\n",
            "4,Kim,65,69,65,68,68\n",
            "5,Scott,76,78,75,98,89"
          ]
        },
        {
          "output_type": "execute_result",
          "data": {
            "text/plain": [
              "<function TextIOWrapper.close>"
            ]
          },
          "metadata": {},
          "execution_count": 4
        }
      ]
    },
    {
      "cell_type": "code",
      "source": [
        "#readLineメソッドの利用\n",
        "file=open(\"/content/Study19Data.csv\")\n",
        "while True:\n",
        "    data=file.readline()\n",
        "    if data ==\"\":\n",
        "        break\n",
        "    print(data,end=\"\")\n",
        "file.close\n",
        "# 二重改行しない"
      ],
      "metadata": {
        "colab": {
          "base_uri": "https://localhost:8080/"
        },
        "id": "AmO5zvimHbt9",
        "outputId": "a2e86159-af39-41b6-9ff0-3ab5f7fa5cd3"
      },
      "execution_count": 7,
      "outputs": [
        {
          "output_type": "stream",
          "name": "stdout",
          "text": [
            "ID,Name,Japanese,Math,Sience,Social Studys,Englisth\n",
            "1,Aran,50,67,53,98,97\n",
            "2,Dave,60,75,65,75,64\n",
            "3,Jhon,43,98,37,48,86\n",
            "4,Kim,65,69,65,68,68\n",
            "5,Scott,76,78,75,98,89"
          ]
        },
        {
          "output_type": "execute_result",
          "data": {
            "text/plain": [
              "<function TextIOWrapper.close>"
            ]
          },
          "metadata": {},
          "execution_count": 7
        }
      ]
    },
    {
      "cell_type": "code",
      "source": [
        "#with文を使ったファイル処理\n",
        "with open(\"/content/Study19Data.csv\") as file:\n",
        "    while True:\n",
        "        data = file.readline()\n",
        "        if data == \"\":\n",
        "            break\n",
        "        print(data,end=\"\")"
      ],
      "metadata": {
        "colab": {
          "base_uri": "https://localhost:8080/"
        },
        "id": "aSvvHvHAOW4V",
        "outputId": "a6639511-f09c-4425-bfaa-2959b89b9174"
      },
      "execution_count": 8,
      "outputs": [
        {
          "output_type": "stream",
          "name": "stdout",
          "text": [
            "ID,Name,Japanese,Math,Sience,Social Studys,Englisth\n",
            "1,Aran,50,67,53,98,97\n",
            "2,Dave,60,75,65,75,64\n",
            "3,Jhon,43,98,37,48,86\n",
            "4,Kim,65,69,65,68,68\n",
            "5,Scott,76,78,75,98,89"
          ]
        }
      ]
    },
    {
      "cell_type": "code",
      "source": [
        "# ファイルオープン時に2つのモードを選べる\n",
        "# 1,w(write) 新規書き込み - 前のデータが消されて最新のデータが含まれる\n",
        "# 2,a(append) 追加書き込み　ー　ファイルが存在しなければ、新規書き込みと同じ。ファイルがある場合は、ファイルの最後に追加する\n",
        "\n",
        "# 書き込み方 \n",
        "# writeメソッド - print文のような感覚でファイルに書き出しできる\n",
        "# writeLinesメソッド(おすすめ) - 行単位でファイルの書き出しができる\n",
        "\n",
        "# ファイルが存在するかどうか\n",
        "# os.path.exists(ファイル名)でファイルが有るかどうかを確認できる。"
      ],
      "metadata": {
        "id": "Mv4I4M0qOW57"
      },
      "execution_count": null,
      "outputs": []
    },
    {
      "cell_type": "code",
      "source": [
        "#writeメソッド(writeモード)\n",
        "with open(\"/content/Study19Data.csv\",\"w\",encoding=\"utf_8\") as file:\n",
        "    file.write(\"ABC\")\n",
        "    file.write(\"DEF\\n\")\n",
        "    file.write(\"GHI\\n\")"
      ],
      "metadata": {
        "id": "_YcCrGx9IfWT"
      },
      "execution_count": 11,
      "outputs": []
    },
    {
      "cell_type": "code",
      "source": [
        "#writeメソッド(appendモード)\n",
        "with open(\"/content/Study19Data02.csv\",\"a\",encoding=\"utf_8\") as file:\n",
        "    file.write(\"ABC\")\n",
        "    file.write(\"DEF\\n\")\n",
        "    file.write(\"GHI\\n\")"
      ],
      "metadata": {
        "id": "vIAzSU4pAMeE"
      },
      "execution_count": 15,
      "outputs": []
    },
    {
      "cell_type": "code",
      "source": [
        "#writelinesメソッド\n",
        "wdays = (\"Sun\\n\",\"Mon\\n\",\"The\\n\",\"Wed\\n\",\"Thu\\n\",\"Fri\\n\",\"Sat\\n\")\n",
        "with open(\"/content/Study19Data03.csv\",\"a\",encoding=\"utf_8\") as file:\n",
        "    file.writelines(wdays)"
      ],
      "metadata": {
        "id": "wVrGDHa_INtf"
      },
      "execution_count": 16,
      "outputs": []
    },
    {
      "cell_type": "code",
      "source": [
        "#ファイルが有るかどうかを確認する\n",
        "import os\n",
        "file_name = \"Study19Data03.csv\"\n",
        "if os.path.exists(file_name):\n",
        "    print(file_name+\"＂は存在します\")\n",
        "else:\n",
        "    print(file_name+\"は存在しません\")"
      ],
      "metadata": {
        "colab": {
          "base_uri": "https://localhost:8080/"
        },
        "id": "FboARoTIINu_",
        "outputId": "fd3ef9ce-4a4a-41c5-ee3c-c1cb52a86f92"
      },
      "execution_count": 19,
      "outputs": [
        {
          "output_type": "stream",
          "name": "stdout",
          "text": [
            "Study19Data03.csv＂は存在します\n"
          ]
        }
      ]
    },
    {
      "cell_type": "code",
      "source": [
        "# クラスとは - オブジェクト指向プログラミングでの考え方 \n",
        "# フィールドメンバ(変数)とメソッドメンバ(関数)で構成される\n",
        "\n",
        "# インスタンス - クラスをもとに作られるクラスの分身のようなもの\n",
        "# クラス = 鉄板 \n",
        "# インスタンス = たい焼き\n",
        "\n",
        "# クラス変数とインスタンス変数\n",
        "# インスタンス変数 - インスタンス一つ一つが持つ値 \n",
        "# たい焼きの中身が あんこ クリーム\n",
        "\n",
        "# クラス変数 - クラスが持つ値\n",
        "# 鉄板の中で焼けているたい焼きの個数\n",
        "\n",
        "# クラス作成の文法\n",
        "# class クラス名 - クラス名の先頭は大文字複数の単語の場合は_を使わず大文字にして表現する\n",
        "# def メソッド名(self,引数): - クラス内で定義するメソッドの第一引数は必ずselfと書くこと\n",
        "\n",
        "\n",
        "# 初期化メソッドとフィールドメンバへのアクセス\n",
        "# __init__(self) メソッドで行う \n",
        "# elf.変数名でメンバ変数にアクセスできる\n",
        "\n",
        "# インスタンスの作成と利用\n",
        "\n",
        "# インスタンスの作成 \n",
        "# インスタンス変数名 = クラス名() \n",
        "# teama = TeamA(“Jack”,30) \n",
        "\n",
        "# メソッドメンバへのアクセス\n",
        "# インスタンス名.メソッド名\n",
        "# teama.getName()\n",
        " \n",
        "# フィールドメンバへのアクセス\n",
        "# インスタンス名.フィールド名\n",
        "# age = teama.age\n",
        "\n",
        "# クラスを利用すると効率的にプログラムが書ける \n",
        "# クラスの初期化は__init__()メソッドで行う \n",
        "# クラス内のメソッドの第一引数はselfにする\n",
        "# プログラミングとは別にオブジェクト指向の考え方を学ぶことも大事"
      ],
      "metadata": {
        "id": "8y4_WLH6INw0"
      },
      "execution_count": null,
      "outputs": []
    },
    {
      "cell_type": "code",
      "source": [
        "#クラスの作成\n",
        "class TeamA:\n",
        "    member = 0 #メンバーの人数（クラス変数）\n",
        "    def __init__(self,name,age):\n",
        "        self.name = name #引数の値をインスタンス変数に代入\n",
        "        self.age = age\n",
        "        TeamA.member += 1 #クラス変数に1加算\n",
        "    def getBornYear(self):\n",
        "        return 2019 - self.age\n",
        "#ここまでがTeamAのクラスの中身\n",
        "# 実際にクラスを使ってみる\n",
        "izawa = TeamA(\"Takeshi\",43)\n",
        "print(izawa.name+\":\"+str(izawa.age))\n",
        "izawa.name = \"Takeshi Izawa\"\n",
        "print(izawa.name)\n",
        "yamada = TeamA(\"hanako\",23)\n",
        "print(\"メンバーの人数:\"+str(TeamA.member))\n",
        "print(izawa.name+\":\"+str(izawa.getBornYear())+\"年生まれ\")"
      ],
      "metadata": {
        "colab": {
          "base_uri": "https://localhost:8080/"
        },
        "id": "GUvuO9o7IN0e",
        "outputId": "da763015-8165-4716-9a58-09eeacc13295"
      },
      "execution_count": 23,
      "outputs": [
        {
          "output_type": "stream",
          "name": "stdout",
          "text": [
            "Takeshi:43\n",
            "Takeshi Izawa\n",
            "メンバーの人数:2\n",
            "Takeshi Izawa:1976年生まれ\n"
          ]
        }
      ]
    },
    {
      "cell_type": "code",
      "source": [
        "# クラスの活用\n",
        "# 後からメンバを追加する - Pythonでは、作成したクラスとインスタンスにインスタンス変数やクラス変数、メソッドを追加することができる\n",
        "\n",
        "# アクセサメソッド - オブジェクト指向プログラミングにおけるカプセル化を実現するために、メンバへのアクセスをメソッド経由で行うget(ゲッター), set(セッター)メ ソッドがある\n",
        "# 変数名 でクラスの外部からアクセスできないようにできます\n",
        "\n",
        "# プロパティ　- クラスのメンバ変数へのアクセスを簡単にするためにpropertyメソッドを使うと、アクセスが簡単になります。\n",
        "\n",
        "# モジュールのインポート\n",
        "# 作成したクラスをインポートして利用することができる\n",
        "\n",
        "# モジュールのインポート\n",
        "# Import ファイル名 (.pyはつけない)\n",
        "\n",
        "# クラスのインポート\n",
        "# from ファイル名 import クラス名"
      ],
      "metadata": {
        "id": "kRHDRDUUIN2C"
      },
      "execution_count": null,
      "outputs": []
    },
    {
      "cell_type": "code",
      "source": [
        "#クラスの作成\n",
        "class TeamA:\n",
        "    member = 0 #メンバーの人数（クラス変数）\n",
        "    def __init__(self,name,age):\n",
        "        self.name = name #引数の値をインスタンス変数に代入\n",
        "        self.age = age\n",
        "        TeamA.member += 1 #クラス変数に1加算\n",
        "\n",
        "izawa = TeamA(\"Takeshi\",43)\n",
        "#動的にインスタンス変数を追加\n",
        "izawa.blood = \"A\"\n",
        "print(izawa.blood)\n",
        "\n",
        "#動的にクラス変数を追加\n",
        "TeamA.teamName = \"ウルトラチーム\"\n",
        "print(TeamA.teamName)\n",
        "\n",
        "#インスタンス変数.クラス変数でもアクセスできる\n",
        "print(izawa.teamName)\n",
        "\n",
        "#動的にメソッドを追加\n",
        "def getBlood(self):\n",
        "    return self.blood\n",
        "TeamA.getBlood = getBlood\n",
        "print(izawa.getBlood())"
      ],
      "metadata": {
        "colab": {
          "base_uri": "https://localhost:8080/"
        },
        "id": "vIX_Vv_CIN3n",
        "outputId": "1da67c60-e175-456a-f095-2cffa93eff34"
      },
      "execution_count": 24,
      "outputs": [
        {
          "output_type": "stream",
          "name": "stdout",
          "text": [
            "A\n",
            "ウルトラチーム\n",
            "ウルトラチーム\n",
            "A\n"
          ]
        }
      ]
    },
    {
      "cell_type": "code",
      "source": [
        "#アクセサメソッドの利用\n",
        "class TeamB:\n",
        "    def __init__(self,name):\n",
        "        self.__name = name\n",
        "#　self.__name - プライベートなインスタンス変数\n",
        "    def get_name(self):\n",
        "        return self.__name\n",
        "    def get_age(self):\n",
        "        return self.__age\n",
        "    def set_age(self,age):\n",
        "        self.__age = age\n",
        "\n",
        "izawa = TeamB(\"Takeshi\")\n",
        "izawa.set_age(24)\n",
        "print(izawa.get_name()+\":\"+str(izawa.get_age()))"
      ],
      "metadata": {
        "colab": {
          "base_uri": "https://localhost:8080/"
        },
        "id": "PEaNAqQZAMgY",
        "outputId": "e4d7c3a0-b110-4016-9b41-5f72d058599d"
      },
      "execution_count": 26,
      "outputs": [
        {
          "output_type": "stream",
          "name": "stdout",
          "text": [
            "Takeshi:24\n"
          ]
        }
      ]
    },
    {
      "cell_type": "code",
      "source": [
        "#プロパティの利用\n",
        "class TeamC:\n",
        "    def __init__(self,name):\n",
        "        self.__name = name\n",
        "    def get_name(self):\n",
        "        return self.__name\n",
        "    def get_age(self):\n",
        "        return self.__age\n",
        "    def set_age(self,age):\n",
        "        self.__age = age\n",
        "    name = property(get_name)\n",
        "    age = property(get_age,set_age)\n",
        "\n",
        "izawa = TeamC(\"Takeshi\")\n",
        "izawa.age = 43\n",
        "print(izawa.name+\":\"+str(izawa.age))"
      ],
      "metadata": {
        "colab": {
          "base_uri": "https://localhost:8080/"
        },
        "id": "3WS1QPCuAMid",
        "outputId": "6c5711b2-3439-43fc-80c1-44cbfbc31cd5"
      },
      "execution_count": 25,
      "outputs": [
        {
          "output_type": "stream",
          "name": "stdout",
          "text": [
            "Takeshi:43\n"
          ]
        }
      ]
    },
    {
      "cell_type": "code",
      "source": [
        "#モジュールのインポート\n",
        "import team #team.py全部をインポート\n",
        "yamada = team.TeamC(\"Hanako\") #モジュール名.クラス名\n",
        "print(yamada.name)\n",
        "\n",
        "#クラスのインポート\n",
        "from team import TeamC\n",
        "kubota = TeamC(\"Toshi\")\n",
        "print(kubota.name)"
      ],
      "metadata": {
        "id": "BzvgK98bAMoR"
      },
      "execution_count": null,
      "outputs": []
    },
    {
      "cell_type": "code",
      "source": [
        "# 継承とは\n",
        "# すでにあるクラス(スーパークラス)を引き継ぎ、引き継いだクラス(サブクラス)では差分のみを記述する\n",
        "\n",
        "# スーパークラスへのアクセス\n",
        "# サブクラス内からsuper().メソッド名でアクセスできる\n",
        "\n",
        "# 継承を利用すると、すでにあるコードを引き継ぎ、足らないところだけを書くだけですむ\n",
        "# super().メソッド名でスーパークラスのメソッドにアクセスできる\n"
      ],
      "metadata": {
        "id": "7aN_qZ2PAMpU"
      },
      "execution_count": null,
      "outputs": []
    },
    {
      "cell_type": "code",
      "source": [
        "class Animal:\n",
        "    def __init__(self,animal_type,tall):\n",
        "        self.__animal_type = animal_type\n",
        "        self.__tall = tall\n",
        "    def getAnimalType(self):\n",
        "        return self.__animal_type\n",
        "    def getTall(self):\n",
        "        return self.__tall\n",
        "    animal_type = property(getAnimalType)\n",
        "    tall = property(getTall)\n",
        "# ここまでがスーパークラス\n",
        "class Human(Animal):\n",
        "    def __init__(self,animal_type,tall):\n",
        "        super().__init__(animal_type,tall)\n",
        "    def aisatsu(self):\n",
        "        print(\"こんにちは\")\n",
        "        \n",
        "lion = Animal(\"ライオン\",50)\n",
        "print(lion.animal_type+\":\"+str(lion.tall)+\"cm\")\n",
        "\n",
        "izawa = Human(\"人間\",181)\n",
        "print(izawa.animal_type+\":\"+str(izawa.tall)+\"cm\")\n",
        "izawa.aisatsu()"
      ],
      "metadata": {
        "colab": {
          "base_uri": "https://localhost:8080/"
        },
        "id": "Bu5CcF_lAMrU",
        "outputId": "cd031129-7806-49eb-da24-06973622e990"
      },
      "execution_count": 28,
      "outputs": [
        {
          "output_type": "stream",
          "name": "stdout",
          "text": [
            "ライオン:50cm\n",
            "人間:181cm\n",
            "こんにちは\n"
          ]
        }
      ]
    }
  ],
  "metadata": {
    "colab": {
      "name": "Python for beginner4.ipynb",
      "provenance": [],
      "collapsed_sections": []
    },
    "kernelspec": {
      "display_name": "Python 3",
      "name": "python3"
    },
    "language_info": {
      "name": "python"
    }
  },
  "nbformat": 4,
  "nbformat_minor": 0
}