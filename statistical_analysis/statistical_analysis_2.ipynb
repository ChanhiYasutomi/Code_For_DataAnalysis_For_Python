{
  "nbformat": 4,
  "nbformat_minor": 0,
  "metadata": {
    "colab": {
      "provenance": [],
      "toc_visible": true
    },
    "kernelspec": {
      "name": "python3",
      "display_name": "Python 3"
    },
    "language_info": {
      "name": "python"
    }
  },
  "cells": [
    {
      "cell_type": "markdown",
      "source": [
        "# url: https://www.learning-nao.com/?p=2620#q-q%E3%83%97%E3%83%AD%E3%83%83%E3%83%88"
      ],
      "metadata": {
        "id": "DtKNQFxmnvZD"
      }
    },
    {
      "cell_type": "markdown",
      "source": [
        "# 【統計】Pythonでt検定をやってみる\n",
        "\n",
        "前回はt検定について、中身と流れをまとめました。\n",
        "\n",
        "url: https://www.learning-nao.com/?p=2589\n",
        "\n",
        "今回は、そのt検定をPythonでやってみようと思います。"
      ],
      "metadata": {
        "id": "v-FXVcF4ZROT"
      }
    },
    {
      "cell_type": "markdown",
      "source": [
        "## 使用するデータ\n",
        "今回は定番のアイリスデータセットを使っていきます。"
      ],
      "metadata": {
        "id": "lAKFpERUaJla"
      }
    },
    {
      "cell_type": "code",
      "source": [
        "import pandas as pd\n",
        "from sklearn.datasets import load_iris\n",
        "\n",
        "iris = load_iris()\n",
        "df = pd.DataFrame(iris.data, columns=iris.feature_names)\n",
        "\n",
        "# さらに種類を追加します。iris.targetには種類が格納されており、0(=setosa), 1(=versicolor), 2(=virginica)の3値が入っています。\n",
        "df['species'] = iris.target\n",
        "display(df)"
      ],
      "metadata": {
        "colab": {
          "base_uri": "https://localhost:8080/",
          "height": 424
        },
        "id": "4KL92BgsZOww",
        "outputId": "19236b40-e4aa-47db-8587-06594c3f265c"
      },
      "execution_count": 1,
      "outputs": [
        {
          "output_type": "display_data",
          "data": {
            "text/plain": [
              "     sepal length (cm)  sepal width (cm)  petal length (cm)  petal width (cm)  \\\n",
              "0                  5.1               3.5                1.4               0.2   \n",
              "1                  4.9               3.0                1.4               0.2   \n",
              "2                  4.7               3.2                1.3               0.2   \n",
              "3                  4.6               3.1                1.5               0.2   \n",
              "4                  5.0               3.6                1.4               0.2   \n",
              "..                 ...               ...                ...               ...   \n",
              "145                6.7               3.0                5.2               2.3   \n",
              "146                6.3               2.5                5.0               1.9   \n",
              "147                6.5               3.0                5.2               2.0   \n",
              "148                6.2               3.4                5.4               2.3   \n",
              "149                5.9               3.0                5.1               1.8   \n",
              "\n",
              "     species  \n",
              "0          0  \n",
              "1          0  \n",
              "2          0  \n",
              "3          0  \n",
              "4          0  \n",
              "..       ...  \n",
              "145        2  \n",
              "146        2  \n",
              "147        2  \n",
              "148        2  \n",
              "149        2  \n",
              "\n",
              "[150 rows x 5 columns]"
            ],
            "text/html": [
              "\n",
              "  <div id=\"df-a92c2aa7-684b-477a-8bde-037c4fcb4de5\" class=\"colab-df-container\">\n",
              "    <div>\n",
              "<style scoped>\n",
              "    .dataframe tbody tr th:only-of-type {\n",
              "        vertical-align: middle;\n",
              "    }\n",
              "\n",
              "    .dataframe tbody tr th {\n",
              "        vertical-align: top;\n",
              "    }\n",
              "\n",
              "    .dataframe thead th {\n",
              "        text-align: right;\n",
              "    }\n",
              "</style>\n",
              "<table border=\"1\" class=\"dataframe\">\n",
              "  <thead>\n",
              "    <tr style=\"text-align: right;\">\n",
              "      <th></th>\n",
              "      <th>sepal length (cm)</th>\n",
              "      <th>sepal width (cm)</th>\n",
              "      <th>petal length (cm)</th>\n",
              "      <th>petal width (cm)</th>\n",
              "      <th>species</th>\n",
              "    </tr>\n",
              "  </thead>\n",
              "  <tbody>\n",
              "    <tr>\n",
              "      <th>0</th>\n",
              "      <td>5.1</td>\n",
              "      <td>3.5</td>\n",
              "      <td>1.4</td>\n",
              "      <td>0.2</td>\n",
              "      <td>0</td>\n",
              "    </tr>\n",
              "    <tr>\n",
              "      <th>1</th>\n",
              "      <td>4.9</td>\n",
              "      <td>3.0</td>\n",
              "      <td>1.4</td>\n",
              "      <td>0.2</td>\n",
              "      <td>0</td>\n",
              "    </tr>\n",
              "    <tr>\n",
              "      <th>2</th>\n",
              "      <td>4.7</td>\n",
              "      <td>3.2</td>\n",
              "      <td>1.3</td>\n",
              "      <td>0.2</td>\n",
              "      <td>0</td>\n",
              "    </tr>\n",
              "    <tr>\n",
              "      <th>3</th>\n",
              "      <td>4.6</td>\n",
              "      <td>3.1</td>\n",
              "      <td>1.5</td>\n",
              "      <td>0.2</td>\n",
              "      <td>0</td>\n",
              "    </tr>\n",
              "    <tr>\n",
              "      <th>4</th>\n",
              "      <td>5.0</td>\n",
              "      <td>3.6</td>\n",
              "      <td>1.4</td>\n",
              "      <td>0.2</td>\n",
              "      <td>0</td>\n",
              "    </tr>\n",
              "    <tr>\n",
              "      <th>...</th>\n",
              "      <td>...</td>\n",
              "      <td>...</td>\n",
              "      <td>...</td>\n",
              "      <td>...</td>\n",
              "      <td>...</td>\n",
              "    </tr>\n",
              "    <tr>\n",
              "      <th>145</th>\n",
              "      <td>6.7</td>\n",
              "      <td>3.0</td>\n",
              "      <td>5.2</td>\n",
              "      <td>2.3</td>\n",
              "      <td>2</td>\n",
              "    </tr>\n",
              "    <tr>\n",
              "      <th>146</th>\n",
              "      <td>6.3</td>\n",
              "      <td>2.5</td>\n",
              "      <td>5.0</td>\n",
              "      <td>1.9</td>\n",
              "      <td>2</td>\n",
              "    </tr>\n",
              "    <tr>\n",
              "      <th>147</th>\n",
              "      <td>6.5</td>\n",
              "      <td>3.0</td>\n",
              "      <td>5.2</td>\n",
              "      <td>2.0</td>\n",
              "      <td>2</td>\n",
              "    </tr>\n",
              "    <tr>\n",
              "      <th>148</th>\n",
              "      <td>6.2</td>\n",
              "      <td>3.4</td>\n",
              "      <td>5.4</td>\n",
              "      <td>2.3</td>\n",
              "      <td>2</td>\n",
              "    </tr>\n",
              "    <tr>\n",
              "      <th>149</th>\n",
              "      <td>5.9</td>\n",
              "      <td>3.0</td>\n",
              "      <td>5.1</td>\n",
              "      <td>1.8</td>\n",
              "      <td>2</td>\n",
              "    </tr>\n",
              "  </tbody>\n",
              "</table>\n",
              "<p>150 rows × 5 columns</p>\n",
              "</div>\n",
              "    <div class=\"colab-df-buttons\">\n",
              "\n",
              "  <div class=\"colab-df-container\">\n",
              "    <button class=\"colab-df-convert\" onclick=\"convertToInteractive('df-a92c2aa7-684b-477a-8bde-037c4fcb4de5')\"\n",
              "            title=\"Convert this dataframe to an interactive table.\"\n",
              "            style=\"display:none;\">\n",
              "\n",
              "  <svg xmlns=\"http://www.w3.org/2000/svg\" height=\"24px\" viewBox=\"0 -960 960 960\">\n",
              "    <path d=\"M120-120v-720h720v720H120Zm60-500h600v-160H180v160Zm220 220h160v-160H400v160Zm0 220h160v-160H400v160ZM180-400h160v-160H180v160Zm440 0h160v-160H620v160ZM180-180h160v-160H180v160Zm440 0h160v-160H620v160Z\"/>\n",
              "  </svg>\n",
              "    </button>\n",
              "\n",
              "  <style>\n",
              "    .colab-df-container {\n",
              "      display:flex;\n",
              "      gap: 12px;\n",
              "    }\n",
              "\n",
              "    .colab-df-convert {\n",
              "      background-color: #E8F0FE;\n",
              "      border: none;\n",
              "      border-radius: 50%;\n",
              "      cursor: pointer;\n",
              "      display: none;\n",
              "      fill: #1967D2;\n",
              "      height: 32px;\n",
              "      padding: 0 0 0 0;\n",
              "      width: 32px;\n",
              "    }\n",
              "\n",
              "    .colab-df-convert:hover {\n",
              "      background-color: #E2EBFA;\n",
              "      box-shadow: 0px 1px 2px rgba(60, 64, 67, 0.3), 0px 1px 3px 1px rgba(60, 64, 67, 0.15);\n",
              "      fill: #174EA6;\n",
              "    }\n",
              "\n",
              "    .colab-df-buttons div {\n",
              "      margin-bottom: 4px;\n",
              "    }\n",
              "\n",
              "    [theme=dark] .colab-df-convert {\n",
              "      background-color: #3B4455;\n",
              "      fill: #D2E3FC;\n",
              "    }\n",
              "\n",
              "    [theme=dark] .colab-df-convert:hover {\n",
              "      background-color: #434B5C;\n",
              "      box-shadow: 0px 1px 3px 1px rgba(0, 0, 0, 0.15);\n",
              "      filter: drop-shadow(0px 1px 2px rgba(0, 0, 0, 0.3));\n",
              "      fill: #FFFFFF;\n",
              "    }\n",
              "  </style>\n",
              "\n",
              "    <script>\n",
              "      const buttonEl =\n",
              "        document.querySelector('#df-a92c2aa7-684b-477a-8bde-037c4fcb4de5 button.colab-df-convert');\n",
              "      buttonEl.style.display =\n",
              "        google.colab.kernel.accessAllowed ? 'block' : 'none';\n",
              "\n",
              "      async function convertToInteractive(key) {\n",
              "        const element = document.querySelector('#df-a92c2aa7-684b-477a-8bde-037c4fcb4de5');\n",
              "        const dataTable =\n",
              "          await google.colab.kernel.invokeFunction('convertToInteractive',\n",
              "                                                    [key], {});\n",
              "        if (!dataTable) return;\n",
              "\n",
              "        const docLinkHtml = 'Like what you see? Visit the ' +\n",
              "          '<a target=\"_blank\" href=https://colab.research.google.com/notebooks/data_table.ipynb>data table notebook</a>'\n",
              "          + ' to learn more about interactive tables.';\n",
              "        element.innerHTML = '';\n",
              "        dataTable['output_type'] = 'display_data';\n",
              "        await google.colab.output.renderOutput(dataTable, element);\n",
              "        const docLink = document.createElement('div');\n",
              "        docLink.innerHTML = docLinkHtml;\n",
              "        element.appendChild(docLink);\n",
              "      }\n",
              "    </script>\n",
              "  </div>\n",
              "\n",
              "\n",
              "<div id=\"df-fb4df57a-9fdf-4989-8652-af4edf463ce6\">\n",
              "  <button class=\"colab-df-quickchart\" onclick=\"quickchart('df-fb4df57a-9fdf-4989-8652-af4edf463ce6')\"\n",
              "            title=\"Suggest charts\"\n",
              "            style=\"display:none;\">\n",
              "\n",
              "<svg xmlns=\"http://www.w3.org/2000/svg\" height=\"24px\"viewBox=\"0 0 24 24\"\n",
              "     width=\"24px\">\n",
              "    <g>\n",
              "        <path d=\"M19 3H5c-1.1 0-2 .9-2 2v14c0 1.1.9 2 2 2h14c1.1 0 2-.9 2-2V5c0-1.1-.9-2-2-2zM9 17H7v-7h2v7zm4 0h-2V7h2v10zm4 0h-2v-4h2v4z\"/>\n",
              "    </g>\n",
              "</svg>\n",
              "  </button>\n",
              "\n",
              "<style>\n",
              "  .colab-df-quickchart {\n",
              "      --bg-color: #E8F0FE;\n",
              "      --fill-color: #1967D2;\n",
              "      --hover-bg-color: #E2EBFA;\n",
              "      --hover-fill-color: #174EA6;\n",
              "      --disabled-fill-color: #AAA;\n",
              "      --disabled-bg-color: #DDD;\n",
              "  }\n",
              "\n",
              "  [theme=dark] .colab-df-quickchart {\n",
              "      --bg-color: #3B4455;\n",
              "      --fill-color: #D2E3FC;\n",
              "      --hover-bg-color: #434B5C;\n",
              "      --hover-fill-color: #FFFFFF;\n",
              "      --disabled-bg-color: #3B4455;\n",
              "      --disabled-fill-color: #666;\n",
              "  }\n",
              "\n",
              "  .colab-df-quickchart {\n",
              "    background-color: var(--bg-color);\n",
              "    border: none;\n",
              "    border-radius: 50%;\n",
              "    cursor: pointer;\n",
              "    display: none;\n",
              "    fill: var(--fill-color);\n",
              "    height: 32px;\n",
              "    padding: 0;\n",
              "    width: 32px;\n",
              "  }\n",
              "\n",
              "  .colab-df-quickchart:hover {\n",
              "    background-color: var(--hover-bg-color);\n",
              "    box-shadow: 0 1px 2px rgba(60, 64, 67, 0.3), 0 1px 3px 1px rgba(60, 64, 67, 0.15);\n",
              "    fill: var(--button-hover-fill-color);\n",
              "  }\n",
              "\n",
              "  .colab-df-quickchart-complete:disabled,\n",
              "  .colab-df-quickchart-complete:disabled:hover {\n",
              "    background-color: var(--disabled-bg-color);\n",
              "    fill: var(--disabled-fill-color);\n",
              "    box-shadow: none;\n",
              "  }\n",
              "\n",
              "  .colab-df-spinner {\n",
              "    border: 2px solid var(--fill-color);\n",
              "    border-color: transparent;\n",
              "    border-bottom-color: var(--fill-color);\n",
              "    animation:\n",
              "      spin 1s steps(1) infinite;\n",
              "  }\n",
              "\n",
              "  @keyframes spin {\n",
              "    0% {\n",
              "      border-color: transparent;\n",
              "      border-bottom-color: var(--fill-color);\n",
              "      border-left-color: var(--fill-color);\n",
              "    }\n",
              "    20% {\n",
              "      border-color: transparent;\n",
              "      border-left-color: var(--fill-color);\n",
              "      border-top-color: var(--fill-color);\n",
              "    }\n",
              "    30% {\n",
              "      border-color: transparent;\n",
              "      border-left-color: var(--fill-color);\n",
              "      border-top-color: var(--fill-color);\n",
              "      border-right-color: var(--fill-color);\n",
              "    }\n",
              "    40% {\n",
              "      border-color: transparent;\n",
              "      border-right-color: var(--fill-color);\n",
              "      border-top-color: var(--fill-color);\n",
              "    }\n",
              "    60% {\n",
              "      border-color: transparent;\n",
              "      border-right-color: var(--fill-color);\n",
              "    }\n",
              "    80% {\n",
              "      border-color: transparent;\n",
              "      border-right-color: var(--fill-color);\n",
              "      border-bottom-color: var(--fill-color);\n",
              "    }\n",
              "    90% {\n",
              "      border-color: transparent;\n",
              "      border-bottom-color: var(--fill-color);\n",
              "    }\n",
              "  }\n",
              "</style>\n",
              "\n",
              "  <script>\n",
              "    async function quickchart(key) {\n",
              "      const quickchartButtonEl =\n",
              "        document.querySelector('#' + key + ' button');\n",
              "      quickchartButtonEl.disabled = true;  // To prevent multiple clicks.\n",
              "      quickchartButtonEl.classList.add('colab-df-spinner');\n",
              "      try {\n",
              "        const charts = await google.colab.kernel.invokeFunction(\n",
              "            'suggestCharts', [key], {});\n",
              "      } catch (error) {\n",
              "        console.error('Error during call to suggestCharts:', error);\n",
              "      }\n",
              "      quickchartButtonEl.classList.remove('colab-df-spinner');\n",
              "      quickchartButtonEl.classList.add('colab-df-quickchart-complete');\n",
              "    }\n",
              "    (() => {\n",
              "      let quickchartButtonEl =\n",
              "        document.querySelector('#df-fb4df57a-9fdf-4989-8652-af4edf463ce6 button');\n",
              "      quickchartButtonEl.style.display =\n",
              "        google.colab.kernel.accessAllowed ? 'block' : 'none';\n",
              "    })();\n",
              "  </script>\n",
              "</div>\n",
              "    </div>\n",
              "  </div>\n"
            ]
          },
          "metadata": {}
        }
      ]
    },
    {
      "cell_type": "code",
      "source": [
        "# 今回は2標本のt検定を実施するので、上のdfから2つの標本を作成します。\n",
        "# species=0の標本と、species=1の標本を作成し、「petal width（cm）」で検定をします。\n",
        "\n",
        "# この両標本は、「対応のないデータ」として扱います。\n",
        "\n",
        "petal_len0 = df[df[\"species\"]==0][\"petal length (cm)\"]\n",
        "petal_len1 = df[df[\"species\"]==1][\"petal length (cm)\"]"
      ],
      "metadata": {
        "id": "rQO-JA8aZOy3"
      },
      "execution_count": 2,
      "outputs": []
    },
    {
      "cell_type": "markdown",
      "source": [
        "## 検定の前に\n",
        "\n",
        "さて、早速t検定を…と行きたいところですが、その前にデータの特徴を確認しておきます。t検定には前提条件があるのでしたね。その前提とは\n",
        "\n",
        "    母集団が正規分布に従う\n",
        "    母集団の分散が等しい\n",
        "    \n",
        "です。この前提を満たし対応のない標本同士のt検定は「Studentのt検定」と呼ばれます。まずは、標本がこの前提を満たすかを確認します）。と言っても母分散はわからないので、標本の分散（標準偏差）と正規性あたりを確認します。\n",
        "\n"
      ],
      "metadata": {
        "id": "QyDbwW6zbOrW"
      }
    },
    {
      "cell_type": "markdown",
      "source": [
        "## 平均と標準偏差\n",
        "各標本の平均と標準偏差を確認します。\n",
        "\n"
      ],
      "metadata": {
        "id": "RetwX7qSbuUq"
      }
    },
    {
      "cell_type": "code",
      "source": [
        "#平均\n",
        "print(petal_len0.mean())\n",
        "print(petal_len1.mean())\n",
        "\n",
        "#標準偏差\n",
        "print(petal_len0.std())\n",
        "print(petal_len1.std())\n",
        "\n",
        "# 平均は3cm程度異なるようです。また、標準偏差も2.5倍くらい異なっていそうです。\n",
        "# 標本数は同じのため母分散も等しくはなさそうです。"
      ],
      "metadata": {
        "colab": {
          "base_uri": "https://localhost:8080/"
        },
        "id": "VNDRX_CxZO1M",
        "outputId": "1b5779fd-f28e-4cf0-9f45-40ee30e47a04"
      },
      "execution_count": 3,
      "outputs": [
        {
          "output_type": "stream",
          "name": "stdout",
          "text": [
            "1.4620000000000002\n",
            "4.26\n",
            "0.17366399648018407\n",
            "0.46991097723995795\n"
          ]
        }
      ]
    },
    {
      "cell_type": "markdown",
      "source": [
        "## ヒストグラム\n",
        "データのばらつきを見るために、それぞれの標本でヒストグラムを描いてみます。"
      ],
      "metadata": {
        "id": "kty-bhp4cG2u"
      }
    },
    {
      "cell_type": "code",
      "source": [
        "import matplotlib.pyplot as plt\n",
        "\n",
        "plt.hist(petal_len0,bins=10)\n",
        "plt.show()\n",
        "plt.hist(petal_len1,bins=10)\n",
        "plt.show()\n",
        "\n",
        "# ほんまに正規分布に従ってるんか？って感じです。"
      ],
      "metadata": {
        "colab": {
          "base_uri": "https://localhost:8080/",
          "height": 843
        },
        "id": "FbmDfKqYZO3h",
        "outputId": "a3965b55-4f27-492b-9ef8-a7a5e6e4cc08"
      },
      "execution_count": 4,
      "outputs": [
        {
          "output_type": "display_data",
          "data": {
            "text/plain": [
              "<Figure size 640x480 with 1 Axes>"
            ],
            "image/png": "[encoded data removed]"
          },
          "metadata": {}
        },
        {
          "output_type": "display_data",
          "data": {
            "text/plain": [
              "<Figure size 640x480 with 1 Axes>"
            ],
            "image/png": "[encoded data removed]"
          },
          "metadata": {}
        }
      ]
    },
    {
      "cell_type": "markdown",
      "source": [
        "## Q-Qプロット\n",
        "グラフで正規性を確認する方法を紹介しました。としてQ-Qプロットも有効です。正規分布に近い場合、きれいな右肩上がりの直線になります。逆に、正規分布に従わない場合はその線が歪んで出てきます。\n",
        "\n",
        "Q-Qプロットはscipyのstatsモジュールから描画可能です。"
      ],
      "metadata": {
        "id": "gm6BS5WmcOdN"
      }
    },
    {
      "cell_type": "code",
      "source": [
        "from scipy import stats\n",
        "\n",
        "stats.probplot(petal_len0, plot=plt)\n",
        "plt.show()\n",
        "\n",
        "stats.probplot(petal_len1, plot=plt)\n",
        "plt.show()\n",
        "\n",
        "# どちらも端の方でやや歪んでいるように見えます。きれいな正規分布とはいえなさそうな気がします。"
      ],
      "metadata": {
        "colab": {
          "base_uri": "https://localhost:8080/",
          "height": 927
        },
        "id": "IGsJBImOcN4u",
        "outputId": "83625f4a-608a-47c0-e306-aafabb81966b"
      },
      "execution_count": 5,
      "outputs": [
        {
          "output_type": "display_data",
          "data": {
            "text/plain": [
              "<Figure size 640x480 with 1 Axes>"
            ],
            "image/png": "[encoded data removed]"
          },
          "metadata": {}
        },
        {
          "output_type": "display_data",
          "data": {
            "text/plain": [
              "<Figure size 640x480 with 1 Axes>"
            ],
            "image/png": "[encoded data removed]"
          },
          "metadata": {}
        }
      ]
    },
    {
      "cell_type": "markdown",
      "source": [
        "## シャピロ・ウィルク検定\n",
        "\n",
        "シャピロ・ウィルク検定はデータの正規性を検定する手法の1つです。シャピロ・ウィルク検定の帰無仮説は「分布は正規分布に従う」です。今回は有意水準5%(p<=0.05)で検定を行ってみます。p値が0.05以下であれば分布は正規分布であるという帰無仮説が棄却されます。\n",
        "\n",
        "この検定はscipyのstats.shapiro()で実行可能です。\n",
        "\n"
      ],
      "metadata": {
        "id": "PnujlTwBcXv_"
      }
    },
    {
      "cell_type": "code",
      "source": [
        "from scipy import stats\n",
        "\n",
        "#2つ目の戻り値がp値\n",
        "p0 = stats.shapiro(petal_len0)[1]\n",
        "p1 = stats.shapiro(petal_len1)[1]\n",
        "\n",
        "print(\"sepal_len_0のp値：\",round(p0,3))\n",
        "print(\"sepal_len_1のp値：\",round(p1,3))\n",
        "\n",
        "# scipy.stats.shapiro()の引数には、検定したいデータを渡します。\n",
        "# 検定結果はp値にて判断しますが、そのp値は2つ目の戻り値にて返されます（なので最後に[1]がついています）。\n",
        "\n",
        "# 結果を見ると、両分布とも帰無仮説が採択されました（sepal_len_0はギリですが）。なので、一応正規分布に従うとして検定を進めていきます。"
      ],
      "metadata": {
        "colab": {
          "base_uri": "https://localhost:8080/"
        },
        "id": "U1pcKGzfcIZL",
        "outputId": "fe53a634-f090-4760-a315-c5f20424684a"
      },
      "execution_count": 6,
      "outputs": [
        {
          "output_type": "stream",
          "name": "stdout",
          "text": [
            "sepal_len_0のp値： 0.055\n",
            "sepal_len_1のp値： 0.158\n"
          ]
        }
      ]
    },
    {
      "cell_type": "markdown",
      "source": [
        "## t検定\n",
        "ここまででデータの分散および正規性を確認しました。ここまでの前提をまとめると、\n",
        "\n",
        "    対応のないデータ\n",
        "    分散は等しくない\n",
        "    正規分布に従う\n",
        "\n",
        "です。この条件では「Welchのt検定」という手法を用います。Pythonでのt検定は、scipy.statsのttest()で行います。以下で実行してみましょう。\n",
        "\n",
        "---\n",
        "\n",
        "対応のないデータというのはデータ間に関連がないという認識でいいの?\n",
        "\n",
        "はい、その通りです。対応のないデータとは、各観測値が互いに独立しているデータセットを指します。つまり、一方のデータポイントの値が他方のデータポイントに影響を与えていないと仮定されています。\n",
        "\n",
        "例えば、異なる被験者や異なる条件での観測値などが、各データポイントに対応していない場合、それらのデータは対応のないデータと見なされます。これは通常、独立な2群間の比較（例: 独立なt検定）や、2つの変数の相関を評価する際に使用される前提条件です。\n",
        "\n",
        "一方で、「対応のあるデータ」は、同じ対象や要素に関連する2つのデータセットを指し、各観測値が互いに依存していると考えられます。典型的な例は、同じ被験者に対する前後の測定値や、ペアで対応する要素がある場合です。"
      ],
      "metadata": {
        "id": "oyYmVkUSc_c7"
      }
    },
    {
      "cell_type": "markdown",
      "source": [
        "## Welchのt検定\n",
        "\n",
        "先述の通り、Welchのt検定は等分散ではないと仮定した対応の無いt検定です。等分散でない場合は引数equal_varをFalseに指定します。"
      ],
      "metadata": {
        "id": "8oVq7xo8d0i5"
      }
    },
    {
      "cell_type": "code",
      "source": [
        "# Welchのｔ検定\n",
        "stats.ttest_ind(petal_len0,petal_len1, equal_var=False)\n",
        "\n",
        "# p値はpvalue（2つ目の引数）です。9.93で帰無仮説を棄却できないのかと思いがちですが、注意してください。\n",
        "# e-46は小数点が右に46個ずれるという意味です。実際はかなり小さい値で、5%水準を軽く下回ります。\n",
        "\n",
        "# よって、2つの標本平均に差がないとは言えないという結論に至りました。"
      ],
      "metadata": {
        "colab": {
          "base_uri": "https://localhost:8080/"
        },
        "id": "rYaK_EfocIbS",
        "outputId": "a6c63bf3-61d8-49ba-b789-fa5d35d92435"
      },
      "execution_count": 7,
      "outputs": [
        {
          "output_type": "execute_result",
          "data": {
            "text/plain": [
              "TtestResult(statistic=-39.492719391538095, pvalue=9.934432957587695e-46, df=62.13976789553874)"
            ]
          },
          "metadata": {},
          "execution_count": 7
        }
      ]
    },
    {
      "cell_type": "markdown",
      "source": [
        "## その他t検定\n",
        "今回の場合、Welchのt検定を用いるのが適切でしたが、他の手法のt検定をPythonではどのように実行するのかも紹介しておきます。"
      ],
      "metadata": {
        "id": "JFGmDql8eNN1"
      }
    },
    {
      "cell_type": "markdown",
      "source": [
        "## studentのt検定\n",
        "この検定は対応なし、等分散の前提のもとで実施する検定です。"
      ],
      "metadata": {
        "id": "b6X8VXeyeUxu"
      }
    },
    {
      "cell_type": "code",
      "source": [
        "# studentのｔ検定\n",
        "stats.ttest_ind(petal_len0,petal_len1)"
      ],
      "metadata": {
        "colab": {
          "base_uri": "https://localhost:8080/"
        },
        "id": "AqhHlmyJcIdW",
        "outputId": "e19d1029-84c8-4098-a0b1-29392871654c"
      },
      "execution_count": 8,
      "outputs": [
        {
          "output_type": "execute_result",
          "data": {
            "text/plain": [
              "TtestResult(statistic=-39.492719391538095, pvalue=5.404910513441677e-62, df=98.0)"
            ]
          },
          "metadata": {},
          "execution_count": 8
        }
      ]
    },
    {
      "cell_type": "markdown",
      "source": [
        "## 対応のあるt検定\n",
        "標本に対応がある場合は、scipy.stats.ttest_rel()を用います。"
      ],
      "metadata": {
        "id": "t1P4FPG6eYqJ"
      }
    },
    {
      "cell_type": "code",
      "source": [
        "# 対応のあるｔ検定\n",
        "stats.ttest_rel(petal_len0,petal_len1)"
      ],
      "metadata": {
        "colab": {
          "base_uri": "https://localhost:8080/"
        },
        "id": "1zAtFq11cIfM",
        "outputId": "55f596a4-fcd9-4020-c64f-211e0fe4d561"
      },
      "execution_count": 9,
      "outputs": [
        {
          "output_type": "execute_result",
          "data": {
            "text/plain": [
              "TtestResult(statistic=-37.2411259116569, pvalue=1.3246949994286691e-37, df=49)"
            ]
          },
          "metadata": {},
          "execution_count": 9
        }
      ]
    },
    {
      "cell_type": "markdown",
      "source": [
        "# まとめ\n",
        "\n",
        "Pythonでt検定を行う方法を紹介しました。\n",
        "\n",
        "検定自体は1行で簡単にできますが、適切な手法を選ぶためにも、その前にデータの特性を確認しておく必要はあると思います。\n",
        "\n",
        "2標本の比較は実際の場面でもよくあるケースだと思うので、t検定を活用して根拠を持って判断ができるといいですね。\n",
        "\n",
        "ではでは👋\n",
        "\n"
      ],
      "metadata": {
        "id": "W3QIwyaSeeU6"
      }
    }
  ]
}