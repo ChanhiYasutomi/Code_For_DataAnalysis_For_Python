{
  "nbformat": 4,
  "nbformat_minor": 0,
  "metadata": {
    "colab": {
      "provenance": [],
      "toc_visible": true
    },
    "kernelspec": {
      "name": "python3",
      "display_name": "Python 3"
    },
    "language_info": {
      "name": "python"
    }
  },
  "cells": [
    {
      "cell_type": "markdown",
      "source": [
        "# url: https://qiita.com/suaaa7/items/745ac1ca0a8d6753cf60"
      ],
      "metadata": {
        "id": "DtKNQFxmnvZD"
      }
    },
    {
      "cell_type": "markdown",
      "source": [
        "# 【Python】2群間での統計検定手法まとめ\n",
        "\n",
        "2群間での統計検定手法をまとめました。PythonのScipyモジュールを使った実行例とともに、各手法について説明していきます。実行例で用いるモジュールはこちらです。"
      ],
      "metadata": {
        "id": "xhIdmhXlNFpX"
      }
    },
    {
      "cell_type": "code",
      "source": [
        "import numpy as np\n",
        "from scipy import stats"
      ],
      "metadata": {
        "id": "NcwNg3_zccM2"
      },
      "execution_count": 1,
      "outputs": []
    },
    {
      "cell_type": "markdown",
      "source": [
        "## 対応のあるt検定\n",
        "\n",
        "    2群間の平均値の差を比較する検定\n",
        "    2群間の平均値が独立とはいえない、つまりデータに対応がある(従属である)場合に用いる\n",
        "\n",
        "---\n",
        "\n",
        "「2群間の平均値が独立とはいえない、つまりデータに対応がある（従属である）場合に用いる」という文は、統計学や仮説検定に関連するものと考えられます。この文は、対応があるデータを扱うための統計的手法や検定方法を指しています。\n",
        "\n",
        "以下に、文の中で使われているキーワードを説明します：\n",
        "\n",
        "2群間の平均値が独立とはいえない： 通常、2つのグループ（または標本）の平均値が互いに独立している場合、それらの平均値の差を比較するための独立な手法が使われます。しかし、この文では、2つの群の平均値が独立していないとされています。\n",
        "\n",
        "データに対応がある（従属である）： データが対応しているとは、同じ対象や要素に対して取られた2つの観測値が関連していることを指します。例えば、同じ被験者に対する前後の測定や、ペアで対応する要素がある場合などがこれに該当します。\n",
        "\n",
        "用いる： この文は、データが対応している場合に適用される統計的手法や検定方法があることを示唆しています。通常、対応があるデータに対する検定には、対応のあるt検定やウィルコクソン符号順位検定などが利用されます。これらの手法は、各対応する観測値の差を取ってから統計的な検定を行います。\n",
        "\n",
        "簡単に言えば、この文は「データがペアで対応している場合、2つの群の平均値を比較するためには、対応のあるデータに適した統計的手法を使用するべきである」という意味です。\n",
        "\n",
        "---\n",
        "\n",
        "2群間の平均値が独立とはいえない、つまりデータに対応がある(従属である)場合に用いるというのはAというデータが生成されたらBというデータも関連して生成されたとしたらそれらのデータは関連がある。つまりデータ同士が独立でないという認識でいいの?\n",
        "\n",
        "はい、その理解は正確です。文脈において「2群間の平均値が独立とはいえない、つまりデータに対応がある（従属である）」と述べられている場合、それは以下のような状況を指しています：\n",
        "\n",
        "    AとBという2つのデータセットがあり、これらは互いに独立ではない。\n",
        "    AとBのデータが何らかの形で対応しており、つまり、AのあるデータポイントがBの対応するデータポイントと関連している。\n",
        "\n",
        "例えば、同じ被験者に対する前後の測定や、ペアで対応する要素がある場合、これらのデータは対応していると考えられます。したがって、これらのデータが独立でない場合、対応があると言います。\n",
        "\n",
        "従属関係がある場合、通常の統計手法（例: 独立なt検定）ではなく、対応があるデータに対する統計手法（例: 対応のあるt検定）を使用することが推奨されます。\n",
        "\n",
        "---\n",
        "\n",
        "何かしらデータ間で関連があるという認識でいいの?\n",
        "\n",
        "はい、正確です。データが「対応がある（従属である）」ということは、何らかの形でデータ間に関連があることを意味します。この関連性は、同じ対象や要素に関する2つのデータセットが互いに影響を及ぼし合っていることを指します。\n",
        "\n",
        "例えば、以下のような場合にデータが関連していると考えられます：\n",
        "\n",
        "    同じ被験者に対する前後の測定: 同じ被験者に対する複数の時間点でデータを収集した場合、各被験者のデータポイントは時間の経過に伴って変化する可能性があります。\n",
        "\n",
        "    ペアでの対応する要素: 例えば、ある製品や治療法の効果を比較するために、各ペアの要素が同じ条件で対応している場合、これらのデータは関連していると考えられます。\n",
        "\n",
        "対応がある場合、通常の統計手法ではなく、対応があるデータに対する専用の統計手法を使用することが適切です。従って、「2群間の平均値が独立とはいえない」という文脈では、データ同士が関連しており、通常の独立な統計手法が適切でないとされています。\n",
        "\n",
        "---\n",
        "\n",
        "### 用いるデータ\n",
        "Rのデフォルトデータセット「sleep」を用います。\n",
        "このデータセットは、薬剤1と薬剤2の2種類の睡眠薬を10人の被験者にそれぞれ投与した際に、増加した睡眠時間を記録したものです。2種類の薬剤を同一被験者に投与しているので、その値には対応があるといえます。"
      ],
      "metadata": {
        "id": "FX4gmdwxNNwY"
      }
    },
    {
      "cell_type": "code",
      "source": [
        "A = np.array([0.7, -1.6, -0.2, -1.2, -0.1, 3.4, 3.7, 0.8, 0.0, 2.0])\n",
        "B = np.array([1.9, 0.8, 1.1, 0.1, -0.1, 4.4, 5.5, 1.6, 4.6, 3.4])"
      ],
      "metadata": {
        "id": "3OfFIMTaNAAr"
      },
      "execution_count": 2,
      "outputs": []
    },
    {
      "cell_type": "markdown",
      "source": [
        "それぞれの平均は、以下の通りです。\n",
        "\n",
        "    A: 0.75\n",
        "    B: 2.33\n",
        "\n",
        "これらの値に有意な差があるかどうかを検定します。\n",
        "有意水準を0.05、帰無仮説を「2群間の平均値に差がないこと」とします。"
      ],
      "metadata": {
        "id": "hmN87uw2NZ-q"
      }
    },
    {
      "cell_type": "code",
      "source": [
        "stats.ttest_rel(A, B)\n",
        "# 結果、p < 0.05なので、帰無仮説は棄却され、2種類の睡眠薬の薬効には差があるといえます。"
      ],
      "metadata": {
        "colab": {
          "base_uri": "https://localhost:8080/"
        },
        "id": "fm22sfkINACy",
        "outputId": "80fb23a5-e3ee-4f7a-adf5-416034901313"
      },
      "execution_count": 3,
      "outputs": [
        {
          "output_type": "execute_result",
          "data": {
            "text/plain": [
              "TtestResult(statistic=-4.062127683382037, pvalue=0.00283289019738427, df=9)"
            ]
          },
          "metadata": {},
          "execution_count": 3
        }
      ]
    },
    {
      "cell_type": "markdown",
      "source": [
        "## Student(スチューデント)のt検定\n",
        "    2群間の平均値の差を比較する検定\n",
        "    2群間の平均値が独立であり(データに対応がない)、2群間に等分散性が仮定できる場合に用いる\n",
        "\n",
        "2群間の平均値が独立であり(データに対応がない)、2群間に等分散性が仮定できる場合に用いるというのはデータ間に関連がないという認識でいいの?\n",
        "\n",
        "はい、正確です。文脈において「2群間の平均値が独立であり(データに対応がない)、2群間に等分散性が仮定できる場合に用いる」と述べられている場合、それは以下のような状況を指しています：\n",
        "\n",
        "    データに対応がない（独立である）: 2つのグループ（または標本）の各観測値が互いに独立しており、一方のグループの観測値が他方のグループの観測値に影響を与えていないと仮定されています。\n",
        "\n",
        "    2群間に等分散性が仮定できる: 2つのグループの母集団の分散が等しいと仮定されています。等分散性が仮定できる場合、統計的検定や推定の際に利用されるパラメータがより一貫性があります。\n",
        "\n",
        "この文脈では、データ同士が独立であり、かつ2つのグループの分散が等しい（等分散性が仮定できる）とされています。これは、通常の独立な2群の比較として知られる t-検定（等分散性を仮定した場合）や、Welchのt検定（等分散性を仮定しない場合）などが適用される状況です。\n",
        "\n",
        "### 用いるデータ\n",
        "\n",
        "Aの値は平均値9, 標準偏差1.5の正規分布に従う値で、Bの値は平均値3, 標準偏差1.5の正規分布に従う値です。"
      ],
      "metadata": {
        "id": "2UUPj_PHNlYG"
      }
    },
    {
      "cell_type": "code",
      "source": [
        "A = np.array([6.3, 8.1, 9.4, 10.4, 8.6, 10.5, 10.2, 10.5, 10.0, 8.8])\n",
        "B = np.array([4.8, 2.1, 5.1, 2.0, 4.0, 1.0, 3.4, 2.7, 5.1, 1.4, 1.6])"
      ],
      "metadata": {
        "id": "cQHsmtRlNAE6"
      },
      "execution_count": 4,
      "outputs": []
    },
    {
      "cell_type": "markdown",
      "source": [
        "    Aのサンプルサイズ: 10\n",
        "    Bのサンプルサイズ: 11\n",
        "\n",
        "なので、少なくとも対応はありません。\n",
        "次に等分散性を確認するため、F検定を行います。有意水準を0.05、帰無仮説を「対象の2群の分散に差はないこと」とします。Scipyモジュールには、F検定を直接行うメソッドがないため、少し面倒です。"
      ],
      "metadata": {
        "id": "qv8-cGYfRm4R"
      }
    },
    {
      "cell_type": "code",
      "source": [
        "A_var = np.var(A, ddof=1)  # Aの不偏分散\n",
        "B_var = np.var(B, ddof=1)  # Bの不偏分散\n",
        "A_df = len(A) - 1  # Aの自由度\n",
        "B_df = len(B) - 1  # Bの自由度\n",
        "f = A_var / B_var  # F比の値\n",
        "one_sided_pval1 = stats.f.cdf(f, A_df, B_df)  # 片側検定のp値 1\n",
        "one_sided_pval2 = stats.f.sf(f, A_df, B_df)   # 片側検定のp値 2\n",
        "two_sided_pval = min(one_sided_pval1, one_sided_pval2) * 2  # 両側検定のp値\n",
        "\n",
        "print('F:       ', round(f, 3))\n",
        "print('p-value: ', round(two_sided_pval, 3))\n",
        "\n",
        "# 結果、p > 0.05なので、帰無仮説は棄却されず、2群間は等分散であること(少なくとも不等分散でないこと)が示唆されました。\n",
        "# よって、Studentのt検定を行います。有意水準を0.05、帰無仮説を「2群間の平均値に差がないこと」とします。\n",
        "\n",
        "\n",
        "\n",
        "# 2群間は等分散であること(少なくとも不等分散でないこと)が示唆されました。という意味を教えて\n",
        "\n",
        "# 「2群間は等分散であることが示唆されました（少なくとも不等分散でないこと）」という文脈では、統計的な分析において、2つの群（または標本）の母集団の分散についての比較が行われています。\n",
        "\n",
        "# 以下は文の中で使われているキーワードの説明です：\n",
        "# 等分散であることが示唆されました： この部分は、2つの群の母集団の分散がおおよそ同じである可能性が示唆されていることを意味します。\n",
        "# 等分散性が成り立つ場合、統計的検定や推定などがより正確に行えることがあります。\n",
        "\n",
        "# 少なくとも不等分散でないこと： 逆に、少なくとも（最低限）2つの群の母集団の分散が明らかに異なる（不等分散でない）ということも示唆されています。\n",
        "# つまり、等分散性が仮定できなくても、少なくとも不等分散でないことが考えられています。\n",
        "\n",
        "# このような文脈では、通常は統計的検定の前提として等分散性が仮定されることが多いですが、等分散性の仮定が妥当でない場合、統計的手法を適切に修正する必要があります。\n",
        "# 例えば、Welchのt検定など、等分散性を仮定しない手法を利用することがあります。\n",
        "# 文の中では、等分散性が示唆されているものの、少なくとも不等分散でないことが考慮されていると言えます。"
      ],
      "metadata": {
        "colab": {
          "base_uri": "https://localhost:8080/"
        },
        "id": "yKtFHt42NAHN",
        "outputId": "55e5eec6-b17c-4e93-ae86-c06be7696799"
      },
      "execution_count": 5,
      "outputs": [
        {
          "output_type": "stream",
          "name": "stdout",
          "text": [
            "F:        0.779\n",
            "p-value:  0.718\n"
          ]
        }
      ]
    },
    {
      "cell_type": "code",
      "source": [
        "stats.ttest_ind(A, B)\n",
        "# 結果、p < 0.05なので、帰無仮説は棄却され、2群間には差があるといえます。"
      ],
      "metadata": {
        "colab": {
          "base_uri": "https://localhost:8080/"
        },
        "id": "G_KOaeRqNAJl",
        "outputId": "bb5e9545-79ca-4614-edeb-e9fe066ac605"
      },
      "execution_count": 6,
      "outputs": [
        {
          "output_type": "execute_result",
          "data": {
            "text/plain": [
              "TtestResult(statistic=9.851086859836649, pvalue=6.698194360479442e-09, df=19.0)"
            ]
          },
          "metadata": {},
          "execution_count": 6
        }
      ]
    },
    {
      "cell_type": "markdown",
      "source": [
        "## Welch(ウェルチ)のt検定\n",
        "\n",
        "    2群間の平均値の差を比較する検定\n",
        "    2群間の平均値が独立であり(データに対応がない)、2群間に等分散性が仮定できない場合に用いる\n",
        "\n",
        "### 用いるデータ\n",
        "\n",
        "Aの値は平均値9, 標準偏差3.5の正規分布に従う値で、Bの値は平均値3, 標準偏差1.5の正規分布に従う値です。\n",
        "\n"
      ],
      "metadata": {
        "id": "3b3ZaQiFTPJw"
      }
    },
    {
      "cell_type": "code",
      "source": [
        "A = np.array([13.8, 10.2, 4.6, 10.0, 4.2, 16.1, 14.4, 4.9, 7.7, 11.4])\n",
        "B = np.array([3.3, 2.6, 4.0, 4.7, 1.9, 2.9, 4.7, 5.3, 4.3, 3.0, 2.0])"
      ],
      "metadata": {
        "id": "D4G8iVjLNALp"
      },
      "execution_count": 7,
      "outputs": []
    },
    {
      "cell_type": "markdown",
      "source": [
        "    Aのサンプルサイズ: 10\n",
        "    Bのサンプルサイズ: 11\n",
        "\n",
        "なので、少なくとも対応はありません。\n",
        "次に等分散性を確認するため、F検定を行います。有意水準を0.05、帰無仮説を「対象の2群の分散に差はないこと」とします。"
      ],
      "metadata": {
        "id": "QQEPIgAeVp6-"
      }
    },
    {
      "cell_type": "code",
      "source": [
        "A_var = np.var(A, ddof=1)  # Aの不偏分散\n",
        "B_var = np.var(B, ddof=1)  # Bの不偏分散\n",
        "A_df = len(A) - 1  # Aの自由度\n",
        "B_df = len(B) - 1  # Bの自由度\n",
        "f = A_var / B_var  # F比の値\n",
        "one_sided_pval1 = stats.f.cdf(f, A_df, B_df)  # 片側検定のp値 1\n",
        "one_sided_pval2 = stats.f.sf(f, A_df, B_df)   # 片側検定のp値 2\n",
        "two_sided_pval = min(one_sided_pval1, one_sided_pval2) * 2  # 両側検定のp値\n",
        "\n",
        "print('F:       ', round(f, 3))\n",
        "print('p-value: ', round(two_sided_pval, 4))\n",
        "\n",
        "# 結果、p < 0.05なので、帰無仮説は棄却され、2群間は不等分散であることが示唆されました。\n",
        "# よって、Welchのt検定を行います。有意水準を0.05、帰無仮説を「2群間の平均値に差がないこと」とします。\n",
        "# Welchのt検定を行う場合には、ttest_indメソッドでequal_var=Falseとします。"
      ],
      "metadata": {
        "colab": {
          "base_uri": "https://localhost:8080/"
        },
        "id": "mxhbBRhWNAN2",
        "outputId": "c4f722ba-7532-4da5-dc2c-5c2a1fa09535"
      },
      "execution_count": 8,
      "outputs": [
        {
          "output_type": "stream",
          "name": "stdout",
          "text": [
            "F:        13.925\n",
            "p-value:  0.0003\n"
          ]
        }
      ]
    },
    {
      "cell_type": "code",
      "source": [
        "stats.ttest_ind(A, B, equal_var=False)\n",
        "# 結果、p < 0.05なので、帰無仮説は棄却され、2群間には差があるといえます。"
      ],
      "metadata": {
        "colab": {
          "base_uri": "https://localhost:8080/"
        },
        "id": "7dJu3UhKNAP4",
        "outputId": "fc997896-12cb-40e6-8668-e2a37803fded"
      },
      "execution_count": 9,
      "outputs": [
        {
          "output_type": "execute_result",
          "data": {
            "text/plain": [
              "TtestResult(statistic=4.426442804187721, pvalue=0.0012285738375064346, df=10.174492620405424)"
            ]
          },
          "metadata": {},
          "execution_count": 9
        }
      ]
    },
    {
      "cell_type": "markdown",
      "source": [
        "## Mann-Whitney(マンホイットニー)のU検定(Wilcoxon(ウィルコクソン)の順位和検定)\n",
        "\n",
        "    2群間の平均値が独立であり(データに対応がない)、正規分布が仮定できない(ノンパラメトリック)場合に用いる\n",
        "    順序尺度に対応\n",
        "    独立2群間の代表値の差の検定\n",
        "    各群のサンプル数は一致しなくてよい\n",
        "\n",
        "### 用いるデータ"
      ],
      "metadata": {
        "id": "HI_ZKbe-WAzE"
      }
    },
    {
      "cell_type": "code",
      "source": [
        "A = np.array([1.83, 1.50, 1.62, 2.48, 1.68, 1.88, 1.55, 3.06, 1.30, 2.01, 3.11])\n",
        "B = np.array([0.88, 0.65, 0.60, 1.05, 1.06, 1.29, 1.06, 2.14, 1.29])\n",
        "\n",
        "# 有意水準を0.05、帰無仮説を「2群間の代表値に差がないこと」とします。"
      ],
      "metadata": {
        "id": "43IZi1eDccPt"
      },
      "execution_count": 10,
      "outputs": []
    },
    {
      "cell_type": "code",
      "source": [
        "stats.mannwhitneyu(A, B, alternative='two-sided')\n",
        "# 結果、p < 0.05なので、帰無仮説は棄却され、2群の代表値には差があるといえます。"
      ],
      "metadata": {
        "id": "b6nSW-x6ccSc",
        "colab": {
          "base_uri": "https://localhost:8080/"
        },
        "outputId": "cb853106-ee28-4c8a-d725-0edc0bae0702"
      },
      "execution_count": 11,
      "outputs": [
        {
          "output_type": "execute_result",
          "data": {
            "text/plain": [
              "MannwhitneyuResult(statistic=91.0, pvalue=0.0018253610099931035)"
            ]
          },
          "metadata": {},
          "execution_count": 11
        }
      ]
    },
    {
      "cell_type": "markdown",
      "source": [
        "## Wilcoxon(ウィルコクソン)の符号付順位和検定\n",
        "\n",
        "    2群間の平均値が独立ではなく(データに対応がある)、正規分布が仮定できない(ノンパラメトリック)場合に用いる\n",
        "    順序尺度に対応\n",
        "    独立2群間の代表値の差の検定\n",
        "\n",
        "### 用いるデータ"
      ],
      "metadata": {
        "id": "ezUiRozwWUqK"
      }
    },
    {
      "cell_type": "code",
      "source": [
        "A = np.array([1.83, 1.50, 1.62, 2.48, 1.68, 1.88, 1.55, 3.06, 1.30])\n",
        "B = np.array([0.88, 0.65, 0.60, 1.05, 1.06, 1.29, 1.06, 2.14, 1.29])\n",
        "\n",
        "# 有意水準を0.05、帰無仮説を「2群間の代表値に差がないこと」とします。"
      ],
      "metadata": {
        "id": "jQXdPQ6sWcDW"
      },
      "execution_count": 12,
      "outputs": []
    },
    {
      "cell_type": "code",
      "source": [
        "stats.wilcoxon(A, B)\n",
        "# 結果、p < 0.05なので、帰無仮説は棄却され、2群の代表値には差があるといえます。\n",
        "\n",
        "# 注意点\n",
        "# 正規分布への近似を用いて計算を行っているため、サンプル数は大きくなければなりません。\n",
        "# サンプル数がn < 20の場合、以下の警告が出ます。\n",
        "\n",
        "# UserWarning: Warning: sample size too small for normal approximation.\n",
        "# warnings.warn(\"Warning: sample size too small for normal approximation.\")"
      ],
      "metadata": {
        "id": "eQ8YIXeyccVd",
        "colab": {
          "base_uri": "https://localhost:8080/"
        },
        "outputId": "8cd2b63c-6c00-4d60-e0ea-17c8a4b03243"
      },
      "execution_count": 13,
      "outputs": [
        {
          "output_type": "execute_result",
          "data": {
            "text/plain": [
              "WilcoxonResult(statistic=0.0, pvalue=0.00390625)"
            ]
          },
          "metadata": {},
          "execution_count": 13
        }
      ]
    }
  ]
}