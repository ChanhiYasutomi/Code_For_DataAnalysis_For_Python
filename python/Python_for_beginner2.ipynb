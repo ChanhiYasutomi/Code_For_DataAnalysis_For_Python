{
  "nbformat": 4,
  "nbformat_minor": 0,
  "metadata": {
    "colab": {
      "name": "Python for beginner2.ipynb",
      "provenance": []
    },
    "kernelspec": {
      "name": "python3",
      "display_name": "Python 3"
    },
    "language_info": {
      "name": "python"
    }
  },
  "cells": [
    {
      "cell_type": "code",
      "execution_count": 1,
      "metadata": {
        "colab": {
          "base_uri": "https://localhost:8080/"
        },
        "id": "0NC6ea3dpg_o",
        "outputId": "160aa4fb-1f6a-4ad2-b16f-cf8ee76b1793"
      },
      "outputs": [
        {
          "output_type": "stream",
          "name": "stdout",
          "text": [
            "hello world\n"
          ]
        }
      ],
      "source": [
        "print(\"hello world\")"
      ]
    },
    {
      "cell_type": "code",
      "source": [
        "# 演算\n",
        "a=10\n",
        "b=2\n",
        "print(a+b)\n",
        "print(a-b)\n",
        "print(a*b)\n",
        "print(a/b)\n",
        "print(a%b)"
      ],
      "metadata": {
        "colab": {
          "base_uri": "https://localhost:8080/"
        },
        "id": "oA8QsaJx7DZ3",
        "outputId": "19f16b22-747c-405e-f9f9-71d8654f63e7"
      },
      "execution_count": 13,
      "outputs": [
        {
          "output_type": "stream",
          "name": "stdout",
          "text": [
            "12\n",
            "8\n",
            "20\n",
            "5.0\n",
            "0\n"
          ]
        }
      ]
    },
    {
      "cell_type": "code",
      "source": [
        "# 変数\n",
        "\n",
        "panda =\"hello world\"\n",
        "panda_length=5\n",
        "panda_times=5.5\n",
        "\n",
        "print(panda)\n",
        "print(panda_length)\n",
        "print(panda_times)\n",
        "\n",
        "print(type(panda))\n",
        "print(type(panda_length))\n",
        "print(type(panda_times))\n",
        "\n",
        "# 型を確認することでミスを削減できる\n",
        "# str型とint,float型は結合できない\n",
        "# 予約語は変数として指定できない"
      ],
      "metadata": {
        "colab": {
          "base_uri": "https://localhost:8080/"
        },
        "id": "iM5OQI2a7Wd1",
        "outputId": "342d16dc-19e2-472a-e391-28852ead652b"
      },
      "execution_count": 12,
      "outputs": [
        {
          "output_type": "stream",
          "name": "stdout",
          "text": [
            "hello world\n",
            "5\n",
            "5.5\n",
            "<class 'str'>\n",
            "<class 'int'>\n",
            "<class 'float'>\n"
          ]
        }
      ]
    },
    {
      "cell_type": "code",
      "source": [
        "# 条件分岐\n",
        "# elif = if文の条件に当てはまらない場合に２つ目の条件を設定する\n",
        "\n",
        "panda=\"L_size\"\n",
        "panda_length=5\n",
        "panda_times=5.5\n",
        "\n",
        "if panda_length>3:\n",
        "    print(\"a lot\")\n",
        "elif panda_length == 0:\n",
        "    print(\"nothing\")\n",
        "else:\n",
        "    print(\"short\")"
      ],
      "metadata": {
        "colab": {
          "base_uri": "https://localhost:8080/"
        },
        "id": "BHqk1x8t9CsR",
        "outputId": "694ee965-f770-4958-9d93-a6155f1809d3"
      },
      "execution_count": 27,
      "outputs": [
        {
          "output_type": "stream",
          "name": "stdout",
          "text": [
            "a lot\n"
          ]
        }
      ]
    },
    {
      "cell_type": "code",
      "source": [
        "# 関数 - 命令のまとまり（使い回しができる）\n",
        "def panda_fundaru():\n",
        "    panda_status=10\n",
        "# これで定義終了\n",
        "\n",
        "# 条件分岐\n",
        "    if (panda_status < 10):\n",
        "        return \"still ok\"\n",
        "    else:\n",
        "        return \"not ok\"\n",
        "\n",
        "print(panda_fundaru())\n",
        "# 実行 - panda_fundaru()\n",
        "# return - 関数を呼び出した時に返ってくる答え"
      ],
      "metadata": {
        "colab": {
          "base_uri": "https://localhost:8080/"
        },
        "id": "rgP-LuEi7jrS",
        "outputId": "9fc75e0f-2d0a-45bc-b5dd-4bf110fc7c06"
      },
      "execution_count": 31,
      "outputs": [
        {
          "output_type": "stream",
          "name": "stdout",
          "text": [
            "not ok\n"
          ]
        }
      ]
    },
    {
      "cell_type": "code",
      "source": [
        "# arg - 引数\n",
        "# argのなかに引数として５が格納される\n",
        "# 引数を使うことで、柔軟性が生まれる\n",
        "\n",
        "def panda_fundaru(arg):\n",
        "    panda_status=arg\n",
        "\n",
        "    if (panda_status < 10):\n",
        "        return \"still ok\"\n",
        "    else:\n",
        "        return \"not ok\"\n",
        "\n",
        "print(panda_fundaru(5))"
      ],
      "metadata": {
        "colab": {
          "base_uri": "https://localhost:8080/"
        },
        "id": "2x0-Ynpl7jpf",
        "outputId": "7170c7d6-b00c-42e9-e4df-e147ad67b75c"
      },
      "execution_count": 34,
      "outputs": [
        {
          "output_type": "stream",
          "name": "stdout",
          "text": [
            "still ok\n"
          ]
        }
      ]
    },
    {
      "cell_type": "code",
      "source": [
        "# リスト - 変数を複数指定ができる。文字列でも数字でも可能\n",
        "# プログラミングは０から数え始める\n",
        "\n",
        "panda_list=[\"small_panda\",\"mediam_panda\",\"large_panda\"]\n",
        "print(panda_list)\n",
        "print(panda_list[1])"
      ],
      "metadata": {
        "colab": {
          "base_uri": "https://localhost:8080/"
        },
        "id": "9EdEgeF07jnr",
        "outputId": "36a87b47-516d-451c-973a-01bf59b3cb8b"
      },
      "execution_count": 37,
      "outputs": [
        {
          "output_type": "stream",
          "name": "stdout",
          "text": [
            "['small_panda', 'mediam_panda', 'large_panda']\n",
            "mediam_panda\n"
          ]
        }
      ]
    },
    {
      "cell_type": "code",
      "source": [
        "# for文 - iの役割は繰り返し\n",
        "for i in range(11):\n",
        "    print(panda_fundaru(5))"
      ],
      "metadata": {
        "colab": {
          "base_uri": "https://localhost:8080/"
        },
        "id": "CHc37RaoBtFP",
        "outputId": "dcb5f099-e8e4-433f-940c-06a614df677b"
      },
      "execution_count": 52,
      "outputs": [
        {
          "output_type": "stream",
          "name": "stdout",
          "text": [
            "still ok\n",
            "still ok\n",
            "still ok\n",
            "still ok\n",
            "still ok\n",
            "still ok\n",
            "still ok\n",
            "still ok\n",
            "still ok\n",
            "still ok\n",
            "still ok\n"
          ]
        }
      ]
    },
    {
      "cell_type": "code",
      "source": [
        "for i in range(11):\n",
        "    print(panda_fundaru(i))"
      ],
      "metadata": {
        "colab": {
          "base_uri": "https://localhost:8080/"
        },
        "id": "f_u1iNF57jll",
        "outputId": "a4a6f3d9-9c4d-46a5-f458-895a31f0df85"
      },
      "execution_count": 53,
      "outputs": [
        {
          "output_type": "stream",
          "name": "stdout",
          "text": [
            "still ok\n",
            "still ok\n",
            "still ok\n",
            "still ok\n",
            "still ok\n",
            "still ok\n",
            "still ok\n",
            "still ok\n",
            "still ok\n",
            "still ok\n",
            "not ok\n"
          ]
        }
      ]
    },
    {
      "cell_type": "code",
      "source": [
        "# リストと組み合わせた。リストにあるだけ回数が反復される。\n",
        "# itemのなかにそれぞれリストにあるものが格納される\n",
        "# リストと組み合わせて使う時は\"item\"と変数を設定するのが慣習\n",
        "\n",
        "for item in panda_list:\n",
        "    print(item)"
      ],
      "metadata": {
        "colab": {
          "base_uri": "https://localhost:8080/"
        },
        "id": "gC4bfuMA7jiw",
        "outputId": "79b1e548-33be-408c-830c-0a00e1c33613"
      },
      "execution_count": 54,
      "outputs": [
        {
          "output_type": "stream",
          "name": "stdout",
          "text": [
            "small_panda\n",
            "mediam_panda\n",
            "large_panda\n"
          ]
        }
      ]
    },
    {
      "cell_type": "code",
      "source": [
        "# with構文 - 開始から終わりの処理を自動でしてくれる\n",
        "# open() - 開いたファイルに追記や解析をすることができる\n",
        "# open関数 - 引数１つ目=読み込ませたいファイルのパス　引数１つ目=モード\n",
        "\n",
        "with open(\"/content/What is Data Science? - subtitle.txt\",\"r\") as file:\n",
        "    print(file)"
      ],
      "metadata": {
        "colab": {
          "base_uri": "https://localhost:8080/"
        },
        "id": "fOa9KPCB7je0",
        "outputId": "a0c29d07-d144-4ddb-c9fb-b166867b18d6"
      },
      "execution_count": 58,
      "outputs": [
        {
          "output_type": "stream",
          "name": "stdout",
          "text": [
            "<_io.TextIOWrapper name='/content/What is Data Science? - subtitle.txt' mode='r' encoding='UTF-8'>\n"
          ]
        }
      ]
    },
    {
      "cell_type": "code",
      "source": [
        "# クラス - 共通点のある機能を効率よく実装するための、変数や関数をまとめて型にはめたテンプレート（型、Twitterのテンプレ）\n",
        "# インスタンス - テンプレのクラスをもとに出力した（固有の）モノ \n",
        "# def __init__(self,date,user_name): - コンストラクタ=インスタンスを作った時だけ呼ばれる特殊な関数（初期化のような意味）\n",
        "# self - インスタンスが入る\n",
        "\n",
        "class Card:\n",
        "    def __init__(self,date,user_name):\n",
        "        self.date=date\n",
        "        self.user_name=user_name\n",
        "\n",
        "    def message(self):\n",
        "        return \"この投稿は\" + self.user_name + \"さんが\" + self.date + \"に投稿しました\"\n",
        "\n",
        "# ここまででクラスの型が作れた。\n",
        "# これからクラスをインスタンスとして生成する\n",
        "date_a = \"2020-01-01\"\n",
        "user_name_a = \"Taro\"\n",
        "card_a = Card(date_a,user_name_a)\n",
        "\n",
        "date_b=\"2020-01-03\"\n",
        "user_name_b=\"Kayoko\"\n",
        "card_b = Card(date_b,user_name_b)\n",
        "# これでインスタンス生成終了\n",
        "\n",
        "print(card_b.message())"
      ],
      "metadata": {
        "colab": {
          "base_uri": "https://localhost:8080/"
        },
        "id": "1ICNqJtnDjmn",
        "outputId": "0118a26d-94ed-43be-8b35-d41f328ce14e"
      },
      "execution_count": 68,
      "outputs": [
        {
          "output_type": "stream",
          "name": "stdout",
          "text": [
            "この投稿はKayokoさんが2020-01-03に投稿しました\n"
          ]
        }
      ]
    },
    {
      "cell_type": "code",
      "source": [
        "# import xxx - モジュールが使えるようになる\n",
        "# モジュール(ライブラリ、フレームワーク) - 変数、関数、クラスなどを汎用的に使えるようにまとめたコード群\n",
        "\n",
        "import math\n",
        "print(math.pi)\n",
        "\n",
        "import numpy as np\n",
        "numpy_list=[3,1,5,10,2093,304,123]\n",
        "print(np.sum(numpy_list))"
      ],
      "metadata": {
        "colab": {
          "base_uri": "https://localhost:8080/"
        },
        "id": "PTP6kJKvEn7S",
        "outputId": "a49b7d98-1703-4ac5-d6e3-656eb72fb427"
      },
      "execution_count": 74,
      "outputs": [
        {
          "output_type": "stream",
          "name": "stdout",
          "text": [
            "3.141592653589793\n",
            "2539\n"
          ]
        }
      ]
    }
  ]
}