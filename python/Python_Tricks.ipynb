{
  "nbformat": 4,
  "nbformat_minor": 0,
  "metadata": {
    "colab": {
      "name": "Python-Tricks.ipynb",
      "provenance": [],
      "collapsed_sections": []
    },
    "kernelspec": {
      "name": "python3",
      "display_name": "Python 3"
    },
    "language_info": {
      "name": "python"
    }
  },
  "cells": [
    {
      "cell_type": "markdown",
      "source": [
        "# 内包表記(one-linear)"
      ],
      "metadata": {
        "id": "E7soOoTnCSgT"
      }
    },
    {
      "cell_type": "code",
      "execution_count": 12,
      "metadata": {
        "id": "Fg65acomU93_"
      },
      "outputs": [],
      "source": [
        "# 内包表記(one-linear) - リストに何らかの値を追加していく際、１行で実装できる構文構造\n",
        "# リストの中身を全て数値から文字列に変換したい場合、for文で１つ１つの要素を取り出し\n",
        "# その要素を文字列に変換した上で、新しいリストに追加する流れ\n",
        "# これをたったの１行でできるようになる。\n",
        "# 処理速度が早い"
      ]
    },
    {
      "cell_type": "code",
      "source": [
        "# random.randint(整数の範囲を指定) 今回1から100まで\n",
        "import random\n",
        "random.randint(1,100)"
      ],
      "metadata": {
        "colab": {
          "base_uri": "https://localhost:8080/"
        },
        "id": "uRBJSxJqk-YF",
        "outputId": "a5847cf1-8330-4253-9ba4-421181dce940"
      },
      "execution_count": 13,
      "outputs": [
        {
          "output_type": "execute_result",
          "data": {
            "text/plain": [
              "43"
            ]
          },
          "metadata": {},
          "execution_count": 13
        }
      ]
    },
    {
      "cell_type": "code",
      "source": [
        "data=[]\n",
        "# 一時的に値を入れたい場合は _ をよく入れる\n",
        "# for _ in range(1000):　1000回ループを回す\n",
        "# data.append(dataに\"何を\"追加するか)\n",
        "for _ in range(1000):\n",
        "    x=random.randint(1,100)\n",
        "    data.append(x)\n",
        "# data.append(x)　これでxという乱数をデータの中に追加できるようになる\n",
        "print(len(data))\n",
        "print(data[:10])"
      ],
      "metadata": {
        "id": "1YfA9HHqlJIz",
        "colab": {
          "base_uri": "https://localhost:8080/"
        },
        "outputId": "ae3484bd-8b0c-4b92-ca98-0057f89bcb54"
      },
      "execution_count": 14,
      "outputs": [
        {
          "output_type": "stream",
          "name": "stdout",
          "text": [
            "1000\n",
            "[62, 42, 17, 77, 8, 72, 56, 12, 56, 65]\n"
          ]
        }
      ]
    },
    {
      "cell_type": "code",
      "source": [
        "# データを１０倍した数を要素としてリストに入れる\n",
        "# %%timeit - 速度の計測が可能\n",
        "\n",
        "data_10x=[]\n",
        "for datum in data:\n",
        "    data_10x.append(datum*10)\n",
        "\n",
        "print(data_10x[:10])\n",
        "\n",
        "# 内包表記の場合\n",
        "# 1,[]の中にfor文を書く - 後ろ\n",
        "# 2,どの値を追加したいか一番最初に書く - 前\n",
        "\n",
        "new_data_10x = [datum*10 for datum in data]\n",
        "new_data_10x[:10]\n",
        "# new_data_10x[:10] - 最初の10個だけ表示"
      ],
      "metadata": {
        "colab": {
          "base_uri": "https://localhost:8080/"
        },
        "id": "V-4RJYpulwYU",
        "outputId": "9ac5b4f6-5b9f-4bbe-bea7-84689a3895e0"
      },
      "execution_count": 15,
      "outputs": [
        {
          "output_type": "stream",
          "name": "stdout",
          "text": [
            "[620, 420, 170, 770, 80, 720, 560, 120, 560, 650]\n"
          ]
        },
        {
          "output_type": "execute_result",
          "data": {
            "text/plain": [
              "[620, 420, 170, 770, 80, 720, 560, 120, 560, 650]"
            ]
          },
          "metadata": {},
          "execution_count": 15
        }
      ]
    },
    {
      "cell_type": "code",
      "source": [
        "# 練習 - if文を使いたい場合\n",
        "# 奇数の値のみを取り出す\n",
        "\n",
        "# 内包表記なしver\n",
        "data_odd=[]\n",
        "for datum in data:\n",
        "    if datum %2 != 0:\n",
        "        data_odd.append(datum)\n",
        "        # data_odd.append(datum) データが奇数の場合だけ追加する\n",
        "print(data_odd[:10])\n",
        "\n",
        "# 内包表記ver\n",
        "# if文はfor文の後ろに記述する\n",
        "new_data_odd = [datum for datum in data if datum %2 !=0]\n",
        "print(new_data_odd[:10])"
      ],
      "metadata": {
        "colab": {
          "base_uri": "https://localhost:8080/"
        },
        "id": "wPd-sDdAna9A",
        "outputId": "3f9ae8c1-cb28-4f5a-f392-43d1d6e2148d"
      },
      "execution_count": 16,
      "outputs": [
        {
          "output_type": "stream",
          "name": "stdout",
          "text": [
            "[17, 77, 65, 59, 51, 25, 25, 99, 89, 87]\n",
            "[17, 77, 65, 59, 51, 25, 25, 99, 89, 87]\n"
          ]
        }
      ]
    },
    {
      "cell_type": "code",
      "source": [
        "# if else、条件分岐\n",
        "# x >= 50 (50以上の整数)　ー そのまま表示\n",
        "# 50 < x (50未満の整数)　ー 100倍\n",
        "\n",
        "# 内包表記なしver\n",
        "data_50=[]\n",
        "for datum in data:\n",
        "    if datum >= 50:\n",
        "        data_50.append(datum)\n",
        "    else:\n",
        "        data_50.append(datum*100)\n",
        "print(data_50[:10])\n",
        "\n",
        "# 内包表記ver\n",
        "# datum if datum >= 50 もしdatumが５０以上ならばdatumに追加\n",
        "# else datum*100　そうでなければdatumに１００倍する\n",
        "\n",
        "new_data_50=[datum if datum >= 50 else datum*100 for datum in data]\n",
        "print(new_data_50[:10])"
      ],
      "metadata": {
        "colab": {
          "base_uri": "https://localhost:8080/"
        },
        "id": "IuHDM78YokE0",
        "outputId": "e0781805-42c6-48a5-93b9-6d28d53e0057"
      },
      "execution_count": 17,
      "outputs": [
        {
          "output_type": "stream",
          "name": "stdout",
          "text": [
            "[62, 4200, 1700, 77, 800, 72, 56, 1200, 56, 65]\n",
            "[62, 4200, 1700, 77, 800, 72, 56, 1200, 56, 65]\n"
          ]
        }
      ]
    },
    {
      "cell_type": "code",
      "source": [
        "# FizzBuzz問題\n",
        "# 1から５０までの数字を出力するプログラムを書いてください。\n",
        "# ただし、数字が３の倍数の時は数字の代わりにFizzと出力し、\n",
        "# 5の倍数の時は数字の代わりにBuzzと出力し\n",
        "# ３と５の倍数の時は、FizzBuzzと出力すること。\n",
        "\n",
        "# 内包表記なしver\n",
        "fizz_buzz=[] \n",
        "for i in range(1,51): \n",
        "    if i % 15 == 0:\n",
        "        fizz_buzz.append(\"FizzBuzz\")\n",
        "    elif i % 3 == 0:\n",
        "        fizz_buzz.append(\"Fizz\")\n",
        "    elif i % 5 == 0:\n",
        "        fizz_buzz.append(\"Buzz\")\n",
        "    else:\n",
        "        fizz_buzz.append(i)\n",
        "print(fizz_buzz)\n",
        "\n",
        "# 内包表記ver\n",
        "new_fizz_buzz=[\"FizzBuzz\" if i%15 == 0 else \"Fizz\" if i%3 == 0 else \"Buzz\" if i%5==0 else i for i in range(1,51)] \n",
        "print(new_fizz_buzz)"
      ],
      "metadata": {
        "colab": {
          "base_uri": "https://localhost:8080/"
        },
        "id": "V4ml1XWTokGW",
        "outputId": "744a5637-46fa-4f6b-9a7b-7c8c9e7847ff"
      },
      "execution_count": 18,
      "outputs": [
        {
          "output_type": "stream",
          "name": "stdout",
          "text": [
            "[1, 2, 'Fizz', 4, 'Buzz', 'Fizz', 7, 8, 'Fizz', 'Buzz', 11, 'Fizz', 13, 14, 'FizzBuzz', 16, 17, 'Fizz', 19, 'Buzz', 'Fizz', 22, 23, 'Fizz', 'Buzz', 26, 'Fizz', 28, 29, 'FizzBuzz', 31, 32, 'Fizz', 34, 'Buzz', 'Fizz', 37, 38, 'Fizz', 'Buzz', 41, 'Fizz', 43, 44, 'FizzBuzz', 46, 47, 'Fizz', 49, 'Buzz']\n",
            "[1, 2, 'Fizz', 4, 'Buzz', 'Fizz', 7, 8, 'Fizz', 'Buzz', 11, 'Fizz', 13, 14, 'FizzBuzz', 16, 17, 'Fizz', 19, 'Buzz', 'Fizz', 22, 23, 'Fizz', 'Buzz', 26, 'Fizz', 28, 29, 'FizzBuzz', 31, 32, 'Fizz', 34, 'Buzz', 'Fizz', 37, 38, 'Fizz', 'Buzz', 41, 'Fizz', 43, 44, 'FizzBuzz', 46, 47, 'Fizz', 49, 'Buzz']\n"
          ]
        }
      ]
    },
    {
      "cell_type": "markdown",
      "source": [
        "# lambda式"
      ],
      "metadata": {
        "id": "uzTqV_4qCVY4"
      }
    },
    {
      "cell_type": "code",
      "source": [
        "# lambda式 - 無名関数を書くための記法\n",
        "# 通常の関数内にがっつり処理を書くほどではないけど、処理を簡単にまとめておきたい時に使う\n",
        "\n",
        "# 無名関数\n",
        "# lambda a,b -> 引数 : a*b -> 返り値\n",
        "\n",
        "# 通常ver - 三角形の面積計算\n",
        "# def calc(引数):\n",
        "#     return base*height*0.5　- 返り値\n",
        "\n",
        "def calc(base,height):\n",
        "    return base*height*0.5\n",
        "print(calc(5,10))\n",
        "\n",
        "# lambda ver\n",
        "# 1,引数を最初に書く\n",
        "# 2,返り値を書く\n",
        "# 3,(lambda base,height -> 引数 : base*height*0.5 -> 返り値)\n",
        "\n",
        "lambda base,height : base*height*0.5 #lambda式完成\n",
        "# 実行したい場合は最後の引数を入れる↓\n",
        "# print((lambda base,height : base*height*0.5)(引数,引数))\n",
        "print((lambda base,height : base*height*0.5)(5,10))\n",
        "\n",
        "# 変数として宣言もできる\n",
        "func = lambda base,height : base*height*0.5\n",
        "print(func(5,10))"
      ],
      "metadata": {
        "colab": {
          "base_uri": "https://localhost:8080/"
        },
        "id": "4gh7zahxokLz",
        "outputId": "22d3d5ef-3539-4237-c194-1ff140247c11"
      },
      "execution_count": 19,
      "outputs": [
        {
          "output_type": "stream",
          "name": "stdout",
          "text": [
            "25.0\n",
            "25.0\n",
            "25.0\n"
          ]
        }
      ]
    },
    {
      "cell_type": "code",
      "source": [
        "# lambda式は高層関数と合わせて使われる\n",
        "# 高層関数 - 引数に関数を取る\n",
        "\n",
        "# 大文字、小文字がバラバラな生徒リストを、統一して大文字で再度リストを作る\n",
        "students = [\"chani\",\"chanhi\",\"Leon\",\"Nao\",\"Kosaka\"]\n",
        "\n",
        "# for文 ver\n",
        "new_students=[]\n",
        "for student in students:\n",
        "    new_students.append(student.upper())\n",
        "print(new_students)\n",
        "\n",
        "# 内包表記 ver\n",
        "c_new_students=[student.upper() for student in students]\n",
        "print(c_new_students)\n",
        "\n",
        "# lambda ver\n",
        "# map - 各要素に対して特定の関数の処理を書きたい場合、用いられる\n",
        "# map関数 - map(適用したい関数のようなもの,適用させる対象(オブジェクト))\n",
        "list(map(lambda student: student.upper(),students))"
      ],
      "metadata": {
        "colab": {
          "base_uri": "https://localhost:8080/"
        },
        "id": "V6X9s5rmvLuJ",
        "outputId": "a0aa6f4a-97ce-4e63-cf6f-b1a21e7d0fda"
      },
      "execution_count": 20,
      "outputs": [
        {
          "output_type": "stream",
          "name": "stdout",
          "text": [
            "['CHANI', 'CHANHI', 'LEON', 'NAO', 'KOSAKA']\n",
            "['CHANI', 'CHANHI', 'LEON', 'NAO', 'KOSAKA']\n"
          ]
        },
        {
          "output_type": "execute_result",
          "data": {
            "text/plain": [
              "['CHANI', 'CHANHI', 'LEON', 'NAO', 'KOSAKA']"
            ]
          },
          "metadata": {},
          "execution_count": 20
        }
      ]
    },
    {
      "cell_type": "markdown",
      "source": [
        "# 可変長引数"
      ],
      "metadata": {
        "id": "wLofrMBOCaev"
      }
    },
    {
      "cell_type": "code",
      "source": [
        "# 可変長引数 - 長さを変えることが可能な引数\n",
        "# 関数の引数の数を固定せず、自由に設定できる引数\n",
        "# 可変長引数の使い道=print文\n",
        "\n",
        "# 例 - def sample_func(*args,**kwargs):\n",
        "# (*args,**kwargs) -> 可変長引数\n",
        "\n",
        "# どんな引数を入れるべきかあらかじめ設定する必要がある\n",
        "# 例 - 三角形の面積を計算する関数を作成したい場合,baseとheightをあらかじめ設定する必要がある（長さが固定された引数ー普通の引数）\n",
        "\n",
        "def calc(base,height):\n",
        "    return base*height*0.5"
      ],
      "metadata": {
        "id": "Cr8UJTi7vL25"
      },
      "execution_count": 21,
      "outputs": []
    },
    {
      "cell_type": "code",
      "source": [
        "# *args - 複数の引数をタプルとして受け取りたい場合に用いる\n",
        "# def sample(*args): 引数argsにどんな値が入っているのか中身を出力する\n",
        "# *可変長という目印\n",
        "# def sample(*args): - argsじゃなくて大事なのは*　でも基本はargsと書く\n",
        "\n",
        "def sample(*args):\n",
        "    print(args)\n",
        "    print(type(args))\n",
        "\n",
        "if __name__ == \"__main__\" :\n",
        "    sample(1)\n",
        "    sample(1,2,3,4)\n",
        "# ４つの引数を入れたとしても*argsは可変数なのタプルとして表示可能"
      ],
      "metadata": {
        "colab": {
          "base_uri": "https://localhost:8080/"
        },
        "id": "Tmz1FxTY78kd",
        "outputId": "807325f6-c082-4665-c731-96d5048c83d1"
      },
      "execution_count": 22,
      "outputs": [
        {
          "output_type": "stream",
          "name": "stdout",
          "text": [
            "(1,)\n",
            "<class 'tuple'>\n",
            "(1, 2, 3, 4)\n",
            "<class 'tuple'>\n"
          ]
        }
      ]
    },
    {
      "cell_type": "code",
      "source": [
        "# *args + 普通の引数\n",
        "# 普通引数が前、可変長引数が後ろ\n",
        "# *argsが普通引数の残りを吸収している\n",
        "\n",
        "def sample(x,y,*args):\n",
        "    print(x)\n",
        "    print(y)\n",
        "    print(args)\n",
        "\n",
        "if __name__ == \"__main__\" :\n",
        "    sample(1,2,3,4,5,6)"
      ],
      "metadata": {
        "colab": {
          "base_uri": "https://localhost:8080/"
        },
        "id": "mtDwgZvD78lt",
        "outputId": "c482686d-128e-4ab2-8773-7b1c3fae7b8a"
      },
      "execution_count": 23,
      "outputs": [
        {
          "output_type": "stream",
          "name": "stdout",
          "text": [
            "1\n",
            "2\n",
            "(3, 4, 5, 6)\n"
          ]
        }
      ]
    },
    {
      "cell_type": "code",
      "source": [
        "# *args + 普通の引数\n",
        "# 可変長引数が前、普通引数が後ろ - エラーが起きる\n",
        "\n",
        "# def sample(*args,x,y):\n",
        "#     print(x)\n",
        "#     print(y)\n",
        "#     print(args)\n",
        "\n",
        "# if __name__ == \"__main__\" :\n",
        "#     sample(1,2,3,4,5,6)\n",
        "\n",
        "# エラーを起こさないためにはキーワード引数(=x,y)の設定が必要\n",
        "\n",
        "def sample(*args,x,y):\n",
        "    print(x)\n",
        "    print(y)\n",
        "    print(args)\n",
        "\n",
        "if __name__ == \"__main__\" :\n",
        "    sample(1,2,3,4,x=5,y=6)"
      ],
      "metadata": {
        "colab": {
          "base_uri": "https://localhost:8080/"
        },
        "id": "zpGuOQ0a78nf",
        "outputId": "a0575441-6b20-41c5-88f8-95f67b56cb8c"
      },
      "execution_count": 24,
      "outputs": [
        {
          "output_type": "stream",
          "name": "stdout",
          "text": [
            "5\n",
            "6\n",
            "(1, 2, 3, 4)\n"
          ]
        }
      ]
    },
    {
      "cell_type": "code",
      "source": [
        "# **kwargs - 複数のキーワード引数を辞書として受け取りたい場合に用いる\n",
        "# **kwargs **が大事\n",
        "# エラーが起きる\n",
        "\n",
        "# def sample(**kwargs):\n",
        "#     print(kwargs)\n",
        "\n",
        "# if __name__ == \"__main__\" :\n",
        "#     sample(1,2,3,4)\n",
        "\n",
        "# キーワード引数が必要\n",
        "def sample(**kwargs):\n",
        "    print(kwargs)\n",
        "    print(type(kwargs))\n",
        "\n",
        "if __name__ == \"__main__\" :\n",
        "    sample(x=1,y=2,z=3)"
      ],
      "metadata": {
        "colab": {
          "base_uri": "https://localhost:8080/"
        },
        "id": "I2DJCb8x78pU",
        "outputId": "6fc77329-6747-44e7-d06f-8be61fc7fa35"
      },
      "execution_count": 25,
      "outputs": [
        {
          "output_type": "stream",
          "name": "stdout",
          "text": [
            "{'x': 1, 'y': 2, 'z': 3}\n",
            "<class 'dict'>\n"
          ]
        }
      ]
    },
    {
      "cell_type": "code",
      "source": [
        "# **kwargs + 普通の引数\n",
        "# 普通引数が前、可変長引数が後ろ\n",
        "\n",
        "def sample(a,b,**kwargs):\n",
        "    print(a)\n",
        "    print(b)\n",
        "    print(kwargs)\n",
        "\n",
        "if __name__ == \"__main__\" :\n",
        "    sample(1,2,x=1,y=2)"
      ],
      "metadata": {
        "colab": {
          "base_uri": "https://localhost:8080/"
        },
        "id": "Umwn4YTDB5bx",
        "outputId": "3b9e7736-48ec-45d3-8c62-9aa74845c805"
      },
      "execution_count": 26,
      "outputs": [
        {
          "output_type": "stream",
          "name": "stdout",
          "text": [
            "1\n",
            "2\n",
            "{'x': 1, 'y': 2}\n"
          ]
        }
      ]
    },
    {
      "cell_type": "code",
      "source": [
        "# 可変長引数が前、普通引数が後ろ - エラーが起きる(実装不可能)\n",
        "\n",
        "def sample(**kwargs,a,b):\n",
        "    print(a)\n",
        "    print(b)\n",
        "    print(kwargs)\n",
        "\n",
        "if __name__ == \"__main__\" :\n",
        "    sample(1,2,x=1,y=2)"
      ],
      "metadata": {
        "id": "MXyZZ2-rB5dR",
        "colab": {
          "base_uri": "https://localhost:8080/",
          "height": 131
        },
        "outputId": "117e6895-0123-4b82-e404-ad33e8e22427"
      },
      "execution_count": 27,
      "outputs": [
        {
          "output_type": "error",
          "ename": "SyntaxError",
          "evalue": "ignored",
          "traceback": [
            "\u001b[0;36m  File \u001b[0;32m\"<ipython-input-27-08604445b11a>\"\u001b[0;36m, line \u001b[0;32m2\u001b[0m\n\u001b[0;31m    def sample(**kwargs,a,b):\u001b[0m\n\u001b[0m                        ^\u001b[0m\n\u001b[0;31mSyntaxError\u001b[0m\u001b[0;31m:\u001b[0m invalid syntax\n"
          ]
        }
      ]
    },
    {
      "cell_type": "markdown",
      "source": [
        "# デコレータ"
      ],
      "metadata": {
        "id": "6MpuypORCePF"
      }
    },
    {
      "cell_type": "code",
      "source": [
        "# デコレータ - ある関数に対して、コードの中身を変更せずに処理を追加、変更できるモノ\n",
        "# 例　- def index():\n",
        "\n",
        "# デコレーター使用例 - webアプリケーションを実装する場合\n",
        "# def index():\n",
        "# トップページへ遷移する処理 \n",
        "\n",
        "# def admin():\n",
        "# ログイン確認処理\n",
        "# 管理画面へ遷移する処理\n",
        "\n",
        "# def create_user():\n",
        "# ログイン確認処理\n",
        "# ユーザー作成画面へ遷移する処理\n",
        "\n",
        "# adminとcreate_user関数が、ユーザーがログインしている状態でないとアクセスできないページだとする\n",
        "# 複数の関数の処理に共通している処理、かつメインの処理ではない機能をまとめる際に便利なのがデコレーター"
      ],
      "metadata": {
        "id": "q-48_KQ5B5gq"
      },
      "execution_count": 37,
      "outputs": []
    },
    {
      "cell_type": "code",
      "source": [
        "# シンプルな関数の呼び出し\n",
        "def func1():\n",
        "    print(\"Called func1!!\")\n",
        "# 実行方法\n",
        "func1()"
      ],
      "metadata": {
        "colab": {
          "base_uri": "https://localhost:8080/"
        },
        "id": "cAblNuibB5ie",
        "outputId": "e431e81f-8a76-4a74-bd51-0cd568056e71"
      },
      "execution_count": 38,
      "outputs": [
        {
          "output_type": "stream",
          "name": "stdout",
          "text": [
            "Called func1!!\n"
          ]
        }
      ]
    },
    {
      "cell_type": "code",
      "source": [
        "# 関数の引数に関数\n",
        "def func1():\n",
        "    print(\"Called func1!!\")\n",
        "\n",
        "def func2(f):\n",
        "    f()\n",
        "\n",
        "func2(func1)"
      ],
      "metadata": {
        "colab": {
          "base_uri": "https://localhost:8080/"
        },
        "id": "6Utlzs77B5kF",
        "outputId": "df09e07b-3e19-473d-d397-a16f10e46b90"
      },
      "execution_count": 39,
      "outputs": [
        {
          "output_type": "stream",
          "name": "stdout",
          "text": [
            "Called func1!!\n"
          ]
        }
      ]
    },
    {
      "cell_type": "code",
      "source": [
        "# 関数内関数\n",
        "def func1(f):\n",
        "    def wrapper():\n",
        "        print(\"開始\")\n",
        "        f()\n",
        "        print(\"終了\")\n",
        "    return wrapper\n",
        "\n",
        "def func2():\n",
        "    print(\"Called func2!!\")\n",
        "\n",
        "func1(func2)()"
      ],
      "metadata": {
        "colab": {
          "base_uri": "https://localhost:8080/"
        },
        "id": "_8ZgIsbpB5mL",
        "outputId": "98c488b6-bc0f-47bd-c04e-31d2f6d617f3"
      },
      "execution_count": 40,
      "outputs": [
        {
          "output_type": "stream",
          "name": "stdout",
          "text": [
            "開始\n",
            "Called func2!!\n",
            "終了\n"
          ]
        }
      ]
    },
    {
      "cell_type": "code",
      "source": [
        "# 実用的に変更\n",
        "import datetime\n",
        "\n",
        "def print_datetime(f):\n",
        "    def wrapper():\n",
        "        print(f\"開始: {datetime.datetime.now()}\")\n",
        "        f()\n",
        "        print(f\"終了:{datetime.datetime.now()}\")\n",
        "    return wrapper\n",
        "\n",
        "# ↓がメインの処理\n",
        "def calc():\n",
        "    print(3**5)\n",
        "\n",
        "print_datetime(calc)()"
      ],
      "metadata": {
        "colab": {
          "base_uri": "https://localhost:8080/"
        },
        "id": "bh4rpuSyB5n8",
        "outputId": "b8e6d46b-1c0a-41f2-be86-e686783a8aae"
      },
      "execution_count": 41,
      "outputs": [
        {
          "output_type": "stream",
          "name": "stdout",
          "text": [
            "開始: 2022-01-27 13:01:40.151887\n",
            "243\n",
            "終了:2022-01-27 13:01:40.153348\n"
          ]
        }
      ]
    },
    {
      "cell_type": "code",
      "source": [
        "# @デコレーター\n",
        "import datetime\n",
        "\n",
        "def print_datetime(f):\n",
        "    def wrapper():\n",
        "        print(f\"開始: {datetime.datetime.now()}\")\n",
        "        f()\n",
        "        print(f\"終了:{datetime.datetime.now()}\")\n",
        "    return wrapper\n",
        "\n",
        "@print_datetime\n",
        "def calc():\n",
        "    print(3**5)\n",
        "\n",
        "calc()"
      ],
      "metadata": {
        "colab": {
          "base_uri": "https://localhost:8080/"
        },
        "id": "F76JG3DSB5rV",
        "outputId": "cee71b78-f6cb-4923-eb74-a4503c3699c1"
      },
      "execution_count": 42,
      "outputs": [
        {
          "output_type": "stream",
          "name": "stdout",
          "text": [
            "開始: 2022-01-27 13:01:40.169275\n",
            "243\n",
            "終了:2022-01-27 13:01:40.170862\n"
          ]
        }
      ]
    },
    {
      "cell_type": "code",
      "source": [
        "# 引数を受け取るデコレーター\n",
        "import datetime\n",
        "\n",
        "def print_datetime(f):\n",
        "    def wrapper(base,height):\n",
        "        print(f\"開始: {datetime.datetime.now()}\")\n",
        "        f(base,height)\n",
        "        print(f\"終了:{datetime.datetime.now()}\")\n",
        "    return wrapper\n",
        "\n",
        "def calc(base,height):\n",
        "    print(base*height/2)\n",
        "\n",
        "print_datetime(calc)(3,10)"
      ],
      "metadata": {
        "colab": {
          "base_uri": "https://localhost:8080/"
        },
        "id": "uAAEAbEtB5s7",
        "outputId": "39e46248-eddd-4713-bf13-8627a6a86155"
      },
      "execution_count": 43,
      "outputs": [
        {
          "output_type": "stream",
          "name": "stdout",
          "text": [
            "開始: 2022-01-27 13:01:40.186455\n",
            "15.0\n",
            "終了:2022-01-27 13:01:40.188022\n"
          ]
        }
      ]
    },
    {
      "cell_type": "code",
      "source": [
        "# 引数を受け取るデコレーター\n",
        "# @をつける\n",
        "\n",
        "import datetime\n",
        "\n",
        "def print_datetime(f):\n",
        "    def wrapper(base,height):\n",
        "        print(f\"開始: {datetime.datetime.now()}\")\n",
        "        f(base,height)\n",
        "        print(f\"終了:{datetime.datetime.now()}\")\n",
        "    return wrapper\n",
        "\n",
        "@print_datetime\n",
        "def calc(base,height):\n",
        "    print(base*height/2)\n",
        "\n",
        "calc(3,10)"
      ],
      "metadata": {
        "colab": {
          "base_uri": "https://localhost:8080/"
        },
        "id": "JBxp7ups78uU",
        "outputId": "0a68fa9c-1e0a-46b2-a35b-1a466bb89d92"
      },
      "execution_count": 44,
      "outputs": [
        {
          "output_type": "stream",
          "name": "stdout",
          "text": [
            "開始: 2022-01-27 13:01:40.204075\n",
            "15.0\n",
            "終了:2022-01-27 13:01:40.205617\n"
          ]
        }
      ]
    },
    {
      "cell_type": "code",
      "source": [
        "# 可変長引数を使い汎用性を高める\n",
        "# def wrapper(*args,**kwargs): *args,**kwargs = どんな引数でも対応するという意味\n",
        "\n",
        "import datetime\n",
        "\n",
        "def print_datetime(f):\n",
        "    def wrapper(*args,**kwargs):\n",
        "        print(f\"開始: {datetime.datetime.now()}\")\n",
        "        f(*args,**kwargs)\n",
        "        print(f\"終了:{datetime.datetime.now()}\")\n",
        "    return wrapper\n",
        "\n",
        "@print_datetime\n",
        "def calc1(a,b,c):\n",
        "    print(a*b*c)\n",
        "\n",
        "@print_datetime\n",
        "def calc2(a,b,c,d):\n",
        "    print(a*b*c*d)\n",
        "\n",
        "calc1(3,10,2)\n",
        "calc2(3,10,2,4)"
      ],
      "metadata": {
        "colab": {
          "base_uri": "https://localhost:8080/"
        },
        "id": "xN2k6nNt78wH",
        "outputId": "a9428561-8d5d-43f3-fe4e-5ccf2bf1ca62"
      },
      "execution_count": 45,
      "outputs": [
        {
          "output_type": "stream",
          "name": "stdout",
          "text": [
            "開始: 2022-01-27 13:01:40.224873\n",
            "60\n",
            "終了:2022-01-27 13:01:40.225886\n",
            "開始: 2022-01-27 13:01:40.226175\n",
            "240\n",
            "終了:2022-01-27 13:01:40.226587\n"
          ]
        }
      ]
    },
    {
      "cell_type": "markdown",
      "source": [
        "# Type Hints（型ヒント）"
      ],
      "metadata": {
        "id": "HgHi54GuCgfa"
      }
    },
    {
      "cell_type": "code",
      "source": [
        "# 型ヒント - 型定。通常Pythonではint型、string型といったデータ型を把握しても変数を宣言するタイミングではデータ型を設定しない？\n",
        "# Pythonが勝手に解釈するから。でもいまはデータ型に注釈をつけるようになっている（型アノテーション）　。\n",
        "# 他の言語では型設定をする。\n",
        "\n",
        "# 型ヒントを伝うべき理由\n",
        "# 1,チームで開発する場合には必要\n",
        "# 2,デバックが容易になる\n",
        "# 3,保守性が高まる\n",
        "\n",
        "# 従来のやり方\n",
        "price = 1000\n",
        "tax = 1.1\n",
        "\n",
        "def calc_price_including_tax(price,tax):\n",
        "    return int(price*tax) #整数で返す必要がある\n",
        "\n",
        "if __name__ == \"__main__\": #Python-Tricks.ipynb（このファイル）が起動したらこれを実行する\n",
        "    print(f\"消費税込の価格:{calc_price_including_tax(price=price,tax=tax)}円\")  \n",
        "# ここまでが従来のやり方\n",
        "\n",
        "# 型ヒントを用いた場合 - 注釈（注釈なので結果にはなんも影響を与えない）\n",
        "price : int = 1000 #これはint型 \n",
        "tax : float = 1.1 #消費税であればfloat型はあり得る\n",
        "\n",
        "def calc_price_including_tax(price : int, tax : float) -> int : #-> int - returnでどのデータ型が返るのか\n",
        "    return int(price*tax) #整数で返す必要がある\n",
        "\n",
        "if __name__ == \"__main__\": #Python-Tricks.ipynb（このファイル）が起動したらこれを実行する\n",
        "    print(f\"消費税込の価格:{calc_price_including_tax(price=price,tax=tax)}円\")  \n",
        "# ここまでが型ヒントを用いた場合"
      ],
      "metadata": {
        "colab": {
          "base_uri": "https://localhost:8080/"
        },
        "id": "-qIqiptUAt--",
        "outputId": "74abef10-3881-4b32-ef34-1b418759b179"
      },
      "execution_count": 46,
      "outputs": [
        {
          "output_type": "stream",
          "name": "stdout",
          "text": [
            "消費税込の価格:1100円\n",
            "消費税込の価格:1100円\n"
          ]
        }
      ]
    },
    {
      "cell_type": "code",
      "source": [
        "# リストと辞書の型ヒント\n",
        "# まずimportする必要がある\n",
        "from typing import List,Dict"
      ],
      "metadata": {
        "id": "1WrfKCT6aKpE"
      },
      "execution_count": 47,
      "outputs": []
    },
    {
      "cell_type": "code",
      "source": [
        "# Pythonの場合\n",
        "sample_list = [1,2,3,4]\n",
        "sample_dict = {\"username\":\"Chani\"}\n",
        "\n",
        "# 型ヒント導入\n",
        "sample_list : List[int] = [1,2,3,4]\n",
        "sample_dict : Dict[str,str]= {\"username\":\"Chani\"}"
      ],
      "metadata": {
        "id": "jUtdxKVncH08"
      },
      "execution_count": 48,
      "outputs": []
    },
    {
      "cell_type": "markdown",
      "source": [
        "# 正規表現"
      ],
      "metadata": {
        "id": "nCJgjQ97Ch9a"
      }
    },
    {
      "cell_type": "code",
      "source": [
        "# 正規表現 - 文字列に共通する部分を記号で表現したもの(文字列抽出)\n",
        "# 複数の文字列を１つの文字列で表現できないかと考えたののが、正規表現\n",
        "# ある文字列を使って色々な文字をまとめて扱う\n",
        "\n",
        "import re #re:regex - 正規表現に関するライブラリ\n",
        "sentence = \"aaa abc aac abb abab 123 112 111\"\n",
        "pattern = \"ab.\" #これが正規表現　\"ab.\" - .は任意の一文字を(ab~)持つもの全て抽出\n",
        "pattern1 = \"a.b\"\n",
        "pattern2 = \"a..\"\n",
        "pattern3 = \"ab|aa\" #abまたはaa\n",
        "pattern4 = \"a{3}\" # {m}回の繰り返し\n",
        "pattern5 = \"\\d\" #\\d - 任意の数字(0~9)\n",
        "pattern6 = \"\\d\\d\" #任意の数字２つ\n",
        "pattern7 = \"\\d2\"\n",
        "pattern8 = \"\\d3\"\n",
        "pattern9 = \"1.1\"\n",
        "\n",
        "# re.findall(どのようなpatternで(抽出した文字列),sentenceに適用するのか(なんの文字列から))\n",
        "results = re.findall(pattern,sentence)\n",
        "print(results)\n",
        "\n",
        "results1 = re.findall(pattern1,sentence)\n",
        "print(results1)\n",
        "\n",
        "results2 = re.findall(pattern2,sentence)\n",
        "print(results2)\n",
        "\n",
        "results3 = re.findall(pattern3,sentence)\n",
        "print(results3)\n",
        "\n",
        "results4 = re.findall(pattern4,sentence)\n",
        "print(results4)\n",
        "\n",
        "results5 = re.findall(pattern5,sentence)\n",
        "print(results5)\n",
        "\n",
        "results6 = re.findall(pattern6,sentence)\n",
        "print(results6)\n",
        "\n",
        "results7 = re.findall(pattern7,sentence)\n",
        "print(results7)\n",
        "\n",
        "results8 = re.findall(pattern8,sentence)\n",
        "print(results8)\n",
        "\n",
        "results9 = re.findall(pattern9,sentence)\n",
        "print(results9)\n",
        "\n",
        "# re.findall() - マッチする部分全てをリストで取得(全体で見てマッチするのかを見る)\n",
        "# re.match() - 文字列の先頭雨がマッチするかチェック、抽出\n",
        "# re.search() - 銭湯に限らずマッチするかチェック、抽出"
      ],
      "metadata": {
        "colab": {
          "base_uri": "https://localhost:8080/"
        },
        "id": "4--P1uS9hn_t",
        "outputId": "eecb4757-5a11-4e83-fa79-5aa088ee3e4c"
      },
      "execution_count": 49,
      "outputs": [
        {
          "output_type": "stream",
          "name": "stdout",
          "text": [
            "['abc', 'abb', 'aba']\n",
            "['abb']\n",
            "['aaa', 'abc', 'aac', 'abb', 'aba']\n",
            "['aa', 'ab', 'aa', 'ab', 'ab', 'ab']\n",
            "['aaa']\n",
            "['1', '2', '3', '1', '1', '2', '1', '1', '1']\n",
            "['12', '11', '11']\n",
            "['12', '12']\n",
            "['23']\n",
            "['111']\n"
          ]
        }
      ]
    },
    {
      "cell_type": "markdown",
      "source": [
        "# Pythonの文字列操作"
      ],
      "metadata": {
        "id": "_9aA_H51refP"
      }
    },
    {
      "cell_type": "markdown",
      "source": [
        "# 文字列の整形"
      ],
      "metadata": {
        "id": "tx15ZYR25SWj"
      }
    },
    {
      "cell_type": "code",
      "source": [
        "# str.join - 文字列を結合\n",
        "str = [\"apple\",\"banana\",\"peach\"]\n",
        "#\"\" - 結合した文字　\n",
        "print(\"\".join(str))\n",
        "print(\"&\".join(str))\n",
        "\n",
        "#引数に直接文字列を指定することもできる\n",
        "print(\"--\".join([\"I\",\"study\",\"Python\"]))\n",
        "\n",
        "#一文字づつ区切る\n",
        "print(\"/\".join(\"study\"))"
      ],
      "metadata": {
        "colab": {
          "base_uri": "https://localhost:8080/"
        },
        "id": "dL89sSz4rgVN",
        "outputId": "5fcb095a-0275-49e8-a322-2a3d30cb36f8"
      },
      "execution_count": 50,
      "outputs": [
        {
          "output_type": "stream",
          "name": "stdout",
          "text": [
            "applebananapeach\n",
            "apple&banana&peach\n",
            "I--study--Python\n",
            "s/t/u/d/y\n"
          ]
        }
      ]
    },
    {
      "cell_type": "code",
      "source": [
        "# split - テキストを区切り文字で分割\n",
        "#指定した区切り文字で分割し、リストに格納できる\n",
        "text = \"chani,Leon,code,python,pandas\"\n",
        "word_list = text.split(\",\") #(\",\") - ,区切り文字\n",
        "print(word_list)\n",
        "\n",
        "# 引数に何も指定しないとスペースとタブで分割する\n",
        "text = \"chani,Leon,code,python,pandas\"\n",
        "word_list = text.split()\n",
        "print(word_list)\n",
        "\n",
        "# 文字列でも分割可能\n",
        "text = \"chaniあLeonあcodeあpythonあpandas\"\n",
        "word_list = text.split(\"あ\")\n",
        "print(word_list)"
      ],
      "metadata": {
        "colab": {
          "base_uri": "https://localhost:8080/"
        },
        "id": "Z-Tk0sZ1rgTo",
        "outputId": "f6016895-1ce2-40f0-def3-a6085c5080d9"
      },
      "execution_count": 51,
      "outputs": [
        {
          "output_type": "stream",
          "name": "stdout",
          "text": [
            "['chani', 'Leon', 'code', 'python', 'pandas']\n",
            "['chani,Leon,code,python,pandas']\n",
            "['chani', 'Leon', 'code', 'python', 'pandas']\n"
          ]
        }
      ]
    },
    {
      "cell_type": "code",
      "source": [
        "# splitlines - 文字列で改行で分割\n",
        "# 分割された文字列のリストが返ってくる\n",
        "str = \"apple\\n orange\\n banana\\n\"\n",
        "print(str.splitlines())\n",
        "\n",
        "# 複数の改行コードが混在していても可能\n",
        "str_1 = \"apple\\r\\n orange\\n banana\\r\\n\"\n",
        "print(str_1.splitlines())\n",
        "\n",
        "# 改行コードも文字列に含めて分割する\n",
        "print(str.splitlines(True))\n",
        "\n",
        "# split mothod - split(\"指定した区切り文字で文字列を分割することが可能\") \n",
        "print(\"apple&orange&banana\".split(\"&\"))"
      ],
      "metadata": {
        "colab": {
          "base_uri": "https://localhost:8080/"
        },
        "id": "OfGk6SyBrgRm",
        "outputId": "5af94caf-5b32-43c8-bf4c-93f2b5badcf7"
      },
      "execution_count": 52,
      "outputs": [
        {
          "output_type": "stream",
          "name": "stdout",
          "text": [
            "['apple', ' orange', ' banana']\n",
            "['apple', ' orange', ' banana']\n",
            "['apple\\n', ' orange\\n', ' banana\\n']\n",
            "['apple', 'orange', 'banana']\n"
          ]
        }
      ]
    },
    {
      "cell_type": "code",
      "source": [
        "# str.rjust/ljust/cneter - 文字列を左右揃え,中央揃えにする\n",
        "str = \"Python\"\n",
        "\n",
        "#右揃え\n",
        "# str.rjust(文字指定)\n",
        "print(str.rjust(10))\n",
        "\n",
        "# str.rjust(10,\"+\") - 空白部分を+で表示する　\n",
        "print(str.rjust(10,\"+\"))\n",
        "\n",
        "# 左揃え\n",
        "print(str.ljust(15,\"+\"))\n",
        "\n",
        "#中央揃え\n",
        "print(str.center(12,\"+\"))"
      ],
      "metadata": {
        "colab": {
          "base_uri": "https://localhost:8080/"
        },
        "id": "qn_IgzvIrgQE",
        "outputId": "398d1ee6-03c8-4d25-91d0-c0a37dead639"
      },
      "execution_count": 53,
      "outputs": [
        {
          "output_type": "stream",
          "name": "stdout",
          "text": [
            "    Python\n",
            "++++Python\n",
            "Python+++++++++\n",
            "+++Python+++\n"
          ]
        }
      ]
    },
    {
      "cell_type": "code",
      "source": [
        "#str.strip - 両端の文字列を削除する方法\n",
        "str = \" python\"\n",
        "\n",
        "# str.strip() - 引数に何も指定してしない場合は空白スペースを削除する\n",
        "print(str.strip())\n",
        "\n",
        "str_1 = \"xxx_python_xxx\"\n",
        "\n",
        "# print(str_1.strip(削除したい文字列))\n",
        "print(str_1.strip(\"_xxx\"))"
      ],
      "metadata": {
        "colab": {
          "base_uri": "https://localhost:8080/"
        },
        "id": "4on9haSxrgOO",
        "outputId": "7b717e3b-89ee-4af4-82b7-d606708ed1c4"
      },
      "execution_count": 54,
      "outputs": [
        {
          "output_type": "stream",
          "name": "stdout",
          "text": [
            "python\n",
            "python\n"
          ]
        }
      ]
    },
    {
      "cell_type": "code",
      "source": [
        "# str.lstrip - 左端の文字列を削除する方法\n",
        "str = \"\\npython\\n\"\n",
        "print(str.lstrip())\n",
        "\n",
        "str_1 = \"xxx_python_xxx\"\n",
        "print(str_1.lstrip(\"_xxx\"))\n",
        "print(str_1.rstrip(\"_xxx\"))"
      ],
      "metadata": {
        "colab": {
          "base_uri": "https://localhost:8080/"
        },
        "id": "pL4opqoYrgMo",
        "outputId": "6422888b-9d14-4666-9449-dd30b72e0e85"
      },
      "execution_count": 55,
      "outputs": [
        {
          "output_type": "stream",
          "name": "stdout",
          "text": [
            "python\n",
            "\n",
            "python_xxx\n",
            "xxx_python\n"
          ]
        }
      ]
    },
    {
      "cell_type": "markdown",
      "source": [
        "#文字列変換"
      ],
      "metadata": {
        "id": "omXCoEwg-4Vd"
      }
    },
    {
      "cell_type": "code",
      "source": [
        "# str.replace - 文字列を置換\n",
        "srt = \"cool language python\"\n",
        "\n",
        "# str.raplace(\"置き換える文字\",\"何に置き換えるのか\")\n",
        "print(str.replace(\"cool\",\"nice\"))\n",
        "\n",
        "str_1 = \"no python, no life\"\n",
        "print(str_1.replace(\"no\",\"go\"))\n",
        "\n",
        "# 引数を空にすると指定した文字列は削除される\n",
        "print(str_1.replace(\"python\",\"\"))\n",
        "\n",
        "# 改行に変換する\n",
        "str_2 = \"python,Java,Go\"\n",
        "print(str_2.replace(\",\",\"\\n\"))"
      ],
      "metadata": {
        "colab": {
          "base_uri": "https://localhost:8080/"
        },
        "id": "w8cZgagHrgK0",
        "outputId": "062fae04-cd76-46c0-a281-29d6f82d6893"
      },
      "execution_count": 56,
      "outputs": [
        {
          "output_type": "stream",
          "name": "stdout",
          "text": [
            "\n",
            "python\n",
            "\n",
            "go python, go life\n",
            "no , no life\n",
            "python\n",
            "Java\n",
            "Go\n"
          ]
        }
      ]
    },
    {
      "cell_type": "code",
      "source": [
        "# str.swapcase - 文字列の大文字と小文字を切り替え\n",
        "str = \"CooL LanGuaGe PyTHon\"\n",
        "\n",
        "# 大文字と小文字が逆転する\n",
        "print(str.swapcase())\n",
        "\n",
        "print(\"PYthonN楽しい-123\".swapcase())\n",
        "\n",
        "#全ての文字を大文字にする\n",
        "print(str.upper())\n",
        "\n",
        "#全ての文字を小文字にする\n",
        "print(str.lower())\n",
        "\n",
        "# 先頭の文字だけ大文字にする\n",
        "print(str.capitalize())\n",
        "\n",
        "# 全体の単語の先頭を大文字にする\n",
        "print(str.title())"
      ],
      "metadata": {
        "colab": {
          "base_uri": "https://localhost:8080/"
        },
        "id": "HBXJYFZzrgI-",
        "outputId": "7f60c8d7-8e7b-48b3-c281-4ea036729a72"
      },
      "execution_count": 57,
      "outputs": [
        {
          "output_type": "stream",
          "name": "stdout",
          "text": [
            "cOOl lANgUAgE pYthON\n",
            "pyTHONn楽しい-123\n",
            "COOL LANGUAGE PYTHON\n",
            "cool language python\n",
            "Cool language python\n",
            "Cool Language Python\n"
          ]
        }
      ]
    },
    {
      "cell_type": "code",
      "source": [
        "# str.casefold - 特殊文字を含む文字列を小文字に変換\n",
        "str = \"PYTHON\"\n",
        "print(str.casefold())\n",
        "print(str.lower())"
      ],
      "metadata": {
        "colab": {
          "base_uri": "https://localhost:8080/"
        },
        "id": "ypaTggmJrgHO",
        "outputId": "775bb5dc-5dfc-46d4-815c-30f7c50f731f"
      },
      "execution_count": 58,
      "outputs": [
        {
          "output_type": "stream",
          "name": "stdout",
          "text": [
            "python\n",
            "python\n"
          ]
        }
      ]
    },
    {
      "cell_type": "code",
      "source": [
        "# str.upper/lower - 文字列を大文字,小文字に変換\n",
        "str = \"Cool language Python\"\n",
        "\n",
        "print(str.upper())\n",
        "print(str.lower())\n",
        "\n",
        "# isupper() - 文字列が全て大文字か判断する\n",
        "print(\"PYTHON\".isupper())\n",
        "\n",
        "# isupper() - 文字列が全て小文字か判断する\n",
        "print(\"PYTHON\".islower())"
      ],
      "metadata": {
        "colab": {
          "base_uri": "https://localhost:8080/"
        },
        "id": "YOodR-TSBrKU",
        "outputId": "d76e5019-42bf-40fc-eaec-4ea16d00fa26"
      },
      "execution_count": 59,
      "outputs": [
        {
          "output_type": "stream",
          "name": "stdout",
          "text": [
            "COOL LANGUAGE PYTHON\n",
            "cool language python\n",
            "True\n",
            "False\n"
          ]
        }
      ]
    },
    {
      "cell_type": "code",
      "source": [
        "# str.capitalize - 文字列の先頭を大文字,ほかを小文字に変換\n",
        "str = \"i aM sTUdyING pyTHoN\"\n",
        "print(str.capitalize())\n",
        "\n",
        "str_1 =\"no python, no life. i study Python everyday\"\n",
        "print(str_1.capitalize())"
      ],
      "metadata": {
        "colab": {
          "base_uri": "https://localhost:8080/"
        },
        "id": "F42Yz9KeBrG6",
        "outputId": "e1f90ee2-1deb-414e-eea0-fee52ad4c781"
      },
      "execution_count": 60,
      "outputs": [
        {
          "output_type": "stream",
          "name": "stdout",
          "text": [
            "I am studying python\n",
            "No python, no life. i study python everyday\n"
          ]
        }
      ]
    },
    {
      "cell_type": "code",
      "source": [
        "# str.title - 文字列の単語の先頭だけを大文字に、ほかを小文字に変換\n",
        "str = \"CooL lAnguAge pyTHon\"\n",
        "print(str.title())\n",
        "\n",
        "# istitle() - str.titleなのか判断する\n",
        "print(\"COOL LANGUAGE PYTHON\".istitle())\n",
        "print(\"Cool Language Python\".istitle())"
      ],
      "metadata": {
        "colab": {
          "base_uri": "https://localhost:8080/"
        },
        "id": "AJHgxUSEBrFI",
        "outputId": "32ba1fb5-a43b-4b72-924d-5488676b8d0f"
      },
      "execution_count": 61,
      "outputs": [
        {
          "output_type": "stream",
          "name": "stdout",
          "text": [
            "Cool Language Python\n",
            "False\n",
            "True\n"
          ]
        }
      ]
    },
    {
      "cell_type": "markdown",
      "source": [
        "#文字列の判定"
      ],
      "metadata": {
        "id": "ZfY4zElJD4Uu"
      }
    },
    {
      "cell_type": "code",
      "source": [
        "# str.find - 特定の文字列が含まれているか確認\n",
        "str =\"I am studying python\"\n",
        "\n",
        "# 存在する場合はそのはじまり位置が返ってくる\n",
        "print(str.find(\"study\"))\n",
        "\n",
        "# なければ-1が返される\n",
        "print(str.find(\"run\"))\n",
        "\n",
        "#複数ある場合は初めに出てくる文字数が返ってくる\n",
        "str_1 = \"no python,no life\"\n",
        "print(str_1.find(\"no\"))"
      ],
      "metadata": {
        "colab": {
          "base_uri": "https://localhost:8080/"
        },
        "id": "sp9YmeUkBrDh",
        "outputId": "4021c460-4109-4e83-c45d-bbb9d57da9e9"
      },
      "execution_count": 62,
      "outputs": [
        {
          "output_type": "stream",
          "name": "stdout",
          "text": [
            "5\n",
            "-1\n",
            "0\n"
          ]
        }
      ]
    },
    {
      "cell_type": "code",
      "source": [
        "# str.isalpha - 文字列がアルファベットなどの文字かどうかを判断\n",
        "str = \"python \"\n",
        "print(str.isalpha())\n",
        "\n",
        "str_1 = \"こんにちは\"\n",
        "print(str_1.isalpha())\n",
        "\n",
        "str_2 = \"学習\"\n",
        "print(str_2.isalpha())\n",
        "\n",
        "str_3 = \"123abc\"\n",
        "print(str_3.isalpha())\n",
        "\n",
        "str_4 = \"123456789\"\n",
        "print(str_4.isalpha())\n",
        "\n",
        "#isnumeric - 文字列が数字かどうか判断する\n",
        "print(str_4.isnumeric())"
      ],
      "metadata": {
        "colab": {
          "base_uri": "https://localhost:8080/"
        },
        "id": "C9iWBhiJBrBw",
        "outputId": "5cb114d4-33c1-46e0-cf56-4b5de674209b"
      },
      "execution_count": 63,
      "outputs": [
        {
          "output_type": "stream",
          "name": "stdout",
          "text": [
            "False\n",
            "True\n",
            "True\n",
            "False\n",
            "False\n",
            "True\n"
          ]
        }
      ]
    },
    {
      "cell_type": "code",
      "source": [
        "# str.isdigit - 文字列が数字かどうか判断\n",
        "str = \"123456\"\n",
        "print(str.isdigit())\n",
        "\n",
        "str_1 = \"123abc456\"\n",
        "print(str_1.isdigit())\n",
        "\n",
        "str_2 = \"1234五\"\n",
        "print(str_2.isdigit()) "
      ],
      "metadata": {
        "colab": {
          "base_uri": "https://localhost:8080/"
        },
        "id": "shU_wIeeBrAJ",
        "outputId": "d7f4df62-6808-49af-d68f-b1ed7ce6107b"
      },
      "execution_count": 64,
      "outputs": [
        {
          "output_type": "stream",
          "name": "stdout",
          "text": [
            "True\n",
            "False\n",
            "False\n"
          ]
        }
      ]
    },
    {
      "cell_type": "code",
      "source": [
        "# str.isnumeric - 文字列が数字かどうか判断\n",
        "str = \"123456\"\n",
        "print(str.isnumeric())\n",
        "\n",
        "str_1 = \"123abc456\"\n",
        "print(str_1.isnumeric())\n",
        "\n",
        "str_2 = \"1234五\"\n",
        "print(str_2.isnumeric()) "
      ],
      "metadata": {
        "colab": {
          "base_uri": "https://localhost:8080/"
        },
        "id": "k8cg-54tBq-V",
        "outputId": "08c25345-d8dd-4bb7-cf67-1b27aa68893b"
      },
      "execution_count": 65,
      "outputs": [
        {
          "output_type": "stream",
          "name": "stdout",
          "text": [
            "True\n",
            "False\n",
            "True\n"
          ]
        }
      ]
    },
    {
      "cell_type": "code",
      "source": [
        "# str.isdecimal - 文字列が数字かどうか判断\n",
        "str = \"20220107\"\n",
        "print(str.isdecimal())\n",
        "\n",
        "str_1= \"2022Jan07\"\n",
        "print(str_1.isdecimal())\n",
        "\n",
        "str_2 = \"2022,01,07\"\n",
        "print(str_2.isdecimal())\n",
        "\n",
        "str_3 = \"０８０４\"\n",
        "print(str_3.isdecimal())"
      ],
      "metadata": {
        "colab": {
          "base_uri": "https://localhost:8080/"
        },
        "id": "vEsaxqlIBq8w",
        "outputId": "04d033c6-529d-4638-c6f3-d6144051d45a"
      },
      "execution_count": 66,
      "outputs": [
        {
          "output_type": "stream",
          "name": "stdout",
          "text": [
            "True\n",
            "False\n",
            "False\n",
            "True\n"
          ]
        }
      ]
    },
    {
      "cell_type": "code",
      "source": [
        "# str.isalnum - 文字列が文字や数字のみのこうせいか判別\n",
        "str = \"python\"\n",
        "print(str.isalnum())\n",
        "\n",
        "str_1 = \"123abc\"\n",
        "print(str_1.isalnum())\n",
        "\n",
        "str_2 = \"pythonを勉強しています\"\n",
        "print(str_2.isalnum())\n",
        "\n",
        "str_3 = \"chani-Leon\"\n",
        "print(str_3.isalnum())"
      ],
      "metadata": {
        "colab": {
          "base_uri": "https://localhost:8080/"
        },
        "id": "H7GYZuBPBq65",
        "outputId": "d5e47c49-027d-46f6-9d42-84c3710aa733"
      },
      "execution_count": 67,
      "outputs": [
        {
          "output_type": "stream",
          "name": "stdout",
          "text": [
            "True\n",
            "True\n",
            "True\n",
            "False\n"
          ]
        }
      ]
    },
    {
      "cell_type": "code",
      "source": [
        "# str.issplace - 文字列が空白かどうか判断\n",
        "str = \"       \"\n",
        "\n",
        "# True - 空\n",
        "print(str.isspace())\n",
        "\n",
        "str_1 = \"\\n\"\n",
        "print(str.isspace())\n",
        "\n",
        "str = \"Pyt hon\"\n",
        "print(str.isspace())"
      ],
      "metadata": {
        "colab": {
          "base_uri": "https://localhost:8080/"
        },
        "id": "8ApM-3ENBqzn",
        "outputId": "ca5992ca-6817-49df-ff11-1c200ecd9a2f"
      },
      "execution_count": 68,
      "outputs": [
        {
          "output_type": "stream",
          "name": "stdout",
          "text": [
            "True\n",
            "True\n",
            "False\n"
          ]
        }
      ]
    },
    {
      "cell_type": "code",
      "source": [
        "# str.isprintable - 文字列が出力可能か確認\n",
        "str =\"I am studying python\"\n",
        "\n",
        "# 全て出力できれば\n",
        "print(str.isprintable())\n",
        "\n",
        "str_1 =\"I am\\n studying\\a python\"\n",
        "print(str_1.isprintable())\n",
        "print(str_1)\n",
        "\n",
        "# 全角文字は出力できない\n",
        "str_2 =\"I　am　studying　python\"\n",
        "print(str_2.isprintable())\n",
        "\n",
        "print(str_2)"
      ],
      "metadata": {
        "colab": {
          "base_uri": "https://localhost:8080/"
        },
        "id": "eUDwXtInIUQY",
        "outputId": "0f081a7c-2de1-49f8-97b9-5d63aa9a45ae"
      },
      "execution_count": 69,
      "outputs": [
        {
          "output_type": "stream",
          "name": "stdout",
          "text": [
            "True\n",
            "False\n",
            "I am\n",
            " studying\u0007 python\n",
            "False\n",
            "I　am　studying　python\n"
          ]
        }
      ]
    },
    {
      "cell_type": "markdown",
      "source": [
        "#文字列情報"
      ],
      "metadata": {
        "id": "3Ly0sbsFJo3x"
      }
    },
    {
      "cell_type": "code",
      "source": [
        "# str.index (str.find) - 文字列が出現する位置を確認 \n",
        "str = \"I am studying python\"\n",
        "print(str.index(\"study\")) #指定した文字列がなければエラーが返ってくる\n",
        "\n",
        "str_1= \"no python,no life\"\n",
        "print(str_1.index(\"no\"))\n",
        "\n",
        "# 指定した文字列がなければ-1が返ってくる\n",
        "print(str_1.find(\"gang\"))\n",
        "print(str_1.find(\"no\"))"
      ],
      "metadata": {
        "colab": {
          "base_uri": "https://localhost:8080/"
        },
        "id": "FZyCRPPRIUOS",
        "outputId": "873d42cf-abac-4156-d806-7fcb97473c45"
      },
      "execution_count": 70,
      "outputs": [
        {
          "output_type": "stream",
          "name": "stdout",
          "text": [
            "5\n",
            "0\n",
            "-1\n",
            "0\n"
          ]
        }
      ]
    },
    {
      "cell_type": "code",
      "source": [
        "# str.rfind / rindex - 指定した文字列が最後に出現する位置を確認\n",
        "str = \"good cookie,good book\"\n",
        "print(str.rfind(\"good\"))\n",
        "\n",
        "#確認する範囲を指定する - print(str.rfind(\"探したい文字列\",範囲,範囲))\n",
        "print(str.rfind(\"oo\",3,16))\n",
        "print(str.rfind(\"aa\")) #なければ-1\n",
        "print(str.rindex(\"good\"))\n",
        "\n",
        "print(str.rindex(\"aa\")) #なければエラー"
      ],
      "metadata": {
        "colab": {
          "base_uri": "https://localhost:8080/",
          "height": 270
        },
        "id": "vZvmzKhmJuBj",
        "outputId": "b8d69f32-46fc-49c8-b1a6-b9a66de95cd3"
      },
      "execution_count": 71,
      "outputs": [
        {
          "output_type": "stream",
          "name": "stdout",
          "text": [
            "12\n",
            "13\n",
            "-1\n",
            "12\n"
          ]
        },
        {
          "output_type": "error",
          "ename": "ValueError",
          "evalue": "ignored",
          "traceback": [
            "\u001b[0;31m---------------------------------------------------------------------------\u001b[0m",
            "\u001b[0;31mValueError\u001b[0m                                Traceback (most recent call last)",
            "\u001b[0;32m<ipython-input-71-765871d88bee>\u001b[0m in \u001b[0;36m<module>\u001b[0;34m()\u001b[0m\n\u001b[1;32m      8\u001b[0m \u001b[0mprint\u001b[0m\u001b[0;34m(\u001b[0m\u001b[0mstr\u001b[0m\u001b[0;34m.\u001b[0m\u001b[0mrindex\u001b[0m\u001b[0;34m(\u001b[0m\u001b[0;34m\"good\"\u001b[0m\u001b[0;34m)\u001b[0m\u001b[0;34m)\u001b[0m\u001b[0;34m\u001b[0m\u001b[0;34m\u001b[0m\u001b[0m\n\u001b[1;32m      9\u001b[0m \u001b[0;34m\u001b[0m\u001b[0m\n\u001b[0;32m---> 10\u001b[0;31m \u001b[0mprint\u001b[0m\u001b[0;34m(\u001b[0m\u001b[0mstr\u001b[0m\u001b[0;34m.\u001b[0m\u001b[0mrindex\u001b[0m\u001b[0;34m(\u001b[0m\u001b[0;34m\"aa\"\u001b[0m\u001b[0;34m)\u001b[0m\u001b[0;34m)\u001b[0m \u001b[0;31m#なければエラー\u001b[0m\u001b[0;34m\u001b[0m\u001b[0;34m\u001b[0m\u001b[0m\n\u001b[0m",
            "\u001b[0;31mValueError\u001b[0m: substring not found"
          ]
        }
      ]
    },
    {
      "cell_type": "code",
      "source": [
        "# str.count - 特定の文字や表現の出現回数をカウントする\n",
        "str = \"cool-language-python\"\n",
        "print(str.count(\"o\"))\n",
        "\n",
        "str_1 = \"no python,no life\"\n",
        "print(str_1.count(\"no\"))\n",
        "\n",
        "print(str.count(\"study\")) #指定したものがなければ0が帰ってくる"
      ],
      "metadata": {
        "colab": {
          "base_uri": "https://localhost:8080/"
        },
        "id": "PmbArPiNKP74",
        "outputId": "b2552b9c-0a4c-4796-b602-da55e09d66b4"
      },
      "execution_count": 72,
      "outputs": [
        {
          "output_type": "stream",
          "name": "stdout",
          "text": [
            "3\n",
            "2\n",
            "0\n"
          ]
        }
      ]
    },
    {
      "cell_type": "markdown",
      "source": [
        "#if __name__ == ‘__main__‘とは"
      ],
      "metadata": {
        "id": "z0RHNYCXCqJ6"
      }
    },
    {
      "cell_type": "code",
      "source": [
        "# スクリプトをメインで直接実行したい時にのみに,どの関数を起動させるのか,どんな処理を施すのかで使う\n",
        "# 直接入力か呼び出される側かで__name__が変わってくる\n",
        "\n",
        "# __name__を出力するだけの関数\n",
        "def func():\n",
        "    print(f\"__name__:{__name__}\") #{__name__}の中身は__main__\n",
        "if __name__ == \"__main__\": #if __name__(ここがメインになる,ここにsampleが入っている) == \"__main__\":\n",
        "    print(\"sampleが直接実行された\")"
      ],
      "metadata": {
        "colab": {
          "base_uri": "https://localhost:8080/"
        },
        "id": "kUzdInb05Ktv",
        "outputId": "e071b9e2-5bd6-4b38-ee8a-aab8d3a325d3"
      },
      "execution_count": 73,
      "outputs": [
        {
          "output_type": "stream",
          "name": "stdout",
          "text": [
            "sampleが直接実行された\n"
          ]
        }
      ]
    }
  ]
}