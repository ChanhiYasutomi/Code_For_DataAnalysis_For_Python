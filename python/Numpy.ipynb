{
  "nbformat": 4,
  "nbformat_minor": 0,
  "metadata": {
    "colab": {
      "name": "Numpy.ipynb",
      "provenance": [],
      "collapsed_sections": []
    },
    "kernelspec": {
      "name": "python3",
      "display_name": "Python 3"
    },
    "language_info": {
      "name": "python"
    }
  },
  "cells": [
    {
      "cell_type": "code",
      "source": [
        "# Numpy - 数値計算\n",
        "\n",
        "# 1問目：ベクトルの定義\n",
        "# np.array()を使って次のベクトルを定義してください。\n",
        "# a = [1,2,3,4]\n",
        "\n",
        "# b = (4,\n",
        "#      -1,\n",
        "#      6)\n",
        "\n",
        "import numpy as np\n",
        "\n",
        "# 横ベクトル\n",
        "a = np.array([1,2,3,4])\n",
        "\n",
        "# 縦ベクトル\n",
        "b = np.array([[4],[-1],[6]])\n",
        "\n",
        "print(a)\n",
        "print(b)"
      ],
      "metadata": {
        "colab": {
          "base_uri": "https://localhost:8080/"
        },
        "id": "UErFbUCS7uOP",
        "outputId": "17a6db1c-5775-494c-d86c-99031e874acb"
      },
      "execution_count": 1,
      "outputs": [
        {
          "output_type": "stream",
          "name": "stdout",
          "text": [
            "[1 2 3 4]\n",
            "[[ 4]\n",
            " [-1]\n",
            " [ 6]]\n"
          ]
        }
      ]
    },
    {
      "cell_type": "code",
      "source": [
        "# 2問目：行列の定義\n",
        "# np.array()を使って次の行列を定義してください。\n",
        "# c = (3,-2,\n",
        "#      7,1)\n",
        "\n",
        "# D = (3,-2,0,1,\n",
        "#      7,1,-1,2,\n",
        "#      4,-5,1,3)\n",
        "\n",
        "c = np.array([[3,-2],\n",
        "             [7,1]])\n",
        "\n",
        "d = np.array([[3,-2,0,1],\n",
        "             [7,1,-1,2],\n",
        "             [4,-5,1,3]])\n",
        "\n",
        "print(c)\n",
        "print(d)"
      ],
      "metadata": {
        "colab": {
          "base_uri": "https://localhost:8080/"
        },
        "id": "BeTqmJ5MIVjm",
        "outputId": "7f42486d-d9d2-4271-b3fa-4f9f7871da45"
      },
      "execution_count": 2,
      "outputs": [
        {
          "output_type": "stream",
          "name": "stdout",
          "text": [
            "[[ 3 -2]\n",
            " [ 7  1]]\n",
            "[[ 3 -2  0  1]\n",
            " [ 7  1 -1  2]\n",
            " [ 4 -5  1  3]]\n"
          ]
        }
      ]
    },
    {
      "cell_type": "code",
      "source": [
        "# 3問目：ベクトルの作成\n",
        "# こちらのように規則性のあるベクトルを作成してください\n",
        "# a = [0,0]\n",
        "# b=(1,\n",
        "#    1,\n",
        "#    1,\n",
        "#    1,\n",
        "# )\n",
        "\n",
        "# np.zeros(行,列) - 要素が0しか入っていない行列を作成\n",
        "a = np.zeros([1,2])\n",
        "# a[0] - これで一次元で表示が可能\n",
        "\n",
        "# np.ones(行,列) - 要素が1しか入っていない行列を作成\n",
        "b = np.ones([4,1])\n",
        "\n",
        "print(a)\n",
        "print(b)"
      ],
      "metadata": {
        "colab": {
          "base_uri": "https://localhost:8080/"
        },
        "id": "LzWyFXbfIVk2",
        "outputId": "fb81d266-78f2-49e8-f3b2-a595f908a83a"
      },
      "execution_count": 3,
      "outputs": [
        {
          "output_type": "stream",
          "name": "stdout",
          "text": [
            "[[0. 0.]]\n",
            "[[1.]\n",
            " [1.]\n",
            " [1.]\n",
            " [1.]]\n"
          ]
        }
      ]
    },
    {
      "cell_type": "code",
      "source": [
        "# 4問目：\n",
        "# こちらのように規則性のある行列(単位行列)を作成してください\n",
        "\n",
        "# c = (1,0,0,\n",
        "#      0,1,0,\n",
        "#      0,0,1)\n",
        "\n",
        "# d = (1,0,0,0,\n",
        "#      0,1,0,0,\n",
        "#      0,0,1,0,\n",
        "#      0,0,0,1,\n",
        "#      )\n",
        "\n",
        "# np.eye() - 単位行列を生成、斜めの成分も作成\n",
        "c = np.eye(3) # 3*3になる  \n",
        "d = np.eye(3,4) # 3*4になる\n",
        "\n",
        "print(c)\n",
        "print(d)"
      ],
      "metadata": {
        "colab": {
          "base_uri": "https://localhost:8080/"
        },
        "id": "RLFi2TrEIVmX",
        "outputId": "363b16d8-2b26-4a0b-d38c-e388f49f14f8"
      },
      "execution_count": 4,
      "outputs": [
        {
          "output_type": "stream",
          "name": "stdout",
          "text": [
            "[[1. 0. 0.]\n",
            " [0. 1. 0.]\n",
            " [0. 0. 1.]]\n",
            "[[1. 0. 0. 0.]\n",
            " [0. 1. 0. 0.]\n",
            " [0. 0. 1. 0.]]\n"
          ]
        }
      ]
    },
    {
      "cell_type": "code",
      "source": [
        "# 5問目：基本情報の取得\n",
        "# こちらのベクトルと行列の基本情報(下記項目)を取得してください\n",
        "# a = [2,3,4]\n",
        "# b = (1.2,3.5,5.1,\n",
        "#      -0.3,1.1,-4.5,\n",
        "#      )\n",
        "\n",
        "# 形状\n",
        "# 次元\n",
        "# データ型\n",
        "# 要素数\n",
        "\n",
        "a = np.array([2,3,4])\n",
        "b = np.array([[1.2,3.5,5.1],[-0.3,1.1,-4.5]])\n",
        "\n",
        "print(a)\n",
        "print(b)\n",
        "\n",
        "# 形状 - xxx.shape\n",
        "print(a.shape)\n",
        "print(b.shape)\n",
        "\n",
        "# 次元 - xxx.ndim  →number dimension\n",
        "print(a.ndim)\n",
        "print(b.ndim)\n",
        "\n",
        "# データ型 - xxx.dype\n",
        "print(a.dtype)\n",
        "print(b.dtype)\n",
        "\n",
        "# 要素数 - xxx.size\n",
        "print(a.size)\n",
        "print(b.size)"
      ],
      "metadata": {
        "colab": {
          "base_uri": "https://localhost:8080/"
        },
        "id": "Fw-gJkZWIVoe",
        "outputId": "0e2e6009-86be-4360-be57-a34f6edc462f"
      },
      "execution_count": 5,
      "outputs": [
        {
          "output_type": "stream",
          "name": "stdout",
          "text": [
            "[2 3 4]\n",
            "[[ 1.2  3.5  5.1]\n",
            " [-0.3  1.1 -4.5]]\n",
            "(3,)\n",
            "(2, 3)\n",
            "1\n",
            "2\n",
            "int64\n",
            "float64\n",
            "3\n",
            "6\n"
          ]
        }
      ]
    },
    {
      "cell_type": "code",
      "source": [
        "# 6問目：インデックスとスライシング\n",
        "# こちらのベクトル行列から以下の項目に従ってそれぞれの要素取得してください\n",
        "\n",
        "# ベクトル\n",
        "# 3~５つ目まで\n",
        "# 逆順で\n",
        "\n",
        "# a = np.array(1,13,2)\n",
        "\n",
        "# 行列\n",
        "# １行目全て(3つ)\n",
        "# ３行１列目(1つ)\n",
        "# 2~3行目2~3列目(4つ)\n",
        "\n",
        "# b = (2,4,6,\n",
        "#      -1,5,-3,\n",
        "#      0,-2,3)\n",
        "\n",
        "# ベクトル\n",
        "# np.arange(1,13,2) - 1~13手前(つまり12)までの数字で2個飛ばしでリストを作成する\n",
        "# (範囲,範囲,飛ばし)\n",
        "a = np.arange(1,13,2)\n",
        "print(a)\n",
        "\n",
        "# 3~５つ目まで\n",
        "print(a[2:-1])\n",
        "\n",
        "# 逆順で\n",
        "print(a[::-1])\n",
        "\n",
        "# 行列\n",
        "b = np.array([[2,4,6],[-1,5,-3],[0,-2,3]])\n",
        "print(b)\n",
        "\n",
        "# １行目全て(3つ)\n",
        "print(b[0])\n",
        "\n",
        "# ３行１列目(1つ)\n",
        "print(b[2,0])\n",
        "\n",
        "# 2~3行目2~3列目(4つ)\n",
        "print(b[1:,1:])"
      ],
      "metadata": {
        "colab": {
          "base_uri": "https://localhost:8080/"
        },
        "id": "hQWcOceRIVqC",
        "outputId": "2dabd630-ac38-4e9a-c7b3-13bb7a1d5b24"
      },
      "execution_count": 6,
      "outputs": [
        {
          "output_type": "stream",
          "name": "stdout",
          "text": [
            "[ 1  3  5  7  9 11]\n",
            "[5 7 9]\n",
            "[11  9  7  5  3  1]\n",
            "[[ 2  4  6]\n",
            " [-1  5 -3]\n",
            " [ 0 -2  3]]\n",
            "[2 4 6]\n",
            "0\n",
            "[[ 5 -3]\n",
            " [-2  3]]\n"
          ]
        }
      ]
    },
    {
      "cell_type": "code",
      "source": [
        "# 7問目：四則演算\n",
        "# こちらの行列の四則演算を行ってください\n",
        "\n",
        "# 足し算\n",
        "# (1,3,-2,4) + (2,-1,3,0)\n",
        "\n",
        "# 引き算\n",
        "# (1,3,-2,4) - (2,-1,3,0)\n",
        "\n",
        "# 行列積\n",
        "# (1,3,-2,4)(2,-1,3,0)\n",
        "\n",
        "# アダマール積 - 要素同士の(同じ場所同士)の掛け算\n",
        "# (1,3,-2,4)*(2,-1,3,0)\n",
        "\n",
        "a = np.array([[1,3],[-2,4]])\n",
        "b = np.array([[2,-1],[3,0]])\n",
        "\n",
        "print(a)\n",
        "print(b)\n",
        "\n",
        "# 足し算\n",
        "print(a + b)\n",
        "\n",
        "# 引き算\n",
        "print(a - b)\n",
        "\n",
        "# 行列積\n",
        "# やり方1\n",
        "print(a @ b)\n",
        "\n",
        "# やり方2\n",
        "print(a.dot(b))\n",
        "\n",
        "# アダマール積\n",
        "print(a * b)"
      ],
      "metadata": {
        "colab": {
          "base_uri": "https://localhost:8080/"
        },
        "id": "OP4aR2gBIVr2",
        "outputId": "eed51557-ae3d-4586-b05c-e2dd6603bdea"
      },
      "execution_count": 7,
      "outputs": [
        {
          "output_type": "stream",
          "name": "stdout",
          "text": [
            "[[ 1  3]\n",
            " [-2  4]]\n",
            "[[ 2 -1]\n",
            " [ 3  0]]\n",
            "[[3 2]\n",
            " [1 4]]\n",
            "[[-1  4]\n",
            " [-5  4]]\n",
            "[[11 -1]\n",
            " [ 8  2]]\n",
            "[[11 -1]\n",
            " [ 8  2]]\n",
            "[[ 2 -3]\n",
            " [-6  0]]\n"
          ]
        }
      ]
    },
    {
      "cell_type": "code",
      "source": [
        "# 8問目：転置 - 行と列を入れ替える\n",
        "# こちらのベクトル行列の転置を行ってください\n",
        "\n",
        "# a = [2,3,4]\n",
        "# b = (1.2,3.5,5.1,\n",
        "#      -0.3,1.1,-4.5)\n",
        "\n",
        "a = np.array([2,3,4])\n",
        "b = np.array([[1.2,3.5,5.1,],[-0.3,1.1,-4.5]])\n",
        "\n",
        "print(a)\n",
        "print(b)\n",
        "\n",
        "a.T #結果が(3,0)だから、一次元では転置ができない - なのでこう変える必要がある→　a = np.array([[2,3,4]]) - こうすることで(1,3)になり転置ができるようになる。\n",
        "b.T\n",
        "\n",
        "print(a.T)\n",
        "print(b.T)"
      ],
      "metadata": {
        "colab": {
          "base_uri": "https://localhost:8080/"
        },
        "id": "XQAbA40tIVtd",
        "outputId": "9e82ec43-3718-4926-e1bb-de67c508b3d3"
      },
      "execution_count": 8,
      "outputs": [
        {
          "output_type": "stream",
          "name": "stdout",
          "text": [
            "[2 3 4]\n",
            "[[ 1.2  3.5  5.1]\n",
            " [-0.3  1.1 -4.5]]\n",
            "[2 3 4]\n",
            "[[ 1.2 -0.3]\n",
            " [ 3.5  1.1]\n",
            " [ 5.1 -4.5]]\n"
          ]
        }
      ]
    },
    {
      "cell_type": "code",
      "source": [
        "# 9問目：逆行列\n",
        "\n",
        "# 記の値を求めてください\n",
        "\n",
        "# 行列の行列式の値\n",
        "# 行列式の値が0出なければその逆行列\n",
        "\n",
        "# a = (4,-2,\n",
        "#      1,0) \n",
        "\n",
        "a = np.array([[4,-2],[1,0]])\n",
        "print(a)\n",
        "\n",
        "# np.linalg.det(求めたい行列) - 行列式を計算する\n",
        "# linalg - linear algebra(線形代数)\n",
        "# det - determinant(行列式)\n",
        "\n",
        "det = np.linalg.det(a)\n",
        "det == 0.0 # - false つまり逆行列がある\n",
        "print(det)\n",
        "\n",
        "# 逆行列を求める\n",
        "# inv (inverse) - 逆行列\n",
        "a_inv = np.linalg.inv(a)\n",
        "print(a_inv)\n",
        "\n",
        "# 元の行列と逆行列をかけたら１(単位行列)になる - a @ a_inv\n",
        "print(a @ a_inv)"
      ],
      "metadata": {
        "colab": {
          "base_uri": "https://localhost:8080/"
        },
        "id": "2iuanuIDIVvg",
        "outputId": "705ffc7b-f831-4ad1-b746-6a7dfb7fda31"
      },
      "execution_count": 9,
      "outputs": [
        {
          "output_type": "stream",
          "name": "stdout",
          "text": [
            "[[ 4 -2]\n",
            " [ 1  0]]\n",
            "2.0\n",
            "[[ 0.   1. ]\n",
            " [-0.5  2. ]]\n",
            "[[1. 0.]\n",
            " [0. 1.]]\n"
          ]
        }
      ]
    },
    {
      "cell_type": "code",
      "source": [
        "# 10問目：ブロードキャスト - ベクトル行列計算を簡易的に書けるようになっているもの\n",
        "# Numpyで定義されたベクトル行列にスカラーをかけた場合の計算結果を確認してください\n",
        "# (4,-2,1,0)*0.5\n",
        "# (8,1,5,-3,0,7)*2\n",
        "\n",
        "# スカラー - ベクトルでも行列でもない普通の数字\n",
        "a = np.array([[4,-2],[1,0]])\n",
        "b = np.array([[8,1,5],[-3,0,-7]])\n",
        "\n",
        "print(a)\n",
        "print(b)\n",
        "\n",
        "# それぞれのスカラー倍される\n",
        "print(a * 0.5)\n",
        "print(b * 2)"
      ],
      "metadata": {
        "colab": {
          "base_uri": "https://localhost:8080/"
        },
        "id": "WftszDogIVxE",
        "outputId": "2b5adb53-49d8-4bb0-923b-3518b6a83eb4"
      },
      "execution_count": 10,
      "outputs": [
        {
          "output_type": "stream",
          "name": "stdout",
          "text": [
            "[[ 4 -2]\n",
            " [ 1  0]]\n",
            "[[ 8  1  5]\n",
            " [-3  0 -7]]\n",
            "[[ 2.  -1. ]\n",
            " [ 0.5  0. ]]\n",
            "[[ 16   2  10]\n",
            " [ -6   0 -14]]\n"
          ]
        }
      ]
    },
    {
      "cell_type": "code",
      "source": [
        "# 11問目：ベクトルのサイズ変更\n",
        "# こちらのように定義されたベクトルを次の行列にサイズ変更してください\n",
        "\n",
        "# d = np.arange(12) - 12個の要素を持つベクトル\n",
        "# array([0,1,2,3,4,5,6,7,8,9,10,11])\n",
        "\n",
        "# d = (0,1,2,3,\n",
        "#      4,5,6,7,\n",
        "#      8,9,10,11)\n",
        "\n",
        "d = np.arange(12)\n",
        "print(d)\n",
        "\n",
        "# ３行４列に変える d.reshape(行,列)\n",
        "print(d.reshape(3,4))"
      ],
      "metadata": {
        "colab": {
          "base_uri": "https://localhost:8080/"
        },
        "id": "EZsqQvGlIVy3",
        "outputId": "3625d0b8-2d0d-451d-e13a-3be851d46d17"
      },
      "execution_count": 11,
      "outputs": [
        {
          "output_type": "stream",
          "name": "stdout",
          "text": [
            "[ 0  1  2  3  4  5  6  7  8  9 10 11]\n",
            "[[ 0  1  2  3]\n",
            " [ 4  5  6  7]\n",
            " [ 8  9 10 11]]\n"
          ]
        }
      ]
    },
    {
      "cell_type": "code",
      "source": [
        "# 12問目：統計値\n",
        "# こちらの行列の統計値以下の項目を確認してください\n",
        "\n",
        "# b = (2,4,6,\n",
        "#      -1,5,-3,\n",
        "#      0,-2,3)\n",
        "\n",
        "# 最大値\n",
        "# 最小値\n",
        "# 総和\n",
        "# 平均\n",
        "# 分散\n",
        "# 標準偏差\n",
        "\n",
        "b = np.array([[2,4,6],[-1,5,-3],[0,-2,3]])\n",
        "print(b)\n",
        "\n",
        "# 最大値 - b.max()\n",
        "print(b.max())\n",
        "\n",
        "# 最小値 - b.min()\n",
        "print(b.min())\n",
        "# b.min(axis=0) - axis=行のなかで最小値を得られる\n",
        "\n",
        "# 総和 - b.sum()\n",
        "print(b.sum())\n",
        "\n",
        "# 平均 - b.mean()\n",
        "print(b.mean())\n",
        "\n",
        "# 分散 - b.var()\n",
        "print(b.var())\n",
        "\n",
        "# 標準偏差 - b.std()\n",
        "print(b.std())"
      ],
      "metadata": {
        "colab": {
          "base_uri": "https://localhost:8080/"
        },
        "id": "aJLIwtbNIV0w",
        "outputId": "631968f1-6d10-430f-d33d-b1379cffb60f"
      },
      "execution_count": 12,
      "outputs": [
        {
          "output_type": "stream",
          "name": "stdout",
          "text": [
            "[[ 2  4  6]\n",
            " [-1  5 -3]\n",
            " [ 0 -2  3]]\n",
            "6\n",
            "-3\n",
            "14\n",
            "1.5555555555555556\n",
            "9.135802469135802\n",
            "3.0225490019412096\n"
          ]
        }
      ]
    },
    {
      "cell_type": "code",
      "source": [
        "# 13問目：ユニバーサル関数 - Numpyの配列, ndarrayの全要素に対して要素ごとに演算の処理に従って結果を返す関数\n",
        "\n",
        "# Numpyに用意されている下記の数理的な関数をこちらの行列にで実装してください\n",
        "\n",
        "# 平方根\n",
        "# eの指数関数\n",
        "\n",
        "# a = (0,1,\n",
        "#      2,4)\n",
        "\n",
        "a = np.array([[0,1],[2,4]]).reshape(2,-1)\n",
        "print(a)\n",
        "\n",
        "# 平方根 - square\n",
        "# np.sqrt() - 平方根を確認\n",
        "np.sqrt(a)\n",
        "print(np.sqrt(a))\n",
        "\n",
        "# eの指数関数 - exponential(指数関数)\n",
        "np.exp(a)\n",
        "print(np.exp(a))"
      ],
      "metadata": {
        "colab": {
          "base_uri": "https://localhost:8080/"
        },
        "id": "6v55rlA8IV2S",
        "outputId": "20b73d33-3ef2-4315-88ff-23a519732abb"
      },
      "execution_count": 13,
      "outputs": [
        {
          "output_type": "stream",
          "name": "stdout",
          "text": [
            "[[0 1]\n",
            " [2 4]]\n",
            "[[0.         1.        ]\n",
            " [1.41421356 2.        ]]\n",
            "[[ 1.          2.71828183]\n",
            " [ 7.3890561  54.59815003]]\n"
          ]
        }
      ]
    },
    {
      "cell_type": "code",
      "source": [
        "# 14問目：ユニバーサル関数 \n",
        "# Numpyに用いられている下記の数理的な関数をこちらの行列にで実装してください\n",
        "\n",
        "# sin関数\n",
        "# cos関数\n",
        "# a = np.array([0,np.pi, np.pi/2,-np.pi/4]).reshape(2,-1)\n",
        "\n",
        "a = np.array([0,np.pi, np.pi/2,-np.pi/4]).reshape(2,-1)\n",
        "print(a)\n",
        "\n",
        "# sin関数\n",
        "print(np.sin(a))\n",
        "\n",
        "# cos関数\n",
        "print(np.cos(a))"
      ],
      "metadata": {
        "colab": {
          "base_uri": "https://localhost:8080/"
        },
        "id": "WfsMG5zLIV4Z",
        "outputId": "b82ec54b-52e8-45ce-e40c-556abba7536b"
      },
      "execution_count": 14,
      "outputs": [
        {
          "output_type": "stream",
          "name": "stdout",
          "text": [
            "[[ 0.          3.14159265]\n",
            " [ 1.57079633 -0.78539816]]\n",
            "[[ 0.00000000e+00  1.22464680e-16]\n",
            " [ 1.00000000e+00 -7.07106781e-01]]\n",
            "[[ 1.00000000e+00 -1.00000000e+00]\n",
            " [ 6.12323400e-17  7.07106781e-01]]\n"
          ]
        }
      ]
    },
    {
      "cell_type": "code",
      "source": [
        "# 15問目：行列の結合\n",
        "# 次の行列を使って以下の項目に従い,結合を行ってください\n",
        "\n",
        "# 縦方向に結合:cで定義\n",
        "# 縦方向に結合:dで定義\n",
        "\n",
        "# a = (0,1,-1,\n",
        "#      2,4,-3,\n",
        "#      5,-2,7)\n",
        "\n",
        "# b = (-2,0,1,\n",
        "#      5,-1,2\n",
        "#      -6,3,4)\n",
        "\n",
        "a = np.array([[0,1,-1],[2,4,-3],[5,-2,7]]).reshape(3,-1)\n",
        "b = np.array([[-2,0,1],[5,-1,2],[-6,3,4]]).reshape(3,-1)\n",
        "\n",
        "print(a)\n",
        "print(b)\n",
        "\n",
        "# 縦方向に結合:cで定義 - np.vstack((要素,要素))\n",
        "c = np.vstack((a,b)) #v - vertical(垂直)\n",
        "print(c)\n",
        "\n",
        "# 縦方向に結合:dで定義. - np.hstack((要素,要素))\n",
        "d = np.hstack((a,b)) #h - horizontal\n",
        "print(d)"
      ],
      "metadata": {
        "colab": {
          "base_uri": "https://localhost:8080/"
        },
        "id": "HkNIICa3IV55",
        "outputId": "9c013895-7ce6-426d-dbd2-0f422376e914"
      },
      "execution_count": 15,
      "outputs": [
        {
          "output_type": "stream",
          "name": "stdout",
          "text": [
            "[[ 0  1 -1]\n",
            " [ 2  4 -3]\n",
            " [ 5 -2  7]]\n",
            "[[-2  0  1]\n",
            " [ 5 -1  2]\n",
            " [-6  3  4]]\n",
            "[[ 0  1 -1]\n",
            " [ 2  4 -3]\n",
            " [ 5 -2  7]\n",
            " [-2  0  1]\n",
            " [ 5 -1  2]\n",
            " [-6  3  4]]\n",
            "[[ 0  1 -1 -2  0  1]\n",
            " [ 2  4 -3  5 -1  2]\n",
            " [ 5 -2  7 -6  3  4]]\n"
          ]
        }
      ]
    },
    {
      "cell_type": "code",
      "source": [
        "# 16問目：行列の分解\n",
        "# 先ほどの結合の部分で作成した行列を使って以下の項目に従い分解を行ってください\n",
        "\n",
        "# 縦方向に分解:cを２つに分けた場合/cを３つに分けた場合\n",
        "# 横方向に分解:dを２つに分けた場合\n",
        "\n",
        "c = np.vstack((a,b))\n",
        "d = np.hstack((a,b))\n",
        "\n",
        "print(c)\n",
        "print(d)\n",
        "\n",
        "# 縦方向に分解 - np.vsplit(どの行列,何分解したいのか)\n",
        "# cを２つに分けた場合\n",
        "np.vsplit(c,2)\n",
        "print(np.vsplit(c,2))\n",
        "\n",
        "# cを３つに分けた場合\n",
        "np.vsplit(c,3)\n",
        "print(np.vsplit(c,3))\n",
        "\n",
        "# 横方向に分解 - np.vsplit(どの行列,何分解したいのか)\n",
        "# dを２つに分けた場合\n",
        "np.hsplit(d,3)\n",
        "print(np.hsplit(d,3))"
      ],
      "metadata": {
        "colab": {
          "base_uri": "https://localhost:8080/"
        },
        "id": "a1w8nwQKIV7w",
        "outputId": "4c4f92f1-a2ec-4ff1-e2eb-9600964e7efa"
      },
      "execution_count": 16,
      "outputs": [
        {
          "output_type": "stream",
          "name": "stdout",
          "text": [
            "[[ 0  1 -1]\n",
            " [ 2  4 -3]\n",
            " [ 5 -2  7]\n",
            " [-2  0  1]\n",
            " [ 5 -1  2]\n",
            " [-6  3  4]]\n",
            "[[ 0  1 -1 -2  0  1]\n",
            " [ 2  4 -3  5 -1  2]\n",
            " [ 5 -2  7 -6  3  4]]\n",
            "[array([[ 0,  1, -1],\n",
            "       [ 2,  4, -3],\n",
            "       [ 5, -2,  7]]), array([[-2,  0,  1],\n",
            "       [ 5, -1,  2],\n",
            "       [-6,  3,  4]])]\n",
            "[array([[ 0,  1, -1],\n",
            "       [ 2,  4, -3]]), array([[ 5, -2,  7],\n",
            "       [-2,  0,  1]]), array([[ 5, -1,  2],\n",
            "       [-6,  3,  4]])]\n",
            "[array([[ 0,  1],\n",
            "       [ 2,  4],\n",
            "       [ 5, -2]]), array([[-1, -2],\n",
            "       [-3,  5],\n",
            "       [ 7, -6]]), array([[ 0,  1],\n",
            "       [-1,  2],\n",
            "       [ 3,  4]])]\n"
          ]
        }
      ]
    },
    {
      "cell_type": "code",
      "source": [
        "# 17問目：\n",
        "# ここからはNumpyで作成したデータをMatplotlibを使ってグラフ化していきます。下記2つを実装してください\n",
        "# 0~2πまでの５００サンプルで区切ってsin波,cos波をプロット\n",
        "# ０〜３０までの整数からランダムに１００サンプルを作成してヒストグラムにする\n",
        "\n",
        "import matplotlib.pyplot as plt"
      ],
      "metadata": {
        "id": "y2Idba7PIV9k"
      },
      "execution_count": 17,
      "outputs": []
    },
    {
      "cell_type": "code",
      "source": [
        "# 2*np.pi - 2π\n",
        "# (0,2*np.pi,500) - 0から2π 500ずつ区切る\n",
        "\n",
        "# 0~2πまでの５００サンプルで区切ってsin波,cos波をプロット\n",
        "x = np.linspace(0,2*np.pi,500)\n",
        "print(x)\n",
        "\n",
        "#sin波 - plt.plot(横軸,縦軸)\n",
        "plt.plot(x,np.sin(x))\n",
        "\n",
        "#cos波 - plt.plot(横軸,縦軸)\n",
        "plt.plot(x,np.cos(x))\n",
        "\n",
        "plt.show()"
      ],
      "metadata": {
        "colab": {
          "base_uri": "https://localhost:8080/",
          "height": 1000
        },
        "id": "GkLYylJzOO5U",
        "outputId": "3f5d06a8-ea57-402f-fb9a-5558c5ce0b1a"
      },
      "execution_count": 18,
      "outputs": [
        {
          "output_type": "stream",
          "name": "stdout",
          "text": [
            "[0.         0.01259155 0.02518311 0.03777466 0.05036621 0.06295777\n",
            " 0.07554932 0.08814088 0.10073243 0.11332398 0.12591554 0.13850709\n",
            " 0.15109864 0.1636902  0.17628175 0.18887331 0.20146486 0.21405641\n",
            " 0.22664797 0.23923952 0.25183107 0.26442263 0.27701418 0.28960574\n",
            " 0.30219729 0.31478884 0.3273804  0.33997195 0.3525635  0.36515506\n",
            " 0.37774661 0.39033817 0.40292972 0.41552127 0.42811283 0.44070438\n",
            " 0.45329593 0.46588749 0.47847904 0.4910706  0.50366215 0.5162537\n",
            " 0.52884526 0.54143681 0.55402836 0.56661992 0.57921147 0.59180302\n",
            " 0.60439458 0.61698613 0.62957769 0.64216924 0.65476079 0.66735235\n",
            " 0.6799439  0.69253545 0.70512701 0.71771856 0.73031012 0.74290167\n",
            " 0.75549322 0.76808478 0.78067633 0.79326788 0.80585944 0.81845099\n",
            " 0.83104255 0.8436341  0.85622565 0.86881721 0.88140876 0.89400031\n",
            " 0.90659187 0.91918342 0.93177498 0.94436653 0.95695808 0.96954964\n",
            " 0.98214119 0.99473274 1.0073243  1.01991585 1.03250741 1.04509896\n",
            " 1.05769051 1.07028207 1.08287362 1.09546517 1.10805673 1.12064828\n",
            " 1.13323983 1.14583139 1.15842294 1.1710145  1.18360605 1.1961976\n",
            " 1.20878916 1.22138071 1.23397226 1.24656382 1.25915537 1.27174693\n",
            " 1.28433848 1.29693003 1.30952159 1.32211314 1.33470469 1.34729625\n",
            " 1.3598878  1.37247936 1.38507091 1.39766246 1.41025402 1.42284557\n",
            " 1.43543712 1.44802868 1.46062023 1.47321179 1.48580334 1.49839489\n",
            " 1.51098645 1.523578   1.53616955 1.54876111 1.56135266 1.57394422\n",
            " 1.58653577 1.59912732 1.61171888 1.62431043 1.63690198 1.64949354\n",
            " 1.66208509 1.67467664 1.6872682  1.69985975 1.71245131 1.72504286\n",
            " 1.73763441 1.75022597 1.76281752 1.77540907 1.78800063 1.80059218\n",
            " 1.81318374 1.82577529 1.83836684 1.8509584  1.86354995 1.8761415\n",
            " 1.88873306 1.90132461 1.91391617 1.92650772 1.93909927 1.95169083\n",
            " 1.96428238 1.97687393 1.98946549 2.00205704 2.0146486  2.02724015\n",
            " 2.0398317  2.05242326 2.06501481 2.07760636 2.09019792 2.10278947\n",
            " 2.11538103 2.12797258 2.14056413 2.15315569 2.16574724 2.17833879\n",
            " 2.19093035 2.2035219  2.21611346 2.22870501 2.24129656 2.25388812\n",
            " 2.26647967 2.27907122 2.29166278 2.30425433 2.31684588 2.32943744\n",
            " 2.34202899 2.35462055 2.3672121  2.37980365 2.39239521 2.40498676\n",
            " 2.41757831 2.43016987 2.44276142 2.45535298 2.46794453 2.48053608\n",
            " 2.49312764 2.50571919 2.51831074 2.5309023  2.54349385 2.55608541\n",
            " 2.56867696 2.58126851 2.59386007 2.60645162 2.61904317 2.63163473\n",
            " 2.64422628 2.65681784 2.66940939 2.68200094 2.6945925  2.70718405\n",
            " 2.7197756  2.73236716 2.74495871 2.75755027 2.77014182 2.78273337\n",
            " 2.79532493 2.80791648 2.82050803 2.83309959 2.84569114 2.85828269\n",
            " 2.87087425 2.8834658  2.89605736 2.90864891 2.92124046 2.93383202\n",
            " 2.94642357 2.95901512 2.97160668 2.98419823 2.99678979 3.00938134\n",
            " 3.02197289 3.03456445 3.047156   3.05974755 3.07233911 3.08493066\n",
            " 3.09752222 3.11011377 3.12270532 3.13529688 3.14788843 3.16047998\n",
            " 3.17307154 3.18566309 3.19825465 3.2108462  3.22343775 3.23602931\n",
            " 3.24862086 3.26121241 3.27380397 3.28639552 3.29898708 3.31157863\n",
            " 3.32417018 3.33676174 3.34935329 3.36194484 3.3745364  3.38712795\n",
            " 3.3997195  3.41231106 3.42490261 3.43749417 3.45008572 3.46267727\n",
            " 3.47526883 3.48786038 3.50045193 3.51304349 3.52563504 3.5382266\n",
            " 3.55081815 3.5634097  3.57600126 3.58859281 3.60118436 3.61377592\n",
            " 3.62636747 3.63895903 3.65155058 3.66414213 3.67673369 3.68932524\n",
            " 3.70191679 3.71450835 3.7270999  3.73969146 3.75228301 3.76487456\n",
            " 3.77746612 3.79005767 3.80264922 3.81524078 3.82783233 3.84042389\n",
            " 3.85301544 3.86560699 3.87819855 3.8907901  3.90338165 3.91597321\n",
            " 3.92856476 3.94115631 3.95374787 3.96633942 3.97893098 3.99152253\n",
            " 4.00411408 4.01670564 4.02929719 4.04188874 4.0544803  4.06707185\n",
            " 4.07966341 4.09225496 4.10484651 4.11743807 4.13002962 4.14262117\n",
            " 4.15521273 4.16780428 4.18039584 4.19298739 4.20557894 4.2181705\n",
            " 4.23076205 4.2433536  4.25594516 4.26853671 4.28112827 4.29371982\n",
            " 4.30631137 4.31890293 4.33149448 4.34408603 4.35667759 4.36926914\n",
            " 4.3818607  4.39445225 4.4070438  4.41963536 4.43222691 4.44481846\n",
            " 4.45741002 4.47000157 4.48259312 4.49518468 4.50777623 4.52036779\n",
            " 4.53295934 4.54555089 4.55814245 4.570734   4.58332555 4.59591711\n",
            " 4.60850866 4.62110022 4.63369177 4.64628332 4.65887488 4.67146643\n",
            " 4.68405798 4.69664954 4.70924109 4.72183265 4.7344242  4.74701575\n",
            " 4.75960731 4.77219886 4.78479041 4.79738197 4.80997352 4.82256508\n",
            " 4.83515663 4.84774818 4.86033974 4.87293129 4.88552284 4.8981144\n",
            " 4.91070595 4.92329751 4.93588906 4.94848061 4.96107217 4.97366372\n",
            " 4.98625527 4.99884683 5.01143838 5.02402993 5.03662149 5.04921304\n",
            " 5.0618046  5.07439615 5.0869877  5.09957926 5.11217081 5.12476236\n",
            " 5.13735392 5.14994547 5.16253703 5.17512858 5.18772013 5.20031169\n",
            " 5.21290324 5.22549479 5.23808635 5.2506779  5.26326946 5.27586101\n",
            " 5.28845256 5.30104412 5.31363567 5.32622722 5.33881878 5.35141033\n",
            " 5.36400189 5.37659344 5.38918499 5.40177655 5.4143681  5.42695965\n",
            " 5.43955121 5.45214276 5.46473432 5.47732587 5.48991742 5.50250898\n",
            " 5.51510053 5.52769208 5.54028364 5.55287519 5.56546675 5.5780583\n",
            " 5.59064985 5.60324141 5.61583296 5.62842451 5.64101607 5.65360762\n",
            " 5.66619917 5.67879073 5.69138228 5.70397384 5.71656539 5.72915694\n",
            " 5.7417485  5.75434005 5.7669316  5.77952316 5.79211471 5.80470627\n",
            " 5.81729782 5.82988937 5.84248093 5.85507248 5.86766403 5.88025559\n",
            " 5.89284714 5.9054387  5.91803025 5.9306218  5.94321336 5.95580491\n",
            " 5.96839646 5.98098802 5.99357957 6.00617113 6.01876268 6.03135423\n",
            " 6.04394579 6.05653734 6.06912889 6.08172045 6.094312   6.10690356\n",
            " 6.11949511 6.13208666 6.14467822 6.15726977 6.16986132 6.18245288\n",
            " 6.19504443 6.20763598 6.22022754 6.23281909 6.24541065 6.2580022\n",
            " 6.27059375 6.28318531]\n"
          ]
        },
        {
          "output_type": "display_data",
          "data": {
            "image/png": "[encoded data removed]",
            "text/plain": [
              "<Figure size 432x288 with 1 Axes>"
            ]
          },
          "metadata": {
            "needs_background": "light"
          }
        }
      ]
    },
    {
      "cell_type": "code",
      "source": [
        "# ０〜３０までの整数からランダムに１００サンプルを作成してヒストグラムにする\n",
        "# np.random.randint(0,30,100) - 0~30までの整数を100生成する\n",
        "\n",
        "data = np.random.randint(0,30,100)\n",
        "print(data)\n",
        "\n",
        "# plt.hist(プロットしたいもの,bins=棒の数)\n",
        "plt.hist(data,bins=50)"
      ],
      "metadata": {
        "colab": {
          "base_uri": "https://localhost:8080/",
          "height": 525
        },
        "id": "3w5ij7YCPCb2",
        "outputId": "bbaa96d9-6891-4cf6-9f7b-275f83a31aaa"
      },
      "execution_count": 19,
      "outputs": [
        {
          "output_type": "stream",
          "name": "stdout",
          "text": [
            "[12  8 28 21 22 16  0 13  5  3 12 18  3 10  3 19  6 11 12 19 17 24  2 25\n",
            " 28 26 14 14  3 10 23 27 17 12  0 14 14  2 14 14 15  7 29 22  6 10 22 29\n",
            "  1 25  8  0 11  4 12 22  4  8 25 14 24 15 24 27  5 15 28  4  7  6 24 26\n",
            "  0 25  4  4 18  0 10  7 18  7  7  4 27  1  5  8 23 29 19 22 19 12 17  9\n",
            "  8 15 11  7]\n"
          ]
        },
        {
          "output_type": "execute_result",
          "data": {
            "text/plain": [
              "(array([5., 2., 0., 2., 0., 4., 6., 0., 3., 0., 3., 0., 6., 5., 0., 1., 0.,\n",
              "        4., 3., 0., 6., 0., 1., 0., 7., 4., 0., 1., 0., 3., 0., 3., 4., 0.,\n",
              "        0., 0., 1., 5., 0., 2., 0., 4., 0., 4., 2., 0., 3., 0., 3., 3.]),\n",
              " array([ 0.  ,  0.58,  1.16,  1.74,  2.32,  2.9 ,  3.48,  4.06,  4.64,\n",
              "         5.22,  5.8 ,  6.38,  6.96,  7.54,  8.12,  8.7 ,  9.28,  9.86,\n",
              "        10.44, 11.02, 11.6 , 12.18, 12.76, 13.34, 13.92, 14.5 , 15.08,\n",
              "        15.66, 16.24, 16.82, 17.4 , 17.98, 18.56, 19.14, 19.72, 20.3 ,\n",
              "        20.88, 21.46, 22.04, 22.62, 23.2 , 23.78, 24.36, 24.94, 25.52,\n",
              "        26.1 , 26.68, 27.26, 27.84, 28.42, 29.  ]),\n",
              " <a list of 50 Patch objects>)"
            ]
          },
          "metadata": {},
          "execution_count": 19
        },
        {
          "output_type": "display_data",
          "data": {
            "image/png": "[encoded data removed]",
            "text/plain": [
              "<Figure size 432x288 with 1 Axes>"
            ]
          },
          "metadata": {
            "needs_background": "light"
          }
        }
      ]
    },
    {
      "cell_type": "code",
      "source": [
        "# 18問目：演習課題\n",
        "# ここまでの内容を理解しているか確認するために取り組みます。\n",
        "# 下記の行列の形状を見て計算可能なことを確認した後 c= ab の行列積を計算してください\n",
        "\n",
        "# a = (-10,-8,-6,\n",
        "#      -4,-2,0,\n",
        "#      2,4,6,\n",
        "#      8,10,12)\n",
        "\n",
        "# b = (-1,-2,-2,-2,\n",
        "#      -2,-1,-2,-2,\n",
        "#      -2,-2,-1,-2)\n",
        "\n",
        "a = np.array([[-10,-8,-6],[-4,-2,0],[2,4,6],[8,10,12]])\n",
        "b = np.eye(3,4) - 2\n",
        "\n",
        "print(a)\n",
        "print(b)\n",
        "\n",
        "# 行列積が計算可能か判断する方法\n",
        "# 1,形状確認 \n",
        "print(a.shape)\n",
        "print(b.shape)\n",
        "\n",
        "c = a @ b\n",
        "print(c)"
      ],
      "metadata": {
        "colab": {
          "base_uri": "https://localhost:8080/"
        },
        "id": "NKMvFwyoIV_Y",
        "outputId": "b5a8c463-d0aa-4a53-eae4-54de9fcbb2ab"
      },
      "execution_count": 20,
      "outputs": [
        {
          "output_type": "stream",
          "name": "stdout",
          "text": [
            "[[-10  -8  -6]\n",
            " [ -4  -2   0]\n",
            " [  2   4   6]\n",
            " [  8  10  12]]\n",
            "[[-1. -2. -2. -2.]\n",
            " [-2. -1. -2. -2.]\n",
            " [-2. -2. -1. -2.]]\n",
            "(4, 3)\n",
            "(3, 4)\n",
            "[[ 38.  40.  42.  48.]\n",
            " [  8.  10.  12.  12.]\n",
            " [-22. -20. -18. -24.]\n",
            " [-52. -50. -48. -60.]]\n"
          ]
        }
      ]
    },
    {
      "cell_type": "code",
      "source": [
        "# 19問目：演習課題\n",
        "# 先ほど作成した行列cの2行2列目までをdとして取り出し、一度転置した後、逆行列を求めてください。\n",
        "\n",
        "# cの2行2列目までをdとして取り出し、一度転置した後、逆行列を求めてください。\n",
        "\n",
        "#cの2行2列目\n",
        "d = c[:2,:2] \n",
        "print(d)\n",
        "\n",
        "# 転置\n",
        "d.T\n",
        "print(d.T)\n",
        "\n",
        "# 逆行列\n",
        "# まず逆行列が存在するのか行列式を計算して確認する\n",
        "# np.linalg.det(d.T) - 結果　→ 59.999999999999986 - ０ではないため逆行列が存在する\n",
        "print(np.linalg.inv(d.T))"
      ],
      "metadata": {
        "colab": {
          "base_uri": "https://localhost:8080/"
        },
        "id": "25LduDCqIWA-",
        "outputId": "3948867a-58df-4315-acdc-cf41df64a0f2"
      },
      "execution_count": 21,
      "outputs": [
        {
          "output_type": "stream",
          "name": "stdout",
          "text": [
            "[[38. 40.]\n",
            " [ 8. 10.]]\n",
            "[[38.  8.]\n",
            " [40. 10.]]\n",
            "[[ 0.16666667 -0.13333333]\n",
            " [-0.66666667  0.63333333]]\n"
          ]
        }
      ]
    },
    {
      "cell_type": "code",
      "source": [
        "# 20問目：演習課題\n",
        "# -100から100までの整数の乱数300サンプルを2つ作成しそれぞれをx軸の値,y軸の値とした場合の散布図をプロットしてください\n",
        "\n",
        "# -100から100までの整数の乱数300サンプルを2つ作成\n",
        "data1 = np.random.randint(-100,100,300)\n",
        "data2 = np.random.randint(-100,100,300)\n",
        "\n",
        "# それぞれをx軸の値,y軸の値とした場合の散布図をプロット\n",
        "plt.scatter(data1, data2)"
      ],
      "metadata": {
        "colab": {
          "base_uri": "https://localhost:8080/",
          "height": 282
        },
        "id": "nzRsYmVcIWCh",
        "outputId": "a2a2e0d8-ecc5-4b9a-a0d4-3e57dfd6aac3"
      },
      "execution_count": 22,
      "outputs": [
        {
          "output_type": "execute_result",
          "data": {
            "text/plain": [
              "<matplotlib.collections.PathCollection at 0x7f83ef1bc550>"
            ]
          },
          "metadata": {},
          "execution_count": 22
        },
        {
          "output_type": "display_data",
          "data": {
            "image/png": "[encoded data removed]",
            "text/plain": [
              "<Figure size 432x288 with 1 Axes>"
            ]
          },
          "metadata": {
            "needs_background": "light"
          }
        }
      ]
    }
  ]
}