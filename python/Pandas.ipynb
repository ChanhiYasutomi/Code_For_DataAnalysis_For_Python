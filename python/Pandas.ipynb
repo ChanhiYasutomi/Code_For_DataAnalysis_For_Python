{
  "nbformat": 4,
  "nbformat_minor": 0,
  "metadata": {
    "colab": {
      "name": "Pandas.ipynb",
      "provenance": [],
      "collapsed_sections": []
    },
    "kernelspec": {
      "name": "python3",
      "display_name": "Python 3"
    },
    "language_info": {
      "name": "python"
    }
  },
  "cells": [
    {
      "cell_type": "code",
      "source": [
        "# Pandas - データ構造構造を扱う\n",
        "\n",
        "# 01. データの読み込み\n",
        "# weather.csvを読み込み、df で定義してください。\n",
        "\n",
        "import pandas as pd\n",
        "df = pd.read_csv(\"/content/weather.csv\")\n",
        "print(df) "
      ],
      "metadata": {
        "colab": {
          "base_uri": "https://localhost:8080/"
        },
        "id": "NYpd0xptdWaI",
        "outputId": "afcb59c2-af84-402d-9f3e-c6174c4df02c"
      },
      "execution_count": 1,
      "outputs": [
        {
          "output_type": "stream",
          "name": "stdout",
          "text": [
            "            年月日  平均気温(℃) 平均気温(℃).1  ... 日照時間(時間)  日照時間(時間).1 日照時間(時間).2\n",
            "0           NaN      NaN      品質情報  ...      NaN        品質情報       均質番号\n",
            "1    2019/12/14      9.3         8  ...      8.9           8          1\n",
            "2    2019/12/15      7.8         8  ...      6.3           8          1\n",
            "3    2019/12/16      6.9         8  ...      8.9           8          1\n",
            "4    2019/12/17      8.2         8  ...      0.2           8          1\n",
            "..          ...      ...       ...  ...      ...         ...        ...\n",
            "363  2020/12/10      8.7         8  ...      0.0           8          1\n",
            "364  2020/12/11      9.2         8  ...      4.3           8          1\n",
            "365  2020/12/12     10.4         8  ...      1.4           8          1\n",
            "366  2020/12/13      8.6         8  ...      5.5           8          1\n",
            "367  2020/12/14      7.8         8  ...      4.4           8          1\n",
            "\n",
            "[368 rows x 28 columns]\n"
          ]
        }
      ]
    },
    {
      "cell_type": "code",
      "source": [
        "# 02. データの中身確認\n",
        "# 読み込んだデータdfの先頭3行、末尾10行を表示してください。\n",
        "\n",
        "# 先頭3行\n",
        "# df.head(行を指定できる - デフォルトは5行)  \n",
        "print(df.head(3))\n",
        "\n",
        "# 末尾10行\n",
        "print(df.tail(10))"
      ],
      "metadata": {
        "colab": {
          "base_uri": "https://localhost:8080/"
        },
        "id": "49BMlKA2dWbb",
        "outputId": "11a8dd60-f233-4701-bbf5-12d86ca76e5a"
      },
      "execution_count": 2,
      "outputs": [
        {
          "output_type": "stream",
          "name": "stdout",
          "text": [
            "          年月日  平均気温(℃) 平均気温(℃).1  ... 日照時間(時間)  日照時間(時間).1 日照時間(時間).2\n",
            "0         NaN      NaN      品質情報  ...      NaN        品質情報       均質番号\n",
            "1  2019/12/14      9.3         8  ...      8.9           8          1\n",
            "2  2019/12/15      7.8         8  ...      6.3           8          1\n",
            "\n",
            "[3 rows x 28 columns]\n",
            "            年月日  平均気温(℃) 平均気温(℃).1  ... 日照時間(時間)  日照時間(時間).1 日照時間(時間).2\n",
            "358   2020/12/5      6.0         8  ...      0.0           8          1\n",
            "359   2020/12/6      8.0         8  ...      3.8           8          1\n",
            "360   2020/12/7      9.0         8  ...      9.0           8          1\n",
            "361   2020/12/8     10.4         8  ...      6.9           8          1\n",
            "362   2020/12/9      9.2         8  ...      0.0           8          1\n",
            "363  2020/12/10      8.7         8  ...      0.0           8          1\n",
            "364  2020/12/11      9.2         8  ...      4.3           8          1\n",
            "365  2020/12/12     10.4         8  ...      1.4           8          1\n",
            "366  2020/12/13      8.6         8  ...      5.5           8          1\n",
            "367  2020/12/14      7.8         8  ...      4.4           8          1\n",
            "\n",
            "[10 rows x 28 columns]\n"
          ]
        }
      ]
    },
    {
      "cell_type": "code",
      "source": [
        "# 03. 不要な列、行の削除\n",
        "# 行は先頭のみ、列は、カラム名（列名）が「〇〇.1」「〇〇.2」となっているものを削除したDataFrame df を再定義してください。\n",
        "\n",
        "# df.columns - 全カラム名を取ってこれる\n",
        "print(df.columns)\n",
        "\n",
        "# これで必要なカラムをとれる\n",
        "df = df[['年月日', \n",
        " '平均気温(℃)', \n",
        " '最高気温(℃)', \n",
        " '最低気温(℃)', \n",
        " '降水量の合計(mm)', \n",
        " '最深積雪(cm)', \n",
        " '平均雲量(10分比)', \n",
        " '平均蒸気圧(hPa)', \n",
        " '平均風速(m/s)', \n",
        " '日照時間(時間)',\n",
        "]][1:]\n",
        "# [1:] - １行目から読み込める\n",
        "\n",
        "print(df.head())"
      ],
      "metadata": {
        "colab": {
          "base_uri": "https://localhost:8080/"
        },
        "id": "BEuANO1CdWdf",
        "outputId": "272a1f2e-287e-407a-db8b-ce50cdd8824d"
      },
      "execution_count": 3,
      "outputs": [
        {
          "output_type": "stream",
          "name": "stdout",
          "text": [
            "Index(['年月日', '平均気温(℃)', '平均気温(℃).1', '平均気温(℃).2', '最高気温(℃)', '最高気温(℃).1',\n",
            "       '最高気温(℃).2', '最低気温(℃)', '最低気温(℃).1', '最低気温(℃).2', '降水量の合計(mm)',\n",
            "       '降水量の合計(mm).1', '降水量の合計(mm).2', '最深積雪(cm)', '最深積雪(cm).1', '最深積雪(cm).2',\n",
            "       '平均雲量(10分比)', '平均雲量(10分比).1', '平均雲量(10分比).2', '平均蒸気圧(hPa)',\n",
            "       '平均蒸気圧(hPa).1', '平均蒸気圧(hPa).2', '平均風速(m/s)', '平均風速(m/s).1',\n",
            "       '平均風速(m/s).2', '日照時間(時間)', '日照時間(時間).1', '日照時間(時間).2'],\n",
            "      dtype='object')\n",
            "          年月日  平均気温(℃)  最高気温(℃)  ...  平均蒸気圧(hPa)  平均風速(m/s)  日照時間(時間)\n",
            "1  2019/12/14      9.3     15.9  ...         NaN        2.0       8.9\n",
            "2  2019/12/15      7.8     11.1  ...         NaN        2.3       6.3\n",
            "3  2019/12/16      6.9     12.5  ...         NaN        1.1       8.9\n",
            "4  2019/12/17      8.2     10.3  ...         NaN        1.1       0.2\n",
            "5  2019/12/18      9.9     15.0  ...         NaN        1.2       4.3\n",
            "\n",
            "[5 rows x 10 columns]\n"
          ]
        }
      ]
    },
    {
      "cell_type": "code",
      "source": [
        "# 04. DataFrameに関する情報の取得\n",
        "# 下記の値を取得してください。\n",
        "\n",
        "# 各列のデータ型\n",
        "print(df.dtypes)\n",
        "\n",
        "# DataFrameのサイズ\n",
        "print(df.shape)\n",
        "\n",
        "# 列名\n",
        "print(df.columns)\n",
        "\n",
        "# 行名\n",
        "print(df.index)"
      ],
      "metadata": {
        "colab": {
          "base_uri": "https://localhost:8080/"
        },
        "id": "fSg2LyBndWfE",
        "outputId": "00442ed9-5374-4c57-f956-100d991644c0"
      },
      "execution_count": 4,
      "outputs": [
        {
          "output_type": "stream",
          "name": "stdout",
          "text": [
            "年月日            object\n",
            "平均気温(℃)       float64\n",
            "最高気温(℃)       float64\n",
            "最低気温(℃)       float64\n",
            "降水量の合計(mm)    float64\n",
            "最深積雪(cm)      float64\n",
            "平均雲量(10分比)    float64\n",
            "平均蒸気圧(hPa)    float64\n",
            "平均風速(m/s)     float64\n",
            "日照時間(時間)      float64\n",
            "dtype: object\n",
            "(367, 10)\n",
            "Index(['年月日', '平均気温(℃)', '最高気温(℃)', '最低気温(℃)', '降水量の合計(mm)', '最深積雪(cm)',\n",
            "       '平均雲量(10分比)', '平均蒸気圧(hPa)', '平均風速(m/s)', '日照時間(時間)'],\n",
            "      dtype='object')\n",
            "RangeIndex(start=1, stop=368, step=1)\n"
          ]
        }
      ]
    },
    {
      "cell_type": "code",
      "source": [
        "# 05. 任意の要素を取得\n",
        "# dfの 5〜10行目, 3〜6列目（最高気温(℃)〜最深積雪(cm)）の要素を取得してください。\n",
        "\n",
        "# df.ioc[行,列] - 任意の要素を取得\n",
        "print(df.iloc[4:10,2:6])"
      ],
      "metadata": {
        "colab": {
          "base_uri": "https://localhost:8080/"
        },
        "id": "xaKDs4tudWgq",
        "outputId": "775531ac-009c-4387-c2d4-415198c3a104"
      },
      "execution_count": 5,
      "outputs": [
        {
          "output_type": "stream",
          "name": "stdout",
          "text": [
            "    最高気温(℃)  最低気温(℃)  降水量の合計(mm)  最深積雪(cm)\n",
            "5      15.0      4.8         0.0       NaN\n",
            "6       9.7      7.9         1.0       NaN\n",
            "7      15.8      5.7         0.0       NaN\n",
            "8       8.4      6.5         0.0       NaN\n",
            "9       9.8      4.2        21.0       NaN\n",
            "10     12.1      3.6         9.5       NaN\n"
          ]
        }
      ]
    },
    {
      "cell_type": "code",
      "source": [
        "# 06. 条件抽出\n",
        "# people.csv を読み込みdf_peopleと定義してください。\n",
        "\n",
        "# その後、下記の条件を満たすDataFrameをそれぞれ抽出してください。\n",
        "# nationality が America である\n",
        "# age が 20以上30未満である\n",
        "\n",
        "df_people = pd.read_csv(\"/content/people.csv\")\n",
        "print(df_people)\n",
        "\n",
        "# 条件抽出 - # nationality が America である\n",
        "# df_people[df_people[\"カラム\"] == \"条件\"] - df_people[df_people[\"nationality\"] == \"America\"]\n",
        "print(df_people[df_people[\"nationality\"] == \"America\"])\n",
        "\n",
        "# 条件抽出 -　他のやり方 - df_people.query('nationality == \"America\"')\n",
        "print(df_people.query('nationality == \"America\"'))\n",
        "\n",
        "# age が 20以上30未満である - df_people[(df_people[\"age\"] >= 20) & (df_people[\"age\"] < 30)]\n",
        "print(df_people[(df_people[\"age\"] >= 20) & (df_people[\"age\"] < 30)])\n",
        "\n",
        "# age が 20以上30未満である - 他のやり方 - df_people.query(\"age >= 20 & age < 30\")\n",
        "print(df_people.query(\"age >= 20 & age < 30\"))"
      ],
      "metadata": {
        "colab": {
          "base_uri": "https://localhost:8080/"
        },
        "id": "ShbTrcO6dWic",
        "outputId": "987e7277-8e39-48a1-b09d-5e568cca52a0"
      },
      "execution_count": 6,
      "outputs": [
        {
          "output_type": "stream",
          "name": "stdout",
          "text": [
            "   age  id      name nationality\n",
            "0   26  13  Imanishi       Japan\n",
            "1   21  33      Mike     America\n",
            "2   35  31    Suzuki       Japan\n",
            "3   16  20      John     America\n",
            "4   28  11       Kim       Korea\n",
            "   age  id  name nationality\n",
            "1   21  33  Mike     America\n",
            "3   16  20  John     America\n",
            "   age  id  name nationality\n",
            "1   21  33  Mike     America\n",
            "3   16  20  John     America\n",
            "   age  id      name nationality\n",
            "0   26  13  Imanishi       Japan\n",
            "1   21  33      Mike     America\n",
            "4   28  11       Kim       Korea\n",
            "   age  id      name nationality\n",
            "0   26  13  Imanishi       Japan\n",
            "1   21  33      Mike     America\n",
            "4   28  11       Kim       Korea\n"
          ]
        }
      ]
    },
    {
      "cell_type": "code",
      "source": [
        "# 07. ユニークな値の抽出\n",
        "# df_peopleに対して、カラム毎のユニーク（固有）な値を抽出してください。 - xxx.unique()\n",
        "\n",
        "print(df_people[\"age\"].unique())\n",
        "print(df_people[\"nationality\"].unique())"
      ],
      "metadata": {
        "colab": {
          "base_uri": "https://localhost:8080/"
        },
        "id": "NRjSVo_ndWkS",
        "outputId": "976c9730-e171-4f5e-9437-90bee92f1a1c"
      },
      "execution_count": 7,
      "outputs": [
        {
          "output_type": "stream",
          "name": "stdout",
          "text": [
            "[26 21 35 16 28]\n",
            "['Japan' 'America' 'Korea']\n"
          ]
        }
      ]
    },
    {
      "cell_type": "code",
      "source": [
        "# 08. 重複除去\n",
        "# nationalityの列に対し、重複がある値の行を除去したDataFrameを取得してください。\n",
        "\n",
        "#df_people.drop_duplicates(subset=\"nationality\") -  xxx.drop_duplicates(subset=\"除去したい項目\")\n",
        "print(df_people.drop_duplicates(subset=\"nationality\"))"
      ],
      "metadata": {
        "colab": {
          "base_uri": "https://localhost:8080/"
        },
        "id": "M82EV71TdWmG",
        "outputId": "dea9f50d-8904-4cd8-b921-fff8cbf25e81"
      },
      "execution_count": 8,
      "outputs": [
        {
          "output_type": "stream",
          "name": "stdout",
          "text": [
            "   age  id      name nationality\n",
            "0   26  13  Imanishi       Japan\n",
            "1   21  33      Mike     America\n",
            "4   28  11       Kim       Korea\n"
          ]
        }
      ]
    },
    {
      "cell_type": "code",
      "source": [
        "# 09. カラム名変更\n",
        "# dfに対し、各カラム名の「（単位）」部分を削除したカラム名に変更してください。\n",
        "\n",
        "# <新しいカラム名>\n",
        "\n",
        "# 年月日\n",
        "# 平均気温\n",
        "# 最高気温\n",
        "# 最低気温\n",
        "# 降水量の合計\n",
        "# 最深積雪\n",
        "# 平均雲量\n",
        "# 平均蒸気圧\n",
        "# 平均風速\n",
        "# 日照時間\n",
        "\n",
        "df.columns = [\n",
        "              '年月日', \n",
        "              '平均気温', \n",
        "              '最高気温', \n",
        "              '最低気温', \n",
        "              '降水量の合計', \n",
        "              '最深積雪',\n",
        "              '平均雲量', \n",
        "              '平均蒸気圧', \n",
        "              '平均風速', \n",
        "              '日照時間'\n",
        "]\n",
        "\n",
        "print(df)\n",
        "\n",
        "# 他の方法 - \n",
        "# df.rename(columns={\n",
        "#     \"平均気温(C)\":\"平均気温\",\n",
        "#     \"最高気温(C)\":\"最高気温\",\n",
        "#     \"最低気温(C)\":\"最低気温\",\n",
        "#     \"降水量の合計(mm)\":\"降水量の合計\",\n",
        "#     \"最深積雪(cm)\":\"最深積雪\",\n",
        "#     \"平均雲量(10分比)\":\"平均雲量\",\n",
        "#     \"平均蒸気圧(hPa)\":\"平均蒸気圧\",\n",
        "#     \"平均風速(m/s)\":\"平均風速\",\n",
        "#     \"日照時間(時間)\":\"日照時間\"\n",
        "# }).head()\n",
        "\n",
        "print(df.rename(columns={\n",
        "    \"平均気温(C)\":\"平均気温\",\n",
        "    \"最高気温(C)\":\"最高気温\",\n",
        "    \"最低気温(C)\":\"最低気温\",\n",
        "    \"降水量の合計(mm)\":\"降水量の合計\",\n",
        "    \"最深積雪(cm)\":\"最深積雪\",\n",
        "    \"平均雲量(10分比)\":\"平均雲量\",\n",
        "    \"平均蒸気圧(hPa)\":\"平均蒸気圧\",\n",
        "    \"平均風速(m/s)\":\"平均風速\",\n",
        "    \"日照時間(時間)\":\"日照時間\"\n",
        "}).head())"
      ],
      "metadata": {
        "colab": {
          "base_uri": "https://localhost:8080/"
        },
        "id": "DRy2O7CpdWnr",
        "outputId": "11efb7b2-b0f0-4ff0-b6f0-0102a528c233"
      },
      "execution_count": 9,
      "outputs": [
        {
          "output_type": "stream",
          "name": "stdout",
          "text": [
            "            年月日  平均気温  最高気温  最低気温  降水量の合計  最深積雪  平均雲量  平均蒸気圧  平均風速  日照時間\n",
            "1    2019/12/14   9.3  15.9   3.2     0.0   NaN   NaN    NaN   2.0   8.9\n",
            "2    2019/12/15   7.8  11.1   4.0     0.0   NaN   NaN    NaN   2.3   6.3\n",
            "3    2019/12/16   6.9  12.5   1.3     0.0   NaN   NaN    NaN   1.1   8.9\n",
            "4    2019/12/17   8.2  10.3   5.7     2.0   NaN   NaN    NaN   1.1   0.2\n",
            "5    2019/12/18   9.9  15.0   4.8     0.0   NaN   NaN    NaN   1.2   4.3\n",
            "..          ...   ...   ...   ...     ...   ...   ...    ...   ...   ...\n",
            "363  2020/12/10   8.7  11.1   6.0     0.5   NaN   NaN    NaN   1.4   0.0\n",
            "364  2020/12/11   9.2  13.8   3.5     0.0   NaN   NaN    NaN   0.8   4.3\n",
            "365  2020/12/12  10.4  14.0   8.0     0.0   NaN   NaN    NaN   1.4   1.4\n",
            "366  2020/12/13   8.6  14.4   4.4     0.0   NaN   NaN    NaN   1.0   5.5\n",
            "367  2020/12/14   7.8  12.2   4.4     0.0   NaN   NaN    NaN   1.9   4.4\n",
            "\n",
            "[367 rows x 10 columns]\n",
            "          年月日  平均気温  最高気温  最低気温  降水量の合計  最深積雪  平均雲量  平均蒸気圧  平均風速  日照時間\n",
            "1  2019/12/14   9.3  15.9   3.2     0.0   NaN   NaN    NaN   2.0   8.9\n",
            "2  2019/12/15   7.8  11.1   4.0     0.0   NaN   NaN    NaN   2.3   6.3\n",
            "3  2019/12/16   6.9  12.5   1.3     0.0   NaN   NaN    NaN   1.1   8.9\n",
            "4  2019/12/17   8.2  10.3   5.7     2.0   NaN   NaN    NaN   1.1   0.2\n",
            "5  2019/12/18   9.9  15.0   4.8     0.0   NaN   NaN    NaN   1.2   4.3\n"
          ]
        }
      ]
    },
    {
      "cell_type": "code",
      "source": [
        "# 10. 並び替え\n",
        "# dfを最高気温が高い順に並び替えてください。\n",
        "# df.sort_values(\"項目\",ascending=False)　- ascending = False or ascending = True\n",
        "print(df.sort_values(\"最高気温\",ascending=False))"
      ],
      "metadata": {
        "colab": {
          "base_uri": "https://localhost:8080/"
        },
        "id": "0AtO0nAGdWpd",
        "outputId": "d97b4380-2c5f-46c8-dc47-f743b5dc977c"
      },
      "execution_count": 10,
      "outputs": [
        {
          "output_type": "stream",
          "name": "stdout",
          "text": [
            "           年月日  平均気温  最高気温  最低気温  降水量の合計  最深積雪  平均雲量  平均蒸気圧  平均風速  日照時間\n",
            "248  2020/8/17  30.9  37.2  26.8     0.0   NaN   NaN    NaN   1.7   9.4\n",
            "244  2020/8/13  30.4  37.1  26.9     0.5   NaN   NaN    NaN   1.6   8.5\n",
            "246  2020/8/15  31.2  36.5  27.8     0.0   NaN   NaN    NaN   1.5   8.7\n",
            "243  2020/8/12  30.3  35.9  27.6     0.0   NaN   NaN    NaN   1.8   7.2\n",
            "252  2020/8/21  29.9  35.4  26.2     0.0   NaN   NaN    NaN   1.8  12.0\n",
            "..         ...   ...   ...   ...     ...   ...   ...    ...   ...   ...\n",
            "44   2020/1/26   4.6   7.0   1.7     5.5   NaN   NaN    NaN   0.9   0.0\n",
            "45   2020/1/27   4.7   6.8   3.1     3.5   NaN   NaN    NaN   1.6   0.0\n",
            "36   2020/1/18   3.8   6.2   0.9     7.5   NaN   NaN    NaN   2.5   0.0\n",
            "40   2020/1/22   4.0   6.2   1.4     0.0   NaN   NaN    NaN   1.2   0.9\n",
            "55    2020/2/6   2.3   5.5  -1.3     0.0   NaN   NaN    NaN   3.6   7.5\n",
            "\n",
            "[367 rows x 10 columns]\n"
          ]
        }
      ]
    },
    {
      "cell_type": "code",
      "source": [
        "# 11. ダミーデータへの処理\n",
        "# df_peopleのnationalityカラムをダミー変数に変換してください。\n",
        "print(df_people[\"nationality\"].unique())\n",
        "\n",
        "# df_peopleのnationalityカラムをダミー変数に変換してください。 - pd.get_dummies(df_people,columns=[\"nationality\"])\n",
        "print(pd.get_dummies(df_people,columns=[\"nationality\"]))"
      ],
      "metadata": {
        "colab": {
          "base_uri": "https://localhost:8080/"
        },
        "id": "Q8kTfvWAdWrH",
        "outputId": "32dd5f3c-319b-446f-c0e3-c6c9fc0b6d80"
      },
      "execution_count": 11,
      "outputs": [
        {
          "output_type": "stream",
          "name": "stdout",
          "text": [
            "['Japan' 'America' 'Korea']\n",
            "   age  id      name  nationality_America  nationality_Japan  nationality_Korea\n",
            "0   26  13  Imanishi                    0                  1                  0\n",
            "1   21  33      Mike                    1                  0                  0\n",
            "2   35  31    Suzuki                    0                  1                  0\n",
            "3   16  20      John                    1                  0                  0\n",
            "4   28  11       Kim                    0                  0                  1\n"
          ]
        }
      ]
    },
    {
      "cell_type": "code",
      "source": [
        "# 12. 欠損値の確認\n",
        "# dfの欠損値を確認してください。\n",
        "\n",
        "# True = 欠損値\n",
        "print(df.isnull())"
      ],
      "metadata": {
        "colab": {
          "base_uri": "https://localhost:8080/"
        },
        "id": "6oZPo_qFdWsn",
        "outputId": "88d68444-e8cf-481f-a97d-4b6ddd5a25d3"
      },
      "execution_count": 12,
      "outputs": [
        {
          "output_type": "stream",
          "name": "stdout",
          "text": [
            "       年月日   平均気温   最高気温   最低気温  降水量の合計  最深積雪  平均雲量  平均蒸気圧   平均風速   日照時間\n",
            "1    False  False  False  False   False  True  True   True  False  False\n",
            "2    False  False  False  False   False  True  True   True  False  False\n",
            "3    False  False  False  False   False  True  True   True  False  False\n",
            "4    False  False  False  False   False  True  True   True  False  False\n",
            "5    False  False  False  False   False  True  True   True  False  False\n",
            "..     ...    ...    ...    ...     ...   ...   ...    ...    ...    ...\n",
            "363  False  False  False  False   False  True  True   True  False  False\n",
            "364  False  False  False  False   False  True  True   True  False  False\n",
            "365  False  False  False  False   False  True  True   True  False  False\n",
            "366  False  False  False  False   False  True  True   True  False  False\n",
            "367  False  False  False  False   False  True  True   True  False  False\n",
            "\n",
            "[367 rows x 10 columns]\n"
          ]
        }
      ]
    },
    {
      "cell_type": "code",
      "source": [
        "# 13. 欠損値の補完\n",
        "# dfの欠損値を全て0で補完してください。\n",
        "\n",
        "# df.fillna(補完したい値)\n",
        "print(df.fillna(0).head())"
      ],
      "metadata": {
        "colab": {
          "base_uri": "https://localhost:8080/"
        },
        "id": "--4ZNqlweHfe",
        "outputId": "783d9572-91e9-4434-9215-202c9650f2b6"
      },
      "execution_count": 13,
      "outputs": [
        {
          "output_type": "stream",
          "name": "stdout",
          "text": [
            "          年月日  平均気温  最高気温  最低気温  降水量の合計  最深積雪  平均雲量  平均蒸気圧  平均風速  日照時間\n",
            "1  2019/12/14   9.3  15.9   3.2     0.0   0.0   0.0    0.0   2.0   8.9\n",
            "2  2019/12/15   7.8  11.1   4.0     0.0   0.0   0.0    0.0   2.3   6.3\n",
            "3  2019/12/16   6.9  12.5   1.3     0.0   0.0   0.0    0.0   1.1   8.9\n",
            "4  2019/12/17   8.2  10.3   5.7     2.0   0.0   0.0    0.0   1.1   0.2\n",
            "5  2019/12/18   9.9  15.0   4.8     0.0   0.0   0.0    0.0   1.2   4.3\n"
          ]
        }
      ]
    },
    {
      "cell_type": "code",
      "source": [
        "# 14. 欠損値の削除\n",
        "# dfの欠損値を列方向で削除してください。\n",
        "\n",
        "# df.dropna(行か列かを削除したい値 - 列の場合は axis=,,, )\n",
        "print(df.dropna(axis=1))"
      ],
      "metadata": {
        "colab": {
          "base_uri": "https://localhost:8080/"
        },
        "id": "Dkoy6ScieHds",
        "outputId": "ccea785c-0ff6-4965-a9df-4011f7020c73"
      },
      "execution_count": 14,
      "outputs": [
        {
          "output_type": "stream",
          "name": "stdout",
          "text": [
            "            年月日  平均気温  最高気温  最低気温  降水量の合計  平均風速  日照時間\n",
            "1    2019/12/14   9.3  15.9   3.2     0.0   2.0   8.9\n",
            "2    2019/12/15   7.8  11.1   4.0     0.0   2.3   6.3\n",
            "3    2019/12/16   6.9  12.5   1.3     0.0   1.1   8.9\n",
            "4    2019/12/17   8.2  10.3   5.7     2.0   1.1   0.2\n",
            "5    2019/12/18   9.9  15.0   4.8     0.0   1.2   4.3\n",
            "..          ...   ...   ...   ...     ...   ...   ...\n",
            "363  2020/12/10   8.7  11.1   6.0     0.5   1.4   0.0\n",
            "364  2020/12/11   9.2  13.8   3.5     0.0   0.8   4.3\n",
            "365  2020/12/12  10.4  14.0   8.0     0.0   1.4   1.4\n",
            "366  2020/12/13   8.6  14.4   4.4     0.0   1.0   5.5\n",
            "367  2020/12/14   7.8  12.2   4.4     0.0   1.9   4.4\n",
            "\n",
            "[367 rows x 7 columns]\n"
          ]
        }
      ]
    },
    {
      "cell_type": "code",
      "source": [
        "# 15. ユニークな値と出現回数\n",
        "# iris.csvを読み込みdf_irisと定義してください。\n",
        "# その後、df_irisのClassカラムにおいて、ユニークな値とその出現回数を確認してください。\n",
        "\n",
        "# iris.csvを読み込みdf_irisと定義してください。\n",
        "df_iris = pd.read_csv(\"/content/iris.csv\")\n",
        "print(df_iris.head())\n",
        "\n",
        "# その後、df_irisのClassカラムにおいて、ユニークな値とその出現回数を確認してください。\n",
        "# ユニークな値 - df_iris[\"Class\"]\n",
        "# その出現回数 - .value_counts()\n",
        "print(df_iris[\"Class\"].value_counts())"
      ],
      "metadata": {
        "colab": {
          "base_uri": "https://localhost:8080/"
        },
        "id": "fqia4TT5eHb3",
        "outputId": "bee0a671-9de5-4b70-fa8c-2b9ee0c8c4c2"
      },
      "execution_count": 15,
      "outputs": [
        {
          "output_type": "stream",
          "name": "stdout",
          "text": [
            "   sepal-length  sepal-width  petal-length  petal-width        Class\n",
            "0           5.1          3.5           1.4          0.2  Iris-setosa\n",
            "1           4.9          3.0           1.4          0.2  Iris-setosa\n",
            "2           4.7          3.2           1.3          0.2  Iris-setosa\n",
            "3           4.6          3.1           1.5          0.2  Iris-setosa\n",
            "4           5.0          3.6           1.4          0.2  Iris-setosa\n",
            "Iris-virginica     53\n",
            "Iris-versicolor    53\n",
            "Iris-setosa        50\n",
            "Name: Class, dtype: int64\n"
          ]
        }
      ]
    },
    {
      "cell_type": "code",
      "source": [
        "# 16. グループごとの集計\n",
        "# df_irisの下記各クラスにおけるsepal-length, sepal-width, petal-length, petal-widthの平均値を求めてください。\n",
        "\n",
        "# Iris-setosa\n",
        "# Iris-versicolor\n",
        "# Iris-virginica\n",
        "\n",
        "print(df_iris.groupby(\"Class\").mean())"
      ],
      "metadata": {
        "colab": {
          "base_uri": "https://localhost:8080/"
        },
        "id": "77iL19dueHaK",
        "outputId": "a408972c-13a2-4f23-9649-6e6e8dfcd405"
      },
      "execution_count": 16,
      "outputs": [
        {
          "output_type": "stream",
          "name": "stdout",
          "text": [
            "                 sepal-length  sepal-width  petal-length  petal-width\n",
            "Class                                                                \n",
            "Iris-setosa          5.004255     3.434000      1.454000     0.244000\n",
            "Iris-versicolor      6.403774     2.762264      4.307547     1.352830\n",
            "Iris-virginica       6.937736     2.979245      5.526415     2.013208\n"
          ]
        }
      ]
    },
    {
      "cell_type": "code",
      "source": [
        "# 17. 統計量の確認\n",
        "# df_irisの各カラムにおける、下記統計量を算出してください。\n",
        "\n",
        "# 平均値\n",
        "# 中央値\n",
        "# 標準偏差\n",
        "# 最大値\n",
        "# 最小値\n",
        "\n",
        "# 平均値 - df.mean()\n",
        "print(df.mean())\n",
        "\n",
        "# 中央値 -df.median()\n",
        "print(df.median())\n",
        "\n",
        "# 標準偏差 - df.std()\n",
        "print(df.std())\n",
        "\n",
        "# 最大値 - df.max()\n",
        "print(df.max())\n",
        "\n",
        "# 最小値 - df.min()\n",
        "print(df.min())"
      ],
      "metadata": {
        "colab": {
          "base_uri": "https://localhost:8080/"
        },
        "id": "UaAmgYGceHYh",
        "outputId": "a7c56c4a-1c93-4c52-9162-c3e03772b226"
      },
      "execution_count": 17,
      "outputs": [
        {
          "output_type": "stream",
          "name": "stdout",
          "text": [
            "平均気温      16.213896\n",
            "最高気温      20.466757\n",
            "最低気温      12.536785\n",
            "降水量の合計     3.882834\n",
            "最深積雪            NaN\n",
            "平均雲量            NaN\n",
            "平均蒸気圧           NaN\n",
            "平均風速       1.848774\n",
            "日照時間       5.118256\n",
            "dtype: float64\n",
            "平均気温      15.3\n",
            "最高気温      19.9\n",
            "最低気温      10.9\n",
            "降水量の合計     0.0\n",
            "最深積雪       NaN\n",
            "平均雲量       NaN\n",
            "平均蒸気圧      NaN\n",
            "平均風速       1.7\n",
            "日照時間       4.8\n",
            "dtype: float64\n",
            "平均気温       7.597900\n",
            "最高気温       7.771437\n",
            "最低気温       8.147217\n",
            "降水量の合計    10.198369\n",
            "最深積雪            NaN\n",
            "平均雲量            NaN\n",
            "平均蒸気圧           NaN\n",
            "平均風速       0.704119\n",
            "日照時間       4.237862\n",
            "dtype: float64\n",
            "年月日       2020/9/9\n",
            "平均気温          31.2\n",
            "最高気温          37.2\n",
            "最低気温          27.8\n",
            "降水量の合計        77.5\n",
            "最深積雪           NaN\n",
            "平均雲量           NaN\n",
            "平均蒸気圧          NaN\n",
            "平均風速           4.4\n",
            "日照時間          13.5\n",
            "dtype: object\n",
            "年月日       2019/12/14\n",
            "平均気温             1.8\n",
            "最高気温             5.5\n",
            "最低気温            -4.3\n",
            "降水量の合計             0\n",
            "最深積雪             NaN\n",
            "平均雲量             NaN\n",
            "平均蒸気圧            NaN\n",
            "平均風速             0.7\n",
            "日照時間               0\n",
            "dtype: object\n"
          ]
        }
      ]
    },
    {
      "cell_type": "code",
      "source": [
        "# 18. 折れ線グラフの表示\n",
        "# dfの先頭50日間おける平均気温、最高気温、最低気温を折れ線グラフ（凡例なし）で可視化してください。\n",
        "# ※横軸は年月日とすること\n",
        "\n",
        "import matplotlib.pyplot as plt\n",
        "# dfの先頭50日間\n",
        "# df[:50].plot(x（横軸）=,y(縦軸)=)\n",
        "\n",
        "df[:50].plot(x=\"年月日\",y=[\"平均気温\",\"最高気温\",\"最低気温\"],legend=False)"
      ],
      "metadata": {
        "colab": {
          "base_uri": "https://localhost:8080/",
          "height": 507
        },
        "id": "AxepxlcAeHWr",
        "outputId": "93328483-a68f-4526-f904-3b2db01980f0"
      },
      "execution_count": 18,
      "outputs": [
        {
          "output_type": "execute_result",
          "data": {
            "text/plain": [
              "<matplotlib.axes._subplots.AxesSubplot at 0x7f184bad9810>"
            ]
          },
          "metadata": {},
          "execution_count": 18
        },
        {
          "output_type": "stream",
          "name": "stderr",
          "text": [
            "/usr/local/lib/python3.7/dist-packages/matplotlib/backends/backend_agg.py:214: RuntimeWarning: Glyph 24180 missing from current font.\n",
            "  font.set_text(s, 0.0, flags=flags)\n",
            "/usr/local/lib/python3.7/dist-packages/matplotlib/backends/backend_agg.py:214: RuntimeWarning: Glyph 26376 missing from current font.\n",
            "  font.set_text(s, 0.0, flags=flags)\n",
            "/usr/local/lib/python3.7/dist-packages/matplotlib/backends/backend_agg.py:214: RuntimeWarning: Glyph 26085 missing from current font.\n",
            "  font.set_text(s, 0.0, flags=flags)\n",
            "/usr/local/lib/python3.7/dist-packages/matplotlib/backends/backend_agg.py:183: RuntimeWarning: Glyph 24180 missing from current font.\n",
            "  font.set_text(s, 0, flags=flags)\n",
            "/usr/local/lib/python3.7/dist-packages/matplotlib/backends/backend_agg.py:183: RuntimeWarning: Glyph 26376 missing from current font.\n",
            "  font.set_text(s, 0, flags=flags)\n",
            "/usr/local/lib/python3.7/dist-packages/matplotlib/backends/backend_agg.py:183: RuntimeWarning: Glyph 26085 missing from current font.\n",
            "  font.set_text(s, 0, flags=flags)\n"
          ]
        },
        {
          "output_type": "display_data",
          "data": {
            "image/png": "[encoded data removed]",
            "text/plain": [
              "<Figure size 432x288 with 1 Axes>"
            ]
          },
          "metadata": {
            "needs_background": "light"
          }
        }
      ]
    },
    {
      "cell_type": "code",
      "source": [
        "# 19. 相関係数の算出\n",
        "# dfの下記3項目同士の相関係数を算出してください。\n",
        "\n",
        "# 平均気温\n",
        "# 降水量の合計\n",
        "# 日照時間\n",
        "# df[['平均気温','降水量の合計','日照時間)']].corr() - corr() - 相関係数\n",
        "df[['平均気温','降水量の合計','日照時間']].corr()"
      ],
      "metadata": {
        "colab": {
          "base_uri": "https://localhost:8080/",
          "height": 143
        },
        "id": "YnzK2HCzeHU8",
        "outputId": "f86b5bd3-53a7-4f94-d5de-a5c827368620"
      },
      "execution_count": 19,
      "outputs": [
        {
          "output_type": "execute_result",
          "data": {
            "text/html": [
              "\n",
              "  <div id=\"df-6968cf97-14b2-4db8-8610-409a0c17a0de\">\n",
              "    <div class=\"colab-df-container\">\n",
              "      <div>\n",
              "<style scoped>\n",
              "    .dataframe tbody tr th:only-of-type {\n",
              "        vertical-align: middle;\n",
              "    }\n",
              "\n",
              "    .dataframe tbody tr th {\n",
              "        vertical-align: top;\n",
              "    }\n",
              "\n",
              "    .dataframe thead th {\n",
              "        text-align: right;\n",
              "    }\n",
              "</style>\n",
              "<table border=\"1\" class=\"dataframe\">\n",
              "  <thead>\n",
              "    <tr style=\"text-align: right;\">\n",
              "      <th></th>\n",
              "      <th>平均気温</th>\n",
              "      <th>降水量の合計</th>\n",
              "      <th>日照時間</th>\n",
              "    </tr>\n",
              "  </thead>\n",
              "  <tbody>\n",
              "    <tr>\n",
              "      <th>平均気温</th>\n",
              "      <td>1.000000</td>\n",
              "      <td>0.027858</td>\n",
              "      <td>0.071758</td>\n",
              "    </tr>\n",
              "    <tr>\n",
              "      <th>降水量の合計</th>\n",
              "      <td>0.027858</td>\n",
              "      <td>1.000000</td>\n",
              "      <td>-0.367911</td>\n",
              "    </tr>\n",
              "    <tr>\n",
              "      <th>日照時間</th>\n",
              "      <td>0.071758</td>\n",
              "      <td>-0.367911</td>\n",
              "      <td>1.000000</td>\n",
              "    </tr>\n",
              "  </tbody>\n",
              "</table>\n",
              "</div>\n",
              "      <button class=\"colab-df-convert\" onclick=\"convertToInteractive('df-6968cf97-14b2-4db8-8610-409a0c17a0de')\"\n",
              "              title=\"Convert this dataframe to an interactive table.\"\n",
              "              style=\"display:none;\">\n",
              "        \n",
              "  <svg xmlns=\"http://www.w3.org/2000/svg\" height=\"24px\"viewBox=\"0 0 24 24\"\n",
              "       width=\"24px\">\n",
              "    <path d=\"M0 0h24v24H0V0z\" fill=\"none\"/>\n",
              "    <path d=\"M18.56 5.44l.94 2.06.94-2.06 2.06-.94-2.06-.94-.94-2.06-.94 2.06-2.06.94zm-11 1L8.5 8.5l.94-2.06 2.06-.94-2.06-.94L8.5 2.5l-.94 2.06-2.06.94zm10 10l.94 2.06.94-2.06 2.06-.94-2.06-.94-.94-2.06-.94 2.06-2.06.94z\"/><path d=\"M17.41 7.96l-1.37-1.37c-.4-.4-.92-.59-1.43-.59-.52 0-1.04.2-1.43.59L10.3 9.45l-7.72 7.72c-.78.78-.78 2.05 0 2.83L4 21.41c.39.39.9.59 1.41.59.51 0 1.02-.2 1.41-.59l7.78-7.78 2.81-2.81c.8-.78.8-2.07 0-2.86zM5.41 20L4 18.59l7.72-7.72 1.47 1.35L5.41 20z\"/>\n",
              "  </svg>\n",
              "      </button>\n",
              "      \n",
              "  <style>\n",
              "    .colab-df-container {\n",
              "      display:flex;\n",
              "      flex-wrap:wrap;\n",
              "      gap: 12px;\n",
              "    }\n",
              "\n",
              "    .colab-df-convert {\n",
              "      background-color: #E8F0FE;\n",
              "      border: none;\n",
              "      border-radius: 50%;\n",
              "      cursor: pointer;\n",
              "      display: none;\n",
              "      fill: #1967D2;\n",
              "      height: 32px;\n",
              "      padding: 0 0 0 0;\n",
              "      width: 32px;\n",
              "    }\n",
              "\n",
              "    .colab-df-convert:hover {\n",
              "      background-color: #E2EBFA;\n",
              "      box-shadow: 0px 1px 2px rgba(60, 64, 67, 0.3), 0px 1px 3px 1px rgba(60, 64, 67, 0.15);\n",
              "      fill: #174EA6;\n",
              "    }\n",
              "\n",
              "    [theme=dark] .colab-df-convert {\n",
              "      background-color: #3B4455;\n",
              "      fill: #D2E3FC;\n",
              "    }\n",
              "\n",
              "    [theme=dark] .colab-df-convert:hover {\n",
              "      background-color: #434B5C;\n",
              "      box-shadow: 0px 1px 3px 1px rgba(0, 0, 0, 0.15);\n",
              "      filter: drop-shadow(0px 1px 2px rgba(0, 0, 0, 0.3));\n",
              "      fill: #FFFFFF;\n",
              "    }\n",
              "  </style>\n",
              "\n",
              "      <script>\n",
              "        const buttonEl =\n",
              "          document.querySelector('#df-6968cf97-14b2-4db8-8610-409a0c17a0de button.colab-df-convert');\n",
              "        buttonEl.style.display =\n",
              "          google.colab.kernel.accessAllowed ? 'block' : 'none';\n",
              "\n",
              "        async function convertToInteractive(key) {\n",
              "          const element = document.querySelector('#df-6968cf97-14b2-4db8-8610-409a0c17a0de');\n",
              "          const dataTable =\n",
              "            await google.colab.kernel.invokeFunction('convertToInteractive',\n",
              "                                                     [key], {});\n",
              "          if (!dataTable) return;\n",
              "\n",
              "          const docLinkHtml = 'Like what you see? Visit the ' +\n",
              "            '<a target=\"_blank\" href=https://colab.research.google.com/notebooks/data_table.ipynb>data table notebook</a>'\n",
              "            + ' to learn more about interactive tables.';\n",
              "          element.innerHTML = '';\n",
              "          dataTable['output_type'] = 'display_data';\n",
              "          await google.colab.output.renderOutput(dataTable, element);\n",
              "          const docLink = document.createElement('div');\n",
              "          docLink.innerHTML = docLinkHtml;\n",
              "          element.appendChild(docLink);\n",
              "        }\n",
              "      </script>\n",
              "    </div>\n",
              "  </div>\n",
              "  "
            ],
            "text/plain": [
              "            平均気温    降水量の合計      日照時間\n",
              "平均気温    1.000000  0.027858  0.071758\n",
              "降水量の合計  0.027858  1.000000 -0.367911\n",
              "日照時間    0.071758 -0.367911  1.000000"
            ]
          },
          "metadata": {},
          "execution_count": 19
        }
      ]
    },
    {
      "cell_type": "code",
      "source": [
        "# 20. データの出力\n",
        "# 欠損値を0で補完したdfをexport.csvというファイル名でcsvとして出力してください。インデックスの出力は不要です。\n",
        "\n",
        "# index - 123456,,,\n",
        "df.fillna(0).to_csv(\"export.csv\",index=False)"
      ],
      "metadata": {
        "id": "LFyohq95eHTP"
      },
      "execution_count": 20,
      "outputs": []
    }
  ]
}