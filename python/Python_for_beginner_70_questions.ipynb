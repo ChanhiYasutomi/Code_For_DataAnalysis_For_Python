{
  "nbformat": 4,
  "nbformat_minor": 0,
  "metadata": {
    "colab": {
      "name": "Python_for_beginner-70-questions.ipynb",
      "provenance": [],
      "collapsed_sections": []
    },
    "kernelspec": {
      "name": "python3",
      "display_name": "Python 3"
    },
    "language_info": {
      "name": "python"
    }
  },
  "cells": [
    {
      "cell_type": "markdown",
      "source": [
        "#文字列の操作"
      ],
      "metadata": {
        "id": "dfNp3Faz_gxa"
      }
    },
    {
      "cell_type": "code",
      "source": [
        "# 問題3 文字列の代入(format/f-strings)\n",
        "# 以下の文章の「〇〇」に対して.format()とf-stringsを使って代入しましょう。\n",
        "# 「私は〇〇です。〇〇出身です。」\n",
        "\n",
        "name=\"chani\"\n",
        "birth_place=\"Tokyo\"\n",
        "\n",
        "# format method ver - format(引数),{}内に引数が入る\n",
        "print(\"私は{}です。{}出身です。\".format(name,birth_place))\n",
        "\n",
        "# f-strings method ver\n",
        "print(f\"私は{name}です。{birth_place}出身です。\")"
      ],
      "metadata": {
        "id": "fBik9XEO1-pH",
        "colab": {
          "base_uri": "https://localhost:8080/"
        },
        "outputId": "a18b2781-52b0-49c6-90f7-17c24e9ad66f"
      },
      "execution_count": 34,
      "outputs": [
        {
          "output_type": "stream",
          "name": "stdout",
          "text": [
            "私はchaniです。Tokyo出身です。\n",
            "私はchaniです。Tokyo出身です。\n"
          ]
        }
      ]
    },
    {
      "cell_type": "code",
      "source": [
        "# 問題4 エスケープ文字\n",
        "# 次の文字列を句読点で改行しましょう。\n",
        "\n",
        "# 「いつもの帰り道とは違うルートで帰ってみようかな。迷子にならないか心配だけど。」\n",
        "# ↓\n",
        "# 「いつもの帰り道とは違うルートで帰ってみようかな。\n",
        "# 迷子にならないか心配だけど。」\n",
        "\n",
        "print(\"いつもの帰り道とは違うルートで帰ってみようかな \\n迷子にならないか心配だけど。\")\n",
        "# \\nは改行を意味する"
      ],
      "metadata": {
        "colab": {
          "base_uri": "https://localhost:8080/"
        },
        "id": "Mb9VDuly8bYA",
        "outputId": "57e12aa8-cb99-48e2-def6-45db2475a6b7"
      },
      "execution_count": 35,
      "outputs": [
        {
          "output_type": "stream",
          "name": "stdout",
          "text": [
            "いつもの帰り道とは違うルートで帰ってみようかな \n",
            "迷子にならないか心配だけど。\n"
          ]
        }
      ]
    },
    {
      "cell_type": "code",
      "source": [
        "# 問題5 書式化\n",
        "# 16.0という値を次の書式で表示しましょう。\n",
        "\n",
        "# 符号付き10進数\n",
        "print(\"10進数=%d\" % (16))\n",
        "\n",
        "# 符号付き16進数\n",
        "print(\"16進数=%x\" % (16))\n",
        "\n",
        "# 10進浮動小数点\n",
        "print(\"10進浮動小数点 = %f\" % (16))\n",
        "\n",
        "\n",
        "print(\"10進数=%d,16進数=%x,10進浮動小数点 = %f\" % (16,16,16))"
      ],
      "metadata": {
        "colab": {
          "base_uri": "https://localhost:8080/"
        },
        "id": "dU5I_NUl9QsX",
        "outputId": "2901b656-459a-4320-e488-7908961b6926"
      },
      "execution_count": 36,
      "outputs": [
        {
          "output_type": "stream",
          "name": "stdout",
          "text": [
            "10進数=16\n",
            "16進数=10\n",
            "10進浮動小数点 = 16.000000\n",
            "10進数=16,16進数=10,10進浮動小数点 = 16.000000\n"
          ]
        }
      ]
    },
    {
      "cell_type": "code",
      "source": [
        "# 問題6 大文字・小文字への変換\n",
        "# 以下の文字列を小文字→大文字、大文字→小文字への変換を行いましょう\n",
        "\n",
        "# 'hello'\n",
        "# 'WORLD'\n",
        "\n",
        "print(\"hello\".upper())\n",
        "print(\"WORLD\".lower())"
      ],
      "metadata": {
        "colab": {
          "base_uri": "https://localhost:8080/"
        },
        "id": "sav5XbTo9Qt4",
        "outputId": "71c65951-fffa-458f-d5f2-eccaaadd9d6c"
      },
      "execution_count": 37,
      "outputs": [
        {
          "output_type": "stream",
          "name": "stdout",
          "text": [
            "HELLO\n",
            "world\n"
          ]
        }
      ]
    },
    {
      "cell_type": "code",
      "source": [
        "# 問題7 分割\n",
        "# こちらの文章を改行部分で分割しましょう。\n",
        "\n",
        "# 「こんにちは。\\n私はAIのロボットです。」\n",
        "message=\"こんにちは。\\n私はAIのロボットです。\"\n",
        "\n",
        "# split method - 分割\n",
        "message.split(\"\\n\")"
      ],
      "metadata": {
        "colab": {
          "base_uri": "https://localhost:8080/"
        },
        "id": "uR6GYW7R9Qvs",
        "outputId": "eca46dd7-28ae-497f-fa24-86bce205175e"
      },
      "execution_count": 38,
      "outputs": [
        {
          "output_type": "execute_result",
          "data": {
            "text/plain": [
              "['こんにちは。', '私はAIのロボットです。']"
            ]
          },
          "metadata": {},
          "execution_count": 38
        }
      ]
    },
    {
      "cell_type": "code",
      "source": [
        "# 問題8 結合\n",
        "# 以下のリスト内に入っている文字列を結合して一つの文にしましょう。\n",
        "\n",
        "# messages = ['こんにちは。', '私はAIのロボットです。']\n",
        "\n",
        "messages = ['こんにちは。', '私はAIのロボットです。']\n",
        "\n",
        "# join method - 結合\n",
        "print(\"\".join(messages))\n",
        "print(\"00\".join(messages))"
      ],
      "metadata": {
        "colab": {
          "base_uri": "https://localhost:8080/"
        },
        "id": "qVtkitM_9Qxi",
        "outputId": "1d3dc693-367b-4ea2-b1ef-a8c594ceb7fb"
      },
      "execution_count": 39,
      "outputs": [
        {
          "output_type": "stream",
          "name": "stdout",
          "text": [
            "こんにちは。私はAIのロボットです。\n",
            "こんにちは。00私はAIのロボットです。\n"
          ]
        }
      ]
    },
    {
      "cell_type": "code",
      "source": [
        "# 問題9 空白除去\n",
        "# 文のはじめと最後にある空白を除去しましょう。\n",
        "\n",
        "# 「　いつも食べるここのケーキはとても美味しいね。　」\n",
        "message = '　いつも食べるここのケーキはとても美味しいね。　'\n",
        "# strip method - 全角消える\n",
        "print(message.strip())"
      ],
      "metadata": {
        "colab": {
          "base_uri": "https://localhost:8080/"
        },
        "id": "9FLegudX9QzW",
        "outputId": "a28f872d-6159-4adb-9997-0c4589c21f19"
      },
      "execution_count": 40,
      "outputs": [
        {
          "output_type": "stream",
          "name": "stdout",
          "text": [
            "いつも食べるここのケーキはとても美味しいね。\n"
          ]
        }
      ]
    },
    {
      "cell_type": "code",
      "source": [
        "# 問題10 置換\n",
        "# 以下の文の「晴れ」を「雨」に置換してください。\n",
        "\n",
        "# 「今日は晴れですね。」 \n",
        "message=\"今日は晴れですね。\"\n",
        "# replace(\"何を\",\"何へ\")\n",
        "print(message.replace(\"晴れ\",\"雨\"))"
      ],
      "metadata": {
        "colab": {
          "base_uri": "https://localhost:8080/"
        },
        "id": "hNuiX26o9Q1K",
        "outputId": "8ca54a32-0ec6-45a2-d135-b13c8a2755e4"
      },
      "execution_count": 41,
      "outputs": [
        {
          "output_type": "stream",
          "name": "stdout",
          "text": [
            "今日は雨ですね。\n"
          ]
        }
      ]
    },
    {
      "cell_type": "code",
      "source": [
        "# 問題11 文字列検索\n",
        "# 以下のフレーズの中から「夜空」を検索し、その位置を出力しましょう。\n",
        "\n",
        "# 「今日はとても夜空が綺麗だ。」\n",
        "\n",
        "message='今日はとても夜空が綺麗だ。'\n",
        "# find method - 特的の文字を出力してくれる　find(\"出力したい文字\")\n",
        "print(message.find('夜空'))"
      ],
      "metadata": {
        "colab": {
          "base_uri": "https://localhost:8080/"
        },
        "id": "KcgyUD4S9wbT",
        "outputId": "6a574a94-fef7-47bc-ff83-dc7c846f8354"
      },
      "execution_count": 42,
      "outputs": [
        {
          "output_type": "stream",
          "name": "stdout",
          "text": [
            "6\n"
          ]
        }
      ]
    },
    {
      "cell_type": "code",
      "source": [
        "# 問題12 型変換\n",
        "# 以下のデータ型を文字列型に変換しましょう。\n",
        "\n",
        "# int:x = 1\n",
        "# float: y = 1.52\n",
        "# list: z = [1, 2, 3]\n",
        "# dict: a = dict(name='john', birth='US')\n",
        "\n",
        "\n",
        "# str() - これで文字列になる\n",
        "x=1\n",
        "print(str(x))\n",
        "print(type(str(x)))\n",
        "\n",
        "y=1.52\n",
        "print(str(y))\n",
        "print(type(str(y)))\n",
        "\n",
        "z = [1, 2, 3]\n",
        "print(str(z))\n",
        "print(type(str(z)))\n",
        "\n",
        "a = dict(name='john', birth='US')\n",
        "print(str(a))\n",
        "print(type(str(a)))"
      ],
      "metadata": {
        "colab": {
          "base_uri": "https://localhost:8080/"
        },
        "id": "I2YFjjNI9wcn",
        "outputId": "41ae2930-2a2a-43d4-c681-525eef8c21ec"
      },
      "execution_count": 43,
      "outputs": [
        {
          "output_type": "stream",
          "name": "stdout",
          "text": [
            "1\n",
            "<class 'str'>\n",
            "1.52\n",
            "<class 'str'>\n",
            "[1, 2, 3]\n",
            "<class 'str'>\n",
            "{'name': 'john', 'birth': 'US'}\n",
            "<class 'str'>\n"
          ]
        }
      ]
    },
    {
      "cell_type": "code",
      "source": [
        "# 問題13 包含関係\n",
        "# 以下の文字列Aが文字列Bに含まれているか確認しましょう。\n",
        "\n",
        "# A: 'sba', B: 'gasba'\n",
        "# A: 'xdh', B: 'orweit'\n",
        "\n",
        "# 包含関係を知りたければ in を使う\n",
        "\n",
        "# あればTrue\n",
        "a1,b1=\"sba\",\"gasba\"\n",
        "print(a1 in b1)\n",
        "\n",
        "# なければFalse\n",
        "a2,b2=\"xdh\",\"orweit\"\n",
        "print(a2 in b2)"
      ],
      "metadata": {
        "colab": {
          "base_uri": "https://localhost:8080/"
        },
        "id": "Qkhalpvb9wef",
        "outputId": "4c4045ce-82de-46f9-dc67-3e9c160c2988"
      },
      "execution_count": 44,
      "outputs": [
        {
          "output_type": "stream",
          "name": "stdout",
          "text": [
            "True\n",
            "False\n"
          ]
        }
      ]
    },
    {
      "cell_type": "markdown",
      "source": [
        "#リスト"
      ],
      "metadata": {
        "id": "T8gr7TC7_nkD"
      }
    },
    {
      "cell_type": "code",
      "source": [
        "# 問題14 特定の値を抽出\n",
        "# 次の配列データの中から、先頭から2つ目の値と最後の値をそれぞれ出力しましょう。\n",
        "# また2を配列の一番最後に追加しましょう。\n",
        "\n",
        "# numbers = [0, 3, 8, -4, 9, 1]\n",
        "\n",
        "numbers = [0, 3, 8, -4, 9, 1]\n",
        "# 次の配列データの中から、先頭から2つ目の値と最後の値をそれぞれ出力しましょう。\n",
        "print(numbers[1])\n",
        "print(numbers[-1])\n",
        "\n",
        "# xxx.append(追加したい項目) - 追加 append　method\n",
        "# また2を配列の一番最後に追加しましょう。\n",
        "numbers.append(2)\n",
        "print(numbers)"
      ],
      "metadata": {
        "colab": {
          "base_uri": "https://localhost:8080/"
        },
        "id": "XH9iXrvU_mNC",
        "outputId": "460966ea-02a4-47ae-ea7f-bdc7830cdf5e"
      },
      "execution_count": 45,
      "outputs": [
        {
          "output_type": "stream",
          "name": "stdout",
          "text": [
            "3\n",
            "1\n",
            "[0, 3, 8, -4, 9, 1, 2]\n"
          ]
        }
      ]
    },
    {
      "cell_type": "code",
      "source": [
        "# 問題15 特定の値を挿入(insert)\n",
        "# 先ほどのnumbersリストの先頭に5を挿入しましょう。\n",
        "# また最後から一つ手前に-3を挿入しましょう\n",
        "\n",
        "\n",
        "# insert method - 特定の値を挿入する方法, insert(要素の番号,追加したい値)\n",
        "# 先ほどのnumbersリストの先頭に5を挿入しましょう。\n",
        "numbers = [0, 3, 8, -4, 9, 1]\n",
        "numbers.insert(0,5)\n",
        "print(numbers)\n",
        "\n",
        "# また最後から一つ手前に-3を挿入しましょう\n",
        "numbers.insert(-1,-3)\n",
        "print(numbers)"
      ],
      "metadata": {
        "colab": {
          "base_uri": "https://localhost:8080/"
        },
        "id": "ne-KNftz9wgQ",
        "outputId": "4687a653-f338-4a06-8fa0-b0cb1fe2e3fe"
      },
      "execution_count": 46,
      "outputs": [
        {
          "output_type": "stream",
          "name": "stdout",
          "text": [
            "[5, 0, 3, 8, -4, 9, 1]\n",
            "[5, 0, 3, 8, -4, 9, -3, 1]\n"
          ]
        }
      ]
    },
    {
      "cell_type": "code",
      "source": [
        "# 問題16 特定の値を削除(remove, pop)\n",
        "# 先ほどのリストから一つ目の5と最後から3番目の要素を削除しましょう。\n",
        "\n",
        "# numbers = [5, 0, 3, 8, -4, 9, 1, 5, 2]\n",
        "\n",
        "numbers = [5, 0, 3, 8, -4, 9, 1, 5, 2]\n",
        "\n",
        "# remove method ver  - remove(消したい要素 - 実際の値を削除)\n",
        "numbers.remove(5)\n",
        "print(numbers)\n",
        "\n",
        "# pop method - 場所を指定して削除したい場合, pop(消したい要素  - どの場所の値を削除したいかインデックスを指定)\n",
        "numbers.pop(-3)\n",
        "print(numbers)"
      ],
      "metadata": {
        "colab": {
          "base_uri": "https://localhost:8080/"
        },
        "id": "bXDFhnKY9wiD",
        "outputId": "0ce96eeb-0f5d-452b-e6a7-14c7aedf6bbc"
      },
      "execution_count": 47,
      "outputs": [
        {
          "output_type": "stream",
          "name": "stdout",
          "text": [
            "[0, 3, 8, -4, 9, 1, 5, 2]\n",
            "[0, 3, 8, -4, 9, 5, 2]\n"
          ]
        }
      ]
    },
    {
      "cell_type": "code",
      "source": [
        "# 問題17 フィルター\n",
        "# 次の、偶数のみを返す関数とfilter()を用いて先ほどのnumbersリストから偶数のみを取り出したリストを作成しましょう。\n",
        "\n",
        "# def isEven(number):\n",
        "#     if number % 2 == 0:\n",
        "#         print(f'This number, {number} is even!')\n",
        "#         return True\n",
        "#     else:\n",
        "#         print(f'This number, {number} is odd!')\n",
        "#         return False\n",
        "\n",
        "# numbers = [5, 0, 3, 8, -4, 9, 1, 5, 2]\n",
        "\n",
        "numbers = [5, 0, 3, 8, -4, 9, 1, 5, 2]\n",
        "def isEven(number):\n",
        "    if number % 2 == 0:\n",
        "        print(f'This number, {number} is even!')\n",
        "        return True\n",
        "    else:\n",
        "        print(f'This number, {number} is odd!')\n",
        "        return False\n",
        "\n",
        "# filter 関数 - filter(フィルターの役割を行う関数,何に対してフィルターをかけるのか)\n",
        "list(filter(isEven,numbers))"
      ],
      "metadata": {
        "colab": {
          "base_uri": "https://localhost:8080/"
        },
        "id": "hD6tibr39wj5",
        "outputId": "1995eaa2-9ea1-44d9-fc95-4e707b2100ba"
      },
      "execution_count": 48,
      "outputs": [
        {
          "output_type": "stream",
          "name": "stdout",
          "text": [
            "This number, 5 is odd!\n",
            "This number, 0 is even!\n",
            "This number, 3 is odd!\n",
            "This number, 8 is even!\n",
            "This number, -4 is even!\n",
            "This number, 9 is odd!\n",
            "This number, 1 is odd!\n",
            "This number, 5 is odd!\n",
            "This number, 2 is even!\n"
          ]
        },
        {
          "output_type": "execute_result",
          "data": {
            "text/plain": [
              "[0, 8, -4, 2]"
            ]
          },
          "metadata": {},
          "execution_count": 48
        }
      ]
    },
    {
      "cell_type": "code",
      "source": [
        "# 問題18 引数と一致する要素のインデックス\n",
        "# 先ほどのnumbersリストの中から要素が-4のインデックスを取得しましょう。\n",
        "# numbers = [5, 0, 3, 8, -4, 9, 1, 5, 2]\n",
        "\n",
        "numbers = [5, 0, 3, 8, -4, 9, 1, 5, 2]\n",
        "# xxx.index(取得したいインデックス) - 要素番号を取得したい場合\n",
        "print(numbers.index(-4))"
      ],
      "metadata": {
        "colab": {
          "base_uri": "https://localhost:8080/"
        },
        "id": "rcGE730-9wlt",
        "outputId": "216871cc-d29f-45c7-a2c2-8e49c455353c"
      },
      "execution_count": 49,
      "outputs": [
        {
          "output_type": "stream",
          "name": "stdout",
          "text": [
            "4\n"
          ]
        }
      ]
    },
    {
      "cell_type": "code",
      "source": [
        "# 問題19 ソート(昇順/降順)\n",
        "# 先ほどのnumbersリストの順序を昇順/降順にそれぞれ並び替えましょう。\n",
        "# numbers = [5, 0, 3, 8, -4, 9, 1, 5, 2]\n",
        "\n",
        "numbers = [5, 0, 3, 8, -4, 9, 1, 5, 2]\n",
        "\n",
        "# xxx.sort(デフォルトだと昇順)\n",
        "# 昇順 - 数の小さいものから大きいものへ進む順序\n",
        "numbers.sort()\n",
        "print(numbers)\n",
        "\n",
        "# 降順 - 数の大きいものから小さいものへ進む順序\n",
        "numbers.sort(reverse=True)\n",
        "print(numbers)"
      ],
      "metadata": {
        "colab": {
          "base_uri": "https://localhost:8080/"
        },
        "id": "KjE-CiHwA4Lt",
        "outputId": "31bff335-4c80-490b-cb0e-2ab39282961f"
      },
      "execution_count": 50,
      "outputs": [
        {
          "output_type": "stream",
          "name": "stdout",
          "text": [
            "[-4, 0, 1, 2, 3, 5, 5, 8, 9]\n",
            "[9, 8, 5, 5, 3, 2, 1, 0, -4]\n"
          ]
        }
      ]
    },
    {
      "cell_type": "markdown",
      "source": [
        "#辞書"
      ],
      "metadata": {
        "id": "esxn5TcCEWTA"
      }
    },
    {
      "cell_type": "code",
      "source": [
        "# 問題20 要素の削除(pop/clear)\n",
        "# 以下の辞書データからpopメソッドを使って,\n",
        "# 要素Aと要素Bを削除しましょう．\n",
        "# またclearメソッドを使って,全ての要素を削除しましょう．\n",
        "\n",
        "# dictionary = {\n",
        "#     'A': '今西',\n",
        "#     'B': '航平',\n",
        "#     'C': '男性',\n",
        "#     'D': '東京都',\n",
        "#     'E': '海外旅行',\n",
        "# }\n",
        "\n",
        "dictionary = {\n",
        "    'A': '今西',\n",
        "    'B': '航平',\n",
        "    'C': '男性',\n",
        "    'D': '東京都',\n",
        "    'E': '海外旅行',\n",
        "}\n",
        "\n",
        "# 要素Aと要素Bを削除しましょう．\n",
        "dictionary.pop(\"A\")\n",
        "dictionary.pop(\"B\")\n",
        "print(dictionary)\n",
        "\n",
        "# またclearメソッドを使って,全ての要素を削除しましょう．\n",
        "# clear method - 要素全削除\n",
        "dictionary.clear()\n",
        "dictionary"
      ],
      "metadata": {
        "colab": {
          "base_uri": "https://localhost:8080/"
        },
        "id": "hPgRvzAlA4ND",
        "outputId": "46a4a1d1-be8e-4f48-8a4f-5149a6fc9335"
      },
      "execution_count": 51,
      "outputs": [
        {
          "output_type": "stream",
          "name": "stdout",
          "text": [
            "{'C': '男性', 'D': '東京都', 'E': '海外旅行'}\n"
          ]
        },
        {
          "output_type": "execute_result",
          "data": {
            "text/plain": [
              "{}"
            ]
          },
          "metadata": {},
          "execution_count": 51
        }
      ]
    },
    {
      "cell_type": "code",
      "source": [
        "# 問題21 情報の取得(keys(), values(), items())\n",
        "# 以下の辞書データから次の処理を行いましょう。\n",
        "\n",
        "# キーのみの表示\n",
        "# 値の中に男性という文字列が存在するか\n",
        "# 全てのキーと値の表示\n",
        "\n",
        "# dictionary = {\n",
        "#     'A': '今西',\n",
        "#     'B': '航平',\n",
        "#     'C': '男性',\n",
        "#     'D': '東京都',\n",
        "#     'E': '海外旅行',\n",
        "# }\n",
        "\n",
        "dictionary = {\n",
        "    'A': '今西',\n",
        "    'B': '航平',\n",
        "    'C': '男性',\n",
        "    'D': '東京都',\n",
        "    'E': '海外旅行',\n",
        "}\n",
        "\n",
        "# キーのみの表示\n",
        "print(dictionary.keys())\n",
        "\n",
        "# valueのみの表示　\n",
        "print(dictionary.values())\n",
        "\n",
        "# 値の中に男性という文字列が存在するか - 判定 True or False\n",
        "\"男性\" in dictionary.values()\n",
        "\n",
        "# 全てのキーと値の表示\n",
        "# for key, value in dictionary.items():  - xxx.item()を使うと、keyにはdictioanryのkeyが入り、valueにはdictioanryのvalueが入る\n",
        "for key, value in dictionary.items():\n",
        "    print(f\"キーは{key}, バリューは{value}\")"
      ],
      "metadata": {
        "colab": {
          "base_uri": "https://localhost:8080/"
        },
        "id": "UK6gIB66A4PB",
        "outputId": "41c13ac5-f313-4fba-a359-4e910d3e0f15"
      },
      "execution_count": 52,
      "outputs": [
        {
          "output_type": "stream",
          "name": "stdout",
          "text": [
            "dict_keys(['A', 'B', 'C', 'D', 'E'])\n",
            "dict_values(['今西', '航平', '男性', '東京都', '海外旅行'])\n",
            "キーはA, バリューは今西\n",
            "キーはB, バリューは航平\n",
            "キーはC, バリューは男性\n",
            "キーはD, バリューは東京都\n",
            "キーはE, バリューは海外旅行\n"
          ]
        }
      ]
    },
    {
      "cell_type": "code",
      "source": [
        "# 問題22 辞書内の要素検索\n",
        "# 以下の辞書データからキーCとEに対応する値を表示しましょう。\n",
        "\n",
        "# dictionary = {\n",
        "#     'A': '今西',\n",
        "#     'B': '航平',\n",
        "#     'C': '男性',\n",
        "#     'D': '東京都',\n",
        "#     'E': '海外旅行',\n",
        "# }\n",
        "\n",
        "dictionary = {\n",
        "    'A': '今西',\n",
        "    'B': '航平',\n",
        "    'C': '男性',\n",
        "    'D': '東京都',\n",
        "    'E': '海外旅行',\n",
        "}\n",
        "\n",
        "# 通常ver - なければいエラーが起きる\n",
        "print(dictionary[\"C\"])\n",
        "\n",
        "# get method ver - xxx.get(取りたい値)、なくてもエラーが起きない\n",
        "print(dictionary.get(\"C\"))"
      ],
      "metadata": {
        "colab": {
          "base_uri": "https://localhost:8080/"
        },
        "id": "7QxoMbUwA4Qn",
        "outputId": "6dce79c0-b592-4274-a757-20e103172bfc"
      },
      "execution_count": 53,
      "outputs": [
        {
          "output_type": "stream",
          "name": "stdout",
          "text": [
            "男性\n",
            "男性\n"
          ]
        }
      ]
    },
    {
      "cell_type": "markdown",
      "source": [
        "#制御構文(if文)"
      ],
      "metadata": {
        "id": "C7VzoSr5NFeT"
      }
    },
    {
      "cell_type": "code",
      "source": [
        "# 問題23 if文を使って条件分岐\n",
        "# if文を使って以下の処理を実装してください。\n",
        "\n",
        "# int型の変数: num\n",
        "# numが以下の条件の時、コロン右側の文字列を出力する\n",
        "\n",
        "# numが正の値の場合：　正の値です\n",
        "# numが0の場合：0です\n",
        "# numが負の値の場合: 負の値です\n",
        "\n",
        "num=-1\n",
        "if num > 0:\n",
        "    print(\"正の値です\") \n",
        "elif num == 0:\n",
        "    print(\"0です\")\n",
        "else:\n",
        "    print(\"負の値です\")"
      ],
      "metadata": {
        "colab": {
          "base_uri": "https://localhost:8080/"
        },
        "id": "0AQLxVZkA4Sb",
        "outputId": "3b3c646e-4e03-4eb9-b2fc-ba73c3831018"
      },
      "execution_count": 54,
      "outputs": [
        {
          "output_type": "stream",
          "name": "stdout",
          "text": [
            "負の値です\n"
          ]
        }
      ]
    },
    {
      "cell_type": "code",
      "source": [
        "# 問題24 論理演算子を使って複数条件の指定\n",
        "# 以下の条件分岐に対応する実装を行ってください。\n",
        "\n",
        "# aは整数\n",
        "# aが0以上10未満かつ偶数: 一桁の偶数です\n",
        "# aが0未満かつ奇数：負の奇数です\n",
        "# それ以外: 整数です\n",
        "\n",
        "# かつ - and\n",
        "# または - or\n",
        "\n",
        "a=3\n",
        "\n",
        "if 0 <= a < 10 and a%2 == 0:\n",
        "    print(\"一桁の偶数です\")\n",
        "elif 0 > a and a%2 != 0:\n",
        "    print(\"負の奇数です\")\n",
        "else:\n",
        "    print(\"整数です\")"
      ],
      "metadata": {
        "colab": {
          "base_uri": "https://localhost:8080/"
        },
        "id": "3vy4NPf_NI9u",
        "outputId": "1b7f9aff-6d74-4227-a489-3e3ee9b2356b"
      },
      "execution_count": 55,
      "outputs": [
        {
          "output_type": "stream",
          "name": "stdout",
          "text": [
            "整数です\n"
          ]
        }
      ]
    },
    {
      "cell_type": "markdown",
      "source": [
        "#制御構文(for文)"
      ],
      "metadata": {
        "id": "45_4dJSgNQ5R"
      }
    },
    {
      "cell_type": "code",
      "source": [
        "# 問題25 リストから順に表示\n",
        "# リスト型の変数から順に名前を出力しましょう。\n",
        "\n",
        "# names = (['John', 'Kevin', 'Louis'])\n",
        "\n",
        "names = ['John', 'Kevin', 'Louis']\n",
        "for name in names:\n",
        "    print(name)"
      ],
      "metadata": {
        "colab": {
          "base_uri": "https://localhost:8080/"
        },
        "id": "PBaDVI4gNI_T",
        "outputId": "9535a5c8-870e-4507-d6f7-dd9996344fe6"
      },
      "execution_count": 56,
      "outputs": [
        {
          "output_type": "stream",
          "name": "stdout",
          "text": [
            "John\n",
            "Kevin\n",
            "Louis\n"
          ]
        }
      ]
    },
    {
      "cell_type": "code",
      "source": [
        "# 問題26 range関数を使う\n",
        "# range関数を用いて0~9を出力しましょう。\n",
        "# range関数 - 一定の回数使いたい場合に用いる\n",
        "\n",
        "for i in range(10):\n",
        "    print(i)\n",
        "\n",
        "# 10からスタートする\n",
        "# for i in range(10,20): \n",
        "#     print(i)"
      ],
      "metadata": {
        "colab": {
          "base_uri": "https://localhost:8080/"
        },
        "id": "9LU3rgdKNJA2",
        "outputId": "fa7dd1d7-ca5a-45d7-9e37-9e88fd43dff6"
      },
      "execution_count": 57,
      "outputs": [
        {
          "output_type": "stream",
          "name": "stdout",
          "text": [
            "0\n",
            "1\n",
            "2\n",
            "3\n",
            "4\n",
            "5\n",
            "6\n",
            "7\n",
            "8\n",
            "9\n"
          ]
        }
      ]
    },
    {
      "cell_type": "code",
      "source": [
        "# 問題27 ループの途中で強制終了 -  break文\n",
        "# 問題26の処理に追加でi=6の時「BREAK!」と出力してループを抜け出すよう実装しましょう。\n",
        "\n",
        "for i in range(10):\n",
        "    if i == 6:\n",
        "        print(\"終了\")\n",
        "        break\n",
        "    print(i)"
      ],
      "metadata": {
        "colab": {
          "base_uri": "https://localhost:8080/"
        },
        "id": "Hvvh8cZXNJDC",
        "outputId": "bd2f1dcb-defc-4a54-bab8-8e478ceeead1"
      },
      "execution_count": 58,
      "outputs": [
        {
          "output_type": "stream",
          "name": "stdout",
          "text": [
            "0\n",
            "1\n",
            "2\n",
            "3\n",
            "4\n",
            "5\n",
            "終了\n"
          ]
        }
      ]
    },
    {
      "cell_type": "code",
      "source": [
        "# 問題28 ループの途中で特別な処理\n",
        "# 問題26の処理に追加でi=3の時のみ出力結果が出ないように実装しましょう。 - continue文\n",
        "\n",
        "for i in range(10):\n",
        "    if i == 3:\n",
        "        continue\n",
        "    print(i)"
      ],
      "metadata": {
        "colab": {
          "base_uri": "https://localhost:8080/"
        },
        "id": "5ztZUPUWNJEu",
        "outputId": "9f779a5c-f1a0-4863-a939-94a8100c8b72"
      },
      "execution_count": 59,
      "outputs": [
        {
          "output_type": "stream",
          "name": "stdout",
          "text": [
            "0\n",
            "1\n",
            "2\n",
            "4\n",
            "5\n",
            "6\n",
            "7\n",
            "8\n",
            "9\n"
          ]
        }
      ]
    },
    {
      "cell_type": "code",
      "source": [
        "# 問題29 複数のリストを同時に処理\n",
        "# 2つの変数(lasts=['加藤', '佐藤', '田中'], firsts=['雄一', '拓也', '太郎'])を用意してリストから姓名を同時に出力しましょう。\n",
        "\n",
        "# lasts=['加藤', '佐藤', '田中']\n",
        "# firsts=['雄一', '拓也', '太郎']\n",
        "\n",
        "lasts=['加藤', '佐藤', '田中']\n",
        "firsts=['雄一', '拓也', '太郎']\n",
        "\n",
        "# zip関数 - 複数のリストを同時に処理\n",
        "# for last,first in zip(取得したいリスト,取得したいリスト)\n",
        "\n",
        "for last,first in zip(lasts,firsts):\n",
        "    print(last+first)"
      ],
      "metadata": {
        "colab": {
          "base_uri": "https://localhost:8080/"
        },
        "id": "xcXf90FMNJGj",
        "outputId": "afd31e2d-6174-4fbf-e019-a8eb6aa33fe8"
      },
      "execution_count": 60,
      "outputs": [
        {
          "output_type": "stream",
          "name": "stdout",
          "text": [
            "加藤雄一\n",
            "佐藤拓也\n",
            "田中太郎\n"
          ]
        }
      ]
    },
    {
      "cell_type": "code",
      "source": [
        "# 問題30 リストと同時にインデックス情報の取得\n",
        "# 変数(lasts=['加藤', '佐藤', '田中'])を用意して「xx番のyyです。」と出力しましょう\n",
        "\n",
        "# enumerate関数 - リストと同時にインデックス情報の取得\n",
        "lasts=['加藤', '佐藤', '田中']\n",
        "for i,last in enumerate(lasts):\n",
        "    print(f\"{i}番目の,{last}です\")"
      ],
      "metadata": {
        "colab": {
          "base_uri": "https://localhost:8080/"
        },
        "id": "qWn6jisGNJIK",
        "outputId": "49b449d3-602d-4858-97ee-67047557cca9"
      },
      "execution_count": 61,
      "outputs": [
        {
          "output_type": "stream",
          "name": "stdout",
          "text": [
            "0番目の,加藤です\n",
            "1番目の,佐藤です\n",
            "2番目の,田中です\n"
          ]
        }
      ]
    },
    {
      "cell_type": "code",
      "source": [
        "# 問題31 内包表記\n",
        "# 以下の2つのパターンで0から9未満となる2の倍数が入ったリスト([0, 2, 4, 6, 8])を作成しましょう。\n",
        "# 空のリストnumsを予め用意しforループ内で.append()関数を用いて要素を追加する\n",
        "# 1行で同様のリストnumbersを作成する(内包表現)\n",
        "\n",
        "# 空のリストnumsを予め用意しforループ内で.append()関数を用いて要素を追加する\n",
        "# xxx.append(追加したい要素)\n",
        "\n",
        "nums=[]\n",
        "for i in range(5):\n",
        "    nums.append(2*i)\n",
        "print(nums)\n",
        "\n",
        "# 1行で同様のリストnumbersを作成する - 内包表記 - [引数,for文]\n",
        "# 1,リスト作成\n",
        "# 2,for文をそのリストの中に挿入[引数,for文]\n",
        "numbers = [2*i for i in range(5)] \n",
        "print(numbers)\n"
      ],
      "metadata": {
        "colab": {
          "base_uri": "https://localhost:8080/"
        },
        "id": "LRDJcbq6NJJ8",
        "outputId": "3c684ff8-3a81-4cfd-ad1a-c5a1f8b49d4d"
      },
      "execution_count": 62,
      "outputs": [
        {
          "output_type": "stream",
          "name": "stdout",
          "text": [
            "[0, 2, 4, 6, 8]\n",
            "[0, 2, 4, 6, 8]\n"
          ]
        }
      ]
    },
    {
      "cell_type": "markdown",
      "source": [
        "#例外処理"
      ],
      "metadata": {
        "id": "ubXav-T2NlMN"
      }
    },
    {
      "cell_type": "code",
      "source": [
        "# 問題32 \n",
        "# 0で割ったときにエラーと出力\n",
        "# 10をある数字numで割った時の結果を出力しましょう\n",
        "# 0で割った場合(割れない)にエラーと出力しましょう\n",
        "\n",
        "\n",
        "# num=0だとエラーが起きる\n",
        "num=4\n",
        "print(f\"計算結果:{10/num}\")\n",
        "\n",
        "# 上が起きないためにはtry文とexcept文を使う \n",
        "try:\n",
        "    num=0\n",
        "    print(f\"計算結果:{10/num}\")\n",
        "except:\n",
        "    print(\"エラー\")"
      ],
      "metadata": {
        "colab": {
          "base_uri": "https://localhost:8080/"
        },
        "id": "F5HD2a_SNJLy",
        "outputId": "ad1f67d4-5bd0-4be9-db23-2c1924126dce"
      },
      "execution_count": 63,
      "outputs": [
        {
          "output_type": "stream",
          "name": "stdout",
          "text": [
            "計算結果:2.5\n",
            "エラー\n"
          ]
        }
      ]
    },
    {
      "cell_type": "code",
      "source": [
        "# 問題33 ZeroDivisionErrorの呼び出し\n",
        "# 10をある数字numで割った時の結果を出力しましょう(try節)\n",
        "# 0で割った場合(割れない)にZeroDivisionErrorでエラーを出力しましょう(except節)\n",
        "\n",
        "try:\n",
        "    num=0\n",
        "    print(f\"計算結果:{10/num}\")\n",
        "except ZeroDivisionError as e:\n",
        "    print(e)\n",
        "\n",
        "# except ZeroDivisionError as e - ZeroDivisionErrorというエラーだった際にprint(e)に入る。違う場合がスルーされる"
      ],
      "metadata": {
        "colab": {
          "base_uri": "https://localhost:8080/"
        },
        "id": "7j7rtFutNJNl",
        "outputId": "c1d85ecc-e047-4a69-ab7d-0b60800509ed"
      },
      "execution_count": 64,
      "outputs": [
        {
          "output_type": "stream",
          "name": "stdout",
          "text": [
            "division by zero\n"
          ]
        }
      ]
    },
    {
      "cell_type": "code",
      "source": [
        "# 問題34 そのほかのErrorの呼び出し(分けて記述)\n",
        "# 次のdivide()関数では変数a, bがそれぞれ数値の場合に正常に数値計算が行われます。\n",
        "\n",
        "# def divide(a, b):\n",
        "#     try:\n",
        "#         print(f'{a}を{b}で割ると{a / b}です。')\n",
        "#     except ZeroDivisionError as e:\n",
        "#         print(e)\n",
        "\n",
        "# aまたはbが文字列の場合(数値の型とは異なる場合)の例外処理(TypeError)をexcept節を追加して実装しましょう。\n",
        "\n",
        "def divide(a, b):\n",
        "    try:\n",
        "        print(f'{a}を{b}で割ると{a / b}です。')\n",
        "    except ZeroDivisionError as e:\n",
        "        print(e)\n",
        "    except TypeError as e:\n",
        "        print(e)\n",
        "        \n",
        "divide(10,\"zero\")"
      ],
      "metadata": {
        "colab": {
          "base_uri": "https://localhost:8080/"
        },
        "id": "ru9036qNNJPb",
        "outputId": "4a1c7f25-8049-4302-8113-b6ce83b62ff1"
      },
      "execution_count": 65,
      "outputs": [
        {
          "output_type": "stream",
          "name": "stdout",
          "text": [
            "unsupported operand type(s) for /: 'int' and 'str'\n"
          ]
        }
      ]
    },
    {
      "cell_type": "code",
      "source": [
        "# 問題35 通常終了時に行う処理\n",
        "# 先ほどのdivide()関数で例外処理が発生しなかった場合に「正常に終了しました。」と表示されるよう(else節)にしましょう。\n",
        "\n",
        "def divide(a, b):\n",
        "    try:\n",
        "        print(f'{a}を{b}で割ると{a / b}です。')\n",
        "    except ZeroDivisionError as e:\n",
        "        print(e)\n",
        "    except TypeError as e:\n",
        "        print(e)\n",
        "    else:\n",
        "        print(\"正常に終了しました\")\n",
        "divide(10,2)"
      ],
      "metadata": {
        "colab": {
          "base_uri": "https://localhost:8080/"
        },
        "id": "5yBvEMiANJRQ",
        "outputId": "fc953ed9-8480-427a-8e12-b538241db241"
      },
      "execution_count": 66,
      "outputs": [
        {
          "output_type": "stream",
          "name": "stdout",
          "text": [
            "10を2で割ると5.0です。\n",
            "正常に終了しました\n"
          ]
        }
      ]
    },
    {
      "cell_type": "code",
      "source": [
        "# 問題36 例外も含めた終了時に行う処理\n",
        "# 先ほどのdivide()関数で例外処理の発生した有無に限らず「全ての処理が終了しました。」と表示されるよう(finally節)にしましょう。\n",
        "\n",
        "def divide(a, b):\n",
        "    try:\n",
        "        print(f'{a}を{b}で割ると{a / b}です。')\n",
        "    except ZeroDivisionError as e:\n",
        "        print(e)\n",
        "    except TypeError as e:\n",
        "        print(e)\n",
        "    finally:\n",
        "        print(\"全ての処理が終了しました\")\n",
        "\n",
        "divide(10,2)"
      ],
      "metadata": {
        "colab": {
          "base_uri": "https://localhost:8080/"
        },
        "id": "jMGsj3KSNwmJ",
        "outputId": "8d24d647-b2b0-4e91-af93-dbda486b64ba"
      },
      "execution_count": 67,
      "outputs": [
        {
          "output_type": "stream",
          "name": "stdout",
          "text": [
            "10を2で割ると5.0です。\n",
            "全ての処理が終了しました\n"
          ]
        }
      ]
    },
    {
      "cell_type": "code",
      "source": [
        "# 問題37 例外をスルーする\n",
        "# こちらのdivide()関数でTypeErrorの例外処理の発生した場合スルーするようにしましょう。\n",
        "\n",
        "# def divide(a, b):\n",
        "#     try:\n",
        "#         print(f'{a}を{b}で割ると{a / b}です。')\n",
        "#     except ZeroDivisionError as e:\n",
        "#         print(e)\n",
        "#     except TypeError as e:\n",
        "#         print(e)\n",
        "#     finally:\n",
        "#         print('全ての処理が終了しました。')\n",
        "\n",
        "def divide(a, b):\n",
        "    try:\n",
        "        print(f'{a}を{b}で割ると{a / b}です。')\n",
        "    except ZeroDivisionError as e:\n",
        "        print(e)\n",
        "    except TypeError as e:\n",
        "        pass\n",
        "    finally:\n",
        "        print('全ての処理が終了しました。')\n",
        "\n",
        "divide(10,\"zero\")"
      ],
      "metadata": {
        "colab": {
          "base_uri": "https://localhost:8080/"
        },
        "id": "LkNUqoSTNwoM",
        "outputId": "fa95996f-c7ad-4936-943d-9767b8f67f44"
      },
      "execution_count": 68,
      "outputs": [
        {
          "output_type": "stream",
          "name": "stdout",
          "text": [
            "全ての処理が終了しました。\n"
          ]
        }
      ]
    },
    {
      "cell_type": "markdown",
      "source": [
        "#クラス"
      ],
      "metadata": {
        "id": "MTJbauyaN9uw"
      }
    },
    {
      "cell_type": "code",
      "source": [
        "# 問題37 classの基礎\n",
        "# Personクラスを用意し、クラス変数としてnationality='Japan'、クラスメソッドとして.say_hello()実装しましょう。\n",
        "# ただしこちらのメソッドでは「こんにちは、私の国籍は{self.nationality}です。」と出力するようにしましょう。\n",
        "\n",
        "# self.nationality - selfはClass Person,nationalityはClass Personの中のnationality\n",
        "\n",
        "class Person:\n",
        "    nationality = \"Japan\"\n",
        "    \n",
        "    def say_hello(self):\n",
        "        print(f\"こんにちは、私の国籍は{self.nationality}です。\")\n",
        "\n",
        "# インスタンス化, person = Person(), Person() = クラス \n",
        "person = Person() \n",
        "print(person.nationality)\n",
        "print(person.say_hello())"
      ],
      "metadata": {
        "id": "7cXjA20RNwp6",
        "colab": {
          "base_uri": "https://localhost:8080/"
        },
        "outputId": "c225cfa3-fdae-477d-b65a-e039c6f4712f"
      },
      "execution_count": 69,
      "outputs": [
        {
          "output_type": "stream",
          "name": "stdout",
          "text": [
            "Japan\n",
            "こんにちは、私の国籍はJapanです。\n",
            "None\n"
          ]
        }
      ]
    },
    {
      "cell_type": "code",
      "source": [
        "# 問題38 コンストラクタの設定\n",
        "# 続いて、先ほどのPersonクラスにコンストラクタ(インスタンス生成時に呼び出される関数)を使って、引数に名前を設定して.nameというインスタンス変数を持たせましょう。\n",
        "# またsay_my_name()という自分の名前を出力するクラスメソッドを実装しましょう。\n",
        "\n",
        "# class Person:\n",
        "#     nationality = '日本'\n",
        "        \n",
        "#     def say_hello(self):\n",
        "#         print(f'こんにちは、私の国籍は{self.nationality}です。')\n",
        "        \n",
        "#     def say_my_name():\n",
        "#         print(f'私の名前は{}です。')\n",
        "\n",
        "class Person:\n",
        "    nationality = '日本'\n",
        "        \n",
        "    # コンストラクタ作成\n",
        "    # def __init__(self,name): - このnameの引数を下の右側のnameに入れて、self.nameはインスタンスのnameという変数に引数でとってきたnameを入れてあげる\n",
        "    #     self.name = name\n",
        "\n",
        "    def __init__(self,name):\n",
        "        self.name = name\n",
        "\n",
        "    def say_hello(self):\n",
        "        print(f'こんにちは、私の国籍は{self.nationality}です。')\n",
        "\n",
        "    # これでself.nameインスタンスの名前をとってくることが可能\n",
        "    def say_my_name(self):\n",
        "        print(f\"私の名前は{self.name}です。\")\n",
        "\n",
        "# インスタンス生成\n",
        "# chani=Person(\"チャニ\") - def __init__(self,name):で引数にnameがあるから設定が必要\n",
        "chani=Person(\"チャニ\")\n",
        "\n",
        "print(chani.nationality)\n",
        "print(chani.name)\n",
        "print(chani.say_my_name())"
      ],
      "metadata": {
        "id": "gChUbEM3Nwrl",
        "colab": {
          "base_uri": "https://localhost:8080/"
        },
        "outputId": "14d09dc2-3aec-4651-aa3f-8f9346ff0c02"
      },
      "execution_count": 70,
      "outputs": [
        {
          "output_type": "stream",
          "name": "stdout",
          "text": [
            "日本\n",
            "チャニ\n",
            "私の名前はチャニです。\n",
            "None\n"
          ]
        }
      ]
    },
    {
      "cell_type": "code",
      "source": [
        "# 問題39 クラスの継承\n",
        "# 先ほどのPersonクラスを継承したKidクラスを作成しましょう。\n",
        "# その際に自分の年齢を出力するようにクラスメソッドsay_hello(age)(年齢を引数)を変更しましょう。\n",
        "# またそれらがきちんと動作しているか次のコードで確認しましょう。\n",
        "\n",
        "# class Kid(ここに継承元)\n",
        "\n",
        "class Kid(Person):\n",
        "    # 新たに上書きして作る\n",
        "    def say_hello(self,age):\n",
        "        print(f\"私の名前は{self.name}です。年齢は{age}歳です\")\n",
        "\n",
        "# インスタンス化\n",
        "kid=Kid(\"なお\")\n",
        "print(kid.name)\n",
        "print(kid.nationality)\n",
        "print(kid.say_hello(12))"
      ],
      "metadata": {
        "id": "H2gt_YnUNwu-",
        "colab": {
          "base_uri": "https://localhost:8080/"
        },
        "outputId": "1ad55d1f-0055-4de1-d01e-4b63ee71dbce"
      },
      "execution_count": 71,
      "outputs": [
        {
          "output_type": "stream",
          "name": "stdout",
          "text": [
            "なお\n",
            "日本\n",
            "私の名前はなおです。年齢は12歳です\n",
            "None\n"
          ]
        }
      ]
    },
    {
      "cell_type": "code",
      "source": [
        "# 問題40 privateとpublic\n",
        "# 先ほどのPersonクラス内のクラス変数のnationalityを__nationalityへ変更し外部から呼び出せないprivateな変数になっていることを確認しましょう。\n",
        "# また同様に say_my_name()関数も__ say_my_name()と修正し、外部から呼び出せないことを確認しましょう。\n",
        "\n",
        "# __nationality = '日本' - __するだけでプライベートにできる\n",
        "\n",
        "class Person:\n",
        "    __nationality = 'Japan'\n",
        "\n",
        "    def __init__(self,name):\n",
        "        self.name = name\n",
        "\n",
        "    def say_hello(self):\n",
        "        print(f\"こんにちは、私の国籍は{self.__nationality}です。\")\n",
        "\n",
        "    # これでself.nameインスタンスの名前をとってくることが可能\n",
        "    def __say_my_name(self):\n",
        "        print(f\"私の名前は{self.name}です。\")\n",
        "\n",
        "chani=Person(\"チャニ\")\n",
        "print(chani.name)\n",
        "# chani.__nationality - attributeエラーが起きる\n",
        "print(chani.say_hello())\n",
        "\n",
        "# # 修正後\n",
        "# person = Person('今西')\n",
        "# person.say_hello()\n",
        "# >>> 'こんにちは、私の国籍は日本です。'\n",
        "#     '私の名前は今西です。'\n",
        "    \n",
        "# person.__say_my_name()\n",
        "# >>> AttributeError: 'Person' object has no attribute '__say_my_name'\n",
        "# person.__nationality\n",
        "# >>> AttributeError: 'Person' object has no attribute '__nationality'"
      ],
      "metadata": {
        "id": "eEJ9xor-Nwwu",
        "colab": {
          "base_uri": "https://localhost:8080/"
        },
        "outputId": "0b658020-f095-4796-dfa0-fc9be3295e41"
      },
      "execution_count": 72,
      "outputs": [
        {
          "output_type": "stream",
          "name": "stdout",
          "text": [
            "チャニ\n",
            "こんにちは、私の国籍はJapanです。\n",
            "None\n"
          ]
        }
      ]
    },
    {
      "cell_type": "markdown",
      "source": [
        "#ファイル操作"
      ],
      "metadata": {
        "id": "sHZS4r7yONPL"
      }
    },
    {
      "cell_type": "code",
      "source": [
        "# 問題41 ファイル操作の基本(open, read, close)\n",
        "# まず以下のテキストファイルを用意しましょう。\n",
        "\n",
        "# samples/08_41_sample.txt\n",
        "\n",
        "# はじめまして、\n",
        "# こちらはいまにゅうチャンネルです。\n",
        "# Pythonを使いこなして色んなことができるように、\n",
        "# 一緒に学んでいきましょう。\n",
        "# 以下の処理を行ってテキストファイルからテキストデータを取得して出力しましょう\n",
        "\n",
        "# open関数でsample.txtを開く\n",
        "file = open('/sample.txt')\n",
        "\n",
        "# read関数でテキストを読み込む\n",
        "text = file.read()\n",
        "\n",
        "# close関数で開いたテキストファイルを閉じる\n",
        "file.close()\n",
        "\n",
        "print(text)"
      ],
      "metadata": {
        "id": "rTOvhKPaNwyW",
        "colab": {
          "base_uri": "https://localhost:8080/"
        },
        "outputId": "34e2859d-65e9-4a93-9148-401ee54eab40"
      },
      "execution_count": 73,
      "outputs": [
        {
          "output_type": "stream",
          "name": "stdout",
          "text": [
            "{\n",
            "    \"store_name\": \"神田店\",\n",
            "    \"items\": [\n",
            "        {\"item_id\": 0,\n",
            "         \"item_name\": \"コーラ\"},\n",
            "        {\"item_id\": 1,\n",
            "         \"item_name\": \"唐揚げ弁当\"},\n",
            "        {\"item_id\": 2,\n",
            "         \"item_name\": \"週刊誌\"}\n",
            "    ]\n",
            "}\n",
            "\n"
          ]
        }
      ]
    },
    {
      "cell_type": "code",
      "source": [
        "# 問題42 with構文 - よく使う構文\n",
        "# 先ほどのテキストデータを取得する処理をwith構文を使って実装しましょう\n",
        "\n",
        "# with open ('読み込みたいファイル,\"r\" - 読む) as f: - rはなくても可能\n",
        "# 書き込みであれば \"w\"\n",
        "\n",
        "# ↓これでも可能\n",
        "with open ('/sample.txt') as f:\n",
        "    text = f.read()\n",
        "print(text)"
      ],
      "metadata": {
        "id": "pJa7n3aGOPEK",
        "colab": {
          "base_uri": "https://localhost:8080/"
        },
        "outputId": "94c4feb4-a3ec-47e2-d4b3-6f6921a5ba96"
      },
      "execution_count": 74,
      "outputs": [
        {
          "output_type": "stream",
          "name": "stdout",
          "text": [
            "{\n",
            "    \"store_name\": \"神田店\",\n",
            "    \"items\": [\n",
            "        {\"item_id\": 0,\n",
            "         \"item_name\": \"コーラ\"},\n",
            "        {\"item_id\": 1,\n",
            "         \"item_name\": \"唐揚げ弁当\"},\n",
            "        {\"item_id\": 2,\n",
            "         \"item_name\": \"週刊誌\"}\n",
            "    ]\n",
            "}\n",
            "\n"
          ]
        }
      ]
    },
    {
      "cell_type": "code",
      "source": [
        "# 問題43 jsonモジュール\n",
        "# jsonモジュールを使って以下のjsonファイルを読み込みましょう。\n",
        "\n",
        "# samples/08_43_sample.json\n",
        "\n",
        "# {\"store_name\": \"神田店\",\n",
        "#  \"items\": [\n",
        "#      {\"item_id\": 0,\n",
        "#      \"item_name\": \"コーラ\"},\n",
        "#      {\"item_id\": 1,\n",
        "#      \"item_name\": \"唐揚げ弁当\"},\n",
        "#      {\"item_id\": 2,\n",
        "#      \"item_name\": \"週刊誌\"}]\n",
        "# }\n",
        "\n",
        "\n",
        "import json\n",
        "with open('/sample.json','r') as f:\n",
        "    # json.load() - json形式で読み込む \n",
        "    data = json.load(f) \n",
        "\n",
        "print(data)\n",
        "print(data[\"store_name\"])"
      ],
      "metadata": {
        "id": "cBdDUIQBOPFs",
        "colab": {
          "base_uri": "https://localhost:8080/"
        },
        "outputId": "8e5f04db-003e-4979-8cca-ec028c672e5d"
      },
      "execution_count": 75,
      "outputs": [
        {
          "output_type": "stream",
          "name": "stdout",
          "text": [
            "{'store_name': '神田店', 'items': [{'item_id': 0, 'item_name': 'コーラ'}, {'item_id': 1, 'item_name': '唐揚げ弁当'}, {'item_id': 2, 'item_name': '週刊誌'}]}\n",
            "神田店\n"
          ]
        }
      ]
    },
    {
      "cell_type": "markdown",
      "source": [
        "#PythonでOSを操作"
      ],
      "metadata": {
        "id": "QjTDkgE9OZDb"
      }
    },
    {
      "cell_type": "code",
      "source": [
        "# 問題44 全ファイルの情報取得\n",
        "# カレントディレクトリ内の全てのファイル情報を取得しましょう。 - 相対パスの取得\n",
        "# for  curDir,dirs,files in os.walk(\".\"): - (\".\")がカレントディレクトリという意味\n",
        "# checkpoints - 隠しフォルダ\n",
        "\n",
        "\n",
        "import os\n",
        "for  curDir,dirs,files in os.walk(\".\"):\n",
        "    for file in files:\n",
        "        print(f'{curDir}/{file}')\n",
        "    # print(files)\n",
        "    # print(dirs)"
      ],
      "metadata": {
        "id": "tmHA5GW8OPHu",
        "colab": {
          "base_uri": "https://localhost:8080/"
        },
        "outputId": "0e25cabe-c690-449e-c4cb-c87d1ca4111f"
      },
      "execution_count": 76,
      "outputs": [
        {
          "output_type": "stream",
          "name": "stdout",
          "text": [
            "./.config/.last_update_check.json\n",
            "./.config/config_sentinel\n",
            "./.config/gce\n",
            "./.config/.last_opt_in_prompt.yaml\n",
            "./.config/.last_survey_prompt.yaml\n",
            "./.config/active_config\n",
            "./.config/logs/2022.01.07/14.33.22.232212.log\n",
            "./.config/logs/2022.01.07/14.33.15.504888.log\n",
            "./.config/logs/2022.01.07/14.33.42.565580.log\n",
            "./.config/logs/2022.01.07/14.32.57.118850.log\n",
            "./.config/logs/2022.01.07/14.32.37.114755.log\n",
            "./.config/logs/2022.01.07/14.33.41.864886.log\n",
            "./.config/configurations/config_default\n",
            "./sample_data/anscombe.json\n",
            "./sample_data/README.md\n",
            "./sample_data/california_housing_test.csv\n",
            "./sample_data/mnist_train_small.csv\n",
            "./sample_data/california_housing_train.csv\n",
            "./sample_data/mnist_test.csv\n"
          ]
        }
      ]
    },
    {
      "cell_type": "code",
      "source": [
        "# 問題45 ファイルの情報取得\n",
        "# カレントディレクトリ内の情報を取得しましょう。　- 相対パスの取得\n",
        "\n",
        "lists = os.listdir(\".\")\n",
        "lists.sort()\n",
        "print(lists)"
      ],
      "metadata": {
        "id": "mBnm2GsnOPJY",
        "colab": {
          "base_uri": "https://localhost:8080/"
        },
        "outputId": "a3cbb117-9fd7-425a-cfa0-31510b10b804"
      },
      "execution_count": 77,
      "outputs": [
        {
          "output_type": "stream",
          "name": "stdout",
          "text": [
            "['.config', 'sample_data']\n"
          ]
        }
      ]
    },
    {
      "cell_type": "code",
      "source": [
        "# 問題46 絶対パスを含んだファイル名の取得\n",
        "# 問題44で取得したファイルの絶対パスを出力しましょう。\n",
        "\n",
        "# os.path.abspath(\"パス\")\n",
        "os.path.abspath(\"sample.txt\")"
      ],
      "metadata": {
        "id": "BCpHMxUFOPLL",
        "colab": {
          "base_uri": "https://localhost:8080/",
          "height": 35
        },
        "outputId": "110f7683-4c41-46b2-c11b-24009b834322"
      },
      "execution_count": 78,
      "outputs": [
        {
          "output_type": "execute_result",
          "data": {
            "application/vnd.google.colaboratory.intrinsic+json": {
              "type": "string"
            },
            "text/plain": [
              "'/content/sample.txt'"
            ]
          },
          "metadata": {},
          "execution_count": 78
        }
      ]
    },
    {
      "cell_type": "code",
      "source": [
        "# 問題47 ファイル名の取得\n",
        "# 問題44で取得したファイルのファイル名のみを出力しましょう。\n",
        "\n",
        "os.path.basename(\"sample.txt\")"
      ],
      "metadata": {
        "id": "REmpkInIOPMv",
        "colab": {
          "base_uri": "https://localhost:8080/",
          "height": 35
        },
        "outputId": "e3084be2-15c0-46bc-92c4-27dc3a2e37a9"
      },
      "execution_count": 79,
      "outputs": [
        {
          "output_type": "execute_result",
          "data": {
            "application/vnd.google.colaboratory.intrinsic+json": {
              "type": "string"
            },
            "text/plain": [
              "'sample.txt'"
            ]
          },
          "metadata": {},
          "execution_count": 79
        }
      ]
    },
    {
      "cell_type": "code",
      "source": [
        "# 問題48 ファイル・ディレクトリの存在確認\n",
        "# カレントディレクトリ内にxxxyyyzzz/ディレクトリが存在するか確認してみましょう。\n",
        "# また、問題46で出力したファイルが存在するか確認してみましょう。\n",
        "\n",
        "#　False - 存在していない, True - 存在している\n",
        "# existsを使う os.path.exists(\"パス\")\n",
        "\n",
        "print(os.path.exists(\"xyz/\"))\n",
        "print(os.path.exists(\"sample.txt\"))"
      ],
      "metadata": {
        "id": "MJMoCAeyOPO2",
        "colab": {
          "base_uri": "https://localhost:8080/"
        },
        "outputId": "6911db7d-2fa4-4ace-c1f0-89eefe8d7aae"
      },
      "execution_count": 80,
      "outputs": [
        {
          "output_type": "stream",
          "name": "stdout",
          "text": [
            "False\n",
            "False\n"
          ]
        }
      ]
    },
    {
      "cell_type": "code",
      "source": [
        "# 問題49 ディレクトリの存在確認\n",
        "# 問題48で確認したディレクトリを別の方法で確認してみましょう。\n",
        "\n",
        "print(os.path.isdir(\"xyz/\"))\n",
        "print(os.path.isdir(\"/content/people.csv\"))"
      ],
      "metadata": {
        "id": "N4mbtxlOOPQk",
        "colab": {
          "base_uri": "https://localhost:8080/"
        },
        "outputId": "ab0759f5-1601-4a1b-b636-06e618d5a994"
      },
      "execution_count": 81,
      "outputs": [
        {
          "output_type": "stream",
          "name": "stdout",
          "text": [
            "False\n",
            "False\n"
          ]
        }
      ]
    },
    {
      "cell_type": "code",
      "source": [
        "# 問題50 ファイルの存在確認\n",
        "# 問題48で確認したファイルを別の方法で確認してみましょう。\n",
        "\n",
        "print(os.path.isfile(\"xyz/\"))\n",
        "print(os.path.isfile(\"/content/people.csv\"))"
      ],
      "metadata": {
        "id": "IFuI_RqnOPSM",
        "colab": {
          "base_uri": "https://localhost:8080/"
        },
        "outputId": "de334f88-bc39-431f-a8ab-9e4824d946f0"
      },
      "execution_count": 82,
      "outputs": [
        {
          "output_type": "stream",
          "name": "stdout",
          "text": [
            "False\n",
            "False\n"
          ]
        }
      ]
    },
    {
      "cell_type": "code",
      "source": [
        "# 問題51 パス名の結合\n",
        "# 問題44で行ったパス名の出力をos.path.join()で結合してみましょう。 - print(os.path.join(curDir,file)) \n",
        "\n",
        "# こちらがメジャー\n",
        "for  curDir,dirs,files in os.walk(\".\"):\n",
        "    for file in files:\n",
        "        print(os.path.join(curDir,file)) "
      ],
      "metadata": {
        "id": "Ex8p70qZOPUF",
        "colab": {
          "base_uri": "https://localhost:8080/"
        },
        "outputId": "460278fb-5ed0-49c0-db47-aa2e2d1e22df"
      },
      "execution_count": 83,
      "outputs": [
        {
          "output_type": "stream",
          "name": "stdout",
          "text": [
            "./.config/.last_update_check.json\n",
            "./.config/config_sentinel\n",
            "./.config/gce\n",
            "./.config/.last_opt_in_prompt.yaml\n",
            "./.config/.last_survey_prompt.yaml\n",
            "./.config/active_config\n",
            "./.config/logs/2022.01.07/14.33.22.232212.log\n",
            "./.config/logs/2022.01.07/14.33.15.504888.log\n",
            "./.config/logs/2022.01.07/14.33.42.565580.log\n",
            "./.config/logs/2022.01.07/14.32.57.118850.log\n",
            "./.config/logs/2022.01.07/14.32.37.114755.log\n",
            "./.config/logs/2022.01.07/14.33.41.864886.log\n",
            "./.config/configurations/config_default\n",
            "./sample_data/anscombe.json\n",
            "./sample_data/README.md\n",
            "./sample_data/california_housing_test.csv\n",
            "./sample_data/mnist_train_small.csv\n",
            "./sample_data/california_housing_train.csv\n",
            "./sample_data/mnist_test.csv\n"
          ]
        }
      ]
    },
    {
      "cell_type": "code",
      "source": [
        "# 問題52 ディレクトリの作成\n",
        "# カレントディレクトリにimanyuディレクトリを作成しましょう。\n",
        "# mkdir = make directory\n",
        "\n",
        "os.mkdir(\"chani\")"
      ],
      "metadata": {
        "id": "-RiHdafBOPXq"
      },
      "execution_count": 84,
      "outputs": []
    },
    {
      "cell_type": "code",
      "source": [
        "# 問題53 ファイルの削除\n",
        "# samples/ディレクトリにあるsamples/09_53_sample.txtを削除しましょう。\n",
        "# もしファイルがない場合には以下のコードで作成しましょう。\n",
        "# os.remove(\"パス\") - ファイルの削除\n",
        "\n",
        "os.remove(\"/sample.txt\")\n",
        "\n",
        "# # ファイルの作成\n",
        "# with open('samples/09_10_sample.txt', 'w') as f:\n",
        "#     f.write('これはサンプルです')"
      ],
      "metadata": {
        "id": "1-uF3s4KOPbU"
      },
      "execution_count": 102,
      "outputs": []
    },
    {
      "cell_type": "code",
      "source": [
        "# 問題54 ディレクトリの名前変更\n",
        "# カレントディレクトリにあるimanyuフォルダの名前を自分の名前に変更しましょう。\n",
        "# os.rename(\"元の名前\",\"新しい名前\")\n",
        "\n",
        "os.rename(\"chani\",\"Leon\")"
      ],
      "metadata": {
        "id": "gEqMNaC-OPgu"
      },
      "execution_count": 103,
      "outputs": []
    },
    {
      "cell_type": "code",
      "source": [
        "# 問題55 環境変数の確認\n",
        "# os.environから環境変数であるPATHの確認を行いましょう。\n",
        " \n",
        "os.environ[\"PATH\"]"
      ],
      "metadata": {
        "id": "hwOHnFeiOPkL",
        "colab": {
          "base_uri": "https://localhost:8080/",
          "height": 53
        },
        "outputId": "0c1d434c-f82a-4350-8e08-0afecbb19b74"
      },
      "execution_count": 104,
      "outputs": [
        {
          "output_type": "execute_result",
          "data": {
            "application/vnd.google.colaboratory.intrinsic+json": {
              "type": "string"
            },
            "text/plain": [
              "'/usr/local/nvidia/bin:/usr/local/cuda/bin:/usr/local/sbin:/usr/local/bin:/usr/sbin:/usr/bin:/sbin:/bin:/tools/node/bin:/tools/google-cloud-sdk/bin:/opt/bin'"
            ]
          },
          "metadata": {},
          "execution_count": 104
        }
      ]
    },
    {
      "cell_type": "code",
      "source": [
        "# 問題56 Unixコマンド\n",
        "# os.system()でUnixコマンドを使ってみましょう。\n",
        "\n",
        "# os.system(\"ls -a\")\n",
        "print(os.popen(\"ls -a\").read())\n",
        "\n",
        "# Linex コマンド\n",
        "! ls -a"
      ],
      "metadata": {
        "id": "Tyovc0z6Nw0L",
        "colab": {
          "base_uri": "https://localhost:8080/"
        },
        "outputId": "a72d8233-9273-40d7-9326-3fb57ac34a9c"
      },
      "execution_count": 105,
      "outputs": [
        {
          "output_type": "stream",
          "name": "stdout",
          "text": [
            ".\n",
            "..\n",
            ".config\n",
            "Leon\n",
            "sample_data\n",
            "sample.png\n",
            "\n",
            ".  ..  .config\tLeon  sample_data  sample.png\n"
          ]
        }
      ]
    },
    {
      "cell_type": "markdown",
      "source": [
        "#Matplotlib"
      ],
      "metadata": {
        "id": "ABTIAk-DQY3u"
      }
    },
    {
      "cell_type": "code",
      "source": [
        "# 問題57 折れ線グラフ\n",
        "# 以下のようにNumpyでデータを生成して, Matplotlibで折れ線グラフを作成してください。\n",
        "\n",
        "# import numpy as np\n",
        "\n",
        "# data = np.random.randint(0, 100, size=(50, 2))\n",
        "\n",
        "import numpy as np\n",
        "import matplotlib.pyplot as plt\n",
        "\n",
        "# %matplotlib inline -jupyternote book上で可視化するために必要\n",
        "# np.random.randint(0, 100, size=(50, 2)) - (0,100)のランダムな整数を50x2のnumpy配列で返す\n",
        "data = np.random.randint(0, 100, size=(50, 2))\n",
        "print(data[:5])\n",
        "\n",
        "# Matplotlibで折れ線グラフを作成してください。 - plt.plot(data)\n",
        "print(plt.plot(data))"
      ],
      "metadata": {
        "id": "F8JssiAQNJf3",
        "colab": {
          "base_uri": "https://localhost:8080/",
          "height": 389
        },
        "outputId": "4c488021-a4d9-4af5-b57a-5dfd2c9894d1"
      },
      "execution_count": 86,
      "outputs": [
        {
          "output_type": "stream",
          "name": "stdout",
          "text": [
            "[[23 32]\n",
            " [58 29]\n",
            " [15 66]\n",
            " [21 57]\n",
            " [56 43]]\n",
            "[<matplotlib.lines.Line2D object at 0x7fde994c2f50>, <matplotlib.lines.Line2D object at 0x7fde994cf1d0>]\n"
          ]
        },
        {
          "output_type": "display_data",
          "data": {
            "image/png": "[encoded data removed]",
            "text/plain": [
              "<Figure size 432x288 with 1 Axes>"
            ]
          },
          "metadata": {
            "needs_background": "light"
          }
        }
      ]
    },
    {
      "cell_type": "code",
      "source": [
        "# 問題58 散布図\n",
        "# 以下のようにNumpyでデータを生成して, 散布図を作成してください。\n",
        "\n",
        "# import numpy as np\n",
        "# data = np.random.randint(0, 50, size=(2, 100))\n",
        "\n",
        "data = np.random.randint(0, 50, size=(2, 100))\n",
        "# 散布図を作成してください。 - plt.scatter(*data)\n",
        "plt.scatter(*data)"
      ],
      "metadata": {
        "id": "-mE6JmhmNJht",
        "colab": {
          "base_uri": "https://localhost:8080/",
          "height": 282
        },
        "outputId": "f8d4f408-753c-4723-bb98-d792a1c60897"
      },
      "execution_count": 87,
      "outputs": [
        {
          "output_type": "execute_result",
          "data": {
            "text/plain": [
              "<matplotlib.collections.PathCollection at 0x7fde99442550>"
            ]
          },
          "metadata": {},
          "execution_count": 87
        },
        {
          "output_type": "display_data",
          "data": {
            "image/png": "[encoded data removed]",
            "text/plain": [
              "<Figure size 432x288 with 1 Axes>"
            ]
          },
          "metadata": {
            "needs_background": "light"
          }
        }
      ]
    },
    {
      "cell_type": "code",
      "source": [
        "# 問題59 棒グラフ\n",
        "# 以下のようにNumpyでデータを生成して, 2種類の棒グラフ(縦・横)を作成してください。\n",
        "\n",
        "# import numpy as np\n",
        "\n",
        "# x = [1, 2, 3, 4, 5]\n",
        "# data = np.random.randint(0, 100, size=(5,))\n",
        "# labels = ['Math', 'Physics', 'Chemistry', 'English', 'History']\n",
        "\n",
        "x = [1, 2, 3, 4, 5]\n",
        "data = np.random.randint(0, 100, size=(5,))\n",
        "labels = ['Math', 'Physics', 'Chemistry', 'English', 'History']\n",
        "\n",
        "# plt.bar(横軸,縦軸,tick_label=labels)　\n",
        "# ラベル - label=labels\n",
        "\n",
        "# plt.bar(x,data,tick_label=labels) -　縦の棒グラフ\n",
        "# plt.barh(x,data,tick_label=labels) - 横の棒グラフ\n",
        "plt.barh(x,data,tick_label=labels)"
      ],
      "metadata": {
        "id": "Mg9vzCAyNJjg",
        "colab": {
          "base_uri": "https://localhost:8080/",
          "height": 282
        },
        "outputId": "eaee8406-a2d2-4e45-dc63-6cd5122fc235"
      },
      "execution_count": 88,
      "outputs": [
        {
          "output_type": "execute_result",
          "data": {
            "text/plain": [
              "<BarContainer object of 5 artists>"
            ]
          },
          "metadata": {},
          "execution_count": 88
        },
        {
          "output_type": "display_data",
          "data": {
            "image/png": "[encoded data removed]",
            "text/plain": [
              "<Figure size 432x288 with 1 Axes>"
            ]
          },
          "metadata": {
            "needs_background": "light"
          }
        }
      ]
    },
    {
      "cell_type": "code",
      "source": [
        "# 問題60 ヒストグラム\n",
        "# 以下のようにNumpyでデータを生成して, ヒストグラムを作成してください。\n",
        "\n",
        "# import numpy as np\n",
        "# data = np.random.randint(0, 100, size=(20,))\n",
        "\n",
        "data = np.random.randint(0, 100, size=(20,))\n",
        "# plt.hist(data,bins=5) bins - 分割　\n",
        "plt.hist(data,bins=6)"
      ],
      "metadata": {
        "id": "TSFYPBn4NJli",
        "colab": {
          "base_uri": "https://localhost:8080/",
          "height": 334
        },
        "outputId": "a8cbe26b-1513-403b-c7d4-073f7203f19d"
      },
      "execution_count": 89,
      "outputs": [
        {
          "output_type": "execute_result",
          "data": {
            "text/plain": [
              "(array([2., 4., 0., 5., 4., 5.]),\n",
              " array([14.        , 27.83333333, 41.66666667, 55.5       , 69.33333333,\n",
              "        83.16666667, 97.        ]),\n",
              " <a list of 6 Patch objects>)"
            ]
          },
          "metadata": {},
          "execution_count": 89
        },
        {
          "output_type": "display_data",
          "data": {
            "image/png": "[encoded data removed]",
            "text/plain": [
              "<Figure size 432x288 with 1 Axes>"
            ]
          },
          "metadata": {
            "needs_background": "light"
          }
        }
      ]
    },
    {
      "cell_type": "code",
      "source": [
        "# 問題61 軸の名前と範囲指定\n",
        "# 以下のように作成したグラフの軸にタイトルとラベル名,(x軸: Height [cm], y軸: Weight [kg])と範囲(x軸: 110〜210, y軸: 20〜120),判例を追加してください。\n",
        "\n",
        "# import numpy as np\n",
        "\n",
        "# male_ht = np.random.randint(150, 200, size=(50,))\n",
        "# male_wt = np.random.randint(50, 110, size=(50, ))\n",
        "# female_ht = np.random.randint(130, 170, size=(50,))\n",
        "# female_wt = np.random.randint(30, 80, size=(50, ))\n",
        "\n",
        "# plt.scatter(male_ht, male_wt, label='male')\n",
        "# plt.scatter(female_ht, female_wt, label='female')\n",
        "\n",
        "male_ht = np.random.randint(150, 200, size=(50,))\n",
        "male_wt = np.random.randint(50, 110, size=(50, ))\n",
        "female_ht = np.random.randint(130, 170, size=(50,))\n",
        "female_wt = np.random.randint(30, 80, size=(50, ))\n",
        "\n",
        "plt.scatter(male_ht, male_wt, label='male')\n",
        "plt.scatter(female_ht, female_wt, label='female')\n",
        "\n",
        "# タイトル\n",
        "plt.title(\"Height and Weight,\")\n",
        "\n",
        "# 判例\n",
        "plt.legend()\n",
        "\n",
        "# ラベル名\n",
        "plt.xlabel(\"Height [cm]\")\n",
        "plt.ylabel(\"Weight [kg]\")\n",
        "\n",
        "# 範囲指定\n",
        "plt.xlim(110,210)\n",
        "plt.ylim(20,120)"
      ],
      "metadata": {
        "id": "h4J-yV4_NJnL",
        "colab": {
          "base_uri": "https://localhost:8080/",
          "height": 312
        },
        "outputId": "b01d1df4-25a4-41ae-9956-579181320613"
      },
      "execution_count": 90,
      "outputs": [
        {
          "output_type": "execute_result",
          "data": {
            "text/plain": [
              "(20.0, 120.0)"
            ]
          },
          "metadata": {},
          "execution_count": 90
        },
        {
          "output_type": "display_data",
          "data": {
            "image/png": "[encoded data removed]",
            "text/plain": [
              "<Figure size 432x288 with 1 Axes>"
            ]
          },
          "metadata": {
            "needs_background": "light"
          }
        }
      ]
    },
    {
      "cell_type": "code",
      "source": [
        "# 問題62 色の設定\n",
        "# 以下のように作成した散布図のマーカの色を(男性: skyblue, 女性: pink)に変更してください。\n",
        "\n",
        "# import numpy as np\n",
        "\n",
        "# male_ht = np.random.randint(150, 200, size=(50,))\n",
        "# male_wt = np.random.randint(50, 110, size=(50, ))\n",
        "# female_ht = np.random.randint(130, 170, size=(50,))\n",
        "# female_wt = np.random.randint(30, 80, size=(50, ))\n",
        "\n",
        "# plt.scatter(male_ht, male_wt, label='male')\n",
        "# plt.scatter(female_ht, female_wt, label='female')\n",
        "\n",
        "male_ht = np.random.randint(150, 200, size=(50,))\n",
        "male_wt = np.random.randint(50, 110, size=(50, ))\n",
        "female_ht = np.random.randint(130, 170, size=(50,))\n",
        "female_wt = np.random.randint(30, 80, size=(50, ))\n",
        "\n",
        "# 色の設定 color=\"色\"\n",
        "plt.scatter(male_ht, male_wt, label='male', color=\"skyblue\")\n",
        "plt.scatter(female_ht, female_wt, label='female', color=\"pinK\")\n"
      ],
      "metadata": {
        "id": "V6Q-e3-5NJo9",
        "colab": {
          "base_uri": "https://localhost:8080/",
          "height": 282
        },
        "outputId": "d155914b-7b4f-4360-a486-568351cac98e"
      },
      "execution_count": 91,
      "outputs": [
        {
          "output_type": "execute_result",
          "data": {
            "text/plain": [
              "<matplotlib.collections.PathCollection at 0x7fde992a36d0>"
            ]
          },
          "metadata": {},
          "execution_count": 91
        },
        {
          "output_type": "display_data",
          "data": {
            "image/png": "[encoded data removed]",
            "text/plain": [
              "<Figure size 432x288 with 1 Axes>"
            ]
          },
          "metadata": {
            "needs_background": "light"
          }
        }
      ]
    },
    {
      "cell_type": "code",
      "source": [
        "# 問題63 マーカー種類の指定\n",
        "# 以下のように作成したグラフのマーカーを(男性: ▷, 女性: ◁)に変更してください。\n",
        "\n",
        "# import numpy as np\n",
        "\n",
        "# male_ht = np.random.randint(150, 200, size=(50,))\n",
        "# male_wt = np.random.randint(50, 110, size=(50, ))\n",
        "# female_ht = np.random.randint(130, 170, size=(50,))\n",
        "# female_wt = np.random.randint(30, 80, size=(50, ))\n",
        "\n",
        "# plt.scatter(male_ht, male_wt, label='male')\n",
        "# plt.scatter(female_ht, female_wt, label='female')\n",
        "\n",
        "male_ht = np.random.randint(150, 200, size=(50,))\n",
        "male_wt = np.random.randint(50, 110, size=(50, ))\n",
        "female_ht = np.random.randint(130, 170, size=(50,))\n",
        "female_wt = np.random.randint(30, 80, size=(50, ))\n",
        "\n",
        "# マーカー種類の指定 - marker=\"\" メーカーの種類は調べる\n",
        "plt.scatter(male_ht, male_wt, label='male',marker=\">\")\n",
        "plt.scatter(female_ht, female_wt, label='female',marker=\"<\")"
      ],
      "metadata": {
        "id": "Ep_eQ3O6NJqx",
        "colab": {
          "base_uri": "https://localhost:8080/",
          "height": 282
        },
        "outputId": "20327318-f955-4f05-f86d-988efccaf6fa"
      },
      "execution_count": 92,
      "outputs": [
        {
          "output_type": "execute_result",
          "data": {
            "text/plain": [
              "<matplotlib.collections.PathCollection at 0x7fde9921f550>"
            ]
          },
          "metadata": {},
          "execution_count": 92
        },
        {
          "output_type": "display_data",
          "data": {
            "image/png": "[encoded data removed]",
            "text/plain": [
              "<Figure size 432x288 with 1 Axes>"
            ]
          },
          "metadata": {
            "needs_background": "light"
          }
        }
      ]
    },
    {
      "cell_type": "code",
      "source": [
        "# 問題64 グラフを画像ファイルで出力\n",
        "# 以下のようにMatplotlibで折れ線グラフを作成し、その結果をPNG形式の画像ファイルで保存して下さい。\n",
        "\n",
        "# import numpy as np\n",
        "\n",
        "# data = np.random.randint(0, 100, size=(50, 2))\n",
        "# plt.plot(data)\n",
        "\n",
        "data = np.random.randint(0, 100, size=(50, 2))\n",
        "plt.plot(data)\n",
        "\n",
        "# グラフを画像ファイルで出力 - plt.savefig(\"名前指定.png\")\n",
        "plt.savefig(\"sample.png\")"
      ],
      "metadata": {
        "id": "IC6JOjgiNJso",
        "colab": {
          "base_uri": "https://localhost:8080/",
          "height": 265
        },
        "outputId": "a81ed3db-459c-49e4-d5f0-971c08f5ecbd"
      },
      "execution_count": 93,
      "outputs": [
        {
          "output_type": "display_data",
          "data": {
            "image/png": "[encoded data removed]",
            "text/plain": [
              "<Figure size 432x288 with 1 Axes>"
            ]
          },
          "metadata": {
            "needs_background": "light"
          }
        }
      ]
    },
    {
      "cell_type": "markdown",
      "source": [
        "#datetime"
      ],
      "metadata": {
        "id": "grAGtJqIQsfM"
      }
    },
    {
      "cell_type": "code",
      "source": [
        "# 問題65 現在の日時取得\n",
        "# ライブラリ datetime　を用いて現在の日時を取得してください。\n",
        "\n",
        "import datetime\n",
        "datetime.datetime.now()\n",
        "\n",
        "# 年月日だけほしい場合\n",
        "datetime.date.today()"
      ],
      "metadata": {
        "id": "IlbW8-oDNJuZ",
        "colab": {
          "base_uri": "https://localhost:8080/"
        },
        "outputId": "0f3c9cf0-8fcc-471c-a8b0-ee61bb1d00a0"
      },
      "execution_count": 94,
      "outputs": [
        {
          "output_type": "execute_result",
          "data": {
            "text/plain": [
              "datetime.date(2022, 1, 19)"
            ]
          },
          "metadata": {},
          "execution_count": 94
        }
      ]
    },
    {
      "cell_type": "code",
      "source": [
        "# 問題66 任意の日付を取得\n",
        "# 2021年1月1日の日付を取得してください。\n",
        "\n",
        "datetime.date(2021,1,1)"
      ],
      "metadata": {
        "id": "C1nWHyacNJ1K",
        "colab": {
          "base_uri": "https://localhost:8080/"
        },
        "outputId": "9d153e29-a9c2-4b58-f5da-e6ad9bb78497"
      },
      "execution_count": 95,
      "outputs": [
        {
          "output_type": "execute_result",
          "data": {
            "text/plain": [
              "datetime.date(2021, 1, 1)"
            ]
          },
          "metadata": {},
          "execution_count": 95
        }
      ]
    },
    {
      "cell_type": "code",
      "source": [
        "# 問題67　日付内の各情報\n",
        "# 現在の日時における、年、月、日、時、分、秒、曜日を取得してください。\n",
        "\n",
        "now = datetime.datetime.now()\n",
        "print(now.year)\n",
        "print(now.month)\n",
        "print(now.day)\n",
        "print(now.hour)\n",
        "print(now.minute)\n",
        "print(now.second)\n",
        "print(now.strftime(\"%A\"))"
      ],
      "metadata": {
        "id": "V1MbyDQvNJ2_",
        "colab": {
          "base_uri": "https://localhost:8080/"
        },
        "outputId": "09c57fc7-1105-4b95-87cf-0400651d5596"
      },
      "execution_count": 96,
      "outputs": [
        {
          "output_type": "stream",
          "name": "stdout",
          "text": [
            "2022\n",
            "1\n",
            "19\n",
            "8\n",
            "17\n",
            "33\n",
            "Wednesday\n"
          ]
        }
      ]
    },
    {
      "cell_type": "code",
      "source": [
        "# 問題68　日付計算\n",
        "# 一昨日の日付を取得してください。\n",
        "\n",
        "from datetime import timedelta\n",
        "today = datetime.date.today()\n",
        "today - timedelta(days = 2)"
      ],
      "metadata": {
        "id": "iOwm7kbfNJ40",
        "colab": {
          "base_uri": "https://localhost:8080/"
        },
        "outputId": "5c584b11-7e4a-4111-efe3-d12de507d811"
      },
      "execution_count": 97,
      "outputs": [
        {
          "output_type": "execute_result",
          "data": {
            "text/plain": [
              "datetime.date(2022, 1, 17)"
            ]
          },
          "metadata": {},
          "execution_count": 97
        }
      ]
    },
    {
      "cell_type": "code",
      "source": [
        "# 問題69　日付比較\n",
        "# 2020年1月1日と2021年1月1日を比較してください。\n",
        "\n",
        "datetime.date(2020,1,1) < datetime.date(2021,1,1)"
      ],
      "metadata": {
        "id": "6lVLpumSNJ6Z",
        "colab": {
          "base_uri": "https://localhost:8080/"
        },
        "outputId": "fb887bee-72f7-4ee5-8f95-f7a76934845e"
      },
      "execution_count": 98,
      "outputs": [
        {
          "output_type": "execute_result",
          "data": {
            "text/plain": [
              "True"
            ]
          },
          "metadata": {},
          "execution_count": 98
        }
      ]
    },
    {
      "cell_type": "code",
      "source": [
        "# 問題70　フォーマット変換\n",
        "# 本日の日付を　2021/07/01 のような形式に変換してください。\n",
        "\n",
        "today = datetime.date.today()\n",
        "# 本日の日付を　2021/07/01 のような形式に変換してください。\n",
        "today.strftime(\"%Y/%m/%d\")"
      ],
      "metadata": {
        "id": "Hw-kab1MNJ8Q",
        "colab": {
          "base_uri": "https://localhost:8080/",
          "height": 35
        },
        "outputId": "4d2f34c9-5743-4a38-9e7a-9863951fb18e"
      },
      "execution_count": 99,
      "outputs": [
        {
          "output_type": "execute_result",
          "data": {
            "application/vnd.google.colaboratory.intrinsic+json": {
              "type": "string"
            },
            "text/plain": [
              "'2022/01/19'"
            ]
          },
          "metadata": {},
          "execution_count": 99
        }
      ]
    },
    {
      "cell_type": "markdown",
      "source": [
        "#APIを叩く"
      ],
      "metadata": {
        "id": "w1XOz2WAQ6kg"
      }
    },
    {
      "cell_type": "code",
      "source": [
        "# 下記サイトの「/posts」を用いて、APIを叩いてください。\n",
        "# https://jsonplaceholder.typicode.com/\n",
        "\n",
        "# requestsでAPIを叩く\n",
        "!pip3 install requests\n",
        "import requests"
      ],
      "metadata": {
        "id": "WjPg_RiaNJ91",
        "colab": {
          "base_uri": "https://localhost:8080/"
        },
        "outputId": "c82a8ff4-561f-4acd-ee56-c124cea81e6c"
      },
      "execution_count": 100,
      "outputs": [
        {
          "output_type": "stream",
          "name": "stdout",
          "text": [
            "Requirement already satisfied: requests in /usr/local/lib/python3.7/dist-packages (2.23.0)\n",
            "Requirement already satisfied: certifi>=2017.4.17 in /usr/local/lib/python3.7/dist-packages (from requests) (2021.10.8)\n",
            "Requirement already satisfied: urllib3!=1.25.0,!=1.25.1,<1.26,>=1.21.1 in /usr/local/lib/python3.7/dist-packages (from requests) (1.24.3)\n",
            "Requirement already satisfied: chardet<4,>=3.0.2 in /usr/local/lib/python3.7/dist-packages (from requests) (3.0.4)\n",
            "Requirement already satisfied: idna<3,>=2.5 in /usr/local/lib/python3.7/dist-packages (from requests) (2.10)\n"
          ]
        }
      ]
    },
    {
      "cell_type": "code",
      "source": [
        "url = \"https://jsonplaceholder.typicode.com/posts\"\n",
        "\n",
        "# 一番な簡単な方法（全データを持ってくる、特定の指定はなし）　- APIを叩く\n",
        "# get method\n",
        "# res ~ response\n",
        "requests.get(url)\n",
        "res = requests.get(url)\n",
        "\n",
        "# 中身の見方\n",
        "res.json()"
      ],
      "metadata": {
        "colab": {
          "base_uri": "https://localhost:8080/"
        },
        "id": "aP1pj32ztVUf",
        "outputId": "a928f93c-40ea-4f47-be6d-795a0f8631fa"
      },
      "execution_count": 101,
      "outputs": [
        {
          "output_type": "execute_result",
          "data": {
            "text/plain": [
              "[{'body': 'quia et suscipit\\nsuscipit recusandae consequuntur expedita et cum\\nreprehenderit molestiae ut ut quas totam\\nnostrum rerum est autem sunt rem eveniet architecto',\n",
              "  'id': 1,\n",
              "  'title': 'sunt aut facere repellat provident occaecati excepturi optio reprehenderit',\n",
              "  'userId': 1},\n",
              " {'body': 'est rerum tempore vitae\\nsequi sint nihil reprehenderit dolor beatae ea dolores neque\\nfugiat blanditiis voluptate porro vel nihil molestiae ut reiciendis\\nqui aperiam non debitis possimus qui neque nisi nulla',\n",
              "  'id': 2,\n",
              "  'title': 'qui est esse',\n",
              "  'userId': 1},\n",
              " {'body': 'et iusto sed quo iure\\nvoluptatem occaecati omnis eligendi aut ad\\nvoluptatem doloribus vel accusantium quis pariatur\\nmolestiae porro eius odio et labore et velit aut',\n",
              "  'id': 3,\n",
              "  'title': 'ea molestias quasi exercitationem repellat qui ipsa sit aut',\n",
              "  'userId': 1},\n",
              " {'body': 'ullam et saepe reiciendis voluptatem adipisci\\nsit amet autem assumenda provident rerum culpa\\nquis hic commodi nesciunt rem tenetur doloremque ipsam iure\\nquis sunt voluptatem rerum illo velit',\n",
              "  'id': 4,\n",
              "  'title': 'eum et est occaecati',\n",
              "  'userId': 1},\n",
              " {'body': 'repudiandae veniam quaerat sunt sed\\nalias aut fugiat sit autem sed est\\nvoluptatem omnis possimus esse voluptatibus quis\\nest aut tenetur dolor neque',\n",
              "  'id': 5,\n",
              "  'title': 'nesciunt quas odio',\n",
              "  'userId': 1},\n",
              " {'body': 'ut aspernatur corporis harum nihil quis provident sequi\\nmollitia nobis aliquid molestiae\\nperspiciatis et ea nemo ab reprehenderit accusantium quas\\nvoluptate dolores velit et doloremque molestiae',\n",
              "  'id': 6,\n",
              "  'title': 'dolorem eum magni eos aperiam quia',\n",
              "  'userId': 1},\n",
              " {'body': 'dolore placeat quibusdam ea quo vitae\\nmagni quis enim qui quis quo nemo aut saepe\\nquidem repellat excepturi ut quia\\nsunt ut sequi eos ea sed quas',\n",
              "  'id': 7,\n",
              "  'title': 'magnam facilis autem',\n",
              "  'userId': 1},\n",
              " {'body': 'dignissimos aperiam dolorem qui eum\\nfacilis quibusdam animi sint suscipit qui sint possimus cum\\nquaerat magni maiores excepturi\\nipsam ut commodi dolor voluptatum modi aut vitae',\n",
              "  'id': 8,\n",
              "  'title': 'dolorem dolore est ipsam',\n",
              "  'userId': 1},\n",
              " {'body': 'consectetur animi nesciunt iure dolore\\nenim quia ad\\nveniam autem ut quam aut nobis\\net est aut quod aut provident voluptas autem voluptas',\n",
              "  'id': 9,\n",
              "  'title': 'nesciunt iure omnis dolorem tempora et accusantium',\n",
              "  'userId': 1},\n",
              " {'body': 'quo et expedita modi cum officia vel magni\\ndoloribus qui repudiandae\\nvero nisi sit\\nquos veniam quod sed accusamus veritatis error',\n",
              "  'id': 10,\n",
              "  'title': 'optio molestias id quia eum',\n",
              "  'userId': 1},\n",
              " {'body': 'delectus reiciendis molestiae occaecati non minima eveniet qui voluptatibus\\naccusamus in eum beatae sit\\nvel qui neque voluptates ut commodi qui incidunt\\nut animi commodi',\n",
              "  'id': 11,\n",
              "  'title': 'et ea vero quia laudantium autem',\n",
              "  'userId': 2},\n",
              " {'body': 'itaque id aut magnam\\npraesentium quia et ea odit et ea voluptas et\\nsapiente quia nihil amet occaecati quia id voluptatem\\nincidunt ea est distinctio odio',\n",
              "  'id': 12,\n",
              "  'title': 'in quibusdam tempore odit est dolorem',\n",
              "  'userId': 2},\n",
              " {'body': 'aut dicta possimus sint mollitia voluptas commodi quo doloremque\\niste corrupti reiciendis voluptatem eius rerum\\nsit cumque quod eligendi laborum minima\\nperferendis recusandae assumenda consectetur porro architecto ipsum ipsam',\n",
              "  'id': 13,\n",
              "  'title': 'dolorum ut in voluptas mollitia et saepe quo animi',\n",
              "  'userId': 2},\n",
              " {'body': 'fuga et accusamus dolorum perferendis illo voluptas\\nnon doloremque neque facere\\nad qui dolorum molestiae beatae\\nsed aut voluptas totam sit illum',\n",
              "  'id': 14,\n",
              "  'title': 'voluptatem eligendi optio',\n",
              "  'userId': 2},\n",
              " {'body': 'reprehenderit quos placeat\\nvelit minima officia dolores impedit repudiandae molestiae nam\\nvoluptas recusandae quis delectus\\nofficiis harum fugiat vitae',\n",
              "  'id': 15,\n",
              "  'title': 'eveniet quod temporibus',\n",
              "  'userId': 2},\n",
              " {'body': 'suscipit nam nisi quo aperiam aut\\nasperiores eos fugit maiores voluptatibus quia\\nvoluptatem quis ullam qui in alias quia est\\nconsequatur magni mollitia accusamus ea nisi voluptate dicta',\n",
              "  'id': 16,\n",
              "  'title': 'sint suscipit perspiciatis velit dolorum rerum ipsa laboriosam odio',\n",
              "  'userId': 2},\n",
              " {'body': 'eos voluptas et aut odit natus earum\\naspernatur fuga molestiae ullam\\ndeserunt ratione qui eos\\nqui nihil ratione nemo velit ut aut id quo',\n",
              "  'id': 17,\n",
              "  'title': 'fugit voluptas sed molestias voluptatem provident',\n",
              "  'userId': 2},\n",
              " {'body': 'eveniet quo quis\\nlaborum totam consequatur non dolor\\nut et est repudiandae\\nest voluptatem vel debitis et magnam',\n",
              "  'id': 18,\n",
              "  'title': 'voluptate et itaque vero tempora molestiae',\n",
              "  'userId': 2},\n",
              " {'body': 'illum quis cupiditate provident sit magnam\\nea sed aut omnis\\nveniam maiores ullam consequatur atque\\nadipisci quo iste expedita sit quos voluptas',\n",
              "  'id': 19,\n",
              "  'title': 'adipisci placeat illum aut reiciendis qui',\n",
              "  'userId': 2},\n",
              " {'body': 'qui consequuntur ducimus possimus quisquam amet similique\\nsuscipit porro ipsam amet\\neos veritatis officiis exercitationem vel fugit aut necessitatibus totam\\nomnis rerum consequatur expedita quidem cumque explicabo',\n",
              "  'id': 20,\n",
              "  'title': 'doloribus ad provident suscipit at',\n",
              "  'userId': 2},\n",
              " {'body': 'repellat aliquid praesentium dolorem quo\\nsed totam minus non itaque\\nnihil labore molestiae sunt dolor eveniet hic recusandae veniam\\ntempora et tenetur expedita sunt',\n",
              "  'id': 21,\n",
              "  'title': 'asperiores ea ipsam voluptatibus modi minima quia sint',\n",
              "  'userId': 3},\n",
              " {'body': 'eos qui et ipsum ipsam suscipit aut\\nsed omnis non odio\\nexpedita earum mollitia molestiae aut atque rem suscipit\\nnam impedit esse',\n",
              "  'id': 22,\n",
              "  'title': 'dolor sint quo a velit explicabo quia nam',\n",
              "  'userId': 3},\n",
              " {'body': 'veritatis unde neque eligendi\\nquae quod architecto quo neque vitae\\nest illo sit tempora doloremque fugit quod\\net et vel beatae sequi ullam sed tenetur perspiciatis',\n",
              "  'id': 23,\n",
              "  'title': 'maxime id vitae nihil numquam',\n",
              "  'userId': 3},\n",
              " {'body': 'enim et ex nulla\\nomnis voluptas quia qui\\nvoluptatem consequatur numquam aliquam sunt\\ntotam recusandae id dignissimos aut sed asperiores deserunt',\n",
              "  'id': 24,\n",
              "  'title': 'autem hic labore sunt dolores incidunt',\n",
              "  'userId': 3},\n",
              " {'body': 'ullam consequatur ut\\nomnis quis sit vel consequuntur\\nipsa eligendi ipsum molestiae et omnis error nostrum\\nmolestiae illo tempore quia et distinctio',\n",
              "  'id': 25,\n",
              "  'title': 'rem alias distinctio quo quis',\n",
              "  'userId': 3},\n",
              " {'body': 'similique esse doloribus nihil accusamus\\nomnis dolorem fuga consequuntur reprehenderit fugit recusandae temporibus\\nperspiciatis cum ut laudantium\\nomnis aut molestiae vel vero',\n",
              "  'id': 26,\n",
              "  'title': 'est et quae odit qui non',\n",
              "  'userId': 3},\n",
              " {'body': 'eum sed dolores ipsam sint possimus debitis occaecati\\ndebitis qui qui et\\nut placeat enim earum aut odit facilis\\nconsequatur suscipit necessitatibus rerum sed inventore temporibus consequatur',\n",
              "  'id': 27,\n",
              "  'title': 'quasi id et eos tenetur aut quo autem',\n",
              "  'userId': 3},\n",
              " {'body': 'non et quaerat ex quae ad maiores\\nmaiores recusandae totam aut blanditiis mollitia quas illo\\nut voluptatibus voluptatem\\nsimilique nostrum eum',\n",
              "  'id': 28,\n",
              "  'title': 'delectus ullam et corporis nulla voluptas sequi',\n",
              "  'userId': 3},\n",
              " {'body': 'odit magnam ut saepe sed non qui\\ntempora atque nihil\\naccusamus illum doloribus illo dolor\\neligendi repudiandae odit magni similique sed cum maiores',\n",
              "  'id': 29,\n",
              "  'title': 'iusto eius quod necessitatibus culpa ea',\n",
              "  'userId': 3},\n",
              " {'body': 'alias dolor cumque\\nimpedit blanditiis non eveniet odio maxime\\nblanditiis amet eius quis tempora quia autem rem\\na provident perspiciatis quia',\n",
              "  'id': 30,\n",
              "  'title': 'a quo magni similique perferendis',\n",
              "  'userId': 3},\n",
              " {'body': 'debitis eius sed quibusdam non quis consectetur vitae\\nimpedit ut qui consequatur sed aut in\\nquidem sit nostrum et maiores adipisci atque\\nquaerat voluptatem adipisci repudiandae',\n",
              "  'id': 31,\n",
              "  'title': 'ullam ut quidem id aut vel consequuntur',\n",
              "  'userId': 4},\n",
              " {'body': 'deserunt eos nobis asperiores et hic\\nest debitis repellat molestiae optio\\nnihil ratione ut eos beatae quibusdam distinctio maiores\\nearum voluptates et aut adipisci ea maiores voluptas maxime',\n",
              "  'id': 32,\n",
              "  'title': 'doloremque illum aliquid sunt',\n",
              "  'userId': 4},\n",
              " {'body': 'rerum ut et numquam laborum odit est sit\\nid qui sint in\\nquasi tenetur tempore aperiam et quaerat qui in\\nrerum officiis sequi cumque quod',\n",
              "  'id': 33,\n",
              "  'title': 'qui explicabo molestiae dolorem',\n",
              "  'userId': 4},\n",
              " {'body': 'ea velit perferendis earum ut voluptatem voluptate itaque iusto\\ntotam pariatur in\\nnemo voluptatem voluptatem autem magni tempora minima in\\nest distinctio qui assumenda accusamus dignissimos officia nesciunt nobis',\n",
              "  'id': 34,\n",
              "  'title': 'magnam ut rerum iure',\n",
              "  'userId': 4},\n",
              " {'body': 'nisi error delectus possimus ut eligendi vitae\\nplaceat eos harum cupiditate facilis reprehenderit voluptatem beatae\\nmodi ducimus quo illum voluptas eligendi\\net nobis quia fugit',\n",
              "  'id': 35,\n",
              "  'title': 'id nihil consequatur molestias animi provident',\n",
              "  'userId': 4},\n",
              " {'body': 'ad mollitia et omnis minus architecto odit\\nvoluptas doloremque maxime aut non ipsa qui alias veniam\\nblanditiis culpa aut quia nihil cumque facere et occaecati\\nqui aspernatur quia eaque ut aperiam inventore',\n",
              "  'id': 36,\n",
              "  'title': 'fuga nam accusamus voluptas reiciendis itaque',\n",
              "  'userId': 4},\n",
              " {'body': 'debitis et eaque non officia sed nesciunt pariatur vel\\nvoluptatem iste vero et ea\\nnumquam aut expedita ipsum nulla in\\nvoluptates omnis consequatur aut enim officiis in quam qui',\n",
              "  'id': 37,\n",
              "  'title': 'provident vel ut sit ratione est',\n",
              "  'userId': 4},\n",
              " {'body': 'animi esse sit aut sit nesciunt assumenda eum voluptas\\nquia voluptatibus provident quia necessitatibus ea\\nrerum repudiandae quia voluptatem delectus fugit aut id quia\\nratione optio eos iusto veniam iure',\n",
              "  'id': 38,\n",
              "  'title': 'explicabo et eos deleniti nostrum ab id repellendus',\n",
              "  'userId': 4},\n",
              " {'body': 'corporis rerum ducimus vel eum accusantium\\nmaxime aspernatur a porro possimus iste omnis\\nest in deleniti asperiores fuga aut\\nvoluptas sapiente vel dolore minus voluptatem incidunt ex',\n",
              "  'id': 39,\n",
              "  'title': 'eos dolorem iste accusantium est eaque quam',\n",
              "  'userId': 4},\n",
              " {'body': 'ut voluptatum aliquid illo tenetur nemo sequi quo facilis\\nipsum rem optio mollitia quas\\nvoluptatem eum voluptas qui\\nunde omnis voluptatem iure quasi maxime voluptas nam',\n",
              "  'id': 40,\n",
              "  'title': 'enim quo cumque',\n",
              "  'userId': 4},\n",
              " {'body': 'molestias id nostrum\\nexcepturi molestiae dolore omnis repellendus quaerat saepe\\nconsectetur iste quaerat tenetur asperiores accusamus ex ut\\nnam quidem est ducimus sunt debitis saepe',\n",
              "  'id': 41,\n",
              "  'title': 'non est facere',\n",
              "  'userId': 5},\n",
              " {'body': 'odio fugit voluptatum ducimus earum autem est incidunt voluptatem\\nodit reiciendis aliquam sunt sequi nulla dolorem\\nnon facere repellendus voluptates quia\\nratione harum vitae ut',\n",
              "  'id': 42,\n",
              "  'title': 'commodi ullam sint et excepturi error explicabo praesentium voluptas',\n",
              "  'userId': 5},\n",
              " {'body': 'similique fugit est\\nillum et dolorum harum et voluptate eaque quidem\\nexercitationem quos nam commodi possimus cum odio nihil nulla\\ndolorum exercitationem magnam ex et a et distinctio debitis',\n",
              "  'id': 43,\n",
              "  'title': 'eligendi iste nostrum consequuntur adipisci praesentium sit beatae perferendis',\n",
              "  'userId': 5},\n",
              " {'body': 'temporibus est consectetur dolore\\net libero debitis vel velit laboriosam quia\\nipsum quibusdam qui itaque fuga rem aut\\nea et iure quam sed maxime ut distinctio quae',\n",
              "  'id': 44,\n",
              "  'title': 'optio dolor molestias sit',\n",
              "  'userId': 5},\n",
              " {'body': 'est natus reiciendis nihil possimus aut provident\\nex et dolor\\nrepellat pariatur est\\nnobis rerum repellendus dolorem autem',\n",
              "  'id': 45,\n",
              "  'title': 'ut numquam possimus omnis eius suscipit laudantium iure',\n",
              "  'userId': 5},\n",
              " {'body': 'voluptatem quisquam iste\\nvoluptatibus natus officiis facilis dolorem\\nquis quas ipsam\\nvel et voluptatum in aliquid',\n",
              "  'id': 46,\n",
              "  'title': 'aut quo modi neque nostrum ducimus',\n",
              "  'userId': 5},\n",
              " {'body': 'voluptatem assumenda ut qui ut cupiditate aut impedit veniam\\noccaecati nemo illum voluptatem laudantium\\nmolestiae beatae rerum ea iure soluta nostrum\\neligendi et voluptate',\n",
              "  'id': 47,\n",
              "  'title': 'quibusdam cumque rem aut deserunt',\n",
              "  'userId': 5},\n",
              " {'body': 'voluptates quo voluptatem facilis iure occaecati\\nvel assumenda rerum officia et\\nillum perspiciatis ab deleniti\\nlaudantium repellat ad ut et autem reprehenderit',\n",
              "  'id': 48,\n",
              "  'title': 'ut voluptatem illum ea doloribus itaque eos',\n",
              "  'userId': 5},\n",
              " {'body': 'inventore ab sint\\nnatus fugit id nulla sequi architecto nihil quaerat\\neos tenetur in in eum veritatis non\\nquibusdam officiis aspernatur cumque aut commodi aut',\n",
              "  'id': 49,\n",
              "  'title': 'laborum non sunt aut ut assumenda perspiciatis voluptas',\n",
              "  'userId': 5},\n",
              " {'body': 'error suscipit maxime adipisci consequuntur recusandae\\nvoluptas eligendi et est et voluptates\\nquia distinctio ab amet quaerat molestiae et vitae\\nadipisci impedit sequi nesciunt quis consectetur',\n",
              "  'id': 50,\n",
              "  'title': 'repellendus qui recusandae incidunt voluptates tenetur qui omnis exercitationem',\n",
              "  'userId': 5},\n",
              " {'body': 'sunt dolores aut doloribus\\ndolore doloribus voluptates tempora et\\ndoloremque et quo\\ncum asperiores sit consectetur dolorem',\n",
              "  'id': 51,\n",
              "  'title': 'soluta aliquam aperiam consequatur illo quis voluptas',\n",
              "  'userId': 6},\n",
              " {'body': 'iusto est quibusdam fuga quas quaerat molestias\\na enim ut sit accusamus enim\\ntemporibus iusto accusantium provident architecto\\nsoluta esse reprehenderit qui laborum',\n",
              "  'id': 52,\n",
              "  'title': 'qui enim et consequuntur quia animi quis voluptate quibusdam',\n",
              "  'userId': 6},\n",
              " {'body': 'minima harum praesentium eum rerum illo dolore\\nquasi exercitationem rerum nam\\nporro quis neque quo\\nconsequatur minus dolor quidem veritatis sunt non explicabo similique',\n",
              "  'id': 53,\n",
              "  'title': 'ut quo aut ducimus alias',\n",
              "  'userId': 6},\n",
              " {'body': 'totam corporis dignissimos\\nvitae dolorem ut occaecati accusamus\\nex velit deserunt\\net exercitationem vero incidunt corrupti mollitia',\n",
              "  'id': 54,\n",
              "  'title': 'sit asperiores ipsam eveniet odio non quia',\n",
              "  'userId': 6},\n",
              " {'body': 'debitis excepturi ea perferendis harum libero optio\\neos accusamus cum fuga ut sapiente repudiandae\\net ut incidunt omnis molestiae\\nnihil ut eum odit',\n",
              "  'id': 55,\n",
              "  'title': 'sit vel voluptatem et non libero',\n",
              "  'userId': 6},\n",
              " {'body': 'aut est omnis dolores\\nneque rerum quod ea rerum velit pariatur beatae excepturi\\net provident voluptas corrupti\\ncorporis harum reprehenderit dolores eligendi',\n",
              "  'id': 56,\n",
              "  'title': 'qui et at rerum necessitatibus',\n",
              "  'userId': 6},\n",
              " {'body': 'at pariatur consequuntur earum quidem\\nquo est laudantium soluta voluptatem\\nqui ullam et est\\net cum voluptas voluptatum repellat est',\n",
              "  'id': 57,\n",
              "  'title': 'sed ab est est',\n",
              "  'userId': 6},\n",
              " {'body': 'veniam voluptatum quae adipisci id\\net id quia eos ad et dolorem\\naliquam quo nisi sunt eos impedit error\\nad similique veniam',\n",
              "  'id': 58,\n",
              "  'title': 'voluptatum itaque dolores nisi et quasi',\n",
              "  'userId': 6},\n",
              " {'body': 'perspiciatis et quam ea autem temporibus non voluptatibus qui\\nbeatae a earum officia nesciunt dolores suscipit voluptas et\\nanimi doloribus cum rerum quas et magni\\net hic ut ut commodi expedita sunt',\n",
              "  'id': 59,\n",
              "  'title': 'qui commodi dolor at maiores et quis id accusantium',\n",
              "  'userId': 6},\n",
              " {'body': 'asperiores sunt ab assumenda cumque modi velit\\nqui esse omnis\\nvoluptate et fuga perferendis voluptas\\nillo ratione amet aut et omnis',\n",
              "  'id': 60,\n",
              "  'title': 'consequatur placeat omnis quisquam quia reprehenderit fugit veritatis facere',\n",
              "  'userId': 6},\n",
              " {'body': 'ab nemo optio odio\\ndelectus tenetur corporis similique nobis repellendus rerum omnis facilis\\nvero blanditiis debitis in nesciunt doloribus dicta dolores\\nmagnam minus velit',\n",
              "  'id': 61,\n",
              "  'title': 'voluptatem doloribus consectetur est ut ducimus',\n",
              "  'userId': 7},\n",
              " {'body': 'enim aspernatur illo distinctio quae praesentium\\nbeatae alias amet delectus qui voluptate distinctio\\nodit sint accusantium autem omnis\\nquo molestiae omnis ea eveniet optio',\n",
              "  'id': 62,\n",
              "  'title': 'beatae enim quia vel',\n",
              "  'userId': 7},\n",
              " {'body': 'enim adipisci aspernatur nemo\\nnumquam omnis facere dolorem dolor ex quis temporibus incidunt\\nab delectus culpa quo reprehenderit blanditiis asperiores\\naccusantium ut quam in voluptatibus voluptas ipsam dicta',\n",
              "  'id': 63,\n",
              "  'title': 'voluptas blanditiis repellendus animi ducimus error sapiente et suscipit',\n",
              "  'userId': 7},\n",
              " {'body': 'id velit blanditiis\\neum ea voluptatem\\nmolestiae sint occaecati est eos perspiciatis\\nincidunt a error provident eaque aut aut qui',\n",
              "  'id': 64,\n",
              "  'title': 'et fugit quas eum in in aperiam quod',\n",
              "  'userId': 7},\n",
              " {'body': 'voluptatibus ex esse\\nsint explicabo est aliquid cumque adipisci fuga repellat labore\\nmolestiae corrupti ex saepe at asperiores et perferendis\\nnatus id esse incidunt pariatur',\n",
              "  'id': 65,\n",
              "  'title': 'consequatur id enim sunt et et',\n",
              "  'userId': 7},\n",
              " {'body': 'officia veritatis tenetur vero qui itaque\\nsint non ratione\\nsed et ut asperiores iusto eos molestiae nostrum\\nveritatis quibusdam et nemo iusto saepe',\n",
              "  'id': 66,\n",
              "  'title': 'repudiandae ea animi iusto',\n",
              "  'userId': 7},\n",
              " {'body': 'reprehenderit id nostrum\\nvoluptas doloremque pariatur sint et accusantium quia quod aspernatur\\net fugiat amet\\nnon sapiente et consequatur necessitatibus molestiae',\n",
              "  'id': 67,\n",
              "  'title': 'aliquid eos sed fuga est maxime repellendus',\n",
              "  'userId': 7},\n",
              " {'body': 'magnam molestiae perferendis quisquam\\nqui cum reiciendis\\nquaerat animi amet hic inventore\\nea quia deleniti quidem saepe porro velit',\n",
              "  'id': 68,\n",
              "  'title': 'odio quis facere architecto reiciendis optio',\n",
              "  'userId': 7},\n",
              " {'body': 'officiis error culpa consequatur modi asperiores et\\ndolorum assumenda voluptas et vel qui aut vel rerum\\nvoluptatum quisquam perspiciatis quia rerum consequatur totam quas\\nsequi commodi repudiandae asperiores et saepe a',\n",
              "  'id': 69,\n",
              "  'title': 'fugiat quod pariatur odit minima',\n",
              "  'userId': 7},\n",
              " {'body': 'sunt repellendus quae\\nest asperiores aut deleniti esse accusamus repellendus quia aut\\nquia dolorem unde\\neum tempora esse dolore',\n",
              "  'id': 70,\n",
              "  'title': 'voluptatem laborum magni',\n",
              "  'userId': 7},\n",
              " {'body': 'occaecati a doloribus\\niste saepe consectetur placeat eum voluptate dolorem et\\nqui quo quia voluptas\\nrerum ut id enim velit est perferendis',\n",
              "  'id': 71,\n",
              "  'title': 'et iusto veniam et illum aut fuga',\n",
              "  'userId': 8},\n",
              " {'body': 'quam occaecati qui deleniti consectetur\\nconsequatur aut facere quas exercitationem aliquam hic voluptas\\nneque id sunt ut aut accusamus\\nsunt consectetur expedita inventore velit',\n",
              "  'id': 72,\n",
              "  'title': 'sint hic doloribus consequatur eos non id',\n",
              "  'userId': 8},\n",
              " {'body': 'voluptatem cumque tenetur consequatur expedita ipsum nemo quia explicabo\\naut eum minima consequatur\\ntempore cumque quae est et\\net in consequuntur voluptatem voluptates aut',\n",
              "  'id': 73,\n",
              "  'title': 'consequuntur deleniti eos quia temporibus ab aliquid at',\n",
              "  'userId': 8},\n",
              " {'body': 'odit qui et et necessitatibus sint veniam\\nmollitia amet doloremque molestiae commodi similique magnam et quam\\nblanditiis est itaque\\nquo et tenetur ratione occaecati molestiae tempora',\n",
              "  'id': 74,\n",
              "  'title': 'enim unde ratione doloribus quas enim ut sit sapiente',\n",
              "  'userId': 8},\n",
              " {'body': 'commodi non non omnis et voluptas sit\\nautem aut nobis magnam et sapiente voluptatem\\net laborum repellat qui delectus facilis temporibus\\nrerum amet et nemo voluptate expedita adipisci error dolorem',\n",
              "  'id': 75,\n",
              "  'title': 'dignissimos eum dolor ut enim et delectus in',\n",
              "  'userId': 8},\n",
              " {'body': 'ut animi facere\\ntotam iusto tempore\\nmolestiae eum aut et dolorem aperiam\\nquaerat recusandae totam odio',\n",
              "  'id': 76,\n",
              "  'title': 'doloremque officiis ad et non perferendis',\n",
              "  'userId': 8},\n",
              " {'body': 'modi ut in nulla repudiandae dolorum nostrum eos\\naut consequatur omnis\\nut incidunt est omnis iste et quam\\nvoluptates sapiente aliquam asperiores nobis amet corrupti repudiandae provident',\n",
              "  'id': 77,\n",
              "  'title': 'necessitatibus quasi exercitationem odio',\n",
              "  'userId': 8},\n",
              " {'body': 'nobis facilis odit tempore cupiditate quia\\nassumenda doloribus rerum qui ea\\nillum et qui totam\\naut veniam repellendus',\n",
              "  'id': 78,\n",
              "  'title': 'quam voluptatibus rerum veritatis',\n",
              "  'userId': 8},\n",
              " {'body': 'libero accusantium et et facere incidunt sit dolorem\\nnon excepturi qui quia sed laudantium\\nquisquam molestiae ducimus est\\nofficiis esse molestiae iste et quos',\n",
              "  'id': 79,\n",
              "  'title': 'pariatur consequatur quia magnam autem omnis non amet',\n",
              "  'userId': 8},\n",
              " {'body': 'ex quod dolorem ea eum iure qui provident amet\\nquia qui facere excepturi et repudiandae\\nasperiores molestias provident\\nminus incidunt vero fugit rerum sint sunt excepturi provident',\n",
              "  'id': 80,\n",
              "  'title': 'labore in ex et explicabo corporis aut quas',\n",
              "  'userId': 8},\n",
              " {'body': 'facere qui nesciunt est voluptatum voluptatem nisi\\nsequi eligendi necessitatibus ea at rerum itaque\\nharum non ratione velit laboriosam quis consequuntur\\nex officiis minima doloremque voluptas ut aut',\n",
              "  'id': 81,\n",
              "  'title': 'tempora rem veritatis voluptas quo dolores vero',\n",
              "  'userId': 9},\n",
              " {'body': 'ut libero sit aut totam inventore sunt\\nporro sint qui sunt molestiae\\nconsequatur cupiditate qui iste ducimus adipisci\\ndolor enim assumenda soluta laboriosam amet iste delectus hic',\n",
              "  'id': 82,\n",
              "  'title': 'laudantium voluptate suscipit sunt enim enim',\n",
              "  'userId': 9},\n",
              " {'body': 'est molestiae facilis quis tempora numquam nihil qui\\nvoluptate sapiente consequatur est qui\\nnecessitatibus autem aut ipsa aperiam modi dolore numquam\\nreprehenderit eius rem quibusdam',\n",
              "  'id': 83,\n",
              "  'title': 'odit et voluptates doloribus alias odio et',\n",
              "  'userId': 9},\n",
              " {'body': 'sint molestiae magni a et quos\\neaque et quasi\\nut rerum debitis similique veniam\\nrecusandae dignissimos dolor incidunt consequatur odio',\n",
              "  'id': 84,\n",
              "  'title': 'optio ipsam molestias necessitatibus occaecati facilis veritatis dolores aut',\n",
              "  'userId': 9},\n",
              " {'body': 'similique sed nisi voluptas iusto omnis\\nmollitia et quo\\nassumenda suscipit officia magnam sint sed tempora\\nenim provident pariatur praesentium atque animi amet ratione',\n",
              "  'id': 85,\n",
              "  'title': 'dolore veritatis porro provident adipisci blanditiis et sunt',\n",
              "  'userId': 9},\n",
              " {'body': 'quasi excepturi consequatur iste autem temporibus sed molestiae beatae\\net quaerat et esse ut\\nvoluptatem occaecati et vel explicabo autem\\nasperiores pariatur deserunt optio',\n",
              "  'id': 86,\n",
              "  'title': 'placeat quia et porro iste',\n",
              "  'userId': 9},\n",
              " {'body': 'eos et molestiae\\nnesciunt ut a\\ndolores perspiciatis repellendus repellat aliquid\\nmagnam sint rem ipsum est',\n",
              "  'id': 87,\n",
              "  'title': 'nostrum quis quasi placeat',\n",
              "  'userId': 9},\n",
              " {'body': 'consequatur omnis est praesentium\\nducimus non iste\\nneque hic deserunt\\nvoluptatibus veniam cum et rerum sed',\n",
              "  'id': 88,\n",
              "  'title': 'sapiente omnis fugit eos',\n",
              "  'userId': 9},\n",
              " {'body': 'repellat aut aperiam totam temporibus autem et\\narchitecto magnam ut\\nconsequatur qui cupiditate rerum quia soluta dignissimos nihil iure\\ntempore quas est',\n",
              "  'id': 89,\n",
              "  'title': 'sint soluta et vel magnam aut ut sed qui',\n",
              "  'userId': 9},\n",
              " {'body': 'minus omnis soluta quia\\nqui sed adipisci voluptates illum ipsam voluptatem\\neligendi officia ut in\\neos soluta similique molestias praesentium blanditiis',\n",
              "  'id': 90,\n",
              "  'title': 'ad iusto omnis odit dolor voluptatibus',\n",
              "  'userId': 9},\n",
              " {'body': 'libero voluptate eveniet aperiam sed\\nsunt placeat suscipit molestias\\nsimilique fugit nam natus\\nexpedita consequatur consequatur dolores quia eos et placeat',\n",
              "  'id': 91,\n",
              "  'title': 'aut amet sed',\n",
              "  'userId': 10},\n",
              " {'body': 'aut et excepturi dicta laudantium sint rerum nihil\\nlaudantium et at\\na neque minima officia et similique libero et\\ncommodi voluptate qui',\n",
              "  'id': 92,\n",
              "  'title': 'ratione ex tenetur perferendis',\n",
              "  'userId': 10},\n",
              " {'body': 'dolorem quibusdam ducimus consequuntur dicta aut quo laboriosam\\nvoluptatem quis enim recusandae ut sed sunt\\nnostrum est odit totam\\nsit error sed sunt eveniet provident qui nulla',\n",
              "  'id': 93,\n",
              "  'title': 'beatae soluta recusandae',\n",
              "  'userId': 10},\n",
              " {'body': 'aspernatur expedita soluta quo ab ut similique\\nexpedita dolores amet\\nsed temporibus distinctio magnam saepe deleniti\\nomnis facilis nam ipsum natus sint similique omnis',\n",
              "  'id': 94,\n",
              "  'title': 'qui qui voluptates illo iste minima',\n",
              "  'userId': 10},\n",
              " {'body': 'earum voluptatem facere provident blanditiis velit laboriosam\\npariatur accusamus odio saepe\\ncumque dolor qui a dicta ab doloribus consequatur omnis\\ncorporis cupiditate eaque assumenda ad nesciunt',\n",
              "  'id': 95,\n",
              "  'title': 'id minus libero illum nam ad officiis',\n",
              "  'userId': 10},\n",
              " {'body': 'in non odio excepturi sint eum\\nlabore voluptates vitae quia qui et\\ninventore itaque rerum\\nveniam non exercitationem delectus aut',\n",
              "  'id': 96,\n",
              "  'title': 'quaerat velit veniam amet cupiditate aut numquam ut sequi',\n",
              "  'userId': 10},\n",
              " {'body': 'eum non blanditiis soluta porro quibusdam voluptas\\nvel voluptatem qui placeat dolores qui velit aut\\nvel inventore aut cumque culpa explicabo aliquid at\\nperspiciatis est et voluptatem dignissimos dolor itaque sit nam',\n",
              "  'id': 97,\n",
              "  'title': 'quas fugiat ut perspiciatis vero provident',\n",
              "  'userId': 10},\n",
              " {'body': 'doloremque ex facilis sit sint culpa\\nsoluta assumenda eligendi non ut eius\\nsequi ducimus vel quasi\\nveritatis est dolores',\n",
              "  'id': 98,\n",
              "  'title': 'laboriosam dolor voluptates',\n",
              "  'userId': 10},\n",
              " {'body': 'quo deleniti praesentium dicta non quod\\naut est molestias\\nmolestias et officia quis nihil\\nitaque dolorem quia',\n",
              "  'id': 99,\n",
              "  'title': 'temporibus sit alias delectus eligendi possimus magni',\n",
              "  'userId': 10},\n",
              " {'body': 'cupiditate quo est a modi nesciunt soluta\\nipsa voluptas error itaque dicta in\\nautem qui minus magnam et distinctio eum\\naccusamus ratione error aut',\n",
              "  'id': 100,\n",
              "  'title': 'at nam consequatur ea labore ea harum',\n",
              "  'userId': 10}]"
            ]
          },
          "metadata": {},
          "execution_count": 101
        }
      ]
    }
  ]
}