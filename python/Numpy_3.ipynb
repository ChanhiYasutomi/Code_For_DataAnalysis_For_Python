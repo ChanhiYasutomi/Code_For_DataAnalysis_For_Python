{
  "nbformat": 4,
  "nbformat_minor": 0,
  "metadata": {
    "colab": {
      "name": "Numpy_3.ipynb",
      "provenance": [],
      "collapsed_sections": []
    },
    "kernelspec": {
      "name": "python3",
      "display_name": "Python 3"
    },
    "language_info": {
      "name": "python"
    }
  },
  "cells": [
    {
      "cell_type": "markdown",
      "source": [
        "#基本的なn次元配列の生成 (zeros, ones, arange関数）"
      ],
      "metadata": {
        "id": "kP2Yw1nfj6CI"
      }
    },
    {
      "cell_type": "code",
      "execution_count": 1,
      "metadata": {
        "id": "S-AwEU1-Y0Vm"
      },
      "outputs": [],
      "source": [
        "# NumPyは科学技術計算のための基本モジュールであり，リストに似た配列を扱う．\n",
        "\n",
        "# リストとの違いは：\n",
        "# 1,サイズが変更できない．\n",
        "# 2,同じ種類のものしか保管できない（既定値は浮動小数点数）．\n",
        "\n",
        "# zerosは0が入ったベクトルや行列を生成するための関数である． \n",
        "# 引数は形状（shape:配列の大きさ）で返値はNumPyのndarray（n次元配列）オブジェクトである．"
      ]
    },
    {
      "cell_type": "code",
      "source": [
        "import numpy as np"
      ],
      "metadata": {
        "id": "LH19VoDtiF8o"
      },
      "execution_count": 2,
      "outputs": []
    },
    {
      "cell_type": "code",
      "source": [
        "# np.zeros(配列の大きさ)\n",
        "z = np.zeros(5)  #一次元,長さ5の0ベクトルを生成\n",
        "# z = np.zeros(配列の大きさ)\n",
        "z # 返り値 -> ndarray（n次元配列）オブジェクト"
      ],
      "metadata": {
        "colab": {
          "base_uri": "https://localhost:8080/"
        },
        "id": "v0tzH2tfiHJ7",
        "outputId": "b3738477-02d2-4d38-b285-207eb0b1208a"
      },
      "execution_count": 3,
      "outputs": [
        {
          "output_type": "execute_result",
          "data": {
            "text/plain": [
              "array([0., 0., 0., 0., 0.])"
            ]
          },
          "metadata": {},
          "execution_count": 3
        }
      ]
    },
    {
      "cell_type": "code",
      "source": [
        "e = np.ones(10)  #一次元,長さ10の単位ベクトル\n",
        "e"
      ],
      "metadata": {
        "colab": {
          "base_uri": "https://localhost:8080/"
        },
        "id": "f7p1k5cBiLeW",
        "outputId": "2417a0a7-57a0-4984-ac60-12307f1566de"
      },
      "execution_count": 4,
      "outputs": [
        {
          "output_type": "execute_result",
          "data": {
            "text/plain": [
              "array([1., 1., 1., 1., 1., 1., 1., 1., 1., 1.])"
            ]
          },
          "metadata": {},
          "execution_count": 4
        }
      ]
    },
    {
      "cell_type": "code",
      "source": [
        "# 0,1,2,⋯,n−1 の数列はarange関数で生成できる．これはPython標準のrange関数に相当する．\n",
        "\n",
        "# n 行 m 列の行列を生成するためには，引数をタプル (n,m)とすれば良い．\n",
        "\n",
        "seq = np.arange(10) #0,1,2,...9 の数列,0以上10未満の整数\n",
        "seq"
      ],
      "metadata": {
        "colab": {
          "base_uri": "https://localhost:8080/"
        },
        "id": "hCg85oLEiMkc",
        "outputId": "333d5a3a-eade-42fe-efa7-2ef4ad234c72"
      },
      "execution_count": 5,
      "outputs": [
        {
          "output_type": "execute_result",
          "data": {
            "text/plain": [
              "array([0, 1, 2, 3, 4, 5, 6, 7, 8, 9])"
            ]
          },
          "metadata": {},
          "execution_count": 5
        }
      ]
    },
    {
      "cell_type": "code",
      "source": [
        "Z = np.zeros((2,2)) #2行2列の0行列を生成；np.zeros((行,列))\n",
        "Z"
      ],
      "metadata": {
        "colab": {
          "base_uri": "https://localhost:8080/"
        },
        "id": "r7r4vi2IiS5S",
        "outputId": "a3427940-7ed7-4e6d-f8f0-d3b2ea4a8145"
      },
      "execution_count": 6,
      "outputs": [
        {
          "output_type": "execute_result",
          "data": {
            "text/plain": [
              "array([[0., 0.],\n",
              "       [0., 0.]])"
            ]
          },
          "metadata": {},
          "execution_count": 6
        }
      ]
    },
    {
      "cell_type": "code",
      "source": [
        "# 行列 A の i 行 j 列の要素は，A[i,j] でアクセスでき，代入も可能である．\n",
        "# （Pythonではインデックスは0から始まることに注意．）\n",
        "# たとえば，3×3 の単位行列は最初に3×3 の 0 行列を作って，後から対角成分に 1 を代入することにより生成することができる．\n",
        "\n",
        "I = np.zeros((3,3)) \n",
        "I[0,0] =1. \n",
        "I[1,1] =1. \n",
        "I[2,2] =1.\n",
        "I"
      ],
      "metadata": {
        "colab": {
          "base_uri": "https://localhost:8080/"
        },
        "id": "oNrpK32IiWUy",
        "outputId": "7dd53fab-80fa-48a3-e8b5-50664c841591"
      },
      "execution_count": 7,
      "outputs": [
        {
          "output_type": "execute_result",
          "data": {
            "text/plain": [
              "array([[1., 0., 0.],\n",
              "       [0., 1., 0.],\n",
              "       [0., 0., 1.]])"
            ]
          },
          "metadata": {},
          "execution_count": 7
        }
      ]
    },
    {
      "cell_type": "code",
      "source": [
        "# 実は単位行列はeye関数を使えば1行で生成できる．\n",
        "I = np.eye(3)\n",
        "I"
      ],
      "metadata": {
        "colab": {
          "base_uri": "https://localhost:8080/"
        },
        "id": "4mmXjHnwibWY",
        "outputId": "ff8ed018-c7d1-4c32-a2c0-b2a5d1686064"
      },
      "execution_count": 8,
      "outputs": [
        {
          "output_type": "execute_result",
          "data": {
            "text/plain": [
              "array([[1., 0., 0.],\n",
              "       [0., 1., 0.],\n",
              "       [0., 0., 1.]])"
            ]
          },
          "metadata": {},
          "execution_count": 8
        }
      ]
    },
    {
      "cell_type": "code",
      "source": [
        "# もしくは，以下のようにfor文による反復を用いた方が，より一般的である．\n",
        "I = np.zeros((3,3))  \n",
        "for i in range(3): \n",
        "    I[i,i]=1.0\n",
        "I"
      ],
      "metadata": {
        "colab": {
          "base_uri": "https://localhost:8080/"
        },
        "id": "5BYbyMaWigy2",
        "outputId": "f63f3fda-cca3-42bb-851c-52262e6cb0e1"
      },
      "execution_count": 9,
      "outputs": [
        {
          "output_type": "execute_result",
          "data": {
            "text/plain": [
              "array([[1., 0., 0.],\n",
              "       [0., 1., 0.],\n",
              "       [0., 0., 1.]])"
            ]
          },
          "metadata": {},
          "execution_count": 9
        }
      ]
    },
    {
      "cell_type": "code",
      "source": [
        "#  問題1\n",
        "# 長さ 10の 1が並んだベクトルを生成せよ．\n",
        "np.ones(10)"
      ],
      "metadata": {
        "id": "V8nzRQdBiiIy",
        "colab": {
          "base_uri": "https://localhost:8080/"
        },
        "outputId": "b03ef254-32b8-47fe-d12b-5d5ff103e99e"
      },
      "execution_count": 10,
      "outputs": [
        {
          "output_type": "execute_result",
          "data": {
            "text/plain": [
              "array([1., 1., 1., 1., 1., 1., 1., 1., 1., 1.])"
            ]
          },
          "metadata": {},
          "execution_count": 10
        }
      ]
    },
    {
      "cell_type": "code",
      "source": [
        "#  問題2\n",
        "# 3 行 4 列の 1 だけが入った行列を生成せよ．\n",
        "b = np.ones((3,4))\n",
        "print(b.shape)\n",
        "print(b)"
      ],
      "metadata": {
        "id": "_HYm6l5qipv6",
        "colab": {
          "base_uri": "https://localhost:8080/"
        },
        "outputId": "190031ac-3d0a-4cb0-97ca-ed3dc52a7225"
      },
      "execution_count": 11,
      "outputs": [
        {
          "output_type": "stream",
          "name": "stdout",
          "text": [
            "(3, 4)\n",
            "[[1. 1. 1. 1.]\n",
            " [1. 1. 1. 1.]\n",
            " [1. 1. 1. 1.]]\n"
          ]
        }
      ]
    },
    {
      "cell_type": "code",
      "source": [
        "#  問題3\n",
        "# (0,1), (1,2), (2,0) の成分だけが 1で，他の要素が 0の 3×3 行列を生成せよ．\n",
        "\n",
        "a = np.zeros((3,3))\n",
        "a[0,1]=1\n",
        "a[1,2]=1\n",
        "a[2,0]=1\n",
        "print(a.shape)\n",
        "print(a)"
      ],
      "metadata": {
        "id": "QCDl_UF3ipxb",
        "colab": {
          "base_uri": "https://localhost:8080/"
        },
        "outputId": "420285d0-11f1-44aa-bc0b-2a02367576ab"
      },
      "execution_count": 12,
      "outputs": [
        {
          "output_type": "stream",
          "name": "stdout",
          "text": [
            "(3, 3)\n",
            "[[0. 1. 0.]\n",
            " [0. 0. 1.]\n",
            " [1. 0. 0.]]\n"
          ]
        }
      ]
    },
    {
      "cell_type": "code",
      "source": [
        "#  問題4\n",
        "# i 行，i+1 列だけ 1 で，他の要素が 0 の 10×10 行列を生成せよ． （ただし最後の行はすべて 0である．）\n",
        "c=np.zeros((10,10))\n",
        "for i in range(10):\n",
        "    c[i,i]=1\n",
        "    \n",
        "print(c.shape)\n",
        "print(c)"
      ],
      "metadata": {
        "id": "3XrbbGMAipzJ",
        "colab": {
          "base_uri": "https://localhost:8080/"
        },
        "outputId": "3da5e33d-057d-472f-fec3-4eb2a8a6df56"
      },
      "execution_count": 13,
      "outputs": [
        {
          "output_type": "stream",
          "name": "stdout",
          "text": [
            "(10, 10)\n",
            "[[1. 0. 0. 0. 0. 0. 0. 0. 0. 0.]\n",
            " [0. 1. 0. 0. 0. 0. 0. 0. 0. 0.]\n",
            " [0. 0. 1. 0. 0. 0. 0. 0. 0. 0.]\n",
            " [0. 0. 0. 1. 0. 0. 0. 0. 0. 0.]\n",
            " [0. 0. 0. 0. 1. 0. 0. 0. 0. 0.]\n",
            " [0. 0. 0. 0. 0. 1. 0. 0. 0. 0.]\n",
            " [0. 0. 0. 0. 0. 0. 1. 0. 0. 0.]\n",
            " [0. 0. 0. 0. 0. 0. 0. 1. 0. 0.]\n",
            " [0. 0. 0. 0. 0. 0. 0. 0. 1. 0.]\n",
            " [0. 0. 0. 0. 0. 0. 0. 0. 0. 1.]]\n"
          ]
        }
      ]
    },
    {
      "cell_type": "markdown",
      "source": [
        "#ベクトルと行列の生成（array関数の使用法）と形状(shape属性)"
      ],
      "metadata": {
        "id": "DwsN4HWNkCsB"
      }
    },
    {
      "cell_type": "code",
      "source": [
        "# 数字を自分で入れたベクトルや行列はNumPyのarray関数で生成できる．\n",
        "# この関数の返値は多次元配列（ndarray:n次元配列）のオブジェクトである．\n",
        "# 引数にリストを入れて，\n",
        "\n",
        "v = np.array([4,5,6]) #これで一次元のベクトル v = (4,5,6) が生成される\n",
        "v #返り値 -> 多次元配列（ndarray:n次元配列）のオブジェクト\n",
        "\n",
        "# [] = 一次元,[[]] = 二次元,[[[]]] = 三次元"
      ],
      "metadata": {
        "colab": {
          "base_uri": "https://localhost:8080/"
        },
        "id": "G3GjXczmk5GF",
        "outputId": "6d26fed4-ad3e-4d51-9fa9-9c9f89eb17e5"
      },
      "execution_count": 14,
      "outputs": [
        {
          "output_type": "execute_result",
          "data": {
            "text/plain": [
              "array([4, 5, 6])"
            ]
          },
          "metadata": {},
          "execution_count": 14
        }
      ]
    },
    {
      "cell_type": "code",
      "source": [
        "# 行列の場合には，行ごとのリストをもう1つのリストで入れ子にすることによって生成される．\n",
        "\n",
        "# たとえば\n",
        "\n",
        "A  = np.array([[1,0,0],\n",
        "               [-1, 1, 0],\n",
        "               [0, -1, 1]])\n",
        "A\n",
        "\n",
        "# とすれば，3 行 3 列の行列 A が生成される．\n",
        "# [] = 一次元,[[]] = 二次元,[[[]]] = 三次元"
      ],
      "metadata": {
        "colab": {
          "base_uri": "https://localhost:8080/"
        },
        "id": "02DQCj2qlCYW",
        "outputId": "5e41083b-dcba-490e-cd97-662fff1eddba"
      },
      "execution_count": 15,
      "outputs": [
        {
          "output_type": "execute_result",
          "data": {
            "text/plain": [
              "array([[ 1,  0,  0],\n",
              "       [-1,  1,  0],\n",
              "       [ 0, -1,  1]])"
            ]
          },
          "metadata": {},
          "execution_count": 15
        }
      ]
    },
    {
      "cell_type": "code",
      "source": [
        "# また，引数dtypeでデータのタイプを指定できる．\n",
        "# 既定値は浮動小数点数であるが，上のようにすべて整数を入れると整数の要素をもつベクトルや配列が生成される．\n",
        "# 浮動小数点数を指定したい場合には，dtype=floatとする．\n",
        "\n",
        "v = np.array( [4,5,6], dtype=float) # array([4.,5.,6.])\n",
        "v"
      ],
      "metadata": {
        "colab": {
          "base_uri": "https://localhost:8080/"
        },
        "id": "IR-UzGFQlGKh",
        "outputId": "57e1afaa-5e28-4706-9248-eaefe29d5cbb"
      },
      "execution_count": 16,
      "outputs": [
        {
          "output_type": "execute_result",
          "data": {
            "text/plain": [
              "array([4., 5., 6.])"
            ]
          },
          "metadata": {},
          "execution_count": 16
        }
      ]
    },
    {
      "cell_type": "code",
      "source": [
        "# NumPyの多次元配列は形状(shape)属性をもつ．\n",
        "# たとえば，上で生成した行列 A の形状は A.shape=(3,3) である．これは3行3列の行列を意味する．\n",
        "\n",
        "# NumPyの多次元配列の形状(shape)はshape属性にタプルを代入することによって変更できる． \n",
        "# ただし要素数(size)の変更はできない\n",
        "# たとえば，行列 A を 1行9列の行列に変更するには，\n",
        "\n",
        "A.shape=(1,9) #A.shape=(1行,9列)\n",
        "# とすれば良い．\n",
        "A"
      ],
      "metadata": {
        "colab": {
          "base_uri": "https://localhost:8080/"
        },
        "id": "7LYkLVyqlLIz",
        "outputId": "134030dc-caa2-4668-8d1e-9cbfa9901d99"
      },
      "execution_count": 17,
      "outputs": [
        {
          "output_type": "execute_result",
          "data": {
            "text/plain": [
              "array([[ 1,  0,  0, -1,  1,  0,  0, -1,  1]])"
            ]
          },
          "metadata": {},
          "execution_count": 17
        }
      ]
    },
    {
      "cell_type": "code",
      "source": [
        "# 上のベクトル v の形状 v.shape はタプル (3,) である．\n",
        "# これは長さ 3 のベクトル（列がない行列）を表す． 1行3 列の行列とは異なることに注意されたい．\n",
        "# 1 行 3 列に変更するには，\n",
        "\n",
        "v.shape=(1,3) # v.shape=(1行,3列)\n",
        "v\n",
        "\n",
        "# とする．よく見ると外側に [] が1つ増えている（元は array( [4, 5, 6] ) だった）．"
      ],
      "metadata": {
        "colab": {
          "base_uri": "https://localhost:8080/"
        },
        "id": "yGpyaUN6lLK2",
        "outputId": "5838ea04-d195-4c9f-f464-ffc95c0009c5"
      },
      "execution_count": 18,
      "outputs": [
        {
          "output_type": "execute_result",
          "data": {
            "text/plain": [
              "array([[4., 5., 6.]])"
            ]
          },
          "metadata": {},
          "execution_count": 18
        }
      ]
    },
    {
      "cell_type": "markdown",
      "source": [
        "![download.png](data:image/png;base64,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)"
      ],
      "metadata": {
        "id": "wZLCElLabWLy"
      }
    },
    {
      "cell_type": "code",
      "source": [
        "x = np.array([\"あ\",\"い\",\"う\",\"え\"])\n",
        "print(x.shape)\n",
        "\n",
        "x = np.array([[\"あ\",\"い\",\"う\",\"え\"]])\n",
        "print(x.shape)\n",
        "\n",
        "x = np.array([[\"あ\"],\n",
        "              [\"い\"],\n",
        "              [\"う\"],\n",
        "              [\"え\"]])\n",
        "\n",
        "print(x.shape)\n",
        "\n",
        "x = np.array([[\"あ\",\"い\"],\n",
        "              [\"う\",\"え\"]])\n",
        "print(x.shape)\n",
        "\n",
        "x = np.array([[[\"あ\"]],\n",
        "              [[\"い\"]],\n",
        "              [[\"う\"]],\n",
        "              [[\"え\"]]])\n",
        "print(x.shape)"
      ],
      "metadata": {
        "colab": {
          "base_uri": "https://localhost:8080/"
        },
        "id": "CjvkuSbAmdCR",
        "outputId": "152ac466-d453-4fbd-e076-0d54d02eb35d"
      },
      "execution_count": 19,
      "outputs": [
        {
          "output_type": "stream",
          "name": "stdout",
          "text": [
            "(4,)\n",
            "(1, 4)\n",
            "(4, 1)\n",
            "(2, 2)\n",
            "(4, 1, 1)\n"
          ]
        }
      ]
    },
    {
      "cell_type": "code",
      "source": [
        "#  問題5\n",
        "# 以下の行列 A を 9 行 1 列の形状に変更せよ．\n",
        "A  = np.array([ [1,0,0], [-1, 1, 0], [0, -1, 1] ])\n",
        "v = np.array( [4,5,6] )\n",
        "\n",
        "print(A.shape)\n",
        "\n",
        "A.shape=(9,1)\n",
        "print(A)"
      ],
      "metadata": {
        "id": "xoQoFQFTip0-",
        "colab": {
          "base_uri": "https://localhost:8080/"
        },
        "outputId": "142026e7-01a0-4b60-b4bd-7630f1da34a9"
      },
      "execution_count": 20,
      "outputs": [
        {
          "output_type": "stream",
          "name": "stdout",
          "text": [
            "(3, 3)\n",
            "[[ 1]\n",
            " [ 0]\n",
            " [ 0]\n",
            " [-1]\n",
            " [ 1]\n",
            " [ 0]\n",
            " [ 0]\n",
            " [-1]\n",
            " [ 1]]\n"
          ]
        }
      ]
    },
    {
      "cell_type": "code",
      "source": [
        "#  問題6\n",
        "# 以下のベクトル v を3 行 1 列の形状に変更せよ．カッコがどのように変更されたか観察せよ．\n",
        "A  = np.array([[1,0,0], [-1, 1, 0], [0, -1, 1]])\n",
        "v = np.array([4,5,6])\n",
        "\n",
        "v.shape=(3,1)\n",
        "print(v.shape)\n",
        "print(v)"
      ],
      "metadata": {
        "id": "NPq78K2tip2x",
        "colab": {
          "base_uri": "https://localhost:8080/"
        },
        "outputId": "17606a6f-54a6-4813-ef92-a2fbfd2301ad"
      },
      "execution_count": 21,
      "outputs": [
        {
          "output_type": "stream",
          "name": "stdout",
          "text": [
            "(3, 1)\n",
            "[[4]\n",
            " [5]\n",
            " [6]]\n"
          ]
        }
      ]
    },
    {
      "cell_type": "code",
      "source": [
        "#  問題7\n",
        "# 以下の行列 A を 4 行 2 列の形状に変更することを試みよ．何が発生するか観察せよ．\n",
        "A  = np.array([[1,0,0], [-1, 1, 0], [0, -1, 1]])\n",
        "v = np.array([4,5,6])\n",
        "\n",
        "A.shape=(4,2) #数が元と相当しないためエラーが起きる"
      ],
      "metadata": {
        "id": "RfkKeQaRip4W",
        "colab": {
          "base_uri": "https://localhost:8080/",
          "height": 236
        },
        "outputId": "2b0743f7-8ae2-4889-9eab-44fa6dbfe290"
      },
      "execution_count": 22,
      "outputs": [
        {
          "output_type": "error",
          "ename": "ValueError",
          "evalue": "ignored",
          "traceback": [
            "\u001b[0;31m---------------------------------------------------------------------------\u001b[0m",
            "\u001b[0;31mValueError\u001b[0m                                Traceback (most recent call last)",
            "\u001b[0;32m<ipython-input-22-0893ba16ff56>\u001b[0m in \u001b[0;36m<module>\u001b[0;34m()\u001b[0m\n\u001b[1;32m      4\u001b[0m \u001b[0mv\u001b[0m \u001b[0;34m=\u001b[0m \u001b[0mnp\u001b[0m\u001b[0;34m.\u001b[0m\u001b[0marray\u001b[0m\u001b[0;34m(\u001b[0m\u001b[0;34m[\u001b[0m\u001b[0;36m4\u001b[0m\u001b[0;34m,\u001b[0m\u001b[0;36m5\u001b[0m\u001b[0;34m,\u001b[0m\u001b[0;36m6\u001b[0m\u001b[0;34m]\u001b[0m\u001b[0;34m)\u001b[0m\u001b[0;34m\u001b[0m\u001b[0;34m\u001b[0m\u001b[0m\n\u001b[1;32m      5\u001b[0m \u001b[0;34m\u001b[0m\u001b[0m\n\u001b[0;32m----> 6\u001b[0;31m \u001b[0mA\u001b[0m\u001b[0;34m.\u001b[0m\u001b[0mshape\u001b[0m\u001b[0;34m=\u001b[0m\u001b[0;34m(\u001b[0m\u001b[0;36m4\u001b[0m\u001b[0;34m,\u001b[0m\u001b[0;36m2\u001b[0m\u001b[0;34m)\u001b[0m \u001b[0;31m#数が元と相当しないためエラーが起きる\u001b[0m\u001b[0;34m\u001b[0m\u001b[0;34m\u001b[0m\u001b[0m\n\u001b[0m",
            "\u001b[0;31mValueError\u001b[0m: cannot reshape array of size 9 into shape (4,2)"
          ]
        }
      ]
    },
    {
      "cell_type": "markdown",
      "source": [
        "#添え字(インデックス）とスライシングと演算"
      ],
      "metadata": {
        "id": "gRtgKevJnFzH"
      }
    },
    {
      "cell_type": "code",
      "source": [
        "# 添え字とスライス表記はリストと同じ．\n",
        "\n",
        "L=[1,2,3,4] \n",
        "print(L[2])     # 3\n",
        "print(L[1:3])   # [2,3]\n",
        "\n",
        "x= np.array([1,2,3,4]) \n",
        "print(x[2])     # 3\n",
        "print(x[1:3])   # array( [2,3] )"
      ],
      "metadata": {
        "colab": {
          "base_uri": "https://localhost:8080/"
        },
        "id": "tXmPW8w6nFXA",
        "outputId": "b73dc7f6-0ee0-4ad8-932c-9ac83ec84f8f"
      },
      "execution_count": 23,
      "outputs": [
        {
          "output_type": "stream",
          "name": "stdout",
          "text": [
            "3\n",
            "[2, 3]\n",
            "3\n",
            "[2 3]\n"
          ]
        }
      ]
    },
    {
      "cell_type": "code",
      "source": [
        "# 加算の結果は異なり，リストは結合，arrayの場合は要素ごとの和になる．(他の演算子に対しても同じである．）\n",
        "a = [1,2,3] + [4,5,6] \n",
        "b = np.array([1,2,3]) + np.array([4,5,6]) \n",
        "\n",
        "print(a)\n",
        "print(b)"
      ],
      "metadata": {
        "colab": {
          "base_uri": "https://localhost:8080/"
        },
        "id": "-jtqrW1YnITS",
        "outputId": "56c15f67-dd25-4283-db5a-c210be32cb58"
      },
      "execution_count": 24,
      "outputs": [
        {
          "output_type": "stream",
          "name": "stdout",
          "text": [
            "[1, 2, 3, 4, 5, 6]\n",
            "[5 7 9]\n"
          ]
        }
      ]
    },
    {
      "cell_type": "code",
      "source": [
        "# NumPyのarray（ベクトル）とスカラーの和は，（後述するブロードキャストが行われ）スカラーをベクトルにコピーした後に和をとり，ベクトルとなる．\n",
        "# (他の演算子に対しても同じである．）\n",
        "a=np.array([1,2,3]) + 1 \n",
        "b=np.array([1,2,3]) * 10 \n",
        "\n",
        "print(a)\n",
        "print(b)"
      ],
      "metadata": {
        "colab": {
          "base_uri": "https://localhost:8080/"
        },
        "id": "U32ATMKJnXMM",
        "outputId": "b3eb91a6-c787-4af7-f64f-a5accdaf3715"
      },
      "execution_count": 25,
      "outputs": [
        {
          "output_type": "stream",
          "name": "stdout",
          "text": [
            "[2 3 4]\n",
            "[10 20 30]\n"
          ]
        }
      ]
    },
    {
      "cell_type": "markdown",
      "source": [
        "![download (1).png](data:image/png;base64,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)"
      ],
      "metadata": {
        "id": "voa47yOubw_7"
      }
    },
    {
      "cell_type": "code",
      "source": [
        "L = np.array([\"あ\", \"い\", \"う\", \"え\", \"お\", \"か\"])\n",
        "\n",
        "print(\"L[1] =\",L[1])\n",
        "print(\"L[-2] =\",L[-2])\n",
        "print(\"L[1:4] =\",L[1:4])\n",
        "print(\"L[:-2:2] =\",L[:-2:2])"
      ],
      "metadata": {
        "colab": {
          "base_uri": "https://localhost:8080/"
        },
        "id": "tHZey2hInk8I",
        "outputId": "92177f83-00c6-430a-a347-1a9b94a14070"
      },
      "execution_count": 26,
      "outputs": [
        {
          "output_type": "stream",
          "name": "stdout",
          "text": [
            "L[1] = い\n",
            "L[-2] = お\n",
            "L[1:4] = ['い' 'う' 'え']\n",
            "L[:-2:2] = ['あ' 'う']\n"
          ]
        }
      ]
    },
    {
      "cell_type": "code",
      "source": [
        "#  問題8\n",
        "# 以下のベクトル x,y の和を計算せよ．\n",
        "x = np.array([1, 2, 3])\n",
        "y = np.array([5, 6, 7]) \n",
        "print(x+y)"
      ],
      "metadata": {
        "id": "GVopLCEFip6S",
        "colab": {
          "base_uri": "https://localhost:8080/"
        },
        "outputId": "097c542b-4b38-456e-c283-2a40d6074c48"
      },
      "execution_count": 27,
      "outputs": [
        {
          "output_type": "stream",
          "name": "stdout",
          "text": [
            "[ 6  8 10]\n"
          ]
        }
      ]
    },
    {
      "cell_type": "code",
      "source": [
        "#  問題9\n",
        "# x の最初の2つの要素と y の最後の2つの要素の和を計算せよ．\n",
        "x = np.array([1, 2, 3])\n",
        "y = np.array([5, 6, 7]) \n",
        "print(x[0:2]+y[1:3])"
      ],
      "metadata": {
        "id": "o20xz3Oqip8P",
        "colab": {
          "base_uri": "https://localhost:8080/"
        },
        "outputId": "e624237b-61ba-4b52-d30c-bd0336cd5a27"
      },
      "execution_count": 28,
      "outputs": [
        {
          "output_type": "stream",
          "name": "stdout",
          "text": [
            "[7 9]\n"
          ]
        }
      ]
    },
    {
      "cell_type": "code",
      "source": [
        "#  問題10\n",
        "# ベクトル x とスカラー 10 との和を計算せよ．\n",
        "x = np.array([1, 2, 3])\n",
        "y = np.array([5, 6, 7]) \n",
        "print(x*10)"
      ],
      "metadata": {
        "id": "v5CCLJCkip90",
        "colab": {
          "base_uri": "https://localhost:8080/"
        },
        "outputId": "ac9e1798-9806-4223-cf35-3289cf2a683b"
      },
      "execution_count": 29,
      "outputs": [
        {
          "output_type": "stream",
          "name": "stdout",
          "text": [
            "[10 20 30]\n"
          ]
        }
      ]
    },
    {
      "cell_type": "code",
      "source": [
        "#  問題11\n",
        "# ベクトル x をスカラー 3 で乗じた値を計算せよ．\n",
        "x = np.array([1, 2, 3])\n",
        "y = np.array([5, 6, 7])\n",
        "\n",
        "print(x**3) "
      ],
      "metadata": {
        "id": "i7ajNtFkip_r",
        "colab": {
          "base_uri": "https://localhost:8080/"
        },
        "outputId": "f7e6ad9f-aed9-4520-c6ce-979a637662ed"
      },
      "execution_count": 30,
      "outputs": [
        {
          "output_type": "stream",
          "name": "stdout",
          "text": [
            "[ 1  8 27]\n"
          ]
        }
      ]
    },
    {
      "cell_type": "code",
      "source": [
        "#  問題12\n",
        "# x と y の積を計算せよ．（内積ではなく，要素ごとの積をとれ．）\n",
        "x = np.array( [1, 2, 3] )\n",
        "y = np.array( [5, 6, 7] ) \n",
        "\n",
        "print(x*y)"
      ],
      "metadata": {
        "id": "qstuyR7riqBg",
        "colab": {
          "base_uri": "https://localhost:8080/"
        },
        "outputId": "ebcd901c-9ccc-451c-a6dd-35659becc8ae"
      },
      "execution_count": 31,
      "outputs": [
        {
          "output_type": "stream",
          "name": "stdout",
          "text": [
            "[ 5 12 21]\n"
          ]
        }
      ]
    },
    {
      "cell_type": "markdown",
      "source": [
        "#行列に対する添え字（インデックス）とスライシングと演算"
      ],
      "metadata": {
        "id": "NvxD5d1CoCVK"
      }
    },
    {
      "cell_type": "code",
      "source": [
        "# 2次元の配列（行列）の添え字は配列[行番号,列場号]でアクセスできる．\n",
        "\n",
        "X = np.array( [[1, 2, 3],\n",
        "               [4, 5, 6],\n",
        "               [7, 8, 9]])\n",
        "X[0,1]   #2"
      ],
      "metadata": {
        "colab": {
          "base_uri": "https://localhost:8080/"
        },
        "id": "20W3ReNZoGiI",
        "outputId": "fbdfad41-bac0-4616-ac47-6401585ccee6"
      },
      "execution_count": 32,
      "outputs": [
        {
          "output_type": "execute_result",
          "data": {
            "text/plain": [
              "2"
            ]
          },
          "metadata": {},
          "execution_count": 32
        }
      ]
    },
    {
      "cell_type": "code",
      "source": [
        "# スライシングはリストのときと同様に，開始番号:終了番号:ステップサイズ で開始番号から終了番号 -1 まで刻み幅（==ステップサイズ）で切り出しを行う．\n",
        "# 行と列に対して別々に切り出しを行うことができる．たとえば，すべての行(:)と1列目を指定すると，1列目だけを切り出すことができる．\n",
        "a=X[:,1]\n",
        "a"
      ],
      "metadata": {
        "colab": {
          "base_uri": "https://localhost:8080/"
        },
        "id": "vGsZ5mzeoIki",
        "outputId": "916b588d-e200-47f5-b436-182935d4f1e1"
      },
      "execution_count": 33,
      "outputs": [
        {
          "output_type": "execute_result",
          "data": {
            "text/plain": [
              "array([2, 5, 8])"
            ]
          },
          "metadata": {},
          "execution_count": 33
        }
      ]
    },
    {
      "cell_type": "code",
      "source": [
        "# 同様に1行目だけを切り出すには，\n",
        "\n",
        "X[1,:]  #X[1] としても同じ！  array([4, 5, 6]) を返す．\n",
        "# とする．"
      ],
      "metadata": {
        "colab": {
          "base_uri": "https://localhost:8080/"
        },
        "id": "H2G2KAHIoImc",
        "outputId": "1936db1c-d90c-4761-b7e3-9e585a9bab49"
      },
      "execution_count": 34,
      "outputs": [
        {
          "output_type": "execute_result",
          "data": {
            "text/plain": [
              "array([4, 5, 6])"
            ]
          },
          "metadata": {},
          "execution_count": 34
        }
      ]
    },
    {
      "cell_type": "code",
      "source": [
        "# 演算もベクトルと同様に行われる．スカラーに対する演算は，後述するブロードキャスト（同じ大きさになるようにコピーしてから演算）が行われる．"
      ],
      "metadata": {
        "id": "PnTZoxXZoIqV"
      },
      "execution_count": 35,
      "outputs": []
    },
    {
      "cell_type": "markdown",
      "source": [
        "![download (2).png](data:image/png;base64,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)"
      ],
      "metadata": {
        "id": "MWxxiqKyb_Yx"
      }
    },
    {
      "cell_type": "code",
      "source": [
        "X = np.array(\n",
        "    [ [\"あ\", \"い\", \"う\", \"え\", \"お\"],\n",
        "      [\"か\", \"き\", \"く\", \"け\", \"こ\"],\n",
        "      [\"さ\", \"し\", \"す\", \"せ\", \"そ\"] ] )\n",
        "  \n",
        "print(\"X[0,1] =\",X[0,1])\n",
        "print(\"X[:, 1] =\",X[:, 1])\n",
        "print(\"X[1, 2:4] =\",X[1, 2:4])\n",
        "print(\"X[1:, 1:] =\",X[1:, 1:])\n",
        "print(X[::2,:1]) #(X[0::2,0:1]) - (ステップ2(行),0列まで(列))\n",
        "print(X[::2,1::2])  #(X[0::2,1::2]) "
      ],
      "metadata": {
        "colab": {
          "base_uri": "https://localhost:8080/"
        },
        "id": "7kPH2MA2oIsq",
        "outputId": "2304213e-fe90-4610-83a3-c59e7ab8d805"
      },
      "execution_count": 36,
      "outputs": [
        {
          "output_type": "stream",
          "name": "stdout",
          "text": [
            "X[0,1] = い\n",
            "X[:, 1] = ['い' 'き' 'し']\n",
            "X[1, 2:4] = ['く' 'け']\n",
            "X[1:, 1:] = [['き' 'く' 'け' 'こ']\n",
            " ['し' 'す' 'せ' 'そ']]\n",
            "[['あ']\n",
            " ['さ']]\n",
            "[['い' 'え']\n",
            " ['し' 'せ']]\n"
          ]
        }
      ]
    },
    {
      "cell_type": "code",
      "source": [
        "#  問題13\n",
        "# 行列 X の2行1列目の要素を出力せよ．\n",
        "X = np.array( [[1, 2, 3],\n",
        "               [4, 5, 6],\n",
        "               [7, 8, 9]])\n",
        "\n",
        "Y = np.ones((3,3)) \n",
        "\n",
        "print(X[1,1])"
      ],
      "metadata": {
        "id": "NEJHoay6iqDC",
        "colab": {
          "base_uri": "https://localhost:8080/"
        },
        "outputId": "0716f045-3257-4801-9e76-15a9be3c51b7"
      },
      "execution_count": 37,
      "outputs": [
        {
          "output_type": "stream",
          "name": "stdout",
          "text": [
            "5\n"
          ]
        }
      ]
    },
    {
      "cell_type": "code",
      "source": [
        "#  問題14\n",
        "# 行列 X の2行目だけを切り出せ．\n",
        "X = np.array( [[1, 2, 3],\n",
        "               [4, 5, 6],\n",
        "               [7, 8, 9]])\n",
        "\n",
        "Y = np.ones((3,3)) \n",
        "\n",
        "print(X[2,:])"
      ],
      "metadata": {
        "id": "RKgX3NE0iqE3",
        "colab": {
          "base_uri": "https://localhost:8080/"
        },
        "outputId": "019c6e84-b9e0-4bc6-e95f-5f1759f564fe"
      },
      "execution_count": 38,
      "outputs": [
        {
          "output_type": "stream",
          "name": "stdout",
          "text": [
            "[7 8 9]\n"
          ]
        }
      ]
    },
    {
      "cell_type": "code",
      "source": [
        "#  問題15\n",
        "# 行列 X の0から1行と1から2列から成る部分行列 [[2,3], [5,6]] を切り出せ．\n",
        "X = np.array( [[1, 2, 3],\n",
        "               [4, 5, 6],\n",
        "               [7, 8, 9]])\n",
        "\n",
        "Y = np.ones((3,3)) \n",
        "print(X[0:2,1:3])"
      ],
      "metadata": {
        "id": "HLYZTQEqiqGs",
        "colab": {
          "base_uri": "https://localhost:8080/"
        },
        "outputId": "9e09f185-ca2f-41d7-ae47-15dcee8d1ebb"
      },
      "execution_count": 39,
      "outputs": [
        {
          "output_type": "stream",
          "name": "stdout",
          "text": [
            "[[2 3]\n",
            " [5 6]]\n"
          ]
        }
      ]
    },
    {
      "cell_type": "code",
      "source": [
        "#  問題16\n",
        "# 行列 X の0行目と2行目，0列目と2列目から成る部分行列 [[1,3][7,9]]を切り出せ．\n",
        "X = np.array( [[1, 2, 3],\n",
        "               [4, 5, 6],\n",
        "               [7, 8, 9]])\n",
        "\n",
        "Y = np.ones((3,3)) \n",
        "\n",
        "print(X[::2,::2]) #X[0::2,0::2] - 行の0から2つ飛ばし, 列の0から2つ飛ばし"
      ],
      "metadata": {
        "id": "Q20GmmPBj-hG",
        "colab": {
          "base_uri": "https://localhost:8080/"
        },
        "outputId": "f63d1b52-7148-4ded-884b-c52c1594411d"
      },
      "execution_count": 40,
      "outputs": [
        {
          "output_type": "stream",
          "name": "stdout",
          "text": [
            "[[1 3]\n",
            " [7 9]]\n"
          ]
        }
      ]
    },
    {
      "cell_type": "code",
      "source": [
        "#  問題17\n",
        "# X と Y の和を求めよ．\n",
        "X = np.array( [[1, 2, 3],\n",
        "               [4, 5, 6],\n",
        "               [7, 8, 9]])\n",
        "\n",
        "Y = np.ones((3,3)) \n",
        "\n",
        "print(X+Y)"
      ],
      "metadata": {
        "id": "jhjoGqHbj-iY",
        "colab": {
          "base_uri": "https://localhost:8080/"
        },
        "outputId": "ff83cb4d-f78a-49aa-ddbb-faebbe8e8108"
      },
      "execution_count": 41,
      "outputs": [
        {
          "output_type": "stream",
          "name": "stdout",
          "text": [
            "[[ 2.  3.  4.]\n",
            " [ 5.  6.  7.]\n",
            " [ 8.  9. 10.]]\n"
          ]
        }
      ]
    },
    {
      "cell_type": "code",
      "source": [
        "#  問題18\n",
        "# X と Y の積を求めよ．また X とスカラー 1 の積，ベクトル (1,1,1) との積と較べてみよ．\n",
        "X = np.array( [[1, 2, 3],\n",
        "               [4, 5, 6],\n",
        "               [7, 8, 9]])\n",
        "\n",
        "Y = np.ones((3,3)) \n",
        "\n",
        "print(X*Y)\n",
        "print(X*1)\n",
        "\n",
        "a=np.ones(3,dtype=int)\n",
        "print(a*1)"
      ],
      "metadata": {
        "id": "FmK0LQh2j-kP",
        "colab": {
          "base_uri": "https://localhost:8080/"
        },
        "outputId": "878e616e-b0cf-4c14-ae01-4779556ac3aa"
      },
      "execution_count": 42,
      "outputs": [
        {
          "output_type": "stream",
          "name": "stdout",
          "text": [
            "[[1. 2. 3.]\n",
            " [4. 5. 6.]\n",
            " [7. 8. 9.]]\n",
            "[[1 2 3]\n",
            " [4 5 6]\n",
            " [7 8 9]]\n",
            "[1 1 1]\n"
          ]
        }
      ]
    },
    {
      "cell_type": "code",
      "source": [
        "# 行列 A を以下のように生成せよ．\n",
        "A = np.arange(25)\n",
        "A.shape = (5,5)\n",
        "print(A)\n",
        "\n",
        "# 問題20\n",
        "# 行列 A から\n",
        "# array([[ 5,  7,  9],\n",
        "#     [20, 22, 24]])\n",
        "\n",
        "# を．1行で切り出せ． \n",
        "print(A[1::3,0::2])"
      ],
      "metadata": {
        "id": "qvh81g5Ej-n2",
        "colab": {
          "base_uri": "https://localhost:8080/"
        },
        "outputId": "7dc487e1-40a6-4eb9-ff3b-544935c22956"
      },
      "execution_count": 43,
      "outputs": [
        {
          "output_type": "stream",
          "name": "stdout",
          "text": [
            "[[ 0  1  2  3  4]\n",
            " [ 5  6  7  8  9]\n",
            " [10 11 12 13 14]\n",
            " [15 16 17 18 19]\n",
            " [20 21 22 23 24]]\n",
            "[[ 5  7  9]\n",
            " [20 22 24]]\n"
          ]
        }
      ]
    },
    {
      "cell_type": "code",
      "source": [
        "# 問題21\n",
        "A = np.arange(25)\n",
        "A.shape = (5,5)\n",
        "print(A)\n",
        "\n",
        "# 行列 A から\n",
        "# array([[ 0,  2],\n",
        "#     [10, 12],\n",
        "#     [20, 22]])\n",
        "\n",
        "# を．1行で切り出せ　\n",
        "\n",
        "# -(引き算) or +(足し算) で求まる．\n",
        "print(A[0::2,0::2]) "
      ],
      "metadata": {
        "colab": {
          "base_uri": "https://localhost:8080/"
        },
        "id": "QrCVhYaaQXSR",
        "outputId": "77a04932-c46d-4ba1-8740-5716efcabe7e"
      },
      "execution_count": 44,
      "outputs": [
        {
          "output_type": "stream",
          "name": "stdout",
          "text": [
            "[[ 0  1  2  3  4]\n",
            " [ 5  6  7  8  9]\n",
            " [10 11 12 13 14]\n",
            " [15 16 17 18 19]\n",
            " [20 21 22 23 24]]\n",
            "[[ 0  2  4]\n",
            " [10 12 14]\n",
            " [20 22 24]]\n"
          ]
        }
      ]
    },
    {
      "cell_type": "markdown",
      "source": [
        "#ユニバーサル関数"
      ],
      "metadata": {
        "id": "5LEtpeBApTOq"
      }
    },
    {
      "cell_type": "code",
      "source": [
        "# NumPyの以下の関数はユニバーサル関数である．\n",
        "\n",
        "# 1,Arithmetic Operators: + - * / // % **\n",
        "# 2,itwise Operators: & | ~ ^ >> <<\n",
        "# 3,Comparison Oper’s: < > <= >= == !=\n",
        "# 4,Trig Family: np.sin, np.cos, np.tan ...\n",
        "# 5,Exponential Family: np.exp, np.log, np.log10 ...\n",
        "\n",
        "# これらを用いることによって多次元配列の各要素に対する演算を高速に行うことができる．\n",
        "# たとえば，0から10000-1の整数の配列に対して，すべての要素に 5 を加えるには，以下のようにする．\n",
        "\n",
        "x = np.arange(10000) #0から10000-1の整数の配列を生成\n",
        "print(x+5) # スカラーを加えると後述のブロードキャストによって全ての要素にスカラーが足される"
      ],
      "metadata": {
        "colab": {
          "base_uri": "https://localhost:8080/"
        },
        "id": "SIOCx6zYpX2N",
        "outputId": "5152ca9a-548a-48a3-dfe0-97a502a2ef4c"
      },
      "execution_count": 45,
      "outputs": [
        {
          "output_type": "stream",
          "name": "stdout",
          "text": [
            "[    5     6     7 ... 10002 10003 10004]\n"
          ]
        }
      ]
    },
    {
      "cell_type": "code",
      "source": [
        "# 同じ配列に対して平方根をとるには，\n",
        "np.sqrt(x)\n",
        "# とする"
      ],
      "metadata": {
        "colab": {
          "base_uri": "https://localhost:8080/"
        },
        "id": "TYLXpOsBphIO",
        "outputId": "35667f10-1df7-42a3-c55d-0460330fa523"
      },
      "execution_count": 46,
      "outputs": [
        {
          "output_type": "execute_result",
          "data": {
            "text/plain": [
              "array([ 0.        ,  1.        ,  1.41421356, ..., 99.98499887,\n",
              "       99.9899995 , 99.99499987])"
            ]
          },
          "metadata": {},
          "execution_count": 46
        }
      ]
    },
    {
      "cell_type": "code",
      "source": [
        "# NumPyモジュールのsqrt関数はユニバーサル関数なので，すべての要素に対して平方根を計算して返す． \n",
        "# （数学モジュールmathの平方根だとエラーする．）\n",
        "x = np.arange(10000)\n",
        "np.sqrt(x)"
      ],
      "metadata": {
        "colab": {
          "base_uri": "https://localhost:8080/"
        },
        "id": "kfKzv956phKP",
        "outputId": "7de98d9d-22a5-4d2c-ca13-3ed60cd4d03f"
      },
      "execution_count": 47,
      "outputs": [
        {
          "output_type": "execute_result",
          "data": {
            "text/plain": [
              "array([ 0.        ,  1.        ,  1.41421356, ..., 99.98499887,\n",
              "       99.9899995 , 99.99499987])"
            ]
          },
          "metadata": {},
          "execution_count": 47
        }
      ]
    },
    {
      "cell_type": "code",
      "source": [
        "#  問題21\n",
        "# 0から99の整数が入った配列を生成し，正弦(sin）を計算せよ．\n",
        "x = np.arange(100)\n",
        "print(np.sin(x))"
      ],
      "metadata": {
        "id": "7pfkXDJrj-pc",
        "colab": {
          "base_uri": "https://localhost:8080/"
        },
        "outputId": "a48b05d9-be26-450e-808c-e5ee27f7d1d1"
      },
      "execution_count": 48,
      "outputs": [
        {
          "output_type": "stream",
          "name": "stdout",
          "text": [
            "[ 0.          0.84147098  0.90929743  0.14112001 -0.7568025  -0.95892427\n",
            " -0.2794155   0.6569866   0.98935825  0.41211849 -0.54402111 -0.99999021\n",
            " -0.53657292  0.42016704  0.99060736  0.65028784 -0.28790332 -0.96139749\n",
            " -0.75098725  0.14987721  0.91294525  0.83665564 -0.00885131 -0.8462204\n",
            " -0.90557836 -0.13235175  0.76255845  0.95637593  0.27090579 -0.66363388\n",
            " -0.98803162 -0.40403765  0.55142668  0.99991186  0.52908269 -0.42818267\n",
            " -0.99177885 -0.64353813  0.29636858  0.96379539  0.74511316 -0.15862267\n",
            " -0.91652155 -0.83177474  0.01770193  0.85090352  0.90178835  0.12357312\n",
            " -0.76825466 -0.95375265 -0.26237485  0.67022918  0.98662759  0.39592515\n",
            " -0.55878905 -0.99975517 -0.521551    0.43616476  0.99287265  0.63673801\n",
            " -0.30481062 -0.96611777 -0.7391807   0.1673557   0.92002604  0.82682868\n",
            " -0.02655115 -0.85551998 -0.89792768 -0.11478481  0.77389068  0.95105465\n",
            "  0.25382336 -0.67677196 -0.98514626 -0.38778164  0.56610764  0.99952016\n",
            "  0.51397846 -0.44411267 -0.99388865 -0.62988799  0.31322878  0.96836446\n",
            "  0.73319032 -0.17607562 -0.92345845 -0.82181784  0.0353983   0.86006941\n",
            "  0.89399666  0.10598751 -0.77946607 -0.94828214 -0.24525199  0.68326171\n",
            "  0.98358775  0.37960774 -0.57338187 -0.99920683]\n"
          ]
        }
      ]
    },
    {
      "cell_type": "code",
      "source": [
        "#  問題22\n",
        "# 1から999の整数が入った配列の要素を2倍し，それに対数(log)をとったものに100を加えた配列を生成せよ．\n",
        "\n",
        "x = np.arange(1,1000)\n",
        "y = x*2\n",
        "z=np.log(y)\n",
        "print(z+100)"
      ],
      "metadata": {
        "id": "8xvcA3Eio5N9",
        "colab": {
          "base_uri": "https://localhost:8080/"
        },
        "outputId": "d9e08dd4-1653-47e2-eea3-aa4b4ff0436b"
      },
      "execution_count": 49,
      "outputs": [
        {
          "output_type": "stream",
          "name": "stdout",
          "text": [
            "[100.69314718 101.38629436 101.79175947 102.07944154 102.30258509\n",
            " 102.48490665 102.63905733 102.77258872 102.89037176 102.99573227\n",
            " 103.09104245 103.17805383 103.25809654 103.33220451 103.40119738\n",
            " 103.4657359  103.52636052 103.58351894 103.63758616 103.68887945\n",
            " 103.73766962 103.78418963 103.8286414  103.87120101 103.91202301\n",
            " 103.95124372 103.98898405 104.02535169 104.06044301 104.09434456\n",
            " 104.12713439 104.15888308 104.18965474 104.21950771 104.24849524\n",
            " 104.27666612 104.30406509 104.33073334 104.35670883 104.38202663\n",
            " 104.40671925 104.4308168  104.4543473  104.47733681 104.49980967\n",
            " 104.52178858 104.54329478 104.56434819 104.58496748 104.60517019\n",
            " 104.62497281 104.6443909  104.66343909 104.68213123 104.70048037\n",
            " 104.71849887 104.73619845 104.75359019 104.77068462 104.78749174\n",
            " 104.80402104 104.82028157 104.83628191 104.85203026 104.86753445\n",
            " 104.88280192 104.8978398  104.91265489 104.92725369 104.94164242\n",
            " 104.95582706 104.9698133  104.98360662 104.99721227 105.01063529\n",
            " 105.02388052 105.0369526  105.04985601 105.06259503 105.07517382\n",
            " 105.08759634 105.09986643 105.11198779 105.12396398 105.13579844\n",
            " 105.14749448 105.1590553  105.170484   105.18178355 105.19295685\n",
            " 105.20400669 105.21493576 105.22574667 105.23644196 105.24702407\n",
            " 105.25749537 105.26785816 105.27811466 105.28826703 105.29831737\n",
            " 105.3082677  105.31811999 105.32787617 105.33753808 105.34710753\n",
            " 105.35658627 105.36597602 105.37527841 105.38449506 105.39362755\n",
            " 105.40267738 105.41164605 105.420535   105.42934563 105.43807931\n",
            " 105.44673737 105.45532112 105.46383181 105.47227067 105.48063892\n",
            " 105.48893773 105.49716823 105.50533154 105.51342875 105.52146092\n",
            " 105.52942909 105.53733427 105.54517744 105.55295958 105.56068163\n",
            " 105.5683445  105.5759491  105.58349631 105.59098698 105.59842196\n",
            " 105.60580207 105.61312811 105.62040087 105.62762111 105.6347896\n",
            " 105.64190707 105.64897424 105.65599181 105.66296048 105.66988092\n",
            " 105.6767538  105.68357977 105.69035945 105.69709349 105.70378247\n",
            " 105.71042702 105.7170277  105.7235851  105.73009978 105.7365723\n",
            " 105.74300319 105.74939299 105.75574221 105.76205138 105.768321\n",
            " 105.77455155 105.78074352 105.78689738 105.79301361 105.79909265\n",
            " 105.80513497 105.81114099 105.81711116 105.8230459  105.82894562\n",
            " 105.83481074 105.84064166 105.84643878 105.85220248 105.85793315\n",
            " 105.86363118 105.86929691 105.87493073 105.88053299 105.88610403\n",
            " 105.89164421 105.89715387 105.90263333 105.90808294 105.91350301\n",
            " 105.91889385 105.9242558  105.92958914 105.9348942  105.94017125\n",
            " 105.94542061 105.95064255 105.95583737 105.96100534 105.96614674\n",
            " 105.97126184 105.97635091 105.98141421 105.98645201 105.99146455\n",
            " 105.99645209 106.00141488 106.00635316 106.01126717 106.01615716\n",
            " 106.02102335 106.02586597 106.03068526 106.03548143 106.04025471\n",
            " 106.04500531 106.04973346 106.05443935 106.0591232  106.06378521\n",
            " 106.06842559 106.07304453 106.07764224 106.08221891 106.08677473\n",
            " 106.09130988 106.09582456 106.10031895 106.10479323 106.10924758\n",
            " 106.11368218 106.1180972  106.12249281 106.12686918 106.13122649\n",
            " 106.13556489 106.13988455 106.14418563 106.1484683  106.15273269\n",
            " 106.15697899 106.16120732 106.16541785 106.16961073 106.1737861\n",
            " 106.17794411 106.18208491 106.18620862 106.19031541 106.19440539\n",
            " 106.19847872 106.20253552 106.20657593 106.21060008 106.2146081\n",
            " 106.21860012 106.22257627 106.22653667 106.23048145 106.23441073\n",
            " 106.23832463 106.24222327 106.24610677 106.24997524 106.25382881\n",
            " 106.25766759 106.26149168 106.26530121 106.26909628 106.27287701\n",
            " 106.27664349 106.28039584 106.28413416 106.28785856 106.29156914\n",
            " 106.295266   106.29894925 106.30261898 106.30627529 106.30991828\n",
            " 106.31354805 106.31716469 106.32076829 106.32435896 106.32793678\n",
            " 106.33150185 106.33505425 106.33859408 106.34212142 106.34563636\n",
            " 106.34913899 106.3526294  106.35610766 106.35957387 106.3630281\n",
            " 106.36647045 106.36990098 106.37331979 106.37672695 106.38012254\n",
            " 106.38350663 106.38687932 106.39024067 106.39359075 106.39692966\n",
            " 106.40025745 106.4035742  106.40687999 106.41017488 106.41345896\n",
            " 106.41673228 106.41999493 106.42324696 106.42648846 106.42971948\n",
            " 106.43294009 106.43615037 106.43935037 106.44254017 106.44571982\n",
            " 106.44888939 106.45204895 106.45519856 106.45833828 106.46146818\n",
            " 106.4645883  106.46769873 106.4707995  106.4738907  106.47697236\n",
            " 106.48004456 106.48310735 106.48616079 106.48920493 106.49223984\n",
            " 106.49526556 106.49828215 106.50128967 106.50428817 106.50727771\n",
            " 106.51025834 106.51323011 106.51619308 106.51914729 106.5220928\n",
            " 106.52502966 106.52795792 106.53087763 106.53378884 106.5366916\n",
            " 106.53958596 106.54247196 106.54534966 106.5482191  106.55108034\n",
            " 106.5539334  106.55677836 106.55961524 106.56244409 106.56526497\n",
            " 106.56807791 106.57088296 106.57368017 106.57646957 106.57925121\n",
            " 106.58202514 106.58479139 106.58755001 106.59030105 106.59304453\n",
            " 106.59578051 106.59850903 106.60123012 106.60394382 106.60665019\n",
            " 106.60934924 106.61204103 106.6147256  106.61740298 106.62007321\n",
            " 106.62273632 106.62539237 106.62804138 106.63068339 106.63331843\n",
            " 106.63594656 106.63856779 106.64118217 106.64378973 106.64639051\n",
            " 106.64898455 106.65157187 106.65415252 106.65672652 106.65929392\n",
            " 106.66185474 106.66440902 106.66695679 106.66949809 106.67203295\n",
            " 106.67456139 106.67708346 106.67959919 106.6821086  106.68461173\n",
            " 106.68710861 106.68959927 106.69208374 106.69456206 106.69703425\n",
            " 106.69950034 106.70196037 106.70441435 106.70686234 106.70930434\n",
            " 106.7117404  106.71417053 106.71659477 106.71901315 106.7214257\n",
            " 106.72383244 106.7262334  106.72862861 106.7310181  106.73340189\n",
            " 106.73578001 106.73815249 106.74051936 106.74288064 106.74523635\n",
            " 106.74758653 106.74993119 106.75227038 106.7546041  106.75693239\n",
            " 106.75925527 106.76157277 106.76388491 106.76619171 106.76849321\n",
            " 106.77078942 106.77308038 106.77536609 106.77764659 106.77992191\n",
            " 106.78219206 106.78445706 106.78671695 106.78897174 106.79122146\n",
            " 106.79346613 106.79570578 106.79794041 106.80017007 106.80239476\n",
            " 106.80461452 106.80682936 106.80903931 106.81124438 106.8134446\n",
            " 106.81563999 106.81783057 106.82001636 106.82219739 106.82437367\n",
            " 106.82654522 106.82871207 106.83087423 106.83303173 106.83518459\n",
            " 106.83733281 106.83947644 106.84161548 106.84374995 106.84587988\n",
            " 106.84800527 106.85012617 106.85224257 106.8543545  106.85646198\n",
            " 106.85856503 106.86066367 106.86275791 106.86484778 106.86693328\n",
            " 106.86901445 106.87109129 106.87316383 106.87523209 106.87729607\n",
            " 106.8793558  106.8814113  106.88346259 106.88550967 106.88755257\n",
            " 106.88959131 106.8916259  106.89365635 106.8956827  106.89770494\n",
            " 106.89972311 106.90173721 106.90374726 106.90575328 106.90775528\n",
            " 106.90975328 106.9117473  106.91373735 106.91572345 106.91770561\n",
            " 106.91968385 106.92165818 106.92362863 106.9255952  106.92755791\n",
            " 106.92951677 106.93147181 106.93342303 106.93537045 106.93731408\n",
            " 106.93925395 106.94119006 106.94312242 106.94505106 106.94697599\n",
            " 106.94889722 106.95081477 106.95272864 106.95463886 106.95654544\n",
            " 106.95844839 106.96034773 106.96224346 106.96413561 106.96602419\n",
            " 106.9679092  106.96979067 106.9716686  106.97354302 106.97541393\n",
            " 106.97728134 106.97914528 106.98100574 106.98286275 106.98471632\n",
            " 106.98656646 106.98841318 106.9902565  106.99209643 106.99393298\n",
            " 106.99576616 106.99759598 106.99942247 107.00124562 107.00306546\n",
            " 107.00488199 107.00669523 107.00850518 107.01031187 107.01211529\n",
            " 107.01391547 107.01571242 107.01750614 107.01929665 107.02108396\n",
            " 107.02286809 107.02464903 107.02642681 107.02820143 107.02997291\n",
            " 107.03174126 107.03350648 107.0352686  107.03702761 107.03878354\n",
            " 107.04053639 107.04228617 107.0440329  107.04577658 107.04751722\n",
            " 107.04925484 107.05098945 107.05272105 107.05444966 107.05617528\n",
            " 107.05789794 107.05961763 107.06133437 107.06304816 107.06475903\n",
            " 107.06646697 107.068172   107.06987413 107.07157336 107.07326972\n",
            " 107.0749632  107.07665382 107.07834158 107.0800265  107.08170859\n",
            " 107.08338785 107.08506429 107.08673793 107.08840878 107.09007684\n",
            " 107.09174212 107.09340463 107.09506438 107.09672138 107.09837564\n",
            " 107.10002717 107.10167597 107.10332206 107.10496545 107.10660614\n",
            " 107.10824414 107.10987946 107.11151212 107.11314211 107.11476945\n",
            " 107.11639414 107.1180162  107.11963564 107.12125245 107.12286666\n",
            " 107.12447826 107.12608727 107.1276937  107.12929755 107.13089883\n",
            " 107.13249755 107.13409372 107.13568735 107.13727844 107.138867\n",
            " 107.14045304 107.14203657 107.1436176  107.14519613 107.14677218\n",
            " 107.14834574 107.14991684 107.15148546 107.15305163 107.15461536\n",
            " 107.15617664 107.15773548 107.1592919  107.16084591 107.1623975\n",
            " 107.16394668 107.16549348 107.16703788 107.1685799  107.17011954\n",
            " 107.17165682 107.17319174 107.17472431 107.17625453 107.17778242\n",
            " 107.17930797 107.1808312  107.18235211 107.18387072 107.18538702\n",
            " 107.18690102 107.18841274 107.18992217 107.19142933 107.19293422\n",
            " 107.19443685 107.19593723 107.19743535 107.19893124 107.20042489\n",
            " 107.20191632 107.20340552 107.20489251 107.20637729 107.20785987\n",
            " 107.20934026 107.21081845 107.21229447 107.21376831 107.21523998\n",
            " 107.21670949 107.21817684 107.21964204 107.2211051  107.22256602\n",
            " 107.22402481 107.22548147 107.22693602 107.22838845 107.22983878\n",
            " 107.231287   107.23273314 107.23417718 107.23561914 107.23705903\n",
            " 107.23849684 107.23993259 107.24136628 107.24279792 107.24422752\n",
            " 107.24565507 107.24708058 107.24850407 107.24992554 107.25134498\n",
            " 107.25276242 107.25417785 107.25559127 107.25700271 107.25841215\n",
            " 107.25981961 107.26122509 107.2626286  107.26403014 107.26542972\n",
            " 107.26682735 107.26822302 107.26961675 107.27100854 107.27239839\n",
            " 107.27378632 107.27517232 107.2765564  107.27793857 107.27931884\n",
            " 107.2806972  107.28207366 107.28344823 107.28482091 107.28619171\n",
            " 107.28756064 107.28892769 107.29029288 107.29165621 107.29301768\n",
            " 107.2943773  107.29573507 107.29709101 107.2984451  107.29979737\n",
            " 107.30114781 107.30249642 107.30384323 107.30518822 107.3065314\n",
            " 107.30787278 107.30921237 107.31055016 107.31188616 107.31322039\n",
            " 107.31455283 107.3158835  107.31721241 107.31853955 107.31986493\n",
            " 107.32118856 107.32251043 107.32383057 107.32514896 107.32646561\n",
            " 107.32778054 107.32909374 107.33040521 107.33171497 107.33302301\n",
            " 107.33432935 107.33563398 107.33693691 107.33823815 107.3395377\n",
            " 107.34083555 107.34213173 107.34342623 107.34471905 107.34601021\n",
            " 107.3472997  107.34858753 107.3498737  107.35115823 107.3524411\n",
            " 107.35372233 107.35500192 107.35627988 107.3575562  107.3588309\n",
            " 107.36010397 107.36137543 107.36264527 107.3639135  107.36518013\n",
            " 107.36644515 107.36770857 107.3689704  107.37023064 107.3714893\n",
            " 107.37274637 107.37400186 107.37525578 107.37650813 107.37775891\n",
            " 107.37900813 107.38025579 107.38150189 107.38274645 107.38398946\n",
            " 107.38523092 107.38647085 107.38770924 107.3889461  107.39018143\n",
            " 107.39141523 107.39264752 107.39387829 107.39510755 107.39633529\n",
            " 107.39756154 107.39878628 107.40000952 107.40123126 107.40245152\n",
            " 107.40367029 107.40488758 107.40610338 107.40731771 107.40853057\n",
            " 107.40974195 107.41095188 107.41216033 107.41336734 107.41457288\n",
            " 107.41577698 107.41697962 107.41818082 107.41938058 107.42057891\n",
            " 107.42177579 107.42297125 107.42416528 107.42535789 107.42654907\n",
            " 107.42773884 107.42892719 107.43011414 107.43129968 107.43248381\n",
            " 107.43366654 107.43484788 107.43602782 107.43720637 107.43838353\n",
            " 107.43955931 107.44073371 107.44190673 107.44307837 107.44424865\n",
            " 107.44541756 107.4465851  107.44775128 107.4489161  107.45007957\n",
            " 107.45124168 107.45240245 107.45356187 107.45471995 107.45587669\n",
            " 107.45703209 107.45818616 107.4593389  107.46049031 107.46164039\n",
            " 107.46278916 107.4639366  107.46508274 107.46622756 107.46737107\n",
            " 107.46851327 107.46965417 107.47079377 107.47193208 107.47306909\n",
            " 107.47420481 107.47533924 107.47647238 107.47760424 107.47873483\n",
            " 107.47986413 107.48099216 107.48211892 107.48324442 107.48436864\n",
            " 107.48549161 107.48661331 107.48773376 107.48885296 107.4899709\n",
            " 107.49108759 107.49220304 107.49331725 107.49443022 107.49554194\n",
            " 107.49665244 107.4977617  107.49886973 107.49997654 107.50108212\n",
            " 107.50218649 107.50328963 107.50439156 107.50549227 107.50659178\n",
            " 107.50769008 107.50878717 107.50988306 107.51097775 107.51207125\n",
            " 107.51316355 107.51425465 107.51534457 107.5164333  107.51752085\n",
            " 107.51860722 107.5196924  107.52077642 107.52185925 107.52294092\n",
            " 107.52402142 107.52510075 107.52617891 107.52725592 107.52833177\n",
            " 107.52940646 107.53048    107.53155238 107.53262362 107.53369371\n",
            " 107.53476266 107.53583046 107.53689713 107.53796266 107.53902706\n",
            " 107.54009032 107.54115246 107.54221346 107.54327335 107.54433211\n",
            " 107.54538975 107.54644627 107.54750168 107.54855598 107.54960917\n",
            " 107.55066124 107.55171222 107.55276208 107.55381085 107.55485852\n",
            " 107.55590509 107.55695057 107.55799496 107.55903826 107.56008047\n",
            " 107.56112159 107.56216163 107.56320059 107.56423848 107.56527528\n",
            " 107.56631101 107.56734568 107.56837927 107.56941179 107.57044325\n",
            " 107.57147365 107.57250299 107.57353126 107.57455848 107.57558465\n",
            " 107.57660977 107.57763383 107.57865685 107.57967882 107.58069975\n",
            " 107.58171964 107.58273849 107.5837563  107.58477308 107.58578882\n",
            " 107.58680354 107.58781722 107.58882988 107.58984151 107.59085212\n",
            " 107.59186171 107.59287029 107.59387784 107.59488439 107.59588992\n",
            " 107.59689444 107.59789795 107.59890046 107.59990196]\n"
          ]
        }
      ]
    },
    {
      "cell_type": "markdown",
      "source": [
        "#擬似乱数発生サブモジュール random"
      ],
      "metadata": {
        "id": "DFM7OwOtpsU1"
      }
    },
    {
      "cell_type": "code",
      "source": [
        "# 通常のrandomモジュールと類似の擬似乱数がNumPyでも生成できる．\n",
        "# ただし引数sizeでランダムな要素をもつ配列を一度に生成できる．\n",
        "# たとえば，5つの[0,1]の一様乱数の生成は以下のようになる．\n",
        "\n",
        "a = np.random.random(size=5) \n",
        "print(a)"
      ],
      "metadata": {
        "colab": {
          "base_uri": "https://localhost:8080/"
        },
        "id": "0SLJWtJqprp3",
        "outputId": "79ee10bd-a167-40cd-9217-a9307e626557"
      },
      "execution_count": 50,
      "outputs": [
        {
          "output_type": "stream",
          "name": "stdout",
          "text": [
            "[0.09850147 0.12501072 0.60801764 0.55806268 0.0268494 ]\n"
          ]
        }
      ]
    },
    {
      "cell_type": "code",
      "source": [
        "# 整数の乱数を生成するにはrandintを用いる．引数は通常の下限(low)，上限(high)の他に，sizeを指定できる．\n",
        "# （標準のrandomモジュールと異なり上限は含まれないことに注意．） sizeにタプルを入れると多次元の配列が生成される．\n",
        "\n",
        "\n",
        "np.random.randint(1, 6, size=(3,3)) #(1以上, 6未満, size=(3行,3列)),# sizeは省略可能\n",
        "# np.random.randint(1, 6, (3,3))"
      ],
      "metadata": {
        "colab": {
          "base_uri": "https://localhost:8080/"
        },
        "id": "WHWS58RTpq8k",
        "outputId": "30b8131e-43b6-4706-901b-cf8ce90109c9"
      },
      "execution_count": 51,
      "outputs": [
        {
          "output_type": "execute_result",
          "data": {
            "text/plain": [
              "array([[3, 2, 1],\n",
              "       [4, 2, 3],\n",
              "       [5, 1, 2]])"
            ]
          },
          "metadata": {},
          "execution_count": 51
        }
      ]
    },
    {
      "cell_type": "code",
      "source": [
        "# 正規分布に従うランダムな値を得るにはnormalが使える．\n",
        "\n",
        "# (平均,標準偏差,(2行,2列))\n",
        "np.random.normal(100,10,(2,2)) #平均100，標準偏差10にしたがう正規乱数を2行2列の行列に入れる\n",
        "\n",
        "# 他にも様々な分布にしたがうランダムな値を生成できる．"
      ],
      "metadata": {
        "colab": {
          "base_uri": "https://localhost:8080/"
        },
        "id": "X1--kO2-phOM",
        "outputId": "b061c503-6b4a-4920-cd21-0da4a9881a15"
      },
      "execution_count": 52,
      "outputs": [
        {
          "output_type": "execute_result",
          "data": {
            "text/plain": [
              "array([[103.72815881, 110.66234845],\n",
              "       [107.927335  , 102.51498376]])"
            ]
          },
          "metadata": {},
          "execution_count": 52
        }
      ]
    },
    {
      "cell_type": "code",
      "source": [
        "#  問題23\n",
        "# さいころを 10回振ったシミュレーション結果を表す配列を生成せよ．\n",
        "np.random.randint(1,7,10)"
      ],
      "metadata": {
        "id": "nfmDn7F6o5Pg",
        "colab": {
          "base_uri": "https://localhost:8080/"
        },
        "outputId": "db4cfb23-0c10-4ea3-9926-47c9a0dc50bd"
      },
      "execution_count": 53,
      "outputs": [
        {
          "output_type": "execute_result",
          "data": {
            "text/plain": [
              "array([6, 4, 4, 5, 6, 1, 5, 2, 4, 1])"
            ]
          },
          "metadata": {},
          "execution_count": 53
        }
      ]
    },
    {
      "cell_type": "code",
      "source": [
        "#  問題24\n",
        "# 平均 10，標準偏差 10 の正規乱数を10×10 の行列に入れよ．\n",
        "np.random.normal(10,10,(10,10))"
      ],
      "metadata": {
        "id": "bMD8eY9Eo5RE",
        "colab": {
          "base_uri": "https://localhost:8080/"
        },
        "outputId": "884d4d3f-5eef-42f5-fa4a-47f7007979f8"
      },
      "execution_count": 54,
      "outputs": [
        {
          "output_type": "execute_result",
          "data": {
            "text/plain": [
              "array([[  8.05110155,  17.2579497 ,  -2.92465442,   7.68477098,\n",
              "          9.62401903,  12.44313343,  16.74870377,   5.51387137,\n",
              "         12.67895708,  -2.54591888],\n",
              "       [  5.67176434,  -3.79764268,  18.70720332,  26.20681994,\n",
              "         25.94448898,  10.49259349,  14.98478556,   3.15359764,\n",
              "         -8.74334361,   6.32382252],\n",
              "       [ 29.44880654,  21.95831345,  -3.70217451,  13.21481043,\n",
              "         -5.20821375,   8.58673321,  11.94002796,   6.71558444,\n",
              "          7.47400218,   2.75287204],\n",
              "       [ -3.55181109,   6.67987232,   0.72306507,  15.96771508,\n",
              "         24.34408364,  18.03942514,  -1.80816342,   0.64287998,\n",
              "         16.24523405,   1.19054852],\n",
              "       [ 15.52241138,   3.61511493,  12.98778577,  16.84161829,\n",
              "          9.34654911,  -3.05489014,   4.43949532,  12.83440061,\n",
              "         -2.62518287,  -3.25732615],\n",
              "       [  8.14244159,   8.03890575,   6.29561866,   6.13885023,\n",
              "          2.64414912,   7.24637677,  29.26811127,  -2.75880306,\n",
              "          6.7716963 ,  13.67179295],\n",
              "       [ 22.43185356,  15.25690118,  20.85288721,   5.3585882 ,\n",
              "          0.18573994,  -0.95063614,  32.30464036,   9.03682866,\n",
              "         31.05016888,  24.76784087],\n",
              "       [ -9.95494907,  30.37278783,  -0.87241129,  -3.89948245,\n",
              "         14.37492407,   3.37296534,  -0.61450477,  11.66002904,\n",
              "          7.37785121,  12.00470697],\n",
              "       [ -3.86665342,  40.78031957,   9.12934526,  13.67463278,\n",
              "          4.18785225,  -2.01120444, -15.25799031,  -9.97212652,\n",
              "         21.43659213,   8.3229863 ],\n",
              "       [ 25.83911891,  -1.15049849,   9.54250198,   6.66474468,\n",
              "         16.58267858,  11.99271813,  30.29771992,   4.4282445 ,\n",
              "         15.69762721,  34.01132449]])"
            ]
          },
          "metadata": {},
          "execution_count": 54
        }
      ]
    },
    {
      "cell_type": "code",
      "source": [
        "#  問題25\n",
        "# 平均 100， 標準偏差 10 の需要を 10個入れた配列 demand を生成せよ．\n",
        "demand = np.random.normal(100,10,10) #(平均,標準偏差,個数 or size=(行,列)で行列を生成)\n",
        "demand"
      ],
      "metadata": {
        "id": "2lp-LfcMo5S5",
        "colab": {
          "base_uri": "https://localhost:8080/"
        },
        "outputId": "15d33a09-7f84-462a-ea86-7bd919b097e0"
      },
      "execution_count": 55,
      "outputs": [
        {
          "output_type": "execute_result",
          "data": {
            "text/plain": [
              "array([ 97.83436557, 113.85842442,  92.61137934, 109.4542951 ,\n",
              "        95.07933326, 100.02920546, 117.89571952, 103.80096342,\n",
              "        73.16636795,  89.33766095])"
            ]
          },
          "metadata": {},
          "execution_count": 55
        }
      ]
    },
    {
      "cell_type": "markdown",
      "source": [
        "#集約関数"
      ],
      "metadata": {
        "id": "K7l8i4mGqRGR"
      }
    },
    {
      "cell_type": "code",
      "source": [
        "# NumPyの関数で多次元配列内の値を集約して計算してくれるものがある．\n",
        "# min, max, sum, mean, average, argmin, argmax, std などなど"
      ],
      "metadata": {
        "id": "6l97TCg6qVP3"
      },
      "execution_count": 56,
      "outputs": []
    },
    {
      "cell_type": "code",
      "source": [
        "x =np.random.randint(low=1, high=100, size=10)\n",
        "x"
      ],
      "metadata": {
        "colab": {
          "base_uri": "https://localhost:8080/"
        },
        "id": "4J7XC9vZqVR8",
        "outputId": "01583d15-84e9-4e55-a77b-2ce221ef9d0e"
      },
      "execution_count": 57,
      "outputs": [
        {
          "output_type": "execute_result",
          "data": {
            "text/plain": [
              "array([44, 81, 81, 14, 35, 75,  6, 28, 26, 45])"
            ]
          },
          "metadata": {},
          "execution_count": 57
        }
      ]
    },
    {
      "cell_type": "code",
      "source": [
        "np.min(x)   #最小値を求める"
      ],
      "metadata": {
        "colab": {
          "base_uri": "https://localhost:8080/"
        },
        "id": "h1NNgqO8qVVl",
        "outputId": "67cf7e5a-be5b-457c-8ed1-8407b5a8c170"
      },
      "execution_count": 58,
      "outputs": [
        {
          "output_type": "execute_result",
          "data": {
            "text/plain": [
              "6"
            ]
          },
          "metadata": {},
          "execution_count": 58
        }
      ]
    },
    {
      "cell_type": "code",
      "source": [
        "np.argmin(x) #最小値になるインデックス"
      ],
      "metadata": {
        "colab": {
          "base_uri": "https://localhost:8080/"
        },
        "id": "FRqBecpUqVXb",
        "outputId": "39a0b3b7-0746-4b6c-a1c0-ba26a76ef92c"
      },
      "execution_count": 59,
      "outputs": [
        {
          "output_type": "execute_result",
          "data": {
            "text/plain": [
              "6"
            ]
          },
          "metadata": {},
          "execution_count": 59
        }
      ]
    },
    {
      "cell_type": "code",
      "source": [
        "np.sum(x)  #合計を求める"
      ],
      "metadata": {
        "colab": {
          "base_uri": "https://localhost:8080/"
        },
        "id": "x_cGdr8HqVZI",
        "outputId": "fdf1548d-ebcb-4de6-e4dc-7794f41f7ca7"
      },
      "execution_count": 60,
      "outputs": [
        {
          "output_type": "execute_result",
          "data": {
            "text/plain": [
              "435"
            ]
          },
          "metadata": {},
          "execution_count": 60
        }
      ]
    },
    {
      "cell_type": "code",
      "source": [
        "np.std(x) #標準偏差を求める"
      ],
      "metadata": {
        "colab": {
          "base_uri": "https://localhost:8080/"
        },
        "id": "Exo40QLJqcoX",
        "outputId": "fabe7573-3670-403e-968f-a0e50a369620"
      },
      "execution_count": 61,
      "outputs": [
        {
          "output_type": "execute_result",
          "data": {
            "text/plain": [
              "25.889186931999237"
            ]
          },
          "metadata": {},
          "execution_count": 61
        }
      ]
    },
    {
      "cell_type": "code",
      "source": [
        "A =np.random.randint(1,100,size=(3,5)) #ランダムな要素を含んだ行列 A を生成\n",
        "A"
      ],
      "metadata": {
        "colab": {
          "base_uri": "https://localhost:8080/"
        },
        "id": "HLEEKSmkqcqG",
        "outputId": "ea436472-150a-4289-9b09-7ba0ad1bb7ab"
      },
      "execution_count": 62,
      "outputs": [
        {
          "output_type": "execute_result",
          "data": {
            "text/plain": [
              "array([[20,  2, 35, 95, 70],\n",
              "       [51, 65, 27, 28, 45],\n",
              "       [88, 52,  9, 60, 46]])"
            ]
          },
          "metadata": {},
          "execution_count": 62
        }
      ]
    },
    {
      "cell_type": "code",
      "source": [
        "np.sum(A, axis=0) #列方向（軸番号=0)で合計"
      ],
      "metadata": {
        "colab": {
          "base_uri": "https://localhost:8080/"
        },
        "id": "fVELVOm-qczP",
        "outputId": "2d917812-b7e3-4ea0-bc63-83aef893b221"
      },
      "execution_count": 63,
      "outputs": [
        {
          "output_type": "execute_result",
          "data": {
            "text/plain": [
              "array([159, 119,  71, 183, 161])"
            ]
          },
          "metadata": {},
          "execution_count": 63
        }
      ]
    },
    {
      "cell_type": "code",
      "source": [
        "np.sum(A, axis=1) #行方向（軸番号=1)で合計"
      ],
      "metadata": {
        "colab": {
          "base_uri": "https://localhost:8080/"
        },
        "id": "3c46ZreNqc1V",
        "outputId": "e3968420-e73c-4c29-ee95-1b5076039f43"
      },
      "execution_count": 64,
      "outputs": [
        {
          "output_type": "execute_result",
          "data": {
            "text/plain": [
              "array([222, 216, 255])"
            ]
          },
          "metadata": {},
          "execution_count": 64
        }
      ]
    },
    {
      "cell_type": "code",
      "source": [
        "#  問題26\n",
        "# 上の行列Aの行ごとの最小値を求めよ．\n",
        "A =np.random.randint(1,100,size=(3,5)) \n",
        "print(A)\n",
        "\n",
        "print(np.min(A,axis=1))"
      ],
      "metadata": {
        "id": "vGL6Sgcao5Ux",
        "colab": {
          "base_uri": "https://localhost:8080/"
        },
        "outputId": "dcf15358-e05a-4f6a-cf97-890bb117c3f5"
      },
      "execution_count": 65,
      "outputs": [
        {
          "output_type": "stream",
          "name": "stdout",
          "text": [
            "[[38 49 89 42 24]\n",
            " [13 24  1 71 43]\n",
            " [32 92  6 81 27]]\n",
            "[24  1  6]\n"
          ]
        }
      ]
    },
    {
      "cell_type": "code",
      "source": [
        "#  問題27\n",
        "# 同じ行列の列ごとの最小値を求めよ．\n",
        "A =np.random.randint(1,100,size=(3,5)) \n",
        "print(A)\n",
        "\n",
        "print(np.min(A,axis=0))"
      ],
      "metadata": {
        "id": "bEQgzK-Io5WT",
        "colab": {
          "base_uri": "https://localhost:8080/"
        },
        "outputId": "8383e3a6-23d1-45d8-cdb5-2400c794a7e2"
      },
      "execution_count": 66,
      "outputs": [
        {
          "output_type": "stream",
          "name": "stdout",
          "text": [
            "[[ 4 95 98  2 73]\n",
            " [64 21 83 80 28]\n",
            " [ 1 73 64 29 90]]\n",
            "[ 1 21 64  2 28]\n"
          ]
        }
      ]
    },
    {
      "cell_type": "code",
      "source": [
        "#  問題28\n",
        "# さいころを 10回振ったときの結果の配列を作成し，試行の中の最小値，最大値，平均値を出力せよ．\n",
        "\n",
        "result = np.random.randint(1,7,10)\n",
        "print(np.min(result))\n",
        "print(np.max(result))\n",
        "print(np.mean(result))"
      ],
      "metadata": {
        "id": "43CHK4rOo5YH",
        "colab": {
          "base_uri": "https://localhost:8080/"
        },
        "outputId": "c3937c20-8c23-4a80-d222-6ed1ed6bcbe9"
      },
      "execution_count": 67,
      "outputs": [
        {
          "output_type": "stream",
          "name": "stdout",
          "text": [
            "1\n",
            "5\n",
            "2.8\n"
          ]
        }
      ]
    },
    {
      "cell_type": "code",
      "source": [
        "#  問題29\n",
        "# 平均 10，標準偏差 10 の正規乱数を 10×10 の行列に入れ，全体の平均，行ごとの平均を出力せよ．\n",
        "a = np.random.normal(10,10,(10,10))\n",
        "print(np.mean(a))\n",
        "print(np.mean(a,axis=1))"
      ],
      "metadata": {
        "id": "WPBiYb5Xo5Z6",
        "colab": {
          "base_uri": "https://localhost:8080/"
        },
        "outputId": "b7b454ba-cded-4621-ccc6-228113480b2a"
      },
      "execution_count": 68,
      "outputs": [
        {
          "output_type": "stream",
          "name": "stdout",
          "text": [
            "10.076246081194261\n",
            "[ 7.75029469  2.10663484 10.22348787 11.00815562 15.57501405 11.97979708\n",
            " 11.10493487 10.98142827 10.02408637 10.00862714]\n"
          ]
        }
      ]
    },
    {
      "cell_type": "markdown",
      "source": [
        "#ブロードキャスト"
      ],
      "metadata": {
        "id": "ctW4XhSPqwSZ"
      }
    },
    {
      "cell_type": "code",
      "source": [
        "# 多次元配列 = 多次元配列 + スカラー\n",
        "# になるのは，同じ形状になるように変形してから演算を行うためである．\n",
        "\n",
        "x= np.arange(5)  # [0 1 2 3 4]  形状は (5,)\n",
        "x + 10           # 結果は array([10, 11, 12, 13, 14])"
      ],
      "metadata": {
        "colab": {
          "base_uri": "https://localhost:8080/"
        },
        "id": "3lsim41Bqx9N",
        "outputId": "de7b7bb9-ab5e-4d87-b7fd-93928047637f"
      },
      "execution_count": 69,
      "outputs": [
        {
          "output_type": "execute_result",
          "data": {
            "text/plain": [
              "array([10, 11, 12, 13, 14])"
            ]
          },
          "metadata": {},
          "execution_count": 69
        }
      ]
    },
    {
      "cell_type": "code",
      "source": [
        "# スカラー10をxと同じ形状(5,)になるようにコピーしてから加算をしている．\n",
        "\n",
        "x+ np.array([10,10,10,10,10]) #スカラー10を1次元配列にしてから，同じ長さになるまでコピー（ブロードキャスト）\n",
        "\n",
        "# 同様に3行3列の行列 A と長さ3のベクトルxの加算を試してみる"
      ],
      "metadata": {
        "colab": {
          "base_uri": "https://localhost:8080/"
        },
        "id": "UtkqGbYIqx-v",
        "outputId": "bde66d80-09f4-4a9a-ba42-39007994cd77"
      },
      "execution_count": 70,
      "outputs": [
        {
          "output_type": "execute_result",
          "data": {
            "text/plain": [
              "array([10, 11, 12, 13, 14])"
            ]
          },
          "metadata": {},
          "execution_count": 70
        }
      ]
    },
    {
      "cell_type": "markdown",
      "source": [
        "![download (3).png](data:image/png;base64,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)"
      ],
      "metadata": {
        "id": "omhAr4VHcK9Z"
      }
    },
    {
      "cell_type": "code",
      "source": [
        "A = np.ones((3,3), dtype=int)\n",
        "x = np.array([10,20,30])\n",
        "\n",
        "print( 'A=', A)\n",
        "print( 'x=', x)\n",
        "print(A.shape, x.shape)"
      ],
      "metadata": {
        "colab": {
          "base_uri": "https://localhost:8080/"
        },
        "id": "pGT8GNrHqyAS",
        "outputId": "c4b4448b-3890-42f8-c74b-454ee53557c9"
      },
      "execution_count": 71,
      "outputs": [
        {
          "output_type": "stream",
          "name": "stdout",
          "text": [
            "A= [[1 1 1]\n",
            " [1 1 1]\n",
            " [1 1 1]]\n",
            "x= [10 20 30]\n",
            "(3, 3) (3,)\n"
          ]
        }
      ]
    },
    {
      "cell_type": "code",
      "source": [
        "A+x #ブロードキャストを用いた加算"
      ],
      "metadata": {
        "colab": {
          "base_uri": "https://localhost:8080/"
        },
        "id": "3Ag5Tf7kqyCi",
        "outputId": "6d64e041-c4ee-47b7-d7cb-b1b745a004be"
      },
      "execution_count": 72,
      "outputs": [
        {
          "output_type": "execute_result",
          "data": {
            "text/plain": [
              "array([[11, 21, 31],\n",
              "       [11, 21, 31],\n",
              "       [11, 21, 31]])"
            ]
          },
          "metadata": {},
          "execution_count": 72
        }
      ]
    },
    {
      "cell_type": "code",
      "source": [
        "A+np.array( [[10,20,30], \n",
        "             [10,20,30],\n",
        "             [10,20,30]] ) #[10,20,30] のコピーを作成してから加算"
      ],
      "metadata": {
        "colab": {
          "base_uri": "https://localhost:8080/"
        },
        "id": "tNRfG5qjqyD_",
        "outputId": "4935647b-5cf8-40fe-86c5-7dabc854ad72"
      },
      "execution_count": 73,
      "outputs": [
        {
          "output_type": "execute_result",
          "data": {
            "text/plain": [
              "array([[11, 21, 31],\n",
              "       [11, 21, 31],\n",
              "       [11, 21, 31]])"
            ]
          },
          "metadata": {},
          "execution_count": 73
        }
      ]
    },
    {
      "cell_type": "code",
      "source": [
        "x = np.array([[1,2,3]]).T  #3行1列の行列（縦ベクトル）,T=転置, [] = 一次元,[[]] = 二次元,[[[]]] = 三次元\n",
        "y = np.array([10,20,30]) #長さ3の横ベクトル\n",
        "\n",
        "print(\"x=\",x)\n",
        "print(\"y=\",y)\n",
        "print(x.shape, y.shape)"
      ],
      "metadata": {
        "colab": {
          "base_uri": "https://localhost:8080/"
        },
        "id": "OwAurOCkqyFi",
        "outputId": "63450bf2-491b-4d22-cfe2-b96d9f0d6efb"
      },
      "execution_count": 74,
      "outputs": [
        {
          "output_type": "stream",
          "name": "stdout",
          "text": [
            "x= [[1]\n",
            " [2]\n",
            " [3]]\n",
            "y= [10 20 30]\n",
            "(3, 1) (3,)\n"
          ]
        }
      ]
    },
    {
      "cell_type": "code",
      "source": [
        "x*y"
      ],
      "metadata": {
        "colab": {
          "base_uri": "https://localhost:8080/"
        },
        "id": "xWx6xmPEruDV",
        "outputId": "db410e8c-0436-423a-b929-705ca77dee7a"
      },
      "execution_count": 75,
      "outputs": [
        {
          "output_type": "execute_result",
          "data": {
            "text/plain": [
              "array([[10, 20, 30],\n",
              "       [20, 40, 60],\n",
              "       [30, 60, 90]])"
            ]
          },
          "metadata": {},
          "execution_count": 75
        }
      ]
    },
    {
      "cell_type": "code",
      "source": [
        "x+y #ブロードキャストによる加算"
      ],
      "metadata": {
        "colab": {
          "base_uri": "https://localhost:8080/"
        },
        "id": "19CagE4BruFH",
        "outputId": "e73f98a3-5b0b-48ee-e7ea-3a0f73342009"
      },
      "execution_count": 76,
      "outputs": [
        {
          "output_type": "execute_result",
          "data": {
            "text/plain": [
              "array([[11, 21, 31],\n",
              "       [12, 22, 32],\n",
              "       [13, 23, 33]])"
            ]
          },
          "metadata": {},
          "execution_count": 76
        }
      ]
    },
    {
      "cell_type": "code",
      "source": [
        "np.array([[1,1,1],\n",
        "          [2,2,2],\n",
        "          [3,3,3]])+np.array( [[10,20,30], \n",
        "                              [10,20,30],\n",
        "                             [10,20,30]] ) #コピーを作成してから加算 "
      ],
      "metadata": {
        "colab": {
          "base_uri": "https://localhost:8080/"
        },
        "id": "Ij_k5WUzruG_",
        "outputId": "86734fa7-e1e0-43fc-e42d-782563af1a08"
      },
      "execution_count": 77,
      "outputs": [
        {
          "output_type": "execute_result",
          "data": {
            "text/plain": [
              "array([[11, 21, 31],\n",
              "       [12, 22, 32],\n",
              "       [13, 23, 33]])"
            ]
          },
          "metadata": {},
          "execution_count": 77
        }
      ]
    },
    {
      "cell_type": "markdown",
      "source": [
        "#インデックス配列"
      ],
      "metadata": {
        "id": "XQe0vmnrr1cM"
      }
    },
    {
      "cell_type": "code",
      "source": [
        "# NumPyでは，添え字(index)を別の配列で指定できる．この機能はpandasでよく使うので，慣れておく必要がある．\n",
        "# 添え字の配列（もしくはリスト）を用いて配列 x から添え字に対応する要素を取り出す．\n",
        "\n",
        "x = np.array([1,2,3,4,5,6])\n",
        "print(x)\n",
        "\n",
        "ind = np.array([1,3,5])  # リスト [1,3,5] でも同じ\n",
        "x[ind] #x[ind]=インデックス配列 - 添え字1,3,5を除く、2,4,6番目の数値だけ持ってくる\n",
        "# x[取り出したいindex番号]"
      ],
      "metadata": {
        "colab": {
          "base_uri": "https://localhost:8080/"
        },
        "id": "03PCpoKGruIf",
        "outputId": "e1fad429-98dc-4b1d-db65-1461d4687dc0"
      },
      "execution_count": 78,
      "outputs": [
        {
          "output_type": "stream",
          "name": "stdout",
          "text": [
            "[1 2 3 4 5 6]\n"
          ]
        },
        {
          "output_type": "execute_result",
          "data": {
            "text/plain": [
              "array([2, 4, 6])"
            ]
          },
          "metadata": {},
          "execution_count": 78
        }
      ]
    },
    {
      "cell_type": "markdown",
      "source": [
        "![download (4).png](data:image/png;base64,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)"
      ],
      "metadata": {
        "id": "3p8KuHoYcRWj"
      }
    },
    {
      "cell_type": "code",
      "source": [
        "L = np.array([\"あ\", \"い\", \"う\", \"え\", \"お\", \"か\"])\n",
        "ind = np.array([0, 2, 5])\n",
        "L[ind]"
      ],
      "metadata": {
        "colab": {
          "base_uri": "https://localhost:8080/"
        },
        "id": "ig2FNdsksCn7",
        "outputId": "b8811794-810b-498e-aad7-53e2815c4c12"
      },
      "execution_count": 79,
      "outputs": [
        {
          "output_type": "execute_result",
          "data": {
            "text/plain": [
              "array(['あ', 'う', 'か'], dtype='<U1')"
            ]
          },
          "metadata": {},
          "execution_count": 79
        }
      ]
    },
    {
      "cell_type": "markdown",
      "source": [
        "![download (5).png](data:image/png;base64,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)"
      ],
      "metadata": {
        "id": "UvXIe2vYci-u"
      }
    },
    {
      "cell_type": "code",
      "source": [
        "# NumPyの配列に対して要素がTrueかFalseになる条件式を書くと，要素がTrueかFalseの配列が生成される． \n",
        "# これをBoolインデックス配列とよぶ．\n",
        "\n",
        "x = np.array( [5,1,6,9,3,4] )\n",
        "\n",
        "print(x>=5) \n",
        "print(x[x>=5]) #Trueのところだけ持ってくる"
      ],
      "metadata": {
        "colab": {
          "base_uri": "https://localhost:8080/"
        },
        "id": "LiZsh3HfsCpE",
        "outputId": "f0e125bc-98db-4b28-9e46-5ce1e130ce46"
      },
      "execution_count": 80,
      "outputs": [
        {
          "output_type": "stream",
          "name": "stdout",
          "text": [
            "[ True False  True  True False False]\n",
            "[5 6 9]\n"
          ]
        }
      ]
    },
    {
      "cell_type": "code",
      "source": [
        "# 配列から奇数だけを抜き出すことも、同様にできる\n",
        "x = np.array( [1,2,3,4,5,6] )\n",
        "print(x%2 == 1) #2で割ったときの余りが1か？\n",
        "print(x[x%2 == 1]) #Trueのところだけ持ってくる"
      ],
      "metadata": {
        "colab": {
          "base_uri": "https://localhost:8080/"
        },
        "id": "IYq3vuEksCq0",
        "outputId": "3a5eaace-70eb-4bbb-8709-2b3c2eb53dbf"
      },
      "execution_count": 81,
      "outputs": [
        {
          "output_type": "stream",
          "name": "stdout",
          "text": [
            "[ True False  True False  True False]\n",
            "[1 3 5]\n"
          ]
        }
      ]
    },
    {
      "cell_type": "code",
      "source": [
        "# この配列の要素がTrueの部分だけを切り出すことができる．\n",
        "x = np.array( [1,2,3,4,5,6] )\n",
        "bool_index = x%2 == 1 \n",
        "print(bool_index)\n",
        "print(x[bool_index])\n",
        "\n",
        "# これを1行で行うと\n",
        "\n",
        "print(x[x%2==1])\n",
        "\n",
        "# と書ける"
      ],
      "metadata": {
        "colab": {
          "base_uri": "https://localhost:8080/"
        },
        "id": "nv-lQY3XsCsq",
        "outputId": "2b9cf048-195c-4dc2-b6b8-0db8fb00a65a"
      },
      "execution_count": 82,
      "outputs": [
        {
          "output_type": "stream",
          "name": "stdout",
          "text": [
            "[ True False  True False  True False]\n",
            "[1 3 5]\n",
            "[1 3 5]\n"
          ]
        }
      ]
    },
    {
      "cell_type": "code",
      "source": [
        "# 複数の論理条件を入れる場合には，集合(set)に対する演算子を用いる．\n",
        "# かつ（and）は &，または（or）は | である．論理条件には必ず( )をつけて区分を明確にする． \n",
        "# たとえば，偶数でかつ4以上のものを切り出すには，\n",
        "\n",
        "x[(x%2==0) & (x>=4)] # array([4, 6])\n",
        "\n",
        "# とする．"
      ],
      "metadata": {
        "colab": {
          "base_uri": "https://localhost:8080/"
        },
        "id": "lunIzmetsdHU",
        "outputId": "e82feca1-dd47-4240-d689-6bb4e67ba737"
      },
      "execution_count": 83,
      "outputs": [
        {
          "output_type": "execute_result",
          "data": {
            "text/plain": [
              "array([4, 6])"
            ]
          },
          "metadata": {},
          "execution_count": 83
        }
      ]
    },
    {
      "cell_type": "code",
      "source": [
        "# 例として，ランダムに生成した長さ10の配列から，条件を満たすものを切り出してみる．\n",
        "\n",
        "x = np.random.randint(1,100,10) #[1,99]の一様乱数による,99の一様乱数による一次元配列\n",
        "x\n",
        "\n",
        "bool_index = x < 30  #条件を満たすなら True の配列(Boolインデックス配列)\n",
        "print(bool_index)\n",
        "print(x[bool_index]) #配列 bool_index がTrueのインデックスから成る配列\n",
        "\n",
        "\n",
        "print(x[x<30]) #上の操作を1行で書く\n",
        "\n",
        "print(x[(x<=30) & (x>=10)])  #30以下でかつ10以上のもの（and は & を使う；論理条件には( )をつける) \n",
        "print(x[(x<30) | (x%2==0)]) #30以下かもしく(|)は2で割り切れるもの"
      ],
      "metadata": {
        "colab": {
          "base_uri": "https://localhost:8080/"
        },
        "id": "sGrySMqQsdKa",
        "outputId": "61a5dd6c-f1b4-4f9b-fbce-6caaa1834884"
      },
      "execution_count": 84,
      "outputs": [
        {
          "output_type": "stream",
          "name": "stdout",
          "text": [
            "[False False False False  True False False False  True False]\n",
            "[27 22]\n",
            "[27 22]\n",
            "[27 22]\n",
            "[90 50 38 66 27 52 22]\n"
          ]
        }
      ]
    },
    {
      "cell_type": "code",
      "source": [
        "x = np.random.randint(1,100,10)\n",
        "print(x)\n",
        "np.all(x<=90) #全てがTrueの時Trueを返す\n",
        "\n",
        "print(np.any(x<=10)) #いずれかの要素がTrueの時Trueを返す"
      ],
      "metadata": {
        "colab": {
          "base_uri": "https://localhost:8080/"
        },
        "id": "b5EkmYrDeahm",
        "outputId": "d2687e56-9ce6-41db-cf12-de7657bfdebf"
      },
      "execution_count": 85,
      "outputs": [
        {
          "output_type": "stream",
          "name": "stdout",
          "text": [
            "[26 44 77 60 27 26 38 60 29 58]\n",
            "False\n"
          ]
        }
      ]
    },
    {
      "cell_type": "code",
      "source": [
        "# NumPyの配列 x を以下のように生成する．\n",
        "x = np.array( [1,2,3,4,5,6] )"
      ],
      "metadata": {
        "id": "dgGqIgwio5bf"
      },
      "execution_count": 86,
      "outputs": []
    },
    {
      "cell_type": "code",
      "source": [
        "#  問題31\n",
        "# 添え字が 0 番目と 5 番目の要素をインデックス配列を用いて取り出せ．\n",
        "y = np.array([0,5])\n",
        "x[y]"
      ],
      "metadata": {
        "id": "DxJqxg6ro5dT",
        "colab": {
          "base_uri": "https://localhost:8080/"
        },
        "outputId": "d77b6f15-0642-483e-d9a8-fcdcfde3f6c5"
      },
      "execution_count": 87,
      "outputs": [
        {
          "output_type": "execute_result",
          "data": {
            "text/plain": [
              "array([1, 6])"
            ]
          },
          "metadata": {},
          "execution_count": 87
        }
      ]
    },
    {
      "cell_type": "code",
      "source": [
        "#  問題32\n",
        "# 要素が2で割り切れるものだけをTrueかFalseが入った配列（Bool添え字配列）を用いて取り出せ．\n",
        "print(x%2==0)\n",
        "print(x[x%2==0])"
      ],
      "metadata": {
        "id": "IDtIbqAoo5fG",
        "colab": {
          "base_uri": "https://localhost:8080/"
        },
        "outputId": "0e05a275-8d08-4a84-c5f0-1783053d4dec"
      },
      "execution_count": 88,
      "outputs": [
        {
          "output_type": "stream",
          "name": "stdout",
          "text": [
            "[False  True False  True False  True]\n",
            "[2 4 6]\n"
          ]
        }
      ]
    },
    {
      "cell_type": "code",
      "source": [
        "#  問題33\n",
        "# 要素が奇数のものだけを2倍せよ．\n",
        "print(x[x%2!=0])\n",
        "print(x[x%2!=0]*2)"
      ],
      "metadata": {
        "id": "2siocZKUpAzM",
        "colab": {
          "base_uri": "https://localhost:8080/"
        },
        "outputId": "fa76a27d-9f09-45bd-94e4-68d1ba45a54e"
      },
      "execution_count": 89,
      "outputs": [
        {
          "output_type": "stream",
          "name": "stdout",
          "text": [
            "[1 3 5]\n",
            "[ 2  6 10]\n"
          ]
        }
      ]
    },
    {
      "cell_type": "code",
      "source": [
        "#  問題34\n",
        "# さいころを 10回振ったときの結果の配列を作成し，試行の中で 4 以上のものだけを切り出せ．\n",
        "a=np.random.randint(1,7,10)\n",
        "print(a[a>=4])"
      ],
      "metadata": {
        "id": "ska_FOOEpA0q",
        "colab": {
          "base_uri": "https://localhost:8080/"
        },
        "outputId": "33943e1b-86e8-454b-9242-2354d602cae1"
      },
      "execution_count": 90,
      "outputs": [
        {
          "output_type": "stream",
          "name": "stdout",
          "text": [
            "[5 5 6 6 6 6]\n"
          ]
        }
      ]
    },
    {
      "cell_type": "code",
      "source": [
        "#  問題35\n",
        "# さいころを 100回振ったときの結果の配列を作成し，試行の中で 5 以上で奇数のものだけを切り出せ．\n",
        "a=np.random.randint(1,7,100)\n",
        "a[(a>=5) & (a%2!=0)]"
      ],
      "metadata": {
        "id": "vmbf-nB1pA2e",
        "colab": {
          "base_uri": "https://localhost:8080/"
        },
        "outputId": "175f3080-867a-44cb-d829-15630e8db968"
      },
      "execution_count": 91,
      "outputs": [
        {
          "output_type": "execute_result",
          "data": {
            "text/plain": [
              "array([5, 5, 5, 5, 5, 5, 5, 5, 5, 5, 5, 5, 5, 5, 5, 5])"
            ]
          },
          "metadata": {},
          "execution_count": 91
        }
      ]
    },
    {
      "cell_type": "code",
      "source": [
        "#  問題36\n",
        "# 平均 10，標準偏差 10 の正規乱数を 10×10 の行列に入れ，負のものだけを切り出せ．\n",
        "x=np.random.normal(10,10,(10,10))\n",
        "print(x[x<0])"
      ],
      "metadata": {
        "id": "teBy3h2QpA4E",
        "colab": {
          "base_uri": "https://localhost:8080/"
        },
        "outputId": "c5e1c9f7-3986-4626-c097-e8089b5e164c"
      },
      "execution_count": 92,
      "outputs": [
        {
          "output_type": "stream",
          "name": "stdout",
          "text": [
            "[-9.56936888e+00 -9.69904220e+00 -1.46347992e+00 -5.85998581e+00\n",
            " -1.24591656e+00 -3.64848502e-01 -1.17055361e+01 -1.67678000e+01\n",
            " -1.38952972e+00 -3.13692343e+00 -4.84704049e-01 -1.67199407e-02\n",
            " -2.39909393e-01]\n"
          ]
        }
      ]
    },
    {
      "cell_type": "markdown",
      "source": [
        "#すべて (all), いずれか (any), 条件指定 (where)"
      ],
      "metadata": {
        "id": "YlV-RG2ktHFv"
      }
    },
    {
      "cell_type": "code",
      "source": [
        "# BOOLインデックス配列を引数とした関数として， all, any, where がある．\n",
        "# allは配列の中の要素がすべてTrueのときTrueを返す．\n",
        "\n",
        "np.all([True,True,False]) "
      ],
      "metadata": {
        "colab": {
          "base_uri": "https://localhost:8080/"
        },
        "id": "Q8tco6TZtRKr",
        "outputId": "2b133612-444e-439f-ac9f-7e929c25eb72"
      },
      "execution_count": 93,
      "outputs": [
        {
          "output_type": "execute_result",
          "data": {
            "text/plain": [
              "False"
            ]
          },
          "metadata": {},
          "execution_count": 93
        }
      ]
    },
    {
      "cell_type": "code",
      "source": [
        "# anyは配列の中の要素に1つでもTrueのものがあればTrueを返す．\n",
        "np.any([True,True,False])"
      ],
      "metadata": {
        "colab": {
          "base_uri": "https://localhost:8080/"
        },
        "id": "Pspwq1t1tRMJ",
        "outputId": "d02f1697-d698-47a5-d4a4-cca63255af6f"
      },
      "execution_count": 94,
      "outputs": [
        {
          "output_type": "execute_result",
          "data": {
            "text/plain": [
              "True"
            ]
          },
          "metadata": {},
          "execution_count": 94
        }
      ]
    },
    {
      "cell_type": "code",
      "source": [
        "# whereは配列がTrueのインデックスの配列を返す．\n",
        "np.where([True,False,True])"
      ],
      "metadata": {
        "colab": {
          "base_uri": "https://localhost:8080/"
        },
        "id": "hhPqFmcUtRN-",
        "outputId": "422fd6d2-9a76-4a1a-8c24-6d6674a7ca25"
      },
      "execution_count": 95,
      "outputs": [
        {
          "output_type": "execute_result",
          "data": {
            "text/plain": [
              "(array([0, 2]),)"
            ]
          },
          "metadata": {},
          "execution_count": 95
        }
      ]
    },
    {
      "cell_type": "code",
      "source": [
        "# whereは3項演算子 where（BOOLインデックス配列(条件式), Trueのときの値, Falseのときの値) としても使える．\n",
        "\n",
        "x = np.array([1,2,3,4,5])\n",
        "print(np.where(x%2,\"odd\",\"even\"))"
      ],
      "metadata": {
        "colab": {
          "base_uri": "https://localhost:8080/"
        },
        "id": "SiveLBnetRQK",
        "outputId": "393156fd-e383-4ba6-c997-894546248454"
      },
      "execution_count": 96,
      "outputs": [
        {
          "output_type": "stream",
          "name": "stdout",
          "text": [
            "['odd' 'even' 'odd' 'even' 'odd']\n"
          ]
        }
      ]
    },
    {
      "cell_type": "code",
      "source": [
        "x = np.random.randint(low=1,high=100, size=10) #[1,100]の一様乱数による配列\n",
        "print(x)\n",
        "print(np.all( x <=90)) #すべてがTrueのときTrueを返す\n",
        "print(np.any(x <=10))   #いずれかの要素がTrueのときTrueを返す"
      ],
      "metadata": {
        "colab": {
          "base_uri": "https://localhost:8080/"
        },
        "id": "FdJvfnXotRRz",
        "outputId": "95ec2c9e-ead2-4f80-ee81-aea6af6bc553"
      },
      "execution_count": 97,
      "outputs": [
        {
          "output_type": "stream",
          "name": "stdout",
          "text": [
            "[92 29 37 29 34 29 90 34 79  4]\n",
            "False\n",
            "True\n"
          ]
        }
      ]
    },
    {
      "cell_type": "code",
      "source": [
        "#  問題37\n",
        "# 平均 100，標準偏差 10 の需要を 10個（10日分）入れた配列 demand を作り， 需要が仕入れ量 110 より多い場合には品切れ費用， 少ない場合には在庫費用を入れた配列 costを作れ． \n",
        "# ただし，1個あたりの品切れ費用は 100円， 在庫費用は 1円とする．"
      ],
      "metadata": {
        "id": "HeVe0a9DpA56"
      },
      "execution_count": 98,
      "outputs": []
    },
    {
      "cell_type": "code",
      "source": [
        "#  問題38\n",
        "# 10日間の費用の合計を計算せよ．"
      ],
      "metadata": {
        "id": "6NQAoOmDpA7q"
      },
      "execution_count": 99,
      "outputs": []
    },
    {
      "cell_type": "code",
      "source": [
        "#  問題39\n",
        "# 仕入れ量を変えた場合の費用を計算し，適切な仕入れ量を求めよ．"
      ],
      "metadata": {
        "id": "qh1Op716pA9R"
      },
      "execution_count": 100,
      "outputs": []
    },
    {
      "cell_type": "code",
      "source": [
        "#  問題40\n",
        "# 次のプログラムは入力した正の整数 x に対して何を返すためのプログラムか？ 推測せよ．\n",
        "not np.any([x%i == 0 for i in range(2, x)])"
      ],
      "metadata": {
        "colab": {
          "base_uri": "https://localhost:8080/",
          "height": 236
        },
        "id": "DmpLyzIVpA_F",
        "outputId": "808ff041-d1e1-4cbe-e6ab-54ea54c9bf78"
      },
      "execution_count": 101,
      "outputs": [
        {
          "output_type": "error",
          "ename": "TypeError",
          "evalue": "ignored",
          "traceback": [
            "\u001b[0;31m---------------------------------------------------------------------------\u001b[0m",
            "\u001b[0;31mTypeError\u001b[0m                                 Traceback (most recent call last)",
            "\u001b[0;32m<ipython-input-101-f5a36d0f2f89>\u001b[0m in \u001b[0;36m<module>\u001b[0;34m()\u001b[0m\n\u001b[1;32m      1\u001b[0m \u001b[0;31m#  問題40\u001b[0m\u001b[0;34m\u001b[0m\u001b[0;34m\u001b[0m\u001b[0;34m\u001b[0m\u001b[0m\n\u001b[1;32m      2\u001b[0m \u001b[0;31m# 次のプログラムは入力した正の整数 x に対して何を返すためのプログラムか？ 推測せよ．\u001b[0m\u001b[0;34m\u001b[0m\u001b[0;34m\u001b[0m\u001b[0;34m\u001b[0m\u001b[0m\n\u001b[0;32m----> 3\u001b[0;31m \u001b[0;32mnot\u001b[0m \u001b[0mnp\u001b[0m\u001b[0;34m.\u001b[0m\u001b[0many\u001b[0m\u001b[0;34m(\u001b[0m\u001b[0;34m[\u001b[0m\u001b[0mx\u001b[0m\u001b[0;34m%\u001b[0m\u001b[0mi\u001b[0m \u001b[0;34m==\u001b[0m \u001b[0;36m0\u001b[0m \u001b[0;32mfor\u001b[0m \u001b[0mi\u001b[0m \u001b[0;32min\u001b[0m \u001b[0mrange\u001b[0m\u001b[0;34m(\u001b[0m\u001b[0;36m2\u001b[0m\u001b[0;34m,\u001b[0m \u001b[0mx\u001b[0m\u001b[0;34m)\u001b[0m\u001b[0;34m]\u001b[0m\u001b[0;34m)\u001b[0m\u001b[0;34m\u001b[0m\u001b[0;34m\u001b[0m\u001b[0m\n\u001b[0m",
            "\u001b[0;31mTypeError\u001b[0m: only integer scalar arrays can be converted to a scalar index"
          ]
        }
      ]
    },
    {
      "cell_type": "markdown",
      "source": [
        "#数列の生成法"
      ],
      "metadata": {
        "id": "p4duzSfUuWry"
      }
    },
    {
      "cell_type": "code",
      "source": [
        "# NumPyには様々な数列を生成するための関数が準備されている．\n",
        "# 通常のリストと同じように整数の配列を生成するためには，arange関数を用いる．\n",
        "# 引数は，開始，終了，ステップ（階差）である．\n",
        "\n",
        "x = np.arange(1,11,2) # array([1, 3, 5, 7, 9])"
      ],
      "metadata": {
        "id": "XOGD2Ci5uguf"
      },
      "execution_count": 102,
      "outputs": []
    },
    {
      "cell_type": "code",
      "source": [
        "# 配列のサイズ(要素の個数）を指定して階差が等しくなるような数列を生成するには，linspace関数を用いる．\n",
        "# 引数は，開始，終了，要素数であるが，既定値だと最後の要素が終了と一致するように生成することに注意されたい．\n",
        "\n",
        "x = np.linspace(1,6,10) #1~6までを10等分,階差が等しくなるような数列を作成\n",
        "x"
      ],
      "metadata": {
        "colab": {
          "base_uri": "https://localhost:8080/"
        },
        "id": "LE_5YIdwugxZ",
        "outputId": "c9e2bcae-a7a2-47ad-a219-a30302ea7583"
      },
      "execution_count": 103,
      "outputs": [
        {
          "output_type": "execute_result",
          "data": {
            "text/plain": [
              "array([1.        , 1.55555556, 2.11111111, 2.66666667, 3.22222222,\n",
              "       3.77777778, 4.33333333, 4.88888889, 5.44444444, 6.        ])"
            ]
          },
          "metadata": {},
          "execution_count": 103
        }
      ]
    },
    {
      "cell_type": "code",
      "source": [
        "# linspace関数はmatplotlibで関数の図を描画するときによく用いられる\n",
        "# y=x**2のグラフを描画した例を示す．\n",
        "\n",
        "x = np.linspace(0,100,100) # 0から100まで均等割りした100個の要素から成る配列\n",
        "y = x**2 # 同じ長さの配列に xの2乗を入れる\n",
        "import matplotlib.pyplot as plt # 図を描画する準備\n",
        "plt.plot(x,y) # 描画"
      ],
      "metadata": {
        "colab": {
          "base_uri": "https://localhost:8080/",
          "height": 282
        },
        "id": "aPTo0smSug0f",
        "outputId": "98b193ca-8780-4c64-f360-aa928f45765f"
      },
      "execution_count": 104,
      "outputs": [
        {
          "output_type": "execute_result",
          "data": {
            "text/plain": [
              "[<matplotlib.lines.Line2D at 0x7f8ef8607e90>]"
            ]
          },
          "metadata": {},
          "execution_count": 104
        },
        {
          "output_type": "display_data",
          "data": {
            "image/png": "[encoded data removed]",
            "text/plain": [
              "<Figure size 432x288 with 1 Axes>"
            ]
          },
          "metadata": {
            "needs_background": "light"
          }
        }
      ]
    },
    {
      "cell_type": "code",
      "source": [
        "#  問題41 \n",
        "# x に1から100まで公差3の数列を代入し，x の平方根のグラフをプロットせよ．ただし，平方根はNumPyのsqrt関数で計算せよ．\n",
        "# (NumPyモジュールのsqrt関数はユニバーサル関数である．mathモジュールのsqrt関数を用いると，スカラーしか計算できないことに注意．）\n",
        "\n",
        "x = np.arange(1,100,3)\n",
        "y = np.sqrt(x)\n",
        "plt.plot(x,y)"
      ],
      "metadata": {
        "id": "w51k1fOlpBA6",
        "colab": {
          "base_uri": "https://localhost:8080/",
          "height": 282
        },
        "outputId": "ebfbb7de-2ac2-4fe1-f31f-31bcc3991a50"
      },
      "execution_count": 105,
      "outputs": [
        {
          "output_type": "execute_result",
          "data": {
            "text/plain": [
              "[<matplotlib.lines.Line2D at 0x7f8ef86768d0>]"
            ]
          },
          "metadata": {},
          "execution_count": 105
        },
        {
          "output_type": "display_data",
          "data": {
            "image/png": "[encoded data removed]",
            "text/plain": [
              "<Figure size 432x288 with 1 Axes>"
            ]
          },
          "metadata": {
            "needs_background": "light"
          }
        }
      ]
    },
    {
      "cell_type": "code",
      "source": [
        "# 問題42\n",
        "# 0.1から10まで100個の数値を均等に配置した x 座標に対して y=1/x の関数を描画せよ．\n",
        "x = np.linspace(0.1,10,100)\n",
        "y = 1/x\n",
        "\n",
        "plt.plot(x,y)"
      ],
      "metadata": {
        "id": "ob5rmsphtJmX",
        "colab": {
          "base_uri": "https://localhost:8080/",
          "height": 282
        },
        "outputId": "4b7f8bab-8147-44ed-8c5a-9ea75ec1c94f"
      },
      "execution_count": 106,
      "outputs": [
        {
          "output_type": "execute_result",
          "data": {
            "text/plain": [
              "[<matplotlib.lines.Line2D at 0x7f8ef80e3ad0>]"
            ]
          },
          "metadata": {},
          "execution_count": 106
        },
        {
          "output_type": "display_data",
          "data": {
            "image/png": "[encoded data removed]",
            "text/plain": [
              "<Figure size 432x288 with 1 Axes>"
            ]
          },
          "metadata": {
            "needs_background": "light"
          }
        }
      ]
    },
    {
      "cell_type": "markdown",
      "source": [
        "#まとめ問題"
      ],
      "metadata": {
        "id": "L5Zv8rNMvhs3"
      }
    },
    {
      "cell_type": "code",
      "source": [
        "# 問題43\n",
        "# あるスーパーで販売しているある商品の在庫を管理したい． いま，t−1日の在庫量の営業後に在庫を調べて，発注量 x[t] を決める．発注した商品は翌日の朝に届き， それによって t 日の営業後の在庫 I[t] は，以下のように決まるものとする．"
      ],
      "metadata": {
        "id": "rdGQ28jetJnh"
      },
      "execution_count": 107,
      "outputs": []
    },
    {
      "cell_type": "markdown",
      "source": [
        "![Screen Shot 2022-01-24 at 13.58.11.png](data:image/png;base64,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)"
      ],
      "metadata": {
        "id": "8YjFjtPbcsdt"
      }
    },
    {
      "cell_type": "code",
      "source": [
        "# ここで D[t] はt日の需要量であり，需要が平均 100，標準偏差 10 の正規分布とする． \n",
        "# また，最初の日(t=0)の営業後の在庫は 0 であると仮定する．\n",
        "\n",
        "# 以下の在庫管理方策のプログラムを作成せよ．\n",
        "\n",
        "# (s,S)方策：在庫量 I[t−1] が s 未満であるなら，翌朝の在庫が S になるように発注する．\n",
        "# 10箇所のスーパーがあり，同じ平均と標準偏差の需要があるとする． NumPyの多次元配列を使って，一度にすべての店舗に対するシミュレーションを行うプログラムを作成せよ．"
      ],
      "metadata": {
        "id": "-UaLchADc141"
      },
      "execution_count": 108,
      "outputs": []
    }
  ]
}