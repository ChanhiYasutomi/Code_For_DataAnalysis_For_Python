{
  "nbformat": 4,
  "nbformat_minor": 0,
  "metadata": {
    "colab": {
      "name": "Python_for_beginner5.ipynb",
      "provenance": [],
      "collapsed_sections": []
    },
    "kernelspec": {
      "name": "python3",
      "display_name": "Python 3"
    },
    "language_info": {
      "name": "python"
    }
  },
  "cells": [
    {
      "cell_type": "code",
      "metadata": {
        "id": "XGE1JbouK0j4",
        "colab": {
          "base_uri": "https://localhost:8080/"
        },
        "outputId": "44484556-e75a-4ac0-da8d-e9354db30707"
      },
      "source": [
        "# 問題1\n",
        "# 名字を英語で書くようにして,フルネームにするプログラムを作成せよ\n",
        "first = input(\"名前を入力:\")\n",
        "given = input(\"名前を入力:\")\n",
        "\n",
        "print(f\"私の名前は{first} {given}です\")"
      ],
      "execution_count": 1,
      "outputs": [
        {
          "output_type": "stream",
          "name": "stdout",
          "text": [
            "名前を入力:Chani\n",
            "名前を入力:Leon\n",
            "私の名前はChani Leonです\n"
          ]
        }
      ]
    },
    {
      "cell_type": "code",
      "source": [
        "# 問題2\n",
        "# 入力した整数が正の場合positiveとして,さらに100以上の場合は100以上,100未満の場合は100未満と表示する。\n",
        "# また入力した整数が正でない場合,0の場合はzero,負の場合はnegativeと表示する\n",
        "x = int(input(\"please input interger:\"))\n",
        "if x > 0:\n",
        "    print(\"positive\")\n",
        "    if x >= 100:\n",
        "        print(\"more than 100 \")\n",
        "    elif x < 100:\n",
        "        print(\"less than 100\")\n",
        "elif x == 0:\n",
        "    print(\"zero\")\n",
        "else:\n",
        "    print(\"negative\")\n"
      ],
      "metadata": {
        "colab": {
          "base_uri": "https://localhost:8080/"
        },
        "id": "Z0nF-7H78mfB",
        "outputId": "29eb61d8-eed0-4e7d-ec3a-f8ffbf00b55b"
      },
      "execution_count": 2,
      "outputs": [
        {
          "output_type": "stream",
          "name": "stdout",
          "text": [
            "please input interger:100\n",
            "positive\n",
            "more than 100 \n"
          ]
        }
      ]
    },
    {
      "cell_type": "code",
      "source": [
        "# 問題3\n",
        "# 入力した整数xが負の数,またはxが100以上で\"beyond the range\"と出力,それ以外は\"OK\"とする。\n",
        "\n",
        "x = int(input(\"please input interger:\"))\n",
        "if x < 0 or x >=100:\n",
        "    print(\"beyond the range\")\n",
        "else:\n",
        "    print(\"OK\")"
      ],
      "metadata": {
        "colab": {
          "base_uri": "https://localhost:8080/"
        },
        "id": "vELzsOdU8zQS",
        "outputId": "f0872dd7-d918-438f-d6a5-bb8c542ddd3b"
      },
      "execution_count": 3,
      "outputs": [
        {
          "output_type": "stream",
          "name": "stdout",
          "text": [
            "please input interger:100\n",
            "beyond the range\n"
          ]
        }
      ]
    },
    {
      "cell_type": "code",
      "source": [
        "# 問題4\n",
        "# while 条件:\n",
        "#     繰り返したいコード\n",
        "\n",
        "# の構文で条件が成立している時(真の時)にコード(複数でも可)が繰り返し実行される\n",
        "# 必ずいつか条件はFalse(偽)になるように設定する - でなければ無限ループに入る\n",
        "\n",
        "# 5から1までの数字を順番に表示するプログラムを作成せよ\n",
        "x = 5 \n",
        "while x > 0:\n",
        "    print(x)\n",
        "    x = x - 1"
      ],
      "metadata": {
        "colab": {
          "base_uri": "https://localhost:8080/"
        },
        "id": "yGkK5WA88zTu",
        "outputId": "91edfc22-422e-4fd9-ecdb-1a99406eb785"
      },
      "execution_count": 4,
      "outputs": [
        {
          "output_type": "stream",
          "name": "stdout",
          "text": [
            "5\n",
            "4\n",
            "3\n",
            "2\n",
            "1\n"
          ]
        }
      ]
    },
    {
      "cell_type": "code",
      "source": [
        "# 問題5\n",
        "# 10から1までの数字の２乗を順に出力するプログラムを作成せよ\n",
        "#xが0以下になったらbreakするようにする\n",
        "\n",
        "x = 10\n",
        "while True: #whileの後にTrueと常に真になる式を入れてwhileループを作る。繰り返しブロックの中でxの２乗を出力してから-1をする。\n",
        "    print(x**2)\n",
        "    x = x -1\n",
        "    if x <=0: #xが0以下になったらbreakするようにする\n",
        "        break"
      ],
      "metadata": {
        "colab": {
          "base_uri": "https://localhost:8080/"
        },
        "id": "4qoFS2bO8zVR",
        "outputId": "96a17eb2-c958-41ce-c190-a91a36a5569b"
      },
      "execution_count": 5,
      "outputs": [
        {
          "output_type": "stream",
          "name": "stdout",
          "text": [
            "100\n",
            "81\n",
            "64\n",
            "49\n",
            "36\n",
            "25\n",
            "16\n",
            "9\n",
            "4\n",
            "1\n"
          ]
        }
      ]
    },
    {
      "cell_type": "code",
      "source": [
        "# 問題6\n",
        "# for文\n",
        "# for x(繰り返したい文) in range(初期値,終了値,ステップ)\n",
        "\n",
        "# 1から10までの奇数の2乗を順に出力するプログラムを作成せよ\n",
        "for i in range(1,11,2):\n",
        "    print(i**2)"
      ],
      "metadata": {
        "colab": {
          "base_uri": "https://localhost:8080/"
        },
        "id": "gQDuUd2h8zXH",
        "outputId": "77a8fdce-b00a-4974-9776-e4e552843068"
      },
      "execution_count": 6,
      "outputs": [
        {
          "output_type": "stream",
          "name": "stdout",
          "text": [
            "1\n",
            "9\n",
            "25\n",
            "49\n",
            "81\n"
          ]
        }
      ]
    },
    {
      "cell_type": "code",
      "source": [
        "# 問題7\n",
        "# 10から1までの数字の２乗を順に出力するプログラムを作成せよ(問題5をfor文で作成)\n",
        "for i in range(10,0,-1): #10から1までの数列を生成するためにはstepに-1する\n",
        "    print(i**2)"
      ],
      "metadata": {
        "colab": {
          "base_uri": "https://localhost:8080/"
        },
        "id": "YHOPDGmV8zY7",
        "outputId": "a93fa52c-1d9c-4d29-db3c-106816cbab36"
      },
      "execution_count": 7,
      "outputs": [
        {
          "output_type": "stream",
          "name": "stdout",
          "text": [
            "100\n",
            "81\n",
            "64\n",
            "49\n",
            "36\n",
            "25\n",
            "16\n",
            "9\n",
            "4\n",
            "1\n"
          ]
        }
      ]
    },
    {
      "cell_type": "code",
      "source": [
        "# 問題8\n",
        "# for(while)文に中にfor(while)文を書くこともできる。これは反復の入れ子と呼ばれる。\n",
        "\n",
        "# for x in range():\n",
        "#     for y in range():\n",
        "#         繰り返したい文 \n",
        "\n",
        "# 1から5までの整数xと8から16までの整数yの和の表を作成せよ\n",
        "for x in range(1,6):\n",
        "    for y in range(8,17):\n",
        "        print(x+y,end=\"\") #改行しないで出力したい時はprint(出力したい数,end=\"\")とする。これはend=の後に書いた文字が改行コードの代わりに出力に付加されることとすると全部繋がってしまうので,内側のループが終わった後にprint()と改行を行うための出力を入れる\n",
        "    print()"
      ],
      "metadata": {
        "colab": {
          "base_uri": "https://localhost:8080/"
        },
        "id": "gs_O0U4x8zaf",
        "outputId": "7e4afb78-6a92-439b-b193-52092d9569be"
      },
      "execution_count": 8,
      "outputs": [
        {
          "output_type": "stream",
          "name": "stdout",
          "text": [
            "91011121314151617\n",
            "101112131415161718\n",
            "111213141516171819\n",
            "121314151617181920\n",
            "131415161718192021\n"
          ]
        }
      ]
    },
    {
      "cell_type": "code",
      "source": [
        "# 問題9\n",
        "# 数を繰り返し入力し前回と同じ数が入力されたら,終了するプログラムを,補助変数を使って,作成する\n",
        "# 前回入力された数を記録するために補助関数yを作成。ループ内で新たにxに数を入力する前にyにxを代入して\n",
        "# 前回入力された値をyに保存する。数の比較には x==yやx!=表現を用いる\n",
        "\n",
        "y = int(input(\"y=\")) #補助関数,前回入力された数を記録するために補助関数yを作成\n",
        "x = int(input(\"x=\"))\n",
        "while y != x: #y != xでないうちはy=xを実行する(xをyに保存する)\n",
        "    y=x\n",
        "    x = input(\"x=\")"
      ],
      "metadata": {
        "id": "cce8o0288zd6",
        "colab": {
          "base_uri": "https://localhost:8080/"
        },
        "outputId": "93db8908-3644-4e7c-b814-bcc6c87f45ed"
      },
      "execution_count": 9,
      "outputs": [
        {
          "name": "stdout",
          "output_type": "stream",
          "text": [
            "y=1\n",
            "x=2\n",
            "x=3\n",
            "x=4\n",
            "x=4\n"
          ]
        }
      ]
    },
    {
      "cell_type": "code",
      "source": [
        "# 問題10\n",
        "# 10個の数を入力してその中で最大のもの表示するプログラムを作成する。\n",
        "\n",
        "# 1,最大値を示す補助関数mを準備した、十分に小さな数を代入しておく\n",
        "# 2,次にfor文による反復の中で入力した数jがmより大きいならばその数をmに代入する\n",
        "# 3,反復から抜けた時のmの値が最大値になる\n",
        "\n",
        "m = -9999 #十分に小さい文字\n",
        "for i in range(10):\n",
        "    j = int(input(\"enter an integer:\"))\n",
        "    if m < j: #m < jの場合はそのjをmに代入する(m=j)\n",
        "        m=j\n",
        "print(m)"
      ],
      "metadata": {
        "colab": {
          "base_uri": "https://localhost:8080/"
        },
        "id": "1DOF1dEE8zfu",
        "outputId": "d18e2fc7-3ed6-4ee4-8bde-2cef490b5ba4"
      },
      "execution_count": 10,
      "outputs": [
        {
          "output_type": "stream",
          "name": "stdout",
          "text": [
            "enter an integer:12\n",
            "enter an integer:3\n",
            "enter an integer:1\n",
            "enter an integer:4\n",
            "enter an integer:2\n",
            "enter an integer:6\n",
            "enter an integer:7\n",
            "enter an integer:321\n",
            "enter an integer:3\n",
            "enter an integer:4\n",
            "321\n"
          ]
        }
      ]
    },
    {
      "cell_type": "code",
      "source": [
        "4# 問題11\n",
        "# 入力した10個の数の中に10以上のものはいくつあるかというプログラムを作る\n",
        "\n",
        "# 1,最初に10以上のものの数を表す補助関数cに0を入れておく\n",
        "# 2,for文に反復の中で、10以上の数字が出てきたときにcに１を加える\n",
        "# 3,ループから出てきた時には,cに10以上の数をカウントして数が入っている\n",
        "\n",
        "c=0\n",
        "for i in range(10):\n",
        "    j = int(input(\"enter an integer:\"))\n",
        "    if j >= 10:\n",
        "        c +=1 #c=c+1\n",
        "print(c)"
      ],
      "metadata": {
        "colab": {
          "base_uri": "https://localhost:8080/"
        },
        "id": "UHYdTDah8zhh",
        "outputId": "995fbed6-e334-4be6-d4c1-36c560c7ee85"
      },
      "execution_count": 11,
      "outputs": [
        {
          "output_type": "stream",
          "name": "stdout",
          "text": [
            "enter an integer:1\n",
            "enter an integer:44\n",
            "enter an integer:4444\n",
            "enter an integer:4\n",
            "enter an integer:5\n",
            "enter an integer:64\n",
            "enter an integer:23\n",
            "enter an integer:76\n",
            "enter an integer:2\n",
            "enter an integer:4\n",
            "5\n"
          ]
        }
      ]
    },
    {
      "cell_type": "code",
      "source": [
        "# 問題12\n",
        "# 入力した5個の数の中に5があるかというプログラムを作る(フラグ(旗のこと)と呼ばれる補助関数を用いる)\n",
        "\n",
        "# 1,フラグfは反復に入る前にが0に設定されている。これはまだ5が見つかっていないことを表す\n",
        "# 2,ループの中で5が入力されたらフラグfは1に変更する\n",
        "# 3,最後にループが出た後にfが1になっていれば5であった、fが0のままなら5がなかったことになる\n",
        "\n",
        "f = 0\n",
        "for i in range(5):\n",
        "    j = int(input(\"enter an integer:\"))\n",
        "    if j==5: #もしj==5だったらf(フラグ)を1にする\n",
        "        f=1\n",
        "if f==1:\n",
        "    print(\"5があった\")\n",
        "else:\n",
        "    print(\"no 5\")"
      ],
      "metadata": {
        "id": "p-ysrq2E8zjH",
        "colab": {
          "base_uri": "https://localhost:8080/"
        },
        "outputId": "e51f6efc-13b7-4742-aadd-933adeefd0f4"
      },
      "execution_count": 12,
      "outputs": [
        {
          "output_type": "stream",
          "name": "stdout",
          "text": [
            "enter an integer:5\n",
            "enter an integer:4\n",
            "enter an integer:3\n",
            "enter an integer:2\n",
            "enter an integer:1\n",
            "5があった\n"
          ]
        }
      ]
    },
    {
      "cell_type": "code",
      "source": [
        "# 問題13\n",
        "# 問題12でbreak文を使う(５がでたらbreak(反復を終了する)できる)\n",
        "\n",
        "f = 0\n",
        "for i in range(5):\n",
        "    j = int(input(\"enter an integer:\"))\n",
        "    if j==5: #もしj==5だったらf(フラグ)を1にする\n",
        "        print(\"5があった\") \n",
        "        break\n",
        "else: #for文を抜けた直後に,elseによるブロックを入れると,breakに終了しなかったときだけ実行される\n",
        "    print(\"5がなかった\")"
      ],
      "metadata": {
        "colab": {
          "base_uri": "https://localhost:8080/"
        },
        "id": "CtoNj0yT8zk8",
        "outputId": "b268baaa-1307-490c-c479-4034961037b0"
      },
      "execution_count": 13,
      "outputs": [
        {
          "output_type": "stream",
          "name": "stdout",
          "text": [
            "enter an integer:5\n",
            "5があった\n"
          ]
        }
      ]
    },
    {
      "cell_type": "code",
      "source": [
        "# 問題14 (continue文)\n",
        "# 5個の整数のうちに3がある場合、3をスキップして出力\n",
        "\n",
        "for i in range(5):\n",
        "    if i==3:\n",
        "        continue\n",
        "    print(f\"入力値:{i}\")"
      ],
      "metadata": {
        "colab": {
          "base_uri": "https://localhost:8080/"
        },
        "id": "jBTADUY98zmv",
        "outputId": "d8b4cde0-97e7-4a44-a90f-8f42b146621a"
      },
      "execution_count": 14,
      "outputs": [
        {
          "output_type": "stream",
          "name": "stdout",
          "text": [
            "入力値:0\n",
            "入力値:1\n",
            "入力値:2\n",
            "入力値:4\n"
          ]
        }
      ]
    },
    {
      "cell_type": "markdown",
      "source": [
        "# オブジェクトの型について"
      ],
      "metadata": {
        "id": "oDsISES9yeob"
      }
    },
    {
      "cell_type": "code",
      "source": [
        "# A.1.1 数と論理型\n",
        "# type関数を用いて，以下の出力結果を得なさい．\n",
        "\n",
        "# 1,float\n",
        "# 2,int\n",
        "# 3,complex\n",
        "# 4,bool\n",
        "\n",
        "print(type(1.1))\n",
        "print(type(1))\n",
        "print(type(4j)) #j=i 虚数\n",
        "print(type(True))"
      ],
      "metadata": {
        "id": "nmA9ebjbifN8",
        "colab": {
          "base_uri": "https://localhost:8080/"
        },
        "outputId": "22403105-d2e2-45ef-ad5f-22b84ea38c16"
      },
      "execution_count": 15,
      "outputs": [
        {
          "output_type": "stream",
          "name": "stdout",
          "text": [
            "<class 'float'>\n",
            "<class 'int'>\n",
            "<class 'complex'>\n",
            "<class 'bool'>\n"
          ]
        }
      ]
    },
    {
      "cell_type": "code",
      "source": [
        "# A.1.2 文字列\n",
        "# フォーマット文字列\n",
        "# 文字列の中に変数を表示させたいときがある。そのような場合には、以下のフォーマット文字列(f-strings)を用いる。\n",
        "\n",
        "x = 100\n",
        "y = 3.14\n",
        "print(f\"{x} と {y}\")"
      ],
      "metadata": {
        "id": "_nGA9n2difQQ",
        "colab": {
          "base_uri": "https://localhost:8080/"
        },
        "outputId": "0946e256-87a5-47d7-aba1-e64e37dff5e3"
      },
      "execution_count": 16,
      "outputs": [
        {
          "output_type": "stream",
          "name": "stdout",
          "text": [
            "100 と 3.14\n"
          ]
        }
      ]
    },
    {
      "cell_type": "code",
      "source": [
        "# 文字列 s='PythonVideoCheckProblem' から，スライス表記を用いて 'onVide' を抜き出しなさい．\n",
        "s='PythonVideoCheckProblem'\n",
        "s[4:10]"
      ],
      "metadata": {
        "id": "UGOPLaJUifSY",
        "colab": {
          "base_uri": "https://localhost:8080/",
          "height": 35
        },
        "outputId": "e933ac84-42a5-42ec-8be6-f12c41f821a4"
      },
      "execution_count": 17,
      "outputs": [
        {
          "output_type": "execute_result",
          "data": {
            "application/vnd.google.colaboratory.intrinsic+json": {
              "type": "string"
            },
            "text/plain": [
              "'onVide'"
            ]
          },
          "metadata": {},
          "execution_count": 17
        }
      ]
    },
    {
      "cell_type": "code",
      "source": [
        "# 文字列s='PythonVideoCheckProblem' をすべて大文字にしなさい．\n",
        "s='PythonVideoCheckProblem'\n",
        "print(s.upper())"
      ],
      "metadata": {
        "id": "bmkYOigRifUX",
        "colab": {
          "base_uri": "https://localhost:8080/"
        },
        "outputId": "3e547572-46f2-4714-ea38-b3bc1066eafe"
      },
      "execution_count": 18,
      "outputs": [
        {
          "output_type": "stream",
          "name": "stdout",
          "text": [
            "PYTHONVIDEOCHECKPROBLEM\n"
          ]
        }
      ]
    },
    {
      "cell_type": "code",
      "source": [
        "# 以下の文字列，並びに format を用いて，'Python,Video,Check,Problem' を作成しなさい．なお，単語の間には ',' を挟むこと．\n",
        "\n",
        "s1 = 'Problem'\n",
        "s2 = 'Python'\n",
        "s3 = 'Check'\n",
        "s4 = 'Video'\n",
        "\n",
        "print(f\"{s1},{s2},{s3},{s4}\")\n",
        "print(\"{},{},{},{}\".format(s1,s2,s3,s4))"
      ],
      "metadata": {
        "id": "OqSnL0TZifWH",
        "colab": {
          "base_uri": "https://localhost:8080/"
        },
        "outputId": "94386fa4-5f98-4ddd-c086-de9d1eec0fd5"
      },
      "execution_count": 19,
      "outputs": [
        {
          "output_type": "stream",
          "name": "stdout",
          "text": [
            "Problem,Python,Check,Video\n",
            "Problem,Python,Check,Video\n"
          ]
        }
      ]
    },
    {
      "cell_type": "code",
      "source": [
        "# 引数として与えた文字列が全て小文字なら True．そうでないなら Falseを返す関数を作りなさい． \n",
        "# 例として，文字列 s='PyThOn' を関数の引数として与えて判定しなさい．\n",
        "\n",
        "s='PyThOn'\n",
        "def islower(s):\n",
        "    return s.islower()\n",
        "islower(s)"
      ],
      "metadata": {
        "id": "U6D0YS28ifX3",
        "colab": {
          "base_uri": "https://localhost:8080/"
        },
        "outputId": "2dba1aa4-7477-41e8-aa10-7439f510f80f"
      },
      "execution_count": 20,
      "outputs": [
        {
          "output_type": "execute_result",
          "data": {
            "text/plain": [
              "False"
            ]
          },
          "metadata": {},
          "execution_count": 20
        }
      ]
    },
    {
      "cell_type": "code",
      "source": [
        "# 小文字として与えた文字列の先頭が母音（'a','i','u','e','o'）である場合には，'an 'を，そうでない場合には 'a 'を加えた文字列を返す関数を作れ． \n",
        "# 例として，'apple'と'pen'を引数として与えた関数の返値を出力せよ．\n",
        "\n",
        "vowels ={'a','i','u','e','o'}\n",
        "\n",
        "def f(s):\n",
        "    if s[0] in vowels:\n",
        "        return \"an\" + s\n",
        "    else:\n",
        "        return \"a\" + s\n",
        "\n",
        "print(f(\"apple\"))\n",
        "print(f(\"pen\"))"
      ],
      "metadata": {
        "id": "QkjhSgUpifZz",
        "colab": {
          "base_uri": "https://localhost:8080/"
        },
        "outputId": "d066dcd4-81f3-42f3-aafb-39d85df66d75"
      },
      "execution_count": 21,
      "outputs": [
        {
          "output_type": "stream",
          "name": "stdout",
          "text": [
            "anapple\n",
            "apen\n"
          ]
        }
      ]
    },
    {
      "cell_type": "markdown",
      "source": [
        "#関数、データ構造編"
      ],
      "metadata": {
        "id": "4qfylPleP7A8"
      }
    },
    {
      "cell_type": "code",
      "source": [
        "# 関数の問題集 - https://scmopt.github.io/analytics/02BasicProgramming.html#%E9%96%A2%E6%95%B0\n",
        "\n",
        "# def 関数名(引数):\n",
        "#     関数本体\n",
        "#     return 返り値\n",
        "\n",
        "# 関数は入力を出力に変換する．\n",
        "# 入力 => 関数 => 出力\n",
        "# 入力を「引数（ひきすう）」，出力を「返値（かえりち）」と呼ぶ．\n",
        "\n",
        "# 問題15\n",
        "# 整数nを引数として受け取り， print(“#”, end='') を n回繰り返し，長さnの#でできた棒を表示する関数をつくる\n",
        "\n",
        "def f(n):\n",
        "    for i in range(n):\n",
        "        print(\"#\", end='') # end='' - ＃を書いた後に入れる文字\n",
        "f(25)"
      ],
      "metadata": {
        "colab": {
          "base_uri": "https://localhost:8080/"
        },
        "id": "_iJnsDcT8zoj",
        "outputId": "f62e0065-188c-4f90-99ed-9907d263ee12"
      },
      "execution_count": 22,
      "outputs": [
        {
          "output_type": "stream",
          "name": "stdout",
          "text": [
            "#########################"
          ]
        }
      ]
    },
    {
      "cell_type": "markdown",
      "source": [
        "# 無名関数 lambda と高階関数 map"
      ],
      "metadata": {
        "id": "Rj9sy4rjSUbU"
      }
    },
    {
      "cell_type": "code",
      "source": [
        "# lambdaを使うと、その場だけで使用する名前をつけない関数を定義できる。\n",
        "# mapは、第１引数の関数を第２引数のものに対して適用した結果を返す。 \n",
        "# 例えば、リスト[1,2,3,4,5]を２乗したリストは、lambda関数とmapを用いて、以下のように計算できる。\n",
        "\n",
        "list(map(lambda x: x**2, [1,2,3,4,5])) "
      ],
      "metadata": {
        "colab": {
          "base_uri": "https://localhost:8080/"
        },
        "id": "DaLyKqUn2ZSw",
        "outputId": "c12c6b52-aba1-4ba8-afbe-23a390ab2823"
      },
      "execution_count": 23,
      "outputs": [
        {
          "output_type": "execute_result",
          "data": {
            "text/plain": [
              "[1, 4, 9, 16, 25]"
            ]
          },
          "metadata": {},
          "execution_count": 23
        }
      ]
    },
    {
      "cell_type": "markdown",
      "source": [
        "# 位置引数とキーワード引数"
      ],
      "metadata": {
        "id": "dMA3wc0sTMYb"
      }
    },
    {
      "cell_type": "code",
      "source": [
        "# 関数の引数の種類\n",
        "# 1,位置引数 - 順番で指定する\n",
        "# 2,キーワード引数 - 名前を指定する\n",
        "\n",
        "# 位置引数の後にキーワード引数を書く．\n",
        "\n",
        "def f(name, weight):\n",
        "    print(f\"Name is {name} whose Weight is {weight} kg\")\n",
        "\n",
        "f(\"Kitty\", 2)  # 位置で呼び出し\n",
        "f(name=\"Kitty\", weight=2)  # キーワードで呼び出し\n",
        "f(\"Kitty\", weight=2)  # 位置とキーワードを混ぜて呼び出し（位置引数は必ずキーワード引数の前；逆にするとエラーする）"
      ],
      "metadata": {
        "colab": {
          "base_uri": "https://localhost:8080/"
        },
        "id": "E63HyGIm2gtw",
        "outputId": "6e57798c-19b1-4ceb-9996-753a10c52822"
      },
      "execution_count": 24,
      "outputs": [
        {
          "output_type": "stream",
          "name": "stdout",
          "text": [
            "Name is Kitty whose Weight is 2 kg\n",
            "Name is Kitty whose Weight is 2 kg\n",
            "Name is Kitty whose Weight is 2 kg\n"
          ]
        }
      ]
    },
    {
      "cell_type": "markdown",
      "source": [
        "# 既定値"
      ],
      "metadata": {
        "id": "i6ZdfyNJVWHk"
      }
    },
    {
      "cell_type": "code",
      "source": [
        "# 引数を定義する際に、既定値（デフォルト値）を指定することもできる。\n",
        "# 既定値は省略した場合に、その値が代入される。\n",
        "\n",
        "def f(name, weight = 100):\n",
        "    print(f\"Name is {name} whose Weight is {weight} kg\")\n",
        "\n",
        "f(\"Kitty\")  #第２引数を省略して呼び出し"
      ],
      "metadata": {
        "colab": {
          "base_uri": "https://localhost:8080/"
        },
        "id": "hPddFYKJ2j1_",
        "outputId": "e2fa7521-6f0b-4e35-8181-42df3b6adcc2"
      },
      "execution_count": 25,
      "outputs": [
        {
          "output_type": "stream",
          "name": "stdout",
          "text": [
            "Name is Kitty whose Weight is 100 kg\n"
          ]
        }
      ]
    },
    {
      "cell_type": "markdown",
      "source": [
        "# 任意の数の引数"
      ],
      "metadata": {
        "id": "pkITUqVJVhDS"
      }
    },
    {
      "cell_type": "code",
      "source": [
        "# 数が事前には分からない複数の引数も定義できる。\n",
        "# 位置引数の場合には *args (argumentsの略）,\n",
        "# キーワード引数の場合には **kwards (keywordsの略）で指定する。\n",
        "\n",
        "# 例えば、引数の和を返す関数を位置引数を用いて書くと、以下のようになる。\n",
        "\n",
        "def f(*args):\n",
        "    s = 0\n",
        "    for i in args:\n",
        "        s += i\n",
        "    return s\n",
        "\n",
        "f(1, 2, 3, 4, 5)"
      ],
      "metadata": {
        "colab": {
          "base_uri": "https://localhost:8080/"
        },
        "id": "S3XNOvOk2oQy",
        "outputId": "b1ac52f4-f65d-4377-ca3d-9c1ee0f1cf82"
      },
      "execution_count": 26,
      "outputs": [
        {
          "output_type": "execute_result",
          "data": {
            "text/plain": [
              "15"
            ]
          },
          "metadata": {},
          "execution_count": 26
        }
      ]
    },
    {
      "cell_type": "code",
      "source": [
        "# 名前と任意の数の属性を出力する関数は、キーワード引数を用いて、以下のように書くことができる。\n",
        "\n",
        "def f(name, **kwards):\n",
        "    print(f\"Name is {name}\") \n",
        "    for i in kwards:\n",
        "        print(i, \" is \", str(kwards[i]))\n",
        "\n",
        "f(\"Kitty\", weight=2, height=80)"
      ],
      "metadata": {
        "colab": {
          "base_uri": "https://localhost:8080/"
        },
        "id": "W4OCHMOm2uGv",
        "outputId": "30e88657-cf5f-463e-f517-73c305ff6e3d"
      },
      "execution_count": 27,
      "outputs": [
        {
          "output_type": "stream",
          "name": "stdout",
          "text": [
            "Name is Kitty\n",
            "weight  is  2\n",
            "height  is  80\n"
          ]
        }
      ]
    },
    {
      "cell_type": "code",
      "source": [
        "# 問題16\n",
        "# ２つの数字を引数とし，その和を返値として返す関数を記述し，その関数を用いて 3と5の和を計算せよ．また，100と200の和も計算せよ．\n",
        "# 複数の引数はカンマで区切って関数に渡す． 関数の値は返値になる．\n",
        "\n",
        "def coputeSum(x,y):\n",
        "    return x+y\n",
        "\n",
        "print(coputeSum(3,5))\n",
        "print(coputeSum(100,200))"
      ],
      "metadata": {
        "colab": {
          "base_uri": "https://localhost:8080/"
        },
        "id": "q3ADvbih8zqH",
        "outputId": "109428f5-479e-471b-b09a-90431b4ffb91"
      },
      "execution_count": 28,
      "outputs": [
        {
          "output_type": "stream",
          "name": "stdout",
          "text": [
            "8\n",
            "300\n"
          ]
        }
      ]
    },
    {
      "cell_type": "code",
      "source": [
        "# 問題17"
      ],
      "metadata": {
        "id": "airHsn4VbD_g"
      },
      "execution_count": 29,
      "outputs": []
    },
    {
      "cell_type": "markdown",
      "source": [
        "![Screen Shot 2022-01-25 at 22.27.36.png](data:image/png;base64,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)"
      ],
      "metadata": {
        "id": "uAVpPWp6a-SX"
      }
    },
    {
      "cell_type": "code",
      "source": [
        "# 自分で自分を計算する\n",
        "\n",
        "def F(n):\n",
        "    if n == 1 or n == 2:\n",
        "        return 1\n",
        "    else:\n",
        "        return F(n-1) + F(n-2)\n",
        "\n",
        "print(F(1))\n",
        "print(F(2))\n",
        "print(F(3))\n",
        "print(F(4))\n",
        "print(F(5))"
      ],
      "metadata": {
        "colab": {
          "base_uri": "https://localhost:8080/"
        },
        "id": "Q_cRlM2yHLFZ",
        "outputId": "7ee49cf1-2037-40d8-8131-75761079c68f"
      },
      "execution_count": 30,
      "outputs": [
        {
          "output_type": "stream",
          "name": "stdout",
          "text": [
            "1\n",
            "1\n",
            "2\n",
            "3\n",
            "5\n"
          ]
        }
      ]
    },
    {
      "cell_type": "code",
      "source": [
        "# 問題18\n",
        "# （再帰による組合せの列挙） （難）\n",
        "# 「1円玉1枚，10円玉1枚，100円玉1枚の組合せでできる8通りの金額を全て表示する」というプログラムを，再帰呼び出しを使って作る．\n",
        "\n",
        "# 1円，10円，100円の全て使った組合せの金額を，「再帰呼び出し」を使って計算するプログラムを作る（単に足せば良いが，再帰を使って計算する）．\n",
        "# 計算を行うための関数payの引数は，使うかどうか試したコインの数(i），合計を記録する補助変数(total) とリスト coin = [1, 10, 100] である．\n",
        "# 再帰の終了条件は，すべてのコインを使い終わったら（つまりiが3になったら）合計金額を出力する．\n",
        "# 合計金額は，コイン数を1増やし（iを1増やし），合計金額totalを coin[i] だけ増やして，payを再帰的に呼ぶことによって計算できる．\n",
        "\n",
        "def pay(i,total,coin):\n",
        "    if i==len(coin):\n",
        "        print(f\"total:{total}\")\n",
        "    else:\n",
        "        pay(i+1,total+coin[i],coin)\n",
        "\n",
        "coin = [1, 10, 100]\n",
        "print(pay(0,0,coin))"
      ],
      "metadata": {
        "colab": {
          "base_uri": "https://localhost:8080/"
        },
        "id": "uMQOZSfDHLDz",
        "outputId": "9d48b6be-62f7-494f-98ab-66a645f008d6"
      },
      "execution_count": 31,
      "outputs": [
        {
          "output_type": "stream",
          "name": "stdout",
          "text": [
            "total:111\n",
            "None\n"
          ]
        }
      ]
    },
    {
      "cell_type": "code",
      "source": [
        "# 問題19\n",
        "# 全ての組合せを列挙するプログラムを作る．\n",
        "# 全ての組合せの金額を表示するには，各硬貨について，「その硬貨を使う場合」と「その硬貨を使わない場合」の場合分けが必要である．\n",
        "# そこで，i番目の硬貨を使う組合せ，使わない組合せに対応した再帰呼び出しを行う． 以下ように8通りの支払い金額が列挙できる．\n",
        "\n",
        "def pay(i,total,coin):\n",
        "    if i==len(coin):\n",
        "        print(f\"total:{total}\")\n",
        "    else:\n",
        "        pay(i+1,total,coin) #コイン iを使わない場合\n",
        "        pay(i+1,total+coin[i],coin) #コイン iを使う場合\n",
        "        \n",
        "coin = [1, 10, 100]\n",
        "print(pay(0,0,coin))"
      ],
      "metadata": {
        "colab": {
          "base_uri": "https://localhost:8080/"
        },
        "id": "dNZdr15dHLCA",
        "outputId": "bef43bf1-37e1-4936-d880-f0680cda445c"
      },
      "execution_count": 32,
      "outputs": [
        {
          "output_type": "stream",
          "name": "stdout",
          "text": [
            "total:0\n",
            "total:100\n",
            "total:10\n",
            "total:110\n",
            "total:1\n",
            "total:101\n",
            "total:11\n",
            "total:111\n",
            "None\n"
          ]
        }
      ]
    },
    {
      "cell_type": "code",
      "source": [
        "# 問題20\n",
        "# 3つの整数を引数として渡すと，その積を返す関数を記述せよ\n",
        "# その関数を用いて，2∗5∗7 と 123∗456∗234 を計算せよ．\n",
        "\n",
        "def f(a,b,c):\n",
        "    return a*b*c\n",
        "print(f(2,5,7))\n",
        "print(f(123,456,234))"
      ],
      "metadata": {
        "id": "MUwW1A-4HLAL",
        "colab": {
          "base_uri": "https://localhost:8080/"
        },
        "outputId": "38a8c794-80a1-406d-af16-d80cec08348c"
      },
      "execution_count": 33,
      "outputs": [
        {
          "output_type": "stream",
          "name": "stdout",
          "text": [
            "70\n",
            "13124592\n"
          ]
        }
      ]
    },
    {
      "cell_type": "code",
      "source": [
        "# 問題21\n",
        "# 例題7-1の関数を，入力した3つの数を引数として3回呼び出す関数を作れ\n",
        "# 例えば8,13,4と引数としたら，\n",
        "\n",
        "########\n",
        "#############\n",
        "####\n",
        "\n",
        "# 例題7-1の関数\n",
        "# def sub(n):\n",
        "#     for i in range(n):\n",
        "#         print('#', end='')\n",
        "\n",
        "# sub(25)\n",
        "\n",
        "# def sub(a,b,c):\n",
        "#     for i in range(a):\n",
        "#         print('#', end='')\n",
        "#     for i in range(b):\n",
        "#         print('#', end='')\n",
        "#     for i in range(c):\n",
        "#         print('#', end='')\n",
        "\n",
        "\n",
        "# print(sub(8,0,0))\n",
        "# print(sub(0,13,0))\n",
        "# print(sub(0,0,4))"
      ],
      "metadata": {
        "id": "2JezTormHK-m"
      },
      "execution_count": 34,
      "outputs": []
    },
    {
      "cell_type": "code",
      "source": [
        "# 問題22\n",
        "# 例題7-1の関数を使って，#でできた三角形を表示するプログラムを作れ\n",
        "# 例えば，このようなものを表示するプログラムである．\n",
        "\n",
        "#\n",
        "##\n",
        "###\n",
        "####\n",
        "#####\n",
        "######\n",
        "\n",
        "# 例題7-1の関数\n",
        "# def sub(n):\n",
        "#     for i in range(n):\n",
        "#         print('#', end='')\n",
        "\n",
        "# sub(25)\n",
        "\n",
        "def sub(n):\n",
        "    for i in range(1,n):\n",
        "        for j in range(i):\n",
        "            print('#',end='')\n",
        "        print()\n",
        "\n",
        "print(sub(7))\n",
        "\n",
        "\n",
        "# 逆ver\n",
        "# n = int(input(\"n: \"))\n",
        "# for i in range(n):\n",
        "#     for j in range(i):\n",
        "#         print(' ',end='')\n",
        "#     for j in range(n-i):\n",
        "#         print('#',end='')\n",
        "#     print()"
      ],
      "metadata": {
        "id": "UQkPjEKPHK8y",
        "colab": {
          "base_uri": "https://localhost:8080/"
        },
        "outputId": "dc6c5bf7-10d5-4a70-c293-f4a50fd595ae"
      },
      "execution_count": 35,
      "outputs": [
        {
          "output_type": "stream",
          "name": "stdout",
          "text": [
            "#\n",
            "##\n",
            "###\n",
            "####\n",
            "#####\n",
            "######\n",
            "None\n"
          ]
        }
      ]
    },
    {
      "cell_type": "code",
      "source": [
        "# 問題23\n",
        "# 数aを渡すと，aが正なら1を，負なら -1を，0ならば0を返す関数を作れ．\n",
        "\n",
        "def f(a):\n",
        "    if a>0:\n",
        "        return 1\n",
        "    elif a<0:\n",
        "        return -1\n",
        "    else:\n",
        "        return 0\n",
        "\n",
        "print(f(22))\n",
        "print(f(-22))\n",
        "print(f(0))"
      ],
      "metadata": {
        "id": "ZT7Lli07HK69",
        "colab": {
          "base_uri": "https://localhost:8080/"
        },
        "outputId": "852c7030-34b8-4586-f423-e2c0fd95b161"
      },
      "execution_count": 36,
      "outputs": [
        {
          "output_type": "stream",
          "name": "stdout",
          "text": [
            "1\n",
            "-1\n",
            "0\n"
          ]
        }
      ]
    },
    {
      "cell_type": "code",
      "source": [
        "# 問題24\n",
        "# 数aを受け取り，数bをキーボードから入力し，a+bの値を返す関数を作れ．\n",
        "# 次に，この関数を使って，数を10個入力してその合計を表示するプログラムを作れ．\n",
        "\n",
        "def f(a):\n",
        "    b=int(input(\"enter integer:\"))\n",
        "    return a+b\n",
        "f(3)"
      ],
      "metadata": {
        "id": "Obp_vj-wHK5a",
        "colab": {
          "base_uri": "https://localhost:8080/",
          "height": 340
        },
        "outputId": "e161b545-ec18-4836-a987-63770ec6c382"
      },
      "execution_count": 37,
      "outputs": [
        {
          "name": "stdout",
          "output_type": "stream",
          "text": [
            "enter integer:\n"
          ]
        },
        {
          "output_type": "error",
          "ename": "ValueError",
          "evalue": "ignored",
          "traceback": [
            "\u001b[0;31m---------------------------------------------------------------------------\u001b[0m",
            "\u001b[0;31mValueError\u001b[0m                                Traceback (most recent call last)",
            "\u001b[0;32m<ipython-input-37-ad2c2ac10d08>\u001b[0m in \u001b[0;36m<module>\u001b[0;34m()\u001b[0m\n\u001b[1;32m      6\u001b[0m     \u001b[0mb\u001b[0m\u001b[0;34m=\u001b[0m\u001b[0mint\u001b[0m\u001b[0;34m(\u001b[0m\u001b[0minput\u001b[0m\u001b[0;34m(\u001b[0m\u001b[0;34m\"enter integer:\"\u001b[0m\u001b[0;34m)\u001b[0m\u001b[0;34m)\u001b[0m\u001b[0;34m\u001b[0m\u001b[0;34m\u001b[0m\u001b[0m\n\u001b[1;32m      7\u001b[0m     \u001b[0;32mreturn\u001b[0m \u001b[0ma\u001b[0m\u001b[0;34m+\u001b[0m\u001b[0mb\u001b[0m\u001b[0;34m\u001b[0m\u001b[0;34m\u001b[0m\u001b[0m\n\u001b[0;32m----> 8\u001b[0;31m \u001b[0mf\u001b[0m\u001b[0;34m(\u001b[0m\u001b[0;36m3\u001b[0m\u001b[0;34m)\u001b[0m\u001b[0;34m\u001b[0m\u001b[0;34m\u001b[0m\u001b[0m\n\u001b[0m",
            "\u001b[0;32m<ipython-input-37-ad2c2ac10d08>\u001b[0m in \u001b[0;36mf\u001b[0;34m(a)\u001b[0m\n\u001b[1;32m      4\u001b[0m \u001b[0;34m\u001b[0m\u001b[0m\n\u001b[1;32m      5\u001b[0m \u001b[0;32mdef\u001b[0m \u001b[0mf\u001b[0m\u001b[0;34m(\u001b[0m\u001b[0ma\u001b[0m\u001b[0;34m)\u001b[0m\u001b[0;34m:\u001b[0m\u001b[0;34m\u001b[0m\u001b[0;34m\u001b[0m\u001b[0m\n\u001b[0;32m----> 6\u001b[0;31m     \u001b[0mb\u001b[0m\u001b[0;34m=\u001b[0m\u001b[0mint\u001b[0m\u001b[0;34m(\u001b[0m\u001b[0minput\u001b[0m\u001b[0;34m(\u001b[0m\u001b[0;34m\"enter integer:\"\u001b[0m\u001b[0;34m)\u001b[0m\u001b[0;34m)\u001b[0m\u001b[0;34m\u001b[0m\u001b[0;34m\u001b[0m\u001b[0m\n\u001b[0m\u001b[1;32m      7\u001b[0m     \u001b[0;32mreturn\u001b[0m \u001b[0ma\u001b[0m\u001b[0;34m+\u001b[0m\u001b[0mb\u001b[0m\u001b[0;34m\u001b[0m\u001b[0;34m\u001b[0m\u001b[0m\n\u001b[1;32m      8\u001b[0m \u001b[0mf\u001b[0m\u001b[0;34m(\u001b[0m\u001b[0;36m3\u001b[0m\u001b[0;34m)\u001b[0m\u001b[0;34m\u001b[0m\u001b[0;34m\u001b[0m\u001b[0m\n",
            "\u001b[0;31mValueError\u001b[0m: invalid literal for int() with base 10: ''"
          ]
        }
      ]
    },
    {
      "cell_type": "code",
      "source": [
        "# 問題25"
      ],
      "metadata": {
        "id": "zrAZQV_VHK33"
      },
      "execution_count": null,
      "outputs": []
    },
    {
      "cell_type": "markdown",
      "source": [
        "![Screen Shot 2022-01-25 at 22.54.42.png](data:image/png;base64,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)"
      ],
      "metadata": {
        "id": "Z1DPlPeOhIrh"
      }
    },
    {
      "cell_type": "code",
      "source": [
        "def factorial(n): \n",
        "    if n < 0: \n",
        "        print(\"Factorial of negative num does not exist\")\n",
        "\n",
        "    elif n == 0: \n",
        "        return 1\n",
        "        \n",
        "    else: \n",
        "        fact = 1\n",
        "        while n>1: \n",
        "            fact *= n\n",
        "            n -= 1\n",
        "        return fact \n",
        "\n",
        "n = 5\n",
        "\n",
        "print(f\"Factorial of {n} is {factorial(n)}\") "
      ],
      "metadata": {
        "id": "jdEPIJ9jhNMT"
      },
      "execution_count": null,
      "outputs": []
    },
    {
      "cell_type": "code",
      "source": [
        "# 問題26\n",
        "# 2つの整数mとn (ただし，m>nで正を仮定) が与えられたとき，mとnの最大公約数は，nとm%n (mをnで割った余り)の最大公約数になる． \n",
        "# ただしnが００のときには，最大公約数はmと定義する． これを利用して，入力した2つの整数の最大公約数を求めるプログラムを，再帰呼び出しを使って作れ．"
      ],
      "metadata": {
        "id": "Egrqk01RHKy5"
      },
      "execution_count": null,
      "outputs": []
    },
    {
      "cell_type": "code",
      "source": [
        "# 問題27\n",
        "# 回文(palindrome)とは前から読んでも後ろから読んでも同じ文字列を指す．\n",
        "# 引数として与えた文字列が回文であるか否かを判定する関数を，再帰を用いて記述せよ．例として 'たけやぶやけた' と 'たけたぶやけてない' を入れて試せ．\n",
        "# （ヒント：文字列 s の最初の文字はs[0]，最後の文字はs[-1]， 最初と最後を除いた文字列は s[1:-1] である．）\n",
        "\n",
        "def palindrome(s):\n",
        "    if len(s) <= 1:\n",
        "        return True\n",
        "    elif s[0] == s[-1]:\n",
        "        return palindrome(s[1:-1])\n",
        "    else:\n",
        "        return False\n",
        "\n",
        "print(palindrome(\"たけやぶたけ\"))\n",
        "print(palindrome(\"たけやぶたけてない\"))"
      ],
      "metadata": {
        "id": "_8aEUVqJ8zrt"
      },
      "execution_count": null,
      "outputs": []
    },
    {
      "cell_type": "markdown",
      "source": [
        "#文字列の操作"
      ],
      "metadata": {
        "id": "qZ2I5H51eSKV"
      }
    },
    {
      "cell_type": "code",
      "source": [
        "# Helloの0,2,4 の添え字の部分から成る文字列 'Hlo' を取り出すには，スライス表記のステップに 2 を使って s[::2] とする． \n",
        "# 開始番号と終了番号を省略したので，最初から最後まで 2 つ跳びで取り出していることに注意せよ．\n",
        "\n",
        "# 問題28\n",
        "# 文字列 s = 'Hello World' から'World'を取り出せ．\n",
        "s = 'Hello World' \n",
        "s[6:]"
      ],
      "metadata": {
        "id": "0lEJVshBHStN"
      },
      "execution_count": null,
      "outputs": []
    },
    {
      "cell_type": "code",
      "source": [
        "# 問題29\n",
        "# 5回 \"I'm sorry!\" と出力せよ． （文字列の中に'記号を入れたいときには， '' ではなく \" \"で囲む．）\n",
        "print(5*\"I am sorry\")"
      ],
      "metadata": {
        "id": "rtzW_hSsHSuv"
      },
      "execution_count": null,
      "outputs": []
    },
    {
      "cell_type": "code",
      "source": [
        "# 問題31\n",
        "# for文を用いた反復はrange関数によって生成された数列だけでなく，文字列に対しても使える．\n",
        "\n",
        "# たとえば，\n",
        "# for x in 'Hello': \n",
        "#    print(x)\n",
        "\n",
        "# と書くと，H, e, l, l, o が順番に変数 x に代入されて，print関数で出力される．\n",
        "\n",
        "# 文字列 s='Kitty' の各文字の後ろに '!' を入れた文字列 x を出力せよ．\n",
        "\n",
        "s='Kitty'\n",
        "x=\"\" #出力用の文字列\n",
        "\n",
        "for i in s:\n",
        "    x=x+i+\"!\" #x=x(最初は空白)+i+\"!\"\n",
        "print(x)"
      ],
      "metadata": {
        "id": "MP4PkNaGHSwT"
      },
      "execution_count": null,
      "outputs": []
    },
    {
      "cell_type": "code",
      "source": [
        "# 問題32\n",
        "# 文字列を入力し，最初と最後が同じ文字なら 'Same!' と出力するプログラムを作れ．\n",
        "a = str(input(\"enter integers:\"))\n",
        "b = str(input(\"enter integers:\"))\n",
        "\n",
        "if a[0] == b[0] and a[-1] == b[-1] :\n",
        "    print(\"Same\")\n",
        "else:\n",
        "    print(\"not same\")"
      ],
      "metadata": {
        "id": "GOfQnrC0HSyd"
      },
      "execution_count": null,
      "outputs": []
    },
    {
      "cell_type": "code",
      "source": [
        "# 問題33\n",
        "# 文字列を入力し，その中に 'a' が含まれているときに 'In!' と出力するプログラムを作れ \n",
        "# （実は in という演算子があるので「 'a' in 文字列」で簡単に 'a'を含むかどうかの判定はできるが，ここでは反復を用いて作成せよ．）\n",
        "\n",
        "a = str(input(\"enter integers:\"))\n",
        "if \"a\" in a:\n",
        "    print(\"in\")\n",
        "else:\n",
        "    print(\"not in\")\n",
        "\n",
        "# for i in range(2):\n",
        "#     j = str(input(\"enter strings:\"))\n",
        "#     if j==\"a\": \n",
        "#         print(\"In\") \n",
        "#         break\n",
        "# else: \n",
        "#     print(\"not in\")"
      ],
      "metadata": {
        "id": "M3bL7YiGHSz6"
      },
      "execution_count": null,
      "outputs": []
    },
    {
      "cell_type": "code",
      "source": [
        "# 問題33\n",
        "# 文字列を引数とすると，各文字の間と最後に空白を入れた文字列を返値として返する関数を作れ．\n",
        "# さらに，文字列を入力し，その関数を呼び出して空白を入れた文字を出力するプログラムを書け．\n",
        "\n",
        "s='Kitty'\n",
        "x=\"\"\n",
        "\n",
        "for i in s:\n",
        "    x = x+i+\" \"\n",
        "print(x)"
      ],
      "metadata": {
        "id": "85aMrOp6HS1v"
      },
      "execution_count": null,
      "outputs": []
    },
    {
      "cell_type": "code",
      "source": [
        "# 問題34\n",
        "# p='Pen', P='Pineapple', a='Apple' を用いて 'PenPineappleApplePen'という文字列を作れ． \n",
        "# また，それを逆から並べた'nePelppAelppaeniPneP'とう文字列を作るプログラムを作成せよ．\n",
        "\n",
        "p='Pen'\n",
        "P='Pineapple'\n",
        "a='Apple'\n",
        "\n",
        "c = f\"{p}{P}{a}{p}\" # or => \"{}{}{}\".format(p,P,a)\n",
        "print(c)\n",
        "print(c[::-1])"
      ],
      "metadata": {
        "id": "6ISNf3J1HS3j"
      },
      "execution_count": null,
      "outputs": []
    },
    {
      "cell_type": "code",
      "source": [
        "# 問題35\n",
        "# 以下の変数 p, P, a, p の最初の文字（たとえばpなら'P'）を連結した文字列を生成せよ．\n",
        "\n",
        "# p = 'Pen'\n",
        "# P = 'Pineapple'\n",
        "# a = 'Apple'\n",
        "\n",
        "p = 'Pen'\n",
        "P = 'Pineapple'\n",
        "a = 'Apple'\n",
        "\n",
        "s=p[0]+P[0]+a[0]\n",
        "s"
      ],
      "metadata": {
        "id": "ztpQW1LTHS5a"
      },
      "execution_count": null,
      "outputs": []
    },
    {
      "cell_type": "markdown",
      "source": [
        "#演算子"
      ],
      "metadata": {
        "id": "ZsSZMEFX4ooC"
      }
    },
    {
      "cell_type": "code",
      "source": [
        "# 演算子は他のプログラミング言語と同様に，以下の順で優先順序をもつ．\n",
        "\n",
        "# 1,括弧 ( )\n",
        "# 2,べき乗（指数演算） **\n",
        "# 3,乗算 * ，除算 /， 整数除算 //， 剰余 %\n",
        "# 4,加算 +， 減算 -"
      ],
      "metadata": {
        "id": "JKDDIGwm0qIP"
      },
      "execution_count": null,
      "outputs": []
    },
    {
      "cell_type": "code",
      "source": [
        "# Python3では，割る数と割られる数が両方とも整数の場合でも，除算 / は浮動小数点数を返す． \n",
        "# たとえば， 4/5 は0.8を返す． 整数除算を行いたい場合には，演算子 // を用いる．\n",
        "# たとえば， 4//5 は0を返し， 4//5.0 は0.0を返す．\n",
        "\n",
        "# 文字列やリストに対しても数値と同様の加算や乗算を行うことができる． \n",
        "# たとえば，文字列 s='abc'に対して， s+'d' は'abcd'を返し， s∗2 は'abcabc'を返す． \n",
        "# リストでも同様に[0]＊3 は[0, 0, 0]を返す．\n",
        "\n",
        "# if文やwhile文の中では，比較や論理条件を表す演算子が用いられる． \n",
        "# <= は以下，< は未満，>= は以上，> は大きい，==は等しい，!= は等しくないときに真になり，それ以外のとき偽になる演算子である．\n",
        "\n",
        "\n",
        "\n",
        "# isは2つのオブジェクトが等しいか否かを判定する演算子である． たとえば，L=[1,2]に対して，L==[1,2]は真であるが，L is [1,2]は偽となる．\n",
        "\n",
        "# in は集合やリストなどの要素であるとき，not in は要素でないときに真になり，それ以外のとき偽になる演算子である． \n",
        "# たとえば， リストL=[5,6,3,2]に対して3 in Lは真を返す．\n",
        "\n",
        "# in 演算子は日本語の文字列 'あけまして' に対しても適用可能であり 'あ' in Lは真を返す． \n",
        "# 論理演算子and やor は，それぞれ論理積と論理和をとる演算子である． 真を正の整数（通常は 1），偽を 0 としたとき，論理積は乗算，論理和は加算に対応する． \n",
        "# たとえば，(1<4) or (5<4)は1<4が真なので，1+0=1 となるので，真になる．\n",
        "\n",
        "# 他にも， 展開演算子（*と**）がある．\n",
        "\n",
        "# 演算子 * をリスト，集合，辞書などの前に付けることによって，その要素（辞書の場合にはキー）をタプルに展開する．\n",
        "# 例として，集合，辞書，ジェネレータ（リスト）をそのまま出力する場合と，タプルに展開してから出力する場合を以下に示す．"
      ],
      "metadata": {
        "id": "A7N-WuF-0qKf"
      },
      "execution_count": null,
      "outputs": []
    },
    {
      "cell_type": "code",
      "source": [
        "a = {1,2,3,4}\n",
        "b = {'hello':'world'}\n",
        "c = range(5,10)\n",
        "\n",
        "print(a,b,c) \n",
        "print(*a,*b,*c)"
      ],
      "metadata": {
        "id": "J4xPUu0l0qLN"
      },
      "execution_count": null,
      "outputs": []
    },
    {
      "cell_type": "code",
      "source": [
        "# 演算子 * は，以下のように2つのリスト内から，最小の要素を探すときに便利である\n",
        "L1 = [6,3,4,300,-10]\n",
        "L2 = [5,8,4,3,100]\n",
        "print(min(*L1, *L2))"
      ],
      "metadata": {
        "id": "R3g6wycZ0qNU"
      },
      "execution_count": null,
      "outputs": []
    },
    {
      "cell_type": "code",
      "source": [
        "# 演算子 * がタプルに展開するのに対して，演算子 ** は辞書に展開する．\n",
        "# 例として，3つの辞書を展開してから再び1つの辞書としてまとめてみる．\n",
        "\n",
        "d1 = {'Sara':165, 'Mickey':120 }\n",
        "d2 = {'Minny':110 }\n",
        "d3 = {'Kitty':'Three Apples','Mickey':200 }\n",
        "{**d1, **d2, **d3 }\n",
        "\n",
        "# キー'Mickey'の値が200になっていることから分かるように，キーが同じ場合には，後に書いた辞書（この場合にはd3）の値に上書きされる．\n",
        "# 展開演算子は，関数の複数の引数の指定の際に用いられる．"
      ],
      "metadata": {
        "id": "lM0ZFf8c0qP3"
      },
      "execution_count": null,
      "outputs": []
    },
    {
      "cell_type": "code",
      "source": [
        "# 5 / 3 の出力結果は，1.6666666……となってしまう．これを，整数部分のみ出力を得たい場合はどのような演算子を用いるべきか?\n",
        "int(5/3)"
      ],
      "metadata": {
        "id": "JEjLTrmg0qQj"
      },
      "execution_count": null,
      "outputs": []
    },
    {
      "cell_type": "markdown",
      "source": [
        "#リスト"
      ],
      "metadata": {
        "id": "FM-Rd0eqhItx"
      }
    },
    {
      "cell_type": "code",
      "source": [
        "# 文字列が文字を箱に順番にしまっていたのと同じように，リストは何でも（Pythonではオブジェクトといいます）箱にしまっておくことができる．\n",
        "# リストは[]の中に ,（カンマ）で区切ってものをしまう．\n",
        "\n",
        "# L = [ 1, 2, 3, 4]               # range(1,5)と同じように数列を保管\n",
        "# L = ['H', 'e', 'l', 'l', 'o']   # 文字列 'Hello' 同じようにう文字を保管\n",
        "# L = [ 'AAA', 235, ['BBB',1.3] ] # 文字列，整数，リストを保管\n",
        "\n",
        "# リストに対しても文字列と同じように，足し算，乗算，添え字（インデックス）による抽出や切り出し，for文による反復を行うことができる．\n",
        "# リストは文字列と違って可変(mutable)である．（ちなみに，文字列は不変(immutable)と呼ばれる）．つまり中身を変えることができる．\n",
        "\n",
        "# 問題36\n",
        "# リスト L=[6, 5, 4, 3] の3番目の数字（Pythonでは0番から始まるので添え字2の数字）を'Hello'に変えよ．\n",
        "\n",
        "L=[6, 5, 4, 3]\n",
        "L[2]=\"Hello\"\n",
        "print(L)"
      ],
      "metadata": {
        "id": "ns9vYwZCHS6-"
      },
      "execution_count": null,
      "outputs": []
    },
    {
      "cell_type": "code",
      "source": [
        "# 問題37\n",
        "# 長さ 10の変数のリスト aa を用意し，0番目に0，1番目に10，2番目に20，…と代入し，最後にそれらを表示する，というプログラムを作成したい．\n",
        "\n",
        "# iが0から9まで１ずつ大きくなるforループを作り，a[i]に順々に数値を代入すれば良い．\n",
        "# a[0]には0，a[1]には10，a[2]には20，．．．と代入したいので，a[i]に i∗10 を代入する．\n",
        "# たとえば，以下のプログラムは，最初に0を入れたリストを10倍することによって，[0,0,0,0,0,0,0,0,0,0]というリストを準備をし， 次のforループで数字の代入を行えば良い．\n",
        "\n",
        "a = 10*[0] #[0,0,0,0,0,0,0,0,0,0]\n",
        "for i in range(10):\n",
        "    a[i] = i*10\n",
        "print(a)"
      ],
      "metadata": {
        "id": "xjCEAZoyHS80"
      },
      "execution_count": null,
      "outputs": []
    },
    {
      "cell_type": "code",
      "source": [
        "# リストはいろいろなメソッド(リストに適用される関数)を適用できる\n",
        "# リストの後に.を打った後に，「メソッド名(引数)」と書くと，関数のように出力が返ってくる．\n",
        "# たとえば，リストの最後に要素を追加するための append メソッドがある．L.append( 'a' ) と書くと，リスト L の最後に文字列 'a' が追加される．\n",
        "# 上の例題９．２は，最初に空のリストを準備して，1つずつ数字をappendメソッドで追加していく方法でも解くことができる．\n",
        "\n",
        "a = []\n",
        "for i in range(10):\n",
        "    a.append(i*10)\n",
        "    \n",
        "print(a)"
      ],
      "metadata": {
        "id": "CAhf6fJAjv4n"
      },
      "execution_count": null,
      "outputs": []
    },
    {
      "cell_type": "code",
      "source": [
        "# 主なメソッド\n",
        "\n",
        "# L.count(x) : L内での xの生起回数を返す．\n",
        "# L.index(x) : L内で xが最初に発生する添え字を返す．ない場合には例外（エラー名）を返す．\n",
        "# L.append(x) : Lの最後に要素 xを追加する． L+=[x] と同じ効果．\n",
        "# L.insert(i,x) : Lの i番目の添え字に要素 x を挿入する． L[i:i] =[x] と同じ効果．\n",
        "# L.remove(x) : Lで最初に発生する x を削除する．\n",
        "# L.extend(L2) : Lの末尾にリスト L2を追加する．\n",
        "# L.pop(i) : Lの i番目の要素を削除し，返す．iが省略された場合には最後の要素を削除．\n",
        "# L.reverse() : Lを逆順にする．\n",
        "# L.sort() : Lを小さい順に並べ替える．\n",
        "# enumerate(L) : リスト Lの添え字と要素のタプルのジェネレータを返す．"
      ],
      "metadata": {
        "id": "UDwvJVcqzX0Y"
      },
      "execution_count": null,
      "outputs": []
    },
    {
      "cell_type": "code",
      "source": [
        "# enumerateの使用法\n",
        "# リストの中身とそれが何番めなのかを同時に使いたいときがある。\n",
        "# そのような場合には、enumerate関数を用いて反復を行えば良い。\n",
        "\n",
        "for i, s in enumerate([\"A\", \"B\", \"c\"]):\n",
        "    print(f\"{s} は {i} 番目\")"
      ],
      "metadata": {
        "id": "jefpzyVwiffX"
      },
      "execution_count": null,
      "outputs": []
    },
    {
      "cell_type": "code",
      "source": [
        "# 上記では，[0,0,...,0] のリストを準備するために 10 *[0]と乗算を用いた．\n",
        "# これは以下のリスト内包表記と同じだが，リスト内包表記の方が推奨される．\n",
        "\n",
        "# a=[0 for i in range(10)]\n",
        "# これは for i in range(10) で iを0から9まで変えた反復を行い反復ごとに0を入れたリストを生成するという意味である．\n",
        "\n",
        "# 上のリスト内包表記の 0 のかわりに i∗10 と書けば問題は 1行で解ける．\n",
        "\n",
        "a = [i*10 for i in range(10)]\n",
        "print(a)"
      ],
      "metadata": {
        "id": "MeKrMsgRkGMv"
      },
      "execution_count": null,
      "outputs": []
    },
    {
      "cell_type": "code",
      "source": [
        "# リストの要素を小さい順に並べ替えたいときには，sort()メソッドを使う\n",
        "# 逆順（大きい順）に並べ替えたいときには，sort()メソッドの引数reverseをTrueにするか， sort()を使った後に，リストを逆順にするメソッドreverse()を使う．\n",
        "L =[6, 8, 3, 1] \n",
        "L.sort()\n",
        "print(L)"
      ],
      "metadata": {
        "id": "Jc2ytXG-klBL"
      },
      "execution_count": null,
      "outputs": []
    },
    {
      "cell_type": "code",
      "source": [
        "# 問題38\n",
        "# 最初の行にimport randomと宣言した上で，x=random.randint(a,b)と書くことで，xにaからbまでのランダムな整数を代入してくれる．\n",
        "# ランダムに生成した1から100までの整数から成る長さ 10 のリストを作り，それを小さい順，大きい順に並べ替えたリストを出力せよ．\n",
        "\n",
        "import random\n",
        "\n",
        "L=[]\n",
        "for i in range(10):\n",
        "    L.append(random.randint(1,100))\n",
        "\n",
        "print(f\"元のリスト:{L}\")\n",
        "\n",
        "L.sort()\n",
        "print(f\"昇順:{L}\")\n",
        "\n",
        "L.sort(reverse=True) #または L.reverse()\n",
        "print(f\"降順:{L}\")\n",
        "\n",
        "# import random\n",
        "# L = [random.randint(1,100) for i in range(10)]\n",
        "\n",
        "# print(L)\n",
        "# L.sort()\n",
        "# print(L)\n",
        "# L.reverse()\n",
        "# print(L)"
      ],
      "metadata": {
        "id": "NfkmZ_Y-HS-2"
      },
      "execution_count": null,
      "outputs": []
    },
    {
      "cell_type": "code",
      "source": [
        "# リスト L = [ 'Marvelous', 'Fantastic', 'Amazing!!' ] 内の文字列を，s='Python!! ' を区切り文字として結合し，表示せよ\n",
        "L =['Marvelous','Fantastic','Amazing!!']\n",
        "s='Python!! '\n",
        "s.join(L) #s.join(L) - (文字列)sを(リスト)Lに結合する(,をsにする)\n",
        "\n"
      ],
      "metadata": {
        "id": "vM4pIenZifhD"
      },
      "execution_count": null,
      "outputs": []
    },
    {
      "cell_type": "code",
      "source": [
        "# 文字列s = 'Payatahaoan' のうち，'a' を区切り文字として文字列s を分割したリストで表示せよ．\n",
        "s = 'Payatahaoan'\n",
        "s.split(\"a\") #(文字列)sを(文字列)aで分割する"
      ],
      "metadata": {
        "id": "4M-91_iOifmZ"
      },
      "execution_count": null,
      "outputs": []
    },
    {
      "cell_type": "code",
      "source": [
        "# リスト L = [1,2,3,4,5] が与えられている．\n",
        "L = [1,2,3,4,5]\n",
        "# (1). ２番目の要素を削除せよ．\n",
        "\n",
        "# del ver\n",
        "# del L[1]\n",
        "# L\n",
        "\n",
        "# pop ver\n",
        "# L.pop(1)\n",
        "# L\n",
        "\n",
        "# slice ver\n",
        "# L[1:2] = []\n",
        "# L\n",
        "\n",
        "# (2). L の2番目に 300 を代入せよ．\n",
        "# L[1]=300\n",
        "# L\n",
        "\n",
        "# (3). L を逆順にせよ．\n",
        "\n",
        "# sort ver\n",
        "# L.sort(reverse=True)\n",
        "# L\n",
        "\n",
        "# reverse ver\n",
        "# L.reverse()\n",
        "# L\n",
        "\n",
        "# slice ver\n",
        "# L[::-1]\n",
        "\n",
        "# (4). スライス表記を用いて， 2番目に [10,20] を代入せよ．\n",
        "# L[1:2]=[10,20]\n",
        "# L\n",
        "\n",
        "# (5). メソッド append を用いて 100 を追加せよ．\n",
        "# L.append(100)\n",
        "# L"
      ],
      "metadata": {
        "id": "CQ1Eun-Bifpk"
      },
      "execution_count": null,
      "outputs": []
    },
    {
      "cell_type": "code",
      "source": [
        "# 文字列 s='May I have a large container of coffee'を空白を区切り文字として分割し，分割した文字列の長さを順に表示せよ．何になるか？\n",
        "s='May I have a large container of coffee'\n",
        "\n",
        "map(len,s.split()) #lenで文字列の長さがわかるが、それぞれの文字列の長さを知るには(len関数を適用するには)map関数が良い\n",
        "# map(len関数を,s.split()に適用する), map(適用したい関数,適用させたいオブジェクト)\n",
        "\n",
        "list(map(len,s.split())) #最後にlistととして指定する"
      ],
      "metadata": {
        "id": "G7D8i7z6ifrZ"
      },
      "execution_count": null,
      "outputs": []
    },
    {
      "cell_type": "code",
      "source": [
        "# 文字列 s='How I want a drink alcoholic of course after the heavy lectures involving quantum mechanics and if the lectures were boring or tiring then any odd thinking was on quartic equations again' を空白を区切り文字として分割し，分割した文字列の長さを順に表示せよ．何になるか？\n",
        "s='How I want a drink alcoholic of course after the heavy lectures involving quantum mechanics and if the lectures were boring or tiring then any odd thinking was on quartic equations again'\n",
        "list(map(len,s.split()))"
      ],
      "metadata": {
        "id": "zEgNJ3vUiftU"
      },
      "execution_count": null,
      "outputs": []
    },
    {
      "cell_type": "code",
      "source": [
        "# 問題39\n",
        "# キーボードから10個の数を入力し，それらを入力された順番と逆の順番で表示するプログラムを作れ．\n",
        "\n",
        "c=[]\n",
        "for i in range(10):\n",
        "    j = int(input(\"enter an integer:\"))\n",
        "    c.append(j)\n",
        "c.reverse()\n",
        "print(c)\n",
        "\n",
        "# c =[int(input(\"enter an integer:\")) for i in range(10)]\n",
        "# c.reverse()\n",
        "# print(c)"
      ],
      "metadata": {
        "id": "df5_BGX3HTAa"
      },
      "execution_count": null,
      "outputs": []
    },
    {
      "cell_type": "code",
      "source": [
        "# 問題40\n",
        "# まず，長さ10の全部 0 が入ったリストを作れ．\n",
        "# 次に，0から9までの整数 a,bを入力し，リストのa番目からb番目までの要素を1大きくする，という作業を3回繰り返すプログラムを作れ．\n",
        "# このとき，毎回リストの0番目から9番目までを表示せよ．\n",
        "# （ヒント： iをaからbまでの１ずつ大きくするforループを使い，リストのi番目を1大きくする．）\n",
        "\n"
      ],
      "metadata": {
        "id": "HCT_ufiSHTCS"
      },
      "execution_count": null,
      "outputs": []
    },
    {
      "cell_type": "code",
      "source": [
        "# 問題41\n",
        "# リストと整数iを受け取り，リストのi番目の値を１大きくする関数を作れ．また，この関数を試すプログラムを作れ．"
      ],
      "metadata": {
        "id": "DqgIE2BoOrmp"
      },
      "execution_count": null,
      "outputs": []
    },
    {
      "cell_type": "code",
      "source": [
        "# 問題42\n",
        "# “Taro”, “Jiro”,”Saburo”,”Shiro”,”Goro” がこの順番で座っている． この4人を名前を入れたリスト L は\n",
        "# L=[“Taro”, “Jiro”,”Saburo”, ”Shiro”, ”Goro”]\n",
        "# となる．これを参考にして，自分の座っている列にいる友人の名前のリストを作成せよ\n",
        "\n",
        "L=[\"Taro\",\"Jiro\",\"Saburo\",\"Shiro\",\"Goro\"]\n",
        "L"
      ],
      "metadata": {
        "id": "aobwiy5IOrqQ"
      },
      "execution_count": null,
      "outputs": []
    },
    {
      "cell_type": "code",
      "source": [
        "# # 問題43\n",
        "# 上で作成したリストに対して，最初に座っている人と最後に座っている人を表示せよ．\n",
        "# また，名前の(アルファベット順の）昇順リストを作成せよ．\n",
        "\n",
        "L=[\"Taro\",\"Jiro\",\"Saburo\",\"Shiro\",\"Goro\"]\n",
        "print(L[0])\n",
        "print(L[-1])\n",
        "\n",
        "L.sort()\n",
        "print(L)"
      ],
      "metadata": {
        "id": "FbzPeDBiOrsE"
      },
      "execution_count": null,
      "outputs": []
    },
    {
      "cell_type": "code",
      "source": [
        "# 問題44\n",
        "# 100個の1以上10000以下の整数から成るの一様整数乱数のリストを作成し，次にそれらの和と平均を求めよ．\n",
        "# （ヒント：リスト L の和は関数 sum(L) で，要素数は関数 len(L) で求めることができる．）\n",
        "\n",
        "import random\n",
        "\n",
        "# for code ver \n",
        "L=[]\n",
        "for i in range(100):\n",
        "    L.append(random.randint(1,10000))\n",
        "\n",
        "# comprehension ver\n",
        "# L=[random.randint(1,10000) for i in range(100)]\n",
        "\n",
        "# Python ver\n",
        "print(sum(L))\n",
        "print(sum(L)/len(L))\n",
        "\n",
        "# numpy ver\n",
        "# print(np.sum(L))\n",
        "# print(np.mean(L))\n",
        "\n",
        "# また，平均に最も近い数を求め，それが何番目の数字（最初の数字を0番目とする）なのかを計算するプログラムを作成せよ．\n",
        "# （ヒント： 数の絶対値は abs()関数で求めることができる．）"
      ],
      "metadata": {
        "id": "osVXdL7ZOrtr"
      },
      "execution_count": null,
      "outputs": []
    },
    {
      "cell_type": "markdown",
      "source": [
        "#タプル"
      ],
      "metadata": {
        "id": "nrLZ3XP-nan9"
      }
    },
    {
      "cell_type": "code",
      "source": [
        "# タプルはリストとほとんど同じであるが，リストと違って中身が変更できない不変型(immutable)である． \n",
        "# 文字列と同様に（不変型なので）以下で説明する辞書のキーとして使うことができる．\n",
        "# タプルを生成するには() の中に,で区切って入力する．\n",
        "\n",
        "# T =(6,4,7,'Hello')\n",
        "\n",
        "# タプルはリストと同様に添え字（インデックス）や切り出しができるが，中身を変えることができない．"
      ],
      "metadata": {
        "id": "4O5ClNUqncCk"
      },
      "execution_count": null,
      "outputs": []
    },
    {
      "cell_type": "code",
      "source": [
        "# 問題45\n",
        "# 上のタプルTの4番目の要素（Pythonの添え字は0から始まるので添え字3の要素）を出力せよ．\n",
        "# また，4番目の要素を数字の6に変更してみよ (T[3]=6)（エラーが発生するはずだ．）\n",
        "\n",
        "T =(6,4,7,'Hello')\n",
        "print(T[3])"
      ],
      "metadata": {
        "id": "cAD0enAyOrvg"
      },
      "execution_count": null,
      "outputs": []
    },
    {
      "cell_type": "code",
      "source": [
        "# 問題46\n",
        "# a = 'Hello' と b='World' の2つの変数の中身を1行で取り替えよ．\n",
        "# （aとbから成るタプル (a,b) に (b,a)を代入すると1行で取り替えることができる．\n",
        "# また，() は省略して書くこともできる． ただし1つの要素から成るタプルの場合には省略できず，(a,) とカンマ , を入れて書く必要がある． ）\n",
        "\n",
        "a = 'Hello' \n",
        "b = 'World'\n",
        "a,b = b,a\n",
        "print(a,b)"
      ],
      "metadata": {
        "id": "EMfZRj7yOrxT"
      },
      "execution_count": null,
      "outputs": []
    },
    {
      "cell_type": "code",
      "source": [
        "# 問題47\n",
        "# 変数 a,b,c に代入された文字列を変数 x,y,z に代入せよ（ただし1行で）．\n",
        "\n",
        "# a = 'Mickey' \n",
        "# b = 'Minny'\n",
        "# c = 'Kitty'\n",
        "\n",
        "a = 'Mickey' \n",
        "b = 'Minny'\n",
        "c = 'Kitty'\n",
        "\n",
        "x,y,z=a,b,c\n",
        "\n",
        "print(x)\n",
        "print(y)\n",
        "print(z)"
      ],
      "metadata": {
        "id": "fb59BeRvOrzG"
      },
      "execution_count": null,
      "outputs": []
    },
    {
      "cell_type": "markdown",
      "source": [
        "#辞書"
      ],
      "metadata": {
        "id": "OWD-97vxvfzA"
      }
    },
    {
      "cell_type": "code",
      "source": [
        "# リストやタプルの他に辞書という便利な機能もある．辞書は，キー を入れると 値（あたい）が返ってくる写像(マップ）である．                                                      \n",
        "# 順番は任意なのでマップ型と呼ばれる．（ちなみに，リストやタプルは順番に保管するので，順序型と呼ばれる．）\n",
        "# これは通常の辞書で，\"Hello\" をひくと「こんにちわ」が書いてあるのと似ている．\n",
        "\n",
        "# 辞書は {} をの中に「キー：値」を , （カンマ）で区切って入れる．\n",
        "# {'Hello' : 'こんにちわ'} - { key : value }\n",
        "\n",
        "# 英語を日本語に変換する辞書を作ってみよう．\n",
        "# 最初の行で辞書 D を作り，次の行で辞書Dからキー'Good Morning'を引きます．これは対応する値 'おはよう' を返す．\n",
        "D ={ 'Hello' : 'こんにちわ',  'Good Morning': 'おはよう', 'Good Night': 'おやすみ' }\n",
        "D[\"Hello\"]"
      ],
      "metadata": {
        "id": "BCW5sp0KvhqB"
      },
      "execution_count": null,
      "outputs": []
    },
    {
      "cell_type": "code",
      "source": [
        "# 3人の女の子の身長を入れた辞書を準備する．\n",
        "# D={ 'Mary': 126, 'Jane': 156, 'Sara': 170}\n",
        "# キーのリストは D.keys()で，値のリストは D.values() で得ることができる．\n",
        "# キーになれるのは不変型(immutable)だけである．したがって，リストや辞書や（後述する集合）などの可変型(mutable)のオブジェクトはキーにはなれない．\n",
        "# キーには数字，文字列，タプルなどを使う．\n",
        "\n",
        "D={ 'Mary': 126, 'Jane': 156, 'Sara': 170}\n",
        "print(D.values())\n",
        "print(D.keys())"
      ],
      "metadata": {
        "id": "vZ2kYcAKv68A"
      },
      "execution_count": null,
      "outputs": []
    },
    {
      "cell_type": "code",
      "source": [
        "# 値は任意のオブジェクトを入れることができる．リストや辞書でも何でも入れることができる．\n",
        "# たとえば，値に身長と体重のリストを入れた辞書は以下のようになる．\n",
        "D = {'Mary': [126,30], 'Jane': [156,55], 'Sara': [170,60]}\n",
        "\n",
        "# 辞書 D の中にキーがあるかどうかは「キー in D」とin 演算子を用いて判定することができる．\n",
        "# たとえば，上で作った身長の辞書Dに対して\n",
        "print('Kitty' in D)\n",
        "print('Mary' in D)"
      ],
      "metadata": {
        "id": "vZ-osmWzwKbK"
      },
      "execution_count": null,
      "outputs": []
    },
    {
      "cell_type": "code",
      "source": [
        "# 辞書に新しい要素を追加したり，値を変更したいときは，単に「D[キー]=値」と書く． \n",
        "D={'Mary': [126,30], 'Jane': [156,55], 'Sara': [170,60]}\n",
        "D[\"Taro\"] =[190,200]\n",
        "D[\"Jane\"] = [180,55]\n",
        "\n",
        "print(D)\n",
        "\n",
        "for x in D:\n",
        "    print(x, D[x]) #print(key, value)\n",
        " \n",
        "# 身長が 10cmの'Kitty'を追加するには\n",
        "D['Kitty'] =10\n",
        "# と書き，'Jane'の身長を180に変更したいときには，\n",
        "D['Jane'] =180\n",
        "print(D)"
      ],
      "metadata": {
        "id": "CAISgu5twbdy"
      },
      "execution_count": null,
      "outputs": []
    },
    {
      "cell_type": "code",
      "source": [
        "# 問題48\n",
        "# 上で作成した身長の辞書から身長が160cm以上の人の名前を出力せよ．\n",
        "D = {'Mary': 126, 'Jane': 156, 'Sara': 170}\n",
        "\n",
        "for i in D:\n",
        "    if D[i] >= 160: # D[i] - 身長\n",
        "        print(i)\n",
        "\n",
        "# comprehension ver\n",
        "L=[i for i in D if D[i]>160]\n",
        "L"
      ],
      "metadata": {
        "id": "qpimNZahOr0-"
      },
      "execution_count": null,
      "outputs": []
    },
    {
      "cell_type": "code",
      "source": [
        "# 問題49\n",
        "# 上で作成した身長の辞書を，小さい順に並べたときの名前を出力せよ．\n",
        "\n",
        "# 1,まず，身長と名前のタプルを入れたリストをfor文を用いて作る．\n",
        "# 2,次にそれを sort()メソッドで小さい順に並べ替える （並べ替えはタプルの前の要素（この場合には身長）が優先される）．\n",
        "# 3,並べ替えた後のリストをfor文を用いて反復し，名前を順に出力する．\n",
        "\n",
        "D = {'Mary': 126, 'Jane': 156, 'Sara': 170}\n",
        "L = []  # 空のリストを準備しておく(リストを作ればいい)\n",
        "\n",
        "for i in D:\n",
        "    L.append((D[i], i))  # （身長，名前）のタプルをリストに追加,タプルだから(())\n",
        "    \n",
        "print('並べる前のリスト ', L)\n",
        "\n",
        "L.sort()\n",
        "print('身長順のリスト ', L)\n",
        "\n",
        "for height, name in L:\n",
        "    print(name)"
      ],
      "metadata": {
        "id": "ffsxcEMcOr2h"
      },
      "execution_count": null,
      "outputs": []
    },
    {
      "cell_type": "code",
      "source": [
        "# A.1.5 辞書\n",
        "# 主なメソッド\n",
        "\n",
        "# D.keys() : 辞書Dのキーから成るオブジェクトを返す．\n",
        "# D.values(): 辞書Dの値から成るオブジェクトを返す．\n",
        "# D.items(): 辞書Dのキーと値のタプルから成るオブジェクトを返す．\n",
        "# D.get(k,default) : キーkが辞書Dに含まれているときD[k]を返し，それ以外のときdefaultを返す．\n",
        "# k in D : 辞書Dがキーkを含むときTrue，含まないときFalseを返す．\n",
        "# del D[k] : 辞書Dのキーkを削除する．"
      ],
      "metadata": {
        "id": "iuaSJxVK0hxP"
      },
      "execution_count": null,
      "outputs": []
    },
    {
      "cell_type": "code",
      "source": [
        "# 問題51\n",
        "# 辞書に対するfor文はキーを返しますが，辞書.items() とすると，キーと値のタプルを返す．\n",
        "# これを用いて，辞書D={ 'Mary': 126, 'Jane': 156, 'Sara': 170} のキーと値を入れ替えた辞書（身長を入れると名前を返す辞書）を作成せよ．\n",
        "\n",
        "print(D.items())\n",
        "\n",
        "D = {'Mary': 126, 'Jane': 156, 'Sara': 170}\n",
        "Reverse = {}\n",
        "for key, value in D.items():\n",
        "    Reverse[value] = key\n",
        "print(Reverse)"
      ],
      "metadata": {
        "id": "HXbwYfdkOr4V"
      },
      "execution_count": null,
      "outputs": []
    },
    {
      "cell_type": "code",
      "source": [
        "# 辞書 D = { 'Mary':126, 'Jane':156, 'Sara': 170 } が与えられている．\n",
        "\n",
        "D={ 'Mary': 126, 'Jane': 156, 'Sara': 170}\n",
        "\n",
        "# 1,キー'Mary'の値，126を180に変更せよ．\n",
        "D[\"Mary\"] = 180\n",
        "print(D)\n",
        "# 2,メソッドを用いて，キーのリストを表示せよ．\n",
        "print(D.keys())\n",
        "\n",
        "# 3,メソッドを用いて，値のリストを表示せよ．\n",
        "print(D.values())\n",
        "\n",
        "# 4,メソッドを用いて，キーと値のリストを同時に表示せよ．\n",
        "print(D.items())"
      ],
      "metadata": {
        "id": "234zZJo6ifw5"
      },
      "execution_count": null,
      "outputs": []
    },
    {
      "cell_type": "code",
      "source": [
        "# 与えられた正数 n に対して，n 行 n 列のランダムな行列で，各要素が[1,10]の一様整数乱数の行列を，行と列のタプルをキーとし，要素を値とした辞書を用いて作成せよ．\n",
        "import random\n",
        "matrix = dict([((x, y), random.randint(1, 10)) for x in range(10) for y in range(10)])\n",
        "print(matrix)"
      ],
      "metadata": {
        "id": "lMeLTqAwify5"
      },
      "execution_count": null,
      "outputs": []
    },
    {
      "cell_type": "code",
      "source": [
        "# 同じ大きさの行列をもう1つ作成し，行列の積を求めよ．\n"
      ],
      "metadata": {
        "id": "cOtiQqp90qCS"
      },
      "execution_count": 38,
      "outputs": []
    },
    {
      "cell_type": "code",
      "source": [
        "# 問題52\n",
        "# 名前をキー，体重を値とした辞書 D を作成せよ．\n",
        "# ただし，友人は3人以上記入し， 名前には友人の名前を文字列として，体重には友人の理想体重を整数値として入力せよ．\n",
        "D={\"Leon\":60,\"Nao\":50,\"Gandam\":100}\n",
        "D.items()"
      ],
      "metadata": {
        "id": "Qhf3Y0ByOr6Z",
        "colab": {
          "base_uri": "https://localhost:8080/"
        },
        "outputId": "fbeb9f63-f4b3-4100-bd1f-ce4bd39e428d"
      },
      "execution_count": 39,
      "outputs": [
        {
          "output_type": "execute_result",
          "data": {
            "text/plain": [
              "dict_items([('Leon', 60), ('Nao', 50), ('Gandam', 100)])"
            ]
          },
          "metadata": {},
          "execution_count": 39
        }
      ]
    },
    {
      "cell_type": "code",
      "source": [
        "# 問題53\n",
        "# 起動すると，友人の名前の入力を求め，上で作成した辞書Dから体重を調べて画面上に表示するプログラムを作成せよ．\n",
        "\n",
        "D={\"Leon\":60,\"Nao\":50,\"Gandam\":100}\n",
        "a = input(\"enter frined's name:\")\n",
        "\n",
        "D[a]"
      ],
      "metadata": {
        "id": "VKwAvOg7gslw",
        "colab": {
          "base_uri": "https://localhost:8080/"
        },
        "outputId": "4ee7c093-5c7b-461a-d8e3-7bb90ac7882c"
      },
      "execution_count": 40,
      "outputs": [
        {
          "name": "stdout",
          "output_type": "stream",
          "text": [
            "enter frined's name:Leon\n"
          ]
        },
        {
          "output_type": "execute_result",
          "data": {
            "text/plain": [
              "60"
            ]
          },
          "metadata": {},
          "execution_count": 40
        }
      ]
    },
    {
      "cell_type": "code",
      "source": [
        "# 問題54\n",
        "# 上のプログラムを，何度も友人の名前の入力を求めて体重を表示するように変更せよ．\n",
        "# ただし，辞書にない名前を入力すると終了するものとする．\n",
        "\n",
        "D={\"Leon\":60,\"Nao\":50,\"Gandam\":100}\n",
        "\n",
        "while True:\n",
        "    name = input(\"友人の名前:\")\n",
        "    weight = D.get(name)\n",
        "    if weight:\n",
        "        print(weight)\n",
        "    else:\n",
        "        break"
      ],
      "metadata": {
        "id": "oc936_klgsoB",
        "colab": {
          "base_uri": "https://localhost:8080/"
        },
        "outputId": "2c5dd065-ef6e-4b37-bc91-7b338280efb6"
      },
      "execution_count": 41,
      "outputs": [
        {
          "name": "stdout",
          "output_type": "stream",
          "text": [
            "友人の名前:Leon\n",
            "60\n",
            "友人の名前:Nao\n",
            "50\n",
            "友人の名前:a\n"
          ]
        }
      ]
    },
    {
      "cell_type": "code",
      "source": [
        "# 問題55\n",
        "# 空の辞書Dを準備し，その後で名前と体重の入力を何度もユーザーに要求して， 名前をキー，体重を値としてDに保管していくプログラムを作成せよ．\n",
        "# ただし，ユーザー名に空白 ”” を入力すると，画面に作成した辞書Dを表示してから，終了するものとする．\n",
        "\n",
        "D={}\n",
        "while True:\n",
        "    name=input(\"Please name:\")\n",
        "    wight=input(\"Please weight:\")\n",
        "    if (name==\"\"):\n",
        "        break\n",
        "        D[name]=wight\n",
        "        print(D)"
      ],
      "metadata": {
        "id": "vPgQiPPNgspj",
        "colab": {
          "base_uri": "https://localhost:8080/"
        },
        "outputId": "6c5e173d-73e8-437e-fdf3-3d15e3e56d73"
      },
      "execution_count": 42,
      "outputs": [
        {
          "name": "stdout",
          "output_type": "stream",
          "text": [
            "Please name:da\n",
            "Please weight:1\n",
            "Please name:fd\n",
            "Please weight:43\n",
            "Please name:adad\n",
            "Please weight:22\n",
            "Please name:\n",
            "Please weight:\n"
          ]
        }
      ]
    },
    {
      "cell_type": "code",
      "source": [
        "# 問題56\n",
        "# 友人の名前と体重を保管した辞書Dを準備し，その後で，友人の名前と体重の入力を求め，名前が一致する友人がいたならば， 体重を新しい値に変更し，いなければ辞書に追加するプログラムを作成せよ．\n",
        "# ただし，ユーザー名に空白 ”” を入力すると，画面に作成した辞書Dを表示してから，終了するものとする．"
      ],
      "metadata": {
        "id": "VVAfTNL3gsrK"
      },
      "execution_count": 43,
      "outputs": []
    },
    {
      "cell_type": "code",
      "source": [
        "# 問題57\n",
        "# 問題１１－１で作成した友人の名前と体重を保管した辞書Dに対して，友人の体重を名前のアルファベット順に画面に出力するプログラムを作成せよ．"
      ],
      "metadata": {
        "id": "_QZVp6sdgss-"
      },
      "execution_count": 44,
      "outputs": []
    },
    {
      "cell_type": "code",
      "source": [
        "# 問題58\n",
        "# 好きな都道府県を3つ選択した後，都道府県名をキーとし，その名産品（1つ以上入力する）のリストを値とした辞書Dを作成せよ．\n",
        "# また，作成した辞書に対して，名産品の多い順に都道府県名を表示するプログラムを作成せよ．\n",
        "# (ヒント：リストLの長さ(要素数）は関数len(L)で計算できる．）"
      ],
      "metadata": {
        "id": "6nMhV6x9gsu0"
      },
      "execution_count": 45,
      "outputs": []
    },
    {
      "cell_type": "markdown",
      "source": [
        "#クラス"
      ],
      "metadata": {
        "id": "yGepuz-T08HJ"
      }
    },
    {
      "cell_type": "code",
      "source": [
        "# Pythonでは，数やリストや辞書などはすべてオブジェクトである． \n",
        "# これらのオブジェクトは元から準備されたものなので組み込みオブジェクトと呼ばれる．\n",
        "# Pythonでは，自分で新しいオブジェクトを作ることができる． それがクラス(class)である．\n",
        "# 構文は関数と似ていて，関数を定義するキーワード def の代わりに class と書く．\n",
        "\n",
        "# class クラス名():\n",
        "#     クラス本体\n",
        "\n",
        "# クラスとは，オブジェクトの属性やオブジェクトに対する操作（これをメソッドと呼ぶ）をまとめた雛形（テンプレート）である．\n",
        "# たとえば，ピカチュウというクラスは，「ほっぺた」や「しっぽ」などの属性と，「しっぽを振る」とか「リンゴを食べる」といったメソッドをもつ．\n",
        "# クラスという雛形（テンプレート）から実体を生成することができる．これをインスタンス（instance)とよぶ．\n",
        "\n",
        "class Pikacyu(): #class Pikacyu: でも良い\n",
        "    pass #なにもしない\n",
        "\n",
        "pika1 = Pikacyu() #pika1というインスタンスを生成\n",
        "\n",
        "# colorは属性\n",
        "pika1.color = \"Yellow\" #pika1のcolor属性を黄色（yellow)に設定\n",
        "pika1.color # pika1.color - ピカチュウ(pika1)の(.)色は(color)\n",
        "\n",
        "# pass は何もしないことを表す（何も入れないとエラーするので）． \n",
        "# クラス名は Pikacyu で，pika1 = Pikacyu()でpika1というインスタンスを生成する．\n",
        "# pika1 というインスタンスには，（たとえば色という）属性 (attribute)をもたせることができる．\n",
        "# 属性はインスタンスの後ろに . を書いた後に記述する\n",
        "# これでpika1に\"Yellow\"という色属性をもたせることに成功したことになる．\n",
        "# これは，ピカチュウ「の」色という意味で， . は「の」を表すと思えると良い．\n",
        "\n",
        "\n",
        "\n",
        "\n",
        "# .は\"の\"とも\"が\",\"を\"とも言える, maybe . can be called \"of\""
      ],
      "metadata": {
        "colab": {
          "base_uri": "https://localhost:8080/",
          "height": 35
        },
        "id": "tugcWTZw07l2",
        "outputId": "f614ed4c-52d9-4f67-842e-f897875cfa59"
      },
      "execution_count": 46,
      "outputs": [
        {
          "output_type": "execute_result",
          "data": {
            "application/vnd.google.colaboratory.intrinsic+json": {
              "type": "string"
            },
            "text/plain": [
              "'Yellow'"
            ]
          },
          "metadata": {},
          "execution_count": 46
        }
      ]
    },
    {
      "cell_type": "code",
      "source": [
        "# 次に，インスタンスの動作（たとえば「泣く」とか「食べる」とか）を表すメソッド (method) を記述する．これは，ピカチュウ「が何々する」に相当する．\n",
        "# メソッドは，クラス定義の中で関数と同様にdefと書くことで定義できる．\n",
        "# ただし，メソッドの最初の引数には必ず「自分自身」を表すselfを入れる． メソッドの呼び出しの際には，selfは省略される．\n",
        "# クラス内で属性にアクセスするときには，前に自分自身(self)を入れてself.属性名と記述する．\n",
        "# selfはインスタンス自身が入っている\n",
        "\n",
        "class Pikacyu(): # ピカチュウが\n",
        "    def cry(self): # 泣く, method定義\n",
        "        print(\"Pika!\") #実際の動作\n",
        "\n",
        "pika2 = Pikacyu()\n",
        "pika2.cry() #pika2.cry() - ピカチュウ(pika2)が(.)泣く(cry)"
      ],
      "metadata": {
        "colab": {
          "base_uri": "https://localhost:8080/"
        },
        "id": "-DyJo6Qw1xh6",
        "outputId": "6f4036c6-60df-4e40-cbe2-8f86485399aa"
      },
      "execution_count": 47,
      "outputs": [
        {
          "output_type": "stream",
          "name": "stdout",
          "text": [
            "Pika!\n"
          ]
        }
      ]
    },
    {
      "cell_type": "code",
      "source": [
        "# クラスには__ (アンダースコア2つ）で挟んだ特殊メソッドを定義することができる． \n",
        "# ちなみに、__は、double underscoreの略で\"dunder（ダンダー）と読む． 例えば、以下で説明する__init__は、「ダンダー・イニット」と読む．\n",
        "# クラスの初期化を行うメソッド__init__を定義すると，インスタンスを最初に生成したときに「自動的に」呼ばれ，インスタンスの初期化を行うことができる．\n",
        "# そのため,最初に定義したいものは __init__関数の中に書いておく\n",
        "# ただし点クラスのインスタンスを生成するときには，selfは書かずに，以下のように記述する．\n",
        "\n",
        "class Pikacyu(): \n",
        "    def __init__(self, owner): # method定義\n",
        "        self.name = f\"{owner}'s Pikacyu\" #nameという属性にf\"{owner}'s Pikacyu\"という文字列を入れる\n",
        "\n",
        "pika3 = Pikacyu(\"Satoshi\") #selfは省略されるため引数に\"Satoshi\"が必要\n",
        "print(pika3.name)"
      ],
      "metadata": {
        "colab": {
          "base_uri": "https://localhost:8080/"
        },
        "id": "WgDIRyXi2sad",
        "outputId": "67c860da-a359-4770-8751-6f1224bb3e8d"
      },
      "execution_count": 48,
      "outputs": [
        {
          "output_type": "stream",
          "name": "stdout",
          "text": [
            "Satoshi's Pikacyu\n"
          ]
        }
      ]
    },
    {
      "cell_type": "code",
      "source": [
        "# 他にも多くの特殊メソッドが準備されている． たとえば， 文字列を返す__str__を定義すると，クラスのインスタンスをprintしたときに，その文字列が表示されるようになる\n",
        "class Pikacyu(): \n",
        "    def __init__(self, owner): # method定義,self= class Pikacyu()自身\n",
        "        self.name = f\"{owner}'s Pikacyu\"\n",
        "        \n",
        "    def __str__(self): #文字列を返す, method定義\n",
        "        return self.name + f\" whose color is {self.color}\" #名前と色を返す\n",
        "\n",
        "pika4 = Pikacyu(\"Mikio\")\n",
        "pika4.color = \"yellow\"\n",
        "print(pika4)   #printだけで名前と色を返す！"
      ],
      "metadata": {
        "colab": {
          "base_uri": "https://localhost:8080/"
        },
        "id": "PFON1h0X273x",
        "outputId": "ce9dfbb6-39aa-4323-fe1c-d889505e2930"
      },
      "execution_count": 49,
      "outputs": [
        {
          "output_type": "stream",
          "name": "stdout",
          "text": [
            "Mikio's Pikacyu whose color is yellow\n"
          ]
        }
      ]
    },
    {
      "cell_type": "code",
      "source": [
        "# もう１つの例として「点」を表すクラス Point を作ってみよう．\n",
        "class Point():\n",
        "    pass\n",
        "\n",
        "p1=Point()\n",
        "\n",
        "# pass は何もしないことを表す（何も入れないとエラーするので）． \n",
        "# クラス名は Point で，p1 = Point()でp1というクラスの実体（インスタンスと呼ぶ）を生成する．\n",
        "# p1 という点を表すインスタンスには，x座標とy座標という属性 (attribute)をもたせることができる．\n",
        "# 属性はインスタンスの後ろに . を書いた後に記述する．\n",
        "\n",
        "p1.x = 100\n",
        "p1.y = 200\n",
        "\n",
        "# これで点p1にx,y座標の属性100,200をもたせることに成功したことになる．\n",
        "\n",
        "# 次に，点を移動させるとか，座標をまとめて出力するといったメソッド (method) を記述する．\n",
        "# メソッドは，クラス定義の中で関数と同様に def と書くことで定義できる．\n",
        "\n",
        "# ただし，メソッドの最初の引数には必ず自分自身を表すselfを入れる． メソッドの呼び出しの際には，selfは省略される．\n",
        "# クラス内でx属性にアクセスするときには，self.xと記述する．\n",
        "# たとえば，点のインスタンスを生成するときに「必ず」x,y座標を与えて，x,y属性に代入するには，\n",
        "\n",
        "def __init__(self, x, y): # method定義\n",
        "        self.x=x #self.xにxを入れる\n",
        "        self.y=y #self.yにyを入れる\n",
        "\n",
        "# と記述する（最初の引数にselfを入れるのを忘れないよう）．\n",
        "# ただし，点クラスのインスタンスを生成するときには，selfは書かずに，以下のように記述する．\n",
        "# p1=Point(100,200)"
      ],
      "metadata": {
        "id": "gRjmUK2s3K0g"
      },
      "execution_count": 50,
      "outputs": []
    },
    {
      "cell_type": "code",
      "source": [
        "# 問題59\n",
        "# 点を表すクラス Point を作成し，x座標とy座標を表す属性に100,200を代入せよ\n",
        "# 次に，座標の出力を行うメソッドprintMeを用いて座標の出力を行え．\n",
        "# また，座標の移動を行うメソッドmoveを定義し，座標を右に10，上に20移動させてから座標の出力を行え．\n",
        "\n",
        "class Point():\n",
        "    def printMe(self): # method定義, self=class Point()自身\n",
        "        print(f\"<{self.x}, {self.y}>\")\n",
        "\n",
        "    def move(self, right, up):\n",
        "        self.x += right # self.x = self.x + right\n",
        "        self.y += up # self.y = self.y + up\n",
        "\n",
        "p1 = Point()\n",
        "p1.x = 100 #コンストラクタがないので自分で定義する\n",
        "p1.y = 200 #コンストラクタがないので自分で定義する\n",
        "p1.printMe()\n",
        "\n",
        "p1.move(10, 20)\n",
        "p1.printMe()"
      ],
      "metadata": {
        "colab": {
          "base_uri": "https://localhost:8080/"
        },
        "id": "6RK7zMTWgswo",
        "outputId": "e901b0e6-b9f5-4f30-83eb-9cf585130949"
      },
      "execution_count": 51,
      "outputs": [
        {
          "output_type": "stream",
          "name": "stdout",
          "text": [
            "<100, 200>\n",
            "<110, 220>\n"
          ]
        }
      ]
    },
    {
      "cell_type": "code",
      "source": [
        "# 問題61\n",
        "# 初期化をするためのメソッド__init__を用いて点を表すクラス Point を作成し，x座標とy座標を表す属性に100,200を代入せよ．\n",
        "# また，文字列を返す__str__を用いて座標の出力を行え．\n",
        "# さらに，他の点インスタンスの座標を加える特殊メソッド__add__（これは + 演算子を適用したときに呼ばれる）を 使って座標 (10，20) をもつ点インスタンスとの足し算をせよ．\n",
        "\n",
        "class Point:\n",
        "    def __init__(self, x, y): #初期化のためのmethod(コンストラクタ)を追加,method定義\n",
        "        self.x=x \n",
        "        self.y=y\n",
        "        \n",
        "    def __str__(self):\n",
        "        return \"<\"+ str(self.x) + \", \" + str(self.y) +\">\"\n",
        "    \n",
        "    def __add__(self, other):\n",
        "        return Point(self.x+other.x, self.y+other.y)\n",
        "    \n",
        "p1=Point(100,200)\n",
        "print(p1)\n",
        "p2=Point(10,20)\n",
        "print(p1+p2) #+でdef __add__(self, other):が呼ばれるようになる"
      ],
      "metadata": {
        "colab": {
          "base_uri": "https://localhost:8080/"
        },
        "id": "C2UF73h8gsya",
        "outputId": "d650538d-9054-48a1-f1e5-e04a94e66198"
      },
      "execution_count": 52,
      "outputs": [
        {
          "output_type": "stream",
          "name": "stdout",
          "text": [
            "<100, 200>\n",
            "<110, 220>\n"
          ]
        }
      ]
    },
    {
      "cell_type": "code",
      "source": [
        "# 問題62\n",
        "# Pikacyuクラスを作り， 何かを食べさせるメソッド eat を追加せよ． メソッドは，食べたもの（引数の文字列）に対して f\"{引数の文字列} is delicious!\" を出力するものとする．\n",
        "# たとえば， eat(\"Apple\") とすると， \"Apple is delicios!\" を表示するようにせよ\n",
        "\n",
        "class Pikacyu():\n",
        "    def eat(self,x):\n",
        "        print(f\"{x} is delicious!\")\n",
        "\n",
        "p1 = Pikacyu()\n",
        "p1.eat(\"Apple\")"
      ],
      "metadata": {
        "id": "wBxR-V0Jgs0S",
        "colab": {
          "base_uri": "https://localhost:8080/"
        },
        "outputId": "04846c6d-84fc-4240-e13b-498da16d6934"
      },
      "execution_count": 53,
      "outputs": [
        {
          "output_type": "stream",
          "name": "stdout",
          "text": [
            "Apple is delicious!\n"
          ]
        }
      ]
    },
    {
      "cell_type": "code",
      "source": [
        "# # 問題63\n",
        "# コンストラクタで(name)と色 (color) を与えるPikacyuクラスを作り， クラスのインスタンスをprintすると， I'm 名前. My color is 色. と表示するようにせよ．\n",
        "# たとえば，\n",
        "\n",
        "# pika1 = Pikacyu(\"Pee-kun\", \"yellow\")\n",
        "# print( pika1 )\n",
        "# とすると，\n",
        "\n",
        "# I'm Pee-kun, my color is yellow.\n",
        "# を表示するようにせよ．\n",
        "\n",
        "class Pikacyu():\n",
        "    def __init__ (self,name,color):\n",
        "        self.name = name\n",
        "        self.color = color\n",
        "\n",
        "pika1 = Pikacyu(\"Pee-kun\", \"yellow\")\n",
        "print(f\"I am {pika1.name}. My color is {pika1.color}\")"
      ],
      "metadata": {
        "id": "EqB5_IXHgs1_",
        "colab": {
          "base_uri": "https://localhost:8080/"
        },
        "outputId": "e017ca62-e06b-4d5a-cbd1-31c727cabef0"
      },
      "execution_count": 54,
      "outputs": [
        {
          "output_type": "stream",
          "name": "stdout",
          "text": [
            "I am Pee-kun. My color is yellow\n"
          ]
        }
      ]
    },
    {
      "cell_type": "code",
      "source": [
        "# 問題64\n",
        "# 身長と体重の2つの属性をもつHumanクラスを作成せよ．\n",
        "# その後に，「体重/身長の2乗」で定義されるボディマス指数を計算するメソッド bmi を追加せよ． （ただし，体重はキログラム，身長はメートルで入れる．）\n",
        "\n",
        "# 次に，以下の表に基づいて，痩せ型から肥満(4度）までのいずれに属するかを文字列として返すメソッド am_i_fat を追加せよ．\n",
        "\n",
        "#                BMI値\n",
        "# 痩せ型         18.5未満\n",
        "# 普通体      18.5以上、25未満\n",
        "# 肥満           25以上\n",
        "\n",
        "# 自分の身長と体重（公表するのが嫌な場合には，友人の身長と体重の推定値）を属性としたHumanのインスタンス me を作成して，bmiメソッドと am_i_fatを呼び出せ．\n",
        "\n",
        "class Human():\n",
        "    def __init__(self,weight,height):\n",
        "        self.weight=weight\n",
        "        self.height=height\n",
        "\n",
        "    def bmi (self):\n",
        "        return self.weight/(self.height*self.height)\n",
        "\n",
        "    def am_i_fat(self):\n",
        "        b = self.bmi()\n",
        "        if b >= 25:\n",
        "            print(\"肥満\")\n",
        "        elif 25 > b >= 18.5:\n",
        "            print(\"普通体\")\n",
        "        elif b<18.5:\n",
        "            print(\"痩せ型\")\n",
        "\n",
        "me=Human(60,1.7)\n",
        "print(me.bmi())\n",
        "print(me.am_i_fat())"
      ],
      "metadata": {
        "id": "opwiwMZugs3q",
        "colab": {
          "base_uri": "https://localhost:8080/"
        },
        "outputId": "cba02397-d65e-427b-9b9a-f0e190651526"
      },
      "execution_count": 55,
      "outputs": [
        {
          "output_type": "stream",
          "name": "stdout",
          "text": [
            "20.761245674740486\n",
            "普通体\n",
            "None\n"
          ]
        }
      ]
    },
    {
      "cell_type": "code",
      "source": [
        "# 問題65\n",
        "# 例題で作った点を表すクラスを参考にして，ベクトルを表すクラスを定義し，2つのベクトルの内積を乗算 * で行うようなメソッド __mul__を記述せよ．"
      ],
      "metadata": {
        "id": "SW5Bc7akgs5w"
      },
      "execution_count": 56,
      "outputs": []
    },
    {
      "cell_type": "markdown",
      "source": [
        "#内包表記(comprehension)"
      ],
      "metadata": {
        "id": "cLHTIpY56R-E"
      }
    },
    {
      "cell_type": "code",
      "source": [
        "# リスト内包(リスト生成)\n",
        "# 1から9までの整数のリストを生成するには，リスト[ ] の中にfor文を入れて，以下のように記述する．\n",
        "a = [i for i in range(1,10)]\n",
        "print(a) \n",
        "\n",
        "# for code ver\n",
        "L=[]\n",
        "for i in range(1,10):\n",
        "    L.append(i)\n",
        "print(L)"
      ],
      "metadata": {
        "colab": {
          "base_uri": "https://localhost:8080/"
        },
        "id": "Kl6GrYo46aeE",
        "outputId": "7ea380d8-e2a9-41bc-c4d9-336e3a2ccaf2"
      },
      "execution_count": 57,
      "outputs": [
        {
          "output_type": "stream",
          "name": "stdout",
          "text": [
            "[1, 2, 3, 4, 5, 6, 7, 8, 9]\n",
            "[1, 2, 3, 4, 5, 6, 7, 8, 9]\n"
          ]
        }
      ]
    },
    {
      "cell_type": "code",
      "source": [
        "# if文をfor文の後ろに入れて条件付きで反復することもできる．\n",
        "# 奇数のみのリストを作る\n",
        "a = [i for i in range(10) if i%2==1]\n",
        "print(a)\n",
        "\n",
        "# for code ver\n",
        "L=[]\n",
        "for i in range(10):\n",
        "    if i%2!=0:\n",
        "        L.append(i)\n",
        "print(L)"
      ],
      "metadata": {
        "colab": {
          "base_uri": "https://localhost:8080/"
        },
        "id": "x3tZPH3I6hVJ",
        "outputId": "510525fb-9ca9-4496-9309-3a6375f50845"
      },
      "execution_count": 58,
      "outputs": [
        {
          "output_type": "stream",
          "name": "stdout",
          "text": [
            "[1, 3, 5, 7, 9]\n",
            "[1, 3, 5, 7, 9]\n"
          ]
        }
      ]
    },
    {
      "cell_type": "code",
      "source": [
        "# 1から9までの整数のリストを1つ,1から5までの整数のリストを1つ生成して、for文を重複して記述し、,iとjを掛けた結果を表示\n",
        "a = [i*j for i in range(1,10) for j in range(1,4)]\n",
        "print(a) \n",
        "\n",
        "# for code ver\n",
        "L=[]\n",
        "for i in range(1,10):\n",
        "    for j in range(1,4):\n",
        "        # b=i*j\n",
        "        L.append(i*j)\n",
        "print(L)"
      ],
      "metadata": {
        "colab": {
          "base_uri": "https://localhost:8080/"
        },
        "id": "zR-IVhVb6s7V",
        "outputId": "14f27f25-6fce-4042-d4c0-1938dac2af59"
      },
      "execution_count": 59,
      "outputs": [
        {
          "output_type": "stream",
          "name": "stdout",
          "text": [
            "[1, 2, 3, 2, 4, 6, 3, 6, 9, 4, 8, 12, 5, 10, 15, 6, 12, 18, 7, 14, 21, 8, 16, 24, 9, 18, 27]\n",
            "[1, 2, 3, 2, 4, 6, 3, 6, 9, 4, 8, 12, 5, 10, 15, 6, 12, 18, 7, 14, 21, 8, 16, 24, 9, 18, 27]\n"
          ]
        }
      ]
    },
    {
      "cell_type": "code",
      "source": [
        "# 問題66\n",
        "# 20から100の整数で3で割り切れるものだけから成るリストを，リスト内包を用いて生成せよ．\n",
        "\n",
        "L = [i for i in range(20,101) if i%3==0]\n",
        "print(L)\n",
        "\n",
        "a=[]\n",
        "for i in range(20,101):\n",
        "    if i%3==0:\n",
        "        a.append(i)\n",
        "print(a)"
      ],
      "metadata": {
        "id": "qWfdcHn8gs9I",
        "colab": {
          "base_uri": "https://localhost:8080/"
        },
        "outputId": "dfecbb3f-3bdb-4376-a756-8ef68037df6d"
      },
      "execution_count": 60,
      "outputs": [
        {
          "output_type": "stream",
          "name": "stdout",
          "text": [
            "[21, 24, 27, 30, 33, 36, 39, 42, 45, 48, 51, 54, 57, 60, 63, 66, 69, 72, 75, 78, 81, 84, 87, 90, 93, 96, 99]\n",
            "[21, 24, 27, 30, 33, 36, 39, 42, 45, 48, 51, 54, 57, 60, 63, 66, 69, 72, 75, 78, 81, 84, 87, 90, 93, 96, 99]\n"
          ]
        }
      ]
    },
    {
      "cell_type": "code",
      "source": [
        "# 問題67\n",
        "# \"aa\", \"bb\", \"cc\", \"dd\", \"ee\" から成るリストを，文字列 s= \"abcde\" からリスト内包を用いて生成せよ．\n",
        "\n",
        "s= \"abcde\"\n",
        "L=[i*2 for i in s ]\n",
        "print(L)\n",
        "\n",
        "# for code ver\n",
        "a=[]\n",
        "for i in s:\n",
        "    #b=i*2\n",
        "    a.append(i*2)\n",
        "print(a)"
      ],
      "metadata": {
        "id": "sDdK6ET3gtA0",
        "colab": {
          "base_uri": "https://localhost:8080/"
        },
        "outputId": "601a09cb-e984-451a-fff8-20dbad36f7ac"
      },
      "execution_count": 61,
      "outputs": [
        {
          "output_type": "stream",
          "name": "stdout",
          "text": [
            "['aa', 'bb', 'cc', 'dd', 'ee']\n",
            "['aa', 'bb', 'cc', 'dd', 'ee']\n"
          ]
        }
      ]
    },
    {
      "cell_type": "markdown",
      "source": [
        "# 集合内包(集合生成)"
      ],
      "metadata": {
        "id": "KGEqH-B7_p84"
      }
    },
    {
      "cell_type": "code",
      "source": [
        "# リストの[] のかわりに{}を用いることによって，集合を生成する集合内包ができる．\n",
        "# たとえば，i がjで割り切れるような i,j=1,…,4 の整数の組の集合は，以下のように生成できる．\n",
        "\n",
        "S = {(i,j) for i in range(1,5) for j in range(1,5) if i%j==0}\n",
        "print(S)"
      ],
      "metadata": {
        "colab": {
          "base_uri": "https://localhost:8080/"
        },
        "id": "v-wsxtU867oe",
        "outputId": "10e8bab3-44e2-418b-80b6-66fcac11f53c"
      },
      "execution_count": 62,
      "outputs": [
        {
          "output_type": "stream",
          "name": "stdout",
          "text": [
            "{(3, 3), (3, 1), (4, 4), (2, 1), (2, 2), (4, 2), (4, 1), (1, 1)}\n"
          ]
        }
      ]
    },
    {
      "cell_type": "code",
      "source": [
        "# A.1.6 集合\n",
        "# 主なメソッド\n",
        "\n",
        "# S.add(x) : 集合Sに要素xを加える．\n",
        "# S.pop() : 集合Sから適当な要素を抽出し，その要素を削除する．\n",
        "# S.remove(x) : 集合Sから要素xを削除する．\n",
        "# S.issubset(T) : 集合Sが集合Tの部分集合であるときTrue，そうでないときFalseを返す． S<=T と同じ効果．\n",
        "# S.issuperset(T) : 集合Tが集合Sの部分集合であるときTrue，そうでないときFalseを返す． S>=T と同じ効果．\n",
        "# S.union(T) : 集合SとTの和集合を返す．S∣T と同じ効果．\n",
        "# S.intersection(T) : 集合SとTの共通部分を返す．S&T と同じ効果．\n",
        "# S.difference(T) : 集合SとTの差集合を返す．S−T と同じ効果．\n",
        "# S.symmetric_difference(T) : 集合 SとTの対称差集合（S と T のうち，共通部分に含まれない要素から成る集合）を返す． S^T と同じ効果．"
      ],
      "metadata": {
        "id": "aotVFpaT0qGF"
      },
      "execution_count": 63,
      "outputs": []
    },
    {
      "cell_type": "code",
      "source": [
        "# 問題68\n",
        "# 1から20までの偶数の集合を，集合を用いて生成せよ．\n",
        "S={i for i in range(21) if i%2==0}\n",
        "print(S)"
      ],
      "metadata": {
        "id": "cuiT72ySgtCm",
        "colab": {
          "base_uri": "https://localhost:8080/"
        },
        "outputId": "ff05f007-497d-495f-8c0c-19c54b90bc56"
      },
      "execution_count": 64,
      "outputs": [
        {
          "output_type": "stream",
          "name": "stdout",
          "text": [
            "{0, 2, 4, 6, 8, 10, 12, 14, 16, 18, 20}\n"
          ]
        }
      ]
    },
    {
      "cell_type": "code",
      "source": [
        "S = {1,2,3,4,5}\n",
        "T = {2,4,6}\n",
        "\n",
        "# 1,SとTの和集合を表示しなさい\n",
        "print(S.union(T))\n",
        "print(S|T)"
      ],
      "metadata": {
        "colab": {
          "base_uri": "https://localhost:8080/"
        },
        "id": "hdCVLZzXEHF-",
        "outputId": "b437d366-8267-4f8c-9ef5-24ef5268ba4d"
      },
      "execution_count": 65,
      "outputs": [
        {
          "output_type": "stream",
          "name": "stdout",
          "text": [
            "{1, 2, 3, 4, 5, 6}\n",
            "{1, 2, 3, 4, 5, 6}\n"
          ]
        }
      ]
    },
    {
      "cell_type": "code",
      "source": [
        "S = {1,2,3,4,5}\n",
        "T = {2,4,6}\n",
        "\n",
        "# 2,SとTの差集合を表示しなさい\n",
        "print(S.difference(T))\n",
        "print(S-T)"
      ],
      "metadata": {
        "colab": {
          "base_uri": "https://localhost:8080/"
        },
        "id": "8zsHtD0xEHSu",
        "outputId": "44dde018-802a-4ec7-fb6a-67818ab07163"
      },
      "execution_count": 66,
      "outputs": [
        {
          "output_type": "stream",
          "name": "stdout",
          "text": [
            "{1, 3, 5}\n",
            "{1, 3, 5}\n"
          ]
        }
      ]
    },
    {
      "cell_type": "code",
      "source": [
        "S = {1,2,3,4,5}\n",
        "T = {2,4,6}\n",
        "\n",
        "# 3,SとTの共通部分を表示しなさい\n",
        "print(S.intersection(T))\n",
        "print(S&T)"
      ],
      "metadata": {
        "colab": {
          "base_uri": "https://localhost:8080/"
        },
        "id": "fgyfQp_uEHV3",
        "outputId": "9c987908-800e-49f8-93aa-4926fed1e64c"
      },
      "execution_count": 67,
      "outputs": [
        {
          "output_type": "stream",
          "name": "stdout",
          "text": [
            "{2, 4}\n",
            "{2, 4}\n"
          ]
        }
      ]
    },
    {
      "cell_type": "code",
      "source": [
        "S = {1,2,3,4,5}\n",
        "T = {2,4,6}\n",
        "\n",
        "# 4,集合Sの要素2を削除し,もう一度SとTの共通部分を表示しなさい\n",
        "S.remove(2)\n",
        "\n",
        "print(S.intersection(T))\n",
        "print(S&T)"
      ],
      "metadata": {
        "colab": {
          "base_uri": "https://localhost:8080/"
        },
        "id": "vvO_LkHOEHXG",
        "outputId": "dedddf8d-4c2c-4fb8-b4ca-b1d4d31f9b94"
      },
      "execution_count": 68,
      "outputs": [
        {
          "output_type": "stream",
          "name": "stdout",
          "text": [
            "{4}\n",
            "{4}\n"
          ]
        }
      ]
    },
    {
      "cell_type": "code",
      "source": [
        "S = {1,2,3,4,5}\n",
        "T = {2,4,6}\n",
        "\n",
        "# 5,\"banana\"の各文字からなる集合と,\"apple\"の各文字から成る集合の和集合と共通部分を計算するプログラムを示せ\n",
        "B=set(\"banana\")\n",
        "A=set(\"apple\")\n",
        "\n",
        "print(A.union(B))\n",
        "print(A|B)\n",
        "\n",
        "print(A.intersection(B))\n",
        "print(A&B)"
      ],
      "metadata": {
        "colab": {
          "base_uri": "https://localhost:8080/"
        },
        "id": "TJgK-MCrENl3",
        "outputId": "cac58b55-f4e7-402a-a9ce-ca13cd264193"
      },
      "execution_count": 69,
      "outputs": [
        {
          "output_type": "stream",
          "name": "stdout",
          "text": [
            "{'p', 'l', 'e', 'a', 'b', 'n'}\n",
            "{'p', 'l', 'e', 'a', 'b', 'n'}\n",
            "{'a'}\n",
            "{'a'}\n"
          ]
        }
      ]
    },
    {
      "cell_type": "markdown",
      "source": [
        "# 辞書内包(辞書生成)"
      ],
      "metadata": {
        "id": "wbhNY_4pBA_Q"
      }
    },
    {
      "cell_type": "code",
      "source": [
        "# {} 内でfor文を書いて，キー:値を入れることによって辞書を生成できる．これを辞書内包と呼ぶ．\n",
        "# 1から10の整数をキーとし，その2乗を値とした辞書は，以下のように辞書内包を用いて生成できる．\n",
        "\n",
        "D={i:i**2  for i in range(1,11)} #i(key):i**2(value)\n",
        "print(D)"
      ],
      "metadata": {
        "colab": {
          "base_uri": "https://localhost:8080/"
        },
        "id": "JqjCn6c26-1K",
        "outputId": "de50610c-82a3-426a-b6f9-522c2af8c678"
      },
      "execution_count": 70,
      "outputs": [
        {
          "output_type": "stream",
          "name": "stdout",
          "text": [
            "{1: 1, 2: 4, 3: 9, 4: 16, 5: 25, 6: 36, 7: 49, 8: 64, 9: 81, 10: 100}\n"
          ]
        }
      ]
    },
    {
      "cell_type": "code",
      "source": [
        "# 問題69\n",
        "# 1から10までの整数をキーとし，\"#\"をキー個並べた文字列を値とした辞書を，辞書内包を用いて生成せよ．\n",
        "D={i*\"#\" for i in range(1,11)}\n",
        "D"
      ],
      "metadata": {
        "id": "Bar2XeXygtEb",
        "colab": {
          "base_uri": "https://localhost:8080/"
        },
        "outputId": "9af83203-24ec-43aa-d4ab-5f8ddb4f2cc0"
      },
      "execution_count": 71,
      "outputs": [
        {
          "output_type": "execute_result",
          "data": {
            "text/plain": [
              "{'#',\n",
              " '##',\n",
              " '###',\n",
              " '####',\n",
              " '#####',\n",
              " '######',\n",
              " '#######',\n",
              " '########',\n",
              " '#########',\n",
              " '##########'}"
            ]
          },
          "metadata": {},
          "execution_count": 71
        }
      ]
    },
    {
      "cell_type": "code",
      "source": [
        "# 問題70\n",
        "# 辞書 D= {1:\"one\", 2:\"two\",3:\"three\",4:\"four\" } から，英字の数字文字列(\"one\"とか\"two\"とか)をキーとし，数字(1とか2とか)を値とした辞書を辞書内包を用いて生成せよ．"
      ],
      "metadata": {
        "id": "hEsFRNnrgtGS"
      },
      "execution_count": 72,
      "outputs": []
    },
    {
      "cell_type": "markdown",
      "source": [
        "# ジェネレータ内包(合計)"
      ],
      "metadata": {
        "id": "eMZF1pM7KHAr"
      }
    },
    {
      "cell_type": "code",
      "source": [
        "# リストの[]，集合や辞書の{}のかわりに() を用いると，要素を順に「生成する」オブジェクトが得られる．これをジェネレータ内包と呼ぶ． \n",
        "# ()の前にsum関数などを書くと，内包で要素をすべて生成せずに，順に生成しながら合計がとれる．\n",
        "# たとえば，1から10までの数字の和は以下のようにジェネレータ内包で記述できる．\n",
        "\n",
        "a = sum(i for i in range(1,11))\n",
        "print(a)"
      ],
      "metadata": {
        "colab": {
          "base_uri": "https://localhost:8080/"
        },
        "id": "jcZmHL8L6_8h",
        "outputId": "a86913e3-6b1f-4bc2-cfbb-9e511fe30b3d"
      },
      "execution_count": 73,
      "outputs": [
        {
          "output_type": "stream",
          "name": "stdout",
          "text": [
            "55\n"
          ]
        }
      ]
    },
    {
      "cell_type": "code",
      "source": [
        "# 問題71\n",
        "# 最小値を求めたい場合には min， 最大値を求めたい場合には max 関数をジェネレータ内包の前にかけば良い． \n",
        "# たとえば， x^2+5x の [-10,10] の範囲での最小値は，以下のように計算できる．\n",
        "a=min(x**2+5*x for x in range(-10,11))\n",
        "print(a)\n",
        "\n",
        "a=max(x**2+5*x for x in range(-10,11))\n",
        "print(a)\n",
        "\n",
        "a=sum(x**2+5*x for x in range(-10,11))\n",
        "print(a)"
      ],
      "metadata": {
        "id": "RIMgm9kKgtIC",
        "colab": {
          "base_uri": "https://localhost:8080/"
        },
        "outputId": "ed15e7c9-531d-43e4-ce58-a91659d36d8a"
      },
      "execution_count": 74,
      "outputs": [
        {
          "output_type": "stream",
          "name": "stdout",
          "text": [
            "-6\n",
            "150\n",
            "770\n"
          ]
        }
      ]
    },
    {
      "cell_type": "code",
      "source": [
        "# 問題72\n",
        "# 1から100までの奇数の和を計算せよ\n",
        "a=sum(i for i in range(1,101) if i%2!=0)\n",
        "print(a)\n",
        "\n",
        "# list ver\n",
        "L=[]\n",
        "for i in range(1,101):\n",
        "    if i%2==0:\n",
        "        L.append(i)\n",
        "sum(L)"
      ],
      "metadata": {
        "id": "tU3V3wfLgtJ2",
        "colab": {
          "base_uri": "https://localhost:8080/"
        },
        "outputId": "8de92262-a586-4b45-a4e3-3fc934e5df2a"
      },
      "execution_count": 75,
      "outputs": [
        {
          "output_type": "stream",
          "name": "stdout",
          "text": [
            "2500\n"
          ]
        },
        {
          "output_type": "execute_result",
          "data": {
            "text/plain": [
              "2550"
            ]
          },
          "metadata": {},
          "execution_count": 75
        }
      ]
    },
    {
      "cell_type": "code",
      "source": [
        "# 問題73\n",
        "# x を -100から100まで1づつ増やしたとき，x^2 + 2x -5xの最小値の値を，ジェネレータ内包を用いて計算せよ．\n",
        "\n",
        "a=min(x**2+2*x-5*x for x in range(-100,101))\n",
        "print(a)\n",
        "\n",
        "a=max(x**2+2*x-5*x for x in range(-100,101))\n",
        "print(a)\n",
        "\n",
        "a=sum(x**2+2*x-5*x for x in range(-100,101))\n",
        "print(a)"
      ],
      "metadata": {
        "id": "czVt0u2m1GYc",
        "colab": {
          "base_uri": "https://localhost:8080/"
        },
        "outputId": "c805c94a-f355-4773-83de-7bdf78e241fb"
      },
      "execution_count": 76,
      "outputs": [
        {
          "output_type": "stream",
          "name": "stdout",
          "text": [
            "-2\n",
            "10300\n",
            "676700\n"
          ]
        }
      ]
    },
    {
      "cell_type": "code",
      "source": [
        "# 0 から 10 までの整数のリストを内包表記で表示せよ．\n",
        "L=[i for i in range(1,11)]\n",
        "print(L)"
      ],
      "metadata": {
        "id": "LR1PFFW75UmB",
        "colab": {
          "base_uri": "https://localhost:8080/"
        },
        "outputId": "4dae5b67-a9c4-446f-b093-f23182951b11"
      },
      "execution_count": 77,
      "outputs": [
        {
          "output_type": "stream",
          "name": "stdout",
          "text": [
            "[1, 2, 3, 4, 5, 6, 7, 8, 9, 10]\n"
          ]
        }
      ]
    },
    {
      "cell_type": "code",
      "source": [
        "# 0 から 5 までの整数 x に対して， (x, x^2, 2^x)からなるタプルのリストを内包表記で作成せよ．\n",
        "T=[(x, x**2, 2**x) for x in range(6)]\n",
        "print(T)"
      ],
      "metadata": {
        "id": "SE5T1pdp5b8F",
        "colab": {
          "base_uri": "https://localhost:8080/"
        },
        "outputId": "bee8334b-4083-4e2d-af37-1ebff30a100d"
      },
      "execution_count": 78,
      "outputs": [
        {
          "output_type": "stream",
          "name": "stdout",
          "text": [
            "[(0, 0, 1), (1, 1, 2), (2, 4, 4), (3, 9, 8), (4, 16, 16), (5, 25, 32)]\n"
          ]
        }
      ]
    },
    {
      "cell_type": "code",
      "source": [
        "# ジェネレータ内包表記とsum関数を用いて，0 から 10 までの整数でかつ，奇数のものの合計を表せ．\n",
        "G=sum(i for i in range(0,11) if i%2!=0)\n",
        "print(G)"
      ],
      "metadata": {
        "id": "iLLmREHy5e1v",
        "colab": {
          "base_uri": "https://localhost:8080/"
        },
        "outputId": "90896729-0703-4a91-9ad2-ec2ef39f9894"
      },
      "execution_count": 79,
      "outputs": [
        {
          "output_type": "stream",
          "name": "stdout",
          "text": [
            "25\n"
          ]
        }
      ]
    },
    {
      "cell_type": "code",
      "source": [
        "# 0 から 5 までの整数に対して，整数がキー，値がキーの2乗になるような辞書を，内包表記を用いて表せ．\n",
        "D={i:i**2 for i in range(6)}\n",
        "print(D)"
      ],
      "metadata": {
        "id": "GCghOjbk5itb",
        "colab": {
          "base_uri": "https://localhost:8080/"
        },
        "outputId": "3bdce3d0-91c0-4c61-82c8-59e55c1a2ae6"
      },
      "execution_count": 80,
      "outputs": [
        {
          "output_type": "stream",
          "name": "stdout",
          "text": [
            "{0: 0, 1: 1, 2: 4, 3: 9, 4: 16, 5: 25}\n"
          ]
        }
      ]
    },
    {
      "cell_type": "markdown",
      "source": [
        "#zip関数の使い方"
      ],
      "metadata": {
        "id": "SxLmfaDw7uoz"
      }
    },
    {
      "cell_type": "code",
      "source": [
        "# 2つ以上のリストの要素をfor文で順に1つずつ取り出したいときには，zip関数が便利だ．\n",
        "# zip はzipper（ジッパー）のように，2つのものを1つにまとめてくれる．\n",
        "# たとえば，体重のリストweightと名前のリストnameがあったとき，順に取り出して出力するには，以下のようにする．\n",
        "\n",
        "weight = [50,60,70]\n",
        "name =[\"Taro\", \"Hanako\", \"Jimmy\"]\n",
        "for w,n in zip(weight,name):\n",
        "     print(w,n)"
      ],
      "metadata": {
        "colab": {
          "base_uri": "https://localhost:8080/"
        },
        "id": "6M4F9QxT7ztU",
        "outputId": "8abe3846-d36e-437f-d7c2-efcb935ccd2e"
      },
      "execution_count": 81,
      "outputs": [
        {
          "output_type": "stream",
          "name": "stdout",
          "text": [
            "50 Taro\n",
            "60 Hanako\n",
            "70 Jimmy\n"
          ]
        }
      ]
    },
    {
      "cell_type": "code",
      "source": [
        "# 問題74\n",
        "# 身長と名前を入れた2つのリストがあったとき，これらを順に反復して，名前をキーとし身長を値とした辞書を生成せよ．できれば，辞書内包を用いて1行で記述せよ．\n",
        "\n",
        "height = [150,160,170]\n",
        "name =[ \"Taro\", \"Hanako\", \"Jimmy\"]\n",
        "\n",
        "D={n:h for n,h in zip(name,height)}\n",
        "print(D)"
      ],
      "metadata": {
        "id": "J2L3xVgi1GZh",
        "colab": {
          "base_uri": "https://localhost:8080/"
        },
        "outputId": "3f6be769-88d2-4747-cc99-45bb942897ca"
      },
      "execution_count": 82,
      "outputs": [
        {
          "output_type": "stream",
          "name": "stdout",
          "text": [
            "{'Taro': 150, 'Hanako': 160, 'Jimmy': 170}\n"
          ]
        }
      ]
    },
    {
      "cell_type": "code",
      "source": [
        "# 問題75\n",
        "# 身長，体重，名前の3つのリストがあったとき，zip関数を用いて，名前・身長・体重を順に出力せよ．\n",
        "\n",
        "height = [150,160,170]\n",
        "weight = [50,60,70]\n",
        "name =[ \"Taro\", \"Hanako\", \"Jimmy\"]\n",
        "\n",
        "L=[[n,h,w] for n,h,w in zip(name,height,weight)]\n",
        "L"
      ],
      "metadata": {
        "id": "AoN5IkFl1Gbm",
        "colab": {
          "base_uri": "https://localhost:8080/"
        },
        "outputId": "0055efa6-c8d3-4605-c530-3e59480ce291"
      },
      "execution_count": 83,
      "outputs": [
        {
          "output_type": "execute_result",
          "data": {
            "text/plain": [
              "[['Taro', 150, 50], ['Hanako', 160, 60], ['Jimmy', 170, 70]]"
            ]
          },
          "metadata": {},
          "execution_count": 83
        }
      ]
    },
    {
      "cell_type": "markdown",
      "source": [
        "#エラー処理(例外処理)"
      ],
      "metadata": {
        "id": "XyS8ZOyz8BZE"
      }
    },
    {
      "cell_type": "code",
      "source": [
        "# エラーが発生したときに，どのような処理をするかは例外処理とよばれ，これをあらかじめ組み込んでおくことによって，頑強なプログラムを作成することができる．\n",
        "# 構文はif文と類似していて，以下のように書く．\n",
        "\n",
        "# try:\n",
        "#     エラーが試される文\n",
        "# except エラー名:\n",
        "#     エラー発生時の例外処理\n",
        "# else: \n",
        "#     エラーが発生しないときの処理"
      ],
      "metadata": {
        "id": "rfrJPNZX8Cvx"
      },
      "execution_count": 84,
      "outputs": []
    },
    {
      "cell_type": "code",
      "source": [
        "# 問題76\n",
        "# 10/xを計算しyに代入してから出力するプログラムを xが0のときに発生するエラー(ZeroDivisionError)の処理を入れて記述せよ．\n",
        "\n",
        "x = 0\n",
        "#x = 1\n",
        "try:\n",
        "  y = 10/x\n",
        "except ZeroDivisionError:\n",
        "  print(\"0では割れないよ!\")\n",
        "else:\n",
        "  print(y)"
      ],
      "metadata": {
        "colab": {
          "base_uri": "https://localhost:8080/"
        },
        "id": "UZdJzEoz1GdK",
        "outputId": "5cbb640f-269b-49ea-e51a-650576946b0a"
      },
      "execution_count": 85,
      "outputs": [
        {
          "output_type": "stream",
          "name": "stdout",
          "text": [
            "0では割れないよ!\n"
          ]
        }
      ]
    },
    {
      "cell_type": "code",
      "source": [
        "# 問題77\n",
        "# 問題 x =[1,2,3] に対して， iを0から5まで１づつ増やしながら反復させてx[i]を出力させたとき， 対応するインデックスがない場合には，「そんな添え字はないよ」と出力するプログラムを作れ．\n",
        "\n",
        "x =[1,2,3]\n",
        "\n",
        "try:\n",
        "    for i in range(6):\n",
        "        print(x[i])\n",
        "except:\n",
        "    print(\"There is no the index\")\n",
        "else:\n",
        "    print(x[i])"
      ],
      "metadata": {
        "id": "MxD0ir0t1Ge_",
        "colab": {
          "base_uri": "https://localhost:8080/"
        },
        "outputId": "cb17cee5-ec9c-4858-f393-040505460aa9"
      },
      "execution_count": 86,
      "outputs": [
        {
          "output_type": "stream",
          "name": "stdout",
          "text": [
            "1\n",
            "2\n",
            "3\n",
            "There is no the index\n"
          ]
        }
      ]
    },
    {
      "cell_type": "markdown",
      "source": [
        "#モジュール"
      ],
      "metadata": {
        "id": "85_l_U508UzA"
      }
    },
    {
      "cell_type": "code",
      "source": [
        "# Pythonでは、別のファイルに保存されているファイルを読み込んで使うことができる． \n",
        "# このように、他の場所にある.pyファイルを、モジュール（いくつかのモジュールを合わせたものはパッケージ）と呼ぶ．\n",
        "# モジュールの呼び出しは、以下のいずれかの書式で行う。\n",
        "\n",
        "# import モジュール名\n",
        "# import モジュール名  as 別名\n",
        "# from モジュール名 import オブジェクト名（もしくは、すべてを表す*）"
      ],
      "metadata": {
        "id": "EbhmKKAs8Wlm"
      },
      "execution_count": 87,
      "outputs": []
    },
    {
      "cell_type": "markdown",
      "source": [
        "# 数学モジュール math"
      ],
      "metadata": {
        "id": "0ZBZCKwPgnrL"
      }
    },
    {
      "cell_type": "code",
      "source": [
        "# 数学モジュール math\n",
        "# 例として、数学モジュールmathから色々な関数や定数を読み込んで使ってみよう。\n",
        "# モジュール内のオブジェクトを使う場合には、モジュール名（もしくは別名）.オブジェクト名とドット(.)記法を用いる。\n",
        "\n",
        "import math \n",
        "print(math.sqrt(2))  # 2の平方根\n",
        "print(math.tan(math.pi))  # 円周率πの正接（tan）\n",
        "\n",
        "from math import log, e\n",
        "print(log(e))  # 自然対数の底eの対数 (log)"
      ],
      "metadata": {
        "colab": {
          "base_uri": "https://localhost:8080/"
        },
        "id": "9dhQIZH88cbR",
        "outputId": "b6c244bf-a39e-474d-9c17-38001a7f8195"
      },
      "execution_count": 88,
      "outputs": [
        {
          "output_type": "stream",
          "name": "stdout",
          "text": [
            "1.4142135623730951\n",
            "-1.2246467991473532e-16\n",
            "1.0\n"
          ]
        }
      ]
    },
    {
      "cell_type": "markdown",
      "source": [
        "#randomモジュール"
      ],
      "metadata": {
        "id": "ojhzj11jgpR0"
      }
    },
    {
      "cell_type": "code",
      "source": [
        "# randomモジュールの主要な関数\n",
        "\n",
        "# seed(x) : xを用いて乱数の初期化を行う． xを省略した場合には現在のシステム時間で初期化される．\n",
        "# random() : [0.0, 1.0)[0.0,1.0) の一様ランダムな浮動小数点型の数を返す．\n",
        "# randint(i,j) : 整数 i,j (i \\leq≤ j) に対して i≤k≤j の一様ランダムな整数 k を返す．\n",
        "# shuffle(L) : リストLの順序をランダムに混ぜる．\n",
        "# choice(L) : リストLからランダムに1つの要素を選択する．"
      ],
      "metadata": {
        "id": "agRBaLnL53tZ"
      },
      "execution_count": 89,
      "outputs": []
    },
    {
      "cell_type": "code",
      "source": [
        "# 問題78\n",
        "# 数学モジュールmathには、整数a,bの最大公約数を求めるgcd(a, b)が準備されている． これを用いて、好きな（ある程度大きな）数字の最大公約数を求めよ．\n",
        "\n",
        "import math\n",
        "math.gcd(324,654)"
      ],
      "metadata": {
        "id": "A989NwrM1GiX",
        "colab": {
          "base_uri": "https://localhost:8080/"
        },
        "outputId": "4ce07fef-4193-439c-e37a-bae27de4ead8"
      },
      "execution_count": 90,
      "outputs": [
        {
          "output_type": "execute_result",
          "data": {
            "text/plain": [
              "6"
            ]
          },
          "metadata": {},
          "execution_count": 90
        }
      ]
    },
    {
      "cell_type": "markdown",
      "source": [
        "#日付時間モジュール datetime"
      ],
      "metadata": {
        "id": "70eOmW34hGuc"
      }
    },
    {
      "cell_type": "code",
      "source": [
        "# 日付時間モジュール datetime\n",
        "# 時間や日付を簡単に取り扱うためのモジュールとして、datetimeが準備されている。 これを、別名dtで読み込んで使ってみる。\n",
        "# datetimeモジュールには、日付時刻を表すクラスdatetimeが含まれている。\n",
        "\n",
        "import datetime as dt\n",
        "today = dt.datetime.today()          # 今日の日付\n",
        "print(\"Today=\", today)\n",
        "\n",
        "birthday = dt.datetime(1995, 4, 30)  #誕生日\n",
        "print(\"Birthday\", birthday)\n",
        "print(\"Time delta=\", today - birthday) #誕生日から本日までの経過時間"
      ],
      "metadata": {
        "colab": {
          "base_uri": "https://localhost:8080/"
        },
        "id": "Bxc6eRI98oKU",
        "outputId": "3ac79a1a-d13d-41f1-e410-9ae719055a6a"
      },
      "execution_count": 91,
      "outputs": [
        {
          "output_type": "stream",
          "name": "stdout",
          "text": [
            "Today= 2022-01-27 09:05:06.363114\n",
            "Birthday 1995-04-30 00:00:00\n",
            "Time delta= 9769 days, 9:05:06.363114\n"
          ]
        }
      ]
    },
    {
      "cell_type": "code",
      "source": [
        "# 問題79\n",
        "# 自分の誕生日から本日まで何日経過したかをdatetimeモジュールを用いて調べよ。\n",
        "\n",
        "import datetime as dt\n",
        "today = dt.datetime.today()\n",
        "birthday= dt.datetime(1998,3,5)\n",
        "print(today-birthday)"
      ],
      "metadata": {
        "id": "5tTrlcET1GkM",
        "colab": {
          "base_uri": "https://localhost:8080/"
        },
        "outputId": "e84451de-818a-4db3-e71c-b26ddadcb22f"
      },
      "execution_count": 92,
      "outputs": [
        {
          "output_type": "stream",
          "name": "stdout",
          "text": [
            "8729 days, 9:05:06.407531\n"
          ]
        }
      ]
    },
    {
      "cell_type": "markdown",
      "source": [
        "# 名前付きタプル namedtuple"
      ],
      "metadata": {
        "id": "xNxfeOuGinzz"
      }
    },
    {
      "cell_type": "code",
      "source": [
        "# collectionモジュールには、便利な関数やクラスが準備されている。\n",
        "# collectionモジュールのnamedtuple（名前付きタプル）を使うと、簡易的にクラスもどきを生成できる。\n",
        "\n",
        "# 注意： きちんと書かれたモジュールにおいては、小文字で始まるものが関数で、大文字で始まるものがクラスである． \n",
        "# これを破ってもエラーは出ないが、分かりやすさのために遵守すべき規則（というか礼儀）である． \n",
        "# したがって、namedtupleは関数であるが、新しいインスタンスを生成するための関数であるので、工場（ファクトリ）関数と呼ばれる．\n",
        "# 以下では、名前、身長、体重の属性をもつ名前付きタプル Person を定義する。\n",
        "\n",
        "from collections import namedtuple\n",
        "Person = namedtuple('Person', ['name', 'weight', 'height'] ) #名前付きタプルオブジェクトの生成（属性は名前、重さ、高さ）\n",
        "# Person = namedtuple('関数名', ['属性', '属性', '属性'] )\n",
        "kitty = Person(\"Kitty\", 30, 10)   # 名前付きタプルオブジェクトの生成（コンストラクタの引数は、名前、重さ、高さ） \n",
        "# kitty(インスタンス化) = 関数名(属性(引数), 属性(引数), 属性(引数))\n",
        "daniel = Person(\"Daniel\", 40, 20)\n",
        "\n",
        "print(kitty.name, kitty.height, kitty.weight) # 名前付きタプルのオブジェクトには、ドット記法で属性にアクセスできる\n",
        "print(daniel[0], daniel[1], daniel[2]) # 名前付きタプルのオブジェクトには、番号でアクセスできる。"
      ],
      "metadata": {
        "colab": {
          "base_uri": "https://localhost:8080/"
        },
        "id": "fwajtgqL8y6G",
        "outputId": "e93a7811-4fda-4b72-9781-d6f8a073ca87"
      },
      "execution_count": 93,
      "outputs": [
        {
          "output_type": "stream",
          "name": "stdout",
          "text": [
            "Kitty 10 30\n",
            "Daniel 40 20\n"
          ]
        }
      ]
    },
    {
      "cell_type": "code",
      "source": [
        "# 問題80\n",
        "# 名前、成績(gpa)、英語テストの成績(例えばtoeic)、趣味（hobby)などの属性をもつ名前付きタプル Profile を定義し、自分の属性を定義せよ。\n",
        "\n",
        "from collections import namedtuple\n",
        "Profile=namedtuple(\"Profile\",[\"name\",\"gpa\",\"opic\",\"hobby\"])\n",
        "chani = Profile(\"chani\",\"3.6\",\"advanced low\",\"sleeping\")\n",
        "print(chani)"
      ],
      "metadata": {
        "id": "LaWgdc9e1Gly",
        "colab": {
          "base_uri": "https://localhost:8080/"
        },
        "outputId": "d011367b-095a-4c2f-d0dc-93330914db17"
      },
      "execution_count": 94,
      "outputs": [
        {
          "output_type": "stream",
          "name": "stdout",
          "text": [
            "Profile(name='chani', gpa='3.6', opic='advanced low', hobby='sleeping')\n"
          ]
        }
      ]
    },
    {
      "cell_type": "code",
      "source": [
        "# mathモジュールをインポートし，\n",
        "\n",
        "# 2 の平方根を表示せよ．\n",
        "# 6 の階乗を表示せよ．(階乗を表示するには，factorial()を用いる．)\n",
        "\n",
        "import math\n",
        "print(math.sqrt(2))\n",
        "print(math.factorial(6))"
      ],
      "metadata": {
        "id": "7IRJhejv5zsp",
        "colab": {
          "base_uri": "https://localhost:8080/"
        },
        "outputId": "f3c7ab8a-cfe5-4237-98c9-b35b9b66f473"
      },
      "execution_count": 95,
      "outputs": [
        {
          "output_type": "stream",
          "name": "stdout",
          "text": [
            "1.4142135623730951\n",
            "720\n"
          ]
        }
      ]
    },
    {
      "cell_type": "code",
      "source": [
        "# random モジュールから，randint関数, shuffle関数 のみをインポートし、\n",
        "\n",
        "# -5 以上，3 以下の一様ランダムな整数を発生させよ．\n",
        "# リスト L=[1,2,3,4] の順序をランダムに混ぜよ．\n",
        "\n",
        "import random\n",
        "a = random.randint(-5,4)\n",
        "print(a)\n",
        "\n",
        "L=[1,2,3,4]\n",
        "random.shuffle(L)\n",
        "print(L)"
      ],
      "metadata": {
        "id": "aZjwoKq65zyF",
        "colab": {
          "base_uri": "https://localhost:8080/"
        },
        "outputId": "93f24244-07ad-4f91-8157-3c7ceb25c1ee"
      },
      "execution_count": 96,
      "outputs": [
        {
          "output_type": "stream",
          "name": "stdout",
          "text": [
            "-1\n",
            "[3, 1, 4, 2]\n"
          ]
        }
      ]
    },
    {
      "cell_type": "code",
      "source": [
        "# itertoolsモジュールをインポートし，\n",
        "# range(5)内の要素の長さ 2 の（繰り返しを許さない）順列を生成し，リスト型で表示せよ．\n",
        "# range(5)内の要素の長さ 2 の（繰り返しを許さない）組み合わせを順に生成し，リスト型で表示せよ．"
      ],
      "metadata": {
        "id": "yngS7OY25z1d"
      },
      "execution_count": 97,
      "outputs": []
    },
    {
      "cell_type": "markdown",
      "source": [
        "#ジェネレータ"
      ],
      "metadata": {
        "id": "VNsXuJWVpzFZ"
      }
    },
    {
      "cell_type": "code",
      "source": [
        "# ジェネレータ - 反復子(イテレータ)を生成するための仕組みであり、関数の内部でyield文を入れることでによって作ることができる\n",
        "\n",
        "# def 関数名(引数):\n",
        "#     yield 生成したいもの\n",
        "\n",
        "# 2,3,5,7の数値を順番に生成するジェネレータprimeは以下のようになり、\n",
        "# for文でrange()の代わりにprime()とすると、素数を順に入れた反復ができる\n",
        "\n",
        "def prime():\n",
        "    yield 2\n",
        "    yield 3\n",
        "    yield 5\n",
        "    yield 7 \n",
        "\n",
        "for i in prime():\n",
        "    print(i)"
      ],
      "metadata": {
        "colab": {
          "base_uri": "https://localhost:8080/"
        },
        "id": "PFclrWqcp2Wx",
        "outputId": "4b6ebacb-60c4-49be-ff6f-7546f7b431bf"
      },
      "execution_count": 98,
      "outputs": [
        {
          "output_type": "stream",
          "name": "stdout",
          "text": [
            "2\n",
            "3\n",
            "5\n",
            "7\n"
          ]
        }
      ]
    },
    {
      "cell_type": "code",
      "source": [
        "# 関数の中でforやwhileを用いた反復文を使い,生成する数値をたくさん(無限個)生成しておいてもメモリに負担をかけることはない(使った分だけ順に生成されるから)\n",
        "\n",
        "def expon():\n",
        "    i = 1\n",
        "    while True:\n",
        "        i *=2\n",
        "        yield i\n",
        "\n",
        "for i in expon():\n",
        "    print(i)\n",
        "    if i >= 10:\n",
        "        break"
      ],
      "metadata": {
        "colab": {
          "base_uri": "https://localhost:8080/"
        },
        "id": "k-2VIzz_q5YV",
        "outputId": "2f91d9f4-54ae-46a2-9fb8-41595c237c0a"
      },
      "execution_count": 99,
      "outputs": [
        {
          "output_type": "stream",
          "name": "stdout",
          "text": [
            "2\n",
            "4\n",
            "8\n",
            "16\n"
          ]
        }
      ]
    },
    {
      "cell_type": "code",
      "source": [
        "# 問題81\n",
        "# フィボナッチ数 F_nは\n",
        "\n",
        "# F1 =1\n",
        "# F2 =1​\n",
        "# Fn= F(n-1) +F(n-2})\n",
        " \n",
        "# と再帰的に定義される数列である。フィボナッチ数を順に生成するジェネレータを作り,100未満のフィボナッチ数を順に生成せよ"
      ],
      "metadata": {
        "id": "g-FSAHS_1Gni"
      },
      "execution_count": 100,
      "outputs": []
    },
    {
      "cell_type": "markdown",
      "source": [
        "#型ヒント"
      ],
      "metadata": {
        "id": "MLk062QjsMKr"
      }
    },
    {
      "cell_type": "code",
      "source": [
        "# Pythonでは型を指定しなくても動くがすることによってわかりやすく、かつエラーを起こしにくくなる。\n",
        "# 型ヒントは\n",
        "\n",
        "# 変数:型名\n",
        "\n",
        "# と指定する。関数の返り値の指定は、関数の定義のかっこの後に \n",
        "\n",
        "# -> 型名 \n",
        "\n",
        "# を追加する\n",
        "\n",
        "# 以下は整数xを２倍にした整数を示す関数である\n",
        "\n",
        "def f(x:int) -> int:\n",
        "    return x*2\n",
        "print(f(12))\n",
        "print(f(\"hello\"))\n",
        "# 型ヒントは,プログラム自体には何の影響も与えないので,引数に文字列を入れてもエラーを起こさない"
      ],
      "metadata": {
        "colab": {
          "base_uri": "https://localhost:8080/"
        },
        "id": "_56pBLpvsLlM",
        "outputId": "ab158d32-7753-48a6-f9f6-cb9c6c4f5854"
      },
      "execution_count": 101,
      "outputs": [
        {
          "output_type": "stream",
          "name": "stdout",
          "text": [
            "24\n",
            "hellohello\n"
          ]
        }
      ]
    },
    {
      "cell_type": "code",
      "source": [
        "# 問題82\n",
        "# 以下の型ヒントを追加せよ\n",
        "\n",
        "def gcd(m,n):\n",
        "    if n == 0:\n",
        "        return m\n",
        "    return gcd(n,m%n)\n",
        "m=100\n",
        "n=8\n",
        "print(gcd(m,n))"
      ],
      "metadata": {
        "colab": {
          "base_uri": "https://localhost:8080/"
        },
        "id": "0dB9x8n21GpZ",
        "outputId": "6e5154e6-3d51-4a77-cd9d-cb0147b4ade4"
      },
      "execution_count": 102,
      "outputs": [
        {
          "output_type": "stream",
          "name": "stdout",
          "text": [
            "4\n"
          ]
        }
      ]
    },
    {
      "cell_type": "code",
      "source": [
        "# 問題83\n",
        "# 与えられた文字列sが回文であるか否かを判定する関数\n",
        "\n",
        "def palindrome(s):\n",
        "    if len(s) <= 1:\n",
        "        return True\n",
        "    elif s[0] == s[-1]:\n",
        "        return palindrome(s[1:-1])\n",
        "    else:\n",
        "        return False\n",
        "\n",
        "print(palindrome(\"たけやぶたけ\"))\n",
        "print(palindrome(\"たけやぶたけてない\"))"
      ],
      "metadata": {
        "colab": {
          "base_uri": "https://localhost:8080/"
        },
        "id": "FWpfvFxk1Gqv",
        "outputId": "19bd606d-fa07-4005-91ca-0e3fadec826e"
      },
      "execution_count": 103,
      "outputs": [
        {
          "output_type": "stream",
          "name": "stdout",
          "text": [
            "False\n",
            "False\n"
          ]
        }
      ]
    },
    {
      "cell_type": "markdown",
      "source": [
        "#Map関数"
      ],
      "metadata": {
        "id": "TetKWeWFy3uR"
      }
    },
    {
      "cell_type": "code",
      "source": [
        "# map(関数のようなもの,リストのようなもの)\n",
        "# 返り値はリストに含まれる要素ごとに関数を適用して得られた結果(マップオブジェクト)である・\n",
        "# map関数 - ある関数(のようなもの)をリスト(のようなもの)に一様に適用する関数\n",
        "\n",
        "numbers = \"12 56 46\".split() #リストで文字列として分割として格納\n",
        "m=map(int,numbers) #int(整数)にする関数を,numbers(文字列)に適用する\n",
        "\n",
        "print(m)\n",
        "print(list(m))\n",
        "\n",
        "# for code ver\n",
        "for i in map(int,numbers): \n",
        "    print(i)"
      ],
      "metadata": {
        "colab": {
          "base_uri": "https://localhost:8080/"
        },
        "id": "ijQI86J0y2sa",
        "outputId": "1ff0742f-6fa4-43a3-e3af-fc9e01cb35b7"
      },
      "execution_count": 104,
      "outputs": [
        {
          "output_type": "stream",
          "name": "stdout",
          "text": [
            "<map object at 0x7f81df3636d0>\n",
            "[12, 56, 46]\n",
            "12\n",
            "56\n",
            "46\n"
          ]
        }
      ]
    },
    {
      "cell_type": "code",
      "source": [
        "# \"'Taro',180,69 \\n 'Jiro',170,50 \\n 'Saburo',160,40\"という文字列から,人名をキーとして身長と体重のタプル(不動小数点値に変換)を値として辞書Dを生成する\n",
        "\n",
        "D={}\n",
        "data = \"'Taro',180,69 \\n 'Jiro',170,50 \\n 'Saburo',160,40\"\n",
        "for line in data.split(\"\\n\"):\n",
        "    L = line.split(\",\")\n",
        "    height,weight = map(float,L[1:])\n",
        "    D[L[0]]=(height,weight)\n",
        "print(D)"
      ],
      "metadata": {
        "colab": {
          "base_uri": "https://localhost:8080/"
        },
        "id": "PHmoT6o2zljc",
        "outputId": "ea7eb300-689c-4bef-a84c-a181ebf9b7a2"
      },
      "execution_count": 105,
      "outputs": [
        {
          "output_type": "stream",
          "name": "stdout",
          "text": [
            "{\"'Taro'\": (180.0, 69.0), \" 'Jiro'\": (170.0, 50.0), \" 'Saburo'\": (160.0, 40.0)}\n"
          ]
        }
      ]
    }
  ]
}