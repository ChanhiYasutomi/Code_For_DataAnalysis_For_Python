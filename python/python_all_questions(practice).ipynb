{
  "nbformat": 4,
  "nbformat_minor": 0,
  "metadata": {
    "colab": {
      "name": "python_all_questions(practice).ipynb",
      "provenance": [],
      "collapsed_sections": []
    },
    "kernelspec": {
      "name": "python3",
      "display_name": "Python 3"
    },
    "language_info": {
      "name": "python"
    }
  },
  "cells": [
    {
      "cell_type": "code",
      "source": [
        "import matplotlib.pyplot as plt\n",
        "import numpy as np\n",
        "import pandas as pd"
      ],
      "metadata": {
        "id": "zoDXT5GUYoWy"
      },
      "execution_count": 1,
      "outputs": []
    },
    {
      "cell_type": "markdown",
      "source": [
        "#文字列の操作"
      ],
      "metadata": {
        "id": "gIVCElz-h-an"
      }
    },
    {
      "cell_type": "code",
      "source": [
        "# 問題3 文字列の代入(format/f-strings)\n",
        "# 以下の文章の「〇〇」に対して.format()とf-stringsを使って代入しましょう。\n",
        "# 「私は〇〇です。〇〇出身です。」"
      ],
      "metadata": {
        "id": "pBcAz0EJe10B"
      },
      "execution_count": null,
      "outputs": []
    },
    {
      "cell_type": "code",
      "source": [
        "# 問題4 エスケープ文字\n",
        "# 次の文字列を句読点で改行しましょう。\n",
        "\n",
        "# 「いつもの帰り道とは違うルートで帰ってみようかな。迷子にならないか心配だけど。」\n",
        "# ↓\n",
        "# 「いつもの帰り道とは違うルートで帰ってみようかな。\n",
        "# 迷子にならないか心配だけど。」"
      ],
      "metadata": {
        "id": "4BiDOiA5e2kd"
      },
      "execution_count": null,
      "outputs": []
    },
    {
      "cell_type": "code",
      "source": [
        "# 問題5 書式化\n",
        "# 16.0という値を次の書式で表示しましょう。\n",
        "\n",
        "# 符号付き10進数\n",
        "\n",
        "# 符号付き16進数\n",
        "\n",
        "# 10進浮動小数点"
      ],
      "metadata": {
        "id": "LIrYKIAPe4Od"
      },
      "execution_count": null,
      "outputs": []
    },
    {
      "cell_type": "code",
      "source": [
        "# 問題6 大文字・小文字への変換\n",
        "# 以下の文字列を小文字→大文字、大文字→小文字への変換を行いましょう\n",
        "\n",
        "# 'hello'\n",
        "# 'WORLD'"
      ],
      "metadata": {
        "id": "UMzA86jge8Dw"
      },
      "execution_count": null,
      "outputs": []
    },
    {
      "cell_type": "code",
      "source": [
        "# 問題7 分割\n",
        "# こちらの文章を改行部分で分割しましょう。\n",
        "\n",
        "# 「こんにちは。\\n私はAIのロボットです。」"
      ],
      "metadata": {
        "id": "tOJUzzBee-d7"
      },
      "execution_count": null,
      "outputs": []
    },
    {
      "cell_type": "code",
      "source": [
        "# 問題8 結合\n",
        "# 以下のリスト内に入っている文字列を結合して一つの文にしましょう。\n",
        "\n",
        "# messages = ['こんにちは。', '私はAIのロボットです。']"
      ],
      "metadata": {
        "id": "m9N2v0HKYsfr"
      },
      "execution_count": 51,
      "outputs": []
    },
    {
      "cell_type": "code",
      "source": [
        "# 問題9 空白除去\n",
        "# 文のはじめと最後にある空白を除去しましょう。\n",
        "\n",
        "# 「　いつも食べるここのケーキはとても美味しいね。　」"
      ],
      "metadata": {
        "id": "esgD2oHoZBbV"
      },
      "execution_count": 165,
      "outputs": []
    },
    {
      "cell_type": "code",
      "source": [
        "# 問題10 置換\n",
        "# 以下の文の「晴れ」を「雨」に置換してください。\n",
        "\n",
        "# 「今日は晴れですね。」 "
      ],
      "metadata": {
        "id": "yKsTAGnWfY9m"
      },
      "execution_count": 59,
      "outputs": []
    },
    {
      "cell_type": "code",
      "source": [
        "# 問題11 文字列検索\n",
        "# 以下のフレーズの中から「夜空」を検索し、その位置を出力しましょう。\n",
        "\n",
        "# 「今日はとても夜空が綺麗だ。」"
      ],
      "metadata": {
        "id": "xmLqsbnXf0cR"
      },
      "execution_count": 63,
      "outputs": []
    },
    {
      "cell_type": "code",
      "source": [
        "# 問題12 型変換\n",
        "# 以下のデータ型を文字列型に変換しましょう。\n",
        "\n",
        "# int:x = 1\n",
        "# float: y = 1.52\n",
        "# list: z = [1, 2, 3]\n",
        "# dict: a = dict(name='john', birth='US')"
      ],
      "metadata": {
        "id": "WiGf9mG6gCu8"
      },
      "execution_count": 164,
      "outputs": []
    },
    {
      "cell_type": "code",
      "source": [
        "# 問題13 包含関係\n",
        "# 以下の文字列Aが文字列Bに含まれているか確認しましょう。\n",
        "\n",
        "# A: 'sba', B: 'gasba'\n",
        "# A: 'xdh', B: 'orweit'"
      ],
      "metadata": {
        "id": "QDOeRt7Zgh3q"
      },
      "execution_count": 81,
      "outputs": []
    },
    {
      "cell_type": "markdown",
      "source": [
        "#リスト"
      ],
      "metadata": {
        "id": "v6Tp8P9EiGOu"
      }
    },
    {
      "cell_type": "code",
      "source": [
        "# 問題14 特定の値を抽出\n",
        "# 次の配列データの中から、先頭から2つ目の値と最後の値をそれぞれ出力しましょう。\n",
        "# また2を配列の一番最後に追加しましょう。\n",
        "\n",
        "# numbers = [0, 3, 8, -4, 9, 1]"
      ],
      "metadata": {
        "id": "dramhVOahSER"
      },
      "execution_count": 87,
      "outputs": []
    },
    {
      "cell_type": "code",
      "source": [
        "# 問題15 特定の値を挿入(insert)\n",
        "# 先ほどのnumbersリストの先頭に5を挿入しましょう。\n",
        "# また最後から一つ手前に-3を挿入しましょう\n",
        "\n",
        "# numbers = [0, 3, 8, -4, 9, 1]"
      ],
      "metadata": {
        "id": "EvxS0u9silIH"
      },
      "execution_count": 97,
      "outputs": []
    },
    {
      "cell_type": "code",
      "source": [
        "# 問題16 特定の値を削除(remove, pop)\n",
        "# 先ほどのリストから一つ目の5と最後から3番目の要素を削除しましょう。\n",
        "\n",
        "# numbers = [5, 0, 3, 8, -4, 9, 1, 5, 2]"
      ],
      "metadata": {
        "id": "4gPJEkdMjH4D"
      },
      "execution_count": 103,
      "outputs": []
    },
    {
      "cell_type": "code",
      "source": [
        "# 問題17 フィルター\n",
        "# 次の、偶数のみを返す関数とfilter()を用いて先ほどのnumbersリストから偶数のみを取り出したリストを作成しましょう。\n",
        "\n",
        "# def isEven(number):\n",
        "#     if number % 2 == 0:\n",
        "#         print(f'This number, {number} is even!')\n",
        "#         return True\n",
        "#     else:\n",
        "#         print(f'This number, {number} is odd!')\n",
        "#         return False\n",
        "\n",
        "# numbers = [5, 0, 3, 8, -4, 9, 1, 5, 2]"
      ],
      "metadata": {
        "id": "DLyCooZ9j3Xk"
      },
      "execution_count": 110,
      "outputs": []
    },
    {
      "cell_type": "code",
      "source": [
        "# 問題18 引数と一致する要素のインデックス\n",
        "# 先ほどのnumbersリストの中から要素が-4のインデックスを取得しましょう。\n",
        "# numbers = [5, 0, 3, 8, -4, 9, 1, 5, 2]"
      ],
      "metadata": {
        "id": "_HDZ0A_KkuzM"
      },
      "execution_count": 117,
      "outputs": []
    },
    {
      "cell_type": "code",
      "source": [
        "# 問題19 ソート(昇順/降順)\n",
        "# 先ほどのnumbersリストの順序を昇順/降順にそれぞれ並び替えましょう。\n",
        "# numbers = [5, 0, 3, 8, -4, 9, 1, 5, 2]"
      ],
      "metadata": {
        "id": "yq3KxVg-nXqs"
      },
      "execution_count": 127,
      "outputs": []
    },
    {
      "cell_type": "markdown",
      "source": [
        "#辞書"
      ],
      "metadata": {
        "id": "87QmQq_pqJXo"
      }
    },
    {
      "cell_type": "code",
      "source": [
        "# 問題20 要素の削除(pop/clear)\n",
        "# 以下の辞書データからpopメソッドを使って,\n",
        "# 要素Aと要素Bを削除しましょう．\n",
        "# またclearメソッドを使って,全ての要素を削除しましょう．\n",
        "\n",
        "# dictionary = {\n",
        "#     'A': '今西',\n",
        "#     'B': '航平',\n",
        "#     'C': '男性',\n",
        "#     'D': '東京都',\n",
        "#     'E': '海外旅行',\n",
        "# }"
      ],
      "metadata": {
        "id": "L7roHWo0oDzr"
      },
      "execution_count": 139,
      "outputs": []
    },
    {
      "cell_type": "code",
      "source": [
        "# 問題21 情報の取得(keys(), values(), items())\n",
        "# 以下の辞書データから次の処理を行いましょう。\n",
        "\n",
        "# キーのみの表示\n",
        "# 値の中に男性という文字列が存在するか\n",
        "# 全てのキーと値の表示\n",
        "\n",
        "# dictionary = {\n",
        "#     'A': '今西',\n",
        "#     'B': '航平',\n",
        "#     'C': '男性',\n",
        "#     'D': '東京都',\n",
        "#     'E': '海外旅行',\n",
        "# }"
      ],
      "metadata": {
        "id": "W-c4cugZpdq4"
      },
      "execution_count": 166,
      "outputs": []
    },
    {
      "cell_type": "code",
      "source": [
        "# 問題22 辞書内の要素検索\n",
        "# 以下の辞書データからキーCとEに対応する値を表示しましょう。\n",
        "\n",
        "# dictionary = {\n",
        "#     'A': '今西',\n",
        "#     'B': '航平',\n",
        "#     'C': '男性',\n",
        "#     'D': '東京都',\n",
        "#     'E': '海外旅行',\n",
        "# }"
      ],
      "metadata": {
        "id": "9OCBAXidqO4O"
      },
      "execution_count": 176,
      "outputs": []
    },
    {
      "cell_type": "markdown",
      "source": [
        "#制御構文(if文)"
      ],
      "metadata": {
        "id": "vQIawIFstGZU"
      }
    },
    {
      "cell_type": "code",
      "source": [
        "# 問題23 if文を使って条件分岐\n",
        "# if文を使って以下の処理を実装してください。\n",
        "\n",
        "# int型の変数: num\n",
        "# numが以下の条件の時、コロン右側の文字列を出力する\n",
        "\n",
        "# numが正の値の場合：　正の値です\n",
        "# numが0の場合：0です\n",
        "# numが負の値の場合: 負の値です"
      ],
      "metadata": {
        "id": "j3h7DMeDsXTl"
      },
      "execution_count": 185,
      "outputs": []
    },
    {
      "cell_type": "code",
      "source": [
        "# 問題24 論理演算子を使って複数条件の指定\n",
        "# 以下の条件分岐に対応する実装を行ってください。\n",
        "\n",
        "# aは整数\n",
        "# aが0以上10未満かつ偶数: 一桁の偶数です\n",
        "# aが0未満かつ奇数：負の奇数です\n",
        "# それ以外: 整数です"
      ],
      "metadata": {
        "id": "6tZXNEGztRfD"
      },
      "execution_count": 191,
      "outputs": []
    },
    {
      "cell_type": "markdown",
      "source": [
        "#制御構文(for文)"
      ],
      "metadata": {
        "id": "5aXBadhFvBXq"
      }
    },
    {
      "cell_type": "code",
      "source": [
        "# 問題25 リストから順に表示\n",
        "# リスト型の変数から順に名前を出力しましょう。\n",
        "\n",
        "# names = (['John', 'Kevin', 'Louis'])"
      ],
      "metadata": {
        "id": "SAcYmCIuuXWT"
      },
      "execution_count": 197,
      "outputs": []
    },
    {
      "cell_type": "code",
      "source": [
        "# 問題26 range関数を使う\n",
        "# range関数を用いて0~9を出力しましょう。"
      ],
      "metadata": {
        "id": "2OsmssUpvNEf"
      },
      "execution_count": 239,
      "outputs": []
    },
    {
      "cell_type": "code",
      "source": [
        "# 問題27 ループの途中で強制終了 -  break文\n",
        "# 問題26の処理に追加でi=6の時「BREAK!」と出力してループを抜け出すよう実装しましょう。"
      ],
      "metadata": {
        "id": "WnrGH6Ucvwtd"
      },
      "execution_count": 216,
      "outputs": []
    },
    {
      "cell_type": "code",
      "source": [
        "# 問題28 ループの途中で特別な処理\n",
        "# 問題26の処理に追加でi=3の時のみ出力結果が出ないように実装しましょう。 - continue文"
      ],
      "metadata": {
        "id": "OtwTikNZwS63"
      },
      "execution_count": 218,
      "outputs": []
    },
    {
      "cell_type": "code",
      "source": [
        "# 問題29 複数のリストを同時に処理\n",
        "# 2つの変数(lasts=['加藤', '佐藤', '田中'], firsts=['雄一', '拓也', '太郎'])を用意してリストから姓名を同時に出力しましょう。\n",
        "\n",
        "# lasts=['加藤', '佐藤', '田中']\n",
        "# firsts=['雄一', '拓也', '太郎']"
      ],
      "metadata": {
        "id": "EcweXoJ4xQ5O"
      },
      "execution_count": 240,
      "outputs": []
    },
    {
      "cell_type": "code",
      "source": [
        "# 問題30 リストと同時にインデックス情報の取得\n",
        "# 変数(lasts=['加藤', '佐藤', '田中'])を用意して「xx番のyyです。」と出力しましょう"
      ],
      "metadata": {
        "id": "iu9AgcKHyqgw"
      },
      "execution_count": 227,
      "outputs": []
    },
    {
      "cell_type": "code",
      "source": [
        "# 問題31 内包表記\n",
        "# 以下の2つのパターンで0から9未満となる2の倍数が入ったリスト([0, 2, 4, 6, 8])を作成しましょう。\n",
        "\n",
        "# 空のリストnumsを予め用意しforループ内で.append()関数を用いて要素を追加する\n",
        "# 1行で同様のリストnumbersを作成する"
      ],
      "metadata": {
        "id": "_vuMZ3Q-znMJ"
      },
      "execution_count": 268,
      "outputs": []
    },
    {
      "cell_type": "markdown",
      "source": [
        "#例外処理"
      ],
      "metadata": {
        "id": "Xm4_diBv4xyj"
      }
    },
    {
      "cell_type": "code",
      "source": [
        "# 問題32 \n",
        "# 0で割ったときにエラーと出力\n",
        "# 10をある数字numで割った時の結果を出力しましょう\n",
        "# 0で割った場合(割れない)にエラーと出力しましょう"
      ],
      "metadata": {
        "id": "-_50wQlm05E0"
      },
      "execution_count": 293,
      "outputs": []
    },
    {
      "cell_type": "code",
      "source": [
        "# 問題33 ZeroDivisionErrorの呼び出し\n",
        "# 10をある数字numで割った時の結果を出力しましょう(try節)\n",
        "# 0で割った場合(割れない)にZeroDivisionErrorでエラーを出力しましょう(except節)"
      ],
      "metadata": {
        "id": "T2ABsKDv5Cnm"
      },
      "execution_count": 299,
      "outputs": []
    },
    {
      "cell_type": "code",
      "source": [
        "# 問題34 そのほかのErrorの呼び出し(分けて記述)\n",
        "# 次のdivide()関数では変数a, bがそれぞれ数値の場合に正常に数値計算が行われます。\n",
        "\n",
        "# def divide(a, b):\n",
        "#     try:\n",
        "#         print(f'{a}を{b}で割ると{a / b}です。')\n",
        "#     except ZeroDivisionError as e:\n",
        "#         print(e)\n",
        "\n",
        "# aまたはbが文字列の場合(数値の型とは異なる場合)の例外処理(TypeError)をexcept節を追加して実装しましょう。"
      ],
      "metadata": {
        "id": "NqK2OPpn7bpx"
      },
      "execution_count": 310,
      "outputs": []
    },
    {
      "cell_type": "code",
      "source": [
        "# 問題35 通常終了時に行う処理\n",
        "# 先ほどのdivide()関数で例外処理が発生しなかった場合に「正常に終了しました。」と表示されるよう(else節)にしましょう。"
      ],
      "metadata": {
        "id": "R6dduTAe7549"
      },
      "execution_count": 314,
      "outputs": []
    },
    {
      "cell_type": "code",
      "source": [
        "# 問題36 例外も含めた終了時に行う処理\n",
        "# 先ほどのdivide()関数で例外処理の発生した有無に限らず「全ての処理が終了しました。」と表示されるよう(finally節)にしましょう。"
      ],
      "metadata": {
        "id": "Bl2TnXz69MFe"
      },
      "execution_count": 324,
      "outputs": []
    },
    {
      "cell_type": "code",
      "source": [
        "# 問題37 例外をスルーする\n",
        "# こちらのdivide()関数でTypeErrorの例外処理の発生した場合スルーするようにしましょう。\n",
        "\n",
        "# def divide(a, b):\n",
        "#     try:\n",
        "#         print(f'{a}を{b}で割ると{a / b}です。')\n",
        "#     except ZeroDivisionError as e:\n",
        "#         print(e)\n",
        "#     except TypeError as e:\n",
        "#         print(e)\n",
        "#     finally:\n",
        "#         print('全ての処理が終了しました。')"
      ],
      "metadata": {
        "id": "wZTG4whz9_Ct"
      },
      "execution_count": 342,
      "outputs": []
    },
    {
      "cell_type": "markdown",
      "source": [
        "#クラス"
      ],
      "metadata": {
        "id": "8-1WVPVJAI6v"
      }
    },
    {
      "cell_type": "code",
      "source": [
        "# 問題37 classの基礎\n",
        "# Personクラスを用意し、クラス変数としてnationality='Japan'、クラスメソッドとして.say_hello()実装しましょう。\n",
        "# ただしこちらのメソッドでは「こんにちは、私の国籍は{self.nationality}です。」と出力するようにしましょう。"
      ],
      "metadata": {
        "id": "ciJc5hNz-5mA"
      },
      "execution_count": 350,
      "outputs": []
    },
    {
      "cell_type": "code",
      "source": [
        "# 問題38 コンストラクタの設定\n",
        "# 続いて、先ほどのPersonクラスにコンストラクタ(インスタンス生成時に呼び出される関数)を使って、引数に名前を設定して.nameというインスタンス変数を持たせましょう。\n",
        "# またsay_my_name()という自分の名前を出力するクラスメソッドを実装しましょう。"
      ],
      "metadata": {
        "id": "ftLvcY6RAjzF"
      },
      "execution_count": 367,
      "outputs": []
    },
    {
      "cell_type": "code",
      "source": [
        "# 問題39 クラスの継承\n",
        "# 先ほどのPersonクラスを継承したKidクラスを作成しましょう。\n",
        "# その際に自分の年齢を出力するようにクラスメソッドsay_hello(age)(年齢を引数)を変更しましょう。\n",
        "# またそれらがきちんと動作しているか次のコードで確認しましょう。"
      ],
      "metadata": {
        "id": "rTi6o3tQDtKN"
      },
      "execution_count": 382,
      "outputs": []
    },
    {
      "cell_type": "code",
      "source": [
        "# 問題40 privateとpublic\n",
        "# 先ほどのPersonクラス内のクラス変数のnationalityを__nationalityへ変更し外部から呼び出せないprivateな変数になっていることを確認しましょう。\n",
        "# また同様に say_my_name()関数も__ say_my_name()と修正し、外部から呼び出せないことを確認しましょう。"
      ],
      "metadata": {
        "id": "t2w5DAH6IYr0"
      },
      "execution_count": 392,
      "outputs": []
    },
    {
      "cell_type": "markdown",
      "source": [
        "#ファイル操作"
      ],
      "metadata": {
        "id": "NdtQtXQ7PEw8"
      }
    },
    {
      "cell_type": "code",
      "source": [
        "# 問題41 ファイル操作の基本(open, read, close)\n",
        "# まず以下のテキストファイルを用意しましょう。\n",
        "\n",
        "# samples/08_41_sample.txt\n",
        "\n",
        "# はじめまして、\n",
        "# こちらはいまにゅうチャンネルです。\n",
        "# Pythonを使いこなして色んなことができるように、\n",
        "# 一緒に学んでいきましょう。\n",
        "# 以下の処理を行ってテキストファイルからテキストデータを取得して出力しましょう"
      ],
      "metadata": {
        "id": "TzPRQ_N1N9Lz"
      },
      "execution_count": 399,
      "outputs": []
    },
    {
      "cell_type": "code",
      "source": [
        "# 問題42 with構文 - よく使う構文\n",
        "# 先ほどのテキストデータを取得する処理をwith構文を使って実装しましょう"
      ],
      "metadata": {
        "id": "6W5FpIMbRCVh"
      },
      "execution_count": 405,
      "outputs": []
    },
    {
      "cell_type": "code",
      "source": [
        "# 問題43 jsonモジュール\n",
        "# jsonモジュールを使って以下のjsonファイルを読み込みましょう。"
      ],
      "metadata": {
        "id": "5fkMJ-E7SIoJ"
      },
      "execution_count": 415,
      "outputs": []
    },
    {
      "cell_type": "markdown",
      "source": [
        "#Matplotlib 57~64"
      ],
      "metadata": {
        "id": "MuYyUOZfVBT-"
      }
    },
    {
      "cell_type": "code",
      "source": [
        "# 問題57 折れ線グラフ\n",
        "# 以下のようにNumpyでデータを生成して, Matplotlibで折れ線グラフを作成してください。\n",
        "\n",
        "# import numpy as np\n",
        "\n",
        "# data = np.random.randint(0, 100, size=(50, 2))"
      ],
      "metadata": {
        "id": "HEJO_umMS6OC"
      },
      "execution_count": 420,
      "outputs": []
    },
    {
      "cell_type": "code",
      "source": [
        "# 問題58 散布図\n",
        "# 以下のようにNumpyでデータを生成して, 散布図を作成してください。\n",
        "\n",
        "# import numpy as np\n",
        "# data = np.random.randint(0, 50, size=(2, 100))\n"
      ],
      "metadata": {
        "id": "moXgGDggWzOg"
      },
      "execution_count": 424,
      "outputs": []
    },
    {
      "cell_type": "code",
      "source": [
        "# 問題59 棒グラフ\n",
        "# 以下のようにNumpyでデータを生成して, 2種類の棒グラフ(縦・横)を作成してください。\n",
        "\n",
        "# import numpy as np\n",
        "\n",
        "# x = [1, 2, 3, 4, 5]\n",
        "# data = np.random.randint(0, 100, size=(5,))\n",
        "# labels = ['Math', 'Physics', 'Chemistry', 'English', 'History']"
      ],
      "metadata": {
        "id": "mDd4ttYvXSgy"
      },
      "execution_count": 434,
      "outputs": []
    },
    {
      "cell_type": "code",
      "source": [
        "# 問題60 ヒストグラム\n",
        "# 以下のようにNumpyでデータを生成して, ヒストグラムを作成してください。\n",
        "\n",
        "# import numpy as np\n",
        "# data = np.random.randint(0, 100, size=(20,))"
      ],
      "metadata": {
        "id": "egUu5FMTXp3z"
      },
      "execution_count": 438,
      "outputs": []
    },
    {
      "cell_type": "code",
      "source": [
        "# 問題61 軸の名前と範囲指定\n",
        "# 以下のように作成したグラフの軸にタイトル(x軸: Height [cm], y軸: Weight [kg])と範囲(x軸: 110〜210, y軸: 20〜120)を追加してください。\n",
        "\n",
        "# import numpy as np\n",
        "\n",
        "# male_ht = np.random.randint(150, 200, size=(50,))\n",
        "# male_wt = np.random.randint(50, 110, size=(50, ))\n",
        "# female_ht = np.random.randint(130, 170, size=(50,))\n",
        "# female_wt = np.random.randint(30, 80, size=(50, ))\n",
        "\n",
        "# plt.scatter(male_ht, male_wt, label='male')\n",
        "# plt.scatter(female_ht, female_wt, label='female')"
      ],
      "metadata": {
        "id": "1RAmLCKPYKW3"
      },
      "execution_count": 442,
      "outputs": []
    },
    {
      "cell_type": "code",
      "source": [
        "# 問題62 色の設定\n",
        "# 以下のように作成した散布図のマーカの色を(男性: skyblue, 女性: pink)に変更してください。\n",
        "\n",
        "# import numpy as np\n",
        "\n",
        "# male_ht = np.random.randint(150, 200, size=(50,))\n",
        "# male_wt = np.random.randint(50, 110, size=(50, ))\n",
        "# female_ht = np.random.randint(130, 170, size=(50,))\n",
        "# female_wt = np.random.randint(30, 80, size=(50, ))\n",
        "\n",
        "# plt.scatter(male_ht, male_wt, label='male')\n",
        "# plt.scatter(female_ht, female_wt, label='female')"
      ],
      "metadata": {
        "id": "bBFoitzGYvKt"
      },
      "execution_count": 445,
      "outputs": []
    },
    {
      "cell_type": "code",
      "source": [
        "# 問題63 マーカー種類の指定\n",
        "# 以下のように作成したグラフのマーカーを(男性: ▷, 女性: ◁)に変更してください。\n",
        "\n",
        "# import numpy as np\n",
        "\n",
        "# male_ht = np.random.randint(150, 200, size=(50,))\n",
        "# male_wt = np.random.randint(50, 110, size=(50, ))\n",
        "# female_ht = np.random.randint(130, 170, size=(50,))\n",
        "# female_wt = np.random.randint(30, 80, size=(50, ))\n",
        "\n",
        "# plt.scatter(male_ht, male_wt, label='male')\n",
        "# plt.scatter(female_ht, female_wt, label='female')"
      ],
      "metadata": {
        "id": "CwPpYwBqZiyB"
      },
      "execution_count": 447,
      "outputs": []
    },
    {
      "cell_type": "code",
      "source": [
        "# 問題64 グラフを画像ファイルで出力\n",
        "# 以下のようにMatplotlibで折れ線グラフを作成し、その結果をPNG形式の画像ファイルで保存して下さい。\n",
        "\n",
        "# import numpy as np\n",
        "\n",
        "# data = np.random.randint(0, 100, size=(50, 2))\n",
        "# plt.plot(data)"
      ],
      "metadata": {
        "id": "QljTvbbWZzE3"
      },
      "execution_count": 449,
      "outputs": []
    },
    {
      "cell_type": "markdown",
      "source": [
        "#Numpy"
      ],
      "metadata": {
        "id": "87Vi2jZYbMzi"
      }
    },
    {
      "cell_type": "code",
      "source": [
        "# 1問目：ベクトルの定義\n",
        "# np.array()を使って次のベクトルを定義してください。\n",
        "# a = [1,2,3,4]\n",
        "\n",
        "# b = (4,\n",
        "#      -1,\n",
        "#      6)"
      ],
      "metadata": {
        "id": "ucSJysR7bVoV"
      },
      "execution_count": 9,
      "outputs": []
    },
    {
      "cell_type": "code",
      "source": [
        "# 2問目：行列の定義\n",
        "# np.array()を使って次の行列を定義してください。\n",
        "# c = (3,-2,\n",
        "#      7,1)\n",
        "\n",
        "# D = (3,-2,0,1,\n",
        "#      7,1,-1,2,\n",
        "#      4,-5,1,3)"
      ],
      "metadata": {
        "id": "IZGvXpypg7_p"
      },
      "execution_count": 12,
      "outputs": []
    },
    {
      "cell_type": "code",
      "source": [
        "# 3問目：ベクトルの作成\n",
        "# こちらのように規則性のあるベクトルを作成してください\n",
        "# a = [0,0]\n",
        "# b=(1,\n",
        "#    1,\n",
        "#    1,\n",
        "#    1,\n",
        "# )"
      ],
      "metadata": {
        "id": "jvhwGe2XhbpH"
      },
      "execution_count": 27,
      "outputs": []
    },
    {
      "cell_type": "code",
      "source": [
        "# 4問目：\n",
        "# こちらのように規則性のある行列(単位行列)を作成してください\n",
        "\n",
        "# c = (1,0,0,\n",
        "#      0,1,0,\n",
        "#      0,0,1)\n",
        "\n",
        "# d = (1,0,0,0,\n",
        "#      0,1,0,0,\n",
        "#      0,0,1,0,\n",
        "#      0,0,0,1,\n",
        "#      )"
      ],
      "metadata": {
        "id": "4XLk5zPVhbrK"
      },
      "execution_count": 36,
      "outputs": []
    },
    {
      "cell_type": "code",
      "source": [
        "# 5問目：基本情報の取得\n",
        "# こちらのベクトルと行列の基本情報(下記項目)を取得してください\n",
        "# a = [2,3,4]\n",
        "# b = (1.2,3.5,5.1,\n",
        "#      -0.3,1.1,-4.5,\n",
        "#      )\n",
        "\n",
        "# 形状\n",
        "# 次元\n",
        "# データ型\n",
        "# 要素数"
      ],
      "metadata": {
        "id": "i2p3ILN6hbtA"
      },
      "execution_count": 53,
      "outputs": []
    },
    {
      "cell_type": "code",
      "source": [
        "# 6問目：インデックスとスライシング\n",
        "# こちらのベクトル行列から以下の項目に従ってそれぞれの要素取得してください\n",
        "\n",
        "# ベクトル\n",
        "# 3~５つ目まで\n",
        "# 逆順で\n",
        "\n",
        "# a = np.array(1,13,2)\n",
        "\n",
        "\n",
        "# 行列\n",
        "# １行目全て(3つ)\n",
        "# ３行１列目(1つ)\n",
        "# 2~3行目2~3列目(4つ)\n",
        "\n",
        "# b = (2,4,6,\n",
        "#      -1,5,-3,\n",
        "#      0,-2,3)\n",
        "\n",
        "# a = np.arange(1,13,2)\n",
        "\n",
        "# ベクトル\n",
        "\n",
        "# 3~５つ目まで\n",
        "\n",
        "# 逆順で\n",
        "\n",
        "\n",
        "# 行列\n",
        "# b = np.array([[2,4,6],\n",
        "#               [-1,5,-3],\n",
        "#               [0,-2,3]])\n",
        "\n",
        "# １行目全て(3つ)\n",
        "\n",
        "# ３行１列目(1つ)\n",
        "\n",
        "# 2~3行目2~3列目(4つ)"
      ],
      "metadata": {
        "id": "wusaTWV4hbur"
      },
      "execution_count": 81,
      "outputs": []
    },
    {
      "cell_type": "code",
      "source": [
        "# 7問目：四則演算\n",
        "# こちらの行列の四則演算を行ってください\n",
        "\n",
        "# 足し算\n",
        "# (1,3,-2,4) + (2,-1,3,0)\n",
        "\n",
        "# 引き算\n",
        "# (1,3,-2,4) - (2,-1,3,0)\n",
        "\n",
        "# 行列積\n",
        "# (1,3,-2,4)(2,-1,3,0)\n",
        "\n",
        "# アダマール積 - 要素同士の(同じ場所同士)の掛け算\n",
        "# (1,3,-2,4)*(2,-1,3,0)\n",
        "\n",
        "# a = np.array([[1,3],[-2,4]])\n",
        "# b = np.array([[2,-1],[3,0]])\n",
        "\n",
        "# # print(a)\n",
        "# # print(b)"
      ],
      "metadata": {
        "id": "_9lNTlMDhbwY"
      },
      "execution_count": 90,
      "outputs": []
    },
    {
      "cell_type": "code",
      "source": [
        "# 8問目：転置 - 行と列を入れ替える\n",
        "# こちらのベクトル行列の転置を行ってください\n",
        "\n",
        "# a = [2,3,4]\n",
        "# b = (1.2,3.5,5.1,\n",
        "#      -0.3,1.1,-4.5)\n",
        "\n",
        "# a = np.array([2,3,4])\n",
        "# b = np.array([[1.2,3.5,5.1,],\n",
        "#               [-0.3,1.1,-4.5]])"
      ],
      "metadata": {
        "id": "tx8oHQUqhbyN"
      },
      "execution_count": 94,
      "outputs": []
    },
    {
      "cell_type": "code",
      "source": [
        "# 9問目：逆行列\n",
        "\n",
        "# 下記の値を求めてください\n",
        "\n",
        "# 行列の行列式の値\n",
        "# 行列式の値が0出なければその逆行列\n",
        "\n",
        "# a = (4,-2,\n",
        "#      1,0) \n",
        "\n",
        "# a = np.array([[4,-2],[1,0]])\n",
        "# print(a)"
      ],
      "metadata": {
        "id": "-7vSJwswnP3e"
      },
      "execution_count": 127,
      "outputs": []
    },
    {
      "cell_type": "code",
      "source": [
        "# 10問目：ブロードキャスト - ベクトル行列計算を簡易的に書けるようになっているもの\n",
        "# Numpyで定義されたベクトル行列にスカラーをかけた場合の計算結果を確認してください\n",
        "# ([[4,-2],[1,0]])*0.5\n",
        "# ([[8,1,5],[-3,0,7]])*2\n",
        "\n",
        "# a = np.array([[4,-2],[1,0]])\n",
        "# b = np.array([[8,1,5],[-3,0,-7]])"
      ],
      "metadata": {
        "id": "a21nJBfbnP41"
      },
      "execution_count": 4,
      "outputs": []
    },
    {
      "cell_type": "code",
      "source": [
        "# 11問目：ベクトルのサイズ変更\n",
        "# こちらのように定義されたベクトルを次の行列にサイズ変更してください\n",
        "\n",
        "# d = np.arange(12) - 12個の要素を持つベクトル\n",
        "# array([0,1,2,3,4,5,6,7,8,9,10,11])\n",
        "\n",
        "\n",
        "# d = (0,1,2,3,\n",
        "#      4,5,6,7,\n",
        "#      8,9,10,11)\n",
        "\n",
        "# d = np.arange(12)\n",
        "\n",
        "# ３行４列に変える"
      ],
      "metadata": {
        "colab": {
          "base_uri": "https://localhost:8080/"
        },
        "id": "KjWRUurMnP6l",
        "outputId": "10035186-887f-42b3-d7cd-2f3731375f71"
      },
      "execution_count": 9,
      "outputs": [
        {
          "output_type": "stream",
          "name": "stdout",
          "text": [
            "[ 0  1  2  3  4  5  6  7  8  9 10 11]\n",
            "[[ 0  1  2  3]\n",
            " [ 4  5  6  7]\n",
            " [ 8  9 10 11]]\n"
          ]
        }
      ]
    },
    {
      "cell_type": "code",
      "source": [
        "# 12問目：統計値\n",
        "# こちらの行列の統計値以下の項目を確認してください\n",
        "\n",
        "# b = (2,4,6,\n",
        "#      -1,5,-3,\n",
        "#      0,-2,3)\n",
        "\n",
        "# 最大値\n",
        "# 最小値\n",
        "# 総和\n",
        "# 平均\n",
        "# 分散\n",
        "# 標準偏差\n",
        "\n",
        "# b = np.array([[2,4,6],[-1,5,-3],[0,-2,3]])"
      ],
      "metadata": {
        "id": "VVNcWM-7nP8X"
      },
      "execution_count": 10,
      "outputs": []
    },
    {
      "cell_type": "code",
      "source": [
        "# 13問目：ユニバーサル関数 - Numpyの配列, ndarrayの全要素に対して要素ごとに演算の処理に従って結果を返す関数\n",
        "\n",
        "# Numpyに用意されている下記の数理的な関数をこちらの行列にで実装してください\n",
        "\n",
        "# 平方根\n",
        "# eの指数関数\n",
        "\n",
        "# a = (0,1,\n",
        "#      2,4)\n",
        "\n",
        "# a = np.array([[0,1],[2,4]])"
      ],
      "metadata": {
        "id": "Uh8-qt_mnP-M"
      },
      "execution_count": 17,
      "outputs": []
    },
    {
      "cell_type": "code",
      "source": [
        "# 14問目：ユニバーサル関数 \n",
        "# Numpyに多いされている下記の数理的な関数をこちらの行列にで実装してください\n",
        "\n",
        "# sin関数\n",
        "# cos関数\n",
        "\n",
        "# a = np.array([0,np.pi, np.pi/2,-np.pi/4]).reshape(2,-1)"
      ],
      "metadata": {
        "id": "a23VGJebnQAA"
      },
      "execution_count": 22,
      "outputs": []
    },
    {
      "cell_type": "code",
      "source": [
        "# 15問目：行列の結合\n",
        "# 次の行列を使って以下の項目に従い,結合を行ってください\n",
        "\n",
        "# 縦方向に結合:cで定義\n",
        "# 縦方向に結合:dで定義\n",
        "\n",
        "# a = (0,1,-1,\n",
        "#      2,4,-3,\n",
        "#      5,-2,7)\n",
        "\n",
        "# b = (-2,0,1,\n",
        "#      5,-1,2\n",
        "#      -6,3,4)"
      ],
      "metadata": {
        "id": "E6BFcbh9nQBn"
      },
      "execution_count": 37,
      "outputs": []
    },
    {
      "cell_type": "code",
      "source": [
        "# 16問目：行列の分解\n",
        "# 先ほどの結合の部分で作成した行列を使って以下の項目に従い分解を行ってください\n",
        "\n",
        "# 縦方向に分解:cを２つに分けた場合/cを３つに分けた場合\n",
        "# 横方向に分解:dを２つに分けた場合"
      ],
      "metadata": {
        "id": "SLnARpobnQDe"
      },
      "execution_count": 35,
      "outputs": []
    },
    {
      "cell_type": "code",
      "source": [
        "# 17問目：\n",
        "# ここからはNumpyで作成したデータをMatplotlibを使ってグラフ化していきます。下記2つを実装してください\n",
        "# 0~2πまでの５００サンプルで区切ってsin波,cos波をプロット\n",
        "# ０〜３０までの整数からランダムに１００サンプルを作成してヒストグラムにする"
      ],
      "metadata": {
        "id": "ZFRq6GaQhb0B"
      },
      "execution_count": 65,
      "outputs": []
    },
    {
      "cell_type": "code",
      "source": [
        "# 18問目：演習課題\n",
        "# ここまでの内容を理解しているか確認するために取り組みます。\n",
        "# 下記の行列の形状を見て計算可能なことを確認した後 c= ab の行列積を計算してください\n",
        "\n",
        "# a = (-10,-8,-6,\n",
        "#      -4,-2,0,\n",
        "#      2,4,6,\n",
        "#      8,10,12)\n",
        "\n",
        "# b = (-1,-2,-2,-2,\n",
        "#      -2,-1,-2,-2,\n",
        "#      -2,-2,-1,-2)"
      ],
      "metadata": {
        "id": "rF1Njm9mhb3a"
      },
      "execution_count": 93,
      "outputs": []
    },
    {
      "cell_type": "code",
      "source": [
        "# 19問目：演習課題\n",
        "# 先ほど作成した行列cの2行2列目までをdとして取り出し、一度転置した後、逆行列を求めてください。\n",
        "\n",
        "# cの2行2列目までをdとして取り出し、一度転置した後、逆行列を求めてください。"
      ],
      "metadata": {
        "id": "8N2slyt4uMhG"
      },
      "execution_count": 89,
      "outputs": []
    },
    {
      "cell_type": "code",
      "source": [
        "# 20問目：演習課題\n",
        "# -100から100までの整数の乱数300サンプルを2つ作成しそれぞれをx軸の値,y軸の値とした場合の散布図をプロットしてください"
      ],
      "metadata": {
        "id": "KJPD_dX8uMjJ"
      },
      "execution_count": 92,
      "outputs": []
    },
    {
      "cell_type": "markdown",
      "source": [
        "#Pandas"
      ],
      "metadata": {
        "id": "fyiqjDb2bM73"
      }
    },
    {
      "cell_type": "code",
      "source": [
        "# 01. データの読み込み\n",
        "# weather.csvを読み込み、df で定義してください\n",
        "\n",
        "df = pd.read_csv(\"/content/weather.csv\")\n",
        "df.head()"
      ],
      "metadata": {
        "colab": {
          "base_uri": "https://localhost:8080/",
          "height": 357
        },
        "id": "awN_OGuxbWNj",
        "outputId": "76376b0f-3ebc-465b-ad99-9215f4925db5"
      },
      "execution_count": 2,
      "outputs": [
        {
          "output_type": "execute_result",
          "data": {
            "text/html": [
              "\n",
              "  <div id=\"df-a9a44e56-ad9f-4e35-8df6-c637fa5d2841\">\n",
              "    <div class=\"colab-df-container\">\n",
              "      <div>\n",
              "<style scoped>\n",
              "    .dataframe tbody tr th:only-of-type {\n",
              "        vertical-align: middle;\n",
              "    }\n",
              "\n",
              "    .dataframe tbody tr th {\n",
              "        vertical-align: top;\n",
              "    }\n",
              "\n",
              "    .dataframe thead th {\n",
              "        text-align: right;\n",
              "    }\n",
              "</style>\n",
              "<table border=\"1\" class=\"dataframe\">\n",
              "  <thead>\n",
              "    <tr style=\"text-align: right;\">\n",
              "      <th></th>\n",
              "      <th>年月日</th>\n",
              "      <th>平均気温(℃)</th>\n",
              "      <th>平均気温(℃).1</th>\n",
              "      <th>平均気温(℃).2</th>\n",
              "      <th>最高気温(℃)</th>\n",
              "      <th>最高気温(℃).1</th>\n",
              "      <th>最高気温(℃).2</th>\n",
              "      <th>最低気温(℃)</th>\n",
              "      <th>最低気温(℃).1</th>\n",
              "      <th>最低気温(℃).2</th>\n",
              "      <th>降水量の合計(mm)</th>\n",
              "      <th>降水量の合計(mm).1</th>\n",
              "      <th>降水量の合計(mm).2</th>\n",
              "      <th>最深積雪(cm)</th>\n",
              "      <th>最深積雪(cm).1</th>\n",
              "      <th>最深積雪(cm).2</th>\n",
              "      <th>平均雲量(10分比)</th>\n",
              "      <th>平均雲量(10分比).1</th>\n",
              "      <th>平均雲量(10分比).2</th>\n",
              "      <th>平均蒸気圧(hPa)</th>\n",
              "      <th>平均蒸気圧(hPa).1</th>\n",
              "      <th>平均蒸気圧(hPa).2</th>\n",
              "      <th>平均風速(m/s)</th>\n",
              "      <th>平均風速(m/s).1</th>\n",
              "      <th>平均風速(m/s).2</th>\n",
              "      <th>日照時間(時間)</th>\n",
              "      <th>日照時間(時間).1</th>\n",
              "      <th>日照時間(時間).2</th>\n",
              "    </tr>\n",
              "  </thead>\n",
              "  <tbody>\n",
              "    <tr>\n",
              "      <th>0</th>\n",
              "      <td>NaN</td>\n",
              "      <td>NaN</td>\n",
              "      <td>品質情報</td>\n",
              "      <td>均質番号</td>\n",
              "      <td>NaN</td>\n",
              "      <td>品質情報</td>\n",
              "      <td>均質番号</td>\n",
              "      <td>NaN</td>\n",
              "      <td>品質情報</td>\n",
              "      <td>均質番号</td>\n",
              "      <td>NaN</td>\n",
              "      <td>品質情報</td>\n",
              "      <td>均質番号</td>\n",
              "      <td>NaN</td>\n",
              "      <td>品質情報</td>\n",
              "      <td>均質番号</td>\n",
              "      <td>NaN</td>\n",
              "      <td>品質情報</td>\n",
              "      <td>均質番号</td>\n",
              "      <td>NaN</td>\n",
              "      <td>品質情報</td>\n",
              "      <td>均質番号</td>\n",
              "      <td>NaN</td>\n",
              "      <td>品質情報</td>\n",
              "      <td>均質番号</td>\n",
              "      <td>NaN</td>\n",
              "      <td>品質情報</td>\n",
              "      <td>均質番号</td>\n",
              "    </tr>\n",
              "    <tr>\n",
              "      <th>1</th>\n",
              "      <td>2019/12/14</td>\n",
              "      <td>9.3</td>\n",
              "      <td>8</td>\n",
              "      <td>1</td>\n",
              "      <td>15.9</td>\n",
              "      <td>8</td>\n",
              "      <td>1</td>\n",
              "      <td>3.2</td>\n",
              "      <td>8</td>\n",
              "      <td>1</td>\n",
              "      <td>0.0</td>\n",
              "      <td>8</td>\n",
              "      <td>1</td>\n",
              "      <td>NaN</td>\n",
              "      <td>0</td>\n",
              "      <td>1</td>\n",
              "      <td>NaN</td>\n",
              "      <td>0</td>\n",
              "      <td>1</td>\n",
              "      <td>NaN</td>\n",
              "      <td>0</td>\n",
              "      <td>1</td>\n",
              "      <td>2.0</td>\n",
              "      <td>8</td>\n",
              "      <td>1</td>\n",
              "      <td>8.9</td>\n",
              "      <td>8</td>\n",
              "      <td>1</td>\n",
              "    </tr>\n",
              "    <tr>\n",
              "      <th>2</th>\n",
              "      <td>2019/12/15</td>\n",
              "      <td>7.8</td>\n",
              "      <td>8</td>\n",
              "      <td>1</td>\n",
              "      <td>11.1</td>\n",
              "      <td>8</td>\n",
              "      <td>1</td>\n",
              "      <td>4.0</td>\n",
              "      <td>8</td>\n",
              "      <td>1</td>\n",
              "      <td>0.0</td>\n",
              "      <td>8</td>\n",
              "      <td>1</td>\n",
              "      <td>NaN</td>\n",
              "      <td>0</td>\n",
              "      <td>1</td>\n",
              "      <td>NaN</td>\n",
              "      <td>0</td>\n",
              "      <td>1</td>\n",
              "      <td>NaN</td>\n",
              "      <td>0</td>\n",
              "      <td>1</td>\n",
              "      <td>2.3</td>\n",
              "      <td>8</td>\n",
              "      <td>1</td>\n",
              "      <td>6.3</td>\n",
              "      <td>8</td>\n",
              "      <td>1</td>\n",
              "    </tr>\n",
              "    <tr>\n",
              "      <th>3</th>\n",
              "      <td>2019/12/16</td>\n",
              "      <td>6.9</td>\n",
              "      <td>8</td>\n",
              "      <td>1</td>\n",
              "      <td>12.5</td>\n",
              "      <td>8</td>\n",
              "      <td>1</td>\n",
              "      <td>1.3</td>\n",
              "      <td>8</td>\n",
              "      <td>1</td>\n",
              "      <td>0.0</td>\n",
              "      <td>8</td>\n",
              "      <td>1</td>\n",
              "      <td>NaN</td>\n",
              "      <td>0</td>\n",
              "      <td>1</td>\n",
              "      <td>NaN</td>\n",
              "      <td>0</td>\n",
              "      <td>1</td>\n",
              "      <td>NaN</td>\n",
              "      <td>0</td>\n",
              "      <td>1</td>\n",
              "      <td>1.1</td>\n",
              "      <td>8</td>\n",
              "      <td>1</td>\n",
              "      <td>8.9</td>\n",
              "      <td>8</td>\n",
              "      <td>1</td>\n",
              "    </tr>\n",
              "    <tr>\n",
              "      <th>4</th>\n",
              "      <td>2019/12/17</td>\n",
              "      <td>8.2</td>\n",
              "      <td>8</td>\n",
              "      <td>1</td>\n",
              "      <td>10.3</td>\n",
              "      <td>8</td>\n",
              "      <td>1</td>\n",
              "      <td>5.7</td>\n",
              "      <td>8</td>\n",
              "      <td>1</td>\n",
              "      <td>2.0</td>\n",
              "      <td>8</td>\n",
              "      <td>1</td>\n",
              "      <td>NaN</td>\n",
              "      <td>0</td>\n",
              "      <td>1</td>\n",
              "      <td>NaN</td>\n",
              "      <td>0</td>\n",
              "      <td>1</td>\n",
              "      <td>NaN</td>\n",
              "      <td>0</td>\n",
              "      <td>1</td>\n",
              "      <td>1.1</td>\n",
              "      <td>8</td>\n",
              "      <td>1</td>\n",
              "      <td>0.2</td>\n",
              "      <td>8</td>\n",
              "      <td>1</td>\n",
              "    </tr>\n",
              "  </tbody>\n",
              "</table>\n",
              "</div>\n",
              "      <button class=\"colab-df-convert\" onclick=\"convertToInteractive('df-a9a44e56-ad9f-4e35-8df6-c637fa5d2841')\"\n",
              "              title=\"Convert this dataframe to an interactive table.\"\n",
              "              style=\"display:none;\">\n",
              "        \n",
              "  <svg xmlns=\"http://www.w3.org/2000/svg\" height=\"24px\"viewBox=\"0 0 24 24\"\n",
              "       width=\"24px\">\n",
              "    <path d=\"M0 0h24v24H0V0z\" fill=\"none\"/>\n",
              "    <path d=\"M18.56 5.44l.94 2.06.94-2.06 2.06-.94-2.06-.94-.94-2.06-.94 2.06-2.06.94zm-11 1L8.5 8.5l.94-2.06 2.06-.94-2.06-.94L8.5 2.5l-.94 2.06-2.06.94zm10 10l.94 2.06.94-2.06 2.06-.94-2.06-.94-.94-2.06-.94 2.06-2.06.94z\"/><path d=\"M17.41 7.96l-1.37-1.37c-.4-.4-.92-.59-1.43-.59-.52 0-1.04.2-1.43.59L10.3 9.45l-7.72 7.72c-.78.78-.78 2.05 0 2.83L4 21.41c.39.39.9.59 1.41.59.51 0 1.02-.2 1.41-.59l7.78-7.78 2.81-2.81c.8-.78.8-2.07 0-2.86zM5.41 20L4 18.59l7.72-7.72 1.47 1.35L5.41 20z\"/>\n",
              "  </svg>\n",
              "      </button>\n",
              "      \n",
              "  <style>\n",
              "    .colab-df-container {\n",
              "      display:flex;\n",
              "      flex-wrap:wrap;\n",
              "      gap: 12px;\n",
              "    }\n",
              "\n",
              "    .colab-df-convert {\n",
              "      background-color: #E8F0FE;\n",
              "      border: none;\n",
              "      border-radius: 50%;\n",
              "      cursor: pointer;\n",
              "      display: none;\n",
              "      fill: #1967D2;\n",
              "      height: 32px;\n",
              "      padding: 0 0 0 0;\n",
              "      width: 32px;\n",
              "    }\n",
              "\n",
              "    .colab-df-convert:hover {\n",
              "      background-color: #E2EBFA;\n",
              "      box-shadow: 0px 1px 2px rgba(60, 64, 67, 0.3), 0px 1px 3px 1px rgba(60, 64, 67, 0.15);\n",
              "      fill: #174EA6;\n",
              "    }\n",
              "\n",
              "    [theme=dark] .colab-df-convert {\n",
              "      background-color: #3B4455;\n",
              "      fill: #D2E3FC;\n",
              "    }\n",
              "\n",
              "    [theme=dark] .colab-df-convert:hover {\n",
              "      background-color: #434B5C;\n",
              "      box-shadow: 0px 1px 3px 1px rgba(0, 0, 0, 0.15);\n",
              "      filter: drop-shadow(0px 1px 2px rgba(0, 0, 0, 0.3));\n",
              "      fill: #FFFFFF;\n",
              "    }\n",
              "  </style>\n",
              "\n",
              "      <script>\n",
              "        const buttonEl =\n",
              "          document.querySelector('#df-a9a44e56-ad9f-4e35-8df6-c637fa5d2841 button.colab-df-convert');\n",
              "        buttonEl.style.display =\n",
              "          google.colab.kernel.accessAllowed ? 'block' : 'none';\n",
              "\n",
              "        async function convertToInteractive(key) {\n",
              "          const element = document.querySelector('#df-a9a44e56-ad9f-4e35-8df6-c637fa5d2841');\n",
              "          const dataTable =\n",
              "            await google.colab.kernel.invokeFunction('convertToInteractive',\n",
              "                                                     [key], {});\n",
              "          if (!dataTable) return;\n",
              "\n",
              "          const docLinkHtml = 'Like what you see? Visit the ' +\n",
              "            '<a target=\"_blank\" href=https://colab.research.google.com/notebooks/data_table.ipynb>data table notebook</a>'\n",
              "            + ' to learn more about interactive tables.';\n",
              "          element.innerHTML = '';\n",
              "          dataTable['output_type'] = 'display_data';\n",
              "          await google.colab.output.renderOutput(dataTable, element);\n",
              "          const docLink = document.createElement('div');\n",
              "          docLink.innerHTML = docLinkHtml;\n",
              "          element.appendChild(docLink);\n",
              "        }\n",
              "      </script>\n",
              "    </div>\n",
              "  </div>\n",
              "  "
            ],
            "text/plain": [
              "          年月日  平均気温(℃) 平均気温(℃).1  ... 日照時間(時間)  日照時間(時間).1 日照時間(時間).2\n",
              "0         NaN      NaN      品質情報  ...      NaN        品質情報       均質番号\n",
              "1  2019/12/14      9.3         8  ...      8.9           8          1\n",
              "2  2019/12/15      7.8         8  ...      6.3           8          1\n",
              "3  2019/12/16      6.9         8  ...      8.9           8          1\n",
              "4  2019/12/17      8.2         8  ...      0.2           8          1\n",
              "\n",
              "[5 rows x 28 columns]"
            ]
          },
          "metadata": {},
          "execution_count": 2
        }
      ]
    },
    {
      "cell_type": "code",
      "source": [
        "# 02. データの中身確認\n",
        "# 読み込んだデータdfの先頭3行、末尾10行を表示してください。"
      ],
      "metadata": {
        "id": "oDYBOu0z8vrm"
      },
      "execution_count": 98,
      "outputs": []
    },
    {
      "cell_type": "code",
      "source": [
        "# 03. 不要な列、行の削除\n",
        "# 行は先頭のみ、列は、カラム名（列名）が「〇〇.1」「〇〇.2」となっているものを削除したDataFrame df を再定義してください。\n",
        "# 03. 不要な列、行の削除\n",
        "# 行は先頭のみ、列は、カラム名（列名）が「〇〇.1」「〇〇.2」となっているものを削除したDataFrame df を再定義してください。\n",
        "\n",
        "# df.columns - 全カラム名を取ってこれる"
      ],
      "metadata": {
        "id": "4rkPQH9L8vtS"
      },
      "execution_count": 71,
      "outputs": []
    },
    {
      "cell_type": "code",
      "source": [
        "# 04. DataFrameに関する情報の取得\n",
        "# 下記の値を取得してください。\n",
        "\n",
        "# 各列のデータ型\n",
        "\n",
        "# DataFrameのサイズ\n",
        "\n",
        "# 列名\n",
        "\n",
        "# 行名"
      ],
      "metadata": {
        "colab": {
          "base_uri": "https://localhost:8080/"
        },
        "id": "6LPCcJW48vvD",
        "outputId": "b71eded8-5d3f-4fa8-822e-76f47f57ac1c"
      },
      "execution_count": 126,
      "outputs": [
        {
          "output_type": "execute_result",
          "data": {
            "text/plain": [
              "RangeIndex(start=3, stop=368, step=1)"
            ]
          },
          "metadata": {},
          "execution_count": 126
        }
      ]
    },
    {
      "cell_type": "code",
      "source": [
        "# 05. 任意の要素を取得\n",
        "# dfの 5〜10行目, 3〜6列目（最高気温(℃)〜最深積雪(cm)）の要素を取得してください。"
      ],
      "metadata": {
        "id": "vmrVUXq28vw1"
      },
      "execution_count": 130,
      "outputs": []
    },
    {
      "cell_type": "code",
      "source": [
        "# 06. 条件抽出\n",
        "# people.csv を読み込みdf_peopleと定義してください。\n",
        "\n",
        "# その後、下記の条件を満たすDataFrameをそれぞれ抽出してください。\n",
        "# nationality が America である\n",
        "# age が 20以上30未満である\n",
        "\n",
        "df_people = pd.read_csv(\"/content/people.csv\")\n",
        "df_people"
      ],
      "metadata": {
        "colab": {
          "base_uri": "https://localhost:8080/",
          "height": 206
        },
        "id": "8zHyzyMv8vyq",
        "outputId": "332ccc6b-1cd0-4ae8-a413-565538413f6c"
      },
      "execution_count": 3,
      "outputs": [
        {
          "output_type": "execute_result",
          "data": {
            "text/html": [
              "\n",
              "  <div id=\"df-e27ebecb-c554-4cbb-a309-dfc2c01a5a4f\">\n",
              "    <div class=\"colab-df-container\">\n",
              "      <div>\n",
              "<style scoped>\n",
              "    .dataframe tbody tr th:only-of-type {\n",
              "        vertical-align: middle;\n",
              "    }\n",
              "\n",
              "    .dataframe tbody tr th {\n",
              "        vertical-align: top;\n",
              "    }\n",
              "\n",
              "    .dataframe thead th {\n",
              "        text-align: right;\n",
              "    }\n",
              "</style>\n",
              "<table border=\"1\" class=\"dataframe\">\n",
              "  <thead>\n",
              "    <tr style=\"text-align: right;\">\n",
              "      <th></th>\n",
              "      <th>age</th>\n",
              "      <th>id</th>\n",
              "      <th>name</th>\n",
              "      <th>nationality</th>\n",
              "    </tr>\n",
              "  </thead>\n",
              "  <tbody>\n",
              "    <tr>\n",
              "      <th>0</th>\n",
              "      <td>26</td>\n",
              "      <td>13</td>\n",
              "      <td>Imanishi</td>\n",
              "      <td>Japan</td>\n",
              "    </tr>\n",
              "    <tr>\n",
              "      <th>1</th>\n",
              "      <td>21</td>\n",
              "      <td>33</td>\n",
              "      <td>Mike</td>\n",
              "      <td>America</td>\n",
              "    </tr>\n",
              "    <tr>\n",
              "      <th>2</th>\n",
              "      <td>35</td>\n",
              "      <td>31</td>\n",
              "      <td>Suzuki</td>\n",
              "      <td>Japan</td>\n",
              "    </tr>\n",
              "    <tr>\n",
              "      <th>3</th>\n",
              "      <td>16</td>\n",
              "      <td>20</td>\n",
              "      <td>John</td>\n",
              "      <td>America</td>\n",
              "    </tr>\n",
              "    <tr>\n",
              "      <th>4</th>\n",
              "      <td>28</td>\n",
              "      <td>11</td>\n",
              "      <td>Kim</td>\n",
              "      <td>Korea</td>\n",
              "    </tr>\n",
              "  </tbody>\n",
              "</table>\n",
              "</div>\n",
              "      <button class=\"colab-df-convert\" onclick=\"convertToInteractive('df-e27ebecb-c554-4cbb-a309-dfc2c01a5a4f')\"\n",
              "              title=\"Convert this dataframe to an interactive table.\"\n",
              "              style=\"display:none;\">\n",
              "        \n",
              "  <svg xmlns=\"http://www.w3.org/2000/svg\" height=\"24px\"viewBox=\"0 0 24 24\"\n",
              "       width=\"24px\">\n",
              "    <path d=\"M0 0h24v24H0V0z\" fill=\"none\"/>\n",
              "    <path d=\"M18.56 5.44l.94 2.06.94-2.06 2.06-.94-2.06-.94-.94-2.06-.94 2.06-2.06.94zm-11 1L8.5 8.5l.94-2.06 2.06-.94-2.06-.94L8.5 2.5l-.94 2.06-2.06.94zm10 10l.94 2.06.94-2.06 2.06-.94-2.06-.94-.94-2.06-.94 2.06-2.06.94z\"/><path d=\"M17.41 7.96l-1.37-1.37c-.4-.4-.92-.59-1.43-.59-.52 0-1.04.2-1.43.59L10.3 9.45l-7.72 7.72c-.78.78-.78 2.05 0 2.83L4 21.41c.39.39.9.59 1.41.59.51 0 1.02-.2 1.41-.59l7.78-7.78 2.81-2.81c.8-.78.8-2.07 0-2.86zM5.41 20L4 18.59l7.72-7.72 1.47 1.35L5.41 20z\"/>\n",
              "  </svg>\n",
              "      </button>\n",
              "      \n",
              "  <style>\n",
              "    .colab-df-container {\n",
              "      display:flex;\n",
              "      flex-wrap:wrap;\n",
              "      gap: 12px;\n",
              "    }\n",
              "\n",
              "    .colab-df-convert {\n",
              "      background-color: #E8F0FE;\n",
              "      border: none;\n",
              "      border-radius: 50%;\n",
              "      cursor: pointer;\n",
              "      display: none;\n",
              "      fill: #1967D2;\n",
              "      height: 32px;\n",
              "      padding: 0 0 0 0;\n",
              "      width: 32px;\n",
              "    }\n",
              "\n",
              "    .colab-df-convert:hover {\n",
              "      background-color: #E2EBFA;\n",
              "      box-shadow: 0px 1px 2px rgba(60, 64, 67, 0.3), 0px 1px 3px 1px rgba(60, 64, 67, 0.15);\n",
              "      fill: #174EA6;\n",
              "    }\n",
              "\n",
              "    [theme=dark] .colab-df-convert {\n",
              "      background-color: #3B4455;\n",
              "      fill: #D2E3FC;\n",
              "    }\n",
              "\n",
              "    [theme=dark] .colab-df-convert:hover {\n",
              "      background-color: #434B5C;\n",
              "      box-shadow: 0px 1px 3px 1px rgba(0, 0, 0, 0.15);\n",
              "      filter: drop-shadow(0px 1px 2px rgba(0, 0, 0, 0.3));\n",
              "      fill: #FFFFFF;\n",
              "    }\n",
              "  </style>\n",
              "\n",
              "      <script>\n",
              "        const buttonEl =\n",
              "          document.querySelector('#df-e27ebecb-c554-4cbb-a309-dfc2c01a5a4f button.colab-df-convert');\n",
              "        buttonEl.style.display =\n",
              "          google.colab.kernel.accessAllowed ? 'block' : 'none';\n",
              "\n",
              "        async function convertToInteractive(key) {\n",
              "          const element = document.querySelector('#df-e27ebecb-c554-4cbb-a309-dfc2c01a5a4f');\n",
              "          const dataTable =\n",
              "            await google.colab.kernel.invokeFunction('convertToInteractive',\n",
              "                                                     [key], {});\n",
              "          if (!dataTable) return;\n",
              "\n",
              "          const docLinkHtml = 'Like what you see? Visit the ' +\n",
              "            '<a target=\"_blank\" href=https://colab.research.google.com/notebooks/data_table.ipynb>data table notebook</a>'\n",
              "            + ' to learn more about interactive tables.';\n",
              "          element.innerHTML = '';\n",
              "          dataTable['output_type'] = 'display_data';\n",
              "          await google.colab.output.renderOutput(dataTable, element);\n",
              "          const docLink = document.createElement('div');\n",
              "          docLink.innerHTML = docLinkHtml;\n",
              "          element.appendChild(docLink);\n",
              "        }\n",
              "      </script>\n",
              "    </div>\n",
              "  </div>\n",
              "  "
            ],
            "text/plain": [
              "   age  id      name nationality\n",
              "0   26  13  Imanishi       Japan\n",
              "1   21  33      Mike     America\n",
              "2   35  31    Suzuki       Japan\n",
              "3   16  20      John     America\n",
              "4   28  11       Kim       Korea"
            ]
          },
          "metadata": {},
          "execution_count": 3
        }
      ]
    },
    {
      "cell_type": "code",
      "source": [
        "# 07. ユニークな値の抽出\n",
        "# df_peopleに対して、カラム毎のユニーク（固有）な値を抽出してください。 - xxx.unique()"
      ],
      "metadata": {
        "id": "zDvvoKnE8v0Q"
      },
      "execution_count": 181,
      "outputs": []
    },
    {
      "cell_type": "code",
      "source": [
        "# 08. 重複除去\n",
        "# nationalityの列に対し、重複がある値の行を除去したDataFrameを取得してください。"
      ],
      "metadata": {
        "id": "ABWEbwoX8v2W"
      },
      "execution_count": 184,
      "outputs": []
    },
    {
      "cell_type": "code",
      "source": [
        "# 09. カラム名変更\n",
        "# dfに対し、各カラム名の「（単位）」部分を削除したカラム名に変更してください。"
      ],
      "metadata": {
        "id": "vY-NXQWo8v4L"
      },
      "execution_count": 70,
      "outputs": []
    },
    {
      "cell_type": "code",
      "source": [
        "# 10. 並び替え\n",
        "# dfを最高気温が高い順に並び替えてください。"
      ],
      "metadata": {
        "id": "1zYXptSZ8v6A"
      },
      "execution_count": 10,
      "outputs": []
    },
    {
      "cell_type": "code",
      "source": [
        "# 11. ダミーデータへの処理\n",
        "# df_peopleのnationalityカラムをダミー変数に変換してください。\n",
        "\n",
        "# df_peopleのnationalityカラムをダミー変数に変換してください。 - pd.get_dummies(df_people,columns=[\"nationality\"])"
      ],
      "metadata": {
        "id": "A293fV9X8v70"
      },
      "execution_count": 26,
      "outputs": []
    },
    {
      "cell_type": "code",
      "source": [
        "# 12. 欠損値の確認\n",
        "# dfの欠損値を確認してください。"
      ],
      "metadata": {
        "id": "GPy6aQGf8v9q"
      },
      "execution_count": 28,
      "outputs": []
    },
    {
      "cell_type": "code",
      "source": [
        "# 13. 欠損値の補完\n",
        "# dfの欠損値を全て0で補完してください。"
      ],
      "metadata": {
        "id": "e-kE90Un8v_f"
      },
      "execution_count": 30,
      "outputs": []
    },
    {
      "cell_type": "code",
      "source": [
        "# 14. 欠損値の削除\n",
        "# dfの欠損値を列方向で削除してください。\n"
      ],
      "metadata": {
        "id": "5ByyMH-Z8wBB"
      },
      "execution_count": 34,
      "outputs": []
    },
    {
      "cell_type": "code",
      "source": [
        "# 15. ユニークな値と出現回数\n",
        "# iris.csvを読み込みdf_irisと定義してください。\n",
        "# その後、df_irisのClassカラムにおいて、ユニークな値とその出現回数を確認してください。\n",
        "\n",
        "df_iris = pd.read_csv(\"/content/iris.csv\")"
      ],
      "metadata": {
        "id": "7ud6m20s8wDG"
      },
      "execution_count": 42,
      "outputs": []
    },
    {
      "cell_type": "code",
      "source": [
        "# 16. グループごとの集計\n",
        "# df_irisの下記各クラスにおけるsepal-length, sepal-width, petal-length, petal-widthの平均値を求めてください。\n",
        "\n",
        "# Iris-setosa\n",
        "# Iris-versicolor\n",
        "# Iris-virginica"
      ],
      "metadata": {
        "id": "78CHK7EiJ7kF"
      },
      "execution_count": 51,
      "outputs": []
    },
    {
      "cell_type": "code",
      "source": [
        "# 17. 統計量の確認\n",
        "# df_irisの各カラムにおける、下記統計量を算出してください。 - print(df_iris.describe())\n",
        "\n",
        "# 平均値\n",
        "# 中央値\n",
        "# 標準偏差\n",
        "# 最大値\n",
        "# 最小値"
      ],
      "metadata": {
        "id": "iaBhqN2HJ74y"
      },
      "execution_count": 60,
      "outputs": []
    },
    {
      "cell_type": "code",
      "source": [
        "# 18. 折れ線グラフの表示\n",
        "# dfの先頭50日間おける平均気温、最高気温、最低気温を折れ線グラフ（凡例なし）で可視化してください。\n",
        "# ※横軸は年月日とすること"
      ],
      "metadata": {
        "id": "nKYFcQm-J76U"
      },
      "execution_count": 59,
      "outputs": []
    },
    {
      "cell_type": "code",
      "source": [
        "# 19. 相関係数の算出\n",
        "# dfの下記3項目同士の相関係数を算出してください。\n",
        "\n",
        "# 平均気温\n",
        "# 降水量の合計\n",
        "# 日照時間"
      ],
      "metadata": {
        "id": "ozWKtyrXJ78F"
      },
      "execution_count": 65,
      "outputs": []
    },
    {
      "cell_type": "code",
      "source": [
        "# 20. データの出力\n",
        "# 欠損値を0で補完したdfをexport.csvというファイル名でcsvとして出力してください。インデックスの出力は不要です。"
      ],
      "metadata": {
        "id": "gphgXLHGJ798"
      },
      "execution_count": 69,
      "outputs": []
    },
    {
      "cell_type": "markdown",
      "source": [
        "#Matplotlib"
      ],
      "metadata": {
        "id": "J-OMgQX6bM-a"
      }
    },
    {
      "cell_type": "code",
      "source": [
        "# 01. 折れ線グラフ\n",
        "# 以下のコード作成した変数 x と y を用いて折れ線グラフを出力してください。\n",
        "\n",
        "# x = np.arange(10)\n",
        "# y = np.random.randint(-10,10,10)"
      ],
      "metadata": {
        "id": "IV3YWFDMaVk2"
      },
      "execution_count": 73,
      "outputs": []
    },
    {
      "cell_type": "code",
      "source": [
        "# 02. 散布図\n",
        "# 以下のコードを作成した変数 x1,x2と y1,y2を用いて散布図を出力してください。\n",
        "\n",
        "# x1 = np.random.randint(10,20,20)\n",
        "# x2 = np.random.randint(20,30,20)\n",
        "# y1 = np.random.randint(50,100,20)\n",
        "# y2 = np.random.randint(0,40,20)"
      ],
      "metadata": {
        "id": "tPgAhb3uN60h"
      },
      "execution_count": 76,
      "outputs": []
    },
    {
      "cell_type": "code",
      "source": [
        "# 03. ヒストグラム\n",
        "# 以下のコードで用意したデータを用いてヒストグラムを作成してください\n",
        "\n",
        "# data = np.random.randint(0,10,10)"
      ],
      "metadata": {
        "id": "1fDmTFooN62O"
      },
      "execution_count": 78,
      "outputs": []
    },
    {
      "cell_type": "code",
      "source": [
        "# 04. 棒グラフ\n",
        "# 以下のコードで作成した変数 x と y を用いて棒グラフを出力してください。\n",
        "\n",
        "# x = [\"Sam\",\"John\",\"Kevin\",\"Adam\"]\n",
        "# y = np.random.randint(0,200,4)"
      ],
      "metadata": {
        "id": "UbHsiKeeN63f"
      },
      "execution_count": 84,
      "outputs": []
    },
    {
      "cell_type": "code",
      "source": [
        "# 05. タイトルとラベル\n",
        "# グラフの詳細制定について編集を行っていきます。\n",
        "# Matplotlibの公式ドキュメントにあるグラフで設定できる機能を順に試していきます。\n",
        "\n",
        "# まずは問題１で作成したグラフにタイトルResultを付けて下さい。\n",
        "# また x 軸にはx axis y 軸には y axisというラベルも付けて下さい。\n",
        "\n",
        "# x = np.arange(10)\n",
        "# y = np.random.randint(-10,10,10)\n",
        "# plt.plot(x,y)"
      ],
      "metadata": {
        "id": "yFgs-DPxN65f"
      },
      "execution_count": 86,
      "outputs": []
    },
    {
      "cell_type": "code",
      "source": [
        "# 06. 軸範囲\n",
        "# 範囲グラフの軸範囲を指定します。先ほど問題にで作成した散布図を使います。\n",
        "# こちらのグラフの x 軸の範囲を0~40とし,y軸の範囲を0~120としてください。\n",
        "\n",
        "# x1 = np.random.randint(10,20,20)\n",
        "# x2 = np.random.randint(20,30,20)\n",
        "# y1 = np.random.randint(50,100,20)\n",
        "# y2 = np.random.randint(0,40,20)\n",
        "\n",
        "# plt.scatter(x1,y1)\n",
        "# plt.scatter(x2,y2)\n"
      ],
      "metadata": {
        "id": "fJqSXldTN67U"
      },
      "execution_count": 88,
      "outputs": []
    },
    {
      "cell_type": "code",
      "source": [
        "# 07. 対数軸\n",
        "# 下記のグラフにおいて軸のスケールをlog(対数関数)に調整してみてください\n",
        "\n",
        "# x = np.linspace(0,10,500)\n",
        "# y = np.exp(x) - 指数関数\n",
        "\n",
        "# plt.plot(x,y)"
      ],
      "metadata": {
        "id": "J370jnNYN689"
      },
      "execution_count": 91,
      "outputs": []
    },
    {
      "cell_type": "code",
      "source": [
        "# 08. 凡例\n",
        "# 以下のコードを実行したグラフに対しsin,cosという判例をつけたグラフを作成してください\n",
        "\n",
        "# x = np.linspace(0,2*np.pi, 500)\n",
        "# y1 = np.sin(x)\n",
        "# y2 = np.cos(x)\n",
        "\n",
        "# plt.plot(x, y1)\n",
        "# plt.plot(x, y2)\n",
        "\n",
        "# plt.ylim(-2,2)"
      ],
      "metadata": {
        "id": "B2oeHrc1N6-w"
      },
      "execution_count": 95,
      "outputs": []
    },
    {
      "cell_type": "code",
      "source": [
        "# 09. マーカの種類・サイズ変更\n",
        "\n",
        "# 以下の散布図のマーカーの種類とサイズを変更してみてください\n",
        "# マーカ:星,サイズ:80\n",
        "# マーカ:三角形,サイズ:60\n",
        "# マーカ:x,サイズ:30\n",
        "\n",
        "# x1 = np.random.randint(10,35,20)\n",
        "# x2 = np.random.randint(5,45,20)\n",
        "# x3 = np.random.randint(0,40,20)\n",
        "# y1 = np.random.randint(50,100,20)\n",
        "# y2 = np.random.randint(0,40,20)\n",
        "# y3 = np.random.randint(20,80,20)\n",
        "\n",
        "# plt.scatter(x1,y1)\n",
        "# plt.scatter(x2,y2)\n",
        "# plt.scatter(x3,y3)"
      ],
      "metadata": {
        "id": "nMVtPRm5N7AV"
      },
      "execution_count": 98,
      "outputs": []
    },
    {
      "cell_type": "code",
      "source": [
        "# 10. 注釈\n",
        "# 以下のゴールで作成したグラフに注釈を加えましょう。\n",
        "# 最小値となる部分に対して矢印を使ってmin valueというテキストを表示してください.\n",
        "\n",
        "# data = [5,3,4,2,0,3,2,1,4,6,8,5]\n",
        "\n",
        "# plt.plot(data)"
      ],
      "metadata": {
        "id": "RfUF_lOsN7CW"
      },
      "execution_count": 103,
      "outputs": []
    },
    {
      "cell_type": "code",
      "source": [
        "# 11. 目盛り\n",
        "# 先ほどのグラフの目盛りは,x軸がゼロから11までの2刻み y軸が0~8まで1刻みとなっています/\n",
        "# こちらのx軸を1刻み,y軸を2刻みとなるように変更してください。\n",
        "\n",
        "# data = [5,3,4,2,0,3,2,1,4,6,8,5]\n",
        "\n",
        "# plt.plot(data)\n",
        "# plt.annotate(\"min value\",xy = (4.2,0), xytext = (9,1), arrowprops = dict(facecolor = \"black\",shrink = 0.05))"
      ],
      "metadata": {
        "id": "jErPU2oyN7D6"
      },
      "execution_count": 112,
      "outputs": []
    },
    {
      "cell_type": "code",
      "source": [
        "# 12. グリッド線\n",
        "# グラフにグリッド線を追加してください\n",
        "\n",
        "# data = [5,3,4,2,0,3,2,1,4,6,8,5]\n",
        "\n",
        "# plt.plot(data)"
      ],
      "metadata": {
        "id": "9SCAg1IYN7Fu"
      },
      "execution_count": 119,
      "outputs": []
    },
    {
      "cell_type": "code",
      "source": [
        "# 13. 複数グラフの表示\n",
        "# 以下のデータに対し,異なる形状のグラフを横並びに3つ表示してください。\n",
        "\n",
        "# names = [\"Sam\",\"John\",\"Kevin\",\"Adam\"]\n",
        "# values = [60,170,10,120]\n",
        "# 棒グラフ(plt.bar())\n",
        "# 散布図(plt.scatter())\n",
        "# 折れ線グラフ(plt.plot())\n",
        "\n",
        "# ただし3つのグラフを表示する全体のグラフサイズは横9インチ,横3インチとしてください"
      ],
      "metadata": {
        "id": "jfgYd0k5N7Hj"
      },
      "execution_count": 126,
      "outputs": []
    },
    {
      "cell_type": "code",
      "source": [
        "# 14. ヒートマップ \n",
        "# 以下のコードで用意した10*10のデータに対し、最小値0が白色で最大値1が青色となるカラーマップ使ってヒートマップを作成してください。\n",
        "\n",
        "# data = np.random.rand(10,10)\n"
      ],
      "metadata": {
        "id": "TB1Eo51NN7JI"
      },
      "execution_count": 135,
      "outputs": []
    },
    {
      "cell_type": "code",
      "source": [
        "# 15. 3次元グラフ\n",
        "# 次のデータを使って3次元に点をプロットしてみてください。\n",
        "# こちらのデータは z軸真上方向に螺旋のような動きをしながら伸びていくものとなっております。\n",
        "\n",
        "# theta = np.linspace(-4 * np.pi, 4 * np.pi, 100)\n",
        "# z = np.linspace(-2,2,100) \n",
        "# r = z**2+1\n",
        "# x = r * np.sin(theta)\n",
        "# y = r * np.cos(theta)\n",
        "\n",
        "# 3次元グラフに必要モジュール\n",
        "\n",
        "# from mpl_toolkits.mplot3d import Axes3D"
      ],
      "metadata": {
        "id": "iVIHiJRAN7K8"
      },
      "execution_count": 139,
      "outputs": []
    },
    {
      "cell_type": "code",
      "source": [
        "# 16. 円グラフ\n",
        "# 以下にに用意したデータを使って円グラフを作成してください\n",
        " \n",
        "# x = np.array([100,200,300,400,500])\n",
        "# labels = [\"Apple\",\"Banana\",\"Orange\",\"Grape\",\"Strawberry\"]\n",
        "# colors = [\"red\",\"yellow\",\"orange\",\"purple\",\"pink\"]"
      ],
      "metadata": {
        "id": "2dAD8O39N7Mk"
      },
      "execution_count": 148,
      "outputs": []
    },
    {
      "cell_type": "code",
      "source": [
        "# 17. GUIウィジェット\n",
        "# 以下のコードで作成した散布図上にカーソルを持っていくとカーソルの座標が表示されるようにしてください。\n",
        "\n",
        "# fig = plt.figure(figsize=(8,6))\n",
        "# ax = fig.add_subplot(111,facecolor=\"#FFFFCC\")\n",
        "\n",
        "# x,y = 4*(np.random.rand(2,100) -.5)\n",
        "# ax.plot(x,y,\"o\")\n",
        "# ax.set_xlim(-2,2)\n",
        "# ax.set_ylim(-2,2)\n",
        "\n",
        "# plt.show()"
      ],
      "metadata": {
        "id": "f7xUyQNnN7OJ"
      },
      "execution_count": null,
      "outputs": []
    },
    {
      "cell_type": "code",
      "source": [
        "# 18. 演習問題1\n",
        "# 下の2つのグラフを一つのグラフ(figsize=(9,6)として縦に二つ並べた形に修正してください。\n",
        "\n",
        "# グラフ1\n",
        "# x = np.arange(10)\n",
        "# y = np.random.randint(-10,10,10)\n",
        "# plt.plot(x,y)\n",
        "# plt.title(\"Result\")\n",
        "# plt.xlabel(\"x axis\")\n",
        "# plt.ylabel(\"y axis\")\n",
        "\n",
        "# グラフ2\n",
        "# x = [\"Sam\",\"John\",\"Kevin\",\"Adam\"]\n",
        "# y = np.random.randint(0,200,4)\n",
        "# plt.bar(x,y)"
      ],
      "metadata": {
        "id": "piUJNWuYN7QG"
      },
      "execution_count": 153,
      "outputs": []
    },
    {
      "cell_type": "code",
      "source": [
        "# 19. 演習問題2\n",
        "# 次のデータを使って以下の図のようなグラフを作成してください\n",
        "\n",
        "# label = \"Chips\",\"Hotdogs\",\"Cookies\",\"Chocolates\"\n",
        "# sizes = [15,30,45,10]\n",
        "\n",
        "# なお、円グラフの特徴は以下になります\n",
        "# 円グラフ(Hogsのみ半径10%分のオフカット)\n",
        "# 影あり\n",
        "# 少数点以下1桁%まで表示する\n",
        "# 0時の位置から反時計回りに始まる"
      ],
      "metadata": {
        "id": "jTyD6AKEN7R8"
      },
      "execution_count": 163,
      "outputs": []
    },
    {
      "cell_type": "code",
      "source": [
        "# 20. 演習問題3\n",
        "# 次の3つの異なるデータを使って以下の図のような積み上げタイプのヒストグラムを作成してください。\n",
        "# ただしビンの数は10としています\n",
        "\n",
        "# mu1,sigma1 = 100,15\n",
        "# mu2,sigma2 = 90,20\n",
        "# mu3,sigma3 = 110,10\n",
        "\n",
        "# x1 = mu1 + sigma1 * np.random.randn(100)\n",
        "# x2 = mu2 + sigma2 * np.random.randn(100)\n",
        "# x3 = mu3 + sigma3 * np.random.randn(100)"
      ],
      "metadata": {
        "id": "KSLnJRMfN7TW"
      },
      "execution_count": 176,
      "outputs": []
    }
  ]
}